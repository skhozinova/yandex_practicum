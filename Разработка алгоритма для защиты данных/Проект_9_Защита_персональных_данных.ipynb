{
 "cells": [
  {
   "cell_type": "markdown",
   "metadata": {
    "toc": true
   },
   "source": [
    "<h1>Содержание<span class=\"tocSkip\"></span></h1>\n",
    "<div class=\"toc\"><ul class=\"toc-item\"><li><span><a href=\"#Загрузка-данных\" data-toc-modified-id=\"Загрузка-данных-1\"><span class=\"toc-item-num\">1&nbsp;&nbsp;</span>Загрузка данных</a></span></li><li><span><a href=\"#Умножение-матриц\" data-toc-modified-id=\"Умножение-матриц-2\"><span class=\"toc-item-num\">2&nbsp;&nbsp;</span>Умножение матриц</a></span></li><li><span><a href=\"#Алгоритм-преобразования\" data-toc-modified-id=\"Алгоритм-преобразования-3\"><span class=\"toc-item-num\">3&nbsp;&nbsp;</span>Алгоритм преобразования</a></span></li><li><span><a href=\"#Проверка-алгоритма\" data-toc-modified-id=\"Проверка-алгоритма-4\"><span class=\"toc-item-num\">4&nbsp;&nbsp;</span>Проверка алгоритма</a></span></li><li><span><a href=\"#Чек-лист-проверки\" data-toc-modified-id=\"Чек-лист-проверки-5\"><span class=\"toc-item-num\">5&nbsp;&nbsp;</span>Чек-лист проверки</a></span></li></ul></div>"
   ]
  },
  {
   "cell_type": "markdown",
   "metadata": {},
   "source": [
    "# Защита персональных данных клиентов"
   ]
  },
  {
   "cell_type": "markdown",
   "metadata": {},
   "source": [
    "Вам нужно защитить данные клиентов страховой компании «Хоть потоп». Разработайте такой метод преобразования данных, чтобы по ним было сложно восстановить персональную информацию. Обоснуйте корректность его работы.\n",
    "\n",
    "Нужно защитить данные, чтобы при преобразовании качество моделей машинного обучения не ухудшилось. Подбирать наилучшую модель не требуется."
   ]
  },
  {
   "cell_type": "markdown",
   "metadata": {},
   "source": [
    "## Загрузка данных"
   ]
  },
  {
   "cell_type": "code",
   "execution_count": 1,
   "metadata": {},
   "outputs": [],
   "source": [
    "import pandas as pd\n",
    "import numpy as np\n",
    "from sklearn.model_selection import train_test_split\n",
    "from sklearn.preprocessing import StandardScaler\n",
    "from sklearn.pipeline import Pipeline\n",
    "from sklearn.linear_model import LinearRegression\n",
    "from sklearn.metrics import r2_score"
   ]
  },
  {
   "cell_type": "code",
   "execution_count": 2,
   "metadata": {},
   "outputs": [
    {
     "name": "stdout",
     "output_type": "stream",
     "text": [
      "<class 'pandas.core.frame.DataFrame'>\n",
      "RangeIndex: 5000 entries, 0 to 4999\n",
      "Data columns (total 5 columns):\n",
      "Пол                  5000 non-null int64\n",
      "Возраст              5000 non-null float64\n",
      "Зарплата             5000 non-null float64\n",
      "Члены семьи          5000 non-null int64\n",
      "Страховые выплаты    5000 non-null int64\n",
      "dtypes: float64(2), int64(3)\n",
      "memory usage: 195.4 KB\n"
     ]
    }
   ],
   "source": [
    "data = pd.read_csv('/datasets/insurance.csv')\n",
    "data.info()"
   ]
  },
  {
   "cell_type": "code",
   "execution_count": 3,
   "metadata": {},
   "outputs": [
    {
     "data": {
      "text/html": [
       "<div>\n",
       "<style scoped>\n",
       "    .dataframe tbody tr th:only-of-type {\n",
       "        vertical-align: middle;\n",
       "    }\n",
       "\n",
       "    .dataframe tbody tr th {\n",
       "        vertical-align: top;\n",
       "    }\n",
       "\n",
       "    .dataframe thead th {\n",
       "        text-align: right;\n",
       "    }\n",
       "</style>\n",
       "<table border=\"1\" class=\"dataframe\">\n",
       "  <thead>\n",
       "    <tr style=\"text-align: right;\">\n",
       "      <th></th>\n",
       "      <th>Пол</th>\n",
       "      <th>Возраст</th>\n",
       "      <th>Зарплата</th>\n",
       "      <th>Члены семьи</th>\n",
       "      <th>Страховые выплаты</th>\n",
       "    </tr>\n",
       "  </thead>\n",
       "  <tbody>\n",
       "    <tr>\n",
       "      <td>94</td>\n",
       "      <td>0</td>\n",
       "      <td>32.0</td>\n",
       "      <td>33300.0</td>\n",
       "      <td>0</td>\n",
       "      <td>0</td>\n",
       "    </tr>\n",
       "    <tr>\n",
       "      <td>3859</td>\n",
       "      <td>0</td>\n",
       "      <td>22.0</td>\n",
       "      <td>46800.0</td>\n",
       "      <td>2</td>\n",
       "      <td>0</td>\n",
       "    </tr>\n",
       "    <tr>\n",
       "      <td>352</td>\n",
       "      <td>0</td>\n",
       "      <td>31.0</td>\n",
       "      <td>32900.0</td>\n",
       "      <td>1</td>\n",
       "      <td>0</td>\n",
       "    </tr>\n",
       "    <tr>\n",
       "      <td>3511</td>\n",
       "      <td>1</td>\n",
       "      <td>26.0</td>\n",
       "      <td>51100.0</td>\n",
       "      <td>1</td>\n",
       "      <td>0</td>\n",
       "    </tr>\n",
       "    <tr>\n",
       "      <td>3405</td>\n",
       "      <td>1</td>\n",
       "      <td>22.0</td>\n",
       "      <td>45000.0</td>\n",
       "      <td>4</td>\n",
       "      <td>0</td>\n",
       "    </tr>\n",
       "    <tr>\n",
       "      <td>3251</td>\n",
       "      <td>0</td>\n",
       "      <td>49.0</td>\n",
       "      <td>25900.0</td>\n",
       "      <td>1</td>\n",
       "      <td>2</td>\n",
       "    </tr>\n",
       "    <tr>\n",
       "      <td>3933</td>\n",
       "      <td>1</td>\n",
       "      <td>27.0</td>\n",
       "      <td>30000.0</td>\n",
       "      <td>1</td>\n",
       "      <td>0</td>\n",
       "    </tr>\n",
       "    <tr>\n",
       "      <td>976</td>\n",
       "      <td>1</td>\n",
       "      <td>30.0</td>\n",
       "      <td>37000.0</td>\n",
       "      <td>3</td>\n",
       "      <td>0</td>\n",
       "    </tr>\n",
       "    <tr>\n",
       "      <td>3170</td>\n",
       "      <td>0</td>\n",
       "      <td>36.0</td>\n",
       "      <td>54000.0</td>\n",
       "      <td>3</td>\n",
       "      <td>0</td>\n",
       "    </tr>\n",
       "    <tr>\n",
       "      <td>1145</td>\n",
       "      <td>1</td>\n",
       "      <td>21.0</td>\n",
       "      <td>50600.0</td>\n",
       "      <td>2</td>\n",
       "      <td>0</td>\n",
       "    </tr>\n",
       "  </tbody>\n",
       "</table>\n",
       "</div>"
      ],
      "text/plain": [
       "      Пол  Возраст  Зарплата  Члены семьи  Страховые выплаты\n",
       "94      0     32.0   33300.0            0                  0\n",
       "3859    0     22.0   46800.0            2                  0\n",
       "352     0     31.0   32900.0            1                  0\n",
       "3511    1     26.0   51100.0            1                  0\n",
       "3405    1     22.0   45000.0            4                  0\n",
       "3251    0     49.0   25900.0            1                  2\n",
       "3933    1     27.0   30000.0            1                  0\n",
       "976     1     30.0   37000.0            3                  0\n",
       "3170    0     36.0   54000.0            3                  0\n",
       "1145    1     21.0   50600.0            2                  0"
      ]
     },
     "execution_count": 3,
     "metadata": {},
     "output_type": "execute_result"
    }
   ],
   "source": [
    "data.sample(10)"
   ]
  },
  {
   "cell_type": "code",
   "execution_count": 4,
   "metadata": {},
   "outputs": [],
   "source": [
    "#замена типа данных в столбцах Возраст и Зарплата на целочисленный, т.к.в записях этих столбцов отсуствуют дробные части\n",
    "data['Возраст'] = data['Возраст'].astype('int')\n",
    "data['Зарплата'] = data['Зарплата'].astype('int')"
   ]
  },
  {
   "cell_type": "code",
   "execution_count": 5,
   "metadata": {},
   "outputs": [
    {
     "name": "stdout",
     "output_type": "stream",
     "text": [
      "<class 'pandas.core.frame.DataFrame'>\n",
      "RangeIndex: 5000 entries, 0 to 4999\n",
      "Data columns (total 5 columns):\n",
      "Пол                  5000 non-null int64\n",
      "Возраст              5000 non-null int64\n",
      "Зарплата             5000 non-null int64\n",
      "Члены семьи          5000 non-null int64\n",
      "Страховые выплаты    5000 non-null int64\n",
      "dtypes: int64(5)\n",
      "memory usage: 195.4 KB\n"
     ]
    }
   ],
   "source": [
    "data.info()"
   ]
  },
  {
   "cell_type": "markdown",
   "metadata": {},
   "source": [
    "**Вывод**\n",
    "\n",
    "Данные загружены и изучены, не имеют пропущенных значений, различного рода аномалий не наблюдается, выполнено изменение типов."
   ]
  },
  {
   "cell_type": "markdown",
   "metadata": {},
   "source": [
    "## Умножение матриц"
   ]
  },
  {
   "cell_type": "markdown",
   "metadata": {},
   "source": [
    "В этом задании вы можете записывать формулы в *Jupyter Notebook.*\n",
    "\n",
    "Чтобы записать формулу внутри текста, окружите её символами доллара \\\\$; если снаружи —  двойными символами \\\\$\\\\$. Эти формулы записываются на языке вёрстки *LaTeX.* \n",
    "\n",
    "Для примера мы записали формулы линейной регрессии. Можете их скопировать и отредактировать, чтобы решить задачу.\n",
    "\n",
    "Работать в *LaTeX* необязательно."
   ]
  },
  {
   "cell_type": "markdown",
   "metadata": {},
   "source": [
    "Обозначения:\n",
    "\n",
    "- $X$ — матрица признаков (нулевой столбец состоит из единиц)\n",
    "\n",
    "- $y$ — вектор целевого признака\n",
    "\n",
    "- $P$ — матрица, на которую умножаются признаки\n",
    "\n",
    "- $w$ — вектор весов линейной регрессии (нулевой элемент равен сдвигу)"
   ]
  },
  {
   "cell_type": "markdown",
   "metadata": {},
   "source": [
    "Предсказания:\n",
    "\n",
    "$$\n",
    "a = Xw\n",
    "$$\n",
    "\n",
    "Задача обучения:\n",
    "\n",
    "$$\n",
    "w = \\arg\\min_w MSE(Xw, y)\n",
    "$$\n",
    "\n",
    "Формула обучения:\n",
    "\n",
    "$$\n",
    "w = (X^T X)^{-1} X^T y\n",
    "$$"
   ]
  },
  {
   "cell_type": "markdown",
   "metadata": {},
   "source": [
    "Признаки умножают на обратимую матрицу. Изменится ли качество линейной регрессии? (Её можно обучить заново.)\n",
    " - a. Изменится. Приведите примеры матриц.\n",
    " - b. Не изменится. Укажите, как связаны параметры линейной регрессии в исходной задаче и в преобразованной."
   ]
  },
  {
   "cell_type": "markdown",
   "metadata": {},
   "source": [
    "**Ответ:** \n",
    "\n",
    "Не изменится\n",
    "\n",
    "**Обоснование:** \n",
    "\n",
    "Заменим матрицу $X$ на матрицу $Z$:\n",
    "\n",
    "$$\n",
    "Z = XP \\qquad (2.1)\n",
    "$$\n",
    "где $P$ - обратимая матрица с некими значениями, на которую может быть умножена матрица $X$.\n",
    "\n",
    "\n",
    "Заменим $X$ на $Z$ и вычислим, чему будет равено предсказание и вектор весов.\n",
    "\n",
    "$$\n",
    "a_1 = Zw_1 \\qquad (2.2)\n",
    "$$$$\n",
    "w_1 = (Z^T Z)^{-1} Z^T y \\qquad (2.3)\n",
    "$$\n",
    "Подставим уравнение 2.2 правую часть уравнения 2.3 и получим следущее:\n",
    "\n",
    "$$\n",
    "a_1 = Z (Z^T Z)^{-1} Z^T y \\qquad (2.4)\n",
    "$$\n",
    "Заменим все $Z$ правой частью уравнения 2.1:\n",
    "\n",
    "$$\n",
    "a_1 = XP ((XP)^T (XP))^{-1} (XP)^T y \\qquad (2.5)\n",
    "$$\n",
    "Для следующего шага понадобится следующее свойсво обратной матрицы:\n",
    "\n",
    "$$\n",
    "(AB)^{-1} = B^{-1} A^{-1}\n",
    "$$\n",
    "Раскроем $((XP)^T (XP))^{-1}$ в два шага:\n",
    "\n",
    "$$\n",
    "a_1 = XP ((XP)^T (XP))^{-1} (XP)^T y = XP(XP)^{-1}((XP)^T)^{-1} (XP)^T y = XPP^{-1}X^{-1}((XP)^T)^{-1} (XP)^T y  \\qquad (2.6)\n",
    "$$\n",
    "Умножение приведет к $PP^{-1} = E$. Для следуюзего этапа воспользуемся свойством транспорнированной матрицы:\n",
    "\n",
    "$$\n",
    "(AB)^T = B^T A^T\n",
    "$$\n",
    "Умножение на единичную матрицу ничего не меняет. Раскроем $((XP)^T)^{-1} (XP)^T$ в три шага:\n",
    "\n",
    "$$\n",
    "a_1 = XEX^{-1}((XP)^T)^{-1} (XP)^T y = XX^{-1}(P^T X^T)^{-1} P^T X^T y = XX^{-1} (X^T)^{-1} (P^T)^{-1}  P^T X^T y   \\qquad (2.7)\n",
    "$$\n",
    "Умножение приведет к $(P^T)^{-1}  P^T = E$. Посмотрим, что осталось от уравнения 2.7:\n",
    "\n",
    "$$\n",
    "a_1 = XX^{-1} (X^T)^{-1} E X^T y = X(X^T X)^{-1} X^T y = Xw = a  \\qquad (2.8)\n",
    "$$\n",
    "Как видно, значение предсказания $a$ не меняется, если умножать матрицу признаков на обратимую матрицу."
   ]
  },
  {
   "cell_type": "markdown",
   "metadata": {},
   "source": [
    "Формула обучения:\n",
    "\n",
    "$$\n",
    "w = (X^T X)^{-1} X^T y\n",
    "$$\n",
    "При подстановке в формулы вместо X - XP, получаем:\n",
    "\n",
    "Предсказания:\n",
    "\n",
    "$$\n",
    "a = XPw\n",
    "$$\n",
    "Формула обучения:\n",
    "\n",
    "$$\n",
    "w = ((XP)^T XP)^{-1} (XP)^T y\n",
    "$$\n",
    "Тогда формула предсказания:$$\n",
    "a = XP((XP)^T XP)^{-1} (XP)^T y\n",
    "$$\n",
    "\n",
    "При раскрытии скобок для транспонируемых матриц меняется порядок умножения:\n",
    "\n",
    "$$\n",
    "a = XP(P^T X^T XP)^{-1} P^T X^T y\n",
    "$$\n",
    "Далее раскрываем скобки для инверсии, порядок снова меняется:\n",
    "\n",
    "$$\n",
    "a = XP(P)^{-1}(P^T X^T X)^{-1} P^T X^T y\n",
    "$$$$\n",
    "a = XP(P)^{-1}(X^T X)^{-1} P^{T^{-1}} P^T X^T y\n",
    "$$\n",
    "Произведение матрицы на обратную даёт единичную матрицу:\n",
    "\n",
    "$$\n",
    "a = XE(X^T X)^{-1} E X^T y\n",
    "$$\n",
    "И умножение на единичную матрицу оставляет исходную матрицу, получаем:\n",
    "\n",
    "$$\n",
    "a = X(X^T X)^{-1} X^T y\n",
    "$$\n",
    "что эквивалентно формуле предсказаний, для исходного набора признаков:\n",
    "\n",
    "$$\n",
    "a = Xw\n",
    "$$"
   ]
  },
  {
   "cell_type": "markdown",
   "metadata": {},
   "source": [
    "## Алгоритм преобразования"
   ]
  },
  {
   "cell_type": "markdown",
   "metadata": {},
   "source": [
    "**Алгоритм**\n",
    "\n",
    "1. Составление матрицы $Y$.\n",
    "2. Проверка матрицы на обратимость. Вычисление детерминанта матрицы $Y$.\n",
    "3. Получение матрицы преобразованных признаков $Z = XY$.\n",
    "4. Применение алгоритма на преобразованных признаках $Z$."
   ]
  },
  {
   "cell_type": "markdown",
   "metadata": {},
   "source": [
    "**Обоснование**\n",
    "\n",
    "Матрица $Y$ должна иметь необходимую размерность $(nxn)$, где n - количество признаков для регрессии. Таким образом матрица $Z$ будет иметь туже размерность, что и матрица $X$. Обратная матрица $Y$ существует только для квадратных невырожденных матриц (определитель которых не равен нулю).\n",
    "\n",
    "Пример:\n",
    "\n",
    "$\n",
    "X = \\begin{pmatrix}\n",
    "1 &amp; 2 \\\\\n",
    "2 &amp; 3 \\\\\n",
    "4 &amp; 5  \n",
    "\\end{pmatrix}\n",
    "\\qquad \n",
    "Y = \\begin{pmatrix}\n",
    "1 &amp; 0 \\\\\n",
    "2 &amp; 3 \\\\  \n",
    "\\end{pmatrix}\n",
    "\\qquad det  Y = 3 $\n",
    "\n",
    "Найдем значние Z:\n",
    "\n",
    "$\n",
    "Z = \\begin{pmatrix}\n",
    "1 &amp; 2 \\\\\n",
    "2 &amp; 3 \\\\\n",
    "4 &amp; 5  \n",
    "\\end{pmatrix} \\begin{pmatrix}\n",
    "1 &amp; 0 \\\\\n",
    "2 &amp; 3 \\\\  \n",
    "\\end{pmatrix} = \\begin{pmatrix}\n",
    "1*1+2*2 &amp; 1*0+2*3  \\\\\n",
    "2*1+3*2 &amp; 2*0+3*3  \\\\\n",
    "4*1+5*2 &amp; 4*0+5*3   \n",
    "\\end{pmatrix} = \\begin{pmatrix}\n",
    "5 &amp; 6 \\\\\n",
    "8 &amp; 9 \\\\\n",
    "14 &amp; 15  \n",
    "\\end{pmatrix}$\n",
    "\n",
    "После этого добавляем нулевой столбец и вводим данные в линейную регрессию."
   ]
  },
  {
   "cell_type": "code",
   "execution_count": 7,
   "metadata": {},
   "outputs": [
    {
     "data": {
      "text/plain": [
       "array([ 7.92580563e-03,  3.57083050e-02, -1.70081903e-07, -1.35676627e-02])"
      ]
     },
     "metadata": {},
     "output_type": "display_data"
    },
    {
     "data": {
      "text/plain": [
       "array([ 7.92580563e-03,  3.57083050e-02, -1.70081903e-07, -1.35676627e-02])"
      ]
     },
     "execution_count": 7,
     "metadata": {},
     "output_type": "execute_result"
    }
   ],
   "source": [
    "X = np.concatenate((np.ones((features.shape[0], 1)), features), axis=1)\n",
    "y = target\n",
    "w = np.linalg.inv(X.T @ X) @ X.T @ y\n",
    "display(w[1:])\n",
    "model = LinearRegression()\n",
    "model.fit(features, target)\n",
    "model.coef_"
   ]
  },
  {
   "cell_type": "markdown",
   "metadata": {},
   "source": [
    "Проведем исследование модели без преобразования и с преобразованием."
   ]
  },
  {
   "cell_type": "code",
   "execution_count": 9,
   "metadata": {},
   "outputs": [],
   "source": [
    "#разбиение данные на обучающие и тестовые выборки\n",
    "features_train, features_test, target_train, target_test = train_test_split(features, target, test_size=0.25, random_state=7072020)"
   ]
  },
  {
   "cell_type": "code",
   "execution_count": 11,
   "metadata": {},
   "outputs": [
    {
     "name": "stdout",
     "output_type": "stream",
     "text": [
      "R2 = 0.4184108158256682\n"
     ]
    }
   ],
   "source": [
    "#без преобразования признаков\n",
    "model = LinearRegression()\n",
    "model.fit(features_train, target_train)\n",
    "R2_LR_origin_data = r2_score(target_test, model.predict(features_test))\n",
    "print(\"R2 =\", R2_LR_origin_data)"
   ]
  },
  {
   "cell_type": "code",
   "execution_count": 17,
   "metadata": {},
   "outputs": [],
   "source": [
    "#преобразование признаков\n",
    "def cipher_features(features):\n",
    "    crypted_features = features\n",
    "    n = features.shape[1]\n",
    "    np.random.seed(7072020)\n",
    "    cipher_matrix = np.random.randint(1, 10, (n,n))\n",
    "    det = np.linalg.det(cipher_matrix)\n",
    "    while det == 0:\n",
    "        np.random.seed(7072021)\n",
    "        cipher_matrix = np.random.randint(1, 10, (n,n))\n",
    "        det = np.linalg.det(cipher_matrix)\n",
    "    crypted_features = crypted_features.dot(cipher_matrix)\n",
    "    return crypted_features, cipher_matrix"
   ]
  },
  {
   "cell_type": "code",
   "execution_count": 18,
   "metadata": {},
   "outputs": [
    {
     "data": {
      "text/html": [
       "<div>\n",
       "<style scoped>\n",
       "    .dataframe tbody tr th:only-of-type {\n",
       "        vertical-align: middle;\n",
       "    }\n",
       "\n",
       "    .dataframe tbody tr th {\n",
       "        vertical-align: top;\n",
       "    }\n",
       "\n",
       "    .dataframe thead th {\n",
       "        text-align: right;\n",
       "    }\n",
       "</style>\n",
       "<table border=\"1\" class=\"dataframe\">\n",
       "  <thead>\n",
       "    <tr style=\"text-align: right;\">\n",
       "      <th></th>\n",
       "      <th>0</th>\n",
       "      <th>1</th>\n",
       "      <th>2</th>\n",
       "      <th>3</th>\n",
       "    </tr>\n",
       "  </thead>\n",
       "  <tbody>\n",
       "    <tr>\n",
       "      <td>0</td>\n",
       "      <td>397184</td>\n",
       "      <td>49981</td>\n",
       "      <td>99373</td>\n",
       "      <td>248097</td>\n",
       "    </tr>\n",
       "    <tr>\n",
       "      <td>1</td>\n",
       "      <td>304422</td>\n",
       "      <td>38421</td>\n",
       "      <td>76185</td>\n",
       "      <td>190101</td>\n",
       "    </tr>\n",
       "    <tr>\n",
       "      <td>2</td>\n",
       "      <td>168261</td>\n",
       "      <td>21261</td>\n",
       "      <td>42116</td>\n",
       "      <td>105058</td>\n",
       "    </tr>\n",
       "    <tr>\n",
       "      <td>3</td>\n",
       "      <td>333805</td>\n",
       "      <td>41903</td>\n",
       "      <td>83486</td>\n",
       "      <td>208560</td>\n",
       "    </tr>\n",
       "    <tr>\n",
       "      <td>4</td>\n",
       "      <td>209059</td>\n",
       "      <td>26357</td>\n",
       "      <td>52320</td>\n",
       "      <td>130562</td>\n",
       "    </tr>\n",
       "  </tbody>\n",
       "</table>\n",
       "</div>"
      ],
      "text/plain": [
       "        0      1      2       3\n",
       "0  397184  49981  99373  248097\n",
       "1  304422  38421  76185  190101\n",
       "2  168261  21261  42116  105058\n",
       "3  333805  41903  83486  208560\n",
       "4  209059  26357  52320  130562"
      ]
     },
     "metadata": {},
     "output_type": "display_data"
    },
    {
     "data": {
      "text/html": [
       "<div>\n",
       "<style scoped>\n",
       "    .dataframe tbody tr th:only-of-type {\n",
       "        vertical-align: middle;\n",
       "    }\n",
       "\n",
       "    .dataframe tbody tr th {\n",
       "        vertical-align: top;\n",
       "    }\n",
       "\n",
       "    .dataframe thead th {\n",
       "        text-align: right;\n",
       "    }\n",
       "</style>\n",
       "<table border=\"1\" class=\"dataframe\">\n",
       "  <thead>\n",
       "    <tr style=\"text-align: right;\">\n",
       "      <th></th>\n",
       "      <th>0</th>\n",
       "      <th>1</th>\n",
       "      <th>2</th>\n",
       "      <th>3</th>\n",
       "    </tr>\n",
       "  </thead>\n",
       "  <tbody>\n",
       "    <tr>\n",
       "      <td>0</td>\n",
       "      <td>6009877</td>\n",
       "      <td>4271801</td>\n",
       "      <td>3824239</td>\n",
       "      <td>5212804</td>\n",
       "    </tr>\n",
       "    <tr>\n",
       "      <td>1</td>\n",
       "      <td>4607031</td>\n",
       "      <td>3274791</td>\n",
       "      <td>2931531</td>\n",
       "      <td>3995208</td>\n",
       "    </tr>\n",
       "    <tr>\n",
       "      <td>2</td>\n",
       "      <td>2546568</td>\n",
       "      <td>1810176</td>\n",
       "      <td>1620422</td>\n",
       "      <td>2208190</td>\n",
       "    </tr>\n",
       "    <tr>\n",
       "      <td>3</td>\n",
       "      <td>5050130</td>\n",
       "      <td>3589558</td>\n",
       "      <td>3213584</td>\n",
       "      <td>4381106</td>\n",
       "    </tr>\n",
       "    <tr>\n",
       "      <td>4</td>\n",
       "      <td>3163682</td>\n",
       "      <td>2248762</td>\n",
       "      <td>2013102</td>\n",
       "      <td>2743726</td>\n",
       "    </tr>\n",
       "  </tbody>\n",
       "</table>\n",
       "</div>"
      ],
      "text/plain": [
       "         0        1        2        3\n",
       "0  6009877  4271801  3824239  5212804\n",
       "1  4607031  3274791  2931531  3995208\n",
       "2  2546568  1810176  1620422  2208190\n",
       "3  5050130  3589558  3213584  4381106\n",
       "4  3163682  2248762  2013102  2743726"
      ]
     },
     "metadata": {},
     "output_type": "display_data"
    },
    {
     "data": {
      "text/plain": [
       "array([[7, 5, 8, 6],\n",
       "       [9, 9, 4, 2],\n",
       "       [8, 1, 2, 5],\n",
       "       [8, 7, 1, 9]])"
      ]
     },
     "execution_count": 18,
     "metadata": {},
     "output_type": "execute_result"
    }
   ],
   "source": [
    "display(features.head())\n",
    "features, cipher_matrix = cipher_features(features)\n",
    "display(features.head())\n",
    "cipher_matrix"
   ]
  },
  {
   "cell_type": "code",
   "execution_count": 19,
   "metadata": {},
   "outputs": [],
   "source": [
    "#разбиение данных на обучающую и тестовую выборки и проверка R2-значения\n",
    "features_train, features_test, target_train, target_test = train_test_split(features, target, test_size=0.25, random_state=7072020)"
   ]
  },
  {
   "cell_type": "code",
   "execution_count": 20,
   "metadata": {},
   "outputs": [
    {
     "name": "stdout",
     "output_type": "stream",
     "text": [
      "R2 = 0.41841081582575934\n"
     ]
    }
   ],
   "source": [
    "#с преобразованием признаков\n",
    "model = LinearRegression()\n",
    "model.fit(features_train, target_train)\n",
    "R2_LR_cipher_data = r2_score(target_test, model.predict(features_test))\n",
    "print(\"R2 =\", R2_LR_cipher_data)"
   ]
  },
  {
   "cell_type": "markdown",
   "metadata": {},
   "source": [
    "**Вывод**\n",
    "\n",
    "Применив метрику R2, проверка показала, что качество линейной регрессии не отличается до и после преобразования."
   ]
  }
 ],
 "metadata": {
  "ExecuteTimeLog": [
   {
    "duration": 1017,
    "start_time": "2021-08-30T20:07:18.494Z"
   },
   {
    "duration": 40,
    "start_time": "2021-08-30T20:07:20.674Z"
   },
   {
    "duration": 16,
    "start_time": "2021-08-30T20:08:01.105Z"
   },
   {
    "duration": 3,
    "start_time": "2021-08-30T20:08:42.975Z"
   },
   {
    "duration": 21,
    "start_time": "2021-08-30T20:08:43.577Z"
   },
   {
    "duration": 9,
    "start_time": "2021-08-30T20:08:44.582Z"
   },
   {
    "duration": 6,
    "start_time": "2021-08-30T20:13:26.938Z"
   },
   {
    "duration": 9,
    "start_time": "2021-08-30T20:13:53.923Z"
   },
   {
    "duration": 997,
    "start_time": "2021-08-30T20:15:13.420Z"
   },
   {
    "duration": 21,
    "start_time": "2021-08-30T20:15:14.419Z"
   },
   {
    "duration": 17,
    "start_time": "2021-08-30T20:15:14.442Z"
   },
   {
    "duration": 10,
    "start_time": "2021-08-30T20:15:14.461Z"
   },
   {
    "duration": 6,
    "start_time": "2021-08-30T20:17:35.695Z"
   },
   {
    "duration": 7,
    "start_time": "2021-08-30T20:17:45.529Z"
   },
   {
    "duration": 1031,
    "start_time": "2021-08-30T20:21:24.885Z"
   },
   {
    "duration": 21,
    "start_time": "2021-08-30T20:21:25.918Z"
   },
   {
    "duration": 15,
    "start_time": "2021-08-30T20:21:25.941Z"
   },
   {
    "duration": 5,
    "start_time": "2021-08-30T20:21:25.958Z"
   },
   {
    "duration": 8,
    "start_time": "2021-08-30T20:21:25.964Z"
   },
   {
    "duration": 4,
    "start_time": "2021-08-30T20:55:54.459Z"
   },
   {
    "duration": 13,
    "start_time": "2021-08-30T20:55:55.437Z"
   },
   {
    "duration": 85,
    "start_time": "2021-08-30T21:06:33.787Z"
   },
   {
    "duration": 6,
    "start_time": "2021-08-30T21:08:49.581Z"
   },
   {
    "duration": 8,
    "start_time": "2021-08-30T21:09:07.334Z"
   },
   {
    "duration": 8,
    "start_time": "2021-08-30T21:09:37.793Z"
   },
   {
    "duration": 10,
    "start_time": "2021-08-30T21:10:02.942Z"
   },
   {
    "duration": 4,
    "start_time": "2021-08-30T21:12:34.800Z"
   },
   {
    "duration": 13,
    "start_time": "2021-08-30T21:12:53.354Z"
   },
   {
    "duration": 5,
    "start_time": "2021-08-30T21:15:25.862Z"
   },
   {
    "duration": 6,
    "start_time": "2021-08-30T21:15:48.578Z"
   },
   {
    "duration": 4,
    "start_time": "2021-08-30T21:18:40.056Z"
   },
   {
    "duration": 13,
    "start_time": "2021-08-30T21:18:41.352Z"
   },
   {
    "duration": 6,
    "start_time": "2021-08-30T21:18:48.469Z"
   },
   {
    "duration": 8,
    "start_time": "2021-08-30T21:18:48.960Z"
   }
  ],
  "kernelspec": {
   "display_name": "Python 3",
   "language": "python",
   "name": "python3"
  },
  "language_info": {
   "codemirror_mode": {
    "name": "ipython",
    "version": 3
   },
   "file_extension": ".py",
   "mimetype": "text/x-python",
   "name": "python",
   "nbconvert_exporter": "python",
   "pygments_lexer": "ipython3",
   "version": "3.7.3"
  },
  "toc": {
   "base_numbering": 1,
   "nav_menu": {},
   "number_sections": true,
   "sideBar": true,
   "skip_h1_title": true,
   "title_cell": "Содержание",
   "title_sidebar": "Contents",
   "toc_cell": true,
   "toc_position": {},
   "toc_section_display": true,
   "toc_window_display": false
  }
 },
 "nbformat": 4,
 "nbformat_minor": 2
}
