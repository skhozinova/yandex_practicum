{
 "cells": [
  {
   "cell_type": "markdown",
   "metadata": {
    "toc": true
   },
   "source": [
    "<h1>Содержание<span class=\"tocSkip\"></span></h1>\n",
    "<div class=\"toc\"> <li><span><a href=\"#Подготовка-данных\" data-toc-modified-id=\"Подготовка-данных-1\"><span class=\"toc-item-num\">1&nbsp;&nbsp;</span>Подготовка данных</a></span></li><li><span><a href=\"#Исследование-задачи\" data-toc-modified-id=\"Исследование-задачи-2\"><span class=\"toc-item-num\">2&nbsp;&nbsp;</span>Исследование задачи</a></span></li><li><span><a href=\"#Борьба-с-дисбалансом\" data-toc-modified-id=\"Борьба-с-дисбалансом-3\"><span class=\"toc-item-num\">3&nbsp;&nbsp;</span>Борьба с дисбалансом</a></span></li><li><span><a href=\"#Тестирование-модели\" data-toc-modified-id=\"Тестирование-модели-4\"><span class=\"toc-item-num\">4&nbsp;&nbsp;</span>Тестирование модели</a></span></li><li><span><a href=\"#Вывод\" data-toc-modified-id=\"Вывод-5\"><span class=\"toc-item-num\">5&nbsp;&nbsp;</span>Вывод</a></span></li><li><span><a href=\"#Чек-лист-готовности-проекта\" data-toc-modified-id=\"Чек-лист-готовности-проекта-6\"><span class=\"toc-item-num\">6&nbsp;&nbsp;</span>Чек-лист готовности проекта</a></span></li></ul></div>"
   ]
  },
  {
   "cell_type": "markdown",
   "metadata": {},
   "source": [
    "# Отток клиентов"
   ]
  },
  {
   "cell_type": "markdown",
   "metadata": {},
   "source": [
    "Из «Бета-Банка» стали уходить клиенты. Каждый месяц. Немного, но заметно. Банковские маркетологи посчитали: сохранять текущих клиентов дешевле, чем привлекать новых.\n",
    "\n",
    "Нужно спрогнозировать, уйдёт клиент из банка в ближайшее время или нет. Вам предоставлены исторические данные о поведении клиентов и расторжении договоров с банком. \n",
    "\n",
    "Постройте модель с предельно большим значением *F1*-меры. Чтобы сдать проект успешно, нужно довести метрику до 0.59. Проверьте *F1*-меру на тестовой выборке самостоятельно.\n",
    "\n",
    "Дополнительно измеряйте *AUC-ROC*, сравнивайте её значение с *F1*-мерой."
   ]
  },
  {
   "cell_type": "markdown",
   "metadata": {},
   "source": [
    "## Подготовка данных"
   ]
  },
  {
   "cell_type": "code",
   "execution_count": 1,
   "metadata": {},
   "outputs": [],
   "source": [
    "import warnings\n",
    "warnings.filterwarnings(\"ignore\")\n",
    "import pandas as pd\n",
    "import matplotlib.pyplot as plt\n",
    "from sklearn.utils import shuffle\n",
    "from sklearn.metrics import precision_recall_curve\n",
    "from sklearn.tree import DecisionTreeClassifier\n",
    "from sklearn.ensemble import RandomForestClassifier\n",
    "from sklearn.linear_model import LogisticRegression\n",
    "from sklearn.model_selection import train_test_split\n",
    "from sklearn.metrics import mean_squared_error\n",
    "from sklearn.metrics import accuracy_score,recall_score,f1_score,precision_score,roc_auc_score"
   ]
  },
  {
   "cell_type": "code",
   "execution_count": 2,
   "metadata": {},
   "outputs": [
    {
     "data": {
      "text/html": [
       "<div>\n",
       "<style scoped>\n",
       "    .dataframe tbody tr th:only-of-type {\n",
       "        vertical-align: middle;\n",
       "    }\n",
       "\n",
       "    .dataframe tbody tr th {\n",
       "        vertical-align: top;\n",
       "    }\n",
       "\n",
       "    .dataframe thead th {\n",
       "        text-align: right;\n",
       "    }\n",
       "</style>\n",
       "<table border=\"1\" class=\"dataframe\">\n",
       "  <thead>\n",
       "    <tr style=\"text-align: right;\">\n",
       "      <th></th>\n",
       "      <th>RowNumber</th>\n",
       "      <th>CustomerId</th>\n",
       "      <th>Surname</th>\n",
       "      <th>CreditScore</th>\n",
       "      <th>Geography</th>\n",
       "      <th>Gender</th>\n",
       "      <th>Age</th>\n",
       "      <th>Tenure</th>\n",
       "      <th>Balance</th>\n",
       "      <th>NumOfProducts</th>\n",
       "      <th>HasCrCard</th>\n",
       "      <th>IsActiveMember</th>\n",
       "      <th>EstimatedSalary</th>\n",
       "      <th>Exited</th>\n",
       "    </tr>\n",
       "  </thead>\n",
       "  <tbody>\n",
       "    <tr>\n",
       "      <td>4225</td>\n",
       "      <td>4226</td>\n",
       "      <td>15671804</td>\n",
       "      <td>Wilding</td>\n",
       "      <td>648</td>\n",
       "      <td>Spain</td>\n",
       "      <td>Male</td>\n",
       "      <td>36</td>\n",
       "      <td>8.0</td>\n",
       "      <td>146943.38</td>\n",
       "      <td>2</td>\n",
       "      <td>1</td>\n",
       "      <td>1</td>\n",
       "      <td>130041.45</td>\n",
       "      <td>0</td>\n",
       "    </tr>\n",
       "    <tr>\n",
       "      <td>6331</td>\n",
       "      <td>6332</td>\n",
       "      <td>15701074</td>\n",
       "      <td>Herz</td>\n",
       "      <td>629</td>\n",
       "      <td>Germany</td>\n",
       "      <td>Male</td>\n",
       "      <td>35</td>\n",
       "      <td>8.0</td>\n",
       "      <td>112330.83</td>\n",
       "      <td>1</td>\n",
       "      <td>1</td>\n",
       "      <td>1</td>\n",
       "      <td>91001.02</td>\n",
       "      <td>0</td>\n",
       "    </tr>\n",
       "    <tr>\n",
       "      <td>7206</td>\n",
       "      <td>7207</td>\n",
       "      <td>15770995</td>\n",
       "      <td>Sinclair</td>\n",
       "      <td>753</td>\n",
       "      <td>Germany</td>\n",
       "      <td>Female</td>\n",
       "      <td>47</td>\n",
       "      <td>1.0</td>\n",
       "      <td>131160.85</td>\n",
       "      <td>1</td>\n",
       "      <td>1</td>\n",
       "      <td>0</td>\n",
       "      <td>197444.69</td>\n",
       "      <td>0</td>\n",
       "    </tr>\n",
       "    <tr>\n",
       "      <td>6628</td>\n",
       "      <td>6629</td>\n",
       "      <td>15584967</td>\n",
       "      <td>Chiganu</td>\n",
       "      <td>596</td>\n",
       "      <td>Spain</td>\n",
       "      <td>Male</td>\n",
       "      <td>57</td>\n",
       "      <td>6.0</td>\n",
       "      <td>0.00</td>\n",
       "      <td>2</td>\n",
       "      <td>1</td>\n",
       "      <td>1</td>\n",
       "      <td>72402.00</td>\n",
       "      <td>0</td>\n",
       "    </tr>\n",
       "    <tr>\n",
       "      <td>6341</td>\n",
       "      <td>6342</td>\n",
       "      <td>15658364</td>\n",
       "      <td>Laney</td>\n",
       "      <td>807</td>\n",
       "      <td>Germany</td>\n",
       "      <td>Female</td>\n",
       "      <td>40</td>\n",
       "      <td>1.0</td>\n",
       "      <td>134590.21</td>\n",
       "      <td>1</td>\n",
       "      <td>1</td>\n",
       "      <td>1</td>\n",
       "      <td>46253.65</td>\n",
       "      <td>0</td>\n",
       "    </tr>\n",
       "    <tr>\n",
       "      <td>8837</td>\n",
       "      <td>8838</td>\n",
       "      <td>15809736</td>\n",
       "      <td>Steigrad</td>\n",
       "      <td>664</td>\n",
       "      <td>France</td>\n",
       "      <td>Male</td>\n",
       "      <td>46</td>\n",
       "      <td>2.0</td>\n",
       "      <td>0.00</td>\n",
       "      <td>1</td>\n",
       "      <td>1</td>\n",
       "      <td>1</td>\n",
       "      <td>177423.02</td>\n",
       "      <td>1</td>\n",
       "    </tr>\n",
       "    <tr>\n",
       "      <td>3354</td>\n",
       "      <td>3355</td>\n",
       "      <td>15751333</td>\n",
       "      <td>Atkinson</td>\n",
       "      <td>695</td>\n",
       "      <td>France</td>\n",
       "      <td>Female</td>\n",
       "      <td>36</td>\n",
       "      <td>2.0</td>\n",
       "      <td>0.00</td>\n",
       "      <td>2</td>\n",
       "      <td>0</td>\n",
       "      <td>1</td>\n",
       "      <td>167749.54</td>\n",
       "      <td>0</td>\n",
       "    </tr>\n",
       "    <tr>\n",
       "      <td>3978</td>\n",
       "      <td>3979</td>\n",
       "      <td>15669490</td>\n",
       "      <td>Ifeanacho</td>\n",
       "      <td>837</td>\n",
       "      <td>Germany</td>\n",
       "      <td>Male</td>\n",
       "      <td>37</td>\n",
       "      <td>6.0</td>\n",
       "      <td>94001.61</td>\n",
       "      <td>2</td>\n",
       "      <td>1</td>\n",
       "      <td>0</td>\n",
       "      <td>140723.05</td>\n",
       "      <td>0</td>\n",
       "    </tr>\n",
       "    <tr>\n",
       "      <td>9984</td>\n",
       "      <td>9985</td>\n",
       "      <td>15696175</td>\n",
       "      <td>Echezonachukwu</td>\n",
       "      <td>602</td>\n",
       "      <td>Germany</td>\n",
       "      <td>Male</td>\n",
       "      <td>35</td>\n",
       "      <td>7.0</td>\n",
       "      <td>90602.42</td>\n",
       "      <td>2</td>\n",
       "      <td>1</td>\n",
       "      <td>1</td>\n",
       "      <td>51695.41</td>\n",
       "      <td>0</td>\n",
       "    </tr>\n",
       "    <tr>\n",
       "      <td>6309</td>\n",
       "      <td>6310</td>\n",
       "      <td>15785342</td>\n",
       "      <td>Shipp</td>\n",
       "      <td>705</td>\n",
       "      <td>France</td>\n",
       "      <td>Male</td>\n",
       "      <td>25</td>\n",
       "      <td>9.0</td>\n",
       "      <td>0.00</td>\n",
       "      <td>2</td>\n",
       "      <td>0</td>\n",
       "      <td>1</td>\n",
       "      <td>112331.19</td>\n",
       "      <td>0</td>\n",
       "    </tr>\n",
       "  </tbody>\n",
       "</table>\n",
       "</div>"
      ],
      "text/plain": [
       "      RowNumber  CustomerId         Surname  CreditScore Geography  Gender  \\\n",
       "4225       4226    15671804         Wilding          648     Spain    Male   \n",
       "6331       6332    15701074            Herz          629   Germany    Male   \n",
       "7206       7207    15770995        Sinclair          753   Germany  Female   \n",
       "6628       6629    15584967         Chiganu          596     Spain    Male   \n",
       "6341       6342    15658364           Laney          807   Germany  Female   \n",
       "8837       8838    15809736        Steigrad          664    France    Male   \n",
       "3354       3355    15751333        Atkinson          695    France  Female   \n",
       "3978       3979    15669490       Ifeanacho          837   Germany    Male   \n",
       "9984       9985    15696175  Echezonachukwu          602   Germany    Male   \n",
       "6309       6310    15785342           Shipp          705    France    Male   \n",
       "\n",
       "      Age  Tenure    Balance  NumOfProducts  HasCrCard  IsActiveMember  \\\n",
       "4225   36     8.0  146943.38              2          1               1   \n",
       "6331   35     8.0  112330.83              1          1               1   \n",
       "7206   47     1.0  131160.85              1          1               0   \n",
       "6628   57     6.0       0.00              2          1               1   \n",
       "6341   40     1.0  134590.21              1          1               1   \n",
       "8837   46     2.0       0.00              1          1               1   \n",
       "3354   36     2.0       0.00              2          0               1   \n",
       "3978   37     6.0   94001.61              2          1               0   \n",
       "9984   35     7.0   90602.42              2          1               1   \n",
       "6309   25     9.0       0.00              2          0               1   \n",
       "\n",
       "      EstimatedSalary  Exited  \n",
       "4225        130041.45       0  \n",
       "6331         91001.02       0  \n",
       "7206        197444.69       0  \n",
       "6628         72402.00       0  \n",
       "6341         46253.65       0  \n",
       "8837        177423.02       1  \n",
       "3354        167749.54       0  \n",
       "3978        140723.05       0  \n",
       "9984         51695.41       0  \n",
       "6309        112331.19       0  "
      ]
     },
     "execution_count": 2,
     "metadata": {},
     "output_type": "execute_result"
    }
   ],
   "source": [
    "data = pd.read_csv('/datasets/Churn.csv')\n",
    "data.sample(10)"
   ]
  },
  {
   "cell_type": "code",
   "execution_count": 3,
   "metadata": {},
   "outputs": [
    {
     "name": "stdout",
     "output_type": "stream",
     "text": [
      "<class 'pandas.core.frame.DataFrame'>\n",
      "RangeIndex: 10000 entries, 0 to 9999\n",
      "Data columns (total 14 columns):\n",
      "RowNumber          10000 non-null int64\n",
      "CustomerId         10000 non-null int64\n",
      "Surname            10000 non-null object\n",
      "CreditScore        10000 non-null int64\n",
      "Geography          10000 non-null object\n",
      "Gender             10000 non-null object\n",
      "Age                10000 non-null int64\n",
      "Tenure             9091 non-null float64\n",
      "Balance            10000 non-null float64\n",
      "NumOfProducts      10000 non-null int64\n",
      "HasCrCard          10000 non-null int64\n",
      "IsActiveMember     10000 non-null int64\n",
      "EstimatedSalary    10000 non-null float64\n",
      "Exited             10000 non-null int64\n",
      "dtypes: float64(3), int64(8), object(3)\n",
      "memory usage: 1.1+ MB\n"
     ]
    }
   ],
   "source": [
    "data.info()"
   ]
  },
  {
   "cell_type": "code",
   "execution_count": 4,
   "metadata": {},
   "outputs": [
    {
     "data": {
      "text/plain": [
       "RowNumber            0\n",
       "CustomerId           0\n",
       "Surname              0\n",
       "CreditScore          0\n",
       "Geography            0\n",
       "Gender               0\n",
       "Age                  0\n",
       "Tenure             909\n",
       "Balance              0\n",
       "NumOfProducts        0\n",
       "HasCrCard            0\n",
       "IsActiveMember       0\n",
       "EstimatedSalary      0\n",
       "Exited               0\n",
       "dtype: int64"
      ]
     },
     "execution_count": 4,
     "metadata": {},
     "output_type": "execute_result"
    }
   ],
   "source": [
    "#проверим количество NAN в столбцах\n",
    "data.isna().sum()"
   ]
  },
  {
   "cell_type": "code",
   "execution_count": 5,
   "metadata": {},
   "outputs": [],
   "source": [
    "#удалим NAN в Tenure\n",
    "data.dropna(subset=['Tenure'], inplace=True)"
   ]
  },
  {
   "cell_type": "code",
   "execution_count": 6,
   "metadata": {},
   "outputs": [
    {
     "data": {
      "text/plain": [
       "array(['Female', 'Male'], dtype=object)"
      ]
     },
     "execution_count": 6,
     "metadata": {},
     "output_type": "execute_result"
    }
   ],
   "source": [
    "#проверим уникальные значения в столбце Gender\n",
    "data['Gender'].unique()"
   ]
  },
  {
   "cell_type": "code",
   "execution_count": 7,
   "metadata": {},
   "outputs": [],
   "source": [
    "#уберем лишний столбец RowNumber и ненужный Surname\n",
    "data = data[['CustomerId', 'CreditScore', 'Geography', 'Gender', 'Age', 'Tenure', 'Balance', 'NumOfProducts', 'HasCrCard', 'IsActiveMember', 'EstimatedSalary', 'Exited']]"
   ]
  },
  {
   "cell_type": "code",
   "execution_count": 8,
   "metadata": {},
   "outputs": [
    {
     "data": {
      "text/plain": [
       "False"
      ]
     },
     "execution_count": 8,
     "metadata": {},
     "output_type": "execute_result"
    }
   ],
   "source": [
    "#проверим на дубликаты\n",
    "all(data.duplicated())"
   ]
  },
  {
   "cell_type": "code",
   "execution_count": 9,
   "metadata": {},
   "outputs": [
    {
     "data": {
      "text/html": [
       "<div>\n",
       "<style scoped>\n",
       "    .dataframe tbody tr th:only-of-type {\n",
       "        vertical-align: middle;\n",
       "    }\n",
       "\n",
       "    .dataframe tbody tr th {\n",
       "        vertical-align: top;\n",
       "    }\n",
       "\n",
       "    .dataframe thead th {\n",
       "        text-align: right;\n",
       "    }\n",
       "</style>\n",
       "<table border=\"1\" class=\"dataframe\">\n",
       "  <thead>\n",
       "    <tr style=\"text-align: right;\">\n",
       "      <th></th>\n",
       "      <th>CustomerId</th>\n",
       "      <th>CreditScore</th>\n",
       "      <th>Age</th>\n",
       "      <th>Tenure</th>\n",
       "      <th>Balance</th>\n",
       "      <th>NumOfProducts</th>\n",
       "      <th>HasCrCard</th>\n",
       "      <th>IsActiveMember</th>\n",
       "      <th>EstimatedSalary</th>\n",
       "      <th>Exited</th>\n",
       "    </tr>\n",
       "  </thead>\n",
       "  <tbody>\n",
       "    <tr>\n",
       "      <td>count</td>\n",
       "      <td>9.091000e+03</td>\n",
       "      <td>9091.000000</td>\n",
       "      <td>9091.000000</td>\n",
       "      <td>9091.000000</td>\n",
       "      <td>9091.000000</td>\n",
       "      <td>9091.000000</td>\n",
       "      <td>9091.000000</td>\n",
       "      <td>9091.000000</td>\n",
       "      <td>9091.000000</td>\n",
       "      <td>9091.000000</td>\n",
       "    </tr>\n",
       "    <tr>\n",
       "      <td>mean</td>\n",
       "      <td>1.569105e+07</td>\n",
       "      <td>650.736553</td>\n",
       "      <td>38.949181</td>\n",
       "      <td>4.997690</td>\n",
       "      <td>76522.740015</td>\n",
       "      <td>1.530195</td>\n",
       "      <td>0.704983</td>\n",
       "      <td>0.515565</td>\n",
       "      <td>100181.214924</td>\n",
       "      <td>0.203938</td>\n",
       "    </tr>\n",
       "    <tr>\n",
       "      <td>std</td>\n",
       "      <td>7.161419e+04</td>\n",
       "      <td>96.410471</td>\n",
       "      <td>10.555581</td>\n",
       "      <td>2.894723</td>\n",
       "      <td>62329.528576</td>\n",
       "      <td>0.581003</td>\n",
       "      <td>0.456076</td>\n",
       "      <td>0.499785</td>\n",
       "      <td>57624.755647</td>\n",
       "      <td>0.402946</td>\n",
       "    </tr>\n",
       "    <tr>\n",
       "      <td>min</td>\n",
       "      <td>1.556570e+07</td>\n",
       "      <td>350.000000</td>\n",
       "      <td>18.000000</td>\n",
       "      <td>0.000000</td>\n",
       "      <td>0.000000</td>\n",
       "      <td>1.000000</td>\n",
       "      <td>0.000000</td>\n",
       "      <td>0.000000</td>\n",
       "      <td>11.580000</td>\n",
       "      <td>0.000000</td>\n",
       "    </tr>\n",
       "    <tr>\n",
       "      <td>25%</td>\n",
       "      <td>1.562899e+07</td>\n",
       "      <td>584.000000</td>\n",
       "      <td>32.000000</td>\n",
       "      <td>2.000000</td>\n",
       "      <td>0.000000</td>\n",
       "      <td>1.000000</td>\n",
       "      <td>0.000000</td>\n",
       "      <td>0.000000</td>\n",
       "      <td>51227.745000</td>\n",
       "      <td>0.000000</td>\n",
       "    </tr>\n",
       "    <tr>\n",
       "      <td>50%</td>\n",
       "      <td>1.569106e+07</td>\n",
       "      <td>652.000000</td>\n",
       "      <td>37.000000</td>\n",
       "      <td>5.000000</td>\n",
       "      <td>97318.250000</td>\n",
       "      <td>1.000000</td>\n",
       "      <td>1.000000</td>\n",
       "      <td>1.000000</td>\n",
       "      <td>100240.200000</td>\n",
       "      <td>0.000000</td>\n",
       "    </tr>\n",
       "    <tr>\n",
       "      <td>75%</td>\n",
       "      <td>1.575285e+07</td>\n",
       "      <td>717.000000</td>\n",
       "      <td>44.000000</td>\n",
       "      <td>7.000000</td>\n",
       "      <td>127561.890000</td>\n",
       "      <td>2.000000</td>\n",
       "      <td>1.000000</td>\n",
       "      <td>1.000000</td>\n",
       "      <td>149567.210000</td>\n",
       "      <td>0.000000</td>\n",
       "    </tr>\n",
       "    <tr>\n",
       "      <td>max</td>\n",
       "      <td>1.581566e+07</td>\n",
       "      <td>850.000000</td>\n",
       "      <td>92.000000</td>\n",
       "      <td>10.000000</td>\n",
       "      <td>250898.090000</td>\n",
       "      <td>4.000000</td>\n",
       "      <td>1.000000</td>\n",
       "      <td>1.000000</td>\n",
       "      <td>199992.480000</td>\n",
       "      <td>1.000000</td>\n",
       "    </tr>\n",
       "  </tbody>\n",
       "</table>\n",
       "</div>"
      ],
      "text/plain": [
       "         CustomerId  CreditScore          Age       Tenure        Balance  \\\n",
       "count  9.091000e+03  9091.000000  9091.000000  9091.000000    9091.000000   \n",
       "mean   1.569105e+07   650.736553    38.949181     4.997690   76522.740015   \n",
       "std    7.161419e+04    96.410471    10.555581     2.894723   62329.528576   \n",
       "min    1.556570e+07   350.000000    18.000000     0.000000       0.000000   \n",
       "25%    1.562899e+07   584.000000    32.000000     2.000000       0.000000   \n",
       "50%    1.569106e+07   652.000000    37.000000     5.000000   97318.250000   \n",
       "75%    1.575285e+07   717.000000    44.000000     7.000000  127561.890000   \n",
       "max    1.581566e+07   850.000000    92.000000    10.000000  250898.090000   \n",
       "\n",
       "       NumOfProducts    HasCrCard  IsActiveMember  EstimatedSalary  \\\n",
       "count    9091.000000  9091.000000     9091.000000      9091.000000   \n",
       "mean        1.530195     0.704983        0.515565    100181.214924   \n",
       "std         0.581003     0.456076        0.499785     57624.755647   \n",
       "min         1.000000     0.000000        0.000000        11.580000   \n",
       "25%         1.000000     0.000000        0.000000     51227.745000   \n",
       "50%         1.000000     1.000000        1.000000    100240.200000   \n",
       "75%         2.000000     1.000000        1.000000    149567.210000   \n",
       "max         4.000000     1.000000        1.000000    199992.480000   \n",
       "\n",
       "            Exited  \n",
       "count  9091.000000  \n",
       "mean      0.203938  \n",
       "std       0.402946  \n",
       "min       0.000000  \n",
       "25%       0.000000  \n",
       "50%       0.000000  \n",
       "75%       0.000000  \n",
       "max       1.000000  "
      ]
     },
     "execution_count": 9,
     "metadata": {},
     "output_type": "execute_result"
    }
   ],
   "source": [
    "data.describe()"
   ]
  },
  {
   "cell_type": "markdown",
   "metadata": {},
   "source": [
    "**Вывод**\n",
    "\n",
    "Вопрос с пропусками решён, лишний столбец удален, проверка на повторяющиеся строки выполнена."
   ]
  },
  {
   "cell_type": "markdown",
   "metadata": {},
   "source": [
    "В данных имеются категориальные признаки, их нужно преобразовать в численные для дальнейшей работы с данными.\n",
    "Чтобы устранить дисбаланс классов и даллее работать с данными, необходимо закодировать данные в столбцах Gender и Geography. Преобразовать категориальные признаки в численные поможет техника прямого кодирования, или отображения (англ. One-Hot Encoding, OHE). Для прямого кодирования в библиотеке pandas есть функция pd.get_dummies()"
   ]
  },
  {
   "cell_type": "code",
   "execution_count": 10,
   "metadata": {},
   "outputs": [],
   "source": [
    "data = pd.get_dummies(data, drop_first=False)"
   ]
  },
  {
   "cell_type": "code",
   "execution_count": 11,
   "metadata": {},
   "outputs": [
    {
     "data": {
      "text/html": [
       "<div>\n",
       "<style scoped>\n",
       "    .dataframe tbody tr th:only-of-type {\n",
       "        vertical-align: middle;\n",
       "    }\n",
       "\n",
       "    .dataframe tbody tr th {\n",
       "        vertical-align: top;\n",
       "    }\n",
       "\n",
       "    .dataframe thead th {\n",
       "        text-align: right;\n",
       "    }\n",
       "</style>\n",
       "<table border=\"1\" class=\"dataframe\">\n",
       "  <thead>\n",
       "    <tr style=\"text-align: right;\">\n",
       "      <th></th>\n",
       "      <th>CustomerId</th>\n",
       "      <th>CreditScore</th>\n",
       "      <th>Age</th>\n",
       "      <th>Tenure</th>\n",
       "      <th>Balance</th>\n",
       "      <th>NumOfProducts</th>\n",
       "      <th>HasCrCard</th>\n",
       "      <th>IsActiveMember</th>\n",
       "      <th>EstimatedSalary</th>\n",
       "      <th>Exited</th>\n",
       "      <th>Geography_France</th>\n",
       "      <th>Geography_Germany</th>\n",
       "      <th>Geography_Spain</th>\n",
       "      <th>Gender_Female</th>\n",
       "      <th>Gender_Male</th>\n",
       "    </tr>\n",
       "  </thead>\n",
       "  <tbody>\n",
       "    <tr>\n",
       "      <td>9073</td>\n",
       "      <td>15611058</td>\n",
       "      <td>702</td>\n",
       "      <td>60</td>\n",
       "      <td>5.0</td>\n",
       "      <td>138597.54</td>\n",
       "      <td>2</td>\n",
       "      <td>1</td>\n",
       "      <td>1</td>\n",
       "      <td>41536.59</td>\n",
       "      <td>1</td>\n",
       "      <td>0</td>\n",
       "      <td>1</td>\n",
       "      <td>0</td>\n",
       "      <td>1</td>\n",
       "      <td>0</td>\n",
       "    </tr>\n",
       "    <tr>\n",
       "      <td>339</td>\n",
       "      <td>15807923</td>\n",
       "      <td>716</td>\n",
       "      <td>39</td>\n",
       "      <td>10.0</td>\n",
       "      <td>115301.31</td>\n",
       "      <td>1</td>\n",
       "      <td>1</td>\n",
       "      <td>0</td>\n",
       "      <td>43527.40</td>\n",
       "      <td>1</td>\n",
       "      <td>0</td>\n",
       "      <td>1</td>\n",
       "      <td>0</td>\n",
       "      <td>1</td>\n",
       "      <td>0</td>\n",
       "    </tr>\n",
       "    <tr>\n",
       "      <td>2641</td>\n",
       "      <td>15599301</td>\n",
       "      <td>538</td>\n",
       "      <td>28</td>\n",
       "      <td>6.0</td>\n",
       "      <td>164365.44</td>\n",
       "      <td>1</td>\n",
       "      <td>0</td>\n",
       "      <td>1</td>\n",
       "      <td>5698.97</td>\n",
       "      <td>0</td>\n",
       "      <td>0</td>\n",
       "      <td>1</td>\n",
       "      <td>0</td>\n",
       "      <td>1</td>\n",
       "      <td>0</td>\n",
       "    </tr>\n",
       "    <tr>\n",
       "      <td>4027</td>\n",
       "      <td>15718280</td>\n",
       "      <td>662</td>\n",
       "      <td>39</td>\n",
       "      <td>5.0</td>\n",
       "      <td>139822.11</td>\n",
       "      <td>2</td>\n",
       "      <td>1</td>\n",
       "      <td>1</td>\n",
       "      <td>146219.90</td>\n",
       "      <td>0</td>\n",
       "      <td>0</td>\n",
       "      <td>1</td>\n",
       "      <td>0</td>\n",
       "      <td>0</td>\n",
       "      <td>1</td>\n",
       "    </tr>\n",
       "    <tr>\n",
       "      <td>6623</td>\n",
       "      <td>15610753</td>\n",
       "      <td>581</td>\n",
       "      <td>28</td>\n",
       "      <td>3.0</td>\n",
       "      <td>104367.50</td>\n",
       "      <td>1</td>\n",
       "      <td>1</td>\n",
       "      <td>1</td>\n",
       "      <td>29937.75</td>\n",
       "      <td>0</td>\n",
       "      <td>1</td>\n",
       "      <td>0</td>\n",
       "      <td>0</td>\n",
       "      <td>0</td>\n",
       "      <td>1</td>\n",
       "    </tr>\n",
       "  </tbody>\n",
       "</table>\n",
       "</div>"
      ],
      "text/plain": [
       "      CustomerId  CreditScore  Age  Tenure    Balance  NumOfProducts  \\\n",
       "9073    15611058          702   60     5.0  138597.54              2   \n",
       "339     15807923          716   39    10.0  115301.31              1   \n",
       "2641    15599301          538   28     6.0  164365.44              1   \n",
       "4027    15718280          662   39     5.0  139822.11              2   \n",
       "6623    15610753          581   28     3.0  104367.50              1   \n",
       "\n",
       "      HasCrCard  IsActiveMember  EstimatedSalary  Exited  Geography_France  \\\n",
       "9073          1               1         41536.59       1                 0   \n",
       "339           1               0         43527.40       1                 0   \n",
       "2641          0               1          5698.97       0                 0   \n",
       "4027          1               1        146219.90       0                 0   \n",
       "6623          1               1         29937.75       0                 1   \n",
       "\n",
       "      Geography_Germany  Geography_Spain  Gender_Female  Gender_Male  \n",
       "9073                  1                0              1            0  \n",
       "339                   1                0              1            0  \n",
       "2641                  1                0              1            0  \n",
       "4027                  1                0              0            1  \n",
       "6623                  0                0              0            1  "
      ]
     },
     "execution_count": 11,
     "metadata": {},
     "output_type": "execute_result"
    }
   ],
   "source": [
    "data.sample(5)"
   ]
  },
  {
   "cell_type": "markdown",
   "metadata": {},
   "source": [
    "## Исследование задачи"
   ]
  },
  {
   "cell_type": "markdown",
   "metadata": {},
   "source": [
    "Исследуйте баланс классов, обучите модель без учёта дисбаланса. Кратко опишите выводы."
   ]
  },
  {
   "cell_type": "code",
   "execution_count": 12,
   "metadata": {},
   "outputs": [
    {
     "name": "stdout",
     "output_type": "stream",
     "text": [
      "7237 1854\n"
     ]
    }
   ],
   "source": [
    "target_0 = data[data['Exited'] == 0]['Exited'].count()\n",
    "target_1 = data[data['Exited']== 1]['Exited'].count()\n",
    "print(target_0,target_1)"
   ]
  },
  {
   "cell_type": "code",
   "execution_count": 13,
   "metadata": {},
   "outputs": [
    {
     "name": "stderr",
     "output_type": "stream",
     "text": [
      "No handles with labels found to put in legend.\n"
     ]
    },
    {
     "data": {
      "text/plain": [
       "<matplotlib.legend.Legend at 0x7f5bec498550>"
      ]
     },
     "execution_count": 13,
     "metadata": {},
     "output_type": "execute_result"
    },
    {
     "data": {
      "image/png": "[encoded data removed]",
      "text/plain": [
       "<Figure size 432x288 with 1 Axes>"
      ]
     },
     "metadata": {
      "needs_background": "light"
     },
     "output_type": "display_data"
    }
   ],
   "source": [
    "labels = [0,1]\n",
    "plt.bar(labels[0],target_0, width=0.1,color = 'red',edgecolor='yellow')\n",
    "plt.bar(labels[1],target_1,width=0.1,color = 'yellow',edgecolor='yellow')\n",
    "plt.legend()"
   ]
  },
  {
   "cell_type": "markdown",
   "metadata": {},
   "source": [
    "Данные несбалансированы, потому что у нас есть 80% нулей и 20% нулей, которые могут создавать проблемы с предсказанием."
   ]
  },
  {
   "cell_type": "code",
   "execution_count": 14,
   "metadata": {},
   "outputs": [],
   "source": [
    "#Разделим исходные данные на обучающую, валидационную и тестовую выборки\n",
    "target = data['Exited']\n",
    "features = data.drop('Exited', axis=1)\n",
    "\n",
    "features_train, features_test, target_train, target_test  = train_test_split(features, target, train_size=0.6, random_state=1)\n",
    "features_test, features_valid, target_test, target_valid = train_test_split(features_test, target_test, test_size=0.5, random_state=1)"
   ]
  },
  {
   "cell_type": "code",
   "execution_count": 15,
   "metadata": {},
   "outputs": [
    {
     "name": "stdout",
     "output_type": "stream",
     "text": [
      "F1: 0.58252427184466 с глубиной: 6\n"
     ]
    }
   ],
   "source": [
    "#1.Дерево решений\n",
    "\n",
    "best_model = None\n",
    "best_result = 0\n",
    "for depth in range(1, 10):\n",
    "    model = DecisionTreeClassifier(random_state=12345, max_depth=depth)\n",
    "    model.fit(features_train, target_train)\n",
    "    predicted_valid = model.predict(features_valid)\n",
    "    f1 = f1_score(target_valid, predicted_valid)\n",
    "    if f1 > best_result:\n",
    "        best_model = model\n",
    "        best_result = f1           \n",
    "print(\"F1:\", best_result,'с глубиной:', best_model.max_depth)"
   ]
  },
  {
   "cell_type": "code",
   "execution_count": 79,
   "metadata": {},
   "outputs": [
    {
     "name": "stdout",
     "output_type": "stream",
     "text": [
      "F1: 0.5344827586206896 с глубиной: 9\n"
     ]
    }
   ],
   "source": [
    "#2.Случайный лес подбор глубины\n",
    "best_model = None\n",
    "best_result = 0\n",
    "for depth in range(1, 10):\n",
    "    model = RandomForestClassifier(random_state=12345, max_depth=depth)\n",
    "    model.fit(features_train, target_train)\n",
    "    predicted_valid = model.predict(features_valid)\n",
    "    f1 = f1_score(target_valid, predicted_valid)\n",
    "    if f1 > best_result:\n",
    "        best_model = model\n",
    "        best_result = f1           \n",
    "print(\"F1:\", best_result,'с глубиной:', best_model.max_depth)"
   ]
  },
  {
   "cell_type": "code",
   "execution_count": 90,
   "metadata": {},
   "outputs": [
    {
     "name": "stdout",
     "output_type": "stream",
     "text": [
      "F1: 0.545138888888889 с количеством деревьев: 101\n"
     ]
    }
   ],
   "source": [
    "#2.Случайный лес подбор числа деревьев\n",
    "best_model = None\n",
    "best_result = 0\n",
    "for est in range(1, 150, 10):\n",
    "    model = RandomForestClassifier(random_state=12345, max_depth=9, n_estimators=est)\n",
    "    model.fit(features_train, target_train)\n",
    "    predicted_valid = model.predict(features_valid)\n",
    "    f1 = f1_score(target_valid, predicted_valid)\n",
    "    if f1 > best_result:\n",
    "        best_model = model\n",
    "        best_result = f1           \n",
    "print(\"F1:\", best_result,'с количеством деревьев:', best_model.n_estimators)"
   ]
  },
  {
   "cell_type": "code",
   "execution_count": 19,
   "metadata": {},
   "outputs": [
    {
     "name": "stdout",
     "output_type": "stream",
     "text": [
      "F1: 0.58252427184466\n"
     ]
    }
   ],
   "source": [
    "#1.Дерево решений \n",
    "model = DecisionTreeClassifier(random_state=12345, max_depth=6)\n",
    "model.fit(features_train, target_train)\n",
    "predicted_valid = model.predict(features_valid)\n",
    "print(\"F1:\", f1_score(target_valid, predicted_valid))"
   ]
  },
  {
   "cell_type": "code",
   "execution_count": 91,
   "metadata": {},
   "outputs": [
    {
     "name": "stdout",
     "output_type": "stream",
     "text": [
      "F1: 0.545138888888889\n"
     ]
    }
   ],
   "source": [
    "#2.Случайный лес\n",
    "model = RandomForestClassifier(random_state=12345, max_depth=9, n_estimators=101)\n",
    "model.fit(features_train, target_train)\n",
    "predicted_valid = model.predict(features_valid)\n",
    "print(\"F1:\", f1_score(target_valid, predicted_valid))"
   ]
  },
  {
   "cell_type": "code",
   "execution_count": 18,
   "metadata": {},
   "outputs": [
    {
     "name": "stdout",
     "output_type": "stream",
     "text": [
      "F1: 0.0\n"
     ]
    },
    {
     "name": "stderr",
     "output_type": "stream",
     "text": [
      "/opt/conda/lib/python3.7/site-packages/sklearn/linear_model/logistic.py:432: FutureWarning: Default solver will be changed to 'lbfgs' in 0.22. Specify a solver to silence this warning.\n",
      "  FutureWarning)\n",
      "/opt/conda/lib/python3.7/site-packages/sklearn/metrics/classification.py:1437: UndefinedMetricWarning: F-score is ill-defined and being set to 0.0 due to no predicted samples.\n",
      "  'precision', 'predicted', average, warn_for)\n"
     ]
    }
   ],
   "source": [
    "#3.Логистическая регрессия\n",
    "model = LogisticRegression(random_state=12345) \n",
    "model.fit(features_train, target_train)\n",
    "predicted_valid = model.predict(features_valid)\n",
    "print(\"F1:\", f1_score(target_valid, predicted_valid))"
   ]
  },
  {
   "cell_type": "markdown",
   "metadata": {},
   "source": [
    "## Борьба с дисбалансом"
   ]
  },
  {
   "cell_type": "markdown",
   "metadata": {},
   "source": [
    "Для борьбы с дисбалансом могут быть использованы следующие методы:\n",
    " - Взвешивание классов (class_weight)\n",
    " - Увеличение выборки (upsampling)\n",
    " - Уменьшение выборки (downsampling)"
   ]
  },
  {
   "cell_type": "code",
   "execution_count": 19,
   "metadata": {},
   "outputs": [
    {
     "name": "stdout",
     "output_type": "stream",
     "text": [
      "F1 = 0.494\n"
     ]
    },
    {
     "data": {
      "image/png": "[encoded data removed]",
      "text/plain": [
       "<Figure size 432x432 with 1 Axes>"
      ]
     },
     "metadata": {
      "needs_background": "light"
     },
     "output_type": "display_data"
    }
   ],
   "source": [
    "#взвешивание классов\n",
    "model = LogisticRegression(random_state=12345, solver='liblinear', class_weight='balanced')\n",
    "model.fit(features_train, target_train)\n",
    "predicted_valid = model.predict(features_valid)\n",
    "\n",
    "f1 = f1_score(target_valid, predicted_valid)\n",
    "print(\"F1 = {:.3f}\".format(f1))\n",
    "\n",
    "probabilities_valid = model.predict_proba(features_valid)\n",
    "precision, recall, thresholds = precision_recall_curve(target_valid, probabilities_valid[:, 1])\n",
    "\n",
    "\n",
    "plt.figure(figsize=(6, 6))\n",
    "plt.step(recall, precision, where='post')\n",
    "plt.xlabel('Recall')\n",
    "plt.ylabel('Precision')\n",
    "plt.ylim([0.0, 1.05])\n",
    "plt.xlim([0.0, 1.0])\n",
    "plt.title('Кривая Precision-Recall')\n",
    "plt.show() "
   ]
  },
  {
   "cell_type": "code",
   "execution_count": 40,
   "metadata": {},
   "outputs": [
    {
     "name": "stdout",
     "output_type": "stream",
     "text": [
      "F1 = 0.374\n"
     ]
    },
    {
     "data": {
      "image/png": "[encoded data removed]",
      "text/plain": [
       "<Figure size 432x432 with 1 Axes>"
      ]
     },
     "metadata": {
      "needs_background": "light"
     },
     "output_type": "display_data"
    }
   ],
   "source": [
    "#увеличение выборки\n",
    "def upsample(features, target, repeat):\n",
    "    features_zeros = features[target == 0]\n",
    "    features_ones = features[target == 1]\n",
    "    target_zeros = target[target == 0]\n",
    "    target_ones = target[target == 1]\n",
    "\n",
    "    features_upsampled = pd.concat([features_zeros] + [features_ones] * repeat)\n",
    "    target_upsampled = pd.concat([target_zeros] + [target_ones] * repeat)\n",
    "    \n",
    "    features_upsampled, target_upsampled = shuffle(\n",
    "        features_upsampled, target_upsampled, random_state=12345)\n",
    "    \n",
    "    return features_upsampled, target_upsampled\n",
    "\n",
    "features_upsampled, target_upsampled = upsample(features_train, target_train, 4)\n",
    "\n",
    "model = LogisticRegression(random_state=12345, solver='liblinear')\n",
    "model.fit(features_upsampled, target_upsampled)\n",
    "predicted_valid = model.predict(features_valid)\n",
    "\n",
    "f1 = f1_score(target_valid, predicted_valid)\n",
    "print(\"F1 = {:.3f}\".format(f1))\n",
    "\n",
    "probabilities_valid = model.predict_proba(features_valid)\n",
    "precision, recall, thresholds = precision_recall_curve(target_valid, probabilities_valid[:, 1])\n",
    "plt.figure(figsize=(6, 6))\n",
    "plt.step(recall, precision, where='post')\n",
    "plt.xlabel('Recall')\n",
    "plt.ylabel('Precision')\n",
    "plt.ylim([0.0, 1.05])\n",
    "plt.xlim([0.0, 1.0])\n",
    "plt.title('Кривая Precision-Recall')\n",
    "plt.show() "
   ]
  },
  {
   "cell_type": "code",
   "execution_count": 47,
   "metadata": {},
   "outputs": [
    {
     "name": "stderr",
     "output_type": "stream",
     "text": [
      "/opt/conda/lib/python3.7/site-packages/sklearn/linear_model/logistic.py:432: FutureWarning: Default solver will be changed to 'lbfgs' in 0.22. Specify a solver to silence this warning.\n",
      "  FutureWarning)\n"
     ]
    },
    {
     "name": "stdout",
     "output_type": "stream",
     "text": [
      "F1 = 0.377\n"
     ]
    },
    {
     "data": {
      "image/png": "[encoded data removed]",
      "text/plain": [
       "<Figure size 432x432 with 1 Axes>"
      ]
     },
     "metadata": {
      "needs_background": "light"
     },
     "output_type": "display_data"
    }
   ],
   "source": [
    "#уменьшение выборки\n",
    "def downsample(features, target, fraction):\n",
    "    features_zeros = features[target == 0]\n",
    "    features_ones = features[target == 1]\n",
    "    target_zeros = target[target == 0]\n",
    "    target_ones = target[target == 1]\n",
    "\n",
    "    features_downsampled = pd.concat(\n",
    "        [features_zeros.sample(frac=fraction, random_state=12345)] + [features_ones])\n",
    "    target_downsampled = pd.concat(\n",
    "        [target_zeros.sample(frac=fraction, random_state=12345)] + [target_ones])\n",
    "    \n",
    "    features_downsampled, target_downsampled = shuffle(\n",
    "        features_downsampled, target_downsampled, random_state=12345)\n",
    "    \n",
    "    return features_downsampled, target_downsampled\n",
    "\n",
    "features_downsampled, target_downsampled = downsample(features_train, target_train, 0.2)\n",
    "\n",
    "model = LogisticRegression(random_state=12345)\n",
    "model.fit(features_downsampled, target_downsampled)\n",
    "predicted_valid = model.predict(features_valid)\n",
    "f1 = f1_score(target_valid, predicted_valid)\n",
    "print(\"F1 = {:.3f}\".format(f1))\n",
    "\n",
    "\n",
    "probabilities_valid = model.predict_proba(features_valid)\n",
    "precision, recall, thresholds = precision_recall_curve(target_valid, probabilities_valid[:, 1])\n",
    "plt.figure(figsize=(6, 6))\n",
    "plt.step(recall, precision, where='post')\n",
    "plt.xlabel('Recall')\n",
    "plt.ylabel('Precision')\n",
    "plt.ylim([0.0, 1.05])\n",
    "plt.xlim([0.0, 1.0])\n",
    "plt.title('Кривая Precision-Recall')\n",
    "plt.show() "
   ]
  },
  {
   "cell_type": "markdown",
   "metadata": {},
   "source": [
    "На графиках изображены значения метрик при изменении порога.\n",
    "По вертикали - точность, по горизонтали — полнота. Кривая, показывающая их значения, называется PR-кривой, и чем выше кривая, тем лучше модель."
   ]
  },
  {
   "cell_type": "markdown",
   "metadata": {},
   "source": [
    "Взвешивание классов дало лучший результат метрики F1."
   ]
  },
  {
   "cell_type": "markdown",
   "metadata": {},
   "source": [
    "## Тестирование модели"
   ]
  },
  {
   "cell_type": "code",
   "execution_count": 81,
   "metadata": {},
   "outputs": [
    {
     "name": "stdout",
     "output_type": "stream",
     "text": [
      "Качество = 0.821, Точность = 0.548, Полнота = 0.436, F1 = 0.486, AUC-ROC = 0.749\n"
     ]
    }
   ],
   "source": [
    "#1.Дерево решений\n",
    "model = DecisionTreeClassifier(random_state=12345, max_depth=10)\n",
    "model.fit(features_train, target_train)\n",
    "predicted_test = model.predict(features_test)\n",
    "\n",
    "accuracy = model.score(features_test, target_test)\n",
    "precision = precision_score(target_test, predicted_test)\n",
    "recall = recall_score(target_test, predicted_test)\n",
    "f1 = f1_score(target_test, predicted_test)\n",
    "\n",
    "probabilities_test = model.predict_proba(features_test)\n",
    "probabilities_one_test = probabilities_test[:, 1]\n",
    "auc_roc = roc_auc_score(target_test, probabilities_one_test)\n",
    "\n",
    "print(\"Качество = {:.3f}, Точность = {:.3f}, Полнота = {:.3f}, F1 = {:.3f}, AUC-ROC = {:.3f}\".format(accuracy, precision, recall, f1, auc_roc))"
   ]
  },
  {
   "cell_type": "code",
   "execution_count": 97,
   "metadata": {},
   "outputs": [
    {
     "name": "stdout",
     "output_type": "stream",
     "text": [
      "Качество = 0.839, Точность = 0.580, Полнота = 0.615, F1 = 0.597, AUC-ROC = 0.841\n"
     ]
    }
   ],
   "source": [
    "#2.Случаный лес\n",
    "model = RandomForestClassifier(random_state=12345, max_depth=9, n_estimators=100, class_weight='balanced')\n",
    "model.fit(features_train, target_train)\n",
    "predicted_test = model.predict(features_test)\n",
    "\n",
    "accuracy = model.score(features_test, target_test)\n",
    "precision = precision_score(target_test, predicted_test)\n",
    "recall = recall_score(target_test, predicted_test)\n",
    "f1 = f1_score(target_test, predicted_test)\n",
    "\n",
    "probabilities_test = model.predict_proba(features_test)\n",
    "probabilities_one_test = probabilities_test[:, 1]\n",
    "auc_roc = roc_auc_score(target_test, probabilities_one_test)\n",
    "\n",
    "print(\"Качество = {:.3f}, Точность = {:.3f}, Полнота = {:.3f}, F1 = {:.3f}, AUC-ROC = {:.3f}\".format(accuracy, precision, recall, f1, auc_roc))"
   ]
  },
  {
   "cell_type": "code",
   "execution_count": 83,
   "metadata": {},
   "outputs": [
    {
     "name": "stdout",
     "output_type": "stream",
     "text": [
      "Качество = 0.695, Точность = 0.341, Полнота = 0.609, F1 = 0.437, AUC-ROC = 0.708\n"
     ]
    }
   ],
   "source": [
    "#3.Логистическая регрессия\n",
    "\n",
    "model = LogisticRegression(random_state=12345, solver='liblinear', class_weight='balanced') \n",
    "model.fit(features_train, target_train)\n",
    "predicted_test = model.predict(features_test)\n",
    "\n",
    "accuracy = model.score(features_test, target_test)\n",
    "precision = precision_score(target_test, predicted_test)\n",
    "recall = recall_score(target_test, predicted_test)\n",
    "f1 = f1_score(target_test, predicted_test)\n",
    "\n",
    "probabilities_test = model.predict_proba(features_test)\n",
    "probabilities_one_test = probabilities_test[:, 1]\n",
    "auc_roc = roc_auc_score(target_test, probabilities_one_test)\n",
    "\n",
    "print(\"Качество = {:.3f}, Точность = {:.3f}, Полнота = {:.3f}, F1 = {:.3f}, AUC-ROC = {:.3f}\".format(accuracy, precision, recall, f1, auc_roc))"
   ]
  },
  {
   "cell_type": "markdown",
   "metadata": {},
   "source": [
    "## Вывод\n",
    "Данные были анализированы и обработаны, удалены пропуски и ненужные столбцы, проверка на дуюликаты выполнена.\n",
    "\n",
    "Имеющиеся в данных категориальные признаки преобразованы в численные с помощью техники прямого кодирования.\n",
    "\n",
    "В ходе исследования были найдены следующие особенности:\n",
    "\n",
    "- Лучшей моделью оказалась RandomForestClassifier\n",
    "- Самый высокий показатель F1-метрики 0.597\n",
    "- Лучший показатель метрики AUC-ROC = 0.841\n",
    "- Параметры модели RandomForest, дающие лучший результат - глубина=9, количество деревьев=100\n",
    "- Для борьбы с дисбалансом лучше всего сработал метод взвешивания классов"
   ]
  }
 ],
 "metadata": {
  "ExecuteTimeLog": [
   {
    "duration": 427,
    "start_time": "2021-06-22T16:11:47.467Z"
   },
   {
    "duration": -479,
    "start_time": "2021-06-22T16:11:48.376Z"
   },
   {
    "duration": -483,
    "start_time": "2021-06-22T16:11:48.381Z"
   },
   {
    "duration": 1471,
    "start_time": "2021-06-22T16:11:54.631Z"
   },
   {
    "duration": 15,
    "start_time": "2021-06-22T16:11:56.106Z"
   },
   {
    "duration": 10,
    "start_time": "2021-06-22T16:11:56.235Z"
   },
   {
    "duration": 57,
    "start_time": "2021-06-22T16:12:36.288Z"
   },
   {
    "duration": 11,
    "start_time": "2021-06-22T16:12:41.946Z"
   },
   {
    "duration": 9,
    "start_time": "2021-06-22T16:12:48.296Z"
   },
   {
    "duration": 9,
    "start_time": "2021-06-22T16:13:06.521Z"
   },
   {
    "duration": 9,
    "start_time": "2021-06-22T16:13:09.709Z"
   },
   {
    "duration": 64,
    "start_time": "2021-06-22T16:14:23.394Z"
   },
   {
    "duration": 6,
    "start_time": "2021-06-22T16:18:18.431Z"
   },
   {
    "duration": 34,
    "start_time": "2021-06-22T16:20:24.632Z"
   },
   {
    "duration": 6,
    "start_time": "2021-06-22T16:23:26.960Z"
   },
   {
    "duration": 55,
    "start_time": "2021-06-22T16:23:29.058Z"
   },
   {
    "duration": 21,
    "start_time": "2021-06-22T16:23:46.962Z"
   },
   {
    "duration": 57,
    "start_time": "2021-06-22T16:24:28.732Z"
   },
   {
    "duration": 16,
    "start_time": "2021-06-22T16:28:05.804Z"
   },
   {
    "duration": 1462,
    "start_time": "2021-06-27T06:37:21.354Z"
   },
   {
    "duration": 15,
    "start_time": "2021-06-27T06:37:22.819Z"
   },
   {
    "duration": 23,
    "start_time": "2021-06-27T06:37:22.837Z"
   },
   {
    "duration": 9,
    "start_time": "2021-06-27T06:37:22.863Z"
   },
   {
    "duration": 10,
    "start_time": "2021-06-27T06:37:22.875Z"
   },
   {
    "duration": 6,
    "start_time": "2021-06-27T06:37:22.887Z"
   },
   {
    "duration": 17,
    "start_time": "2021-06-27T06:37:22.895Z"
   },
   {
    "duration": 93,
    "start_time": "2021-06-27T06:37:22.915Z"
   },
   {
    "duration": 547,
    "start_time": "2021-06-27T06:37:27.967Z"
   },
   {
    "duration": 55,
    "start_time": "2021-06-27T06:37:55.921Z"
   },
   {
    "duration": 374,
    "start_time": "2021-06-27T06:38:00.904Z"
   },
   {
    "duration": 10,
    "start_time": "2021-06-27T06:38:49.943Z"
   },
   {
    "duration": 303,
    "start_time": "2021-06-27T06:38:52.312Z"
   },
   {
    "duration": 318,
    "start_time": "2021-06-27T06:39:20.640Z"
   },
   {
    "duration": 293,
    "start_time": "2021-06-27T06:40:51.608Z"
   },
   {
    "duration": 299,
    "start_time": "2021-06-27T06:41:05.561Z"
   },
   {
    "duration": 260,
    "start_time": "2021-06-27T06:41:30.161Z"
   },
   {
    "duration": 248,
    "start_time": "2021-06-27T06:41:41.808Z"
   },
   {
    "duration": 322,
    "start_time": "2021-06-27T06:41:51.960Z"
   },
   {
    "duration": 506,
    "start_time": "2021-06-27T06:43:07.515Z"
   },
   {
    "duration": 12,
    "start_time": "2021-06-27T06:56:10.750Z"
   },
   {
    "duration": 297,
    "start_time": "2021-06-27T06:56:11.679Z"
   },
   {
    "duration": 53,
    "start_time": "2021-06-27T07:01:18.728Z"
   },
   {
    "duration": 52,
    "start_time": "2021-06-27T07:05:08.725Z"
   },
   {
    "duration": 7,
    "start_time": "2021-06-27T07:05:46.815Z"
   },
   {
    "duration": 86,
    "start_time": "2021-06-27T07:05:48.359Z"
   },
   {
    "duration": 58,
    "start_time": "2021-06-27T07:05:49.382Z"
   },
   {
    "duration": 9,
    "start_time": "2021-06-27T07:06:08.348Z"
   },
   {
    "duration": 11,
    "start_time": "2021-06-27T07:06:21.216Z"
   },
   {
    "duration": 13,
    "start_time": "2021-06-27T07:06:31.550Z"
   },
   {
    "duration": 14,
    "start_time": "2021-06-27T07:08:29.536Z"
   },
   {
    "duration": 14,
    "start_time": "2021-06-27T07:08:38.171Z"
   },
   {
    "duration": 19,
    "start_time": "2021-06-27T07:09:05.575Z"
   },
   {
    "duration": 21,
    "start_time": "2021-06-27T07:11:19.908Z"
   },
   {
    "duration": 21,
    "start_time": "2021-06-27T07:11:39.843Z"
   },
   {
    "duration": 16,
    "start_time": "2021-06-27T07:12:13.457Z"
   },
   {
    "duration": 20,
    "start_time": "2021-06-27T07:12:14.059Z"
   },
   {
    "duration": 6235,
    "start_time": "2021-06-27T07:13:35.304Z"
   },
   {
    "duration": 1501,
    "start_time": "2021-06-27T07:14:44.613Z"
   },
   {
    "duration": 12,
    "start_time": "2021-06-27T07:14:46.116Z"
   },
   {
    "duration": 8,
    "start_time": "2021-06-27T07:14:46.131Z"
   },
   {
    "duration": 18,
    "start_time": "2021-06-27T07:14:46.142Z"
   },
   {
    "duration": 5,
    "start_time": "2021-06-27T07:14:46.162Z"
   },
   {
    "duration": 7,
    "start_time": "2021-06-27T07:14:46.169Z"
   },
   {
    "duration": 15,
    "start_time": "2021-06-27T07:14:46.178Z"
   },
   {
    "duration": 90,
    "start_time": "2021-06-27T07:14:46.195Z"
   },
   {
    "duration": 11,
    "start_time": "2021-06-27T07:14:51.698Z"
   },
   {
    "duration": 19,
    "start_time": "2021-06-27T07:15:12.765Z"
   },
   {
    "duration": 19,
    "start_time": "2021-06-27T07:15:13.629Z"
   },
   {
    "duration": 9,
    "start_time": "2021-06-27T07:15:19.762Z"
   },
   {
    "duration": 319,
    "start_time": "2021-06-27T07:15:20.567Z"
   },
   {
    "duration": 1432,
    "start_time": "2021-06-27T07:16:19.689Z"
   },
   {
    "duration": 11,
    "start_time": "2021-06-27T07:16:21.124Z"
   },
   {
    "duration": 8,
    "start_time": "2021-06-27T07:16:21.138Z"
   },
   {
    "duration": 8,
    "start_time": "2021-06-27T07:16:21.156Z"
   },
   {
    "duration": 5,
    "start_time": "2021-06-27T07:16:21.167Z"
   },
   {
    "duration": 7,
    "start_time": "2021-06-27T07:16:21.174Z"
   },
   {
    "duration": 16,
    "start_time": "2021-06-27T07:16:21.183Z"
   },
   {
    "duration": 93,
    "start_time": "2021-06-27T07:16:21.201Z"
   },
   {
    "duration": 19,
    "start_time": "2021-06-27T07:16:21.297Z"
   },
   {
    "duration": 21,
    "start_time": "2021-06-27T07:16:21.318Z"
   },
   {
    "duration": 9,
    "start_time": "2021-06-27T07:16:21.357Z"
   },
   {
    "duration": 295,
    "start_time": "2021-06-27T07:16:21.369Z"
   },
   {
    "duration": 10,
    "start_time": "2021-06-27T07:16:55.045Z"
   },
   {
    "duration": 11,
    "start_time": "2021-06-27T07:20:12.181Z"
   },
   {
    "duration": 10,
    "start_time": "2021-06-27T07:20:22.819Z"
   },
   {
    "duration": 607,
    "start_time": "2021-06-27T07:20:25.854Z"
   },
   {
    "duration": 53,
    "start_time": "2021-06-27T07:21:09.180Z"
   },
   {
    "duration": 120,
    "start_time": "2021-06-27T07:21:13.738Z"
   },
   {
    "duration": 52,
    "start_time": "2021-06-27T07:25:13.725Z"
   },
   {
    "duration": 84,
    "start_time": "2021-06-27T07:25:20.181Z"
   },
   {
    "duration": 38,
    "start_time": "2021-06-27T07:25:47.335Z"
   },
   {
    "duration": 35,
    "start_time": "2021-06-27T07:26:25.179Z"
   },
   {
    "duration": 274,
    "start_time": "2021-06-27T07:31:04.259Z"
   },
   {
    "duration": 53,
    "start_time": "2021-06-27T07:31:26.585Z"
   },
   {
    "duration": 404,
    "start_time": "2021-06-27T07:31:32.802Z"
   },
   {
    "duration": 481,
    "start_time": "2021-06-27T07:31:50.709Z"
   },
   {
    "duration": 508,
    "start_time": "2021-06-27T07:32:56.193Z"
   },
   {
    "duration": 477,
    "start_time": "2021-06-27T07:33:26.419Z"
   },
   {
    "duration": 463,
    "start_time": "2021-06-27T07:33:45.538Z"
   },
   {
    "duration": 131,
    "start_time": "2021-06-27T07:45:38.059Z"
   },
   {
    "duration": 84,
    "start_time": "2021-06-27T07:46:14.536Z"
   },
   {
    "duration": 277,
    "start_time": "2021-06-27T07:46:24.436Z"
   },
   {
    "duration": 702,
    "start_time": "2021-06-27T07:48:06.696Z"
   },
   {
    "duration": 95,
    "start_time": "2021-06-27T07:48:42.754Z"
   },
   {
    "duration": 63,
    "start_time": "2021-06-27T07:49:03.895Z"
   },
   {
    "duration": 82,
    "start_time": "2021-06-27T07:50:03.181Z"
   },
   {
    "duration": 53,
    "start_time": "2021-06-27T07:52:53.105Z"
   },
   {
    "duration": 6,
    "start_time": "2021-06-27T07:52:58.166Z"
   },
   {
    "duration": 251,
    "start_time": "2021-06-27T07:53:25.927Z"
   },
   {
    "duration": 7,
    "start_time": "2021-06-27T07:53:38.068Z"
   },
   {
    "duration": 256,
    "start_time": "2021-06-27T07:53:38.519Z"
   },
   {
    "duration": 35,
    "start_time": "2021-06-27T07:56:44.123Z"
   },
   {
    "duration": 49,
    "start_time": "2021-06-27T07:57:48.213Z"
   },
   {
    "duration": 344,
    "start_time": "2021-06-27T07:58:39.850Z"
   },
   {
    "duration": 120,
    "start_time": "2021-06-27T07:59:24.668Z"
   },
   {
    "duration": 164,
    "start_time": "2021-06-27T07:59:31.293Z"
   },
   {
    "duration": 129,
    "start_time": "2021-06-27T08:00:26.357Z"
   },
   {
    "duration": 52,
    "start_time": "2021-06-27T08:00:36.411Z"
   },
   {
    "duration": 34,
    "start_time": "2021-06-27T08:01:38.864Z"
   },
   {
    "duration": 36,
    "start_time": "2021-06-27T08:03:14.078Z"
   },
   {
    "duration": 122,
    "start_time": "2021-06-27T08:04:12.325Z"
   },
   {
    "duration": 125,
    "start_time": "2021-06-27T08:04:49.304Z"
   },
   {
    "duration": 37,
    "start_time": "2021-06-27T08:05:13.254Z"
   },
   {
    "duration": 72,
    "start_time": "2021-06-27T08:08:09.389Z"
   },
   {
    "duration": 128,
    "start_time": "2021-06-27T08:08:16.833Z"
   },
   {
    "duration": 34,
    "start_time": "2021-06-27T08:08:23.135Z"
   },
   {
    "duration": 35,
    "start_time": "2021-06-27T08:08:41.124Z"
   },
   {
    "duration": 36,
    "start_time": "2021-06-27T08:10:35.666Z"
   },
   {
    "duration": 39,
    "start_time": "2021-06-27T08:12:18.516Z"
   },
   {
    "duration": 98,
    "start_time": "2021-06-27T08:12:53.061Z"
   },
   {
    "duration": 521,
    "start_time": "2021-06-27T09:43:49.483Z"
   },
   {
    "duration": 585,
    "start_time": "2021-06-27T09:45:28.700Z"
   },
   {
    "duration": 593,
    "start_time": "2021-06-27T09:45:52.110Z"
   },
   {
    "duration": 638,
    "start_time": "2021-06-27T09:47:03.779Z"
   },
   {
    "duration": 851,
    "start_time": "2021-06-27T09:47:38.051Z"
   },
   {
    "duration": 519,
    "start_time": "2021-06-27T09:47:55.589Z"
   },
   {
    "duration": 604,
    "start_time": "2021-06-27T09:48:20.705Z"
   },
   {
    "duration": 337,
    "start_time": "2021-06-27T09:50:49.582Z"
   },
   {
    "duration": 55,
    "start_time": "2021-06-27T09:51:31.873Z"
   },
   {
    "duration": 32,
    "start_time": "2021-06-27T09:51:39.804Z"
   },
   {
    "duration": 197,
    "start_time": "2021-06-27T09:53:57.362Z"
   },
   {
    "duration": 387,
    "start_time": "2021-06-27T09:55:00.283Z"
   },
   {
    "duration": 138,
    "start_time": "2021-06-27T09:55:07.366Z"
   },
   {
    "duration": 40,
    "start_time": "2021-06-27T09:55:54.368Z"
   },
   {
    "duration": 280,
    "start_time": "2021-06-27T09:57:27.022Z"
   },
   {
    "duration": 63,
    "start_time": "2021-06-27T09:57:44.048Z"
   },
   {
    "duration": 58,
    "start_time": "2021-06-27T09:58:01.719Z"
   },
   {
    "duration": 237,
    "start_time": "2021-06-27T09:58:56.121Z"
   },
   {
    "duration": 467,
    "start_time": "2021-06-27T09:59:44.355Z"
   },
   {
    "duration": 609,
    "start_time": "2021-06-27T09:59:54.921Z"
   },
   {
    "duration": 606,
    "start_time": "2021-06-27T10:00:04.517Z"
   },
   {
    "duration": 625,
    "start_time": "2021-06-27T10:00:17.772Z"
   },
   {
    "duration": 916,
    "start_time": "2021-06-27T10:00:26.497Z"
   },
   {
    "duration": 518,
    "start_time": "2021-06-27T10:01:03.010Z"
   },
   {
    "duration": 774,
    "start_time": "2021-06-27T10:01:28.037Z"
   },
   {
    "duration": 584,
    "start_time": "2021-06-27T10:01:57.430Z"
   },
   {
    "duration": 2351,
    "start_time": "2021-06-27T10:02:12.753Z"
   },
   {
    "duration": 10,
    "start_time": "2021-06-27T10:02:15.107Z"
   },
   {
    "duration": 12,
    "start_time": "2021-06-27T10:02:15.120Z"
   },
   {
    "duration": 22,
    "start_time": "2021-06-27T10:02:15.135Z"
   },
   {
    "duration": 5,
    "start_time": "2021-06-27T10:02:15.160Z"
   },
   {
    "duration": 9,
    "start_time": "2021-06-27T10:02:15.168Z"
   },
   {
    "duration": 27,
    "start_time": "2021-06-27T10:02:15.179Z"
   },
   {
    "duration": 71,
    "start_time": "2021-06-27T10:02:15.208Z"
   },
   {
    "duration": 20,
    "start_time": "2021-06-27T10:02:15.282Z"
   },
   {
    "duration": 19,
    "start_time": "2021-06-27T10:02:15.304Z"
   },
   {
    "duration": 31,
    "start_time": "2021-06-27T10:02:15.325Z"
   },
   {
    "duration": 291,
    "start_time": "2021-06-27T10:02:15.358Z"
   },
   {
    "duration": 10,
    "start_time": "2021-06-27T10:02:15.651Z"
   },
   {
    "duration": 559,
    "start_time": "2021-06-27T10:02:15.664Z"
   },
   {
    "duration": 782,
    "start_time": "2021-06-27T10:02:16.226Z"
   },
   {
    "duration": 620,
    "start_time": "2021-06-27T10:02:17.011Z"
   },
   {
    "duration": 50,
    "start_time": "2021-06-27T10:02:17.634Z"
   },
   {
    "duration": 141,
    "start_time": "2021-06-27T10:02:17.686Z"
   },
   {
    "duration": 226,
    "start_time": "2021-06-27T10:02:17.829Z"
   },
   {
    "duration": 816,
    "start_time": "2021-06-27T10:03:30.799Z"
   },
   {
    "duration": 87,
    "start_time": "2021-06-27T10:04:20.851Z"
   },
   {
    "duration": 802,
    "start_time": "2021-06-27T10:04:32.179Z"
   },
   {
    "duration": 774,
    "start_time": "2021-06-27T10:04:48.540Z"
   },
   {
    "duration": 652,
    "start_time": "2021-06-27T10:05:17.555Z"
   },
   {
    "duration": 521,
    "start_time": "2021-06-27T10:05:48.790Z"
   },
   {
    "duration": 581,
    "start_time": "2021-06-27T10:06:25.727Z"
   },
   {
    "duration": 490,
    "start_time": "2021-06-27T10:06:35.033Z"
   },
   {
    "duration": 201,
    "start_time": "2021-06-27T10:09:00.761Z"
   },
   {
    "duration": 304,
    "start_time": "2021-06-27T10:12:02.616Z"
   },
   {
    "duration": 333,
    "start_time": "2021-06-27T10:12:41.289Z"
   },
   {
    "duration": 38,
    "start_time": "2021-06-27T10:12:47.556Z"
   },
   {
    "duration": 186,
    "start_time": "2021-06-27T10:14:10.371Z"
   },
   {
    "duration": 206,
    "start_time": "2021-06-27T10:14:34.550Z"
   },
   {
    "duration": 161,
    "start_time": "2021-06-27T10:15:21.702Z"
   },
   {
    "duration": 200,
    "start_time": "2021-06-27T10:16:28.556Z"
   },
   {
    "duration": 137,
    "start_time": "2021-06-27T10:17:26.176Z"
   },
   {
    "duration": 136,
    "start_time": "2021-06-27T10:17:33.651Z"
   },
   {
    "duration": 510,
    "start_time": "2021-06-27T10:17:50.138Z"
   },
   {
    "duration": 134,
    "start_time": "2021-06-27T10:17:57.539Z"
   },
   {
    "duration": 136,
    "start_time": "2021-06-27T10:18:04.947Z"
   },
   {
    "duration": 192,
    "start_time": "2021-06-27T10:18:14.273Z"
   },
   {
    "duration": 40,
    "start_time": "2021-06-27T10:19:00.240Z"
   },
   {
    "duration": 140,
    "start_time": "2021-06-27T10:19:11.756Z"
   },
   {
    "duration": 1450,
    "start_time": "2021-06-27T10:19:38.775Z"
   },
   {
    "duration": 11,
    "start_time": "2021-06-27T10:19:40.227Z"
   },
   {
    "duration": 15,
    "start_time": "2021-06-27T10:19:40.242Z"
   },
   {
    "duration": 10,
    "start_time": "2021-06-27T10:19:40.259Z"
   },
   {
    "duration": 5,
    "start_time": "2021-06-27T10:19:40.272Z"
   },
   {
    "duration": 8,
    "start_time": "2021-06-27T10:19:40.279Z"
   },
   {
    "duration": 18,
    "start_time": "2021-06-27T10:19:40.289Z"
   },
   {
    "duration": 88,
    "start_time": "2021-06-27T10:19:40.311Z"
   },
   {
    "duration": 18,
    "start_time": "2021-06-27T10:19:40.402Z"
   },
   {
    "duration": 34,
    "start_time": "2021-06-27T10:19:40.423Z"
   },
   {
    "duration": 9,
    "start_time": "2021-06-27T10:19:40.459Z"
   },
   {
    "duration": 310,
    "start_time": "2021-06-27T10:19:40.470Z"
   },
   {
    "duration": 10,
    "start_time": "2021-06-27T10:19:40.783Z"
   },
   {
    "duration": 608,
    "start_time": "2021-06-27T10:19:40.795Z"
   },
   {
    "duration": 617,
    "start_time": "2021-06-27T10:19:41.405Z"
   },
   {
    "duration": 491,
    "start_time": "2021-06-27T10:19:42.025Z"
   },
   {
    "duration": 466,
    "start_time": "2021-06-27T10:19:42.519Z"
   },
   {
    "duration": 83,
    "start_time": "2021-06-27T10:19:42.905Z"
   },
   {
    "duration": 80,
    "start_time": "2021-06-27T10:19:42.909Z"
   },
   {
    "duration": 38,
    "start_time": "2021-06-27T10:19:58.031Z"
   },
   {
    "duration": 136,
    "start_time": "2021-06-27T10:20:03.435Z"
   },
   {
    "duration": 112,
    "start_time": "2021-06-27T10:20:06.653Z"
   },
   {
    "duration": 1130,
    "start_time": "2021-06-27T10:21:07.322Z"
   },
   {
    "duration": 44,
    "start_time": "2021-06-27T10:24:31.462Z"
   },
   {
    "duration": 1095,
    "start_time": "2021-06-27T10:24:38.209Z"
   },
   {
    "duration": 5,
    "start_time": "2021-06-27T11:23:52.024Z"
   },
   {
    "duration": 66,
    "start_time": "2021-06-27T11:23:53.153Z"
   },
   {
    "duration": 14,
    "start_time": "2021-06-27T11:28:49.997Z"
   },
   {
    "duration": 270,
    "start_time": "2021-06-27T11:29:19.688Z"
   },
   {
    "duration": 5,
    "start_time": "2021-06-27T11:29:40.663Z"
   },
   {
    "duration": 56,
    "start_time": "2021-06-27T11:29:40.681Z"
   },
   {
    "duration": 16,
    "start_time": "2021-06-27T11:29:40.742Z"
   },
   {
    "duration": 10,
    "start_time": "2021-06-27T11:29:40.778Z"
   },
   {
    "duration": 9,
    "start_time": "2021-06-27T11:29:40.791Z"
   },
   {
    "duration": 6,
    "start_time": "2021-06-27T11:29:40.812Z"
   },
   {
    "duration": 8,
    "start_time": "2021-06-27T11:29:40.822Z"
   },
   {
    "duration": 39,
    "start_time": "2021-06-27T11:29:40.833Z"
   },
   {
    "duration": 55,
    "start_time": "2021-06-27T11:29:40.874Z"
   },
   {
    "duration": 39,
    "start_time": "2021-06-27T11:29:40.932Z"
   },
   {
    "duration": 20,
    "start_time": "2021-06-27T11:29:40.973Z"
   },
   {
    "duration": 10,
    "start_time": "2021-06-27T11:29:40.996Z"
   },
   {
    "duration": 298,
    "start_time": "2021-06-27T11:29:41.009Z"
   },
   {
    "duration": 14,
    "start_time": "2021-06-27T11:29:41.310Z"
   },
   {
    "duration": 412,
    "start_time": "2021-06-27T11:29:46.153Z"
   },
   {
    "duration": 17,
    "start_time": "2021-06-27T11:30:25.467Z"
   },
   {
    "duration": 20,
    "start_time": "2021-06-27T11:30:30.695Z"
   },
   {
    "duration": 14,
    "start_time": "2021-06-27T11:31:04.903Z"
   },
   {
    "duration": 335,
    "start_time": "2021-06-27T11:31:10.617Z"
   },
   {
    "duration": 427,
    "start_time": "2021-06-27T11:31:30.050Z"
   },
   {
    "duration": 372,
    "start_time": "2021-06-27T11:32:54.763Z"
   },
   {
    "duration": 148,
    "start_time": "2021-06-27T11:34:17.930Z"
   },
   {
    "duration": 155,
    "start_time": "2021-06-27T11:35:08.608Z"
   },
   {
    "duration": 123,
    "start_time": "2021-06-27T11:35:27.453Z"
   },
   {
    "duration": 567,
    "start_time": "2021-06-27T11:36:09.506Z"
   },
   {
    "duration": 103,
    "start_time": "2021-06-27T11:36:52.953Z"
   },
   {
    "duration": 50,
    "start_time": "2021-06-27T11:37:07.810Z"
   },
   {
    "duration": 31,
    "start_time": "2021-06-27T11:38:16.654Z"
   },
   {
    "duration": 71,
    "start_time": "2021-06-27T11:39:41.300Z"
   },
   {
    "duration": 249,
    "start_time": "2021-06-27T11:42:18.633Z"
   },
   {
    "duration": 250,
    "start_time": "2021-06-27T11:42:41.005Z"
   },
   {
    "duration": 60,
    "start_time": "2021-06-27T11:44:16.004Z"
   },
   {
    "duration": 36,
    "start_time": "2021-06-27T11:50:41.980Z"
   },
   {
    "duration": 1015,
    "start_time": "2021-06-27T11:51:32.775Z"
   },
   {
    "duration": 329,
    "start_time": "2021-06-27T11:51:59.737Z"
   },
   {
    "duration": 180,
    "start_time": "2021-06-27T11:52:23.478Z"
   },
   {
    "duration": 101,
    "start_time": "2021-06-27T11:52:34.878Z"
   },
   {
    "duration": 194,
    "start_time": "2021-06-27T11:52:41.381Z"
   },
   {
    "duration": 347,
    "start_time": "2021-06-27T11:53:28.895Z"
   },
   {
    "duration": 290,
    "start_time": "2021-06-27T11:54:16.935Z"
   },
   {
    "duration": 278,
    "start_time": "2021-06-27T11:54:41.915Z"
   },
   {
    "duration": 37,
    "start_time": "2021-06-27T11:56:46.309Z"
   },
   {
    "duration": 1084,
    "start_time": "2021-06-27T11:57:19.699Z"
   },
   {
    "duration": 308,
    "start_time": "2021-06-27T11:57:31.949Z"
   },
   {
    "duration": 50,
    "start_time": "2021-06-27T11:58:14.030Z"
   },
   {
    "duration": 46,
    "start_time": "2021-06-27T11:59:03.642Z"
   },
   {
    "duration": 43,
    "start_time": "2021-06-27T11:59:14.261Z"
   },
   {
    "duration": 245,
    "start_time": "2021-06-27T11:59:38.733Z"
   },
   {
    "duration": 233,
    "start_time": "2021-06-27T11:59:43.734Z"
   },
   {
    "duration": 53,
    "start_time": "2021-06-27T12:03:28.164Z"
   },
   {
    "duration": 53,
    "start_time": "2021-06-27T12:07:40.064Z"
   },
   {
    "duration": 37,
    "start_time": "2021-06-27T12:07:49.707Z"
   },
   {
    "duration": 62,
    "start_time": "2021-06-27T12:07:53.944Z"
   },
   {
    "duration": 53,
    "start_time": "2021-06-27T12:08:00.200Z"
   },
   {
    "duration": 1021,
    "start_time": "2021-06-27T12:08:08.161Z"
   },
   {
    "duration": 297,
    "start_time": "2021-06-27T12:08:16.562Z"
   },
   {
    "duration": 875,
    "start_time": "2021-06-27T12:09:36.201Z"
   },
   {
    "duration": 1062,
    "start_time": "2021-06-27T12:09:44.537Z"
   },
   {
    "duration": 858,
    "start_time": "2021-06-27T12:11:50.860Z"
   },
   {
    "duration": 1004,
    "start_time": "2021-06-27T12:17:33.226Z"
   },
   {
    "duration": 1088,
    "start_time": "2021-06-27T12:17:40.633Z"
   },
   {
    "duration": 883,
    "start_time": "2021-06-27T12:17:48.029Z"
   },
   {
    "duration": 941,
    "start_time": "2021-06-27T12:17:52.669Z"
   },
   {
    "duration": 873,
    "start_time": "2021-06-27T12:17:58.322Z"
   },
   {
    "duration": 417,
    "start_time": "2021-06-27T13:56:05.762Z"
   },
   {
    "duration": 1870,
    "start_time": "2021-06-27T13:56:10.793Z"
   },
   {
    "duration": 79,
    "start_time": "2021-06-27T13:56:12.667Z"
   },
   {
    "duration": 26,
    "start_time": "2021-06-27T13:56:12.750Z"
   },
   {
    "duration": 13,
    "start_time": "2021-06-27T13:56:12.779Z"
   },
   {
    "duration": 12,
    "start_time": "2021-06-27T13:56:12.795Z"
   },
   {
    "duration": 9,
    "start_time": "2021-06-27T13:56:12.810Z"
   },
   {
    "duration": 42,
    "start_time": "2021-06-27T13:56:12.821Z"
   },
   {
    "duration": 16,
    "start_time": "2021-06-27T13:56:12.867Z"
   },
   {
    "duration": 88,
    "start_time": "2021-06-27T13:56:12.886Z"
   },
   {
    "duration": 20,
    "start_time": "2021-06-27T13:56:12.976Z"
   },
   {
    "duration": 21,
    "start_time": "2021-06-27T13:56:12.999Z"
   },
   {
    "duration": 41,
    "start_time": "2021-06-27T13:56:13.022Z"
   },
   {
    "duration": 320,
    "start_time": "2021-06-27T13:56:13.065Z"
   },
   {
    "duration": 14,
    "start_time": "2021-06-27T13:56:13.387Z"
   },
   {
    "duration": 27,
    "start_time": "2021-06-27T13:56:13.404Z"
   },
   {
    "duration": 144,
    "start_time": "2021-06-27T13:56:13.433Z"
   },
   {
    "duration": 93,
    "start_time": "2021-06-27T13:56:13.579Z"
   },
   {
    "duration": 583,
    "start_time": "2021-06-27T13:56:13.763Z"
   },
   {
    "duration": 565,
    "start_time": "2021-06-27T13:56:24.071Z"
   },
   {
    "duration": 545,
    "start_time": "2021-06-27T13:56:32.910Z"
   },
   {
    "duration": 546,
    "start_time": "2021-06-27T13:56:39.506Z"
   },
   {
    "duration": 587,
    "start_time": "2021-06-27T13:56:44.132Z"
   },
   {
    "duration": 576,
    "start_time": "2021-06-27T13:56:47.672Z"
   },
   {
    "duration": 641,
    "start_time": "2021-06-27T13:56:51.036Z"
   },
   {
    "duration": 791,
    "start_time": "2021-06-27T13:57:03.065Z"
   },
   {
    "duration": 513,
    "start_time": "2021-06-27T13:57:08.624Z"
   },
   {
    "duration": 616,
    "start_time": "2021-06-27T13:57:17.818Z"
   },
   {
    "duration": 622,
    "start_time": "2021-06-27T13:57:24.442Z"
   },
   {
    "duration": 649,
    "start_time": "2021-06-27T13:57:28.372Z"
   },
   {
    "duration": 665,
    "start_time": "2021-06-27T13:57:35.364Z"
   },
   {
    "duration": 713,
    "start_time": "2021-06-27T13:57:49.112Z"
   },
   {
    "duration": 767,
    "start_time": "2021-06-27T13:58:31.667Z"
   },
   {
    "duration": 577,
    "start_time": "2021-06-27T13:59:03.268Z"
   },
   {
    "duration": 723,
    "start_time": "2021-06-27T14:00:24.831Z"
   },
   {
    "duration": 666,
    "start_time": "2021-06-27T14:00:32.575Z"
   },
   {
    "duration": 549,
    "start_time": "2021-06-27T14:00:38.191Z"
   },
   {
    "duration": 526,
    "start_time": "2021-06-27T14:07:34.221Z"
   },
   {
    "duration": 527,
    "start_time": "2021-06-27T14:07:42.619Z"
   },
   {
    "duration": 595,
    "start_time": "2021-06-27T14:07:49.739Z"
   },
   {
    "duration": 3367,
    "start_time": "2021-06-27T14:08:16.235Z"
   },
   {
    "duration": 511,
    "start_time": "2021-06-27T14:10:13.433Z"
   },
   {
    "duration": 1466,
    "start_time": "2021-06-28T07:49:45.806Z"
   },
   {
    "duration": 56,
    "start_time": "2021-06-28T07:49:47.274Z"
   },
   {
    "duration": 12,
    "start_time": "2021-06-28T07:49:47.334Z"
   },
   {
    "duration": 9,
    "start_time": "2021-06-28T07:49:47.363Z"
   },
   {
    "duration": 8,
    "start_time": "2021-06-28T07:49:47.375Z"
   },
   {
    "duration": 8,
    "start_time": "2021-06-28T07:49:47.385Z"
   },
   {
    "duration": 24,
    "start_time": "2021-06-28T07:49:47.396Z"
   },
   {
    "duration": 16,
    "start_time": "2021-06-28T07:49:47.423Z"
   },
   {
    "duration": 59,
    "start_time": "2021-06-28T07:49:47.463Z"
   },
   {
    "duration": 41,
    "start_time": "2021-06-28T07:49:47.525Z"
   },
   {
    "duration": 19,
    "start_time": "2021-06-28T07:49:47.569Z"
   },
   {
    "duration": 9,
    "start_time": "2021-06-28T07:49:47.590Z"
   },
   {
    "duration": 319,
    "start_time": "2021-06-28T07:49:47.601Z"
   },
   {
    "duration": 13,
    "start_time": "2021-06-28T07:49:47.922Z"
   },
   {
    "duration": 82,
    "start_time": "2021-06-28T07:49:53.434Z"
   },
   {
    "duration": 197,
    "start_time": "2021-06-28T07:50:03.386Z"
   },
   {
    "duration": 212,
    "start_time": "2021-06-28T07:50:48.368Z"
   },
   {
    "duration": 231,
    "start_time": "2021-06-28T07:52:16.194Z"
   },
   {
    "duration": 35,
    "start_time": "2021-06-28T07:52:50.345Z"
   },
   {
    "duration": 844,
    "start_time": "2021-06-28T07:53:55.088Z"
   },
   {
    "duration": 566,
    "start_time": "2021-06-28T07:54:38.896Z"
   },
   {
    "duration": 92,
    "start_time": "2021-06-28T07:54:51.279Z"
   },
   {
    "duration": 83794,
    "start_time": "2021-06-28T07:55:31.222Z"
   },
   {
    "duration": 46247,
    "start_time": "2021-06-28T07:57:00.956Z"
   },
   {
    "duration": 185061,
    "start_time": "2021-06-28T07:59:47.702Z"
   },
   {
    "duration": -1132,
    "start_time": "2021-06-28T08:04:11.506Z"
   },
   {
    "duration": 1472,
    "start_time": "2021-06-28T08:04:34.693Z"
   },
   {
    "duration": 78929,
    "start_time": "2021-06-28T08:04:49.229Z"
   },
   {
    "duration": 186098,
    "start_time": "2021-06-28T08:06:10.301Z"
   },
   {
    "duration": 337,
    "start_time": "2021-06-28T08:09:16.401Z"
   },
   {
    "duration": 8633,
    "start_time": "2021-06-28T08:09:40.388Z"
   },
   {
    "duration": 90694,
    "start_time": "2021-06-28T08:10:35.780Z"
   },
   {
    "duration": 6,
    "start_time": "2021-06-28T08:12:26.193Z"
   },
   {
    "duration": 400,
    "start_time": "2021-06-28T08:12:32.539Z"
   },
   {
    "duration": 288,
    "start_time": "2021-06-28T08:12:38.236Z"
   },
   {
    "duration": 68209,
    "start_time": "2021-06-28T08:12:44.007Z"
   },
   {
    "duration": 89038,
    "start_time": "2021-06-28T08:14:19.478Z"
   },
   {
    "duration": -1148,
    "start_time": "2021-06-28T08:15:49.667Z"
   },
   {
    "duration": 1481,
    "start_time": "2021-06-28T08:16:08.616Z"
   },
   {
    "duration": 57,
    "start_time": "2021-06-28T08:16:10.099Z"
   },
   {
    "duration": 13,
    "start_time": "2021-06-28T08:16:10.164Z"
   },
   {
    "duration": 11,
    "start_time": "2021-06-28T08:16:10.181Z"
   },
   {
    "duration": 14,
    "start_time": "2021-06-28T08:16:10.195Z"
   },
   {
    "duration": 8,
    "start_time": "2021-06-28T08:16:10.212Z"
   },
   {
    "duration": 8,
    "start_time": "2021-06-28T08:16:10.263Z"
   },
   {
    "duration": 16,
    "start_time": "2021-06-28T08:16:10.276Z"
   },
   {
    "duration": 95,
    "start_time": "2021-06-28T08:16:10.295Z"
   },
   {
    "duration": 20,
    "start_time": "2021-06-28T08:16:10.393Z"
   },
   {
    "duration": 23,
    "start_time": "2021-06-28T08:16:10.416Z"
   },
   {
    "duration": 28,
    "start_time": "2021-06-28T08:16:10.441Z"
   },
   {
    "duration": 313,
    "start_time": "2021-06-28T08:16:10.471Z"
   },
   {
    "duration": 14,
    "start_time": "2021-06-28T08:16:10.786Z"
   },
   {
    "duration": 215,
    "start_time": "2021-06-28T08:16:13.500Z"
   },
   {
    "duration": 111433,
    "start_time": "2021-06-28T08:16:16.811Z"
   },
   {
    "duration": 44162,
    "start_time": "2021-06-28T08:18:09.771Z"
   },
   {
    "duration": 66115,
    "start_time": "2021-06-28T08:20:15.475Z"
   },
   {
    "duration": -1102,
    "start_time": "2021-06-28T08:21:22.694Z"
   },
   {
    "duration": 42753,
    "start_time": "2021-06-28T08:21:43.698Z"
   },
   {
    "duration": -1111,
    "start_time": "2021-06-28T08:22:27.565Z"
   },
   {
    "duration": 1497,
    "start_time": "2021-06-28T08:22:30.147Z"
   },
   {
    "duration": 96090,
    "start_time": "2021-06-28T08:23:01.937Z"
   },
   {
    "duration": 11974,
    "start_time": "2021-06-28T08:24:45.187Z"
   },
   {
    "duration": -1157,
    "start_time": "2021-06-28T08:24:58.320Z"
   },
   {
    "duration": 832,
    "start_time": "2021-06-28T08:25:03.101Z"
   },
   {
    "duration": 170,
    "start_time": "2021-06-28T08:25:12.276Z"
   },
   {
    "duration": 498,
    "start_time": "2021-06-28T08:25:23.087Z"
   },
   {
    "duration": 541,
    "start_time": "2021-06-28T08:25:28.561Z"
   },
   {
    "duration": 739,
    "start_time": "2021-06-28T08:25:34.613Z"
   },
   {
    "duration": 657,
    "start_time": "2021-06-28T08:25:40.647Z"
   },
   {
    "duration": 832,
    "start_time": "2021-06-28T08:25:47.609Z"
   },
   {
    "duration": 826,
    "start_time": "2021-06-28T08:25:54.269Z"
   },
   {
    "duration": 90556,
    "start_time": "2021-06-28T08:26:56.869Z"
   },
   {
    "duration": -1112,
    "start_time": "2021-06-28T08:28:28.540Z"
   },
   {
    "duration": 402,
    "start_time": "2021-06-28T08:28:50.089Z"
   },
   {
    "duration": 15014,
    "start_time": "2021-06-28T08:29:02.863Z"
   },
   {
    "duration": 95147,
    "start_time": "2021-06-28T08:29:23.176Z"
   },
   {
    "duration": -1125,
    "start_time": "2021-06-28T08:30:59.451Z"
   },
   {
    "duration": 98,
    "start_time": "2021-06-28T08:31:03.445Z"
   },
   {
    "duration": 2755,
    "start_time": "2021-06-28T08:31:55.640Z"
   },
   {
    "duration": 13639,
    "start_time": "2021-06-28T08:32:15.423Z"
   },
   {
    "duration": 32364,
    "start_time": "2021-06-28T08:32:42.156Z"
   },
   {
    "duration": 12185,
    "start_time": "2021-06-28T08:33:24.263Z"
   },
   {
    "duration": 13559,
    "start_time": "2021-06-28T08:33:46.294Z"
   },
   {
    "duration": 935,
    "start_time": "2021-06-28T08:34:06.945Z"
   },
   {
    "duration": 832,
    "start_time": "2021-06-28T08:34:16.097Z"
   },
   {
    "duration": 892,
    "start_time": "2021-06-28T08:34:30.034Z"
   },
   {
    "duration": 98,
    "start_time": "2021-06-28T08:34:41.065Z"
   },
   {
    "duration": 734,
    "start_time": "2021-06-28T08:35:05.638Z"
   },
   {
    "duration": 915,
    "start_time": "2021-06-28T08:35:14.024Z"
   },
   {
    "duration": 926,
    "start_time": "2021-06-28T08:35:25.822Z"
   },
   {
    "duration": 971,
    "start_time": "2021-06-28T08:35:31.891Z"
   },
   {
    "duration": 103,
    "start_time": "2021-06-28T08:35:43.528Z"
   },
   {
    "duration": 917,
    "start_time": "2021-06-28T08:35:49.935Z"
   },
   {
    "duration": 1009,
    "start_time": "2021-06-28T08:35:57.756Z"
   },
   {
    "duration": 1094,
    "start_time": "2021-06-28T08:36:04.639Z"
   },
   {
    "duration": 655,
    "start_time": "2021-06-28T08:36:14.716Z"
   },
   {
    "duration": 931,
    "start_time": "2021-06-28T08:36:20.850Z"
   },
   {
    "duration": 791,
    "start_time": "2021-06-28T08:36:32.441Z"
   },
   {
    "duration": 843,
    "start_time": "2021-06-28T08:37:00.435Z"
   },
   {
    "duration": 915,
    "start_time": "2021-06-28T08:37:08.909Z"
   },
   {
    "duration": 895,
    "start_time": "2021-06-28T08:37:18.685Z"
   },
   {
    "duration": 937,
    "start_time": "2021-06-28T08:37:24.730Z"
   },
   {
    "duration": 1600,
    "start_time": "2021-06-28T08:37:46.300Z"
   },
   {
    "duration": 20787,
    "start_time": "2021-06-28T08:38:48.933Z"
   },
   {
    "duration": 9835,
    "start_time": "2021-06-28T08:39:22.435Z"
   },
   {
    "duration": 16998,
    "start_time": "2021-06-28T08:40:07.013Z"
   },
   {
    "duration": 18414,
    "start_time": "2021-06-28T08:40:57.818Z"
   },
   {
    "duration": -1150,
    "start_time": "2021-06-28T08:41:17.385Z"
   },
   {
    "duration": 15939,
    "start_time": "2021-06-28T08:41:16.807Z"
   },
   {
    "duration": 17661,
    "start_time": "2021-06-28T08:41:47.078Z"
   },
   {
    "duration": 11916,
    "start_time": "2021-06-28T08:42:08.043Z"
   },
   {
    "duration": 13903,
    "start_time": "2021-06-28T08:42:26.742Z"
   },
   {
    "duration": 17229,
    "start_time": "2021-06-28T08:43:21.467Z"
   },
   {
    "duration": 43079,
    "start_time": "2021-06-28T08:43:45.920Z"
   },
   {
    "duration": 130,
    "start_time": "2021-06-28T08:44:43.885Z"
   },
   {
    "duration": 18139,
    "start_time": "2021-06-28T08:44:51.878Z"
   },
   {
    "duration": 3081,
    "start_time": "2021-06-28T08:45:25.233Z"
   },
   {
    "duration": 1580,
    "start_time": "2021-06-28T08:46:03.151Z"
   },
   {
    "duration": 16124,
    "start_time": "2021-06-28T08:46:20.075Z"
   },
   {
    "duration": 606,
    "start_time": "2021-06-28T08:46:56.113Z"
   },
   {
    "duration": 894,
    "start_time": "2021-06-28T08:49:02.226Z"
   },
   {
    "duration": 1041,
    "start_time": "2021-06-28T08:49:40.150Z"
   },
   {
    "duration": 765,
    "start_time": "2021-06-28T08:49:55.584Z"
   },
   {
    "duration": 19558,
    "start_time": "2021-06-28T08:50:07.199Z"
   },
   {
    "duration": 1812,
    "start_time": "2021-06-28T08:50:58.846Z"
   },
   {
    "duration": 1151,
    "start_time": "2021-06-28T08:51:34.750Z"
   },
   {
    "duration": 11076,
    "start_time": "2021-06-28T08:52:09.819Z"
   },
   {
    "duration": 4318,
    "start_time": "2021-06-28T08:52:48.946Z"
   },
   {
    "duration": 38468,
    "start_time": "2021-06-28T08:53:09.521Z"
   },
   {
    "duration": 413,
    "start_time": "2021-06-28T08:54:10.944Z"
   },
   {
    "duration": 652,
    "start_time": "2021-06-28T08:54:37.204Z"
   },
   {
    "duration": 832,
    "start_time": "2021-06-28T08:54:49.271Z"
   },
   {
    "duration": 57954,
    "start_time": "2021-06-28T08:55:05.059Z"
   },
   {
    "duration": 7904,
    "start_time": "2021-06-28T08:56:08.467Z"
   },
   {
    "duration": 751,
    "start_time": "2021-06-28T08:56:31.187Z"
   },
   {
    "duration": 867,
    "start_time": "2021-06-28T08:56:56.646Z"
   },
   {
    "duration": 840,
    "start_time": "2021-06-28T08:57:07.276Z"
   },
   {
    "duration": 933,
    "start_time": "2021-06-28T08:58:30.948Z"
   },
   {
    "duration": 651,
    "start_time": "2021-06-28T08:58:44.100Z"
   },
   {
    "duration": 999,
    "start_time": "2021-06-28T08:58:58.363Z"
   },
   {
    "duration": 825,
    "start_time": "2021-06-28T08:59:07.385Z"
   }
  ],
  "kernelspec": {
   "display_name": "Python 3",
   "language": "python",
   "name": "python3"
  },
  "language_info": {
   "codemirror_mode": {
    "name": "ipython",
    "version": 3
   },
   "file_extension": ".py",
   "mimetype": "text/x-python",
   "name": "python",
   "nbconvert_exporter": "python",
   "pygments_lexer": "ipython3",
   "version": "3.7.3"
  },
  "toc": {
   "base_numbering": 1,
   "nav_menu": {},
   "number_sections": true,
   "sideBar": true,
   "skip_h1_title": true,
   "title_cell": "Содержание",
   "title_sidebar": "Contents",
   "toc_cell": true,
   "toc_position": {
    "height": "calc(100% - 180px)",
    "left": "10px",
    "top": "150px",
    "width": "165px"
   },
   "toc_section_display": true,
   "toc_window_display": false
  }
 },
 "nbformat": 4,
 "nbformat_minor": 2
}
