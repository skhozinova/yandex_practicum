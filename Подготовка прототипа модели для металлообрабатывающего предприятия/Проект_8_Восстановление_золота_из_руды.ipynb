{
 "cells": [
  {
   "cell_type": "markdown",
   "metadata": {
    "toc": true
   },
   "source": [
    "<h1>Содержание<span class=\"tocSkip\"></span></h1>\n",
    "<div class=\"toc\"><ul class=\"toc-item\"><li><span><a href=\"#Подготовка-данных\" data-toc-modified-id=\"Подготовка-данных-1\"><span class=\"toc-item-num\">1&nbsp;&nbsp;</span>Подготовка данных</a></span><ul class=\"toc-item\"><li><span><a href=\"#Проверка-данных-в-gold_recovery_train\" data-toc-modified-id=\"Проверка-данных-в-gold_recovery_train-1.1\"><span class=\"toc-item-num\">1.1&nbsp;&nbsp;</span>Проверка данных в gold_recovery_train</a></span></li><li><span><a href=\"#Рассчёт-эффективности-обогащения-чернового-концентрата-rougher.output.recovery-из-gold_recovery_train\" data-toc-modified-id=\"Рассчёт-эффективности-обогащения-чернового-концентрата-rougher.output.recovery-из-gold_recovery_train-1.2\"><span class=\"toc-item-num\">1.2&nbsp;&nbsp;</span>Рассчёт эффективности обогащения чернового концентрата rougher.output.recovery из gold_recovery_train</a></span></li><li><span><a href=\"#Проверка-данных-в-gold_recovery_test\" data-toc-modified-id=\"Проверка-данных-в-gold_recovery_test-1.3\"><span class=\"toc-item-num\">1.3&nbsp;&nbsp;</span>Проверка данных в gold_recovery_test</a></span></li></ul></li><li><span><a href=\"#Анализ-данных\" data-toc-modified-id=\"Анализ-данных-2\"><span class=\"toc-item-num\">2&nbsp;&nbsp;</span>Анализ данных</a></span><ul class=\"toc-item\"><li><span><a href=\"#Концентрация-золота-на-различных-этапах-очистки\" data-toc-modified-id=\"Концентрация-золота-на-различных-этапах-очистки-2.1\"><span class=\"toc-item-num\">2.1&nbsp;&nbsp;</span>Концентрация золота на различных этапах очистки</a></span></li><li><span><a href=\"#Концентрация-серебра-на-различных-этапах-очистки\" data-toc-modified-id=\"Концентрация-серебра-на-различных-этапах-очистки-2.2\"><span class=\"toc-item-num\">2.2&nbsp;&nbsp;</span>Концентрация серебра на различных этапах очистки</a></span></li><li><span><a href=\"#Концентрация-свинца-на-различных-этапах-очистки\" data-toc-modified-id=\"Концентрация-свинца-на-различных-этапах-очистки-2.3\"><span class=\"toc-item-num\">2.3&nbsp;&nbsp;</span>Концентрация свинца на различных этапах очистки</a></span></li><li><span><a href=\"#Сравнение-распределения-размеров-гранул-сырья-на-обучающей-и-тестовой-выборках\" data-toc-modified-id=\"Сравнение-распределения-размеров-гранул-сырья-на-обучающей-и-тестовой-выборках-2.4\"><span class=\"toc-item-num\">2.4&nbsp;&nbsp;</span>Сравнение распределения размеров гранул сырья на обучающей и тестовой выборках</a></span></li><li><span><a href=\"#Суммарная-концентрация-всех-веществ-на-разных-стадиях:-в-сырье,-в-черновом-и-финальном-концентратах.\" data-toc-modified-id=\"Суммарная-концентрация-всех-веществ-на-разных-стадиях:-в-сырье,-в-черновом-и-финальном-концентратах.-2.5\"><span class=\"toc-item-num\">2.5&nbsp;&nbsp;</span>Суммарная концентрация всех веществ на разных стадиях: в сырье, в черновом и финальном концентратах.</a></span></li></ul></li><li><span><a href=\"#Модель\" data-toc-modified-id=\"Модель-3\"><span class=\"toc-item-num\">3&nbsp;&nbsp;</span>Модель</a></span><ul class=\"toc-item\"><li><span><a href=\"#Подготовка-признаков\" data-toc-modified-id=\"Подготовка-признаков-3.1\"><span class=\"toc-item-num\">3.1&nbsp;&nbsp;</span>Подготовка признаков</a></span></li><li><span><a href=\"#Поиск-лучшей-модели\" data-toc-modified-id=\"Поиск-лучшей-модели-3.2\"><span class=\"toc-item-num\">3.2&nbsp;&nbsp;</span>Поиск лучшей модели</a></span></li></ul></li><li><span><a href=\"#Общий-вывод\" data-toc-modified-id=\"Общий-вывод-4\"><span class=\"toc-item-num\">4&nbsp;&nbsp;</span>Общий вывод</a></span></li><li><span><a href=\"#Чек-лист-готовности-проекта\" data-toc-modified-id=\"Чек-лист-готовности-проекта-5\"><span class=\"toc-item-num\">5&nbsp;&nbsp;</span>Чек-лист готовности проекта</a></span></li></ul></div>"
   ]
  },
  {
   "cell_type": "markdown",
   "metadata": {},
   "source": [
    "# Восстановление золота из руды"
   ]
  },
  {
   "cell_type": "markdown",
   "metadata": {},
   "source": [
    "Подготовьте прототип модели машинного обучения для «Цифры». Компания разрабатывает решения для эффективной работы промышленных предприятий.\n",
    "\n",
    "Модель должна предсказать коэффициент восстановления золота из золотосодержащей руды. Используйте данные с параметрами добычи и очистки. \n",
    "\n",
    "Модель поможет оптимизировать производство, чтобы не запускать предприятие с убыточными характеристиками."
   ]
  },
  {
   "cell_type": "markdown",
   "metadata": {},
   "source": [
    "## Подготовка данных"
   ]
  },
  {
   "cell_type": "code",
   "execution_count": 1,
   "metadata": {},
   "outputs": [],
   "source": [
    "import matplotlib.pyplot as plt\n",
    "import numpy as np\n",
    "import pandas as pd\n",
    "import warnings\n",
    "from sklearn.model_selection import train_test_split\n",
    "from sklearn.preprocessing import StandardScaler\n",
    "from sklearn.metrics import r2_score\n",
    "from sklearn.metrics import mean_absolute_error\n",
    "from sklearn.preprocessing import PolynomialFeatures\n",
    "from sklearn.linear_model import LinearRegression\n",
    "from sklearn.linear_model import Ridge\n",
    "from sklearn.tree import DecisionTreeRegressor\n",
    "from sklearn.ensemble import RandomForestRegressor\n",
    "from sklearn.model_selection import cross_val_score\n",
    "warnings.filterwarnings('ignore')"
   ]
  },
  {
   "cell_type": "code",
   "execution_count": 2,
   "metadata": {},
   "outputs": [],
   "source": [
    "gold_recovery_train = pd.read_csv('/datasets/gold_recovery_train_new.csv')\n",
    "gold_recovery_test = pd.read_csv('/datasets/gold_recovery_test_new.csv')\n",
    "gold_recovery_full = pd.read_csv('/datasets/gold_recovery_full_new.csv')"
   ]
  },
  {
   "cell_type": "markdown",
   "metadata": {},
   "source": [
    "### Проверка данных в gold_recovery_train"
   ]
  },
  {
   "cell_type": "code",
   "execution_count": 3,
   "metadata": {},
   "outputs": [
    {
     "data": {
      "text/html": [
       "<div>\n",
       "<style scoped>\n",
       "    .dataframe tbody tr th:only-of-type {\n",
       "        vertical-align: middle;\n",
       "    }\n",
       "\n",
       "    .dataframe tbody tr th {\n",
       "        vertical-align: top;\n",
       "    }\n",
       "\n",
       "    .dataframe thead th {\n",
       "        text-align: right;\n",
       "    }\n",
       "</style>\n",
       "<table border=\"1\" class=\"dataframe\">\n",
       "  <thead>\n",
       "    <tr style=\"text-align: right;\">\n",
       "      <th></th>\n",
       "      <th>date</th>\n",
       "      <th>final.output.concentrate_ag</th>\n",
       "      <th>final.output.concentrate_pb</th>\n",
       "      <th>final.output.concentrate_sol</th>\n",
       "      <th>final.output.concentrate_au</th>\n",
       "      <th>final.output.recovery</th>\n",
       "      <th>final.output.tail_ag</th>\n",
       "      <th>final.output.tail_pb</th>\n",
       "      <th>final.output.tail_sol</th>\n",
       "      <th>final.output.tail_au</th>\n",
       "      <th>...</th>\n",
       "      <th>secondary_cleaner.state.floatbank4_a_air</th>\n",
       "      <th>secondary_cleaner.state.floatbank4_a_level</th>\n",
       "      <th>secondary_cleaner.state.floatbank4_b_air</th>\n",
       "      <th>secondary_cleaner.state.floatbank4_b_level</th>\n",
       "      <th>secondary_cleaner.state.floatbank5_a_air</th>\n",
       "      <th>secondary_cleaner.state.floatbank5_a_level</th>\n",
       "      <th>secondary_cleaner.state.floatbank5_b_air</th>\n",
       "      <th>secondary_cleaner.state.floatbank5_b_level</th>\n",
       "      <th>secondary_cleaner.state.floatbank6_a_air</th>\n",
       "      <th>secondary_cleaner.state.floatbank6_a_level</th>\n",
       "    </tr>\n",
       "  </thead>\n",
       "  <tbody>\n",
       "    <tr>\n",
       "      <th>2631</th>\n",
       "      <td>2016-05-29 11:59:59</td>\n",
       "      <td>3.988580</td>\n",
       "      <td>7.708970</td>\n",
       "      <td>9.181538</td>\n",
       "      <td>47.855964</td>\n",
       "      <td>56.145970</td>\n",
       "      <td>7.325820</td>\n",
       "      <td>1.544237</td>\n",
       "      <td>13.015513</td>\n",
       "      <td>2.722601</td>\n",
       "      <td>...</td>\n",
       "      <td>9.976669</td>\n",
       "      <td>-498.713327</td>\n",
       "      <td>8.055771</td>\n",
       "      <td>-500.043596</td>\n",
       "      <td>8.017184</td>\n",
       "      <td>-500.227600</td>\n",
       "      <td>6.081348</td>\n",
       "      <td>-500.269615</td>\n",
       "      <td>18.029739</td>\n",
       "      <td>-501.050718</td>\n",
       "    </tr>\n",
       "    <tr>\n",
       "      <th>9176</th>\n",
       "      <td>2017-08-05 22:59:59</td>\n",
       "      <td>3.558786</td>\n",
       "      <td>12.968573</td>\n",
       "      <td>7.494726</td>\n",
       "      <td>45.858945</td>\n",
       "      <td>66.475160</td>\n",
       "      <td>7.811791</td>\n",
       "      <td>4.571658</td>\n",
       "      <td>10.697491</td>\n",
       "      <td>3.076180</td>\n",
       "      <td>...</td>\n",
       "      <td>16.015604</td>\n",
       "      <td>-501.196449</td>\n",
       "      <td>12.974638</td>\n",
       "      <td>-400.326503</td>\n",
       "      <td>11.055695</td>\n",
       "      <td>-499.963409</td>\n",
       "      <td>9.034430</td>\n",
       "      <td>-499.757021</td>\n",
       "      <td>12.003622</td>\n",
       "      <td>-499.971475</td>\n",
       "    </tr>\n",
       "    <tr>\n",
       "      <th>13560</th>\n",
       "      <td>2018-07-15 00:59:59</td>\n",
       "      <td>3.718382</td>\n",
       "      <td>9.452148</td>\n",
       "      <td>7.324021</td>\n",
       "      <td>47.500293</td>\n",
       "      <td>70.194548</td>\n",
       "      <td>12.010382</td>\n",
       "      <td>2.894890</td>\n",
       "      <td>7.525320</td>\n",
       "      <td>2.343213</td>\n",
       "      <td>...</td>\n",
       "      <td>17.036735</td>\n",
       "      <td>-500.897743</td>\n",
       "      <td>14.922688</td>\n",
       "      <td>-499.780959</td>\n",
       "      <td>10.971571</td>\n",
       "      <td>-501.851518</td>\n",
       "      <td>10.015513</td>\n",
       "      <td>-500.179358</td>\n",
       "      <td>12.980721</td>\n",
       "      <td>-502.217143</td>\n",
       "    </tr>\n",
       "    <tr>\n",
       "      <th>7108</th>\n",
       "      <td>2017-04-26 02:59:59</td>\n",
       "      <td>4.695437</td>\n",
       "      <td>11.981588</td>\n",
       "      <td>10.881948</td>\n",
       "      <td>44.144131</td>\n",
       "      <td>67.573681</td>\n",
       "      <td>7.739055</td>\n",
       "      <td>2.909046</td>\n",
       "      <td>11.848076</td>\n",
       "      <td>2.621090</td>\n",
       "      <td>...</td>\n",
       "      <td>25.019391</td>\n",
       "      <td>-398.265616</td>\n",
       "      <td>23.009891</td>\n",
       "      <td>-399.772590</td>\n",
       "      <td>25.997236</td>\n",
       "      <td>-450.117733</td>\n",
       "      <td>24.025138</td>\n",
       "      <td>-450.016397</td>\n",
       "      <td>30.005431</td>\n",
       "      <td>-499.675947</td>\n",
       "    </tr>\n",
       "    <tr>\n",
       "      <th>13034</th>\n",
       "      <td>2018-06-19 18:59:59</td>\n",
       "      <td>3.961326</td>\n",
       "      <td>10.934898</td>\n",
       "      <td>6.686663</td>\n",
       "      <td>46.218959</td>\n",
       "      <td>93.542127</td>\n",
       "      <td>1.919966</td>\n",
       "      <td>0.539117</td>\n",
       "      <td>1.955674</td>\n",
       "      <td>0.420351</td>\n",
       "      <td>...</td>\n",
       "      <td>27.002944</td>\n",
       "      <td>-500.681059</td>\n",
       "      <td>20.010793</td>\n",
       "      <td>-495.292549</td>\n",
       "      <td>20.392224</td>\n",
       "      <td>-500.815226</td>\n",
       "      <td>16.392890</td>\n",
       "      <td>-497.768093</td>\n",
       "      <td>14.016693</td>\n",
       "      <td>-500.072151</td>\n",
       "    </tr>\n",
       "  </tbody>\n",
       "</table>\n",
       "<p>5 rows × 87 columns</p>\n",
       "</div>"
      ],
      "text/plain": [
       "                      date  final.output.concentrate_ag  \\\n",
       "2631   2016-05-29 11:59:59                     3.988580   \n",
       "9176   2017-08-05 22:59:59                     3.558786   \n",
       "13560  2018-07-15 00:59:59                     3.718382   \n",
       "7108   2017-04-26 02:59:59                     4.695437   \n",
       "13034  2018-06-19 18:59:59                     3.961326   \n",
       "\n",
       "       final.output.concentrate_pb  final.output.concentrate_sol  \\\n",
       "2631                      7.708970                      9.181538   \n",
       "9176                     12.968573                      7.494726   \n",
       "13560                     9.452148                      7.324021   \n",
       "7108                     11.981588                     10.881948   \n",
       "13034                    10.934898                      6.686663   \n",
       "\n",
       "       final.output.concentrate_au  final.output.recovery  \\\n",
       "2631                     47.855964              56.145970   \n",
       "9176                     45.858945              66.475160   \n",
       "13560                    47.500293              70.194548   \n",
       "7108                     44.144131              67.573681   \n",
       "13034                    46.218959              93.542127   \n",
       "\n",
       "       final.output.tail_ag  final.output.tail_pb  final.output.tail_sol  \\\n",
       "2631               7.325820              1.544237              13.015513   \n",
       "9176               7.811791              4.571658              10.697491   \n",
       "13560             12.010382              2.894890               7.525320   \n",
       "7108               7.739055              2.909046              11.848076   \n",
       "13034              1.919966              0.539117               1.955674   \n",
       "\n",
       "       final.output.tail_au  ...  secondary_cleaner.state.floatbank4_a_air  \\\n",
       "2631               2.722601  ...                                  9.976669   \n",
       "9176               3.076180  ...                                 16.015604   \n",
       "13560              2.343213  ...                                 17.036735   \n",
       "7108               2.621090  ...                                 25.019391   \n",
       "13034              0.420351  ...                                 27.002944   \n",
       "\n",
       "       secondary_cleaner.state.floatbank4_a_level  \\\n",
       "2631                                  -498.713327   \n",
       "9176                                  -501.196449   \n",
       "13560                                 -500.897743   \n",
       "7108                                  -398.265616   \n",
       "13034                                 -500.681059   \n",
       "\n",
       "       secondary_cleaner.state.floatbank4_b_air  \\\n",
       "2631                                   8.055771   \n",
       "9176                                  12.974638   \n",
       "13560                                 14.922688   \n",
       "7108                                  23.009891   \n",
       "13034                                 20.010793   \n",
       "\n",
       "       secondary_cleaner.state.floatbank4_b_level  \\\n",
       "2631                                  -500.043596   \n",
       "9176                                  -400.326503   \n",
       "13560                                 -499.780959   \n",
       "7108                                  -399.772590   \n",
       "13034                                 -495.292549   \n",
       "\n",
       "       secondary_cleaner.state.floatbank5_a_air  \\\n",
       "2631                                   8.017184   \n",
       "9176                                  11.055695   \n",
       "13560                                 10.971571   \n",
       "7108                                  25.997236   \n",
       "13034                                 20.392224   \n",
       "\n",
       "       secondary_cleaner.state.floatbank5_a_level  \\\n",
       "2631                                  -500.227600   \n",
       "9176                                  -499.963409   \n",
       "13560                                 -501.851518   \n",
       "7108                                  -450.117733   \n",
       "13034                                 -500.815226   \n",
       "\n",
       "       secondary_cleaner.state.floatbank5_b_air  \\\n",
       "2631                                   6.081348   \n",
       "9176                                   9.034430   \n",
       "13560                                 10.015513   \n",
       "7108                                  24.025138   \n",
       "13034                                 16.392890   \n",
       "\n",
       "       secondary_cleaner.state.floatbank5_b_level  \\\n",
       "2631                                  -500.269615   \n",
       "9176                                  -499.757021   \n",
       "13560                                 -500.179358   \n",
       "7108                                  -450.016397   \n",
       "13034                                 -497.768093   \n",
       "\n",
       "       secondary_cleaner.state.floatbank6_a_air  \\\n",
       "2631                                  18.029739   \n",
       "9176                                  12.003622   \n",
       "13560                                 12.980721   \n",
       "7108                                  30.005431   \n",
       "13034                                 14.016693   \n",
       "\n",
       "       secondary_cleaner.state.floatbank6_a_level  \n",
       "2631                                  -501.050718  \n",
       "9176                                  -499.971475  \n",
       "13560                                 -502.217143  \n",
       "7108                                  -499.675947  \n",
       "13034                                 -500.072151  \n",
       "\n",
       "[5 rows x 87 columns]"
      ]
     },
     "execution_count": 3,
     "metadata": {},
     "output_type": "execute_result"
    }
   ],
   "source": [
    "gold_recovery_train.sample(5)"
   ]
  },
  {
   "cell_type": "code",
   "execution_count": 4,
   "metadata": {},
   "outputs": [
    {
     "name": "stdout",
     "output_type": "stream",
     "text": [
      "<class 'pandas.core.frame.DataFrame'>\n",
      "RangeIndex: 14149 entries, 0 to 14148\n",
      "Data columns (total 87 columns):\n",
      " #   Column                                              Non-Null Count  Dtype  \n",
      "---  ------                                              --------------  -----  \n",
      " 0   date                                                14149 non-null  object \n",
      " 1   final.output.concentrate_ag                         14148 non-null  float64\n",
      " 2   final.output.concentrate_pb                         14148 non-null  float64\n",
      " 3   final.output.concentrate_sol                        13938 non-null  float64\n",
      " 4   final.output.concentrate_au                         14149 non-null  float64\n",
      " 5   final.output.recovery                               14149 non-null  float64\n",
      " 6   final.output.tail_ag                                14149 non-null  float64\n",
      " 7   final.output.tail_pb                                14049 non-null  float64\n",
      " 8   final.output.tail_sol                               14144 non-null  float64\n",
      " 9   final.output.tail_au                                14149 non-null  float64\n",
      " 10  primary_cleaner.input.sulfate                       14129 non-null  float64\n",
      " 11  primary_cleaner.input.depressant                    14117 non-null  float64\n",
      " 12  primary_cleaner.input.feed_size                     14149 non-null  float64\n",
      " 13  primary_cleaner.input.xanthate                      14049 non-null  float64\n",
      " 14  primary_cleaner.output.concentrate_ag               14149 non-null  float64\n",
      " 15  primary_cleaner.output.concentrate_pb               14063 non-null  float64\n",
      " 16  primary_cleaner.output.concentrate_sol              13863 non-null  float64\n",
      " 17  primary_cleaner.output.concentrate_au               14149 non-null  float64\n",
      " 18  primary_cleaner.output.tail_ag                      14148 non-null  float64\n",
      " 19  primary_cleaner.output.tail_pb                      14134 non-null  float64\n",
      " 20  primary_cleaner.output.tail_sol                     14103 non-null  float64\n",
      " 21  primary_cleaner.output.tail_au                      14149 non-null  float64\n",
      " 22  primary_cleaner.state.floatbank8_a_air              14145 non-null  float64\n",
      " 23  primary_cleaner.state.floatbank8_a_level            14148 non-null  float64\n",
      " 24  primary_cleaner.state.floatbank8_b_air              14145 non-null  float64\n",
      " 25  primary_cleaner.state.floatbank8_b_level            14148 non-null  float64\n",
      " 26  primary_cleaner.state.floatbank8_c_air              14147 non-null  float64\n",
      " 27  primary_cleaner.state.floatbank8_c_level            14148 non-null  float64\n",
      " 28  primary_cleaner.state.floatbank8_d_air              14146 non-null  float64\n",
      " 29  primary_cleaner.state.floatbank8_d_level            14148 non-null  float64\n",
      " 30  rougher.calculation.sulfate_to_au_concentrate       14148 non-null  float64\n",
      " 31  rougher.calculation.floatbank10_sulfate_to_au_feed  14148 non-null  float64\n",
      " 32  rougher.calculation.floatbank11_sulfate_to_au_feed  14148 non-null  float64\n",
      " 33  rougher.calculation.au_pb_ratio                     14149 non-null  float64\n",
      " 34  rougher.input.feed_ag                               14149 non-null  float64\n",
      " 35  rougher.input.feed_pb                               14049 non-null  float64\n",
      " 36  rougher.input.feed_rate                             14141 non-null  float64\n",
      " 37  rougher.input.feed_size                             14005 non-null  float64\n",
      " 38  rougher.input.feed_sol                              14071 non-null  float64\n",
      " 39  rougher.input.feed_au                               14149 non-null  float64\n",
      " 40  rougher.input.floatbank10_sulfate                   14120 non-null  float64\n",
      " 41  rougher.input.floatbank10_xanthate                  14141 non-null  float64\n",
      " 42  rougher.input.floatbank11_sulfate                   14113 non-null  float64\n",
      " 43  rougher.input.floatbank11_xanthate                  13721 non-null  float64\n",
      " 44  rougher.output.concentrate_ag                       14149 non-null  float64\n",
      " 45  rougher.output.concentrate_pb                       14149 non-null  float64\n",
      " 46  rougher.output.concentrate_sol                      14127 non-null  float64\n",
      " 47  rougher.output.concentrate_au                       14149 non-null  float64\n",
      " 48  rougher.output.recovery                             14149 non-null  float64\n",
      " 49  rougher.output.tail_ag                              14148 non-null  float64\n",
      " 50  rougher.output.tail_pb                              14149 non-null  float64\n",
      " 51  rougher.output.tail_sol                             14149 non-null  float64\n",
      " 52  rougher.output.tail_au                              14149 non-null  float64\n",
      " 53  rougher.state.floatbank10_a_air                     14148 non-null  float64\n",
      " 54  rougher.state.floatbank10_a_level                   14148 non-null  float64\n",
      " 55  rougher.state.floatbank10_b_air                     14148 non-null  float64\n",
      " 56  rougher.state.floatbank10_b_level                   14148 non-null  float64\n",
      " 57  rougher.state.floatbank10_c_air                     14148 non-null  float64\n",
      " 58  rougher.state.floatbank10_c_level                   14148 non-null  float64\n",
      " 59  rougher.state.floatbank10_d_air                     14149 non-null  float64\n",
      " 60  rougher.state.floatbank10_d_level                   14149 non-null  float64\n",
      " 61  rougher.state.floatbank10_e_air                     13713 non-null  float64\n",
      " 62  rougher.state.floatbank10_e_level                   14149 non-null  float64\n",
      " 63  rougher.state.floatbank10_f_air                     14149 non-null  float64\n",
      " 64  rougher.state.floatbank10_f_level                   14149 non-null  float64\n",
      " 65  secondary_cleaner.output.tail_ag                    14147 non-null  float64\n",
      " 66  secondary_cleaner.output.tail_pb                    14139 non-null  float64\n",
      " 67  secondary_cleaner.output.tail_sol                   12544 non-null  float64\n",
      " 68  secondary_cleaner.output.tail_au                    14149 non-null  float64\n",
      " 69  secondary_cleaner.state.floatbank2_a_air            13932 non-null  float64\n",
      " 70  secondary_cleaner.state.floatbank2_a_level          14148 non-null  float64\n",
      " 71  secondary_cleaner.state.floatbank2_b_air            14128 non-null  float64\n",
      " 72  secondary_cleaner.state.floatbank2_b_level          14148 non-null  float64\n",
      " 73  secondary_cleaner.state.floatbank3_a_air            14145 non-null  float64\n",
      " 74  secondary_cleaner.state.floatbank3_a_level          14148 non-null  float64\n",
      " 75  secondary_cleaner.state.floatbank3_b_air            14148 non-null  float64\n",
      " 76  secondary_cleaner.state.floatbank3_b_level          14148 non-null  float64\n",
      " 77  secondary_cleaner.state.floatbank4_a_air            14143 non-null  float64\n",
      " 78  secondary_cleaner.state.floatbank4_a_level          14148 non-null  float64\n",
      " 79  secondary_cleaner.state.floatbank4_b_air            14148 non-null  float64\n",
      " 80  secondary_cleaner.state.floatbank4_b_level          14148 non-null  float64\n",
      " 81  secondary_cleaner.state.floatbank5_a_air            14148 non-null  float64\n",
      " 82  secondary_cleaner.state.floatbank5_a_level          14148 non-null  float64\n",
      " 83  secondary_cleaner.state.floatbank5_b_air            14148 non-null  float64\n",
      " 84  secondary_cleaner.state.floatbank5_b_level          14148 non-null  float64\n",
      " 85  secondary_cleaner.state.floatbank6_a_air            14147 non-null  float64\n",
      " 86  secondary_cleaner.state.floatbank6_a_level          14148 non-null  float64\n",
      "dtypes: float64(86), object(1)\n",
      "memory usage: 9.4+ MB\n"
     ]
    }
   ],
   "source": [
    "gold_recovery_train.info()"
   ]
  },
  {
   "cell_type": "code",
   "execution_count": 5,
   "metadata": {},
   "outputs": [
    {
     "name": "stdout",
     "output_type": "stream",
     "text": [
      "Количество пропусков в каждом столбце:\n",
      "date                                            0\n",
      "final.output.concentrate_ag                     1\n",
      "final.output.concentrate_pb                     1\n",
      "final.output.concentrate_sol                  211\n",
      "final.output.concentrate_au                     0\n",
      "                                             ... \n",
      "secondary_cleaner.state.floatbank5_a_level      1\n",
      "secondary_cleaner.state.floatbank5_b_air        1\n",
      "secondary_cleaner.state.floatbank5_b_level      1\n",
      "secondary_cleaner.state.floatbank6_a_air        2\n",
      "secondary_cleaner.state.floatbank6_a_level      1\n",
      "Length: 87, dtype: int64\n"
     ]
    }
   ],
   "source": [
    "print('Количество пропусков в каждом столбце:')    \n",
    "print(gold_recovery_train.isnull().sum(axis = 0))"
   ]
  },
  {
   "cell_type": "code",
   "execution_count": 6,
   "metadata": {},
   "outputs": [
    {
     "name": "stdout",
     "output_type": "stream",
     "text": [
      "<class 'pandas.core.frame.DataFrame'>\n",
      "Int64Index: 11017 entries, 0 to 14148\n",
      "Data columns (total 87 columns):\n",
      " #   Column                                              Non-Null Count  Dtype  \n",
      "---  ------                                              --------------  -----  \n",
      " 0   date                                                11017 non-null  object \n",
      " 1   final.output.concentrate_ag                         11017 non-null  float64\n",
      " 2   final.output.concentrate_pb                         11017 non-null  float64\n",
      " 3   final.output.concentrate_sol                        11017 non-null  float64\n",
      " 4   final.output.concentrate_au                         11017 non-null  float64\n",
      " 5   final.output.recovery                               11017 non-null  float64\n",
      " 6   final.output.tail_ag                                11017 non-null  float64\n",
      " 7   final.output.tail_pb                                11017 non-null  float64\n",
      " 8   final.output.tail_sol                               11017 non-null  float64\n",
      " 9   final.output.tail_au                                11017 non-null  float64\n",
      " 10  primary_cleaner.input.sulfate                       11017 non-null  float64\n",
      " 11  primary_cleaner.input.depressant                    11017 non-null  float64\n",
      " 12  primary_cleaner.input.feed_size                     11017 non-null  float64\n",
      " 13  primary_cleaner.input.xanthate                      11017 non-null  float64\n",
      " 14  primary_cleaner.output.concentrate_ag               11017 non-null  float64\n",
      " 15  primary_cleaner.output.concentrate_pb               11017 non-null  float64\n",
      " 16  primary_cleaner.output.concentrate_sol              11017 non-null  float64\n",
      " 17  primary_cleaner.output.concentrate_au               11017 non-null  float64\n",
      " 18  primary_cleaner.output.tail_ag                      11017 non-null  float64\n",
      " 19  primary_cleaner.output.tail_pb                      11017 non-null  float64\n",
      " 20  primary_cleaner.output.tail_sol                     11017 non-null  float64\n",
      " 21  primary_cleaner.output.tail_au                      11017 non-null  float64\n",
      " 22  primary_cleaner.state.floatbank8_a_air              11017 non-null  float64\n",
      " 23  primary_cleaner.state.floatbank8_a_level            11017 non-null  float64\n",
      " 24  primary_cleaner.state.floatbank8_b_air              11017 non-null  float64\n",
      " 25  primary_cleaner.state.floatbank8_b_level            11017 non-null  float64\n",
      " 26  primary_cleaner.state.floatbank8_c_air              11017 non-null  float64\n",
      " 27  primary_cleaner.state.floatbank8_c_level            11017 non-null  float64\n",
      " 28  primary_cleaner.state.floatbank8_d_air              11017 non-null  float64\n",
      " 29  primary_cleaner.state.floatbank8_d_level            11017 non-null  float64\n",
      " 30  rougher.calculation.sulfate_to_au_concentrate       11017 non-null  float64\n",
      " 31  rougher.calculation.floatbank10_sulfate_to_au_feed  11017 non-null  float64\n",
      " 32  rougher.calculation.floatbank11_sulfate_to_au_feed  11017 non-null  float64\n",
      " 33  rougher.calculation.au_pb_ratio                     11017 non-null  float64\n",
      " 34  rougher.input.feed_ag                               11017 non-null  float64\n",
      " 35  rougher.input.feed_pb                               11017 non-null  float64\n",
      " 36  rougher.input.feed_rate                             11017 non-null  float64\n",
      " 37  rougher.input.feed_size                             11017 non-null  float64\n",
      " 38  rougher.input.feed_sol                              11017 non-null  float64\n",
      " 39  rougher.input.feed_au                               11017 non-null  float64\n",
      " 40  rougher.input.floatbank10_sulfate                   11017 non-null  float64\n",
      " 41  rougher.input.floatbank10_xanthate                  11017 non-null  float64\n",
      " 42  rougher.input.floatbank11_sulfate                   11017 non-null  float64\n",
      " 43  rougher.input.floatbank11_xanthate                  11017 non-null  float64\n",
      " 44  rougher.output.concentrate_ag                       11017 non-null  float64\n",
      " 45  rougher.output.concentrate_pb                       11017 non-null  float64\n",
      " 46  rougher.output.concentrate_sol                      11017 non-null  float64\n",
      " 47  rougher.output.concentrate_au                       11017 non-null  float64\n",
      " 48  rougher.output.recovery                             11017 non-null  float64\n",
      " 49  rougher.output.tail_ag                              11017 non-null  float64\n",
      " 50  rougher.output.tail_pb                              11017 non-null  float64\n",
      " 51  rougher.output.tail_sol                             11017 non-null  float64\n",
      " 52  rougher.output.tail_au                              11017 non-null  float64\n",
      " 53  rougher.state.floatbank10_a_air                     11017 non-null  float64\n",
      " 54  rougher.state.floatbank10_a_level                   11017 non-null  float64\n",
      " 55  rougher.state.floatbank10_b_air                     11017 non-null  float64\n",
      " 56  rougher.state.floatbank10_b_level                   11017 non-null  float64\n",
      " 57  rougher.state.floatbank10_c_air                     11017 non-null  float64\n",
      " 58  rougher.state.floatbank10_c_level                   11017 non-null  float64\n",
      " 59  rougher.state.floatbank10_d_air                     11017 non-null  float64\n",
      " 60  rougher.state.floatbank10_d_level                   11017 non-null  float64\n",
      " 61  rougher.state.floatbank10_e_air                     11017 non-null  float64\n",
      " 62  rougher.state.floatbank10_e_level                   11017 non-null  float64\n",
      " 63  rougher.state.floatbank10_f_air                     11017 non-null  float64\n",
      " 64  rougher.state.floatbank10_f_level                   11017 non-null  float64\n",
      " 65  secondary_cleaner.output.tail_ag                    11017 non-null  float64\n",
      " 66  secondary_cleaner.output.tail_pb                    11017 non-null  float64\n",
      " 67  secondary_cleaner.output.tail_sol                   11017 non-null  float64\n",
      " 68  secondary_cleaner.output.tail_au                    11017 non-null  float64\n",
      " 69  secondary_cleaner.state.floatbank2_a_air            11017 non-null  float64\n",
      " 70  secondary_cleaner.state.floatbank2_a_level          11017 non-null  float64\n",
      " 71  secondary_cleaner.state.floatbank2_b_air            11017 non-null  float64\n",
      " 72  secondary_cleaner.state.floatbank2_b_level          11017 non-null  float64\n",
      " 73  secondary_cleaner.state.floatbank3_a_air            11017 non-null  float64\n",
      " 74  secondary_cleaner.state.floatbank3_a_level          11017 non-null  float64\n",
      " 75  secondary_cleaner.state.floatbank3_b_air            11017 non-null  float64\n",
      " 76  secondary_cleaner.state.floatbank3_b_level          11017 non-null  float64\n",
      " 77  secondary_cleaner.state.floatbank4_a_air            11017 non-null  float64\n",
      " 78  secondary_cleaner.state.floatbank4_a_level          11017 non-null  float64\n",
      " 79  secondary_cleaner.state.floatbank4_b_air            11017 non-null  float64\n",
      " 80  secondary_cleaner.state.floatbank4_b_level          11017 non-null  float64\n",
      " 81  secondary_cleaner.state.floatbank5_a_air            11017 non-null  float64\n",
      " 82  secondary_cleaner.state.floatbank5_a_level          11017 non-null  float64\n",
      " 83  secondary_cleaner.state.floatbank5_b_air            11017 non-null  float64\n",
      " 84  secondary_cleaner.state.floatbank5_b_level          11017 non-null  float64\n",
      " 85  secondary_cleaner.state.floatbank6_a_air            11017 non-null  float64\n",
      " 86  secondary_cleaner.state.floatbank6_a_level          11017 non-null  float64\n",
      "dtypes: float64(86), object(1)\n",
      "memory usage: 7.4+ MB\n"
     ]
    }
   ],
   "source": [
    "#удалим NAN в обучающей выборке\n",
    "gold_recovery_train = gold_recovery_train.dropna()\n",
    "gold_recovery_train.info()"
   ]
  },
  {
   "cell_type": "markdown",
   "metadata": {},
   "source": [
    "### Рассчёт эффективности обогащения чернового концентрата rougher.output.recovery из gold_recovery_train"
   ]
  },
  {
   "cell_type": "code",
   "execution_count": 7,
   "metadata": {},
   "outputs": [
    {
     "name": "stdout",
     "output_type": "stream",
     "text": [
      "MAE: 1.0808737141330234e-14\n"
     ]
    }
   ],
   "source": [
    "concentrate_au_column = gold_recovery_train['rougher.output.concentrate_au']\n",
    "feed_au_column = gold_recovery_train['rougher.input.feed_au']\n",
    "tail_au_column = gold_recovery_train['rougher.output.tail_au']\n",
    "input_recovery = gold_recovery_train['rougher.output.recovery']\n",
    "calculated_recovery = concentrate_au_column * (feed_au_column - tail_au_column) / feed_au_column / (concentrate_au_column - tail_au_column) * 100\n",
    "print('MAE:', mean_absolute_error(input_recovery, calculated_recovery))"
   ]
  },
  {
   "cell_type": "markdown",
   "metadata": {},
   "source": [
    "**Вывод**\n",
    "\n",
    "MAE имеет достаточно малое значение, это говорит о том, что скорее всего расчетное значение rougher.output.recovery совпадает с данными из столбца."
   ]
  },
  {
   "cell_type": "markdown",
   "metadata": {},
   "source": [
    "### Проверка данных в gold_recovery_test"
   ]
  },
  {
   "cell_type": "code",
   "execution_count": 8,
   "metadata": {},
   "outputs": [
    {
     "data": {
      "text/html": [
       "<div>\n",
       "<style scoped>\n",
       "    .dataframe tbody tr th:only-of-type {\n",
       "        vertical-align: middle;\n",
       "    }\n",
       "\n",
       "    .dataframe tbody tr th {\n",
       "        vertical-align: top;\n",
       "    }\n",
       "\n",
       "    .dataframe thead th {\n",
       "        text-align: right;\n",
       "    }\n",
       "</style>\n",
       "<table border=\"1\" class=\"dataframe\">\n",
       "  <thead>\n",
       "    <tr style=\"text-align: right;\">\n",
       "      <th></th>\n",
       "      <th>date</th>\n",
       "      <th>primary_cleaner.input.sulfate</th>\n",
       "      <th>primary_cleaner.input.depressant</th>\n",
       "      <th>primary_cleaner.input.feed_size</th>\n",
       "      <th>primary_cleaner.input.xanthate</th>\n",
       "      <th>primary_cleaner.state.floatbank8_a_air</th>\n",
       "      <th>primary_cleaner.state.floatbank8_a_level</th>\n",
       "      <th>primary_cleaner.state.floatbank8_b_air</th>\n",
       "      <th>primary_cleaner.state.floatbank8_b_level</th>\n",
       "      <th>primary_cleaner.state.floatbank8_c_air</th>\n",
       "      <th>...</th>\n",
       "      <th>secondary_cleaner.state.floatbank4_a_air</th>\n",
       "      <th>secondary_cleaner.state.floatbank4_a_level</th>\n",
       "      <th>secondary_cleaner.state.floatbank4_b_air</th>\n",
       "      <th>secondary_cleaner.state.floatbank4_b_level</th>\n",
       "      <th>secondary_cleaner.state.floatbank5_a_air</th>\n",
       "      <th>secondary_cleaner.state.floatbank5_a_level</th>\n",
       "      <th>secondary_cleaner.state.floatbank5_b_air</th>\n",
       "      <th>secondary_cleaner.state.floatbank5_b_level</th>\n",
       "      <th>secondary_cleaner.state.floatbank6_a_air</th>\n",
       "      <th>secondary_cleaner.state.floatbank6_a_level</th>\n",
       "    </tr>\n",
       "  </thead>\n",
       "  <tbody>\n",
       "    <tr>\n",
       "      <th>1043</th>\n",
       "      <td>2016-10-24 14:59:59</td>\n",
       "      <td>140.043647</td>\n",
       "      <td>4.950146</td>\n",
       "      <td>7.200</td>\n",
       "      <td>0.701132</td>\n",
       "      <td>1609.819932</td>\n",
       "      <td>-500.381775</td>\n",
       "      <td>1699.687492</td>\n",
       "      <td>-500.104923</td>\n",
       "      <td>1700.064358</td>\n",
       "      <td>...</td>\n",
       "      <td>20.010061</td>\n",
       "      <td>-503.458822</td>\n",
       "      <td>16.995243</td>\n",
       "      <td>-500.419487</td>\n",
       "      <td>17.012873</td>\n",
       "      <td>-499.153010</td>\n",
       "      <td>13.975483</td>\n",
       "      <td>-499.930667</td>\n",
       "      <td>24.996083</td>\n",
       "      <td>-499.449136</td>\n",
       "    </tr>\n",
       "    <tr>\n",
       "      <th>2816</th>\n",
       "      <td>2017-09-13 04:59:59</td>\n",
       "      <td>143.385868</td>\n",
       "      <td>7.005586</td>\n",
       "      <td>6.685</td>\n",
       "      <td>0.954179</td>\n",
       "      <td>1295.220400</td>\n",
       "      <td>-500.712498</td>\n",
       "      <td>1298.382272</td>\n",
       "      <td>-500.218611</td>\n",
       "      <td>1299.478602</td>\n",
       "      <td>...</td>\n",
       "      <td>12.002153</td>\n",
       "      <td>-499.483022</td>\n",
       "      <td>9.043552</td>\n",
       "      <td>-400.046320</td>\n",
       "      <td>8.988576</td>\n",
       "      <td>-500.380189</td>\n",
       "      <td>6.962525</td>\n",
       "      <td>-499.806462</td>\n",
       "      <td>9.973968</td>\n",
       "      <td>-500.565589</td>\n",
       "    </tr>\n",
       "    <tr>\n",
       "      <th>4333</th>\n",
       "      <td>2017-11-19 05:59:59</td>\n",
       "      <td>240.139641</td>\n",
       "      <td>10.955583</td>\n",
       "      <td>6.480</td>\n",
       "      <td>3.852990</td>\n",
       "      <td>1702.647791</td>\n",
       "      <td>-499.894671</td>\n",
       "      <td>1629.265831</td>\n",
       "      <td>-488.719163</td>\n",
       "      <td>1562.649587</td>\n",
       "      <td>...</td>\n",
       "      <td>17.002047</td>\n",
       "      <td>-494.689387</td>\n",
       "      <td>15.052530</td>\n",
       "      <td>-488.237181</td>\n",
       "      <td>10.936330</td>\n",
       "      <td>-497.471497</td>\n",
       "      <td>8.983508</td>\n",
       "      <td>-494.011891</td>\n",
       "      <td>15.993573</td>\n",
       "      <td>-497.807365</td>\n",
       "    </tr>\n",
       "    <tr>\n",
       "      <th>40</th>\n",
       "      <td>2016-09-02 19:59:59</td>\n",
       "      <td>131.494963</td>\n",
       "      <td>8.025990</td>\n",
       "      <td>7.520</td>\n",
       "      <td>0.694379</td>\n",
       "      <td>1298.260528</td>\n",
       "      <td>-500.212080</td>\n",
       "      <td>1300.576128</td>\n",
       "      <td>-499.660813</td>\n",
       "      <td>1298.313572</td>\n",
       "      <td>...</td>\n",
       "      <td>12.058004</td>\n",
       "      <td>-500.896198</td>\n",
       "      <td>8.086600</td>\n",
       "      <td>-501.364672</td>\n",
       "      <td>8.061501</td>\n",
       "      <td>-499.132579</td>\n",
       "      <td>4.996050</td>\n",
       "      <td>-500.308764</td>\n",
       "      <td>9.980833</td>\n",
       "      <td>-500.061307</td>\n",
       "    </tr>\n",
       "    <tr>\n",
       "      <th>809</th>\n",
       "      <td>2016-10-14 18:59:59</td>\n",
       "      <td>201.875353</td>\n",
       "      <td>15.036950</td>\n",
       "      <td>6.700</td>\n",
       "      <td>0.820611</td>\n",
       "      <td>1619.875328</td>\n",
       "      <td>-500.107552</td>\n",
       "      <td>1702.575928</td>\n",
       "      <td>-499.859112</td>\n",
       "      <td>1699.004106</td>\n",
       "      <td>...</td>\n",
       "      <td>15.935780</td>\n",
       "      <td>-501.297491</td>\n",
       "      <td>12.023995</td>\n",
       "      <td>-501.190930</td>\n",
       "      <td>8.851305</td>\n",
       "      <td>-499.883187</td>\n",
       "      <td>7.969385</td>\n",
       "      <td>-499.865790</td>\n",
       "      <td>16.999865</td>\n",
       "      <td>-500.275869</td>\n",
       "    </tr>\n",
       "  </tbody>\n",
       "</table>\n",
       "<p>5 rows × 53 columns</p>\n",
       "</div>"
      ],
      "text/plain": [
       "                     date  primary_cleaner.input.sulfate  \\\n",
       "1043  2016-10-24 14:59:59                     140.043647   \n",
       "2816  2017-09-13 04:59:59                     143.385868   \n",
       "4333  2017-11-19 05:59:59                     240.139641   \n",
       "40    2016-09-02 19:59:59                     131.494963   \n",
       "809   2016-10-14 18:59:59                     201.875353   \n",
       "\n",
       "      primary_cleaner.input.depressant  primary_cleaner.input.feed_size  \\\n",
       "1043                          4.950146                            7.200   \n",
       "2816                          7.005586                            6.685   \n",
       "4333                         10.955583                            6.480   \n",
       "40                            8.025990                            7.520   \n",
       "809                          15.036950                            6.700   \n",
       "\n",
       "      primary_cleaner.input.xanthate  primary_cleaner.state.floatbank8_a_air  \\\n",
       "1043                        0.701132                             1609.819932   \n",
       "2816                        0.954179                             1295.220400   \n",
       "4333                        3.852990                             1702.647791   \n",
       "40                          0.694379                             1298.260528   \n",
       "809                         0.820611                             1619.875328   \n",
       "\n",
       "      primary_cleaner.state.floatbank8_a_level  \\\n",
       "1043                               -500.381775   \n",
       "2816                               -500.712498   \n",
       "4333                               -499.894671   \n",
       "40                                 -500.212080   \n",
       "809                                -500.107552   \n",
       "\n",
       "      primary_cleaner.state.floatbank8_b_air  \\\n",
       "1043                             1699.687492   \n",
       "2816                             1298.382272   \n",
       "4333                             1629.265831   \n",
       "40                               1300.576128   \n",
       "809                              1702.575928   \n",
       "\n",
       "      primary_cleaner.state.floatbank8_b_level  \\\n",
       "1043                               -500.104923   \n",
       "2816                               -500.218611   \n",
       "4333                               -488.719163   \n",
       "40                                 -499.660813   \n",
       "809                                -499.859112   \n",
       "\n",
       "      primary_cleaner.state.floatbank8_c_air  ...  \\\n",
       "1043                             1700.064358  ...   \n",
       "2816                             1299.478602  ...   \n",
       "4333                             1562.649587  ...   \n",
       "40                               1298.313572  ...   \n",
       "809                              1699.004106  ...   \n",
       "\n",
       "      secondary_cleaner.state.floatbank4_a_air  \\\n",
       "1043                                 20.010061   \n",
       "2816                                 12.002153   \n",
       "4333                                 17.002047   \n",
       "40                                   12.058004   \n",
       "809                                  15.935780   \n",
       "\n",
       "      secondary_cleaner.state.floatbank4_a_level  \\\n",
       "1043                                 -503.458822   \n",
       "2816                                 -499.483022   \n",
       "4333                                 -494.689387   \n",
       "40                                   -500.896198   \n",
       "809                                  -501.297491   \n",
       "\n",
       "      secondary_cleaner.state.floatbank4_b_air  \\\n",
       "1043                                 16.995243   \n",
       "2816                                  9.043552   \n",
       "4333                                 15.052530   \n",
       "40                                    8.086600   \n",
       "809                                  12.023995   \n",
       "\n",
       "      secondary_cleaner.state.floatbank4_b_level  \\\n",
       "1043                                 -500.419487   \n",
       "2816                                 -400.046320   \n",
       "4333                                 -488.237181   \n",
       "40                                   -501.364672   \n",
       "809                                  -501.190930   \n",
       "\n",
       "      secondary_cleaner.state.floatbank5_a_air  \\\n",
       "1043                                 17.012873   \n",
       "2816                                  8.988576   \n",
       "4333                                 10.936330   \n",
       "40                                    8.061501   \n",
       "809                                   8.851305   \n",
       "\n",
       "      secondary_cleaner.state.floatbank5_a_level  \\\n",
       "1043                                 -499.153010   \n",
       "2816                                 -500.380189   \n",
       "4333                                 -497.471497   \n",
       "40                                   -499.132579   \n",
       "809                                  -499.883187   \n",
       "\n",
       "      secondary_cleaner.state.floatbank5_b_air  \\\n",
       "1043                                 13.975483   \n",
       "2816                                  6.962525   \n",
       "4333                                  8.983508   \n",
       "40                                    4.996050   \n",
       "809                                   7.969385   \n",
       "\n",
       "      secondary_cleaner.state.floatbank5_b_level  \\\n",
       "1043                                 -499.930667   \n",
       "2816                                 -499.806462   \n",
       "4333                                 -494.011891   \n",
       "40                                   -500.308764   \n",
       "809                                  -499.865790   \n",
       "\n",
       "      secondary_cleaner.state.floatbank6_a_air  \\\n",
       "1043                                 24.996083   \n",
       "2816                                  9.973968   \n",
       "4333                                 15.993573   \n",
       "40                                    9.980833   \n",
       "809                                  16.999865   \n",
       "\n",
       "      secondary_cleaner.state.floatbank6_a_level  \n",
       "1043                                 -499.449136  \n",
       "2816                                 -500.565589  \n",
       "4333                                 -497.807365  \n",
       "40                                   -500.061307  \n",
       "809                                  -500.275869  \n",
       "\n",
       "[5 rows x 53 columns]"
      ]
     },
     "execution_count": 8,
     "metadata": {},
     "output_type": "execute_result"
    }
   ],
   "source": [
    "gold_recovery_test.sample(5)"
   ]
  },
  {
   "cell_type": "code",
   "execution_count": 9,
   "metadata": {},
   "outputs": [
    {
     "name": "stdout",
     "output_type": "stream",
     "text": [
      "<class 'pandas.core.frame.DataFrame'>\n",
      "RangeIndex: 5290 entries, 0 to 5289\n",
      "Data columns (total 53 columns):\n",
      " #   Column                                      Non-Null Count  Dtype  \n",
      "---  ------                                      --------------  -----  \n",
      " 0   date                                        5290 non-null   object \n",
      " 1   primary_cleaner.input.sulfate               5286 non-null   float64\n",
      " 2   primary_cleaner.input.depressant            5285 non-null   float64\n",
      " 3   primary_cleaner.input.feed_size             5290 non-null   float64\n",
      " 4   primary_cleaner.input.xanthate              5286 non-null   float64\n",
      " 5   primary_cleaner.state.floatbank8_a_air      5290 non-null   float64\n",
      " 6   primary_cleaner.state.floatbank8_a_level    5290 non-null   float64\n",
      " 7   primary_cleaner.state.floatbank8_b_air      5290 non-null   float64\n",
      " 8   primary_cleaner.state.floatbank8_b_level    5290 non-null   float64\n",
      " 9   primary_cleaner.state.floatbank8_c_air      5290 non-null   float64\n",
      " 10  primary_cleaner.state.floatbank8_c_level    5290 non-null   float64\n",
      " 11  primary_cleaner.state.floatbank8_d_air      5290 non-null   float64\n",
      " 12  primary_cleaner.state.floatbank8_d_level    5290 non-null   float64\n",
      " 13  rougher.input.feed_ag                       5290 non-null   float64\n",
      " 14  rougher.input.feed_pb                       5290 non-null   float64\n",
      " 15  rougher.input.feed_rate                     5287 non-null   float64\n",
      " 16  rougher.input.feed_size                     5289 non-null   float64\n",
      " 17  rougher.input.feed_sol                      5269 non-null   float64\n",
      " 18  rougher.input.feed_au                       5290 non-null   float64\n",
      " 19  rougher.input.floatbank10_sulfate           5285 non-null   float64\n",
      " 20  rougher.input.floatbank10_xanthate          5290 non-null   float64\n",
      " 21  rougher.input.floatbank11_sulfate           5282 non-null   float64\n",
      " 22  rougher.input.floatbank11_xanthate          5265 non-null   float64\n",
      " 23  rougher.state.floatbank10_a_air             5290 non-null   float64\n",
      " 24  rougher.state.floatbank10_a_level           5290 non-null   float64\n",
      " 25  rougher.state.floatbank10_b_air             5290 non-null   float64\n",
      " 26  rougher.state.floatbank10_b_level           5290 non-null   float64\n",
      " 27  rougher.state.floatbank10_c_air             5290 non-null   float64\n",
      " 28  rougher.state.floatbank10_c_level           5290 non-null   float64\n",
      " 29  rougher.state.floatbank10_d_air             5290 non-null   float64\n",
      " 30  rougher.state.floatbank10_d_level           5290 non-null   float64\n",
      " 31  rougher.state.floatbank10_e_air             5290 non-null   float64\n",
      " 32  rougher.state.floatbank10_e_level           5290 non-null   float64\n",
      " 33  rougher.state.floatbank10_f_air             5290 non-null   float64\n",
      " 34  rougher.state.floatbank10_f_level           5290 non-null   float64\n",
      " 35  secondary_cleaner.state.floatbank2_a_air    5287 non-null   float64\n",
      " 36  secondary_cleaner.state.floatbank2_a_level  5290 non-null   float64\n",
      " 37  secondary_cleaner.state.floatbank2_b_air    5288 non-null   float64\n",
      " 38  secondary_cleaner.state.floatbank2_b_level  5290 non-null   float64\n",
      " 39  secondary_cleaner.state.floatbank3_a_air    5281 non-null   float64\n",
      " 40  secondary_cleaner.state.floatbank3_a_level  5290 non-null   float64\n",
      " 41  secondary_cleaner.state.floatbank3_b_air    5290 non-null   float64\n",
      " 42  secondary_cleaner.state.floatbank3_b_level  5290 non-null   float64\n",
      " 43  secondary_cleaner.state.floatbank4_a_air    5290 non-null   float64\n",
      " 44  secondary_cleaner.state.floatbank4_a_level  5290 non-null   float64\n",
      " 45  secondary_cleaner.state.floatbank4_b_air    5290 non-null   float64\n",
      " 46  secondary_cleaner.state.floatbank4_b_level  5290 non-null   float64\n",
      " 47  secondary_cleaner.state.floatbank5_a_air    5290 non-null   float64\n",
      " 48  secondary_cleaner.state.floatbank5_a_level  5290 non-null   float64\n",
      " 49  secondary_cleaner.state.floatbank5_b_air    5290 non-null   float64\n",
      " 50  secondary_cleaner.state.floatbank5_b_level  5290 non-null   float64\n",
      " 51  secondary_cleaner.state.floatbank6_a_air    5290 non-null   float64\n",
      " 52  secondary_cleaner.state.floatbank6_a_level  5290 non-null   float64\n",
      "dtypes: float64(52), object(1)\n",
      "memory usage: 2.1+ MB\n"
     ]
    }
   ],
   "source": [
    "gold_recovery_test.info()"
   ]
  },
  {
   "cell_type": "code",
   "execution_count": 10,
   "metadata": {},
   "outputs": [
    {
     "name": "stdout",
     "output_type": "stream",
     "text": [
      "Количество пропусков в каждом столбце:\n",
      "date                                           0\n",
      "primary_cleaner.input.sulfate                  4\n",
      "primary_cleaner.input.depressant               5\n",
      "primary_cleaner.input.feed_size                0\n",
      "primary_cleaner.input.xanthate                 4\n",
      "primary_cleaner.state.floatbank8_a_air         0\n",
      "primary_cleaner.state.floatbank8_a_level       0\n",
      "primary_cleaner.state.floatbank8_b_air         0\n",
      "primary_cleaner.state.floatbank8_b_level       0\n",
      "primary_cleaner.state.floatbank8_c_air         0\n",
      "primary_cleaner.state.floatbank8_c_level       0\n",
      "primary_cleaner.state.floatbank8_d_air         0\n",
      "primary_cleaner.state.floatbank8_d_level       0\n",
      "rougher.input.feed_ag                          0\n",
      "rougher.input.feed_pb                          0\n",
      "rougher.input.feed_rate                        3\n",
      "rougher.input.feed_size                        1\n",
      "rougher.input.feed_sol                        21\n",
      "rougher.input.feed_au                          0\n",
      "rougher.input.floatbank10_sulfate              5\n",
      "rougher.input.floatbank10_xanthate             0\n",
      "rougher.input.floatbank11_sulfate              8\n",
      "rougher.input.floatbank11_xanthate            25\n",
      "rougher.state.floatbank10_a_air                0\n",
      "rougher.state.floatbank10_a_level              0\n",
      "rougher.state.floatbank10_b_air                0\n",
      "rougher.state.floatbank10_b_level              0\n",
      "rougher.state.floatbank10_c_air                0\n",
      "rougher.state.floatbank10_c_level              0\n",
      "rougher.state.floatbank10_d_air                0\n",
      "rougher.state.floatbank10_d_level              0\n",
      "rougher.state.floatbank10_e_air                0\n",
      "rougher.state.floatbank10_e_level              0\n",
      "rougher.state.floatbank10_f_air                0\n",
      "rougher.state.floatbank10_f_level              0\n",
      "secondary_cleaner.state.floatbank2_a_air       3\n",
      "secondary_cleaner.state.floatbank2_a_level     0\n",
      "secondary_cleaner.state.floatbank2_b_air       2\n",
      "secondary_cleaner.state.floatbank2_b_level     0\n",
      "secondary_cleaner.state.floatbank3_a_air       9\n",
      "secondary_cleaner.state.floatbank3_a_level     0\n",
      "secondary_cleaner.state.floatbank3_b_air       0\n",
      "secondary_cleaner.state.floatbank3_b_level     0\n",
      "secondary_cleaner.state.floatbank4_a_air       0\n",
      "secondary_cleaner.state.floatbank4_a_level     0\n",
      "secondary_cleaner.state.floatbank4_b_air       0\n",
      "secondary_cleaner.state.floatbank4_b_level     0\n",
      "secondary_cleaner.state.floatbank5_a_air       0\n",
      "secondary_cleaner.state.floatbank5_a_level     0\n",
      "secondary_cleaner.state.floatbank5_b_air       0\n",
      "secondary_cleaner.state.floatbank5_b_level     0\n",
      "secondary_cleaner.state.floatbank6_a_air       0\n",
      "secondary_cleaner.state.floatbank6_a_level     0\n",
      "dtype: int64\n"
     ]
    }
   ],
   "source": [
    "print('Количество пропусков в каждом столбце:')    \n",
    "print(gold_recovery_test.isnull().sum(axis = 0))"
   ]
  },
  {
   "cell_type": "code",
   "execution_count": 11,
   "metadata": {},
   "outputs": [
    {
     "name": "stdout",
     "output_type": "stream",
     "text": [
      "<class 'pandas.core.frame.DataFrame'>\n",
      "Int64Index: 5229 entries, 0 to 5289\n",
      "Data columns (total 53 columns):\n",
      " #   Column                                      Non-Null Count  Dtype  \n",
      "---  ------                                      --------------  -----  \n",
      " 0   date                                        5229 non-null   object \n",
      " 1   primary_cleaner.input.sulfate               5229 non-null   float64\n",
      " 2   primary_cleaner.input.depressant            5229 non-null   float64\n",
      " 3   primary_cleaner.input.feed_size             5229 non-null   float64\n",
      " 4   primary_cleaner.input.xanthate              5229 non-null   float64\n",
      " 5   primary_cleaner.state.floatbank8_a_air      5229 non-null   float64\n",
      " 6   primary_cleaner.state.floatbank8_a_level    5229 non-null   float64\n",
      " 7   primary_cleaner.state.floatbank8_b_air      5229 non-null   float64\n",
      " 8   primary_cleaner.state.floatbank8_b_level    5229 non-null   float64\n",
      " 9   primary_cleaner.state.floatbank8_c_air      5229 non-null   float64\n",
      " 10  primary_cleaner.state.floatbank8_c_level    5229 non-null   float64\n",
      " 11  primary_cleaner.state.floatbank8_d_air      5229 non-null   float64\n",
      " 12  primary_cleaner.state.floatbank8_d_level    5229 non-null   float64\n",
      " 13  rougher.input.feed_ag                       5229 non-null   float64\n",
      " 14  rougher.input.feed_pb                       5229 non-null   float64\n",
      " 15  rougher.input.feed_rate                     5229 non-null   float64\n",
      " 16  rougher.input.feed_size                     5229 non-null   float64\n",
      " 17  rougher.input.feed_sol                      5229 non-null   float64\n",
      " 18  rougher.input.feed_au                       5229 non-null   float64\n",
      " 19  rougher.input.floatbank10_sulfate           5229 non-null   float64\n",
      " 20  rougher.input.floatbank10_xanthate          5229 non-null   float64\n",
      " 21  rougher.input.floatbank11_sulfate           5229 non-null   float64\n",
      " 22  rougher.input.floatbank11_xanthate          5229 non-null   float64\n",
      " 23  rougher.state.floatbank10_a_air             5229 non-null   float64\n",
      " 24  rougher.state.floatbank10_a_level           5229 non-null   float64\n",
      " 25  rougher.state.floatbank10_b_air             5229 non-null   float64\n",
      " 26  rougher.state.floatbank10_b_level           5229 non-null   float64\n",
      " 27  rougher.state.floatbank10_c_air             5229 non-null   float64\n",
      " 28  rougher.state.floatbank10_c_level           5229 non-null   float64\n",
      " 29  rougher.state.floatbank10_d_air             5229 non-null   float64\n",
      " 30  rougher.state.floatbank10_d_level           5229 non-null   float64\n",
      " 31  rougher.state.floatbank10_e_air             5229 non-null   float64\n",
      " 32  rougher.state.floatbank10_e_level           5229 non-null   float64\n",
      " 33  rougher.state.floatbank10_f_air             5229 non-null   float64\n",
      " 34  rougher.state.floatbank10_f_level           5229 non-null   float64\n",
      " 35  secondary_cleaner.state.floatbank2_a_air    5229 non-null   float64\n",
      " 36  secondary_cleaner.state.floatbank2_a_level  5229 non-null   float64\n",
      " 37  secondary_cleaner.state.floatbank2_b_air    5229 non-null   float64\n",
      " 38  secondary_cleaner.state.floatbank2_b_level  5229 non-null   float64\n",
      " 39  secondary_cleaner.state.floatbank3_a_air    5229 non-null   float64\n",
      " 40  secondary_cleaner.state.floatbank3_a_level  5229 non-null   float64\n",
      " 41  secondary_cleaner.state.floatbank3_b_air    5229 non-null   float64\n",
      " 42  secondary_cleaner.state.floatbank3_b_level  5229 non-null   float64\n",
      " 43  secondary_cleaner.state.floatbank4_a_air    5229 non-null   float64\n",
      " 44  secondary_cleaner.state.floatbank4_a_level  5229 non-null   float64\n",
      " 45  secondary_cleaner.state.floatbank4_b_air    5229 non-null   float64\n",
      " 46  secondary_cleaner.state.floatbank4_b_level  5229 non-null   float64\n",
      " 47  secondary_cleaner.state.floatbank5_a_air    5229 non-null   float64\n",
      " 48  secondary_cleaner.state.floatbank5_a_level  5229 non-null   float64\n",
      " 49  secondary_cleaner.state.floatbank5_b_air    5229 non-null   float64\n",
      " 50  secondary_cleaner.state.floatbank5_b_level  5229 non-null   float64\n",
      " 51  secondary_cleaner.state.floatbank6_a_air    5229 non-null   float64\n",
      " 52  secondary_cleaner.state.floatbank6_a_level  5229 non-null   float64\n",
      "dtypes: float64(52), object(1)\n",
      "memory usage: 2.2+ MB\n"
     ]
    }
   ],
   "source": [
    "#удалим NAN в тестовой выборке\n",
    "gold_recovery_test = gold_recovery_test.dropna()\n",
    "gold_recovery_test.info()"
   ]
  },
  {
   "cell_type": "markdown",
   "metadata": {},
   "source": [
    "**Вывод:**\n",
    "\n",
    "В тестовой выборке gold_recovery_test отсуствуют необходимые для рассчетов признаки rougher.output, rougher.calculation, final.output. \n",
    "\n",
    "Согласно условию задачи, некоторые признаки отсутствуют, потому что будут получены только в результате технологического процесса, это и будут онлайн-метрики. А признаки, которые нам известны - это офлайн-метрики."
   ]
  },
  {
   "cell_type": "markdown",
   "metadata": {},
   "source": [
    "Для рассчетов необходимо выбрать признаки из тестовой выборки, по которым в дальнейшем будет обучаться наша модель. Для предсказания целевого признака rougher.output.recovery будут использоватся данные из столбцов этапа rougher. Для вычисления final.output.recovery будут использованы все столбцы из тестовой выборки."
   ]
  },
  {
   "cell_type": "code",
   "execution_count": 12,
   "metadata": {},
   "outputs": [
    {
     "name": "stdout",
     "output_type": "stream",
     "text": [
      "{'rougher.input.feed_au', 'rougher.input.feed_sol', 'rougher.state.floatbank10_d_level', 'rougher.input.feed_pb', 'rougher.input.floatbank10_sulfate', 'rougher.state.floatbank10_b_air', 'rougher.state.floatbank10_f_level', 'rougher.state.floatbank10_a_level', 'rougher.input.feed_ag', 'rougher.state.floatbank10_b_level', 'rougher.state.floatbank10_e_level', 'rougher.state.floatbank10_e_air', 'rougher.input.floatbank10_xanthate', 'rougher.state.floatbank10_f_air', 'rougher.state.floatbank10_c_level', 'rougher.input.floatbank11_xanthate', 'rougher.input.floatbank11_sulfate', 'rougher.state.floatbank10_c_air', 'rougher.state.floatbank10_d_air', 'rougher.input.feed_rate', 'rougher.state.floatbank10_a_air', 'rougher.input.feed_size'}\n",
      "\n",
      "{'secondary_cleaner.state.floatbank6_a_level', 'secondary_cleaner.state.floatbank2_b_air', 'primary_cleaner.input.xanthate', 'rougher.input.feed_au', 'primary_cleaner.input.depressant', 'rougher.input.feed_sol', 'secondary_cleaner.state.floatbank3_a_air', 'rougher.state.floatbank10_d_level', 'primary_cleaner.input.feed_size', 'secondary_cleaner.state.floatbank3_b_air', 'rougher.input.feed_pb', 'primary_cleaner.state.floatbank8_c_level', 'rougher.input.floatbank10_sulfate', 'secondary_cleaner.state.floatbank2_a_level', 'secondary_cleaner.state.floatbank5_a_level', 'secondary_cleaner.state.floatbank6_a_air', 'primary_cleaner.state.floatbank8_c_air', 'rougher.state.floatbank10_b_air', 'rougher.state.floatbank10_f_level', 'rougher.state.floatbank10_a_level', 'primary_cleaner.state.floatbank8_a_air', 'secondary_cleaner.state.floatbank2_a_air', 'secondary_cleaner.state.floatbank3_a_level', 'rougher.input.feed_ag', 'rougher.state.floatbank10_b_level', 'rougher.state.floatbank10_e_level', 'primary_cleaner.state.floatbank8_b_level', 'secondary_cleaner.state.floatbank4_b_level', 'secondary_cleaner.state.floatbank4_a_air', 'secondary_cleaner.state.floatbank5_b_air', 'rougher.state.floatbank10_e_air', 'secondary_cleaner.state.floatbank2_b_level', 'secondary_cleaner.state.floatbank5_b_level', 'rougher.input.floatbank10_xanthate', 'rougher.state.floatbank10_f_air', 'primary_cleaner.state.floatbank8_b_air', 'secondary_cleaner.state.floatbank4_a_level', 'rougher.state.floatbank10_c_level', 'primary_cleaner.state.floatbank8_d_air', 'rougher.input.floatbank11_xanthate', 'rougher.input.floatbank11_sulfate', 'rougher.state.floatbank10_c_air', 'primary_cleaner.state.floatbank8_d_level', 'rougher.state.floatbank10_d_air', 'primary_cleaner.input.sulfate', 'rougher.input.feed_rate', 'secondary_cleaner.state.floatbank3_b_level', 'secondary_cleaner.state.floatbank4_b_air', 'rougher.state.floatbank10_a_air', 'secondary_cleaner.state.floatbank5_a_air', 'rougher.input.feed_size', 'primary_cleaner.state.floatbank8_a_level'}\n"
     ]
    }
   ],
   "source": [
    "features_columns = gold_recovery_test.columns[1:]\n",
    "rougher_features_columns = set(features_columns[12:34])\n",
    "final_features_columns = set(features_columns)\n",
    "print(rougher_features_columns)\n",
    "print()\n",
    "print(final_features_columns)"
   ]
  },
  {
   "cell_type": "raw",
   "metadata": {},
   "source": [
    "df.columns[df.columns.str.contains(pat='ДО|ПОСЛЕ 3 мес')]\n",
    "df.filter(like='ДО', axis=1)\n",
    "df.filter(regex='ДО|ПОСЛЕ 3 мес', axis=1)"
   ]
  },
  {
   "cell_type": "markdown",
   "metadata": {},
   "source": [
    "Для наглядной проверки данных построим графики для столбцов в обучающей выборке"
   ]
  },
  {
   "cell_type": "code",
   "execution_count": 13,
   "metadata": {},
   "outputs": [
    {
     "data": {
      "image/png": "[encoded data removed]",
      "text/plain": [
       "<Figure size 1008x720 with 1 Axes>"
      ]
     },
     "metadata": {
      "needs_background": "light"
     },
     "output_type": "display_data"
    }
   ],
   "source": [
    "plt.figure(figsize=[14,10])\n",
    "\n",
    "plt.hist(gold_recovery_train['rougher.output.recovery'], bins=100)\n",
    "\n",
    "plt.xlim([0, 100])\n",
    "plt.ylim([0, 700])\n",
    "\n",
    "plt.xlabel(\"Эффективность обогащения чернового концентрата \")\n",
    "plt.ylabel(\"Количество результатов\")\n",
    "\n",
    "plt.title(\"Гистограмма распределения эффективности обогащения\")\n",
    "plt.show()"
   ]
  },
  {
   "cell_type": "code",
   "execution_count": 14,
   "metadata": {},
   "outputs": [
    {
     "data": {
      "text/html": [
       "<div>\n",
       "<style scoped>\n",
       "    .dataframe tbody tr th:only-of-type {\n",
       "        vertical-align: middle;\n",
       "    }\n",
       "\n",
       "    .dataframe tbody tr th {\n",
       "        vertical-align: top;\n",
       "    }\n",
       "\n",
       "    .dataframe thead th {\n",
       "        text-align: right;\n",
       "    }\n",
       "</style>\n",
       "<table border=\"1\" class=\"dataframe\">\n",
       "  <thead>\n",
       "    <tr style=\"text-align: right;\">\n",
       "      <th></th>\n",
       "      <th>date</th>\n",
       "      <th>final.output.concentrate_ag</th>\n",
       "      <th>final.output.concentrate_pb</th>\n",
       "      <th>final.output.concentrate_sol</th>\n",
       "      <th>final.output.concentrate_au</th>\n",
       "      <th>final.output.recovery</th>\n",
       "      <th>final.output.tail_ag</th>\n",
       "      <th>final.output.tail_pb</th>\n",
       "      <th>final.output.tail_sol</th>\n",
       "      <th>final.output.tail_au</th>\n",
       "      <th>...</th>\n",
       "      <th>secondary_cleaner.state.floatbank4_a_air</th>\n",
       "      <th>secondary_cleaner.state.floatbank4_a_level</th>\n",
       "      <th>secondary_cleaner.state.floatbank4_b_air</th>\n",
       "      <th>secondary_cleaner.state.floatbank4_b_level</th>\n",
       "      <th>secondary_cleaner.state.floatbank5_a_air</th>\n",
       "      <th>secondary_cleaner.state.floatbank5_a_level</th>\n",
       "      <th>secondary_cleaner.state.floatbank5_b_air</th>\n",
       "      <th>secondary_cleaner.state.floatbank5_b_level</th>\n",
       "      <th>secondary_cleaner.state.floatbank6_a_air</th>\n",
       "      <th>secondary_cleaner.state.floatbank6_a_level</th>\n",
       "    </tr>\n",
       "  </thead>\n",
       "  <tbody>\n",
       "    <tr>\n",
       "      <th>7153</th>\n",
       "      <td>2017-04-27 23:59:59</td>\n",
       "      <td>5.156415</td>\n",
       "      <td>12.081972</td>\n",
       "      <td>10.767467</td>\n",
       "      <td>43.102181</td>\n",
       "      <td>65.222721</td>\n",
       "      <td>8.400025</td>\n",
       "      <td>3.078851</td>\n",
       "      <td>11.674832</td>\n",
       "      <td>3.245881</td>\n",
       "      <td>...</td>\n",
       "      <td>24.957519</td>\n",
       "      <td>-404.865247</td>\n",
       "      <td>23.021077</td>\n",
       "      <td>-401.593416</td>\n",
       "      <td>26.012655</td>\n",
       "      <td>-450.337801</td>\n",
       "      <td>24.004599</td>\n",
       "      <td>-450.021257</td>\n",
       "      <td>30.016157</td>\n",
       "      <td>-499.966817</td>\n",
       "    </tr>\n",
       "    <tr>\n",
       "      <th>10240</th>\n",
       "      <td>2018-02-08 01:59:59</td>\n",
       "      <td>6.759969</td>\n",
       "      <td>9.952993</td>\n",
       "      <td>10.391133</td>\n",
       "      <td>44.749300</td>\n",
       "      <td>72.781576</td>\n",
       "      <td>13.901296</td>\n",
       "      <td>3.722223</td>\n",
       "      <td>12.607687</td>\n",
       "      <td>4.147444</td>\n",
       "      <td>...</td>\n",
       "      <td>19.992281</td>\n",
       "      <td>-500.388144</td>\n",
       "      <td>15.007176</td>\n",
       "      <td>-499.952652</td>\n",
       "      <td>10.992866</td>\n",
       "      <td>-499.945644</td>\n",
       "      <td>8.938053</td>\n",
       "      <td>-500.208832</td>\n",
       "      <td>10.982959</td>\n",
       "      <td>-499.699001</td>\n",
       "    </tr>\n",
       "    <tr>\n",
       "      <th>7762</th>\n",
       "      <td>2017-06-04 16:59:59</td>\n",
       "      <td>3.931502</td>\n",
       "      <td>11.217339</td>\n",
       "      <td>8.155212</td>\n",
       "      <td>46.567097</td>\n",
       "      <td>54.904987</td>\n",
       "      <td>8.849783</td>\n",
       "      <td>3.998107</td>\n",
       "      <td>9.361525</td>\n",
       "      <td>4.275966</td>\n",
       "      <td>...</td>\n",
       "      <td>15.010444</td>\n",
       "      <td>-501.018701</td>\n",
       "      <td>10.098286</td>\n",
       "      <td>-380.341934</td>\n",
       "      <td>15.075119</td>\n",
       "      <td>-499.781884</td>\n",
       "      <td>10.043546</td>\n",
       "      <td>-500.088016</td>\n",
       "      <td>14.993614</td>\n",
       "      <td>-500.046872</td>\n",
       "    </tr>\n",
       "    <tr>\n",
       "      <th>9462</th>\n",
       "      <td>2017-08-18 08:59:59</td>\n",
       "      <td>5.065745</td>\n",
       "      <td>9.278268</td>\n",
       "      <td>10.496813</td>\n",
       "      <td>47.032412</td>\n",
       "      <td>64.262450</td>\n",
       "      <td>7.245411</td>\n",
       "      <td>2.280393</td>\n",
       "      <td>11.928235</td>\n",
       "      <td>2.337803</td>\n",
       "      <td>...</td>\n",
       "      <td>14.480861</td>\n",
       "      <td>-500.315683</td>\n",
       "      <td>11.024349</td>\n",
       "      <td>-400.690824</td>\n",
       "      <td>13.999954</td>\n",
       "      <td>-500.549495</td>\n",
       "      <td>11.009866</td>\n",
       "      <td>-500.136158</td>\n",
       "      <td>14.996034</td>\n",
       "      <td>-500.504583</td>\n",
       "    </tr>\n",
       "    <tr>\n",
       "      <th>9362</th>\n",
       "      <td>2017-08-14 00:59:59</td>\n",
       "      <td>3.549594</td>\n",
       "      <td>12.027527</td>\n",
       "      <td>6.966090</td>\n",
       "      <td>46.865783</td>\n",
       "      <td>61.655562</td>\n",
       "      <td>7.223526</td>\n",
       "      <td>3.755034</td>\n",
       "      <td>11.135203</td>\n",
       "      <td>3.009599</td>\n",
       "      <td>...</td>\n",
       "      <td>14.511005</td>\n",
       "      <td>-500.759268</td>\n",
       "      <td>11.046615</td>\n",
       "      <td>-402.678223</td>\n",
       "      <td>14.006921</td>\n",
       "      <td>-499.697645</td>\n",
       "      <td>11.009872</td>\n",
       "      <td>-499.709466</td>\n",
       "      <td>15.003066</td>\n",
       "      <td>-500.585678</td>\n",
       "    </tr>\n",
       "    <tr>\n",
       "      <th>2085</th>\n",
       "      <td>2016-05-04 17:59:59</td>\n",
       "      <td>6.075132</td>\n",
       "      <td>10.814028</td>\n",
       "      <td>9.734065</td>\n",
       "      <td>43.247850</td>\n",
       "      <td>58.641600</td>\n",
       "      <td>7.417050</td>\n",
       "      <td>2.067430</td>\n",
       "      <td>13.146892</td>\n",
       "      <td>3.355467</td>\n",
       "      <td>...</td>\n",
       "      <td>13.962104</td>\n",
       "      <td>-499.764343</td>\n",
       "      <td>11.997011</td>\n",
       "      <td>-500.729624</td>\n",
       "      <td>11.024225</td>\n",
       "      <td>-498.760201</td>\n",
       "      <td>10.076071</td>\n",
       "      <td>-500.375501</td>\n",
       "      <td>19.969093</td>\n",
       "      <td>-497.915463</td>\n",
       "    </tr>\n",
       "    <tr>\n",
       "      <th>45</th>\n",
       "      <td>2016-01-16 21:00:00</td>\n",
       "      <td>4.566664</td>\n",
       "      <td>10.406178</td>\n",
       "      <td>4.588698</td>\n",
       "      <td>46.614456</td>\n",
       "      <td>68.403877</td>\n",
       "      <td>10.705777</td>\n",
       "      <td>1.509070</td>\n",
       "      <td>17.875134</td>\n",
       "      <td>2.509776</td>\n",
       "      <td>...</td>\n",
       "      <td>14.025588</td>\n",
       "      <td>-550.404242</td>\n",
       "      <td>12.028925</td>\n",
       "      <td>-550.570104</td>\n",
       "      <td>10.052072</td>\n",
       "      <td>-500.797905</td>\n",
       "      <td>7.984500</td>\n",
       "      <td>-499.581046</td>\n",
       "      <td>11.982025</td>\n",
       "      <td>-599.161228</td>\n",
       "    </tr>\n",
       "    <tr>\n",
       "      <th>7778</th>\n",
       "      <td>2017-06-05 08:59:59</td>\n",
       "      <td>4.784883</td>\n",
       "      <td>10.932726</td>\n",
       "      <td>8.369214</td>\n",
       "      <td>44.390017</td>\n",
       "      <td>61.291003</td>\n",
       "      <td>9.613337</td>\n",
       "      <td>3.771693</td>\n",
       "      <td>8.704876</td>\n",
       "      <td>3.794501</td>\n",
       "      <td>...</td>\n",
       "      <td>14.929599</td>\n",
       "      <td>-499.365049</td>\n",
       "      <td>9.845656</td>\n",
       "      <td>-379.640628</td>\n",
       "      <td>14.993126</td>\n",
       "      <td>-501.251740</td>\n",
       "      <td>9.986368</td>\n",
       "      <td>-500.117180</td>\n",
       "      <td>15.014835</td>\n",
       "      <td>-501.052982</td>\n",
       "    </tr>\n",
       "    <tr>\n",
       "      <th>6634</th>\n",
       "      <td>2017-04-05 15:59:59</td>\n",
       "      <td>5.406896</td>\n",
       "      <td>11.497685</td>\n",
       "      <td>11.578026</td>\n",
       "      <td>43.350740</td>\n",
       "      <td>69.470777</td>\n",
       "      <td>8.800571</td>\n",
       "      <td>3.494185</td>\n",
       "      <td>11.784376</td>\n",
       "      <td>3.030925</td>\n",
       "      <td>...</td>\n",
       "      <td>25.004446</td>\n",
       "      <td>-397.814186</td>\n",
       "      <td>22.913963</td>\n",
       "      <td>-399.909346</td>\n",
       "      <td>25.742564</td>\n",
       "      <td>-449.678612</td>\n",
       "      <td>18.816952</td>\n",
       "      <td>-450.124782</td>\n",
       "      <td>30.000207</td>\n",
       "      <td>-499.386208</td>\n",
       "    </tr>\n",
       "    <tr>\n",
       "      <th>7784</th>\n",
       "      <td>2017-06-05 14:59:59</td>\n",
       "      <td>4.043866</td>\n",
       "      <td>10.827329</td>\n",
       "      <td>7.970562</td>\n",
       "      <td>46.098884</td>\n",
       "      <td>58.249341</td>\n",
       "      <td>8.755297</td>\n",
       "      <td>3.895361</td>\n",
       "      <td>9.943779</td>\n",
       "      <td>3.904728</td>\n",
       "      <td>...</td>\n",
       "      <td>15.038197</td>\n",
       "      <td>-501.476327</td>\n",
       "      <td>10.062347</td>\n",
       "      <td>-380.538255</td>\n",
       "      <td>14.991715</td>\n",
       "      <td>-500.061799</td>\n",
       "      <td>10.015020</td>\n",
       "      <td>-499.996819</td>\n",
       "      <td>14.999666</td>\n",
       "      <td>-501.105637</td>\n",
       "    </tr>\n",
       "  </tbody>\n",
       "</table>\n",
       "<p>10 rows × 87 columns</p>\n",
       "</div>"
      ],
      "text/plain": [
       "                      date  final.output.concentrate_ag  \\\n",
       "7153   2017-04-27 23:59:59                     5.156415   \n",
       "10240  2018-02-08 01:59:59                     6.759969   \n",
       "7762   2017-06-04 16:59:59                     3.931502   \n",
       "9462   2017-08-18 08:59:59                     5.065745   \n",
       "9362   2017-08-14 00:59:59                     3.549594   \n",
       "2085   2016-05-04 17:59:59                     6.075132   \n",
       "45     2016-01-16 21:00:00                     4.566664   \n",
       "7778   2017-06-05 08:59:59                     4.784883   \n",
       "6634   2017-04-05 15:59:59                     5.406896   \n",
       "7784   2017-06-05 14:59:59                     4.043866   \n",
       "\n",
       "       final.output.concentrate_pb  final.output.concentrate_sol  \\\n",
       "7153                     12.081972                     10.767467   \n",
       "10240                     9.952993                     10.391133   \n",
       "7762                     11.217339                      8.155212   \n",
       "9462                      9.278268                     10.496813   \n",
       "9362                     12.027527                      6.966090   \n",
       "2085                     10.814028                      9.734065   \n",
       "45                       10.406178                      4.588698   \n",
       "7778                     10.932726                      8.369214   \n",
       "6634                     11.497685                     11.578026   \n",
       "7784                     10.827329                      7.970562   \n",
       "\n",
       "       final.output.concentrate_au  final.output.recovery  \\\n",
       "7153                     43.102181              65.222721   \n",
       "10240                    44.749300              72.781576   \n",
       "7762                     46.567097              54.904987   \n",
       "9462                     47.032412              64.262450   \n",
       "9362                     46.865783              61.655562   \n",
       "2085                     43.247850              58.641600   \n",
       "45                       46.614456              68.403877   \n",
       "7778                     44.390017              61.291003   \n",
       "6634                     43.350740              69.470777   \n",
       "7784                     46.098884              58.249341   \n",
       "\n",
       "       final.output.tail_ag  final.output.tail_pb  final.output.tail_sol  \\\n",
       "7153               8.400025              3.078851              11.674832   \n",
       "10240             13.901296              3.722223              12.607687   \n",
       "7762               8.849783              3.998107               9.361525   \n",
       "9462               7.245411              2.280393              11.928235   \n",
       "9362               7.223526              3.755034              11.135203   \n",
       "2085               7.417050              2.067430              13.146892   \n",
       "45                10.705777              1.509070              17.875134   \n",
       "7778               9.613337              3.771693               8.704876   \n",
       "6634               8.800571              3.494185              11.784376   \n",
       "7784               8.755297              3.895361               9.943779   \n",
       "\n",
       "       final.output.tail_au  ...  secondary_cleaner.state.floatbank4_a_air  \\\n",
       "7153               3.245881  ...                                 24.957519   \n",
       "10240              4.147444  ...                                 19.992281   \n",
       "7762               4.275966  ...                                 15.010444   \n",
       "9462               2.337803  ...                                 14.480861   \n",
       "9362               3.009599  ...                                 14.511005   \n",
       "2085               3.355467  ...                                 13.962104   \n",
       "45                 2.509776  ...                                 14.025588   \n",
       "7778               3.794501  ...                                 14.929599   \n",
       "6634               3.030925  ...                                 25.004446   \n",
       "7784               3.904728  ...                                 15.038197   \n",
       "\n",
       "       secondary_cleaner.state.floatbank4_a_level  \\\n",
       "7153                                  -404.865247   \n",
       "10240                                 -500.388144   \n",
       "7762                                  -501.018701   \n",
       "9462                                  -500.315683   \n",
       "9362                                  -500.759268   \n",
       "2085                                  -499.764343   \n",
       "45                                    -550.404242   \n",
       "7778                                  -499.365049   \n",
       "6634                                  -397.814186   \n",
       "7784                                  -501.476327   \n",
       "\n",
       "       secondary_cleaner.state.floatbank4_b_air  \\\n",
       "7153                                  23.021077   \n",
       "10240                                 15.007176   \n",
       "7762                                  10.098286   \n",
       "9462                                  11.024349   \n",
       "9362                                  11.046615   \n",
       "2085                                  11.997011   \n",
       "45                                    12.028925   \n",
       "7778                                   9.845656   \n",
       "6634                                  22.913963   \n",
       "7784                                  10.062347   \n",
       "\n",
       "       secondary_cleaner.state.floatbank4_b_level  \\\n",
       "7153                                  -401.593416   \n",
       "10240                                 -499.952652   \n",
       "7762                                  -380.341934   \n",
       "9462                                  -400.690824   \n",
       "9362                                  -402.678223   \n",
       "2085                                  -500.729624   \n",
       "45                                    -550.570104   \n",
       "7778                                  -379.640628   \n",
       "6634                                  -399.909346   \n",
       "7784                                  -380.538255   \n",
       "\n",
       "       secondary_cleaner.state.floatbank5_a_air  \\\n",
       "7153                                  26.012655   \n",
       "10240                                 10.992866   \n",
       "7762                                  15.075119   \n",
       "9462                                  13.999954   \n",
       "9362                                  14.006921   \n",
       "2085                                  11.024225   \n",
       "45                                    10.052072   \n",
       "7778                                  14.993126   \n",
       "6634                                  25.742564   \n",
       "7784                                  14.991715   \n",
       "\n",
       "       secondary_cleaner.state.floatbank5_a_level  \\\n",
       "7153                                  -450.337801   \n",
       "10240                                 -499.945644   \n",
       "7762                                  -499.781884   \n",
       "9462                                  -500.549495   \n",
       "9362                                  -499.697645   \n",
       "2085                                  -498.760201   \n",
       "45                                    -500.797905   \n",
       "7778                                  -501.251740   \n",
       "6634                                  -449.678612   \n",
       "7784                                  -500.061799   \n",
       "\n",
       "       secondary_cleaner.state.floatbank5_b_air  \\\n",
       "7153                                  24.004599   \n",
       "10240                                  8.938053   \n",
       "7762                                  10.043546   \n",
       "9462                                  11.009866   \n",
       "9362                                  11.009872   \n",
       "2085                                  10.076071   \n",
       "45                                     7.984500   \n",
       "7778                                   9.986368   \n",
       "6634                                  18.816952   \n",
       "7784                                  10.015020   \n",
       "\n",
       "       secondary_cleaner.state.floatbank5_b_level  \\\n",
       "7153                                  -450.021257   \n",
       "10240                                 -500.208832   \n",
       "7762                                  -500.088016   \n",
       "9462                                  -500.136158   \n",
       "9362                                  -499.709466   \n",
       "2085                                  -500.375501   \n",
       "45                                    -499.581046   \n",
       "7778                                  -500.117180   \n",
       "6634                                  -450.124782   \n",
       "7784                                  -499.996819   \n",
       "\n",
       "       secondary_cleaner.state.floatbank6_a_air  \\\n",
       "7153                                  30.016157   \n",
       "10240                                 10.982959   \n",
       "7762                                  14.993614   \n",
       "9462                                  14.996034   \n",
       "9362                                  15.003066   \n",
       "2085                                  19.969093   \n",
       "45                                    11.982025   \n",
       "7778                                  15.014835   \n",
       "6634                                  30.000207   \n",
       "7784                                  14.999666   \n",
       "\n",
       "       secondary_cleaner.state.floatbank6_a_level  \n",
       "7153                                  -499.966817  \n",
       "10240                                 -499.699001  \n",
       "7762                                  -500.046872  \n",
       "9462                                  -500.504583  \n",
       "9362                                  -500.585678  \n",
       "2085                                  -497.915463  \n",
       "45                                    -599.161228  \n",
       "7778                                  -501.052982  \n",
       "6634                                  -499.386208  \n",
       "7784                                  -501.105637  \n",
       "\n",
       "[10 rows x 87 columns]"
      ]
     },
     "execution_count": 14,
     "metadata": {},
     "output_type": "execute_result"
    }
   ],
   "source": [
    "#проверка нулевых значений в столбце rougher.output.recovery.\n",
    "gold_recovery_train[gold_recovery_train['rougher.output.recovery'] < 1].sample(10)"
   ]
  },
  {
   "cell_type": "code",
   "execution_count": 15,
   "metadata": {},
   "outputs": [
    {
     "data": {
      "text/html": [
       "<div>\n",
       "<style scoped>\n",
       "    .dataframe tbody tr th:only-of-type {\n",
       "        vertical-align: middle;\n",
       "    }\n",
       "\n",
       "    .dataframe tbody tr th {\n",
       "        vertical-align: top;\n",
       "    }\n",
       "\n",
       "    .dataframe thead th {\n",
       "        text-align: right;\n",
       "    }\n",
       "</style>\n",
       "<table border=\"1\" class=\"dataframe\">\n",
       "  <thead>\n",
       "    <tr style=\"text-align: right;\">\n",
       "      <th></th>\n",
       "      <th>date</th>\n",
       "      <th>final.output.concentrate_ag</th>\n",
       "      <th>final.output.concentrate_pb</th>\n",
       "      <th>final.output.concentrate_sol</th>\n",
       "      <th>final.output.concentrate_au</th>\n",
       "      <th>final.output.recovery</th>\n",
       "      <th>final.output.tail_ag</th>\n",
       "      <th>final.output.tail_pb</th>\n",
       "      <th>final.output.tail_sol</th>\n",
       "      <th>final.output.tail_au</th>\n",
       "      <th>...</th>\n",
       "      <th>secondary_cleaner.state.floatbank4_a_air</th>\n",
       "      <th>secondary_cleaner.state.floatbank4_a_level</th>\n",
       "      <th>secondary_cleaner.state.floatbank4_b_air</th>\n",
       "      <th>secondary_cleaner.state.floatbank4_b_level</th>\n",
       "      <th>secondary_cleaner.state.floatbank5_a_air</th>\n",
       "      <th>secondary_cleaner.state.floatbank5_a_level</th>\n",
       "      <th>secondary_cleaner.state.floatbank5_b_air</th>\n",
       "      <th>secondary_cleaner.state.floatbank5_b_level</th>\n",
       "      <th>secondary_cleaner.state.floatbank6_a_air</th>\n",
       "      <th>secondary_cleaner.state.floatbank6_a_level</th>\n",
       "    </tr>\n",
       "  </thead>\n",
       "  <tbody>\n",
       "  </tbody>\n",
       "</table>\n",
       "<p>0 rows × 87 columns</p>\n",
       "</div>"
      ],
      "text/plain": [
       "Empty DataFrame\n",
       "Columns: [date, final.output.concentrate_ag, final.output.concentrate_pb, final.output.concentrate_sol, final.output.concentrate_au, final.output.recovery, final.output.tail_ag, final.output.tail_pb, final.output.tail_sol, final.output.tail_au, primary_cleaner.input.sulfate, primary_cleaner.input.depressant, primary_cleaner.input.feed_size, primary_cleaner.input.xanthate, primary_cleaner.output.concentrate_ag, primary_cleaner.output.concentrate_pb, primary_cleaner.output.concentrate_sol, primary_cleaner.output.concentrate_au, primary_cleaner.output.tail_ag, primary_cleaner.output.tail_pb, primary_cleaner.output.tail_sol, primary_cleaner.output.tail_au, primary_cleaner.state.floatbank8_a_air, primary_cleaner.state.floatbank8_a_level, primary_cleaner.state.floatbank8_b_air, primary_cleaner.state.floatbank8_b_level, primary_cleaner.state.floatbank8_c_air, primary_cleaner.state.floatbank8_c_level, primary_cleaner.state.floatbank8_d_air, primary_cleaner.state.floatbank8_d_level, rougher.calculation.sulfate_to_au_concentrate, rougher.calculation.floatbank10_sulfate_to_au_feed, rougher.calculation.floatbank11_sulfate_to_au_feed, rougher.calculation.au_pb_ratio, rougher.input.feed_ag, rougher.input.feed_pb, rougher.input.feed_rate, rougher.input.feed_size, rougher.input.feed_sol, rougher.input.feed_au, rougher.input.floatbank10_sulfate, rougher.input.floatbank10_xanthate, rougher.input.floatbank11_sulfate, rougher.input.floatbank11_xanthate, rougher.output.concentrate_ag, rougher.output.concentrate_pb, rougher.output.concentrate_sol, rougher.output.concentrate_au, rougher.output.recovery, rougher.output.tail_ag, rougher.output.tail_pb, rougher.output.tail_sol, rougher.output.tail_au, rougher.state.floatbank10_a_air, rougher.state.floatbank10_a_level, rougher.state.floatbank10_b_air, rougher.state.floatbank10_b_level, rougher.state.floatbank10_c_air, rougher.state.floatbank10_c_level, rougher.state.floatbank10_d_air, rougher.state.floatbank10_d_level, rougher.state.floatbank10_e_air, rougher.state.floatbank10_e_level, rougher.state.floatbank10_f_air, rougher.state.floatbank10_f_level, secondary_cleaner.output.tail_ag, secondary_cleaner.output.tail_pb, secondary_cleaner.output.tail_sol, secondary_cleaner.output.tail_au, secondary_cleaner.state.floatbank2_a_air, secondary_cleaner.state.floatbank2_a_level, secondary_cleaner.state.floatbank2_b_air, secondary_cleaner.state.floatbank2_b_level, secondary_cleaner.state.floatbank3_a_air, secondary_cleaner.state.floatbank3_a_level, secondary_cleaner.state.floatbank3_b_air, secondary_cleaner.state.floatbank3_b_level, secondary_cleaner.state.floatbank4_a_air, secondary_cleaner.state.floatbank4_a_level, secondary_cleaner.state.floatbank4_b_air, secondary_cleaner.state.floatbank4_b_level, secondary_cleaner.state.floatbank5_a_air, secondary_cleaner.state.floatbank5_a_level, secondary_cleaner.state.floatbank5_b_air, secondary_cleaner.state.floatbank5_b_level, secondary_cleaner.state.floatbank6_a_air, secondary_cleaner.state.floatbank6_a_level]\n",
       "Index: []\n",
       "\n",
       "[0 rows x 87 columns]"
      ]
     },
     "execution_count": 15,
     "metadata": {},
     "output_type": "execute_result"
    }
   ],
   "source": [
    "#удалим нулевые значения в rougher.output.recovery, чтобы не искажать результат работы модели.\n",
    "gold_recovery_train = gold_recovery_train.drop(gold_recovery_train[gold_recovery_train['rougher.output.recovery'] == 0].index)\n",
    "gold_recovery_train[gold_recovery_train['rougher.output.recovery'] < 1].head(5)"
   ]
  },
  {
   "cell_type": "code",
   "execution_count": 16,
   "metadata": {},
   "outputs": [
    {
     "data": {
      "image/png": "[encoded data removed]",
      "text/plain": [
       "<Figure size 864x648 with 1 Axes>"
      ]
     },
     "metadata": {
      "needs_background": "light"
     },
     "output_type": "display_data"
    }
   ],
   "source": [
    "plt.figure(figsize=[12,9])\n",
    "\n",
    "plt.hist(gold_recovery_train['final.output.recovery'], bins=100)\n",
    "\n",
    "plt.xlim([0, 100])\n",
    "plt.ylim([0, 1000])\n",
    "\n",
    "plt.xlabel(\"Эффективность обогащения финального концентрата \")\n",
    "plt.ylabel(\"Количество результатов\")\n",
    "\n",
    "plt.title(\"Гистограмма распределения по эффективности обогащения\")\n",
    "plt.show()"
   ]
  },
  {
   "cell_type": "code",
   "execution_count": 17,
   "metadata": {},
   "outputs": [
    {
     "data": {
      "text/html": [
       "<div>\n",
       "<style scoped>\n",
       "    .dataframe tbody tr th:only-of-type {\n",
       "        vertical-align: middle;\n",
       "    }\n",
       "\n",
       "    .dataframe tbody tr th {\n",
       "        vertical-align: top;\n",
       "    }\n",
       "\n",
       "    .dataframe thead th {\n",
       "        text-align: right;\n",
       "    }\n",
       "</style>\n",
       "<table border=\"1\" class=\"dataframe\">\n",
       "  <thead>\n",
       "    <tr style=\"text-align: right;\">\n",
       "      <th></th>\n",
       "      <th>date</th>\n",
       "      <th>final.output.concentrate_ag</th>\n",
       "      <th>final.output.concentrate_pb</th>\n",
       "      <th>final.output.concentrate_sol</th>\n",
       "      <th>final.output.concentrate_au</th>\n",
       "      <th>final.output.recovery</th>\n",
       "      <th>final.output.tail_ag</th>\n",
       "      <th>final.output.tail_pb</th>\n",
       "      <th>final.output.tail_sol</th>\n",
       "      <th>final.output.tail_au</th>\n",
       "      <th>...</th>\n",
       "      <th>secondary_cleaner.state.floatbank4_a_air</th>\n",
       "      <th>secondary_cleaner.state.floatbank4_a_level</th>\n",
       "      <th>secondary_cleaner.state.floatbank4_b_air</th>\n",
       "      <th>secondary_cleaner.state.floatbank4_b_level</th>\n",
       "      <th>secondary_cleaner.state.floatbank5_a_air</th>\n",
       "      <th>secondary_cleaner.state.floatbank5_a_level</th>\n",
       "      <th>secondary_cleaner.state.floatbank5_b_air</th>\n",
       "      <th>secondary_cleaner.state.floatbank5_b_level</th>\n",
       "      <th>secondary_cleaner.state.floatbank6_a_air</th>\n",
       "      <th>secondary_cleaner.state.floatbank6_a_level</th>\n",
       "    </tr>\n",
       "  </thead>\n",
       "  <tbody>\n",
       "    <tr>\n",
       "      <th>4966</th>\n",
       "      <td>2017-01-18 14:59:59</td>\n",
       "      <td>0.0</td>\n",
       "      <td>0.0</td>\n",
       "      <td>0.0</td>\n",
       "      <td>0.0</td>\n",
       "      <td>0.0</td>\n",
       "      <td>7.804423</td>\n",
       "      <td>3.130217</td>\n",
       "      <td>5.586386</td>\n",
       "      <td>3.420555</td>\n",
       "      <td>...</td>\n",
       "      <td>13.987760</td>\n",
       "      <td>-501.555110</td>\n",
       "      <td>13.876556</td>\n",
       "      <td>-500.025438</td>\n",
       "      <td>-0.178880</td>\n",
       "      <td>-491.880038</td>\n",
       "      <td>8.035219</td>\n",
       "      <td>-481.808531</td>\n",
       "      <td>19.941542</td>\n",
       "      <td>-595.360820</td>\n",
       "    </tr>\n",
       "    <tr>\n",
       "      <th>4564</th>\n",
       "      <td>2016-08-26 20:59:59</td>\n",
       "      <td>0.0</td>\n",
       "      <td>0.0</td>\n",
       "      <td>0.0</td>\n",
       "      <td>0.0</td>\n",
       "      <td>0.0</td>\n",
       "      <td>3.697301</td>\n",
       "      <td>1.378608</td>\n",
       "      <td>3.952049</td>\n",
       "      <td>2.579844</td>\n",
       "      <td>...</td>\n",
       "      <td>15.969769</td>\n",
       "      <td>-499.841050</td>\n",
       "      <td>9.972046</td>\n",
       "      <td>-499.963654</td>\n",
       "      <td>9.913467</td>\n",
       "      <td>-501.698056</td>\n",
       "      <td>5.011314</td>\n",
       "      <td>-500.390274</td>\n",
       "      <td>24.919704</td>\n",
       "      <td>-502.454004</td>\n",
       "    </tr>\n",
       "    <tr>\n",
       "      <th>4967</th>\n",
       "      <td>2017-01-18 15:59:59</td>\n",
       "      <td>0.0</td>\n",
       "      <td>0.0</td>\n",
       "      <td>0.0</td>\n",
       "      <td>0.0</td>\n",
       "      <td>0.0</td>\n",
       "      <td>4.990116</td>\n",
       "      <td>2.905931</td>\n",
       "      <td>5.256589</td>\n",
       "      <td>4.213483</td>\n",
       "      <td>...</td>\n",
       "      <td>14.002255</td>\n",
       "      <td>-500.944994</td>\n",
       "      <td>13.993990</td>\n",
       "      <td>-499.556599</td>\n",
       "      <td>-0.173919</td>\n",
       "      <td>-446.036106</td>\n",
       "      <td>3.145675</td>\n",
       "      <td>-240.872031</td>\n",
       "      <td>2.319944</td>\n",
       "      <td>-642.122184</td>\n",
       "    </tr>\n",
       "    <tr>\n",
       "      <th>1193</th>\n",
       "      <td>2016-03-11 10:00:00</td>\n",
       "      <td>0.0</td>\n",
       "      <td>0.0</td>\n",
       "      <td>0.0</td>\n",
       "      <td>0.0</td>\n",
       "      <td>0.0</td>\n",
       "      <td>10.817313</td>\n",
       "      <td>1.462800</td>\n",
       "      <td>16.407607</td>\n",
       "      <td>2.984504</td>\n",
       "      <td>...</td>\n",
       "      <td>11.979352</td>\n",
       "      <td>-453.431061</td>\n",
       "      <td>12.003445</td>\n",
       "      <td>-450.179844</td>\n",
       "      <td>11.982937</td>\n",
       "      <td>-449.856468</td>\n",
       "      <td>9.927727</td>\n",
       "      <td>-450.521700</td>\n",
       "      <td>19.971682</td>\n",
       "      <td>-500.685521</td>\n",
       "    </tr>\n",
       "    <tr>\n",
       "      <th>7050</th>\n",
       "      <td>2017-04-23 15:59:59</td>\n",
       "      <td>0.0</td>\n",
       "      <td>0.0</td>\n",
       "      <td>0.0</td>\n",
       "      <td>0.0</td>\n",
       "      <td>0.0</td>\n",
       "      <td>8.156377</td>\n",
       "      <td>2.846728</td>\n",
       "      <td>11.214544</td>\n",
       "      <td>2.668218</td>\n",
       "      <td>...</td>\n",
       "      <td>25.022417</td>\n",
       "      <td>-401.038000</td>\n",
       "      <td>23.022316</td>\n",
       "      <td>-400.035835</td>\n",
       "      <td>26.034525</td>\n",
       "      <td>-450.185761</td>\n",
       "      <td>24.013252</td>\n",
       "      <td>-450.093931</td>\n",
       "      <td>29.985963</td>\n",
       "      <td>-500.076336</td>\n",
       "    </tr>\n",
       "    <tr>\n",
       "      <th>7052</th>\n",
       "      <td>2017-04-23 17:59:59</td>\n",
       "      <td>0.0</td>\n",
       "      <td>0.0</td>\n",
       "      <td>0.0</td>\n",
       "      <td>0.0</td>\n",
       "      <td>0.0</td>\n",
       "      <td>8.103931</td>\n",
       "      <td>2.747705</td>\n",
       "      <td>10.788530</td>\n",
       "      <td>2.550075</td>\n",
       "      <td>...</td>\n",
       "      <td>25.014879</td>\n",
       "      <td>-399.528536</td>\n",
       "      <td>23.021336</td>\n",
       "      <td>-400.788116</td>\n",
       "      <td>25.986338</td>\n",
       "      <td>-451.070811</td>\n",
       "      <td>23.997589</td>\n",
       "      <td>-449.992990</td>\n",
       "      <td>30.014246</td>\n",
       "      <td>-500.261487</td>\n",
       "    </tr>\n",
       "    <tr>\n",
       "      <th>4722</th>\n",
       "      <td>2017-01-02 16:59:59</td>\n",
       "      <td>0.0</td>\n",
       "      <td>0.0</td>\n",
       "      <td>0.0</td>\n",
       "      <td>0.0</td>\n",
       "      <td>0.0</td>\n",
       "      <td>10.512889</td>\n",
       "      <td>1.950646</td>\n",
       "      <td>11.188996</td>\n",
       "      <td>2.508362</td>\n",
       "      <td>...</td>\n",
       "      <td>17.012398</td>\n",
       "      <td>-498.615208</td>\n",
       "      <td>14.961553</td>\n",
       "      <td>-473.509616</td>\n",
       "      <td>17.395327</td>\n",
       "      <td>-499.938041</td>\n",
       "      <td>8.054456</td>\n",
       "      <td>-500.574345</td>\n",
       "      <td>19.972880</td>\n",
       "      <td>-601.259265</td>\n",
       "    </tr>\n",
       "    <tr>\n",
       "      <th>4723</th>\n",
       "      <td>2017-01-02 17:59:59</td>\n",
       "      <td>0.0</td>\n",
       "      <td>0.0</td>\n",
       "      <td>0.0</td>\n",
       "      <td>0.0</td>\n",
       "      <td>0.0</td>\n",
       "      <td>9.955941</td>\n",
       "      <td>1.935196</td>\n",
       "      <td>11.133852</td>\n",
       "      <td>2.797546</td>\n",
       "      <td>...</td>\n",
       "      <td>16.983206</td>\n",
       "      <td>-501.381053</td>\n",
       "      <td>14.910639</td>\n",
       "      <td>-497.866523</td>\n",
       "      <td>17.070479</td>\n",
       "      <td>-496.127166</td>\n",
       "      <td>8.045207</td>\n",
       "      <td>-470.953271</td>\n",
       "      <td>20.014482</td>\n",
       "      <td>-591.060032</td>\n",
       "    </tr>\n",
       "    <tr>\n",
       "      <th>8898</th>\n",
       "      <td>2017-07-24 13:59:59</td>\n",
       "      <td>0.0</td>\n",
       "      <td>0.0</td>\n",
       "      <td>0.0</td>\n",
       "      <td>0.0</td>\n",
       "      <td>0.0</td>\n",
       "      <td>7.685263</td>\n",
       "      <td>2.708151</td>\n",
       "      <td>10.191240</td>\n",
       "      <td>2.301790</td>\n",
       "      <td>...</td>\n",
       "      <td>5.157853</td>\n",
       "      <td>-799.709069</td>\n",
       "      <td>4.904193</td>\n",
       "      <td>-799.889113</td>\n",
       "      <td>12.027372</td>\n",
       "      <td>-493.246532</td>\n",
       "      <td>7.672037</td>\n",
       "      <td>-497.898119</td>\n",
       "      <td>12.381912</td>\n",
       "      <td>-504.537397</td>\n",
       "    </tr>\n",
       "    <tr>\n",
       "      <th>4724</th>\n",
       "      <td>2017-01-02 18:59:59</td>\n",
       "      <td>0.0</td>\n",
       "      <td>0.0</td>\n",
       "      <td>0.0</td>\n",
       "      <td>0.0</td>\n",
       "      <td>0.0</td>\n",
       "      <td>10.106171</td>\n",
       "      <td>1.712132</td>\n",
       "      <td>11.092376</td>\n",
       "      <td>2.385774</td>\n",
       "      <td>...</td>\n",
       "      <td>16.980482</td>\n",
       "      <td>-500.861399</td>\n",
       "      <td>14.999956</td>\n",
       "      <td>-499.649898</td>\n",
       "      <td>17.173301</td>\n",
       "      <td>-504.678878</td>\n",
       "      <td>8.077081</td>\n",
       "      <td>-484.275794</td>\n",
       "      <td>19.991623</td>\n",
       "      <td>-609.490127</td>\n",
       "    </tr>\n",
       "  </tbody>\n",
       "</table>\n",
       "<p>10 rows × 87 columns</p>\n",
       "</div>"
      ],
      "text/plain": [
       "                     date  final.output.concentrate_ag  \\\n",
       "4966  2017-01-18 14:59:59                          0.0   \n",
       "4564  2016-08-26 20:59:59                          0.0   \n",
       "4967  2017-01-18 15:59:59                          0.0   \n",
       "1193  2016-03-11 10:00:00                          0.0   \n",
       "7050  2017-04-23 15:59:59                          0.0   \n",
       "7052  2017-04-23 17:59:59                          0.0   \n",
       "4722  2017-01-02 16:59:59                          0.0   \n",
       "4723  2017-01-02 17:59:59                          0.0   \n",
       "8898  2017-07-24 13:59:59                          0.0   \n",
       "4724  2017-01-02 18:59:59                          0.0   \n",
       "\n",
       "      final.output.concentrate_pb  final.output.concentrate_sol  \\\n",
       "4966                          0.0                           0.0   \n",
       "4564                          0.0                           0.0   \n",
       "4967                          0.0                           0.0   \n",
       "1193                          0.0                           0.0   \n",
       "7050                          0.0                           0.0   \n",
       "7052                          0.0                           0.0   \n",
       "4722                          0.0                           0.0   \n",
       "4723                          0.0                           0.0   \n",
       "8898                          0.0                           0.0   \n",
       "4724                          0.0                           0.0   \n",
       "\n",
       "      final.output.concentrate_au  final.output.recovery  \\\n",
       "4966                          0.0                    0.0   \n",
       "4564                          0.0                    0.0   \n",
       "4967                          0.0                    0.0   \n",
       "1193                          0.0                    0.0   \n",
       "7050                          0.0                    0.0   \n",
       "7052                          0.0                    0.0   \n",
       "4722                          0.0                    0.0   \n",
       "4723                          0.0                    0.0   \n",
       "8898                          0.0                    0.0   \n",
       "4724                          0.0                    0.0   \n",
       "\n",
       "      final.output.tail_ag  final.output.tail_pb  final.output.tail_sol  \\\n",
       "4966              7.804423              3.130217               5.586386   \n",
       "4564              3.697301              1.378608               3.952049   \n",
       "4967              4.990116              2.905931               5.256589   \n",
       "1193             10.817313              1.462800              16.407607   \n",
       "7050              8.156377              2.846728              11.214544   \n",
       "7052              8.103931              2.747705              10.788530   \n",
       "4722             10.512889              1.950646              11.188996   \n",
       "4723              9.955941              1.935196              11.133852   \n",
       "8898              7.685263              2.708151              10.191240   \n",
       "4724             10.106171              1.712132              11.092376   \n",
       "\n",
       "      final.output.tail_au  ...  secondary_cleaner.state.floatbank4_a_air  \\\n",
       "4966              3.420555  ...                                 13.987760   \n",
       "4564              2.579844  ...                                 15.969769   \n",
       "4967              4.213483  ...                                 14.002255   \n",
       "1193              2.984504  ...                                 11.979352   \n",
       "7050              2.668218  ...                                 25.022417   \n",
       "7052              2.550075  ...                                 25.014879   \n",
       "4722              2.508362  ...                                 17.012398   \n",
       "4723              2.797546  ...                                 16.983206   \n",
       "8898              2.301790  ...                                  5.157853   \n",
       "4724              2.385774  ...                                 16.980482   \n",
       "\n",
       "      secondary_cleaner.state.floatbank4_a_level  \\\n",
       "4966                                 -501.555110   \n",
       "4564                                 -499.841050   \n",
       "4967                                 -500.944994   \n",
       "1193                                 -453.431061   \n",
       "7050                                 -401.038000   \n",
       "7052                                 -399.528536   \n",
       "4722                                 -498.615208   \n",
       "4723                                 -501.381053   \n",
       "8898                                 -799.709069   \n",
       "4724                                 -500.861399   \n",
       "\n",
       "      secondary_cleaner.state.floatbank4_b_air  \\\n",
       "4966                                 13.876556   \n",
       "4564                                  9.972046   \n",
       "4967                                 13.993990   \n",
       "1193                                 12.003445   \n",
       "7050                                 23.022316   \n",
       "7052                                 23.021336   \n",
       "4722                                 14.961553   \n",
       "4723                                 14.910639   \n",
       "8898                                  4.904193   \n",
       "4724                                 14.999956   \n",
       "\n",
       "      secondary_cleaner.state.floatbank4_b_level  \\\n",
       "4966                                 -500.025438   \n",
       "4564                                 -499.963654   \n",
       "4967                                 -499.556599   \n",
       "1193                                 -450.179844   \n",
       "7050                                 -400.035835   \n",
       "7052                                 -400.788116   \n",
       "4722                                 -473.509616   \n",
       "4723                                 -497.866523   \n",
       "8898                                 -799.889113   \n",
       "4724                                 -499.649898   \n",
       "\n",
       "      secondary_cleaner.state.floatbank5_a_air  \\\n",
       "4966                                 -0.178880   \n",
       "4564                                  9.913467   \n",
       "4967                                 -0.173919   \n",
       "1193                                 11.982937   \n",
       "7050                                 26.034525   \n",
       "7052                                 25.986338   \n",
       "4722                                 17.395327   \n",
       "4723                                 17.070479   \n",
       "8898                                 12.027372   \n",
       "4724                                 17.173301   \n",
       "\n",
       "      secondary_cleaner.state.floatbank5_a_level  \\\n",
       "4966                                 -491.880038   \n",
       "4564                                 -501.698056   \n",
       "4967                                 -446.036106   \n",
       "1193                                 -449.856468   \n",
       "7050                                 -450.185761   \n",
       "7052                                 -451.070811   \n",
       "4722                                 -499.938041   \n",
       "4723                                 -496.127166   \n",
       "8898                                 -493.246532   \n",
       "4724                                 -504.678878   \n",
       "\n",
       "      secondary_cleaner.state.floatbank5_b_air  \\\n",
       "4966                                  8.035219   \n",
       "4564                                  5.011314   \n",
       "4967                                  3.145675   \n",
       "1193                                  9.927727   \n",
       "7050                                 24.013252   \n",
       "7052                                 23.997589   \n",
       "4722                                  8.054456   \n",
       "4723                                  8.045207   \n",
       "8898                                  7.672037   \n",
       "4724                                  8.077081   \n",
       "\n",
       "      secondary_cleaner.state.floatbank5_b_level  \\\n",
       "4966                                 -481.808531   \n",
       "4564                                 -500.390274   \n",
       "4967                                 -240.872031   \n",
       "1193                                 -450.521700   \n",
       "7050                                 -450.093931   \n",
       "7052                                 -449.992990   \n",
       "4722                                 -500.574345   \n",
       "4723                                 -470.953271   \n",
       "8898                                 -497.898119   \n",
       "4724                                 -484.275794   \n",
       "\n",
       "      secondary_cleaner.state.floatbank6_a_air  \\\n",
       "4966                                 19.941542   \n",
       "4564                                 24.919704   \n",
       "4967                                  2.319944   \n",
       "1193                                 19.971682   \n",
       "7050                                 29.985963   \n",
       "7052                                 30.014246   \n",
       "4722                                 19.972880   \n",
       "4723                                 20.014482   \n",
       "8898                                 12.381912   \n",
       "4724                                 19.991623   \n",
       "\n",
       "      secondary_cleaner.state.floatbank6_a_level  \n",
       "4966                                 -595.360820  \n",
       "4564                                 -502.454004  \n",
       "4967                                 -642.122184  \n",
       "1193                                 -500.685521  \n",
       "7050                                 -500.076336  \n",
       "7052                                 -500.261487  \n",
       "4722                                 -601.259265  \n",
       "4723                                 -591.060032  \n",
       "8898                                 -504.537397  \n",
       "4724                                 -609.490127  \n",
       "\n",
       "[10 rows x 87 columns]"
      ]
     },
     "execution_count": 17,
     "metadata": {},
     "output_type": "execute_result"
    }
   ],
   "source": [
    "gold_recovery_train[gold_recovery_train['final.output.recovery'] < 1].sample(10)"
   ]
  },
  {
   "cell_type": "code",
   "execution_count": 18,
   "metadata": {},
   "outputs": [
    {
     "data": {
      "text/html": [
       "<div>\n",
       "<style scoped>\n",
       "    .dataframe tbody tr th:only-of-type {\n",
       "        vertical-align: middle;\n",
       "    }\n",
       "\n",
       "    .dataframe tbody tr th {\n",
       "        vertical-align: top;\n",
       "    }\n",
       "\n",
       "    .dataframe thead th {\n",
       "        text-align: right;\n",
       "    }\n",
       "</style>\n",
       "<table border=\"1\" class=\"dataframe\">\n",
       "  <thead>\n",
       "    <tr style=\"text-align: right;\">\n",
       "      <th></th>\n",
       "      <th>date</th>\n",
       "      <th>final.output.concentrate_ag</th>\n",
       "      <th>final.output.concentrate_pb</th>\n",
       "      <th>final.output.concentrate_sol</th>\n",
       "      <th>final.output.concentrate_au</th>\n",
       "      <th>final.output.recovery</th>\n",
       "      <th>final.output.tail_ag</th>\n",
       "      <th>final.output.tail_pb</th>\n",
       "      <th>final.output.tail_sol</th>\n",
       "      <th>final.output.tail_au</th>\n",
       "      <th>...</th>\n",
       "      <th>secondary_cleaner.state.floatbank4_a_air</th>\n",
       "      <th>secondary_cleaner.state.floatbank4_a_level</th>\n",
       "      <th>secondary_cleaner.state.floatbank4_b_air</th>\n",
       "      <th>secondary_cleaner.state.floatbank4_b_level</th>\n",
       "      <th>secondary_cleaner.state.floatbank5_a_air</th>\n",
       "      <th>secondary_cleaner.state.floatbank5_a_level</th>\n",
       "      <th>secondary_cleaner.state.floatbank5_b_air</th>\n",
       "      <th>secondary_cleaner.state.floatbank5_b_level</th>\n",
       "      <th>secondary_cleaner.state.floatbank6_a_air</th>\n",
       "      <th>secondary_cleaner.state.floatbank6_a_level</th>\n",
       "    </tr>\n",
       "  </thead>\n",
       "  <tbody>\n",
       "  </tbody>\n",
       "</table>\n",
       "<p>0 rows × 87 columns</p>\n",
       "</div>"
      ],
      "text/plain": [
       "Empty DataFrame\n",
       "Columns: [date, final.output.concentrate_ag, final.output.concentrate_pb, final.output.concentrate_sol, final.output.concentrate_au, final.output.recovery, final.output.tail_ag, final.output.tail_pb, final.output.tail_sol, final.output.tail_au, primary_cleaner.input.sulfate, primary_cleaner.input.depressant, primary_cleaner.input.feed_size, primary_cleaner.input.xanthate, primary_cleaner.output.concentrate_ag, primary_cleaner.output.concentrate_pb, primary_cleaner.output.concentrate_sol, primary_cleaner.output.concentrate_au, primary_cleaner.output.tail_ag, primary_cleaner.output.tail_pb, primary_cleaner.output.tail_sol, primary_cleaner.output.tail_au, primary_cleaner.state.floatbank8_a_air, primary_cleaner.state.floatbank8_a_level, primary_cleaner.state.floatbank8_b_air, primary_cleaner.state.floatbank8_b_level, primary_cleaner.state.floatbank8_c_air, primary_cleaner.state.floatbank8_c_level, primary_cleaner.state.floatbank8_d_air, primary_cleaner.state.floatbank8_d_level, rougher.calculation.sulfate_to_au_concentrate, rougher.calculation.floatbank10_sulfate_to_au_feed, rougher.calculation.floatbank11_sulfate_to_au_feed, rougher.calculation.au_pb_ratio, rougher.input.feed_ag, rougher.input.feed_pb, rougher.input.feed_rate, rougher.input.feed_size, rougher.input.feed_sol, rougher.input.feed_au, rougher.input.floatbank10_sulfate, rougher.input.floatbank10_xanthate, rougher.input.floatbank11_sulfate, rougher.input.floatbank11_xanthate, rougher.output.concentrate_ag, rougher.output.concentrate_pb, rougher.output.concentrate_sol, rougher.output.concentrate_au, rougher.output.recovery, rougher.output.tail_ag, rougher.output.tail_pb, rougher.output.tail_sol, rougher.output.tail_au, rougher.state.floatbank10_a_air, rougher.state.floatbank10_a_level, rougher.state.floatbank10_b_air, rougher.state.floatbank10_b_level, rougher.state.floatbank10_c_air, rougher.state.floatbank10_c_level, rougher.state.floatbank10_d_air, rougher.state.floatbank10_d_level, rougher.state.floatbank10_e_air, rougher.state.floatbank10_e_level, rougher.state.floatbank10_f_air, rougher.state.floatbank10_f_level, secondary_cleaner.output.tail_ag, secondary_cleaner.output.tail_pb, secondary_cleaner.output.tail_sol, secondary_cleaner.output.tail_au, secondary_cleaner.state.floatbank2_a_air, secondary_cleaner.state.floatbank2_a_level, secondary_cleaner.state.floatbank2_b_air, secondary_cleaner.state.floatbank2_b_level, secondary_cleaner.state.floatbank3_a_air, secondary_cleaner.state.floatbank3_a_level, secondary_cleaner.state.floatbank3_b_air, secondary_cleaner.state.floatbank3_b_level, secondary_cleaner.state.floatbank4_a_air, secondary_cleaner.state.floatbank4_a_level, secondary_cleaner.state.floatbank4_b_air, secondary_cleaner.state.floatbank4_b_level, secondary_cleaner.state.floatbank5_a_air, secondary_cleaner.state.floatbank5_a_level, secondary_cleaner.state.floatbank5_b_air, secondary_cleaner.state.floatbank5_b_level, secondary_cleaner.state.floatbank6_a_air, secondary_cleaner.state.floatbank6_a_level]\n",
       "Index: []\n",
       "\n",
       "[0 rows x 87 columns]"
      ]
     },
     "execution_count": 18,
     "metadata": {},
     "output_type": "execute_result"
    }
   ],
   "source": [
    "#удалим нулевые значения в final.output.recovery, чтобы не искажать результат работы модели.\n",
    "gold_recovery_train = gold_recovery_train.drop(gold_recovery_train[gold_recovery_train['final.output.recovery'] == 0].index)\n",
    "gold_recovery_train[gold_recovery_train['final.output.recovery'] < 1].head(5)"
   ]
  },
  {
   "cell_type": "markdown",
   "metadata": {},
   "source": [
    "**Вывод:**\n",
    "\n",
    "- Удалены пропущенные значения\n",
    "- Ключевые признаки очищены от выбросов\n",
    "- Некоторые данные были недоступны, скорее всего они буду рассчитаны позже, после этапа технологического процесса."
   ]
  },
  {
   "cell_type": "markdown",
   "metadata": {},
   "source": [
    "## Анализ данных"
   ]
  },
  {
   "cell_type": "markdown",
   "metadata": {},
   "source": [
    "### Концентрация золота на различных этапах очистки"
   ]
  },
  {
   "cell_type": "code",
   "execution_count": 19,
   "metadata": {},
   "outputs": [
    {
     "data": {
      "image/png": "[encoded data removed]",
      "text/plain": [
       "<Figure size 1008x720 with 1 Axes>"
      ]
     },
     "metadata": {
      "needs_background": "light"
     },
     "output_type": "display_data"
    }
   ],
   "source": [
    "plt.figure(figsize=[14,10])\n",
    "plt.hist(gold_recovery_train['final.output.concentrate_au'], bins=100, label = 'final.output', alpha=.5)\n",
    "plt.hist(gold_recovery_train['primary_cleaner.output.concentrate_au'], bins=100, label = 'primary_cleaner.output', alpha=.5)\n",
    "plt.hist(gold_recovery_train['rougher.output.concentrate_au'], bins=100, label = 'rougher.output', alpha=.5)\n",
    "plt.xlim([0, 55])\n",
    "plt.ylim([0, 1000])\n",
    "plt.xlabel(\"Концентрация золота в конце этапов\")\n",
    "plt.ylabel(\"Количество результатов\")\n",
    "plt.legend(loc='upper left', fontsize='x-large')\n",
    "plt.title(\"Гистограмма распределения концентрации золота\")\n",
    "plt.show()"
   ]
  },
  {
   "cell_type": "markdown",
   "metadata": {},
   "source": [
    "Концентрация золота резко повышается на последнем этапе из-за флотации."
   ]
  },
  {
   "cell_type": "markdown",
   "metadata": {},
   "source": [
    "### Концентрация серебра на различных этапах очистки"
   ]
  },
  {
   "cell_type": "code",
   "execution_count": 20,
   "metadata": {},
   "outputs": [
    {
     "data": {
      "image/png": "[encoded data removed]",
      "text/plain": [
       "<Figure size 1008x720 with 1 Axes>"
      ]
     },
     "metadata": {
      "needs_background": "light"
     },
     "output_type": "display_data"
    }
   ],
   "source": [
    "plt.figure(figsize=[14,10])\n",
    "plt.hist(gold_recovery_train['final.output.concentrate_ag'], bins=100, label = 'final.output', alpha=.5)\n",
    "plt.hist(gold_recovery_train['primary_cleaner.output.concentrate_ag'], bins=100, label = 'primary_cleaner.output', alpha=.5)\n",
    "plt.hist(gold_recovery_train['rougher.output.concentrate_ag'], bins=100, label = 'rougher.output', alpha=.5)\n",
    "plt.xlim([0, 25])\n",
    "plt.ylim([0, 600])\n",
    "plt.xlabel(\"Концентрация серебра в конце этапов\")\n",
    "plt.ylabel(\"Количество результатов\")\n",
    "plt.legend(loc='upper left', fontsize='x-large')\n",
    "plt.title(\"Гистограмма распределения концентрации серебра\")\n",
    "plt.show()"
   ]
  },
  {
   "cell_type": "markdown",
   "metadata": {},
   "source": [
    "Конецентрация серебра снижется с каждым этапом очистки. Это и нормально, так как основным благородным металлом является золото, значит остальные металлы и соединения должны быть отсеяны."
   ]
  },
  {
   "cell_type": "markdown",
   "metadata": {},
   "source": [
    "### Концентрация свинца на различных этапах очистки"
   ]
  },
  {
   "cell_type": "code",
   "execution_count": 21,
   "metadata": {},
   "outputs": [
    {
     "data": {
      "image/png": "[encoded data removed]",
      "text/plain": [
       "<Figure size 1008x720 with 1 Axes>"
      ]
     },
     "metadata": {
      "needs_background": "light"
     },
     "output_type": "display_data"
    }
   ],
   "source": [
    "plt.figure(figsize=[14,10])\n",
    "plt.hist(gold_recovery_train['final.output.concentrate_pb'], bins=100, label = 'final.output', alpha=.5)\n",
    "plt.hist(gold_recovery_train['primary_cleaner.output.concentrate_pb'], bins=100, label = 'primary_cleaner.output', alpha=.5)\n",
    "plt.hist(gold_recovery_train['rougher.output.concentrate_pb'], bins=100, label = 'rougher.output', alpha=.5)\n",
    "\n",
    "plt.xlim([0, 20])\n",
    "plt.ylim([0, 600])\n",
    "plt.xlabel(\"Концентрация свинца на выходе этапов\")\n",
    "plt.ylabel(\"Количество результатов\")\n",
    "plt.legend(loc='upper left', fontsize='x-large')\n",
    "plt.title(\"Гистограмма распределения концентрации свинца\")\n",
    "plt.show()"
   ]
  },
  {
   "cell_type": "markdown",
   "metadata": {},
   "source": [
    "Концентрация свинца повышается с этапа rougher до primary_cleaner. Это связано с химическим процесами очищения золота, в результате которого образуется большое количество сульфата свинца."
   ]
  },
  {
   "cell_type": "markdown",
   "metadata": {},
   "source": [
    "###  Сравнение распределения размеров гранул сырья на обучающей и тестовой выборках"
   ]
  },
  {
   "cell_type": "markdown",
   "metadata": {},
   "source": [
    "**До этапа флотации**"
   ]
  },
  {
   "cell_type": "code",
   "execution_count": 22,
   "metadata": {},
   "outputs": [
    {
     "data": {
      "image/png": "[encoded data removed]",
      "text/plain": [
       "<Figure size 1008x720 with 1 Axes>"
      ]
     },
     "metadata": {
      "needs_background": "light"
     },
     "output_type": "display_data"
    }
   ],
   "source": [
    "plt.figure(figsize=[14,10])\n",
    "\n",
    "plt.hist(gold_recovery_train['rougher.input.feed_size'], bins=200, label = 'Train rougher.input.feed_size', alpha=.5)\n",
    "plt.hist(gold_recovery_test['rougher.input.feed_size'], bins=200, label = 'Test rougher.input.feed_size', alpha=.5)\n",
    "\n",
    "plt.xlim([0, 500])\n",
    "plt.ylim([0, 1300])\n",
    "plt.xlabel(\"Размер гранул\")\n",
    "plt.ylabel(\"Количество результатов\")\n",
    "plt.legend(loc='upper left', fontsize='x-large')\n",
    "plt.title(\"Гистограмма распределения гранул сырья перед флотацией\")\n",
    "plt.show()"
   ]
  },
  {
   "cell_type": "markdown",
   "metadata": {},
   "source": [
    "Распределение гранул сырья до флотации похоже на нормальное со смещением влево как в обучающей, так и в тестовой выборке, присутствует много выбросов после размера гранул равному 100."
   ]
  },
  {
   "cell_type": "markdown",
   "metadata": {},
   "source": [
    "**До первичной очистки**"
   ]
  },
  {
   "cell_type": "code",
   "execution_count": 23,
   "metadata": {},
   "outputs": [
    {
     "data": {
      "image/png": "[encoded data removed]",
      "text/plain": [
       "<Figure size 1008x720 with 1 Axes>"
      ]
     },
     "metadata": {
      "needs_background": "light"
     },
     "output_type": "display_data"
    }
   ],
   "source": [
    "plt.figure(figsize=[14,10])\n",
    "\n",
    "plt.hist(gold_recovery_train['primary_cleaner.input.feed_size'], bins=100, label = 'Train primary_cleaner.input.feed_size', alpha=.5)\n",
    "plt.hist(gold_recovery_test['primary_cleaner.input.feed_size'], bins=100, label = 'Test primary_cleaner.input.feed_size', alpha=.5)\n",
    "\n",
    "plt.xlim([0, 16])\n",
    "plt.ylim([0, 1000])\n",
    "plt.xlabel(\"Размер гранул\")\n",
    "plt.ylabel(\"Количество результатов\")\n",
    "plt.legend(loc='upper left', fontsize='x-large')\n",
    "plt.title(\"Гистограмма распределения гранул сырья до первичной очистки\")\n",
    "plt.show()"
   ]
  },
  {
   "cell_type": "markdown",
   "metadata": {},
   "source": [
    "Размеры гранул перед первичной очисткой обладают нормальным распределением."
   ]
  },
  {
   "cell_type": "code",
   "execution_count": 24,
   "metadata": {},
   "outputs": [],
   "source": [
    "#подготовим столбцы с финальными концентрациями в обучающей выборке.\n",
    "final_output_concentrate_sum_train = (gold_recovery_train['final.output.concentrate_au'] + \n",
    "                                      gold_recovery_train['final.output.concentrate_ag'] + \n",
    "                                      gold_recovery_train['final.output.concentrate_pb'] +\n",
    "                                      gold_recovery_train['final.output.concentrate_sol'])\n",
    "primary_cleaner_output_concentrate_sum_train = (gold_recovery_train['primary_cleaner.output.concentrate_au'] + \n",
    "                                                gold_recovery_train['primary_cleaner.output.concentrate_ag'] + \n",
    "                                                gold_recovery_train['primary_cleaner.output.concentrate_pb'] +\n",
    "                                                gold_recovery_train['primary_cleaner.output.concentrate_sol'])\n",
    "rougher_output_concentrate_sum_train = (gold_recovery_train['rougher.output.concentrate_au'] + \n",
    "                                        gold_recovery_train['rougher.output.concentrate_ag'] + \n",
    "                                        gold_recovery_train['rougher.output.concentrate_pb'] +\n",
    "                                        gold_recovery_train['rougher.output.concentrate_sol'])"
   ]
  },
  {
   "cell_type": "markdown",
   "metadata": {},
   "source": [
    "### Суммарная концентрация всех веществ на разных стадиях: в сырье, в черновом и финальном концентратах."
   ]
  },
  {
   "cell_type": "code",
   "execution_count": 25,
   "metadata": {},
   "outputs": [
    {
     "data": {
      "image/png": "[encoded data removed]",
      "text/plain": [
       "<Figure size 1008x720 with 1 Axes>"
      ]
     },
     "metadata": {
      "needs_background": "light"
     },
     "output_type": "display_data"
    }
   ],
   "source": [
    "plt.figure(figsize=[14,10])\n",
    "\n",
    "plt.hist(final_output_concentrate_sum_train, bins=100, label = 'final_output', alpha=.5)\n",
    "plt.hist(primary_cleaner_output_concentrate_sum_train, bins=100, label = 'primary_cleaner_output', alpha=.5)\n",
    "plt.hist(rougher_output_concentrate_sum_train, bins=100, label = 'rougher_output', alpha=.5)\n",
    "\n",
    "plt.xlim([0, 100])\n",
    "plt.ylim([0, 1500])\n",
    "plt.xlabel(\"Суммарная концентраця\")\n",
    "plt.ylabel(\"Количество результатов\")\n",
    "plt.legend(loc='upper left', fontsize='x-large')\n",
    "plt.title(\"Гистограмма распределения концентраций на различных этапах очистки\")\n",
    "plt.show()"
   ]
  },
  {
   "cell_type": "markdown",
   "metadata": {},
   "source": [
    "На этапе предобрабоки были найдены строки с нулевыми значениями в primary_cleaner.output. Эти же строки показывают суммарную концентрацию, равную 0. Соответственно они являются аномалией, нужно избавиться от них."
   ]
  },
  {
   "cell_type": "code",
   "execution_count": 26,
   "metadata": {},
   "outputs": [
    {
     "data": {
      "text/html": [
       "<div>\n",
       "<style scoped>\n",
       "    .dataframe tbody tr th:only-of-type {\n",
       "        vertical-align: middle;\n",
       "    }\n",
       "\n",
       "    .dataframe tbody tr th {\n",
       "        vertical-align: top;\n",
       "    }\n",
       "\n",
       "    .dataframe thead th {\n",
       "        text-align: right;\n",
       "    }\n",
       "</style>\n",
       "<table border=\"1\" class=\"dataframe\">\n",
       "  <thead>\n",
       "    <tr style=\"text-align: right;\">\n",
       "      <th></th>\n",
       "      <th>date</th>\n",
       "      <th>final.output.concentrate_ag</th>\n",
       "      <th>final.output.concentrate_pb</th>\n",
       "      <th>final.output.concentrate_sol</th>\n",
       "      <th>final.output.concentrate_au</th>\n",
       "      <th>final.output.recovery</th>\n",
       "      <th>final.output.tail_ag</th>\n",
       "      <th>final.output.tail_pb</th>\n",
       "      <th>final.output.tail_sol</th>\n",
       "      <th>final.output.tail_au</th>\n",
       "      <th>...</th>\n",
       "      <th>secondary_cleaner.state.floatbank4_a_air</th>\n",
       "      <th>secondary_cleaner.state.floatbank4_a_level</th>\n",
       "      <th>secondary_cleaner.state.floatbank4_b_air</th>\n",
       "      <th>secondary_cleaner.state.floatbank4_b_level</th>\n",
       "      <th>secondary_cleaner.state.floatbank5_a_air</th>\n",
       "      <th>secondary_cleaner.state.floatbank5_a_level</th>\n",
       "      <th>secondary_cleaner.state.floatbank5_b_air</th>\n",
       "      <th>secondary_cleaner.state.floatbank5_b_level</th>\n",
       "      <th>secondary_cleaner.state.floatbank6_a_air</th>\n",
       "      <th>secondary_cleaner.state.floatbank6_a_level</th>\n",
       "    </tr>\n",
       "  </thead>\n",
       "  <tbody>\n",
       "  </tbody>\n",
       "</table>\n",
       "<p>0 rows × 87 columns</p>\n",
       "</div>"
      ],
      "text/plain": [
       "Empty DataFrame\n",
       "Columns: [date, final.output.concentrate_ag, final.output.concentrate_pb, final.output.concentrate_sol, final.output.concentrate_au, final.output.recovery, final.output.tail_ag, final.output.tail_pb, final.output.tail_sol, final.output.tail_au, primary_cleaner.input.sulfate, primary_cleaner.input.depressant, primary_cleaner.input.feed_size, primary_cleaner.input.xanthate, primary_cleaner.output.concentrate_ag, primary_cleaner.output.concentrate_pb, primary_cleaner.output.concentrate_sol, primary_cleaner.output.concentrate_au, primary_cleaner.output.tail_ag, primary_cleaner.output.tail_pb, primary_cleaner.output.tail_sol, primary_cleaner.output.tail_au, primary_cleaner.state.floatbank8_a_air, primary_cleaner.state.floatbank8_a_level, primary_cleaner.state.floatbank8_b_air, primary_cleaner.state.floatbank8_b_level, primary_cleaner.state.floatbank8_c_air, primary_cleaner.state.floatbank8_c_level, primary_cleaner.state.floatbank8_d_air, primary_cleaner.state.floatbank8_d_level, rougher.calculation.sulfate_to_au_concentrate, rougher.calculation.floatbank10_sulfate_to_au_feed, rougher.calculation.floatbank11_sulfate_to_au_feed, rougher.calculation.au_pb_ratio, rougher.input.feed_ag, rougher.input.feed_pb, rougher.input.feed_rate, rougher.input.feed_size, rougher.input.feed_sol, rougher.input.feed_au, rougher.input.floatbank10_sulfate, rougher.input.floatbank10_xanthate, rougher.input.floatbank11_sulfate, rougher.input.floatbank11_xanthate, rougher.output.concentrate_ag, rougher.output.concentrate_pb, rougher.output.concentrate_sol, rougher.output.concentrate_au, rougher.output.recovery, rougher.output.tail_ag, rougher.output.tail_pb, rougher.output.tail_sol, rougher.output.tail_au, rougher.state.floatbank10_a_air, rougher.state.floatbank10_a_level, rougher.state.floatbank10_b_air, rougher.state.floatbank10_b_level, rougher.state.floatbank10_c_air, rougher.state.floatbank10_c_level, rougher.state.floatbank10_d_air, rougher.state.floatbank10_d_level, rougher.state.floatbank10_e_air, rougher.state.floatbank10_e_level, rougher.state.floatbank10_f_air, rougher.state.floatbank10_f_level, secondary_cleaner.output.tail_ag, secondary_cleaner.output.tail_pb, secondary_cleaner.output.tail_sol, secondary_cleaner.output.tail_au, secondary_cleaner.state.floatbank2_a_air, secondary_cleaner.state.floatbank2_a_level, secondary_cleaner.state.floatbank2_b_air, secondary_cleaner.state.floatbank2_b_level, secondary_cleaner.state.floatbank3_a_air, secondary_cleaner.state.floatbank3_a_level, secondary_cleaner.state.floatbank3_b_air, secondary_cleaner.state.floatbank3_b_level, secondary_cleaner.state.floatbank4_a_air, secondary_cleaner.state.floatbank4_a_level, secondary_cleaner.state.floatbank4_b_air, secondary_cleaner.state.floatbank4_b_level, secondary_cleaner.state.floatbank5_a_air, secondary_cleaner.state.floatbank5_a_level, secondary_cleaner.state.floatbank5_b_air, secondary_cleaner.state.floatbank5_b_level, secondary_cleaner.state.floatbank6_a_air, secondary_cleaner.state.floatbank6_a_level]\n",
       "Index: []\n",
       "\n",
       "[0 rows x 87 columns]"
      ]
     },
     "execution_count": 26,
     "metadata": {},
     "output_type": "execute_result"
    }
   ],
   "source": [
    "gold_recovery_train = gold_recovery_train.drop(gold_recovery_train[gold_recovery_train['primary_cleaner.output.concentrate_au'] == 0].index)\n",
    "gold_recovery_train[gold_recovery_train['primary_cleaner.output.concentrate_au'] == 0].head()"
   ]
  },
  {
   "cell_type": "markdown",
   "metadata": {},
   "source": [
    "**Вывод:**\n",
    "- узнали, как меняется концентрация золота, серебра и свинца на различных этапах очистки.\n",
    "- сравнили распределения размеров гранул сырья на обучающей и тестовой выборках.\n",
    "- исследовали суммарную концентрацию всех веществ на разных стадиях."
   ]
  },
  {
   "cell_type": "markdown",
   "metadata": {},
   "source": [
    "## Модель"
   ]
  },
  {
   "cell_type": "markdown",
   "metadata": {},
   "source": [
    "### Подготовка признаков"
   ]
  },
  {
   "cell_type": "code",
   "execution_count": 27,
   "metadata": {},
   "outputs": [
    {
     "name": "stdout",
     "output_type": "stream",
     "text": [
      "{'primary_cleaner.output.tail_ag', 'secondary_cleaner.output.tail_pb', 'final.output.tail_au', 'primary_cleaner.output.concentrate_pb', 'final.output.concentrate_au', 'primary_cleaner.output.concentrate_sol', 'final.output.tail_pb', 'rougher.output.recovery', 'rougher.output.tail_pb', 'rougher.output.concentrate_au', 'final.output.tail_sol', 'final.output.recovery', 'rougher.calculation.sulfate_to_au_concentrate', 'primary_cleaner.output.tail_sol', 'secondary_cleaner.output.tail_ag', 'rougher.output.tail_sol', 'final.output.concentrate_pb', 'rougher.calculation.floatbank11_sulfate_to_au_feed', 'rougher.output.concentrate_ag', 'primary_cleaner.output.concentrate_ag', 'primary_cleaner.output.concentrate_au', 'rougher.output.concentrate_sol', 'secondary_cleaner.output.tail_sol', 'primary_cleaner.output.tail_au', 'rougher.output.tail_ag', 'final.output.concentrate_sol', 'final.output.concentrate_ag', 'rougher.output.concentrate_pb', 'rougher.calculation.au_pb_ratio', 'primary_cleaner.output.tail_pb', 'date', 'rougher.calculation.floatbank10_sulfate_to_au_feed', 'final.output.tail_ag', 'secondary_cleaner.output.tail_au', 'rougher.output.tail_au'}\n",
      "\n",
      "Index(['primary_cleaner.input.sulfate', 'primary_cleaner.input.depressant',\n",
      "       'primary_cleaner.input.feed_size', 'primary_cleaner.input.xanthate',\n",
      "       'primary_cleaner.state.floatbank8_a_air',\n",
      "       'primary_cleaner.state.floatbank8_a_level',\n",
      "       'primary_cleaner.state.floatbank8_b_air',\n",
      "       'primary_cleaner.state.floatbank8_b_level',\n",
      "       'primary_cleaner.state.floatbank8_c_air',\n",
      "       'primary_cleaner.state.floatbank8_c_level',\n",
      "       'primary_cleaner.state.floatbank8_d_air',\n",
      "       'primary_cleaner.state.floatbank8_d_level', 'rougher.input.feed_ag',\n",
      "       'rougher.input.feed_pb', 'rougher.input.feed_rate',\n",
      "       'rougher.input.feed_size', 'rougher.input.feed_sol',\n",
      "       'rougher.input.feed_au', 'rougher.input.floatbank10_sulfate',\n",
      "       'rougher.input.floatbank10_xanthate',\n",
      "       'rougher.input.floatbank11_sulfate',\n",
      "       'rougher.input.floatbank11_xanthate', 'rougher.state.floatbank10_a_air',\n",
      "       'rougher.state.floatbank10_a_level', 'rougher.state.floatbank10_b_air',\n",
      "       'rougher.state.floatbank10_b_level', 'rougher.state.floatbank10_c_air',\n",
      "       'rougher.state.floatbank10_c_level', 'rougher.state.floatbank10_d_air',\n",
      "       'rougher.state.floatbank10_d_level', 'rougher.state.floatbank10_e_air',\n",
      "       'rougher.state.floatbank10_e_level', 'rougher.state.floatbank10_f_air',\n",
      "       'rougher.state.floatbank10_f_level',\n",
      "       'secondary_cleaner.state.floatbank2_a_air',\n",
      "       'secondary_cleaner.state.floatbank2_a_level',\n",
      "       'secondary_cleaner.state.floatbank2_b_air',\n",
      "       'secondary_cleaner.state.floatbank2_b_level',\n",
      "       'secondary_cleaner.state.floatbank3_a_air',\n",
      "       'secondary_cleaner.state.floatbank3_a_level',\n",
      "       'secondary_cleaner.state.floatbank3_b_air',\n",
      "       'secondary_cleaner.state.floatbank3_b_level',\n",
      "       'secondary_cleaner.state.floatbank4_a_air',\n",
      "       'secondary_cleaner.state.floatbank4_a_level',\n",
      "       'secondary_cleaner.state.floatbank4_b_air',\n",
      "       'secondary_cleaner.state.floatbank4_b_level',\n",
      "       'secondary_cleaner.state.floatbank5_a_air',\n",
      "       'secondary_cleaner.state.floatbank5_a_level',\n",
      "       'secondary_cleaner.state.floatbank5_b_air',\n",
      "       'secondary_cleaner.state.floatbank5_b_level',\n",
      "       'secondary_cleaner.state.floatbank6_a_air',\n",
      "       'secondary_cleaner.state.floatbank6_a_level'],\n",
      "      dtype='object')\n"
     ]
    }
   ],
   "source": [
    "#подготовка признаков для final.output.recovery\n",
    "columns_to_delete = set(gold_recovery_train.columns) - final_features_columns\n",
    "print(columns_to_delete)\n",
    "train_features_final = gold_recovery_train.drop(columns_to_delete, axis=1)\n",
    "print()\n",
    "print(train_features_final.columns)"
   ]
  },
  {
   "cell_type": "code",
   "execution_count": 28,
   "metadata": {},
   "outputs": [
    {
     "name": "stdout",
     "output_type": "stream",
     "text": [
      "{'secondary_cleaner.state.floatbank6_a_level', 'secondary_cleaner.state.floatbank2_b_air', 'primary_cleaner.input.xanthate', 'primary_cleaner.input.depressant', 'secondary_cleaner.state.floatbank3_a_air', 'primary_cleaner.input.feed_size', 'secondary_cleaner.state.floatbank5_a_level', 'secondary_cleaner.state.floatbank2_a_level', 'primary_cleaner.state.floatbank8_c_level', 'primary_cleaner.state.floatbank8_a_level', 'secondary_cleaner.state.floatbank6_a_air', 'primary_cleaner.state.floatbank8_c_air', 'primary_cleaner.state.floatbank8_a_air', 'secondary_cleaner.state.floatbank2_a_air', 'secondary_cleaner.state.floatbank3_a_level', 'secondary_cleaner.state.floatbank4_b_level', 'primary_cleaner.state.floatbank8_b_level', 'secondary_cleaner.state.floatbank4_a_air', 'secondary_cleaner.state.floatbank5_b_air', 'secondary_cleaner.state.floatbank2_b_level', 'secondary_cleaner.state.floatbank5_b_level', 'primary_cleaner.state.floatbank8_b_air', 'secondary_cleaner.state.floatbank4_a_level', 'primary_cleaner.state.floatbank8_d_air', 'primary_cleaner.state.floatbank8_d_level', 'primary_cleaner.input.sulfate', 'secondary_cleaner.state.floatbank3_b_level', 'secondary_cleaner.state.floatbank4_b_air', 'secondary_cleaner.state.floatbank5_a_air', 'secondary_cleaner.state.floatbank3_b_air'}\n",
      "\n",
      "Index(['rougher.input.feed_ag', 'rougher.input.feed_pb',\n",
      "       'rougher.input.feed_rate', 'rougher.input.feed_size',\n",
      "       'rougher.input.feed_sol', 'rougher.input.feed_au',\n",
      "       'rougher.input.floatbank10_sulfate',\n",
      "       'rougher.input.floatbank10_xanthate',\n",
      "       'rougher.input.floatbank11_sulfate',\n",
      "       'rougher.input.floatbank11_xanthate', 'rougher.state.floatbank10_a_air',\n",
      "       'rougher.state.floatbank10_a_level', 'rougher.state.floatbank10_b_air',\n",
      "       'rougher.state.floatbank10_b_level', 'rougher.state.floatbank10_c_air',\n",
      "       'rougher.state.floatbank10_c_level', 'rougher.state.floatbank10_d_air',\n",
      "       'rougher.state.floatbank10_d_level', 'rougher.state.floatbank10_e_air',\n",
      "       'rougher.state.floatbank10_e_level', 'rougher.state.floatbank10_f_air',\n",
      "       'rougher.state.floatbank10_f_level'],\n",
      "      dtype='object')\n"
     ]
    }
   ],
   "source": [
    "#подготовка признаков для rougher.output.recovery\n",
    "columns_to_delete = set(train_features_final.columns) - rougher_features_columns\n",
    "print(columns_to_delete)\n",
    "train_features_rougher = train_features_final.drop(columns_to_delete, axis=1)\n",
    "print()\n",
    "print(train_features_rougher.columns)"
   ]
  },
  {
   "cell_type": "code",
   "execution_count": 29,
   "metadata": {},
   "outputs": [],
   "source": [
    "#целевой признак\n",
    "train_target_final = gold_recovery_train['final.output.recovery']\n",
    "train_target_rougher = gold_recovery_train['rougher.output.recovery']"
   ]
  },
  {
   "cell_type": "code",
   "execution_count": 30,
   "metadata": {},
   "outputs": [
    {
     "data": {
      "text/plain": [
       "Index(['primary_cleaner.input.sulfate', 'primary_cleaner.input.depressant',\n",
       "       'primary_cleaner.input.feed_size', 'primary_cleaner.input.xanthate',\n",
       "       'primary_cleaner.state.floatbank8_a_air',\n",
       "       'primary_cleaner.state.floatbank8_a_level',\n",
       "       'primary_cleaner.state.floatbank8_b_air',\n",
       "       'primary_cleaner.state.floatbank8_b_level',\n",
       "       'primary_cleaner.state.floatbank8_c_air',\n",
       "       'primary_cleaner.state.floatbank8_c_level',\n",
       "       'primary_cleaner.state.floatbank8_d_air',\n",
       "       'primary_cleaner.state.floatbank8_d_level', 'rougher.input.feed_ag',\n",
       "       'rougher.input.feed_pb', 'rougher.input.feed_rate',\n",
       "       'rougher.input.feed_size', 'rougher.input.feed_sol',\n",
       "       'rougher.input.feed_au', 'rougher.input.floatbank10_sulfate',\n",
       "       'rougher.input.floatbank10_xanthate',\n",
       "       'rougher.input.floatbank11_sulfate',\n",
       "       'rougher.input.floatbank11_xanthate', 'rougher.state.floatbank10_a_air',\n",
       "       'rougher.state.floatbank10_a_level', 'rougher.state.floatbank10_b_air',\n",
       "       'rougher.state.floatbank10_b_level', 'rougher.state.floatbank10_c_air',\n",
       "       'rougher.state.floatbank10_c_level', 'rougher.state.floatbank10_d_air',\n",
       "       'rougher.state.floatbank10_d_level', 'rougher.state.floatbank10_e_air',\n",
       "       'rougher.state.floatbank10_e_level', 'rougher.state.floatbank10_f_air',\n",
       "       'rougher.state.floatbank10_f_level',\n",
       "       'secondary_cleaner.state.floatbank2_a_air',\n",
       "       'secondary_cleaner.state.floatbank2_a_level',\n",
       "       'secondary_cleaner.state.floatbank2_b_air',\n",
       "       'secondary_cleaner.state.floatbank2_b_level',\n",
       "       'secondary_cleaner.state.floatbank3_a_air',\n",
       "       'secondary_cleaner.state.floatbank3_a_level',\n",
       "       'secondary_cleaner.state.floatbank3_b_air',\n",
       "       'secondary_cleaner.state.floatbank3_b_level',\n",
       "       'secondary_cleaner.state.floatbank4_a_air',\n",
       "       'secondary_cleaner.state.floatbank4_a_level',\n",
       "       'secondary_cleaner.state.floatbank4_b_air',\n",
       "       'secondary_cleaner.state.floatbank4_b_level',\n",
       "       'secondary_cleaner.state.floatbank5_a_air',\n",
       "       'secondary_cleaner.state.floatbank5_a_level',\n",
       "       'secondary_cleaner.state.floatbank5_b_air',\n",
       "       'secondary_cleaner.state.floatbank5_b_level',\n",
       "       'secondary_cleaner.state.floatbank6_a_air',\n",
       "       'secondary_cleaner.state.floatbank6_a_level'],\n",
       "      dtype='object')"
      ]
     },
     "execution_count": 30,
     "metadata": {},
     "output_type": "execute_result"
    }
   ],
   "source": [
    "#признаки тестовой выборки\n",
    "test_features = gold_recovery_test.drop('date', axis=1)\n",
    "test_features.columns"
   ]
  },
  {
   "cell_type": "code",
   "execution_count": 31,
   "metadata": {},
   "outputs": [
    {
     "name": "stdout",
     "output_type": "stream",
     "text": [
      "{'secondary_cleaner.state.floatbank6_a_level', 'secondary_cleaner.state.floatbank2_b_air', 'primary_cleaner.input.xanthate', 'primary_cleaner.input.depressant', 'secondary_cleaner.state.floatbank3_a_air', 'primary_cleaner.input.feed_size', 'secondary_cleaner.state.floatbank5_a_level', 'secondary_cleaner.state.floatbank2_a_level', 'primary_cleaner.state.floatbank8_c_level', 'primary_cleaner.state.floatbank8_a_level', 'secondary_cleaner.state.floatbank6_a_air', 'primary_cleaner.state.floatbank8_c_air', 'primary_cleaner.state.floatbank8_a_air', 'secondary_cleaner.state.floatbank2_a_air', 'secondary_cleaner.state.floatbank3_a_level', 'secondary_cleaner.state.floatbank4_b_level', 'primary_cleaner.state.floatbank8_b_level', 'secondary_cleaner.state.floatbank4_a_air', 'secondary_cleaner.state.floatbank5_b_air', 'secondary_cleaner.state.floatbank2_b_level', 'secondary_cleaner.state.floatbank5_b_level', 'primary_cleaner.state.floatbank8_b_air', 'secondary_cleaner.state.floatbank4_a_level', 'primary_cleaner.state.floatbank8_d_air', 'primary_cleaner.state.floatbank8_d_level', 'primary_cleaner.input.sulfate', 'secondary_cleaner.state.floatbank3_b_level', 'secondary_cleaner.state.floatbank4_b_air', 'secondary_cleaner.state.floatbank5_a_air', 'secondary_cleaner.state.floatbank3_b_air'}\n"
     ]
    }
   ],
   "source": [
    "test_features_final = test_features\n",
    "columns_to_delete = set(test_features_final.columns) - rougher_features_columns\n",
    "print(columns_to_delete)\n",
    "test_features_rougher = test_features_final.drop(columns_to_delete, axis=1)"
   ]
  },
  {
   "cell_type": "code",
   "execution_count": 38,
   "metadata": {},
   "outputs": [
    {
     "data": {
      "text/plain": [
       "((5229, 52), (5229, 52))"
      ]
     },
     "execution_count": 38,
     "metadata": {},
     "output_type": "execute_result"
    }
   ],
   "source": [
    "test_features_final.shape, test_features.shape"
   ]
  },
  {
   "cell_type": "code",
   "execution_count": 32,
   "metadata": {},
   "outputs": [],
   "source": [
    "#вычислениe симметричного среднего абсолютного процентного отклонения\n",
    "def sMAPE_score(rougher_recovery_real, rougher_recovery_predicted, final_recovery_real, final_recovery_predicted):\n",
    "    n = rougher_recovery_real.shape[0]\n",
    "    rougher_sMAPE = ((2*abs(rougher_recovery_real - rougher_recovery_predicted)/\n",
    "                     (abs(rougher_recovery_real) + abs(rougher_recovery_predicted))).sum() * 100 / n)\n",
    "    final_sMAPE = ((2*abs(final_recovery_real - final_recovery_predicted)/\n",
    "                     (abs(final_recovery_real) + abs(final_recovery_predicted))).sum() * 100 / n)\n",
    "    return rougher_sMAPE * 0.25 + final_sMAPE * 0.75"
   ]
  },
  {
   "cell_type": "markdown",
   "metadata": {},
   "source": [
    "### Поиск лучшей модели"
   ]
  },
  {
   "cell_type": "code",
   "execution_count": 33,
   "metadata": {},
   "outputs": [],
   "source": [
    "rougher_recovery_real = gold_recovery_full.loc[test_features_rougher.index,'rougher.output.recovery']\n",
    "final_recovery_real = gold_recovery_full.loc[test_features_final.index,'final.output.recovery']"
   ]
  },
  {
   "cell_type": "code",
   "execution_count": 34,
   "metadata": {},
   "outputs": [
    {
     "name": "stdout",
     "output_type": "stream",
     "text": [
      "sMAPE для линейной регресии 12.623643558078953\n"
     ]
    }
   ],
   "source": [
    "#1. Линейная регрессия\n",
    "\n",
    "model = LinearRegression()\n",
    "model.fit(train_features_rougher, train_target_rougher)\n",
    "rougher_recovery_predicted = model.predict(test_features_rougher)\n",
    "model.fit(train_features_final, train_target_final)\n",
    "final_recovery_predicted = model.predict(test_features_final)\n",
    "print('sMAPE для линейной регресии',sMAPE_score(rougher_recovery_real, rougher_recovery_predicted, final_recovery_real, final_recovery_predicted))"
   ]
  },
  {
   "cell_type": "code",
   "execution_count": 35,
   "metadata": {},
   "outputs": [
    {
     "name": "stdout",
     "output_type": "stream",
     "text": [
      "sMAPE для DecisionTreeRegressor 13.446167695089159\n"
     ]
    }
   ],
   "source": [
    "#2. Дерево решений\n",
    "\n",
    "model = DecisionTreeRegressor(max_depth=2, random_state=15062020)\n",
    "model.fit(train_features_rougher, train_target_rougher)\n",
    "rougher_recovery_predicted = model.predict(test_features_rougher)\n",
    "model.fit(train_features_final, train_target_final)\n",
    "final_recovery_predicted = model.predict(test_features_final)\n",
    "print('sMAPE для DecisionTreeRegressor',sMAPE_score(rougher_recovery_real, rougher_recovery_predicted, final_recovery_real, final_recovery_predicted))"
   ]
  },
  {
   "cell_type": "code",
   "execution_count": 36,
   "metadata": {},
   "outputs": [
    {
     "name": "stdout",
     "output_type": "stream",
     "text": [
      "sMAPE для RandomForestRegressor 12.980369398984928\n"
     ]
    }
   ],
   "source": [
    "#3. Случайный лес\n",
    "model = RandomForestRegressor(n_estimators=60, max_depth=10, random_state=12345)\n",
    "model.fit(train_features_rougher, train_target_rougher)\n",
    "rougher_recovery_predicted = model.predict(test_features_rougher)\n",
    "model.fit(train_features_final, train_target_final)\n",
    "final_recovery_predicted = model.predict(test_features_final)\n",
    "print('sMAPE для RandomForestRegressor',sMAPE_score(rougher_recovery_real, rougher_recovery_predicted, final_recovery_real, final_recovery_predicted))"
   ]
  },
  {
   "cell_type": "code",
   "execution_count": 37,
   "metadata": {},
   "outputs": [
    {
     "name": "stdout",
     "output_type": "stream",
     "text": [
      "sMAPE для медианной константной модели 11.679754848001743\n"
     ]
    }
   ],
   "source": [
    "#3.Константная модель на медианных значениях\n",
    "median_rougher_recovery = gold_recovery_full['rougher.output.recovery'].median()\n",
    "median_final_recovery = gold_recovery_full['final.output.recovery'].median()\n",
    "\n",
    "n = rougher_recovery_real.shape[0]\n",
    "rougher_sMAPE = ((2*abs(rougher_recovery_real - median_rougher_recovery)/\n",
    "                     (abs(rougher_recovery_real) + abs(median_rougher_recovery))).sum() * 100 / n)\n",
    "final_sMAPE = ((2*abs(final_recovery_real - median_final_recovery)/\n",
    "                     (abs(final_recovery_real) + abs(median_final_recovery))).sum() * 100 / n)\n",
    "print('sMAPE для медианной константной модели', rougher_sMAPE * 0.25 + final_sMAPE * 0.75)"
   ]
  },
  {
   "cell_type": "markdown",
   "metadata": {},
   "source": [
    "**Вывод:**\n",
    "- написана функция для вычисления sMAPE. \n",
    "- каждая модель была изучена на качество.\n",
    "- у константной модели значение sMAPE самое низкое."
   ]
  },
  {
   "cell_type": "markdown",
   "metadata": {},
   "source": [
    "## Общий вывод"
   ]
  },
  {
   "cell_type": "markdown",
   "metadata": {},
   "source": [
    "В ходе работы были выполнены следующие этапы:\n",
    "\n",
    "- Подготовлены и обработаны данные.\n",
    "- Проведен исследовательский анализ данных.\n",
    "- Построены и обучены несколько моделей."
   ]
  }
 ],
 "metadata": {
  "ExecuteTimeLog": [
   {
    "duration": 2549,
    "start_time": "2021-07-12T13:53:26.380Z"
   },
   {
    "duration": 521,
    "start_time": "2021-07-12T13:54:40.479Z"
   },
   {
    "duration": 225,
    "start_time": "2021-07-12T13:55:01.082Z"
   },
   {
    "duration": 210,
    "start_time": "2021-07-12T13:55:07.967Z"
   },
   {
    "duration": 703,
    "start_time": "2021-07-12T13:56:25.987Z"
   },
   {
    "duration": 18,
    "start_time": "2021-07-12T13:57:32.382Z"
   },
   {
    "duration": 8,
    "start_time": "2021-07-12T13:59:13.330Z"
   },
   {
    "duration": 24,
    "start_time": "2021-07-12T14:00:47.178Z"
   },
   {
    "duration": 2,
    "start_time": "2021-07-12T14:04:28.657Z"
   },
   {
    "duration": 21,
    "start_time": "2021-07-12T14:05:00.883Z"
   },
   {
    "duration": 8,
    "start_time": "2021-07-12T14:07:52.166Z"
   },
   {
    "duration": 20,
    "start_time": "2021-07-12T14:10:38.817Z"
   },
   {
    "duration": 11,
    "start_time": "2021-07-12T14:10:54.994Z"
   },
   {
    "duration": 7,
    "start_time": "2021-07-12T14:11:30.330Z"
   },
   {
    "duration": 6,
    "start_time": "2021-07-12T14:48:50.470Z"
   },
   {
    "duration": 7,
    "start_time": "2021-07-12T14:49:03.503Z"
   },
   {
    "duration": 14,
    "start_time": "2021-07-12T14:49:11.671Z"
   },
   {
    "duration": 9,
    "start_time": "2021-07-12T14:49:31.670Z"
   },
   {
    "duration": 7,
    "start_time": "2021-07-12T14:49:46.693Z"
   },
   {
    "duration": 6,
    "start_time": "2021-07-12T14:50:10.613Z"
   },
   {
    "duration": 239,
    "start_time": "2021-07-12T14:51:15.638Z"
   },
   {
    "duration": 6,
    "start_time": "2021-07-12T14:51:52.996Z"
   },
   {
    "duration": 7,
    "start_time": "2021-07-12T14:52:08.513Z"
   },
   {
    "duration": 6,
    "start_time": "2021-07-12T14:52:14.155Z"
   },
   {
    "duration": 6,
    "start_time": "2021-07-12T14:52:25.086Z"
   },
   {
    "duration": 6,
    "start_time": "2021-07-12T14:52:31.070Z"
   },
   {
    "duration": 6,
    "start_time": "2021-07-12T14:52:41.204Z"
   },
   {
    "duration": 8,
    "start_time": "2021-07-12T14:53:06.471Z"
   },
   {
    "duration": 26,
    "start_time": "2021-07-12T14:55:42.697Z"
   },
   {
    "duration": 180,
    "start_time": "2021-07-12T14:56:59.010Z"
   },
   {
    "duration": 1128,
    "start_time": "2021-07-12T14:58:00.788Z"
   },
   {
    "duration": 734,
    "start_time": "2021-07-12T14:58:01.918Z"
   },
   {
    "duration": 32,
    "start_time": "2021-07-12T14:58:02.654Z"
   },
   {
    "duration": 15,
    "start_time": "2021-07-12T14:58:02.688Z"
   },
   {
    "duration": 8,
    "start_time": "2021-07-12T14:58:02.704Z"
   },
   {
    "duration": 270,
    "start_time": "2021-07-12T14:58:09.967Z"
   },
   {
    "duration": 184,
    "start_time": "2021-07-12T14:59:32.831Z"
   },
   {
    "duration": 167,
    "start_time": "2021-07-12T14:59:52.831Z"
   },
   {
    "duration": 1058,
    "start_time": "2021-07-12T15:00:55.949Z"
   },
   {
    "duration": 718,
    "start_time": "2021-07-12T15:00:57.009Z"
   },
   {
    "duration": 25,
    "start_time": "2021-07-12T15:00:57.730Z"
   },
   {
    "duration": 32,
    "start_time": "2021-07-12T15:00:57.756Z"
   },
   {
    "duration": 9,
    "start_time": "2021-07-12T15:00:57.790Z"
   },
   {
    "duration": 281,
    "start_time": "2021-07-12T15:01:30.054Z"
   },
   {
    "duration": 172,
    "start_time": "2021-07-12T15:01:47.243Z"
   },
   {
    "duration": 184,
    "start_time": "2021-07-12T15:02:36.275Z"
   },
   {
    "duration": 1118,
    "start_time": "2021-07-12T21:40:23.699Z"
   },
   {
    "duration": 751,
    "start_time": "2021-07-12T21:40:24.820Z"
   },
   {
    "duration": 29,
    "start_time": "2021-07-12T21:40:25.573Z"
   },
   {
    "duration": 15,
    "start_time": "2021-07-12T21:40:25.603Z"
   },
   {
    "duration": 8,
    "start_time": "2021-07-12T21:40:25.620Z"
   },
   {
    "duration": 26,
    "start_time": "2021-07-12T21:40:29.297Z"
   },
   {
    "duration": 281,
    "start_time": "2021-07-12T21:41:36.246Z"
   },
   {
    "duration": 171,
    "start_time": "2021-07-12T21:41:54.372Z"
   },
   {
    "duration": 183,
    "start_time": "2021-07-12T21:42:33.230Z"
   },
   {
    "duration": 988,
    "start_time": "2021-07-12T21:42:46.125Z"
   },
   {
    "duration": 708,
    "start_time": "2021-07-12T21:42:47.115Z"
   },
   {
    "duration": 23,
    "start_time": "2021-07-12T21:42:47.825Z"
   },
   {
    "duration": 13,
    "start_time": "2021-07-12T21:42:47.850Z"
   },
   {
    "duration": 23,
    "start_time": "2021-07-12T21:42:47.864Z"
   },
   {
    "duration": 22,
    "start_time": "2021-07-12T21:42:47.889Z"
   },
   {
    "duration": 6,
    "start_time": "2021-07-12T21:42:47.913Z"
   },
   {
    "duration": 20,
    "start_time": "2021-07-12T21:42:47.921Z"
   },
   {
    "duration": 42,
    "start_time": "2021-07-12T21:42:47.943Z"
   },
   {
    "duration": 6,
    "start_time": "2021-07-12T21:42:47.986Z"
   },
   {
    "duration": 297,
    "start_time": "2021-07-12T21:42:47.993Z"
   },
   {
    "duration": -1650,
    "start_time": "2021-07-12T21:42:49.942Z"
   },
   {
    "duration": 9,
    "start_time": "2021-07-12T21:44:39.840Z"
   },
   {
    "duration": 23,
    "start_time": "2021-07-12T21:47:58.493Z"
   },
   {
    "duration": 7,
    "start_time": "2021-07-12T21:48:11.048Z"
   },
   {
    "duration": 1133,
    "start_time": "2021-07-12T21:48:22.853Z"
   },
   {
    "duration": 740,
    "start_time": "2021-07-12T21:48:23.988Z"
   },
   {
    "duration": 25,
    "start_time": "2021-07-12T21:48:24.730Z"
   },
   {
    "duration": 32,
    "start_time": "2021-07-12T21:48:24.757Z"
   },
   {
    "duration": 9,
    "start_time": "2021-07-12T21:48:24.790Z"
   },
   {
    "duration": 25,
    "start_time": "2021-07-12T21:48:24.800Z"
   },
   {
    "duration": 7,
    "start_time": "2021-07-12T21:48:24.826Z"
   },
   {
    "duration": 49,
    "start_time": "2021-07-12T21:48:24.836Z"
   },
   {
    "duration": 11,
    "start_time": "2021-07-12T21:48:24.887Z"
   },
   {
    "duration": 6,
    "start_time": "2021-07-12T21:48:24.900Z"
   },
   {
    "duration": 266,
    "start_time": "2021-07-12T21:48:24.907Z"
   },
   {
    "duration": -285,
    "start_time": "2021-07-12T21:48:25.460Z"
   },
   {
    "duration": 13,
    "start_time": "2021-07-12T21:51:40.265Z"
   },
   {
    "duration": 4177,
    "start_time": "2021-07-12T21:52:15.300Z"
   },
   {
    "duration": 1467,
    "start_time": "2021-07-13T11:19:32.318Z"
   },
   {
    "duration": 849,
    "start_time": "2021-07-13T11:19:33.787Z"
   },
   {
    "duration": 46,
    "start_time": "2021-07-13T11:19:34.640Z"
   },
   {
    "duration": 25,
    "start_time": "2021-07-13T11:19:34.690Z"
   },
   {
    "duration": 42,
    "start_time": "2021-07-13T11:19:34.718Z"
   },
   {
    "duration": 34,
    "start_time": "2021-07-13T11:19:34.762Z"
   },
   {
    "duration": 13,
    "start_time": "2021-07-13T11:19:34.798Z"
   },
   {
    "duration": 63,
    "start_time": "2021-07-13T11:19:34.815Z"
   },
   {
    "duration": 16,
    "start_time": "2021-07-13T11:19:34.880Z"
   },
   {
    "duration": 8,
    "start_time": "2021-07-13T11:19:34.898Z"
   },
   {
    "duration": 51,
    "start_time": "2021-07-13T11:19:34.908Z"
   },
   {
    "duration": 1019,
    "start_time": "2021-07-13T13:49:20.690Z"
   },
   {
    "duration": 641,
    "start_time": "2021-07-13T13:49:21.711Z"
   },
   {
    "duration": 22,
    "start_time": "2021-07-13T13:49:22.354Z"
   },
   {
    "duration": 18,
    "start_time": "2021-07-13T13:49:22.377Z"
   },
   {
    "duration": 9,
    "start_time": "2021-07-13T13:49:22.397Z"
   },
   {
    "duration": 21,
    "start_time": "2021-07-13T13:49:22.408Z"
   },
   {
    "duration": 8,
    "start_time": "2021-07-13T13:49:22.430Z"
   },
   {
    "duration": 17,
    "start_time": "2021-07-13T13:49:22.440Z"
   },
   {
    "duration": 36,
    "start_time": "2021-07-13T13:49:22.459Z"
   },
   {
    "duration": 5,
    "start_time": "2021-07-13T13:49:22.497Z"
   },
   {
    "duration": 13,
    "start_time": "2021-07-13T13:49:22.503Z"
   },
   {
    "duration": 4,
    "start_time": "2021-07-13T14:01:42.316Z"
   },
   {
    "duration": 697,
    "start_time": "2021-07-13T14:01:42.322Z"
   },
   {
    "duration": 19,
    "start_time": "2021-07-13T14:01:43.022Z"
   },
   {
    "duration": 14,
    "start_time": "2021-07-13T14:01:43.043Z"
   },
   {
    "duration": 7,
    "start_time": "2021-07-13T14:01:43.059Z"
   },
   {
    "duration": 41,
    "start_time": "2021-07-13T14:01:43.068Z"
   },
   {
    "duration": 7,
    "start_time": "2021-07-13T14:01:43.111Z"
   },
   {
    "duration": 17,
    "start_time": "2021-07-13T14:01:43.120Z"
   },
   {
    "duration": 9,
    "start_time": "2021-07-13T14:01:43.139Z"
   },
   {
    "duration": 4,
    "start_time": "2021-07-13T14:01:43.150Z"
   },
   {
    "duration": 13,
    "start_time": "2021-07-13T14:01:51.616Z"
   },
   {
    "duration": 3,
    "start_time": "2021-07-13T14:04:16.891Z"
   },
   {
    "duration": 672,
    "start_time": "2021-07-13T14:04:16.898Z"
   },
   {
    "duration": 21,
    "start_time": "2021-07-13T14:04:17.572Z"
   },
   {
    "duration": 19,
    "start_time": "2021-07-13T14:04:17.595Z"
   },
   {
    "duration": 7,
    "start_time": "2021-07-13T14:04:17.615Z"
   },
   {
    "duration": 21,
    "start_time": "2021-07-13T14:04:17.624Z"
   },
   {
    "duration": 5,
    "start_time": "2021-07-13T14:04:17.647Z"
   },
   {
    "duration": 45,
    "start_time": "2021-07-13T14:04:17.654Z"
   },
   {
    "duration": 8,
    "start_time": "2021-07-13T14:04:17.701Z"
   },
   {
    "duration": 4,
    "start_time": "2021-07-13T14:04:17.711Z"
   },
   {
    "duration": 12,
    "start_time": "2021-07-13T14:04:17.717Z"
   },
   {
    "duration": 3,
    "start_time": "2021-07-13T14:05:51.218Z"
   },
   {
    "duration": 398,
    "start_time": "2021-07-13T14:10:24.541Z"
   },
   {
    "duration": 437,
    "start_time": "2021-07-13T14:10:55.507Z"
   },
   {
    "duration": 562,
    "start_time": "2021-07-13T14:12:12.389Z"
   },
   {
    "duration": 414,
    "start_time": "2021-07-13T14:12:17.970Z"
   },
   {
    "duration": 217,
    "start_time": "2021-07-13T14:13:49.405Z"
   },
   {
    "duration": 223,
    "start_time": "2021-07-13T14:13:58.341Z"
   },
   {
    "duration": 18,
    "start_time": "2021-07-13T14:14:07.422Z"
   },
   {
    "duration": 21,
    "start_time": "2021-07-13T14:14:29.946Z"
   },
   {
    "duration": 17,
    "start_time": "2021-07-13T14:16:46.843Z"
   },
   {
    "duration": 962,
    "start_time": "2021-07-13T14:17:01.375Z"
   },
   {
    "duration": 848,
    "start_time": "2021-07-13T14:17:15.290Z"
   },
   {
    "duration": 16,
    "start_time": "2021-07-13T14:17:23.438Z"
   },
   {
    "duration": 383,
    "start_time": "2021-07-13T14:18:08.313Z"
   },
   {
    "duration": 215,
    "start_time": "2021-07-13T14:18:49.229Z"
   },
   {
    "duration": 20,
    "start_time": "2021-07-13T14:18:55.577Z"
   },
   {
    "duration": 21,
    "start_time": "2021-07-13T14:20:13.855Z"
   },
   {
    "duration": 16,
    "start_time": "2021-07-13T14:20:21.808Z"
   },
   {
    "duration": 359,
    "start_time": "2021-07-13T14:21:15.891Z"
   },
   {
    "duration": 5532,
    "start_time": "2021-07-13T14:30:42.362Z"
   },
   {
    "duration": 4,
    "start_time": "2021-07-13T15:15:47.266Z"
   },
   {
    "duration": 644,
    "start_time": "2021-07-13T15:15:47.273Z"
   },
   {
    "duration": 17,
    "start_time": "2021-07-13T15:15:47.919Z"
   },
   {
    "duration": 15,
    "start_time": "2021-07-13T15:15:47.938Z"
   },
   {
    "duration": 7,
    "start_time": "2021-07-13T15:15:47.955Z"
   },
   {
    "duration": 45,
    "start_time": "2021-07-13T15:15:47.963Z"
   },
   {
    "duration": 5,
    "start_time": "2021-07-13T15:15:48.010Z"
   },
   {
    "duration": 18,
    "start_time": "2021-07-13T15:15:48.017Z"
   },
   {
    "duration": 8,
    "start_time": "2021-07-13T15:15:48.036Z"
   },
   {
    "duration": 4,
    "start_time": "2021-07-13T15:15:48.047Z"
   },
   {
    "duration": 41,
    "start_time": "2021-07-13T15:15:48.053Z"
   },
   {
    "duration": 4,
    "start_time": "2021-07-13T15:15:48.096Z"
   },
   {
    "duration": 399,
    "start_time": "2021-07-13T15:15:48.101Z"
   },
   {
    "duration": 19,
    "start_time": "2021-07-13T15:15:48.501Z"
   },
   {
    "duration": 16,
    "start_time": "2021-07-13T15:15:48.522Z"
   },
   {
    "duration": 458,
    "start_time": "2021-07-13T15:15:48.540Z"
   },
   {
    "duration": 21,
    "start_time": "2021-07-13T15:15:49.000Z"
   },
   {
    "duration": 17,
    "start_time": "2021-07-13T15:15:49.022Z"
   },
   {
    "duration": 757,
    "start_time": "2021-07-13T15:15:49.040Z"
   },
   {
    "duration": 685,
    "start_time": "2021-07-13T15:17:53.515Z"
   },
   {
    "duration": 713,
    "start_time": "2021-07-13T15:22:39.989Z"
   },
   {
    "duration": 223,
    "start_time": "2021-07-13T15:22:47.574Z"
   },
   {
    "duration": 829,
    "start_time": "2021-07-13T15:22:58.882Z"
   },
   {
    "duration": 801,
    "start_time": "2021-07-13T15:23:17.635Z"
   },
   {
    "duration": 817,
    "start_time": "2021-07-13T15:23:34.756Z"
   },
   {
    "duration": 704,
    "start_time": "2021-07-13T15:23:59.713Z"
   },
   {
    "duration": 1539,
    "start_time": "2021-07-13T19:39:44.179Z"
   },
   {
    "duration": 901,
    "start_time": "2021-07-13T19:39:45.721Z"
   },
   {
    "duration": 47,
    "start_time": "2021-07-13T19:39:46.625Z"
   },
   {
    "duration": 25,
    "start_time": "2021-07-13T19:39:46.676Z"
   },
   {
    "duration": 13,
    "start_time": "2021-07-13T19:39:46.704Z"
   },
   {
    "duration": 72,
    "start_time": "2021-07-13T19:39:46.720Z"
   },
   {
    "duration": 14,
    "start_time": "2021-07-13T19:39:46.795Z"
   },
   {
    "duration": 59,
    "start_time": "2021-07-13T19:39:46.813Z"
   },
   {
    "duration": 16,
    "start_time": "2021-07-13T19:39:46.876Z"
   },
   {
    "duration": 9,
    "start_time": "2021-07-13T19:39:46.894Z"
   },
   {
    "duration": 62,
    "start_time": "2021-07-13T19:39:46.906Z"
   },
   {
    "duration": 6,
    "start_time": "2021-07-13T19:39:46.970Z"
   },
   {
    "duration": 884,
    "start_time": "2021-07-13T19:39:46.978Z"
   },
   {
    "duration": 37,
    "start_time": "2021-07-13T19:39:47.864Z"
   },
   {
    "duration": 43,
    "start_time": "2021-07-13T19:39:47.903Z"
   },
   {
    "duration": 705,
    "start_time": "2021-07-13T19:39:47.948Z"
   },
   {
    "duration": 42,
    "start_time": "2021-07-13T19:39:48.655Z"
   },
   {
    "duration": 36,
    "start_time": "2021-07-13T19:39:48.699Z"
   },
   {
    "duration": 1452,
    "start_time": "2021-07-13T19:39:48.738Z"
   },
   {
    "duration": 1574,
    "start_time": "2021-07-13T19:39:50.192Z"
   },
   {
    "duration": 1399,
    "start_time": "2021-07-13T19:39:51.768Z"
   },
   {
    "duration": 1770,
    "start_time": "2021-07-13T19:51:07.539Z"
   },
   {
    "duration": 1606,
    "start_time": "2021-07-13T19:51:20.323Z"
   },
   {
    "duration": 1839,
    "start_time": "2021-07-13T19:51:28.706Z"
   },
   {
    "duration": 1651,
    "start_time": "2021-07-13T19:51:40.278Z"
   },
   {
    "duration": 1798,
    "start_time": "2021-07-13T19:51:51.204Z"
   },
   {
    "duration": 1626,
    "start_time": "2021-07-13T19:51:58.870Z"
   },
   {
    "duration": 1680,
    "start_time": "2021-07-13T19:56:09.748Z"
   },
   {
    "duration": 504,
    "start_time": "2021-07-13T19:56:15.979Z"
   },
   {
    "duration": 1281,
    "start_time": "2021-07-13T19:56:27.676Z"
   },
   {
    "duration": 1213,
    "start_time": "2021-07-13T19:58:26.984Z"
   },
   {
    "duration": 9,
    "start_time": "2021-07-13T19:59:55.424Z"
   },
   {
    "duration": 1385,
    "start_time": "2021-07-13T20:01:01.295Z"
   },
   {
    "duration": 28,
    "start_time": "2021-07-13T20:04:09.865Z"
   },
   {
    "duration": 1565,
    "start_time": "2021-07-13T20:04:16.218Z"
   },
   {
    "duration": 1425,
    "start_time": "2021-07-13T20:04:31.363Z"
   },
   {
    "duration": 28,
    "start_time": "2021-07-13T20:05:03.026Z"
   },
   {
    "duration": 9,
    "start_time": "2021-07-13T20:09:31.946Z"
   },
   {
    "duration": 4,
    "start_time": "2021-07-13T20:10:16.678Z"
   },
   {
    "duration": 8,
    "start_time": "2021-07-13T20:10:42.770Z"
   },
   {
    "duration": 4,
    "start_time": "2021-07-13T20:14:02.494Z"
   },
   {
    "duration": 309,
    "start_time": "2021-07-13T20:14:24.357Z"
   },
   {
    "duration": 8,
    "start_time": "2021-07-13T20:14:29.632Z"
   },
   {
    "duration": 6,
    "start_time": "2021-07-13T20:15:04.164Z"
   },
   {
    "duration": 6,
    "start_time": "2021-07-13T20:15:49.881Z"
   },
   {
    "duration": 2668,
    "start_time": "2021-07-13T20:17:39.595Z"
   },
   {
    "duration": 750059,
    "start_time": "2021-07-13T20:20:43.242Z"
   },
   {
    "duration": 9,
    "start_time": "2021-07-13T20:35:15.828Z"
   },
   {
    "duration": 1506,
    "start_time": "2021-07-13T20:35:35.489Z"
   },
   {
    "duration": 908,
    "start_time": "2021-07-13T20:35:36.997Z"
   },
   {
    "duration": 39,
    "start_time": "2021-07-13T20:35:37.908Z"
   },
   {
    "duration": 24,
    "start_time": "2021-07-13T20:35:37.962Z"
   },
   {
    "duration": 11,
    "start_time": "2021-07-13T20:35:37.989Z"
   },
   {
    "duration": 67,
    "start_time": "2021-07-13T20:35:38.004Z"
   },
   {
    "duration": 13,
    "start_time": "2021-07-13T20:35:38.075Z"
   },
   {
    "duration": 32,
    "start_time": "2021-07-13T20:35:38.092Z"
   },
   {
    "duration": 45,
    "start_time": "2021-07-13T20:35:38.128Z"
   },
   {
    "duration": 8,
    "start_time": "2021-07-13T20:35:38.176Z"
   },
   {
    "duration": 22,
    "start_time": "2021-07-13T20:35:38.187Z"
   },
   {
    "duration": 6,
    "start_time": "2021-07-13T20:35:38.211Z"
   },
   {
    "duration": 810,
    "start_time": "2021-07-13T20:35:38.219Z"
   },
   {
    "duration": 50,
    "start_time": "2021-07-13T20:35:39.032Z"
   },
   {
    "duration": 28,
    "start_time": "2021-07-13T20:35:39.084Z"
   },
   {
    "duration": 717,
    "start_time": "2021-07-13T20:35:39.115Z"
   },
   {
    "duration": 50,
    "start_time": "2021-07-13T20:35:39.834Z"
   },
   {
    "duration": 29,
    "start_time": "2021-07-13T20:35:39.887Z"
   },
   {
    "duration": 1473,
    "start_time": "2021-07-13T20:35:39.918Z"
   },
   {
    "duration": 1787,
    "start_time": "2021-07-13T20:35:41.394Z"
   },
   {
    "duration": 1372,
    "start_time": "2021-07-13T20:35:43.183Z"
   },
   {
    "duration": 1744,
    "start_time": "2021-07-13T20:35:44.557Z"
   },
   {
    "duration": 1084,
    "start_time": "2021-07-13T20:35:46.305Z"
   },
   {
    "duration": 9,
    "start_time": "2021-07-13T20:35:47.392Z"
   },
   {
    "duration": 1371,
    "start_time": "2021-07-13T20:35:47.403Z"
   },
   {
    "duration": 27,
    "start_time": "2021-07-13T20:35:48.776Z"
   },
   {
    "duration": 515,
    "start_time": "2021-07-13T20:35:48.805Z"
   },
   {
    "duration": -761,
    "start_time": "2021-07-13T20:35:50.083Z"
   },
   {
    "duration": -764,
    "start_time": "2021-07-13T20:35:50.087Z"
   },
   {
    "duration": -765,
    "start_time": "2021-07-13T20:35:50.090Z"
   },
   {
    "duration": -772,
    "start_time": "2021-07-13T20:35:50.098Z"
   },
   {
    "duration": -774,
    "start_time": "2021-07-13T20:35:50.102Z"
   },
   {
    "duration": -775,
    "start_time": "2021-07-13T20:35:50.105Z"
   },
   {
    "duration": -777,
    "start_time": "2021-07-13T20:35:50.108Z"
   },
   {
    "duration": -778,
    "start_time": "2021-07-13T20:35:50.111Z"
   },
   {
    "duration": 8,
    "start_time": "2021-07-13T20:36:07.834Z"
   },
   {
    "duration": 942,
    "start_time": "2021-07-13T20:36:07.844Z"
   },
   {
    "duration": 34,
    "start_time": "2021-07-13T20:36:08.789Z"
   },
   {
    "duration": 46,
    "start_time": "2021-07-13T20:36:08.827Z"
   },
   {
    "duration": 12,
    "start_time": "2021-07-13T20:36:08.875Z"
   },
   {
    "duration": 48,
    "start_time": "2021-07-13T20:36:08.889Z"
   },
   {
    "duration": 24,
    "start_time": "2021-07-13T20:36:08.940Z"
   },
   {
    "duration": 42,
    "start_time": "2021-07-13T20:36:08.966Z"
   },
   {
    "duration": 16,
    "start_time": "2021-07-13T20:36:09.014Z"
   },
   {
    "duration": 8,
    "start_time": "2021-07-13T20:36:09.062Z"
   },
   {
    "duration": 34,
    "start_time": "2021-07-13T20:36:09.073Z"
   },
   {
    "duration": 11,
    "start_time": "2021-07-13T20:36:09.110Z"
   },
   {
    "duration": 914,
    "start_time": "2021-07-13T20:36:09.123Z"
   },
   {
    "duration": 46,
    "start_time": "2021-07-13T20:36:10.040Z"
   },
   {
    "duration": 27,
    "start_time": "2021-07-13T20:36:10.088Z"
   },
   {
    "duration": 744,
    "start_time": "2021-07-13T20:36:10.118Z"
   },
   {
    "duration": 38,
    "start_time": "2021-07-13T20:36:10.864Z"
   },
   {
    "duration": 28,
    "start_time": "2021-07-13T20:36:10.905Z"
   },
   {
    "duration": 1349,
    "start_time": "2021-07-13T20:36:10.935Z"
   },
   {
    "duration": 1336,
    "start_time": "2021-07-13T20:36:12.286Z"
   },
   {
    "duration": 1483,
    "start_time": "2021-07-13T20:36:13.624Z"
   },
   {
    "duration": 1590,
    "start_time": "2021-07-13T20:36:15.109Z"
   },
   {
    "duration": 1165,
    "start_time": "2021-07-13T20:36:16.702Z"
   },
   {
    "duration": 9,
    "start_time": "2021-07-13T20:36:17.869Z"
   },
   {
    "duration": 1395,
    "start_time": "2021-07-13T20:36:17.880Z"
   },
   {
    "duration": 26,
    "start_time": "2021-07-13T20:36:19.278Z"
   },
   {
    "duration": 300,
    "start_time": "2021-07-13T20:36:19.308Z"
   },
   {
    "duration": -749,
    "start_time": "2021-07-13T20:36:20.361Z"
   },
   {
    "duration": -755,
    "start_time": "2021-07-13T20:36:20.369Z"
   },
   {
    "duration": -756,
    "start_time": "2021-07-13T20:36:20.373Z"
   },
   {
    "duration": -760,
    "start_time": "2021-07-13T20:36:20.379Z"
   },
   {
    "duration": -762,
    "start_time": "2021-07-13T20:36:20.384Z"
   },
   {
    "duration": -766,
    "start_time": "2021-07-13T20:36:20.389Z"
   },
   {
    "duration": -769,
    "start_time": "2021-07-13T20:36:20.393Z"
   },
   {
    "duration": -769,
    "start_time": "2021-07-13T20:36:20.395Z"
   },
   {
    "duration": 8,
    "start_time": "2021-07-13T20:36:43.953Z"
   },
   {
    "duration": 972,
    "start_time": "2021-07-13T20:36:43.964Z"
   },
   {
    "duration": 41,
    "start_time": "2021-07-13T20:36:44.939Z"
   },
   {
    "duration": 31,
    "start_time": "2021-07-13T20:36:44.983Z"
   },
   {
    "duration": 12,
    "start_time": "2021-07-13T20:36:45.016Z"
   },
   {
    "duration": 61,
    "start_time": "2021-07-13T20:36:45.030Z"
   },
   {
    "duration": 9,
    "start_time": "2021-07-13T20:36:45.093Z"
   },
   {
    "duration": 72,
    "start_time": "2021-07-13T20:36:45.108Z"
   },
   {
    "duration": 25,
    "start_time": "2021-07-13T20:36:45.184Z"
   },
   {
    "duration": 12,
    "start_time": "2021-07-13T20:36:45.212Z"
   },
   {
    "duration": 63,
    "start_time": "2021-07-13T20:36:45.227Z"
   },
   {
    "duration": 7,
    "start_time": "2021-07-13T20:36:45.293Z"
   },
   {
    "duration": 776,
    "start_time": "2021-07-13T20:36:45.304Z"
   },
   {
    "duration": 38,
    "start_time": "2021-07-13T20:36:46.083Z"
   },
   {
    "duration": 54,
    "start_time": "2021-07-13T20:36:46.124Z"
   },
   {
    "duration": 684,
    "start_time": "2021-07-13T20:36:46.181Z"
   },
   {
    "duration": 38,
    "start_time": "2021-07-13T20:36:46.868Z"
   },
   {
    "duration": 24,
    "start_time": "2021-07-13T20:36:46.908Z"
   },
   {
    "duration": 1441,
    "start_time": "2021-07-13T20:36:46.963Z"
   },
   {
    "duration": 1339,
    "start_time": "2021-07-13T20:36:48.407Z"
   },
   {
    "duration": 1738,
    "start_time": "2021-07-13T20:36:49.748Z"
   },
   {
    "duration": 1774,
    "start_time": "2021-07-13T20:36:51.488Z"
   },
   {
    "duration": 1186,
    "start_time": "2021-07-13T20:36:53.269Z"
   },
   {
    "duration": 11,
    "start_time": "2021-07-13T20:36:54.459Z"
   },
   {
    "duration": 2137,
    "start_time": "2021-07-13T20:36:54.473Z"
   },
   {
    "duration": 55,
    "start_time": "2021-07-13T20:36:56.613Z"
   },
   {
    "duration": 11,
    "start_time": "2021-07-13T20:36:56.671Z"
   },
   {
    "duration": 10,
    "start_time": "2021-07-13T20:36:56.685Z"
   },
   {
    "duration": 6,
    "start_time": "2021-07-13T20:36:56.698Z"
   },
   {
    "duration": 12,
    "start_time": "2021-07-13T20:36:56.707Z"
   },
   {
    "duration": 44,
    "start_time": "2021-07-13T20:36:56.722Z"
   },
   {
    "duration": 13,
    "start_time": "2021-07-13T20:36:56.770Z"
   },
   {
    "duration": 3283,
    "start_time": "2021-07-13T20:36:56.786Z"
   },
   {
    "duration": 197858,
    "start_time": "2021-07-13T20:37:00.072Z"
   },
   {
    "duration": -1617,
    "start_time": "2021-07-13T20:40:19.550Z"
   },
   {
    "duration": 7,
    "start_time": "2021-07-13T20:40:46.301Z"
   },
   {
    "duration": 891,
    "start_time": "2021-07-13T20:40:46.312Z"
   },
   {
    "duration": 33,
    "start_time": "2021-07-13T20:40:47.207Z"
   },
   {
    "duration": 27,
    "start_time": "2021-07-13T20:40:47.262Z"
   },
   {
    "duration": 13,
    "start_time": "2021-07-13T20:40:47.292Z"
   },
   {
    "duration": 70,
    "start_time": "2021-07-13T20:40:47.308Z"
   },
   {
    "duration": 9,
    "start_time": "2021-07-13T20:40:47.381Z"
   },
   {
    "duration": 43,
    "start_time": "2021-07-13T20:40:47.393Z"
   },
   {
    "duration": 37,
    "start_time": "2021-07-13T20:40:47.440Z"
   },
   {
    "duration": 11,
    "start_time": "2021-07-13T20:40:47.481Z"
   },
   {
    "duration": 29,
    "start_time": "2021-07-13T20:40:47.495Z"
   },
   {
    "duration": 39,
    "start_time": "2021-07-13T20:40:47.526Z"
   },
   {
    "duration": 853,
    "start_time": "2021-07-13T20:40:47.568Z"
   },
   {
    "duration": 73,
    "start_time": "2021-07-13T20:40:48.424Z"
   },
   {
    "duration": 40,
    "start_time": "2021-07-13T20:40:48.500Z"
   },
   {
    "duration": 1054,
    "start_time": "2021-07-13T20:40:48.543Z"
   },
   {
    "duration": 62,
    "start_time": "2021-07-13T20:40:49.600Z"
   },
   {
    "duration": 25,
    "start_time": "2021-07-13T20:40:49.664Z"
   },
   {
    "duration": 1344,
    "start_time": "2021-07-13T20:40:49.691Z"
   },
   {
    "duration": 1551,
    "start_time": "2021-07-13T20:40:51.038Z"
   },
   {
    "duration": 1377,
    "start_time": "2021-07-13T20:40:52.591Z"
   },
   {
    "duration": 1613,
    "start_time": "2021-07-13T20:40:53.970Z"
   },
   {
    "duration": 1239,
    "start_time": "2021-07-13T20:40:55.585Z"
   },
   {
    "duration": 8,
    "start_time": "2021-07-13T20:40:56.827Z"
   },
   {
    "duration": 1515,
    "start_time": "2021-07-13T20:40:56.838Z"
   },
   {
    "duration": 30,
    "start_time": "2021-07-13T20:40:58.355Z"
   },
   {
    "duration": 8,
    "start_time": "2021-07-13T20:40:58.390Z"
   },
   {
    "duration": 10,
    "start_time": "2021-07-13T20:40:58.401Z"
   },
   {
    "duration": 5,
    "start_time": "2021-07-13T20:40:58.414Z"
   },
   {
    "duration": 11,
    "start_time": "2021-07-13T20:40:58.463Z"
   },
   {
    "duration": 8,
    "start_time": "2021-07-13T20:40:58.477Z"
   },
   {
    "duration": 11,
    "start_time": "2021-07-13T20:40:58.488Z"
   },
   {
    "duration": 2567,
    "start_time": "2021-07-13T20:40:58.502Z"
   },
   {
    "duration": 36604,
    "start_time": "2021-07-13T20:41:01.072Z"
   },
   {
    "duration": -773,
    "start_time": "2021-07-13T20:41:38.452Z"
   },
   {
    "duration": 1540,
    "start_time": "2021-07-13T20:49:54.073Z"
   },
   {
    "duration": 1042,
    "start_time": "2021-07-13T20:49:55.616Z"
   },
   {
    "duration": 38,
    "start_time": "2021-07-13T20:49:56.666Z"
   },
   {
    "duration": 56,
    "start_time": "2021-07-13T20:49:56.706Z"
   },
   {
    "duration": 12,
    "start_time": "2021-07-13T20:49:56.764Z"
   },
   {
    "duration": 34,
    "start_time": "2021-07-13T20:49:56.778Z"
   },
   {
    "duration": 53,
    "start_time": "2021-07-13T20:49:56.817Z"
   },
   {
    "duration": 34,
    "start_time": "2021-07-13T20:49:56.873Z"
   },
   {
    "duration": 17,
    "start_time": "2021-07-13T20:49:56.909Z"
   },
   {
    "duration": 8,
    "start_time": "2021-07-13T20:49:56.963Z"
   },
   {
    "duration": 33,
    "start_time": "2021-07-13T20:49:56.973Z"
   },
   {
    "duration": 7,
    "start_time": "2021-07-13T20:49:57.010Z"
   },
   {
    "duration": 810,
    "start_time": "2021-07-13T20:49:57.019Z"
   },
   {
    "duration": 46,
    "start_time": "2021-07-13T20:49:57.832Z"
   },
   {
    "duration": 27,
    "start_time": "2021-07-13T20:49:57.881Z"
   },
   {
    "duration": 720,
    "start_time": "2021-07-13T20:49:57.910Z"
   },
   {
    "duration": 46,
    "start_time": "2021-07-13T20:49:58.632Z"
   },
   {
    "duration": 28,
    "start_time": "2021-07-13T20:49:58.680Z"
   },
   {
    "duration": 1467,
    "start_time": "2021-07-13T20:49:58.710Z"
   },
   {
    "duration": 1367,
    "start_time": "2021-07-13T20:50:00.180Z"
   },
   {
    "duration": 1400,
    "start_time": "2021-07-13T20:50:01.550Z"
   },
   {
    "duration": 1913,
    "start_time": "2021-07-13T20:50:02.955Z"
   },
   {
    "duration": 1083,
    "start_time": "2021-07-13T20:50:04.871Z"
   },
   {
    "duration": 8,
    "start_time": "2021-07-13T20:50:05.961Z"
   },
   {
    "duration": 1378,
    "start_time": "2021-07-13T20:50:05.971Z"
   },
   {
    "duration": 33,
    "start_time": "2021-07-13T20:50:07.351Z"
   },
   {
    "duration": 10,
    "start_time": "2021-07-13T20:50:07.387Z"
   },
   {
    "duration": 10,
    "start_time": "2021-07-13T20:50:07.399Z"
   },
   {
    "duration": 7,
    "start_time": "2021-07-13T20:50:07.411Z"
   },
   {
    "duration": 43,
    "start_time": "2021-07-13T20:50:07.421Z"
   },
   {
    "duration": 12,
    "start_time": "2021-07-13T20:50:07.467Z"
   },
   {
    "duration": 8,
    "start_time": "2021-07-13T20:50:07.481Z"
   },
   {
    "duration": 977,
    "start_time": "2021-07-13T20:50:07.491Z"
   },
   {
    "duration": -724,
    "start_time": "2021-07-13T20:50:09.195Z"
   },
   {
    "duration": 10,
    "start_time": "2021-07-13T20:50:36.303Z"
   },
   {
    "duration": 504,
    "start_time": "2021-07-13T20:50:47.561Z"
   },
   {
    "duration": 41745,
    "start_time": "2021-07-13T20:50:51.177Z"
   },
   {
    "duration": -736,
    "start_time": "2021-07-13T20:51:33.661Z"
   },
   {
    "duration": 215,
    "start_time": "2021-07-13T20:51:50.749Z"
   },
   {
    "duration": 301,
    "start_time": "2021-07-13T20:52:38.059Z"
   },
   {
    "duration": 523,
    "start_time": "2021-07-13T20:55:10.245Z"
   },
   {
    "duration": -744,
    "start_time": "2021-07-13T20:56:18.180Z"
   },
   {
    "duration": 210,
    "start_time": "2021-07-13T20:56:50.168Z"
   },
   {
    "duration": 13,
    "start_time": "2021-07-13T20:56:53.058Z"
   },
   {
    "duration": 353,
    "start_time": "2021-07-13T20:59:00.515Z"
   },
   {
    "duration": 1368,
    "start_time": "2021-07-13T21:05:54.239Z"
   },
   {
    "duration": 7,
    "start_time": "2021-07-13T21:06:34.550Z"
   },
   {
    "duration": 43585,
    "start_time": "2021-07-13T21:06:43.023Z"
   },
   {
    "duration": 30805,
    "start_time": "2021-07-13T21:13:50.092Z"
   },
   {
    "duration": 1460,
    "start_time": "2021-07-13T21:14:40.388Z"
   },
   {
    "duration": 943,
    "start_time": "2021-07-13T21:14:41.850Z"
   },
   {
    "duration": 36,
    "start_time": "2021-07-13T21:14:42.796Z"
   },
   {
    "duration": 47,
    "start_time": "2021-07-13T21:14:42.836Z"
   },
   {
    "duration": 12,
    "start_time": "2021-07-13T21:14:42.886Z"
   },
   {
    "duration": 61,
    "start_time": "2021-07-13T21:14:42.901Z"
   },
   {
    "duration": 13,
    "start_time": "2021-07-13T21:14:42.964Z"
   },
   {
    "duration": 32,
    "start_time": "2021-07-13T21:14:42.980Z"
   },
   {
    "duration": 49,
    "start_time": "2021-07-13T21:14:43.016Z"
   },
   {
    "duration": 8,
    "start_time": "2021-07-13T21:14:43.068Z"
   },
   {
    "duration": 20,
    "start_time": "2021-07-13T21:14:43.079Z"
   },
   {
    "duration": 6,
    "start_time": "2021-07-13T21:14:43.102Z"
   },
   {
    "duration": 842,
    "start_time": "2021-07-13T21:14:43.110Z"
   },
   {
    "duration": 38,
    "start_time": "2021-07-13T21:14:43.962Z"
   },
   {
    "duration": 34,
    "start_time": "2021-07-13T21:14:44.003Z"
   },
   {
    "duration": 753,
    "start_time": "2021-07-13T21:14:44.062Z"
   },
   {
    "duration": 51,
    "start_time": "2021-07-13T21:14:44.819Z"
   },
   {
    "duration": 32,
    "start_time": "2021-07-13T21:14:44.873Z"
   },
   {
    "duration": 1515,
    "start_time": "2021-07-13T21:14:44.908Z"
   },
   {
    "duration": 1409,
    "start_time": "2021-07-13T21:14:46.425Z"
   },
   {
    "duration": 1417,
    "start_time": "2021-07-13T21:14:47.837Z"
   },
   {
    "duration": 1748,
    "start_time": "2021-07-13T21:14:49.256Z"
   },
   {
    "duration": 1096,
    "start_time": "2021-07-13T21:14:51.006Z"
   },
   {
    "duration": 8,
    "start_time": "2021-07-13T21:14:52.106Z"
   },
   {
    "duration": 1419,
    "start_time": "2021-07-13T21:14:52.117Z"
   },
   {
    "duration": 42,
    "start_time": "2021-07-13T21:14:53.538Z"
   },
   {
    "duration": 9,
    "start_time": "2021-07-13T21:14:53.585Z"
   },
   {
    "duration": 21,
    "start_time": "2021-07-13T21:14:53.597Z"
   },
   {
    "duration": 8,
    "start_time": "2021-07-13T21:14:53.620Z"
   },
   {
    "duration": 38,
    "start_time": "2021-07-13T21:14:53.631Z"
   },
   {
    "duration": 10,
    "start_time": "2021-07-13T21:14:53.672Z"
   },
   {
    "duration": 8,
    "start_time": "2021-07-13T21:14:53.685Z"
   },
   {
    "duration": 13,
    "start_time": "2021-07-13T21:14:53.696Z"
   },
   {
    "duration": 649,
    "start_time": "2021-07-13T21:14:53.712Z"
   },
   {
    "duration": 293,
    "start_time": "2021-07-13T21:14:54.364Z"
   },
   {
    "duration": 32858,
    "start_time": "2021-07-13T21:14:54.663Z"
   },
   {
    "duration": 16,
    "start_time": "2021-07-13T21:15:27.524Z"
   },
   {
    "duration": 1122,
    "start_time": "2021-07-14T04:37:35.686Z"
   },
   {
    "duration": 645,
    "start_time": "2021-07-14T04:37:36.809Z"
   },
   {
    "duration": 21,
    "start_time": "2021-07-14T04:38:26.533Z"
   },
   {
    "duration": 15,
    "start_time": "2021-07-14T04:38:26.556Z"
   },
   {
    "duration": 9,
    "start_time": "2021-07-14T04:38:26.742Z"
   },
   {
    "duration": 21,
    "start_time": "2021-07-14T04:38:26.912Z"
   },
   {
    "duration": 6,
    "start_time": "2021-07-14T04:38:49.137Z"
   },
   {
    "duration": 18,
    "start_time": "2021-07-14T04:39:04.933Z"
   },
   {
    "duration": 11,
    "start_time": "2021-07-14T04:39:05.729Z"
   },
   {
    "duration": 6,
    "start_time": "2021-07-14T04:39:06.539Z"
   },
   {
    "duration": 15,
    "start_time": "2021-07-14T04:39:07.065Z"
   },
   {
    "duration": 3,
    "start_time": "2021-07-14T04:39:51.959Z"
   },
   {
    "duration": 440,
    "start_time": "2021-07-14T04:42:55.201Z"
   },
   {
    "duration": 22,
    "start_time": "2021-07-14T04:42:56.091Z"
   },
   {
    "duration": 17,
    "start_time": "2021-07-14T04:42:58.357Z"
   },
   {
    "duration": 345,
    "start_time": "2021-07-14T04:42:58.966Z"
   },
   {
    "duration": 23,
    "start_time": "2021-07-14T04:42:59.536Z"
   },
   {
    "duration": 16,
    "start_time": "2021-07-14T04:43:00.272Z"
   },
   {
    "duration": 761,
    "start_time": "2021-07-14T04:47:14.858Z"
   },
   {
    "duration": 697,
    "start_time": "2021-07-14T04:47:15.977Z"
   },
   {
    "duration": 703,
    "start_time": "2021-07-14T04:47:17.463Z"
   },
   {
    "duration": 940,
    "start_time": "2021-07-14T04:47:41.031Z"
   },
   {
    "duration": 538,
    "start_time": "2021-07-14T04:47:42.278Z"
   },
   {
    "duration": 6,
    "start_time": "2021-07-14T04:47:43.997Z"
   },
   {
    "duration": 797,
    "start_time": "2021-07-14T04:48:39.526Z"
   },
   {
    "duration": 15,
    "start_time": "2021-07-14T04:48:41.186Z"
   },
   {
    "duration": 6,
    "start_time": "2021-07-14T04:49:19.604Z"
   },
   {
    "duration": 6,
    "start_time": "2021-07-14T04:49:20.065Z"
   },
   {
    "duration": 3,
    "start_time": "2021-07-14T04:49:21.072Z"
   },
   {
    "duration": 7,
    "start_time": "2021-07-14T04:49:21.703Z"
   },
   {
    "duration": 5,
    "start_time": "2021-07-14T04:49:22.410Z"
   },
   {
    "duration": 4,
    "start_time": "2021-07-14T04:49:23.762Z"
   },
   {
    "duration": 5,
    "start_time": "2021-07-14T04:49:34.110Z"
   },
   {
    "duration": 517,
    "start_time": "2021-07-14T04:49:36.475Z"
   },
   {
    "duration": 151,
    "start_time": "2021-07-14T04:49:37.552Z"
   },
   {
    "duration": 21562,
    "start_time": "2021-07-14T04:49:38.099Z"
   },
   {
    "duration": 8,
    "start_time": "2021-07-14T04:49:59.662Z"
   },
   {
    "duration": 4,
    "start_time": "2021-07-14T04:50:58.198Z"
   }
  ],
  "kernelspec": {
   "display_name": "Python 3",
   "language": "python",
   "name": "python3"
  },
  "language_info": {
   "codemirror_mode": {
    "name": "ipython",
    "version": 3
   },
   "file_extension": ".py",
   "mimetype": "text/x-python",
   "name": "python",
   "nbconvert_exporter": "python",
   "pygments_lexer": "ipython3",
   "version": "3.7.3"
  },
  "toc": {
   "base_numbering": 1,
   "nav_menu": {},
   "number_sections": true,
   "sideBar": true,
   "skip_h1_title": true,
   "title_cell": "Содержание",
   "title_sidebar": "Contents",
   "toc_cell": true,
   "toc_position": {
    "height": "calc(100% - 180px)",
    "left": "10px",
    "top": "150px",
    "width": "165px"
   },
   "toc_section_display": true,
   "toc_window_display": true
  }
 },
 "nbformat": 4,
 "nbformat_minor": 2
}
