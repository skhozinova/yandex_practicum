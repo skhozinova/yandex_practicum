{
 "cells": [
  {
   "cell_type": "markdown",
   "metadata": {},
   "source": [
    "# Промышленность"
   ]
  },
  {
   "cell_type": "markdown",
   "metadata": {},
   "source": [
    "## Задача"
   ]
  },
  {
   "cell_type": "markdown",
   "metadata": {},
   "source": [
    "Чтобы оптимизировать производственные расходы, металлургический комбинат ООО «Так закаляем сталь» решил уменьшить потребление электроэнергии на этапе обработки стали. \n",
    "\n",
    "Вам предстоит построить модель, которая предскажет температуру стали."
   ]
  },
  {
   "cell_type": "markdown",
   "metadata": {},
   "source": [
    "## Описание этапа обработки"
   ]
  },
  {
   "cell_type": "markdown",
   "metadata": {},
   "source": [
    "Сталь обрабатывают в металлическом ковше вместимостью около 100 тонн. Чтобы ковш выдерживал высокие температуры, изнутри его облицовывают огнеупорным кирпичом. Расплавленную сталь заливают в ковш и подогревают до нужной температуры графитовыми электродами. Они установлены в крышке ковша. \n",
    "\n",
    "Из сплава выводится сера (десульфурация), добавлением примесей корректируется химический состав и отбираются пробы. Сталь легируют — изменяют её состав — подавая куски сплава из бункера для сыпучих материалов или проволоку через специальный трайб-аппарат (англ. tribe, «масса»).\n",
    "\n",
    "Перед тем как первый раз ввести легирующие добавки, измеряют температуру стали и производят её химический анализ. Потом температуру на несколько минут повышают, добавляют легирующие материалы и продувают сплав инертным газом. Затем его перемешивают и снова проводят измерения. Такой цикл повторяется до достижения целевого химического состава и оптимальной температуры плавки.\n",
    "\n",
    "Тогда расплавленная сталь отправляется на доводку металла или поступает в машину непрерывной разливки. Оттуда готовый продукт выходит в виде заготовок-слябов (англ. *slab*, «плита»)."
   ]
  },
  {
   "cell_type": "markdown",
   "metadata": {},
   "source": [
    "## Описание данных"
   ]
  },
  {
   "cell_type": "markdown",
   "metadata": {},
   "source": [
    "Данные состоят из файлов, полученных из разных источников:\n",
    "\n",
    "- `data_arc.csv` — данные об электродах;\n",
    "- `data_bulk.csv` — данные о подаче сыпучих материалов (объём);\n",
    "- `data_bulk_time.csv` *—* данные о подаче сыпучих материалов (время);\n",
    "- `data_gas.csv` — данные о продувке сплава газом;\n",
    "- `data_temp.csv` — результаты измерения температуры;\n",
    "- `data_wire.csv` — данные о проволочных материалах (объём);\n",
    "- `data_wire_time.csv` — данные о проволочных материалах (время).\n",
    "\n",
    "Во всех файлах столбец `key` содержит номер партии. В файлах может быть несколько строк с одинаковым значением `key`: они соответствуют разным итерациям обработки."
   ]
  },
  {
   "cell_type": "markdown",
   "metadata": {},
   "source": [
    "## Исследовательский анализ данных"
   ]
  },
  {
   "cell_type": "markdown",
   "metadata": {},
   "source": [
    "### Загрузка данных"
   ]
  },
  {
   "cell_type": "code",
   "execution_count": 409,
   "metadata": {},
   "outputs": [],
   "source": [
    "import pandas as pd\n",
    "import numpy as np\n",
    "import matplotlib.pyplot as plt\n",
    "import seaborn as sns\n",
    "from scipy import stats as st\n",
    "from sklearn.model_selection import train_test_split\n",
    "from sklearn.metrics import mean_absolute_error\n",
    "from sklearn.model_selection import cross_val_score\n",
    "from sklearn.model_selection import GridSearchCV\n",
    "from catboost import CatBoostRegressor\n",
    "from lightgbm import LGBMRegressor"
   ]
  },
  {
   "cell_type": "code",
   "execution_count": 292,
   "metadata": {},
   "outputs": [],
   "source": [
    "data_arc = pd.read_csv('/datasets/final_steel/data_arc.csv')\n",
    "data_bulk = pd.read_csv('/datasets/final_steel/data_bulk.csv')\n",
    "data_bulk_time = pd.read_csv('/datasets/final_steel/data_bulk_time.csv')\n",
    "data_gas = pd.read_csv('/datasets/final_steel/data_gas.csv')\n",
    "data_temp = pd.read_csv('/datasets/final_steel/data_temp.csv')\n",
    "data_wire = pd.read_csv('/datasets/final_steel/data_wire.csv')\n",
    "data_wire_time = pd.read_csv('/datasets/final_steel/data_wire_time.csv')"
   ]
  },
  {
   "cell_type": "markdown",
   "metadata": {},
   "source": [
    "### Анализ данных"
   ]
  },
  {
   "cell_type": "markdown",
   "metadata": {},
   "source": [
    "#### Данные об электродах"
   ]
  },
  {
   "cell_type": "code",
   "execution_count": 293,
   "metadata": {},
   "outputs": [
    {
     "data": {
      "text/html": [
       "<div>\n",
       "<style scoped>\n",
       "    .dataframe tbody tr th:only-of-type {\n",
       "        vertical-align: middle;\n",
       "    }\n",
       "\n",
       "    .dataframe tbody tr th {\n",
       "        vertical-align: top;\n",
       "    }\n",
       "\n",
       "    .dataframe thead th {\n",
       "        text-align: right;\n",
       "    }\n",
       "</style>\n",
       "<table border=\"1\" class=\"dataframe\">\n",
       "  <thead>\n",
       "    <tr style=\"text-align: right;\">\n",
       "      <th></th>\n",
       "      <th>key</th>\n",
       "      <th>Начало нагрева дугой</th>\n",
       "      <th>Конец нагрева дугой</th>\n",
       "      <th>Активная мощность</th>\n",
       "      <th>Реактивная мощность</th>\n",
       "    </tr>\n",
       "  </thead>\n",
       "  <tbody>\n",
       "    <tr>\n",
       "      <th>619</th>\n",
       "      <td>135</td>\n",
       "      <td>2019-05-08 10:46:43</td>\n",
       "      <td>2019-05-08 10:49:00</td>\n",
       "      <td>0.602730</td>\n",
       "      <td>0.381579</td>\n",
       "    </tr>\n",
       "    <tr>\n",
       "      <th>3485</th>\n",
       "      <td>756</td>\n",
       "      <td>2019-05-31 08:01:03</td>\n",
       "      <td>2019-05-31 08:03:38</td>\n",
       "      <td>0.522024</td>\n",
       "      <td>0.340635</td>\n",
       "    </tr>\n",
       "    <tr>\n",
       "      <th>4026</th>\n",
       "      <td>866</td>\n",
       "      <td>2019-06-04 13:42:38</td>\n",
       "      <td>2019-06-04 13:45:53</td>\n",
       "      <td>0.667082</td>\n",
       "      <td>0.533274</td>\n",
       "    </tr>\n",
       "    <tr>\n",
       "      <th>202</th>\n",
       "      <td>45</td>\n",
       "      <td>2019-05-04 23:02:37</td>\n",
       "      <td>2019-05-04 23:05:52</td>\n",
       "      <td>0.667737</td>\n",
       "      <td>0.554781</td>\n",
       "    </tr>\n",
       "    <tr>\n",
       "      <th>1867</th>\n",
       "      <td>404</td>\n",
       "      <td>2019-05-18 10:26:08</td>\n",
       "      <td>2019-05-18 10:27:42</td>\n",
       "      <td>0.391302</td>\n",
       "      <td>0.270467</td>\n",
       "    </tr>\n",
       "  </tbody>\n",
       "</table>\n",
       "</div>"
      ],
      "text/plain": [
       "      key Начало нагрева дугой  Конец нагрева дугой  Активная мощность  \\\n",
       "619   135  2019-05-08 10:46:43  2019-05-08 10:49:00           0.602730   \n",
       "3485  756  2019-05-31 08:01:03  2019-05-31 08:03:38           0.522024   \n",
       "4026  866  2019-06-04 13:42:38  2019-06-04 13:45:53           0.667082   \n",
       "202    45  2019-05-04 23:02:37  2019-05-04 23:05:52           0.667737   \n",
       "1867  404  2019-05-18 10:26:08  2019-05-18 10:27:42           0.391302   \n",
       "\n",
       "      Реактивная мощность  \n",
       "619              0.381579  \n",
       "3485             0.340635  \n",
       "4026             0.533274  \n",
       "202              0.554781  \n",
       "1867             0.270467  "
      ]
     },
     "execution_count": 293,
     "metadata": {},
     "output_type": "execute_result"
    }
   ],
   "source": [
    "data_arc.sample(5)"
   ]
  },
  {
   "cell_type": "code",
   "execution_count": 294,
   "metadata": {},
   "outputs": [
    {
     "name": "stdout",
     "output_type": "stream",
     "text": [
      "<class 'pandas.core.frame.DataFrame'>\n",
      "RangeIndex: 14876 entries, 0 to 14875\n",
      "Data columns (total 5 columns):\n",
      "key                     14876 non-null int64\n",
      "Начало нагрева дугой    14876 non-null object\n",
      "Конец нагрева дугой     14876 non-null object\n",
      "Активная мощность       14876 non-null float64\n",
      "Реактивная мощность     14876 non-null float64\n",
      "dtypes: float64(2), int64(1), object(2)\n",
      "memory usage: 581.2+ KB\n"
     ]
    }
   ],
   "source": [
    "data_arc.info()"
   ]
  },
  {
   "cell_type": "code",
   "execution_count": 295,
   "metadata": {},
   "outputs": [
    {
     "data": {
      "text/plain": [
       "key                     0\n",
       "Начало нагрева дугой    0\n",
       "Конец нагрева дугой     0\n",
       "Активная мощность       0\n",
       "Реактивная мощность     0\n",
       "dtype: int64"
      ]
     },
     "execution_count": 295,
     "metadata": {},
     "output_type": "execute_result"
    }
   ],
   "source": [
    "#проверка на пропуски\n",
    "data_arc.isnull().sum()"
   ]
  },
  {
   "cell_type": "code",
   "execution_count": 296,
   "metadata": {},
   "outputs": [
    {
     "data": {
      "text/plain": [
       "11662"
      ]
     },
     "execution_count": 296,
     "metadata": {},
     "output_type": "execute_result"
    }
   ],
   "source": [
    "#проверка на дубликаты\n",
    "data_arc['key'].duplicated().sum()"
   ]
  },
  {
   "cell_type": "code",
   "execution_count": 297,
   "metadata": {},
   "outputs": [
    {
     "data": {
      "text/html": [
       "<div>\n",
       "<style scoped>\n",
       "    .dataframe tbody tr th:only-of-type {\n",
       "        vertical-align: middle;\n",
       "    }\n",
       "\n",
       "    .dataframe tbody tr th {\n",
       "        vertical-align: top;\n",
       "    }\n",
       "\n",
       "    .dataframe thead th {\n",
       "        text-align: right;\n",
       "    }\n",
       "</style>\n",
       "<table border=\"1\" class=\"dataframe\">\n",
       "  <thead>\n",
       "    <tr style=\"text-align: right;\">\n",
       "      <th></th>\n",
       "      <th>key</th>\n",
       "      <th>Активная мощность</th>\n",
       "      <th>Реактивная мощность</th>\n",
       "    </tr>\n",
       "  </thead>\n",
       "  <tbody>\n",
       "    <tr>\n",
       "      <th>count</th>\n",
       "      <td>14876.000000</td>\n",
       "      <td>14876.000000</td>\n",
       "      <td>14876.000000</td>\n",
       "    </tr>\n",
       "    <tr>\n",
       "      <th>mean</th>\n",
       "      <td>1615.220422</td>\n",
       "      <td>0.670441</td>\n",
       "      <td>0.452592</td>\n",
       "    </tr>\n",
       "    <tr>\n",
       "      <th>std</th>\n",
       "      <td>934.571502</td>\n",
       "      <td>0.408159</td>\n",
       "      <td>5.878702</td>\n",
       "    </tr>\n",
       "    <tr>\n",
       "      <th>min</th>\n",
       "      <td>1.000000</td>\n",
       "      <td>0.030002</td>\n",
       "      <td>-715.504924</td>\n",
       "    </tr>\n",
       "    <tr>\n",
       "      <th>25%</th>\n",
       "      <td>806.000000</td>\n",
       "      <td>0.395297</td>\n",
       "      <td>0.290991</td>\n",
       "    </tr>\n",
       "    <tr>\n",
       "      <th>50%</th>\n",
       "      <td>1617.000000</td>\n",
       "      <td>0.555517</td>\n",
       "      <td>0.415962</td>\n",
       "    </tr>\n",
       "    <tr>\n",
       "      <th>75%</th>\n",
       "      <td>2429.000000</td>\n",
       "      <td>0.857034</td>\n",
       "      <td>0.637371</td>\n",
       "    </tr>\n",
       "    <tr>\n",
       "      <th>max</th>\n",
       "      <td>3241.000000</td>\n",
       "      <td>3.731596</td>\n",
       "      <td>2.676388</td>\n",
       "    </tr>\n",
       "  </tbody>\n",
       "</table>\n",
       "</div>"
      ],
      "text/plain": [
       "                key  Активная мощность  Реактивная мощность\n",
       "count  14876.000000       14876.000000         14876.000000\n",
       "mean    1615.220422           0.670441             0.452592\n",
       "std      934.571502           0.408159             5.878702\n",
       "min        1.000000           0.030002          -715.504924\n",
       "25%      806.000000           0.395297             0.290991\n",
       "50%     1617.000000           0.555517             0.415962\n",
       "75%     2429.000000           0.857034             0.637371\n",
       "max     3241.000000           3.731596             2.676388"
      ]
     },
     "execution_count": 297,
     "metadata": {},
     "output_type": "execute_result"
    }
   ],
   "source": [
    "data_arc.describe()"
   ]
  },
  {
   "cell_type": "code",
   "execution_count": 298,
   "metadata": {},
   "outputs": [
    {
     "data": {
      "text/plain": [
       "<matplotlib.axes._subplots.AxesSubplot at 0x20b123eea90>"
      ]
     },
     "execution_count": 298,
     "metadata": {},
     "output_type": "execute_result"
    },
    {
     "data": {
      "image/png": "[encoded data removed]",
      "text/plain": [
       "<Figure size 1152x720 with 1 Axes>"
      ]
     },
     "metadata": {
      "needs_background": "light"
     },
     "output_type": "display_data"
    }
   ],
   "source": [
    "#распределение для Активной мощности\n",
    "data_arc['Активная мощность'].hist(bins=100, figsize=(16,10))"
   ]
  },
  {
   "cell_type": "code",
   "execution_count": 299,
   "metadata": {},
   "outputs": [
    {
     "data": {
      "text/html": [
       "<div>\n",
       "<style scoped>\n",
       "    .dataframe tbody tr th:only-of-type {\n",
       "        vertical-align: middle;\n",
       "    }\n",
       "\n",
       "    .dataframe tbody tr th {\n",
       "        vertical-align: top;\n",
       "    }\n",
       "\n",
       "    .dataframe thead th {\n",
       "        text-align: right;\n",
       "    }\n",
       "</style>\n",
       "<table border=\"1\" class=\"dataframe\">\n",
       "  <thead>\n",
       "    <tr style=\"text-align: right;\">\n",
       "      <th></th>\n",
       "      <th>key</th>\n",
       "      <th>Начало нагрева дугой</th>\n",
       "      <th>Конец нагрева дугой</th>\n",
       "      <th>Активная мощность</th>\n",
       "      <th>Реактивная мощность</th>\n",
       "    </tr>\n",
       "  </thead>\n",
       "  <tbody>\n",
       "    <tr>\n",
       "      <th>9780</th>\n",
       "      <td>2116</td>\n",
       "      <td>2019-07-24 00:44:48</td>\n",
       "      <td>2019-07-24 00:46:37</td>\n",
       "      <td>0.495782</td>\n",
       "      <td>-715.504924</td>\n",
       "    </tr>\n",
       "  </tbody>\n",
       "</table>\n",
       "</div>"
      ],
      "text/plain": [
       "       key Начало нагрева дугой  Конец нагрева дугой  Активная мощность  \\\n",
       "9780  2116  2019-07-24 00:44:48  2019-07-24 00:46:37           0.495782   \n",
       "\n",
       "      Реактивная мощность  \n",
       "9780          -715.504924  "
      ]
     },
     "execution_count": 299,
     "metadata": {},
     "output_type": "execute_result"
    }
   ],
   "source": [
    "#аномалия\n",
    "data_arc[data_arc['Реактивная мощность'] < 0]"
   ]
  },
  {
   "cell_type": "code",
   "execution_count": 300,
   "metadata": {},
   "outputs": [
    {
     "data": {
      "text/plain": [
       "<matplotlib.axes._subplots.AxesSubplot at 0x20b17442198>"
      ]
     },
     "execution_count": 300,
     "metadata": {},
     "output_type": "execute_result"
    },
    {
     "data": {
      "image/png": "[encoded data removed]",
      "text/plain": [
       "<Figure size 1152x720 with 1 Axes>"
      ]
     },
     "metadata": {
      "needs_background": "light"
     },
     "output_type": "display_data"
    }
   ],
   "source": [
    "#распределение для Реактивной мощности\n",
    "data_arc[data_arc['Реактивная мощность'] > 0]['Реактивная мощность'].hist(bins=100, figsize=(16,10))"
   ]
  },
  {
   "cell_type": "markdown",
   "metadata": {},
   "source": [
    "**Вывод:**\n",
    "- Некорректный тип данных у стобцов Начало нагрева дугой и Конец нагрева дугой.\n",
    "- Аномалия в виде единственного отрицательного значения в столбце Реактивная мощность.\n",
    "- Данные о мощностях имеют нормальное распределение со смещением влево.\n",
    "- Имеются дубликаты по ключевому столбцу"
   ]
  },
  {
   "cell_type": "markdown",
   "metadata": {},
   "source": [
    "#### Данные о подаче сыпучих материалов (объём)"
   ]
  },
  {
   "cell_type": "code",
   "execution_count": 301,
   "metadata": {},
   "outputs": [
    {
     "data": {
      "text/html": [
       "<div>\n",
       "<style scoped>\n",
       "    .dataframe tbody tr th:only-of-type {\n",
       "        vertical-align: middle;\n",
       "    }\n",
       "\n",
       "    .dataframe tbody tr th {\n",
       "        vertical-align: top;\n",
       "    }\n",
       "\n",
       "    .dataframe thead th {\n",
       "        text-align: right;\n",
       "    }\n",
       "</style>\n",
       "<table border=\"1\" class=\"dataframe\">\n",
       "  <thead>\n",
       "    <tr style=\"text-align: right;\">\n",
       "      <th></th>\n",
       "      <th>key</th>\n",
       "      <th>Bulk 1</th>\n",
       "      <th>Bulk 2</th>\n",
       "      <th>Bulk 3</th>\n",
       "      <th>Bulk 4</th>\n",
       "      <th>Bulk 5</th>\n",
       "      <th>Bulk 6</th>\n",
       "      <th>Bulk 7</th>\n",
       "      <th>Bulk 8</th>\n",
       "      <th>Bulk 9</th>\n",
       "      <th>Bulk 10</th>\n",
       "      <th>Bulk 11</th>\n",
       "      <th>Bulk 12</th>\n",
       "      <th>Bulk 13</th>\n",
       "      <th>Bulk 14</th>\n",
       "      <th>Bulk 15</th>\n",
       "    </tr>\n",
       "  </thead>\n",
       "  <tbody>\n",
       "    <tr>\n",
       "      <th>142</th>\n",
       "      <td>156</td>\n",
       "      <td>48.0</td>\n",
       "      <td>NaN</td>\n",
       "      <td>NaN</td>\n",
       "      <td>NaN</td>\n",
       "      <td>NaN</td>\n",
       "      <td>91.0</td>\n",
       "      <td>NaN</td>\n",
       "      <td>NaN</td>\n",
       "      <td>NaN</td>\n",
       "      <td>NaN</td>\n",
       "      <td>28.0</td>\n",
       "      <td>107.0</td>\n",
       "      <td>NaN</td>\n",
       "      <td>104.0</td>\n",
       "      <td>203.0</td>\n",
       "    </tr>\n",
       "    <tr>\n",
       "      <th>2700</th>\n",
       "      <td>2801</td>\n",
       "      <td>NaN</td>\n",
       "      <td>NaN</td>\n",
       "      <td>NaN</td>\n",
       "      <td>86.0</td>\n",
       "      <td>NaN</td>\n",
       "      <td>NaN</td>\n",
       "      <td>NaN</td>\n",
       "      <td>NaN</td>\n",
       "      <td>NaN</td>\n",
       "      <td>NaN</td>\n",
       "      <td>NaN</td>\n",
       "      <td>258.0</td>\n",
       "      <td>NaN</td>\n",
       "      <td>100.0</td>\n",
       "      <td>106.0</td>\n",
       "    </tr>\n",
       "    <tr>\n",
       "      <th>2296</th>\n",
       "      <td>2379</td>\n",
       "      <td>NaN</td>\n",
       "      <td>NaN</td>\n",
       "      <td>104.0</td>\n",
       "      <td>NaN</td>\n",
       "      <td>NaN</td>\n",
       "      <td>230.0</td>\n",
       "      <td>NaN</td>\n",
       "      <td>NaN</td>\n",
       "      <td>NaN</td>\n",
       "      <td>NaN</td>\n",
       "      <td>NaN</td>\n",
       "      <td>156.0</td>\n",
       "      <td>NaN</td>\n",
       "      <td>149.0</td>\n",
       "      <td>105.0</td>\n",
       "    </tr>\n",
       "    <tr>\n",
       "      <th>2810</th>\n",
       "      <td>2916</td>\n",
       "      <td>NaN</td>\n",
       "      <td>NaN</td>\n",
       "      <td>NaN</td>\n",
       "      <td>NaN</td>\n",
       "      <td>NaN</td>\n",
       "      <td>NaN</td>\n",
       "      <td>NaN</td>\n",
       "      <td>NaN</td>\n",
       "      <td>NaN</td>\n",
       "      <td>80.0</td>\n",
       "      <td>NaN</td>\n",
       "      <td>264.0</td>\n",
       "      <td>206.0</td>\n",
       "      <td>NaN</td>\n",
       "      <td>166.0</td>\n",
       "    </tr>\n",
       "    <tr>\n",
       "      <th>57</th>\n",
       "      <td>66</td>\n",
       "      <td>NaN</td>\n",
       "      <td>NaN</td>\n",
       "      <td>NaN</td>\n",
       "      <td>108.0</td>\n",
       "      <td>NaN</td>\n",
       "      <td>NaN</td>\n",
       "      <td>NaN</td>\n",
       "      <td>NaN</td>\n",
       "      <td>NaN</td>\n",
       "      <td>NaN</td>\n",
       "      <td>NaN</td>\n",
       "      <td>NaN</td>\n",
       "      <td>NaN</td>\n",
       "      <td>103.0</td>\n",
       "      <td>203.0</td>\n",
       "    </tr>\n",
       "  </tbody>\n",
       "</table>\n",
       "</div>"
      ],
      "text/plain": [
       "       key  Bulk 1  Bulk 2  Bulk 3  Bulk 4  Bulk 5  Bulk 6  Bulk 7  Bulk 8  \\\n",
       "142    156    48.0     NaN     NaN     NaN     NaN    91.0     NaN     NaN   \n",
       "2700  2801     NaN     NaN     NaN    86.0     NaN     NaN     NaN     NaN   \n",
       "2296  2379     NaN     NaN   104.0     NaN     NaN   230.0     NaN     NaN   \n",
       "2810  2916     NaN     NaN     NaN     NaN     NaN     NaN     NaN     NaN   \n",
       "57      66     NaN     NaN     NaN   108.0     NaN     NaN     NaN     NaN   \n",
       "\n",
       "      Bulk 9  Bulk 10  Bulk 11  Bulk 12  Bulk 13  Bulk 14  Bulk 15  \n",
       "142      NaN      NaN     28.0    107.0      NaN    104.0    203.0  \n",
       "2700     NaN      NaN      NaN    258.0      NaN    100.0    106.0  \n",
       "2296     NaN      NaN      NaN    156.0      NaN    149.0    105.0  \n",
       "2810     NaN     80.0      NaN    264.0    206.0      NaN    166.0  \n",
       "57       NaN      NaN      NaN      NaN      NaN    103.0    203.0  "
      ]
     },
     "execution_count": 301,
     "metadata": {},
     "output_type": "execute_result"
    }
   ],
   "source": [
    "data_bulk.sample(5)"
   ]
  },
  {
   "cell_type": "code",
   "execution_count": 302,
   "metadata": {},
   "outputs": [
    {
     "name": "stdout",
     "output_type": "stream",
     "text": [
      "<class 'pandas.core.frame.DataFrame'>\n",
      "RangeIndex: 3129 entries, 0 to 3128\n",
      "Data columns (total 16 columns):\n",
      "key        3129 non-null int64\n",
      "Bulk 1     252 non-null float64\n",
      "Bulk 2     22 non-null float64\n",
      "Bulk 3     1298 non-null float64\n",
      "Bulk 4     1014 non-null float64\n",
      "Bulk 5     77 non-null float64\n",
      "Bulk 6     576 non-null float64\n",
      "Bulk 7     25 non-null float64\n",
      "Bulk 8     1 non-null float64\n",
      "Bulk 9     19 non-null float64\n",
      "Bulk 10    176 non-null float64\n",
      "Bulk 11    177 non-null float64\n",
      "Bulk 12    2450 non-null float64\n",
      "Bulk 13    18 non-null float64\n",
      "Bulk 14    2806 non-null float64\n",
      "Bulk 15    2248 non-null float64\n",
      "dtypes: float64(15), int64(1)\n",
      "memory usage: 391.2 KB\n"
     ]
    }
   ],
   "source": [
    "data_bulk.info()"
   ]
  },
  {
   "cell_type": "code",
   "execution_count": 303,
   "metadata": {},
   "outputs": [
    {
     "data": {
      "text/plain": [
       "key           0\n",
       "Bulk 1     2877\n",
       "Bulk 2     3107\n",
       "Bulk 3     1831\n",
       "Bulk 4     2115\n",
       "Bulk 5     3052\n",
       "Bulk 6     2553\n",
       "Bulk 7     3104\n",
       "Bulk 8     3128\n",
       "Bulk 9     3110\n",
       "Bulk 10    2953\n",
       "Bulk 11    2952\n",
       "Bulk 12     679\n",
       "Bulk 13    3111\n",
       "Bulk 14     323\n",
       "Bulk 15     881\n",
       "dtype: int64"
      ]
     },
     "execution_count": 303,
     "metadata": {},
     "output_type": "execute_result"
    }
   ],
   "source": [
    "#проверка на пропуски\n",
    "data_bulk.isnull().sum()"
   ]
  },
  {
   "cell_type": "code",
   "execution_count": 304,
   "metadata": {},
   "outputs": [
    {
     "data": {
      "text/plain": [
       "0"
      ]
     },
     "execution_count": 304,
     "metadata": {},
     "output_type": "execute_result"
    }
   ],
   "source": [
    "#проверка на дубликаты\n",
    "data_bulk['key'].duplicated().sum()"
   ]
  },
  {
   "cell_type": "code",
   "execution_count": 305,
   "metadata": {},
   "outputs": [
    {
     "data": {
      "text/html": [
       "<div>\n",
       "<style scoped>\n",
       "    .dataframe tbody tr th:only-of-type {\n",
       "        vertical-align: middle;\n",
       "    }\n",
       "\n",
       "    .dataframe tbody tr th {\n",
       "        vertical-align: top;\n",
       "    }\n",
       "\n",
       "    .dataframe thead th {\n",
       "        text-align: right;\n",
       "    }\n",
       "</style>\n",
       "<table border=\"1\" class=\"dataframe\">\n",
       "  <thead>\n",
       "    <tr style=\"text-align: right;\">\n",
       "      <th></th>\n",
       "      <th>key</th>\n",
       "      <th>Bulk 1</th>\n",
       "      <th>Bulk 2</th>\n",
       "      <th>Bulk 3</th>\n",
       "      <th>Bulk 4</th>\n",
       "      <th>Bulk 5</th>\n",
       "      <th>Bulk 6</th>\n",
       "      <th>Bulk 7</th>\n",
       "      <th>Bulk 8</th>\n",
       "      <th>Bulk 9</th>\n",
       "      <th>Bulk 10</th>\n",
       "      <th>Bulk 11</th>\n",
       "      <th>Bulk 12</th>\n",
       "      <th>Bulk 13</th>\n",
       "      <th>Bulk 14</th>\n",
       "      <th>Bulk 15</th>\n",
       "    </tr>\n",
       "  </thead>\n",
       "  <tbody>\n",
       "    <tr>\n",
       "      <th>count</th>\n",
       "      <td>3129.000000</td>\n",
       "      <td>252.000000</td>\n",
       "      <td>22.000000</td>\n",
       "      <td>1298.000000</td>\n",
       "      <td>1014.000000</td>\n",
       "      <td>77.000000</td>\n",
       "      <td>576.000000</td>\n",
       "      <td>25.000000</td>\n",
       "      <td>1.0</td>\n",
       "      <td>19.000000</td>\n",
       "      <td>176.000000</td>\n",
       "      <td>177.000000</td>\n",
       "      <td>2450.000000</td>\n",
       "      <td>18.000000</td>\n",
       "      <td>2806.000000</td>\n",
       "      <td>2248.000000</td>\n",
       "    </tr>\n",
       "    <tr>\n",
       "      <th>mean</th>\n",
       "      <td>1624.383509</td>\n",
       "      <td>39.242063</td>\n",
       "      <td>253.045455</td>\n",
       "      <td>113.879045</td>\n",
       "      <td>104.394477</td>\n",
       "      <td>107.025974</td>\n",
       "      <td>118.925347</td>\n",
       "      <td>305.600000</td>\n",
       "      <td>49.0</td>\n",
       "      <td>76.315789</td>\n",
       "      <td>83.284091</td>\n",
       "      <td>76.819209</td>\n",
       "      <td>260.471020</td>\n",
       "      <td>181.111111</td>\n",
       "      <td>170.284747</td>\n",
       "      <td>160.513345</td>\n",
       "    </tr>\n",
       "    <tr>\n",
       "      <th>std</th>\n",
       "      <td>933.337642</td>\n",
       "      <td>18.277654</td>\n",
       "      <td>21.180578</td>\n",
       "      <td>75.483494</td>\n",
       "      <td>48.184126</td>\n",
       "      <td>81.790646</td>\n",
       "      <td>72.057776</td>\n",
       "      <td>191.022904</td>\n",
       "      <td>NaN</td>\n",
       "      <td>21.720581</td>\n",
       "      <td>26.060347</td>\n",
       "      <td>59.655365</td>\n",
       "      <td>120.649269</td>\n",
       "      <td>46.088009</td>\n",
       "      <td>65.868652</td>\n",
       "      <td>51.765319</td>\n",
       "    </tr>\n",
       "    <tr>\n",
       "      <th>min</th>\n",
       "      <td>1.000000</td>\n",
       "      <td>10.000000</td>\n",
       "      <td>228.000000</td>\n",
       "      <td>6.000000</td>\n",
       "      <td>12.000000</td>\n",
       "      <td>11.000000</td>\n",
       "      <td>17.000000</td>\n",
       "      <td>47.000000</td>\n",
       "      <td>49.0</td>\n",
       "      <td>63.000000</td>\n",
       "      <td>24.000000</td>\n",
       "      <td>8.000000</td>\n",
       "      <td>53.000000</td>\n",
       "      <td>151.000000</td>\n",
       "      <td>16.000000</td>\n",
       "      <td>1.000000</td>\n",
       "    </tr>\n",
       "    <tr>\n",
       "      <th>25%</th>\n",
       "      <td>816.000000</td>\n",
       "      <td>27.000000</td>\n",
       "      <td>242.000000</td>\n",
       "      <td>58.000000</td>\n",
       "      <td>72.000000</td>\n",
       "      <td>70.000000</td>\n",
       "      <td>69.750000</td>\n",
       "      <td>155.000000</td>\n",
       "      <td>49.0</td>\n",
       "      <td>66.000000</td>\n",
       "      <td>64.000000</td>\n",
       "      <td>25.000000</td>\n",
       "      <td>204.000000</td>\n",
       "      <td>153.250000</td>\n",
       "      <td>119.000000</td>\n",
       "      <td>105.000000</td>\n",
       "    </tr>\n",
       "    <tr>\n",
       "      <th>50%</th>\n",
       "      <td>1622.000000</td>\n",
       "      <td>31.000000</td>\n",
       "      <td>251.500000</td>\n",
       "      <td>97.500000</td>\n",
       "      <td>102.000000</td>\n",
       "      <td>86.000000</td>\n",
       "      <td>100.000000</td>\n",
       "      <td>298.000000</td>\n",
       "      <td>49.0</td>\n",
       "      <td>68.000000</td>\n",
       "      <td>86.500000</td>\n",
       "      <td>64.000000</td>\n",
       "      <td>208.000000</td>\n",
       "      <td>155.500000</td>\n",
       "      <td>151.000000</td>\n",
       "      <td>160.000000</td>\n",
       "    </tr>\n",
       "    <tr>\n",
       "      <th>75%</th>\n",
       "      <td>2431.000000</td>\n",
       "      <td>46.000000</td>\n",
       "      <td>257.750000</td>\n",
       "      <td>152.000000</td>\n",
       "      <td>133.000000</td>\n",
       "      <td>132.000000</td>\n",
       "      <td>157.000000</td>\n",
       "      <td>406.000000</td>\n",
       "      <td>49.0</td>\n",
       "      <td>70.500000</td>\n",
       "      <td>102.000000</td>\n",
       "      <td>106.000000</td>\n",
       "      <td>316.000000</td>\n",
       "      <td>203.500000</td>\n",
       "      <td>205.750000</td>\n",
       "      <td>205.000000</td>\n",
       "    </tr>\n",
       "    <tr>\n",
       "      <th>max</th>\n",
       "      <td>3241.000000</td>\n",
       "      <td>185.000000</td>\n",
       "      <td>325.000000</td>\n",
       "      <td>454.000000</td>\n",
       "      <td>281.000000</td>\n",
       "      <td>603.000000</td>\n",
       "      <td>503.000000</td>\n",
       "      <td>772.000000</td>\n",
       "      <td>49.0</td>\n",
       "      <td>147.000000</td>\n",
       "      <td>159.000000</td>\n",
       "      <td>313.000000</td>\n",
       "      <td>1849.000000</td>\n",
       "      <td>305.000000</td>\n",
       "      <td>636.000000</td>\n",
       "      <td>405.000000</td>\n",
       "    </tr>\n",
       "  </tbody>\n",
       "</table>\n",
       "</div>"
      ],
      "text/plain": [
       "               key      Bulk 1      Bulk 2       Bulk 3       Bulk 4  \\\n",
       "count  3129.000000  252.000000   22.000000  1298.000000  1014.000000   \n",
       "mean   1624.383509   39.242063  253.045455   113.879045   104.394477   \n",
       "std     933.337642   18.277654   21.180578    75.483494    48.184126   \n",
       "min       1.000000   10.000000  228.000000     6.000000    12.000000   \n",
       "25%     816.000000   27.000000  242.000000    58.000000    72.000000   \n",
       "50%    1622.000000   31.000000  251.500000    97.500000   102.000000   \n",
       "75%    2431.000000   46.000000  257.750000   152.000000   133.000000   \n",
       "max    3241.000000  185.000000  325.000000   454.000000   281.000000   \n",
       "\n",
       "           Bulk 5      Bulk 6      Bulk 7  Bulk 8      Bulk 9     Bulk 10  \\\n",
       "count   77.000000  576.000000   25.000000     1.0   19.000000  176.000000   \n",
       "mean   107.025974  118.925347  305.600000    49.0   76.315789   83.284091   \n",
       "std     81.790646   72.057776  191.022904     NaN   21.720581   26.060347   \n",
       "min     11.000000   17.000000   47.000000    49.0   63.000000   24.000000   \n",
       "25%     70.000000   69.750000  155.000000    49.0   66.000000   64.000000   \n",
       "50%     86.000000  100.000000  298.000000    49.0   68.000000   86.500000   \n",
       "75%    132.000000  157.000000  406.000000    49.0   70.500000  102.000000   \n",
       "max    603.000000  503.000000  772.000000    49.0  147.000000  159.000000   \n",
       "\n",
       "          Bulk 11      Bulk 12     Bulk 13      Bulk 14      Bulk 15  \n",
       "count  177.000000  2450.000000   18.000000  2806.000000  2248.000000  \n",
       "mean    76.819209   260.471020  181.111111   170.284747   160.513345  \n",
       "std     59.655365   120.649269   46.088009    65.868652    51.765319  \n",
       "min      8.000000    53.000000  151.000000    16.000000     1.000000  \n",
       "25%     25.000000   204.000000  153.250000   119.000000   105.000000  \n",
       "50%     64.000000   208.000000  155.500000   151.000000   160.000000  \n",
       "75%    106.000000   316.000000  203.500000   205.750000   205.000000  \n",
       "max    313.000000  1849.000000  305.000000   636.000000   405.000000  "
      ]
     },
     "execution_count": 305,
     "metadata": {},
     "output_type": "execute_result"
    }
   ],
   "source": [
    "data_bulk.describe()"
   ]
  },
  {
   "cell_type": "code",
   "execution_count": 306,
   "metadata": {},
   "outputs": [
    {
     "data": {
      "text/plain": [
       "array([[<matplotlib.axes._subplots.AxesSubplot object at 0x0000020B18B63A90>,\n",
       "        <matplotlib.axes._subplots.AxesSubplot object at 0x0000020B18BB6B70>,\n",
       "        <matplotlib.axes._subplots.AxesSubplot object at 0x0000020B18BDDDD8>,\n",
       "        <matplotlib.axes._subplots.AxesSubplot object at 0x0000020B1884F080>],\n",
       "       [<matplotlib.axes._subplots.AxesSubplot object at 0x0000020B188782E8>,\n",
       "        <matplotlib.axes._subplots.AxesSubplot object at 0x0000020B188A1550>,\n",
       "        <matplotlib.axes._subplots.AxesSubplot object at 0x0000020B188C87B8>,\n",
       "        <matplotlib.axes._subplots.AxesSubplot object at 0x0000020B188F1A20>],\n",
       "       [<matplotlib.axes._subplots.AxesSubplot object at 0x0000020B188F1A58>,\n",
       "        <matplotlib.axes._subplots.AxesSubplot object at 0x0000020B18943EB8>,\n",
       "        <matplotlib.axes._subplots.AxesSubplot object at 0x0000020B18975160>,\n",
       "        <matplotlib.axes._subplots.AxesSubplot object at 0x0000020B1899B518>],\n",
       "       [<matplotlib.axes._subplots.AxesSubplot object at 0x0000020B189C3A90>,\n",
       "        <matplotlib.axes._subplots.AxesSubplot object at 0x0000020B189F4048>,\n",
       "        <matplotlib.axes._subplots.AxesSubplot object at 0x0000020B18A1A5C0>,\n",
       "        <matplotlib.axes._subplots.AxesSubplot object at 0x0000020B18A44B38>]],\n",
       "      dtype=object)"
      ]
     },
     "execution_count": 306,
     "metadata": {},
     "output_type": "execute_result"
    },
    {
     "data": {
      "image/png": "[encoded data removed]",
      "text/plain": [
       "<Figure size 1440x1080 with 16 Axes>"
      ]
     },
     "metadata": {
      "needs_background": "light"
     },
     "output_type": "display_data"
    }
   ],
   "source": [
    "data_bulk.hist(bins=100, figsize=(20,15))"
   ]
  },
  {
   "cell_type": "markdown",
   "metadata": {},
   "source": [
    "**Вывод:**\n",
    "- Вещественный тип данных можно заменить на целочисленный\n",
    "- Большое количество пропусков\n",
    "- Дубликатов нет"
   ]
  },
  {
   "cell_type": "markdown",
   "metadata": {},
   "source": [
    "#### Данные о подаче сыпучих материалов (время)"
   ]
  },
  {
   "cell_type": "code",
   "execution_count": 307,
   "metadata": {},
   "outputs": [
    {
     "data": {
      "text/html": [
       "<div>\n",
       "<style scoped>\n",
       "    .dataframe tbody tr th:only-of-type {\n",
       "        vertical-align: middle;\n",
       "    }\n",
       "\n",
       "    .dataframe tbody tr th {\n",
       "        vertical-align: top;\n",
       "    }\n",
       "\n",
       "    .dataframe thead th {\n",
       "        text-align: right;\n",
       "    }\n",
       "</style>\n",
       "<table border=\"1\" class=\"dataframe\">\n",
       "  <thead>\n",
       "    <tr style=\"text-align: right;\">\n",
       "      <th></th>\n",
       "      <th>key</th>\n",
       "      <th>Bulk 1</th>\n",
       "      <th>Bulk 2</th>\n",
       "      <th>Bulk 3</th>\n",
       "      <th>Bulk 4</th>\n",
       "      <th>Bulk 5</th>\n",
       "      <th>Bulk 6</th>\n",
       "      <th>Bulk 7</th>\n",
       "      <th>Bulk 8</th>\n",
       "      <th>Bulk 9</th>\n",
       "      <th>Bulk 10</th>\n",
       "      <th>Bulk 11</th>\n",
       "      <th>Bulk 12</th>\n",
       "      <th>Bulk 13</th>\n",
       "      <th>Bulk 14</th>\n",
       "      <th>Bulk 15</th>\n",
       "    </tr>\n",
       "  </thead>\n",
       "  <tbody>\n",
       "    <tr>\n",
       "      <th>2730</th>\n",
       "      <td>2833</td>\n",
       "      <td>NaN</td>\n",
       "      <td>NaN</td>\n",
       "      <td>2019-08-18 05:19:44</td>\n",
       "      <td>2019-08-18 05:31:59</td>\n",
       "      <td>NaN</td>\n",
       "      <td>NaN</td>\n",
       "      <td>NaN</td>\n",
       "      <td>NaN</td>\n",
       "      <td>NaN</td>\n",
       "      <td>NaN</td>\n",
       "      <td>NaN</td>\n",
       "      <td>2019-08-18 05:15:21</td>\n",
       "      <td>NaN</td>\n",
       "      <td>2019-08-18 05:15:21</td>\n",
       "      <td>2019-08-18 05:15:21</td>\n",
       "    </tr>\n",
       "    <tr>\n",
       "      <th>1129</th>\n",
       "      <td>1177</td>\n",
       "      <td>NaN</td>\n",
       "      <td>NaN</td>\n",
       "      <td>NaN</td>\n",
       "      <td>NaN</td>\n",
       "      <td>NaN</td>\n",
       "      <td>2019-06-15 01:19:19</td>\n",
       "      <td>NaN</td>\n",
       "      <td>NaN</td>\n",
       "      <td>NaN</td>\n",
       "      <td>NaN</td>\n",
       "      <td>NaN</td>\n",
       "      <td>2019-06-15 01:06:04</td>\n",
       "      <td>NaN</td>\n",
       "      <td>2019-06-15 01:06:04</td>\n",
       "      <td>2019-06-15 01:06:04</td>\n",
       "    </tr>\n",
       "    <tr>\n",
       "      <th>449</th>\n",
       "      <td>475</td>\n",
       "      <td>NaN</td>\n",
       "      <td>NaN</td>\n",
       "      <td>NaN</td>\n",
       "      <td>NaN</td>\n",
       "      <td>NaN</td>\n",
       "      <td>2019-05-21 01:56:44</td>\n",
       "      <td>NaN</td>\n",
       "      <td>NaN</td>\n",
       "      <td>NaN</td>\n",
       "      <td>NaN</td>\n",
       "      <td>2019-05-21 01:56:44</td>\n",
       "      <td>2019-05-21 01:42:11</td>\n",
       "      <td>NaN</td>\n",
       "      <td>2019-05-21 01:42:11</td>\n",
       "      <td>2019-05-21 01:42:11</td>\n",
       "    </tr>\n",
       "    <tr>\n",
       "      <th>1056</th>\n",
       "      <td>1102</td>\n",
       "      <td>NaN</td>\n",
       "      <td>NaN</td>\n",
       "      <td>NaN</td>\n",
       "      <td>NaN</td>\n",
       "      <td>NaN</td>\n",
       "      <td>NaN</td>\n",
       "      <td>NaN</td>\n",
       "      <td>NaN</td>\n",
       "      <td>NaN</td>\n",
       "      <td>NaN</td>\n",
       "      <td>NaN</td>\n",
       "      <td>2019-06-12 15:05:59</td>\n",
       "      <td>NaN</td>\n",
       "      <td>2019-06-12 15:05:59</td>\n",
       "      <td>NaN</td>\n",
       "    </tr>\n",
       "    <tr>\n",
       "      <th>2868</th>\n",
       "      <td>2974</td>\n",
       "      <td>NaN</td>\n",
       "      <td>NaN</td>\n",
       "      <td>2019-08-23 09:33:03</td>\n",
       "      <td>2019-08-23 09:44:19</td>\n",
       "      <td>NaN</td>\n",
       "      <td>NaN</td>\n",
       "      <td>NaN</td>\n",
       "      <td>NaN</td>\n",
       "      <td>NaN</td>\n",
       "      <td>NaN</td>\n",
       "      <td>NaN</td>\n",
       "      <td>2019-08-23 09:26:07</td>\n",
       "      <td>NaN</td>\n",
       "      <td>2019-08-23 09:26:07</td>\n",
       "      <td>2019-08-23 09:26:06</td>\n",
       "    </tr>\n",
       "  </tbody>\n",
       "</table>\n",
       "</div>"
      ],
      "text/plain": [
       "       key Bulk 1 Bulk 2               Bulk 3               Bulk 4 Bulk 5  \\\n",
       "2730  2833    NaN    NaN  2019-08-18 05:19:44  2019-08-18 05:31:59    NaN   \n",
       "1129  1177    NaN    NaN                  NaN                  NaN    NaN   \n",
       "449    475    NaN    NaN                  NaN                  NaN    NaN   \n",
       "1056  1102    NaN    NaN                  NaN                  NaN    NaN   \n",
       "2868  2974    NaN    NaN  2019-08-23 09:33:03  2019-08-23 09:44:19    NaN   \n",
       "\n",
       "                   Bulk 6 Bulk 7 Bulk 8 Bulk 9 Bulk 10              Bulk 11  \\\n",
       "2730                  NaN    NaN    NaN    NaN     NaN                  NaN   \n",
       "1129  2019-06-15 01:19:19    NaN    NaN    NaN     NaN                  NaN   \n",
       "449   2019-05-21 01:56:44    NaN    NaN    NaN     NaN  2019-05-21 01:56:44   \n",
       "1056                  NaN    NaN    NaN    NaN     NaN                  NaN   \n",
       "2868                  NaN    NaN    NaN    NaN     NaN                  NaN   \n",
       "\n",
       "                  Bulk 12 Bulk 13              Bulk 14              Bulk 15  \n",
       "2730  2019-08-18 05:15:21     NaN  2019-08-18 05:15:21  2019-08-18 05:15:21  \n",
       "1129  2019-06-15 01:06:04     NaN  2019-06-15 01:06:04  2019-06-15 01:06:04  \n",
       "449   2019-05-21 01:42:11     NaN  2019-05-21 01:42:11  2019-05-21 01:42:11  \n",
       "1056  2019-06-12 15:05:59     NaN  2019-06-12 15:05:59                  NaN  \n",
       "2868  2019-08-23 09:26:07     NaN  2019-08-23 09:26:07  2019-08-23 09:26:06  "
      ]
     },
     "execution_count": 307,
     "metadata": {},
     "output_type": "execute_result"
    }
   ],
   "source": [
    "data_bulk_time.sample(5)"
   ]
  },
  {
   "cell_type": "code",
   "execution_count": 308,
   "metadata": {},
   "outputs": [
    {
     "name": "stdout",
     "output_type": "stream",
     "text": [
      "<class 'pandas.core.frame.DataFrame'>\n",
      "RangeIndex: 3129 entries, 0 to 3128\n",
      "Data columns (total 16 columns):\n",
      "key        3129 non-null int64\n",
      "Bulk 1     252 non-null object\n",
      "Bulk 2     22 non-null object\n",
      "Bulk 3     1298 non-null object\n",
      "Bulk 4     1014 non-null object\n",
      "Bulk 5     77 non-null object\n",
      "Bulk 6     576 non-null object\n",
      "Bulk 7     25 non-null object\n",
      "Bulk 8     1 non-null object\n",
      "Bulk 9     19 non-null object\n",
      "Bulk 10    176 non-null object\n",
      "Bulk 11    177 non-null object\n",
      "Bulk 12    2450 non-null object\n",
      "Bulk 13    18 non-null object\n",
      "Bulk 14    2806 non-null object\n",
      "Bulk 15    2248 non-null object\n",
      "dtypes: int64(1), object(15)\n",
      "memory usage: 391.2+ KB\n"
     ]
    }
   ],
   "source": [
    "data_bulk_time.info()"
   ]
  },
  {
   "cell_type": "code",
   "execution_count": 309,
   "metadata": {},
   "outputs": [
    {
     "data": {
      "text/plain": [
       "key           0\n",
       "Bulk 1     2877\n",
       "Bulk 2     3107\n",
       "Bulk 3     1831\n",
       "Bulk 4     2115\n",
       "Bulk 5     3052\n",
       "Bulk 6     2553\n",
       "Bulk 7     3104\n",
       "Bulk 8     3128\n",
       "Bulk 9     3110\n",
       "Bulk 10    2953\n",
       "Bulk 11    2952\n",
       "Bulk 12     679\n",
       "Bulk 13    3111\n",
       "Bulk 14     323\n",
       "Bulk 15     881\n",
       "dtype: int64"
      ]
     },
     "execution_count": 309,
     "metadata": {},
     "output_type": "execute_result"
    }
   ],
   "source": [
    "#проверка на пропуски\n",
    "data_bulk_time.isnull().sum()"
   ]
  },
  {
   "cell_type": "code",
   "execution_count": 310,
   "metadata": {},
   "outputs": [
    {
     "data": {
      "text/plain": [
       "0"
      ]
     },
     "execution_count": 310,
     "metadata": {},
     "output_type": "execute_result"
    }
   ],
   "source": [
    "#проверка на дубликаты\n",
    "data_bulk_time['key'].duplicated().sum()"
   ]
  },
  {
   "cell_type": "markdown",
   "metadata": {},
   "source": [
    "**Вывод:**\n",
    "- Некорректный тип данных\n",
    "- Много пропусков\n",
    "- Дубликатов нет"
   ]
  },
  {
   "cell_type": "markdown",
   "metadata": {},
   "source": [
    "#### Данные о продувке сплава газом"
   ]
  },
  {
   "cell_type": "code",
   "execution_count": 311,
   "metadata": {},
   "outputs": [
    {
     "data": {
      "text/html": [
       "<div>\n",
       "<style scoped>\n",
       "    .dataframe tbody tr th:only-of-type {\n",
       "        vertical-align: middle;\n",
       "    }\n",
       "\n",
       "    .dataframe tbody tr th {\n",
       "        vertical-align: top;\n",
       "    }\n",
       "\n",
       "    .dataframe thead th {\n",
       "        text-align: right;\n",
       "    }\n",
       "</style>\n",
       "<table border=\"1\" class=\"dataframe\">\n",
       "  <thead>\n",
       "    <tr style=\"text-align: right;\">\n",
       "      <th></th>\n",
       "      <th>key</th>\n",
       "      <th>Газ 1</th>\n",
       "    </tr>\n",
       "  </thead>\n",
       "  <tbody>\n",
       "    <tr>\n",
       "      <th>948</th>\n",
       "      <td>951</td>\n",
       "      <td>6.162126</td>\n",
       "    </tr>\n",
       "    <tr>\n",
       "      <th>1672</th>\n",
       "      <td>1675</td>\n",
       "      <td>17.441095</td>\n",
       "    </tr>\n",
       "    <tr>\n",
       "      <th>2257</th>\n",
       "      <td>2260</td>\n",
       "      <td>13.817066</td>\n",
       "    </tr>\n",
       "    <tr>\n",
       "      <th>1103</th>\n",
       "      <td>1106</td>\n",
       "      <td>3.821003</td>\n",
       "    </tr>\n",
       "    <tr>\n",
       "      <th>1357</th>\n",
       "      <td>1360</td>\n",
       "      <td>8.285197</td>\n",
       "    </tr>\n",
       "  </tbody>\n",
       "</table>\n",
       "</div>"
      ],
      "text/plain": [
       "       key      Газ 1\n",
       "948    951   6.162126\n",
       "1672  1675  17.441095\n",
       "2257  2260  13.817066\n",
       "1103  1106   3.821003\n",
       "1357  1360   8.285197"
      ]
     },
     "execution_count": 311,
     "metadata": {},
     "output_type": "execute_result"
    }
   ],
   "source": [
    "data_gas.sample(5)"
   ]
  },
  {
   "cell_type": "code",
   "execution_count": 312,
   "metadata": {},
   "outputs": [
    {
     "name": "stdout",
     "output_type": "stream",
     "text": [
      "<class 'pandas.core.frame.DataFrame'>\n",
      "RangeIndex: 3239 entries, 0 to 3238\n",
      "Data columns (total 2 columns):\n",
      "key      3239 non-null int64\n",
      "Газ 1    3239 non-null float64\n",
      "dtypes: float64(1), int64(1)\n",
      "memory usage: 50.7 KB\n"
     ]
    }
   ],
   "source": [
    "data_gas.info()"
   ]
  },
  {
   "cell_type": "code",
   "execution_count": 313,
   "metadata": {},
   "outputs": [
    {
     "data": {
      "text/plain": [
       "key      0\n",
       "Газ 1    0\n",
       "dtype: int64"
      ]
     },
     "execution_count": 313,
     "metadata": {},
     "output_type": "execute_result"
    }
   ],
   "source": [
    "#проверка на пропуски\n",
    "data_gas.isnull().sum()"
   ]
  },
  {
   "cell_type": "code",
   "execution_count": 314,
   "metadata": {},
   "outputs": [
    {
     "data": {
      "text/plain": [
       "0"
      ]
     },
     "execution_count": 314,
     "metadata": {},
     "output_type": "execute_result"
    }
   ],
   "source": [
    "#проверка на дубликаты\n",
    "data_gas.duplicated().sum()"
   ]
  },
  {
   "cell_type": "code",
   "execution_count": 315,
   "metadata": {},
   "outputs": [
    {
     "data": {
      "text/html": [
       "<div>\n",
       "<style scoped>\n",
       "    .dataframe tbody tr th:only-of-type {\n",
       "        vertical-align: middle;\n",
       "    }\n",
       "\n",
       "    .dataframe tbody tr th {\n",
       "        vertical-align: top;\n",
       "    }\n",
       "\n",
       "    .dataframe thead th {\n",
       "        text-align: right;\n",
       "    }\n",
       "</style>\n",
       "<table border=\"1\" class=\"dataframe\">\n",
       "  <thead>\n",
       "    <tr style=\"text-align: right;\">\n",
       "      <th></th>\n",
       "      <th>key</th>\n",
       "      <th>Газ 1</th>\n",
       "    </tr>\n",
       "  </thead>\n",
       "  <tbody>\n",
       "    <tr>\n",
       "      <th>count</th>\n",
       "      <td>3239.000000</td>\n",
       "      <td>3239.000000</td>\n",
       "    </tr>\n",
       "    <tr>\n",
       "      <th>mean</th>\n",
       "      <td>1621.861377</td>\n",
       "      <td>11.002062</td>\n",
       "    </tr>\n",
       "    <tr>\n",
       "      <th>std</th>\n",
       "      <td>935.386334</td>\n",
       "      <td>6.220327</td>\n",
       "    </tr>\n",
       "    <tr>\n",
       "      <th>min</th>\n",
       "      <td>1.000000</td>\n",
       "      <td>0.008399</td>\n",
       "    </tr>\n",
       "    <tr>\n",
       "      <th>25%</th>\n",
       "      <td>812.500000</td>\n",
       "      <td>7.043089</td>\n",
       "    </tr>\n",
       "    <tr>\n",
       "      <th>50%</th>\n",
       "      <td>1622.000000</td>\n",
       "      <td>9.836267</td>\n",
       "    </tr>\n",
       "    <tr>\n",
       "      <th>75%</th>\n",
       "      <td>2431.500000</td>\n",
       "      <td>13.769915</td>\n",
       "    </tr>\n",
       "    <tr>\n",
       "      <th>max</th>\n",
       "      <td>3241.000000</td>\n",
       "      <td>77.995040</td>\n",
       "    </tr>\n",
       "  </tbody>\n",
       "</table>\n",
       "</div>"
      ],
      "text/plain": [
       "               key        Газ 1\n",
       "count  3239.000000  3239.000000\n",
       "mean   1621.861377    11.002062\n",
       "std     935.386334     6.220327\n",
       "min       1.000000     0.008399\n",
       "25%     812.500000     7.043089\n",
       "50%    1622.000000     9.836267\n",
       "75%    2431.500000    13.769915\n",
       "max    3241.000000    77.995040"
      ]
     },
     "execution_count": 315,
     "metadata": {},
     "output_type": "execute_result"
    }
   ],
   "source": [
    "data_gas.describe()"
   ]
  },
  {
   "cell_type": "code",
   "execution_count": 316,
   "metadata": {},
   "outputs": [
    {
     "data": {
      "text/plain": [
       "<matplotlib.axes._subplots.AxesSubplot at 0x20b19a35b70>"
      ]
     },
     "execution_count": 316,
     "metadata": {},
     "output_type": "execute_result"
    },
    {
     "data": {
      "image/png": "[encoded data removed]",
      "text/plain": [
       "<Figure size 1152x720 with 1 Axes>"
      ]
     },
     "metadata": {
      "needs_background": "light"
     },
     "output_type": "display_data"
    }
   ],
   "source": [
    "#распределение для Газ 1\n",
    "data_gas['Газ 1'].hist(bins=100, figsize=(16,10))"
   ]
  },
  {
   "cell_type": "markdown",
   "metadata": {},
   "source": [
    "**Вывод:**\n",
    "- Пропусков нет, дубликатов нет\n",
    "- Распределение нормальное со смещением влево"
   ]
  },
  {
   "cell_type": "markdown",
   "metadata": {},
   "source": [
    "#### Результаты измерения температуры"
   ]
  },
  {
   "cell_type": "code",
   "execution_count": 317,
   "metadata": {},
   "outputs": [
    {
     "data": {
      "text/html": [
       "<div>\n",
       "<style scoped>\n",
       "    .dataframe tbody tr th:only-of-type {\n",
       "        vertical-align: middle;\n",
       "    }\n",
       "\n",
       "    .dataframe tbody tr th {\n",
       "        vertical-align: top;\n",
       "    }\n",
       "\n",
       "    .dataframe thead th {\n",
       "        text-align: right;\n",
       "    }\n",
       "</style>\n",
       "<table border=\"1\" class=\"dataframe\">\n",
       "  <thead>\n",
       "    <tr style=\"text-align: right;\">\n",
       "      <th></th>\n",
       "      <th>key</th>\n",
       "      <th>Время замера</th>\n",
       "      <th>Температура</th>\n",
       "    </tr>\n",
       "  </thead>\n",
       "  <tbody>\n",
       "    <tr>\n",
       "      <th>42</th>\n",
       "      <td>10</td>\n",
       "      <td>2019-05-03 16:28:18</td>\n",
       "      <td>1585.0</td>\n",
       "    </tr>\n",
       "    <tr>\n",
       "      <th>812</th>\n",
       "      <td>142</td>\n",
       "      <td>2019-05-08 16:35:41</td>\n",
       "      <td>1551.0</td>\n",
       "    </tr>\n",
       "    <tr>\n",
       "      <th>2589</th>\n",
       "      <td>493</td>\n",
       "      <td>2019-05-21 17:53:29</td>\n",
       "      <td>1597.0</td>\n",
       "    </tr>\n",
       "    <tr>\n",
       "      <th>5080</th>\n",
       "      <td>1020</td>\n",
       "      <td>2019-06-09 19:40:01</td>\n",
       "      <td>1581.0</td>\n",
       "    </tr>\n",
       "    <tr>\n",
       "      <th>4898</th>\n",
       "      <td>980</td>\n",
       "      <td>2019-06-08 08:55:34</td>\n",
       "      <td>1572.0</td>\n",
       "    </tr>\n",
       "  </tbody>\n",
       "</table>\n",
       "</div>"
      ],
      "text/plain": [
       "       key         Время замера  Температура\n",
       "42      10  2019-05-03 16:28:18       1585.0\n",
       "812    142  2019-05-08 16:35:41       1551.0\n",
       "2589   493  2019-05-21 17:53:29       1597.0\n",
       "5080  1020  2019-06-09 19:40:01       1581.0\n",
       "4898   980  2019-06-08 08:55:34       1572.0"
      ]
     },
     "execution_count": 317,
     "metadata": {},
     "output_type": "execute_result"
    }
   ],
   "source": [
    "data_temp.sample(5)"
   ]
  },
  {
   "cell_type": "code",
   "execution_count": 318,
   "metadata": {},
   "outputs": [
    {
     "name": "stdout",
     "output_type": "stream",
     "text": [
      "<class 'pandas.core.frame.DataFrame'>\n",
      "RangeIndex: 15907 entries, 0 to 15906\n",
      "Data columns (total 3 columns):\n",
      "key             15907 non-null int64\n",
      "Время замера    15907 non-null object\n",
      "Температура     13006 non-null float64\n",
      "dtypes: float64(1), int64(1), object(1)\n",
      "memory usage: 372.9+ KB\n"
     ]
    }
   ],
   "source": [
    "data_temp.info()"
   ]
  },
  {
   "cell_type": "code",
   "execution_count": 319,
   "metadata": {},
   "outputs": [
    {
     "data": {
      "text/plain": [
       "key                0\n",
       "Время замера       0\n",
       "Температура     2901\n",
       "dtype: int64"
      ]
     },
     "execution_count": 319,
     "metadata": {},
     "output_type": "execute_result"
    }
   ],
   "source": [
    "#проверка на пропуски\n",
    "data_temp.isnull().sum()"
   ]
  },
  {
   "cell_type": "code",
   "execution_count": 320,
   "metadata": {},
   "outputs": [
    {
     "data": {
      "text/plain": [
       "12691"
      ]
     },
     "execution_count": 320,
     "metadata": {},
     "output_type": "execute_result"
    }
   ],
   "source": [
    "#проверка на дубликаты\n",
    "data_temp['key'].duplicated().sum()"
   ]
  },
  {
   "cell_type": "code",
   "execution_count": 321,
   "metadata": {},
   "outputs": [
    {
     "data": {
      "text/html": [
       "<div>\n",
       "<style scoped>\n",
       "    .dataframe tbody tr th:only-of-type {\n",
       "        vertical-align: middle;\n",
       "    }\n",
       "\n",
       "    .dataframe tbody tr th {\n",
       "        vertical-align: top;\n",
       "    }\n",
       "\n",
       "    .dataframe thead th {\n",
       "        text-align: right;\n",
       "    }\n",
       "</style>\n",
       "<table border=\"1\" class=\"dataframe\">\n",
       "  <thead>\n",
       "    <tr style=\"text-align: right;\">\n",
       "      <th></th>\n",
       "      <th>key</th>\n",
       "      <th>Температура</th>\n",
       "    </tr>\n",
       "  </thead>\n",
       "  <tbody>\n",
       "    <tr>\n",
       "      <th>count</th>\n",
       "      <td>15907.000000</td>\n",
       "      <td>13006.000000</td>\n",
       "    </tr>\n",
       "    <tr>\n",
       "      <th>mean</th>\n",
       "      <td>1607.880870</td>\n",
       "      <td>1591.840920</td>\n",
       "    </tr>\n",
       "    <tr>\n",
       "      <th>std</th>\n",
       "      <td>942.212073</td>\n",
       "      <td>21.375851</td>\n",
       "    </tr>\n",
       "    <tr>\n",
       "      <th>min</th>\n",
       "      <td>1.000000</td>\n",
       "      <td>1191.000000</td>\n",
       "    </tr>\n",
       "    <tr>\n",
       "      <th>25%</th>\n",
       "      <td>790.000000</td>\n",
       "      <td>1581.000000</td>\n",
       "    </tr>\n",
       "    <tr>\n",
       "      <th>50%</th>\n",
       "      <td>1618.000000</td>\n",
       "      <td>1591.000000</td>\n",
       "    </tr>\n",
       "    <tr>\n",
       "      <th>75%</th>\n",
       "      <td>2427.000000</td>\n",
       "      <td>1601.000000</td>\n",
       "    </tr>\n",
       "    <tr>\n",
       "      <th>max</th>\n",
       "      <td>3241.000000</td>\n",
       "      <td>1705.000000</td>\n",
       "    </tr>\n",
       "  </tbody>\n",
       "</table>\n",
       "</div>"
      ],
      "text/plain": [
       "                key   Температура\n",
       "count  15907.000000  13006.000000\n",
       "mean    1607.880870   1591.840920\n",
       "std      942.212073     21.375851\n",
       "min        1.000000   1191.000000\n",
       "25%      790.000000   1581.000000\n",
       "50%     1618.000000   1591.000000\n",
       "75%     2427.000000   1601.000000\n",
       "max     3241.000000   1705.000000"
      ]
     },
     "execution_count": 321,
     "metadata": {},
     "output_type": "execute_result"
    }
   ],
   "source": [
    "data_temp.describe()"
   ]
  },
  {
   "cell_type": "code",
   "execution_count": 322,
   "metadata": {},
   "outputs": [
    {
     "data": {
      "text/plain": [
       "<matplotlib.axes._subplots.AxesSubplot at 0x20b19ea6128>"
      ]
     },
     "execution_count": 322,
     "metadata": {},
     "output_type": "execute_result"
    },
    {
     "data": {
      "image/png": "[encoded data removed]",
      "text/plain": [
       "<Figure size 1152x720 with 1 Axes>"
      ]
     },
     "metadata": {
      "needs_background": "light"
     },
     "output_type": "display_data"
    }
   ],
   "source": [
    "#распределение для Температура\n",
    "data_temp['Температура'].hist(bins=100, figsize=(16,10))"
   ]
  },
  {
   "cell_type": "markdown",
   "metadata": {},
   "source": [
    "**Вывод:**\n",
    "- Есть пропуски, около 22%\n",
    "- Некорректный тип данных у столбца Время замера\n",
    "- Распределение температуры нормальное со смещением влево\n",
    "- Дубликаты есть"
   ]
  },
  {
   "cell_type": "markdown",
   "metadata": {},
   "source": [
    "####  Данные о проволочных материалах (объём)"
   ]
  },
  {
   "cell_type": "code",
   "execution_count": 323,
   "metadata": {},
   "outputs": [
    {
     "data": {
      "text/html": [
       "<div>\n",
       "<style scoped>\n",
       "    .dataframe tbody tr th:only-of-type {\n",
       "        vertical-align: middle;\n",
       "    }\n",
       "\n",
       "    .dataframe tbody tr th {\n",
       "        vertical-align: top;\n",
       "    }\n",
       "\n",
       "    .dataframe thead th {\n",
       "        text-align: right;\n",
       "    }\n",
       "</style>\n",
       "<table border=\"1\" class=\"dataframe\">\n",
       "  <thead>\n",
       "    <tr style=\"text-align: right;\">\n",
       "      <th></th>\n",
       "      <th>key</th>\n",
       "      <th>Wire 1</th>\n",
       "      <th>Wire 2</th>\n",
       "      <th>Wire 3</th>\n",
       "      <th>Wire 4</th>\n",
       "      <th>Wire 5</th>\n",
       "      <th>Wire 6</th>\n",
       "      <th>Wire 7</th>\n",
       "      <th>Wire 8</th>\n",
       "      <th>Wire 9</th>\n",
       "    </tr>\n",
       "  </thead>\n",
       "  <tbody>\n",
       "    <tr>\n",
       "      <th>234</th>\n",
       "      <td>256</td>\n",
       "      <td>47.261757</td>\n",
       "      <td>NaN</td>\n",
       "      <td>NaN</td>\n",
       "      <td>NaN</td>\n",
       "      <td>NaN</td>\n",
       "      <td>NaN</td>\n",
       "      <td>NaN</td>\n",
       "      <td>NaN</td>\n",
       "      <td>NaN</td>\n",
       "    </tr>\n",
       "    <tr>\n",
       "      <th>382</th>\n",
       "      <td>414</td>\n",
       "      <td>128.185211</td>\n",
       "      <td>37.187283</td>\n",
       "      <td>NaN</td>\n",
       "      <td>NaN</td>\n",
       "      <td>NaN</td>\n",
       "      <td>NaN</td>\n",
       "      <td>NaN</td>\n",
       "      <td>NaN</td>\n",
       "      <td>NaN</td>\n",
       "    </tr>\n",
       "    <tr>\n",
       "      <th>1034</th>\n",
       "      <td>1094</td>\n",
       "      <td>83.116798</td>\n",
       "      <td>NaN</td>\n",
       "      <td>NaN</td>\n",
       "      <td>NaN</td>\n",
       "      <td>NaN</td>\n",
       "      <td>NaN</td>\n",
       "      <td>NaN</td>\n",
       "      <td>NaN</td>\n",
       "      <td>NaN</td>\n",
       "    </tr>\n",
       "    <tr>\n",
       "      <th>750</th>\n",
       "      <td>803</td>\n",
       "      <td>85.035599</td>\n",
       "      <td>188.258724</td>\n",
       "      <td>NaN</td>\n",
       "      <td>NaN</td>\n",
       "      <td>NaN</td>\n",
       "      <td>NaN</td>\n",
       "      <td>NaN</td>\n",
       "      <td>NaN</td>\n",
       "      <td>NaN</td>\n",
       "    </tr>\n",
       "    <tr>\n",
       "      <th>189</th>\n",
       "      <td>207</td>\n",
       "      <td>107.059677</td>\n",
       "      <td>15.142401</td>\n",
       "      <td>NaN</td>\n",
       "      <td>NaN</td>\n",
       "      <td>NaN</td>\n",
       "      <td>NaN</td>\n",
       "      <td>NaN</td>\n",
       "      <td>NaN</td>\n",
       "      <td>NaN</td>\n",
       "    </tr>\n",
       "  </tbody>\n",
       "</table>\n",
       "</div>"
      ],
      "text/plain": [
       "       key      Wire 1      Wire 2  Wire 3  Wire 4  Wire 5  Wire 6  Wire 7  \\\n",
       "234    256   47.261757         NaN     NaN     NaN     NaN     NaN     NaN   \n",
       "382    414  128.185211   37.187283     NaN     NaN     NaN     NaN     NaN   \n",
       "1034  1094   83.116798         NaN     NaN     NaN     NaN     NaN     NaN   \n",
       "750    803   85.035599  188.258724     NaN     NaN     NaN     NaN     NaN   \n",
       "189    207  107.059677   15.142401     NaN     NaN     NaN     NaN     NaN   \n",
       "\n",
       "      Wire 8  Wire 9  \n",
       "234      NaN     NaN  \n",
       "382      NaN     NaN  \n",
       "1034     NaN     NaN  \n",
       "750      NaN     NaN  \n",
       "189      NaN     NaN  "
      ]
     },
     "execution_count": 323,
     "metadata": {},
     "output_type": "execute_result"
    }
   ],
   "source": [
    "data_wire.sample(5)"
   ]
  },
  {
   "cell_type": "code",
   "execution_count": 324,
   "metadata": {},
   "outputs": [
    {
     "name": "stdout",
     "output_type": "stream",
     "text": [
      "<class 'pandas.core.frame.DataFrame'>\n",
      "RangeIndex: 3081 entries, 0 to 3080\n",
      "Data columns (total 10 columns):\n",
      "key       3081 non-null int64\n",
      "Wire 1    3055 non-null float64\n",
      "Wire 2    1079 non-null float64\n",
      "Wire 3    63 non-null float64\n",
      "Wire 4    14 non-null float64\n",
      "Wire 5    1 non-null float64\n",
      "Wire 6    73 non-null float64\n",
      "Wire 7    11 non-null float64\n",
      "Wire 8    19 non-null float64\n",
      "Wire 9    29 non-null float64\n",
      "dtypes: float64(9), int64(1)\n",
      "memory usage: 240.8 KB\n"
     ]
    }
   ],
   "source": [
    "data_wire.info()"
   ]
  },
  {
   "cell_type": "code",
   "execution_count": 325,
   "metadata": {},
   "outputs": [
    {
     "data": {
      "text/plain": [
       "key          0\n",
       "Wire 1      26\n",
       "Wire 2    2002\n",
       "Wire 3    3018\n",
       "Wire 4    3067\n",
       "Wire 5    3080\n",
       "Wire 6    3008\n",
       "Wire 7    3070\n",
       "Wire 8    3062\n",
       "Wire 9    3052\n",
       "dtype: int64"
      ]
     },
     "execution_count": 325,
     "metadata": {},
     "output_type": "execute_result"
    }
   ],
   "source": [
    "#проверка на пропуски\n",
    "data_wire.isnull().sum()"
   ]
  },
  {
   "cell_type": "code",
   "execution_count": 326,
   "metadata": {},
   "outputs": [
    {
     "data": {
      "text/plain": [
       "array([   nan, 15.132])"
      ]
     },
     "execution_count": 326,
     "metadata": {},
     "output_type": "execute_result"
    }
   ],
   "source": [
    "data_wire['Wire 5'].unique()"
   ]
  },
  {
   "cell_type": "code",
   "execution_count": 327,
   "metadata": {},
   "outputs": [
    {
     "data": {
      "text/plain": [
       "0"
      ]
     },
     "execution_count": 327,
     "metadata": {},
     "output_type": "execute_result"
    }
   ],
   "source": [
    "#проверка на дубликаты\n",
    "data_wire['key'].duplicated().sum()"
   ]
  },
  {
   "cell_type": "code",
   "execution_count": 328,
   "metadata": {},
   "outputs": [
    {
     "data": {
      "text/html": [
       "<div>\n",
       "<style scoped>\n",
       "    .dataframe tbody tr th:only-of-type {\n",
       "        vertical-align: middle;\n",
       "    }\n",
       "\n",
       "    .dataframe tbody tr th {\n",
       "        vertical-align: top;\n",
       "    }\n",
       "\n",
       "    .dataframe thead th {\n",
       "        text-align: right;\n",
       "    }\n",
       "</style>\n",
       "<table border=\"1\" class=\"dataframe\">\n",
       "  <thead>\n",
       "    <tr style=\"text-align: right;\">\n",
       "      <th></th>\n",
       "      <th>key</th>\n",
       "      <th>Wire 1</th>\n",
       "      <th>Wire 2</th>\n",
       "      <th>Wire 3</th>\n",
       "      <th>Wire 4</th>\n",
       "      <th>Wire 5</th>\n",
       "      <th>Wire 6</th>\n",
       "      <th>Wire 7</th>\n",
       "      <th>Wire 8</th>\n",
       "      <th>Wire 9</th>\n",
       "    </tr>\n",
       "  </thead>\n",
       "  <tbody>\n",
       "    <tr>\n",
       "      <th>count</th>\n",
       "      <td>3081.000000</td>\n",
       "      <td>3055.000000</td>\n",
       "      <td>1079.000000</td>\n",
       "      <td>63.000000</td>\n",
       "      <td>14.000000</td>\n",
       "      <td>1.000</td>\n",
       "      <td>73.000000</td>\n",
       "      <td>11.000000</td>\n",
       "      <td>19.000000</td>\n",
       "      <td>29.000000</td>\n",
       "    </tr>\n",
       "    <tr>\n",
       "      <th>mean</th>\n",
       "      <td>1623.426485</td>\n",
       "      <td>100.895853</td>\n",
       "      <td>50.577323</td>\n",
       "      <td>189.482681</td>\n",
       "      <td>57.442842</td>\n",
       "      <td>15.132</td>\n",
       "      <td>48.016974</td>\n",
       "      <td>10.039007</td>\n",
       "      <td>53.625193</td>\n",
       "      <td>34.155752</td>\n",
       "    </tr>\n",
       "    <tr>\n",
       "      <th>std</th>\n",
       "      <td>932.996726</td>\n",
       "      <td>42.012518</td>\n",
       "      <td>39.320216</td>\n",
       "      <td>99.513444</td>\n",
       "      <td>28.824667</td>\n",
       "      <td>NaN</td>\n",
       "      <td>33.919845</td>\n",
       "      <td>8.610584</td>\n",
       "      <td>16.881728</td>\n",
       "      <td>19.931616</td>\n",
       "    </tr>\n",
       "    <tr>\n",
       "      <th>min</th>\n",
       "      <td>1.000000</td>\n",
       "      <td>1.918800</td>\n",
       "      <td>0.030160</td>\n",
       "      <td>0.144144</td>\n",
       "      <td>24.148801</td>\n",
       "      <td>15.132</td>\n",
       "      <td>0.034320</td>\n",
       "      <td>0.234208</td>\n",
       "      <td>45.076721</td>\n",
       "      <td>4.622800</td>\n",
       "    </tr>\n",
       "    <tr>\n",
       "      <th>25%</th>\n",
       "      <td>823.000000</td>\n",
       "      <td>72.115684</td>\n",
       "      <td>20.193680</td>\n",
       "      <td>95.135044</td>\n",
       "      <td>40.807002</td>\n",
       "      <td>15.132</td>\n",
       "      <td>25.053600</td>\n",
       "      <td>6.762756</td>\n",
       "      <td>46.094879</td>\n",
       "      <td>22.058401</td>\n",
       "    </tr>\n",
       "    <tr>\n",
       "      <th>50%</th>\n",
       "      <td>1619.000000</td>\n",
       "      <td>100.158234</td>\n",
       "      <td>40.142956</td>\n",
       "      <td>235.194977</td>\n",
       "      <td>45.234282</td>\n",
       "      <td>15.132</td>\n",
       "      <td>42.076324</td>\n",
       "      <td>9.017009</td>\n",
       "      <td>46.279999</td>\n",
       "      <td>30.066399</td>\n",
       "    </tr>\n",
       "    <tr>\n",
       "      <th>75%</th>\n",
       "      <td>2434.000000</td>\n",
       "      <td>126.060484</td>\n",
       "      <td>70.227558</td>\n",
       "      <td>276.252014</td>\n",
       "      <td>76.124619</td>\n",
       "      <td>15.132</td>\n",
       "      <td>64.212723</td>\n",
       "      <td>11.886057</td>\n",
       "      <td>48.089603</td>\n",
       "      <td>43.862003</td>\n",
       "    </tr>\n",
       "    <tr>\n",
       "      <th>max</th>\n",
       "      <td>3241.000000</td>\n",
       "      <td>330.314424</td>\n",
       "      <td>282.780152</td>\n",
       "      <td>385.008668</td>\n",
       "      <td>113.231044</td>\n",
       "      <td>15.132</td>\n",
       "      <td>180.454575</td>\n",
       "      <td>32.847674</td>\n",
       "      <td>102.762401</td>\n",
       "      <td>90.053604</td>\n",
       "    </tr>\n",
       "  </tbody>\n",
       "</table>\n",
       "</div>"
      ],
      "text/plain": [
       "               key       Wire 1       Wire 2      Wire 3      Wire 4  Wire 5  \\\n",
       "count  3081.000000  3055.000000  1079.000000   63.000000   14.000000   1.000   \n",
       "mean   1623.426485   100.895853    50.577323  189.482681   57.442842  15.132   \n",
       "std     932.996726    42.012518    39.320216   99.513444   28.824667     NaN   \n",
       "min       1.000000     1.918800     0.030160    0.144144   24.148801  15.132   \n",
       "25%     823.000000    72.115684    20.193680   95.135044   40.807002  15.132   \n",
       "50%    1619.000000   100.158234    40.142956  235.194977   45.234282  15.132   \n",
       "75%    2434.000000   126.060484    70.227558  276.252014   76.124619  15.132   \n",
       "max    3241.000000   330.314424   282.780152  385.008668  113.231044  15.132   \n",
       "\n",
       "           Wire 6     Wire 7      Wire 8     Wire 9  \n",
       "count   73.000000  11.000000   19.000000  29.000000  \n",
       "mean    48.016974  10.039007   53.625193  34.155752  \n",
       "std     33.919845   8.610584   16.881728  19.931616  \n",
       "min      0.034320   0.234208   45.076721   4.622800  \n",
       "25%     25.053600   6.762756   46.094879  22.058401  \n",
       "50%     42.076324   9.017009   46.279999  30.066399  \n",
       "75%     64.212723  11.886057   48.089603  43.862003  \n",
       "max    180.454575  32.847674  102.762401  90.053604  "
      ]
     },
     "execution_count": 328,
     "metadata": {},
     "output_type": "execute_result"
    }
   ],
   "source": [
    "data_wire.describe()"
   ]
  },
  {
   "cell_type": "code",
   "execution_count": 329,
   "metadata": {},
   "outputs": [
    {
     "data": {
      "text/plain": [
       "array([[<matplotlib.axes._subplots.AxesSubplot object at 0x0000020B19C59668>,\n",
       "        <matplotlib.axes._subplots.AxesSubplot object at 0x0000020B19C959E8>,\n",
       "        <matplotlib.axes._subplots.AxesSubplot object at 0x0000020B19CBCF60>],\n",
       "       [<matplotlib.axes._subplots.AxesSubplot object at 0x0000020B19CEB518>,\n",
       "        <matplotlib.axes._subplots.AxesSubplot object at 0x0000020B19D11A90>,\n",
       "        <matplotlib.axes._subplots.AxesSubplot object at 0x0000020B19D46048>],\n",
       "       [<matplotlib.axes._subplots.AxesSubplot object at 0x0000020B19D6C5C0>,\n",
       "        <matplotlib.axes._subplots.AxesSubplot object at 0x0000020B19D94B00>,\n",
       "        <matplotlib.axes._subplots.AxesSubplot object at 0x0000020B19D94B38>],\n",
       "       [<matplotlib.axes._subplots.AxesSubplot object at 0x0000020B19DED5F8>,\n",
       "        <matplotlib.axes._subplots.AxesSubplot object at 0x0000020B19E14B70>,\n",
       "        <matplotlib.axes._subplots.AxesSubplot object at 0x0000020B19E46128>]],\n",
       "      dtype=object)"
      ]
     },
     "execution_count": 329,
     "metadata": {},
     "output_type": "execute_result"
    },
    {
     "data": {
      "image/png": "[encoded data removed]",
      "text/plain": [
       "<Figure size 1152x720 with 12 Axes>"
      ]
     },
     "metadata": {
      "needs_background": "light"
     },
     "output_type": "display_data"
    }
   ],
   "source": [
    "data_wire.hist(bins=100, figsize=(16,10))"
   ]
  },
  {
   "cell_type": "markdown",
   "metadata": {},
   "source": [
    "**Вывод:**\n",
    "- Имеются пропуски в большом количестве\n",
    "- Дубликатов нет\n",
    "- Тип данных корректный"
   ]
  },
  {
   "cell_type": "markdown",
   "metadata": {},
   "source": [
    "#### Данные о проволочных материалах (время)"
   ]
  },
  {
   "cell_type": "code",
   "execution_count": 330,
   "metadata": {},
   "outputs": [
    {
     "data": {
      "text/html": [
       "<div>\n",
       "<style scoped>\n",
       "    .dataframe tbody tr th:only-of-type {\n",
       "        vertical-align: middle;\n",
       "    }\n",
       "\n",
       "    .dataframe tbody tr th {\n",
       "        vertical-align: top;\n",
       "    }\n",
       "\n",
       "    .dataframe thead th {\n",
       "        text-align: right;\n",
       "    }\n",
       "</style>\n",
       "<table border=\"1\" class=\"dataframe\">\n",
       "  <thead>\n",
       "    <tr style=\"text-align: right;\">\n",
       "      <th></th>\n",
       "      <th>key</th>\n",
       "      <th>Wire 1</th>\n",
       "      <th>Wire 2</th>\n",
       "      <th>Wire 3</th>\n",
       "      <th>Wire 4</th>\n",
       "      <th>Wire 5</th>\n",
       "      <th>Wire 6</th>\n",
       "      <th>Wire 7</th>\n",
       "      <th>Wire 8</th>\n",
       "      <th>Wire 9</th>\n",
       "    </tr>\n",
       "  </thead>\n",
       "  <tbody>\n",
       "    <tr>\n",
       "      <th>867</th>\n",
       "      <td>921</td>\n",
       "      <td>2019-06-06 08:12:52</td>\n",
       "      <td>NaN</td>\n",
       "      <td>NaN</td>\n",
       "      <td>NaN</td>\n",
       "      <td>NaN</td>\n",
       "      <td>NaN</td>\n",
       "      <td>NaN</td>\n",
       "      <td>NaN</td>\n",
       "      <td>NaN</td>\n",
       "    </tr>\n",
       "    <tr>\n",
       "      <th>2156</th>\n",
       "      <td>2266</td>\n",
       "      <td>2019-07-28 18:17:55</td>\n",
       "      <td>NaN</td>\n",
       "      <td>NaN</td>\n",
       "      <td>NaN</td>\n",
       "      <td>NaN</td>\n",
       "      <td>NaN</td>\n",
       "      <td>NaN</td>\n",
       "      <td>NaN</td>\n",
       "      <td>NaN</td>\n",
       "    </tr>\n",
       "    <tr>\n",
       "      <th>480</th>\n",
       "      <td>513</td>\n",
       "      <td>2019-05-22 12:15:56</td>\n",
       "      <td>2019-05-22 12:17:11</td>\n",
       "      <td>NaN</td>\n",
       "      <td>NaN</td>\n",
       "      <td>NaN</td>\n",
       "      <td>NaN</td>\n",
       "      <td>NaN</td>\n",
       "      <td>NaN</td>\n",
       "      <td>NaN</td>\n",
       "    </tr>\n",
       "    <tr>\n",
       "      <th>211</th>\n",
       "      <td>233</td>\n",
       "      <td>2019-05-12 00:41:29</td>\n",
       "      <td>NaN</td>\n",
       "      <td>NaN</td>\n",
       "      <td>NaN</td>\n",
       "      <td>NaN</td>\n",
       "      <td>NaN</td>\n",
       "      <td>NaN</td>\n",
       "      <td>NaN</td>\n",
       "      <td>NaN</td>\n",
       "    </tr>\n",
       "    <tr>\n",
       "      <th>654</th>\n",
       "      <td>691</td>\n",
       "      <td>2019-05-28 22:27:17</td>\n",
       "      <td>2019-05-28 22:53:08</td>\n",
       "      <td>NaN</td>\n",
       "      <td>NaN</td>\n",
       "      <td>NaN</td>\n",
       "      <td>NaN</td>\n",
       "      <td>NaN</td>\n",
       "      <td>NaN</td>\n",
       "      <td>NaN</td>\n",
       "    </tr>\n",
       "  </tbody>\n",
       "</table>\n",
       "</div>"
      ],
      "text/plain": [
       "       key               Wire 1               Wire 2 Wire 3 Wire 4 Wire 5  \\\n",
       "867    921  2019-06-06 08:12:52                  NaN    NaN    NaN    NaN   \n",
       "2156  2266  2019-07-28 18:17:55                  NaN    NaN    NaN    NaN   \n",
       "480    513  2019-05-22 12:15:56  2019-05-22 12:17:11    NaN    NaN    NaN   \n",
       "211    233  2019-05-12 00:41:29                  NaN    NaN    NaN    NaN   \n",
       "654    691  2019-05-28 22:27:17  2019-05-28 22:53:08    NaN    NaN    NaN   \n",
       "\n",
       "     Wire 6 Wire 7 Wire 8 Wire 9  \n",
       "867     NaN    NaN    NaN    NaN  \n",
       "2156    NaN    NaN    NaN    NaN  \n",
       "480     NaN    NaN    NaN    NaN  \n",
       "211     NaN    NaN    NaN    NaN  \n",
       "654     NaN    NaN    NaN    NaN  "
      ]
     },
     "execution_count": 330,
     "metadata": {},
     "output_type": "execute_result"
    }
   ],
   "source": [
    "data_wire_time.sample(5)"
   ]
  },
  {
   "cell_type": "code",
   "execution_count": 331,
   "metadata": {},
   "outputs": [
    {
     "name": "stdout",
     "output_type": "stream",
     "text": [
      "<class 'pandas.core.frame.DataFrame'>\n",
      "RangeIndex: 3081 entries, 0 to 3080\n",
      "Data columns (total 10 columns):\n",
      "key       3081 non-null int64\n",
      "Wire 1    3055 non-null object\n",
      "Wire 2    1079 non-null object\n",
      "Wire 3    63 non-null object\n",
      "Wire 4    14 non-null object\n",
      "Wire 5    1 non-null object\n",
      "Wire 6    73 non-null object\n",
      "Wire 7    11 non-null object\n",
      "Wire 8    19 non-null object\n",
      "Wire 9    29 non-null object\n",
      "dtypes: int64(1), object(9)\n",
      "memory usage: 240.8+ KB\n"
     ]
    }
   ],
   "source": [
    "data_wire_time.info()"
   ]
  },
  {
   "cell_type": "code",
   "execution_count": 332,
   "metadata": {},
   "outputs": [
    {
     "data": {
      "text/plain": [
       "key          0\n",
       "Wire 1      26\n",
       "Wire 2    2002\n",
       "Wire 3    3018\n",
       "Wire 4    3067\n",
       "Wire 5    3080\n",
       "Wire 6    3008\n",
       "Wire 7    3070\n",
       "Wire 8    3062\n",
       "Wire 9    3052\n",
       "dtype: int64"
      ]
     },
     "execution_count": 332,
     "metadata": {},
     "output_type": "execute_result"
    }
   ],
   "source": [
    "#проверка на пропуски\n",
    "data_wire_time.isna().sum()"
   ]
  },
  {
   "cell_type": "code",
   "execution_count": 333,
   "metadata": {},
   "outputs": [
    {
     "data": {
      "text/plain": [
       "0"
      ]
     },
     "execution_count": 333,
     "metadata": {},
     "output_type": "execute_result"
    }
   ],
   "source": [
    "#проврка на дубликаты\n",
    "data_wire_time['key'].duplicated().sum()"
   ]
  },
  {
   "cell_type": "markdown",
   "metadata": {},
   "source": [
    "**Вывод по анализу данных:**\n",
    "- Данные об электродах. Некорректный тип данных у стобцов Начало нагрева дугой и Конец нагрева дугой. Аномалия в виде единственного отрицательного значения в столбце Реактивная мощность.\n",
    "- Данные о подаче сыпучих материалов (объём). Вещественный тип данных можно заменить на целочисленный. Большое количество пропусков.\n",
    "- Данные о подаче сыпучих материалов (время). Можно изменить тип данных. Также много пропусков (такое же количество как у объема).\n",
    "- Данные о продувке сплава газом. Пропусков нет.\n",
    "- Результаты измерения температуры. Количество пропусков около 22%. Некорректный тип данных у столбца Время замера.\n",
    "- Данные о проволочных материалах (объём). Имеются пропуски в большом количестве.\n",
    "- Данные о проволочных материалах (время). Есть пропуски в большом количестве (как у объема)."
   ]
  },
  {
   "cell_type": "markdown",
   "metadata": {},
   "source": [
    "## Примерный план решения задачи."
   ]
  },
  {
   "cell_type": "markdown",
   "metadata": {},
   "source": [
    "- **Первый шаг.** Изучение данных. Просмотреть содержимое файлов, проверить типы данных, сделать проверку на дубликаты, выполнить поиск пропусков.\n",
    "\n",
    "\n",
    "- **Второй шаг.** Подготовка данных. Посчитать общую мощность в данных об электродах. Изменить типы данных на корректные, для таблиц data_bulk и data_wire пропуски заменить на 0. Избавиться от аномалий. Суммировать wire и bulk. Определить номера партий, у которых есть замеры по температуре. Избавиться от партий, у которых только одно измерение температуры. Выполнить группировку по признаку key. \n",
    "\n",
    "\n",
    "- **Третий шаг.** Подготовка признаков. Определить Целевой признак - последнее измерение температуры. Разбить данные на обучающую и тестовую выборки в соотношении 75:25. Проверить распределение target в выборках. Проверить аномалии.\n",
    "\n",
    "\n",
    "- **Четвёртый шаг.** Поиск модели. Подобрать параметры на кросс-валидации. Выбор и обучение регрессионных моделей, например, таких как CatBoostRegressor, LGBMRegressor (т.к. оценка по метрике MAE). Спрогнозировать финальную температуру. Проверить MAE на тестовой выборке.\n",
    "\n",
    "\n",
    "- **Пятый шаг.** Оценка эффективности моделей. Общий вывод. "
   ]
  },
  {
   "cell_type": "markdown",
   "metadata": {},
   "source": [
    "## Подготовка данных"
   ]
  },
  {
   "cell_type": "code",
   "execution_count": 334,
   "metadata": {},
   "outputs": [
    {
     "data": {
      "text/html": [
       "<div>\n",
       "<style scoped>\n",
       "    .dataframe tbody tr th:only-of-type {\n",
       "        vertical-align: middle;\n",
       "    }\n",
       "\n",
       "    .dataframe tbody tr th {\n",
       "        vertical-align: top;\n",
       "    }\n",
       "\n",
       "    .dataframe thead th {\n",
       "        text-align: right;\n",
       "    }\n",
       "</style>\n",
       "<table border=\"1\" class=\"dataframe\">\n",
       "  <thead>\n",
       "    <tr style=\"text-align: right;\">\n",
       "      <th></th>\n",
       "      <th>key</th>\n",
       "      <th>Начало нагрева дугой</th>\n",
       "      <th>Конец нагрева дугой</th>\n",
       "      <th>Активная мощность</th>\n",
       "      <th>Реактивная мощность</th>\n",
       "    </tr>\n",
       "  </thead>\n",
       "  <tbody>\n",
       "    <tr>\n",
       "      <th>9780</th>\n",
       "      <td>2116</td>\n",
       "      <td>2019-07-24 00:44:48</td>\n",
       "      <td>2019-07-24 00:46:37</td>\n",
       "      <td>0.495782</td>\n",
       "      <td>-715.504924</td>\n",
       "    </tr>\n",
       "  </tbody>\n",
       "</table>\n",
       "</div>"
      ],
      "text/plain": [
       "       key Начало нагрева дугой  Конец нагрева дугой  Активная мощность  \\\n",
       "9780  2116  2019-07-24 00:44:48  2019-07-24 00:46:37           0.495782   \n",
       "\n",
       "      Реактивная мощность  \n",
       "9780          -715.504924  "
      ]
     },
     "execution_count": 334,
     "metadata": {},
     "output_type": "execute_result"
    }
   ],
   "source": [
    "data_arc.loc[data_arc['Реактивная мощность'] < 0]"
   ]
  },
  {
   "cell_type": "code",
   "execution_count": 335,
   "metadata": {},
   "outputs": [],
   "source": [
    "#заменить аномалию в data_arc\n",
    "data_arc.loc[data_arc['Реактивная мощность'] < 0, 'Реактивная мощность'] = data_arc['Реактивная мощность'].mean()"
   ]
  },
  {
   "cell_type": "code",
   "execution_count": 336,
   "metadata": {},
   "outputs": [
    {
     "data": {
      "text/html": [
       "<div>\n",
       "<style scoped>\n",
       "    .dataframe tbody tr th:only-of-type {\n",
       "        vertical-align: middle;\n",
       "    }\n",
       "\n",
       "    .dataframe tbody tr th {\n",
       "        vertical-align: top;\n",
       "    }\n",
       "\n",
       "    .dataframe thead th {\n",
       "        text-align: right;\n",
       "    }\n",
       "</style>\n",
       "<table border=\"1\" class=\"dataframe\">\n",
       "  <thead>\n",
       "    <tr style=\"text-align: right;\">\n",
       "      <th></th>\n",
       "      <th>key</th>\n",
       "      <th>Активная мощность</th>\n",
       "      <th>Реактивная мощность</th>\n",
       "    </tr>\n",
       "  </thead>\n",
       "  <tbody>\n",
       "    <tr>\n",
       "      <th>count</th>\n",
       "      <td>14876.000000</td>\n",
       "      <td>14876.000000</td>\n",
       "      <td>14876.000000</td>\n",
       "    </tr>\n",
       "    <tr>\n",
       "      <th>mean</th>\n",
       "      <td>1615.220422</td>\n",
       "      <td>0.670441</td>\n",
       "      <td>0.500720</td>\n",
       "    </tr>\n",
       "    <tr>\n",
       "      <th>std</th>\n",
       "      <td>934.571502</td>\n",
       "      <td>0.408159</td>\n",
       "      <td>0.310870</td>\n",
       "    </tr>\n",
       "    <tr>\n",
       "      <th>min</th>\n",
       "      <td>1.000000</td>\n",
       "      <td>0.030002</td>\n",
       "      <td>0.020806</td>\n",
       "    </tr>\n",
       "    <tr>\n",
       "      <th>25%</th>\n",
       "      <td>806.000000</td>\n",
       "      <td>0.395297</td>\n",
       "      <td>0.291008</td>\n",
       "    </tr>\n",
       "    <tr>\n",
       "      <th>50%</th>\n",
       "      <td>1617.000000</td>\n",
       "      <td>0.555517</td>\n",
       "      <td>0.416083</td>\n",
       "    </tr>\n",
       "    <tr>\n",
       "      <th>75%</th>\n",
       "      <td>2429.000000</td>\n",
       "      <td>0.857034</td>\n",
       "      <td>0.637371</td>\n",
       "    </tr>\n",
       "    <tr>\n",
       "      <th>max</th>\n",
       "      <td>3241.000000</td>\n",
       "      <td>3.731596</td>\n",
       "      <td>2.676388</td>\n",
       "    </tr>\n",
       "  </tbody>\n",
       "</table>\n",
       "</div>"
      ],
      "text/plain": [
       "                key  Активная мощность  Реактивная мощность\n",
       "count  14876.000000       14876.000000         14876.000000\n",
       "mean    1615.220422           0.670441             0.500720\n",
       "std      934.571502           0.408159             0.310870\n",
       "min        1.000000           0.030002             0.020806\n",
       "25%      806.000000           0.395297             0.291008\n",
       "50%     1617.000000           0.555517             0.416083\n",
       "75%     2429.000000           0.857034             0.637371\n",
       "max     3241.000000           3.731596             2.676388"
      ]
     },
     "execution_count": 336,
     "metadata": {},
     "output_type": "execute_result"
    }
   ],
   "source": [
    "data_arc.describe()"
   ]
  },
  {
   "cell_type": "code",
   "execution_count": 337,
   "metadata": {},
   "outputs": [
    {
     "data": {
      "text/html": [
       "<div>\n",
       "<style scoped>\n",
       "    .dataframe tbody tr th:only-of-type {\n",
       "        vertical-align: middle;\n",
       "    }\n",
       "\n",
       "    .dataframe tbody tr th {\n",
       "        vertical-align: top;\n",
       "    }\n",
       "\n",
       "    .dataframe thead th {\n",
       "        text-align: right;\n",
       "    }\n",
       "</style>\n",
       "<table border=\"1\" class=\"dataframe\">\n",
       "  <thead>\n",
       "    <tr style=\"text-align: right;\">\n",
       "      <th></th>\n",
       "      <th>sum_active_power</th>\n",
       "      <th>sum_reactive_power</th>\n",
       "    </tr>\n",
       "    <tr>\n",
       "      <th>key</th>\n",
       "      <th></th>\n",
       "      <th></th>\n",
       "    </tr>\n",
       "  </thead>\n",
       "  <tbody>\n",
       "    <tr>\n",
       "      <th>1</th>\n",
       "      <td>4.878147</td>\n",
       "      <td>3.183241</td>\n",
       "    </tr>\n",
       "    <tr>\n",
       "      <th>2</th>\n",
       "      <td>3.052598</td>\n",
       "      <td>1.998112</td>\n",
       "    </tr>\n",
       "    <tr>\n",
       "      <th>3</th>\n",
       "      <td>2.525882</td>\n",
       "      <td>1.599076</td>\n",
       "    </tr>\n",
       "    <tr>\n",
       "      <th>4</th>\n",
       "      <td>3.209250</td>\n",
       "      <td>2.060298</td>\n",
       "    </tr>\n",
       "    <tr>\n",
       "      <th>5</th>\n",
       "      <td>3.347173</td>\n",
       "      <td>2.252643</td>\n",
       "    </tr>\n",
       "  </tbody>\n",
       "</table>\n",
       "</div>"
      ],
      "text/plain": [
       "     sum_active_power  sum_reactive_power\n",
       "key                                      \n",
       "1            4.878147            3.183241\n",
       "2            3.052598            1.998112\n",
       "3            2.525882            1.599076\n",
       "4            3.209250            2.060298\n",
       "5            3.347173            2.252643"
      ]
     },
     "execution_count": 337,
     "metadata": {},
     "output_type": "execute_result"
    }
   ],
   "source": [
    "#группировка данных в таблицу arc по ключу key\n",
    "data_arc.columns = ['key', 'start_time','end_time', 'active_power', 'reactive_power']\n",
    "arc = pd.pivot_table(data_arc,\n",
    "                     values=['active_power','reactive_power'],\n",
    "                     index='key',\n",
    "                     aggfunc={'active_power': np.sum,\n",
    "                              'reactive_power': np.sum})\n",
    "arc.columns = ['sum_active_power','sum_reactive_power']\n",
    "arc.head(5)"
   ]
  },
  {
   "cell_type": "code",
   "execution_count": 338,
   "metadata": {},
   "outputs": [
    {
     "data": {
      "text/html": [
       "<div>\n",
       "<style scoped>\n",
       "    .dataframe tbody tr th:only-of-type {\n",
       "        vertical-align: middle;\n",
       "    }\n",
       "\n",
       "    .dataframe tbody tr th {\n",
       "        vertical-align: top;\n",
       "    }\n",
       "\n",
       "    .dataframe thead th {\n",
       "        text-align: right;\n",
       "    }\n",
       "</style>\n",
       "<table border=\"1\" class=\"dataframe\">\n",
       "  <thead>\n",
       "    <tr style=\"text-align: right;\">\n",
       "      <th></th>\n",
       "      <th>power</th>\n",
       "    </tr>\n",
       "    <tr>\n",
       "      <th>key</th>\n",
       "      <th></th>\n",
       "    </tr>\n",
       "  </thead>\n",
       "  <tbody>\n",
       "    <tr>\n",
       "      <th>1</th>\n",
       "      <td>5.824889</td>\n",
       "    </tr>\n",
       "    <tr>\n",
       "      <th>2</th>\n",
       "      <td>3.648398</td>\n",
       "    </tr>\n",
       "    <tr>\n",
       "      <th>3</th>\n",
       "      <td>2.989502</td>\n",
       "    </tr>\n",
       "    <tr>\n",
       "      <th>4</th>\n",
       "      <td>3.813674</td>\n",
       "    </tr>\n",
       "    <tr>\n",
       "      <th>5</th>\n",
       "      <td>4.034596</td>\n",
       "    </tr>\n",
       "  </tbody>\n",
       "</table>\n",
       "</div>"
      ],
      "text/plain": [
       "        power\n",
       "key          \n",
       "1    5.824889\n",
       "2    3.648398\n",
       "3    2.989502\n",
       "4    3.813674\n",
       "5    4.034596"
      ]
     },
     "execution_count": 338,
     "metadata": {},
     "output_type": "execute_result"
    }
   ],
   "source": [
    "#суммирование общей мощности по формуле геометрической суммы\n",
    "arc['power'] = np.sqrt((arc['sum_active_power'] **2) + (arc['sum_reactive_power'])**2)\n",
    "arc.drop(['sum_active_power', 'sum_reactive_power'], axis=1, inplace=True)\n",
    "arc.head(5)"
   ]
  },
  {
   "cell_type": "code",
   "execution_count": 339,
   "metadata": {},
   "outputs": [
    {
     "data": {
      "text/html": [
       "<div>\n",
       "<style scoped>\n",
       "    .dataframe tbody tr th:only-of-type {\n",
       "        vertical-align: middle;\n",
       "    }\n",
       "\n",
       "    .dataframe tbody tr th {\n",
       "        vertical-align: top;\n",
       "    }\n",
       "\n",
       "    .dataframe thead th {\n",
       "        text-align: right;\n",
       "    }\n",
       "</style>\n",
       "<table border=\"1\" class=\"dataframe\">\n",
       "  <thead>\n",
       "    <tr style=\"text-align: right;\">\n",
       "      <th></th>\n",
       "      <th>key</th>\n",
       "      <th>Bulk 1</th>\n",
       "      <th>Bulk 2</th>\n",
       "      <th>Bulk 3</th>\n",
       "      <th>Bulk 4</th>\n",
       "      <th>Bulk 5</th>\n",
       "      <th>Bulk 6</th>\n",
       "      <th>Bulk 7</th>\n",
       "      <th>Bulk 8</th>\n",
       "      <th>Bulk 9</th>\n",
       "      <th>Bulk 10</th>\n",
       "      <th>Bulk 11</th>\n",
       "      <th>Bulk 12</th>\n",
       "      <th>Bulk 13</th>\n",
       "      <th>Bulk 14</th>\n",
       "      <th>Bulk 15</th>\n",
       "    </tr>\n",
       "  </thead>\n",
       "  <tbody>\n",
       "    <tr>\n",
       "      <th>0</th>\n",
       "      <td>1</td>\n",
       "      <td>NaN</td>\n",
       "      <td>NaN</td>\n",
       "      <td>NaN</td>\n",
       "      <td>43.0</td>\n",
       "      <td>NaN</td>\n",
       "      <td>NaN</td>\n",
       "      <td>NaN</td>\n",
       "      <td>NaN</td>\n",
       "      <td>NaN</td>\n",
       "      <td>NaN</td>\n",
       "      <td>NaN</td>\n",
       "      <td>206.0</td>\n",
       "      <td>NaN</td>\n",
       "      <td>150.0</td>\n",
       "      <td>154.0</td>\n",
       "    </tr>\n",
       "    <tr>\n",
       "      <th>1</th>\n",
       "      <td>2</td>\n",
       "      <td>NaN</td>\n",
       "      <td>NaN</td>\n",
       "      <td>NaN</td>\n",
       "      <td>73.0</td>\n",
       "      <td>NaN</td>\n",
       "      <td>NaN</td>\n",
       "      <td>NaN</td>\n",
       "      <td>NaN</td>\n",
       "      <td>NaN</td>\n",
       "      <td>NaN</td>\n",
       "      <td>NaN</td>\n",
       "      <td>206.0</td>\n",
       "      <td>NaN</td>\n",
       "      <td>149.0</td>\n",
       "      <td>154.0</td>\n",
       "    </tr>\n",
       "    <tr>\n",
       "      <th>2</th>\n",
       "      <td>3</td>\n",
       "      <td>NaN</td>\n",
       "      <td>NaN</td>\n",
       "      <td>NaN</td>\n",
       "      <td>34.0</td>\n",
       "      <td>NaN</td>\n",
       "      <td>NaN</td>\n",
       "      <td>NaN</td>\n",
       "      <td>NaN</td>\n",
       "      <td>NaN</td>\n",
       "      <td>NaN</td>\n",
       "      <td>NaN</td>\n",
       "      <td>205.0</td>\n",
       "      <td>NaN</td>\n",
       "      <td>152.0</td>\n",
       "      <td>153.0</td>\n",
       "    </tr>\n",
       "    <tr>\n",
       "      <th>3</th>\n",
       "      <td>4</td>\n",
       "      <td>NaN</td>\n",
       "      <td>NaN</td>\n",
       "      <td>NaN</td>\n",
       "      <td>81.0</td>\n",
       "      <td>NaN</td>\n",
       "      <td>NaN</td>\n",
       "      <td>NaN</td>\n",
       "      <td>NaN</td>\n",
       "      <td>NaN</td>\n",
       "      <td>NaN</td>\n",
       "      <td>NaN</td>\n",
       "      <td>207.0</td>\n",
       "      <td>NaN</td>\n",
       "      <td>153.0</td>\n",
       "      <td>154.0</td>\n",
       "    </tr>\n",
       "    <tr>\n",
       "      <th>4</th>\n",
       "      <td>5</td>\n",
       "      <td>NaN</td>\n",
       "      <td>NaN</td>\n",
       "      <td>NaN</td>\n",
       "      <td>78.0</td>\n",
       "      <td>NaN</td>\n",
       "      <td>NaN</td>\n",
       "      <td>NaN</td>\n",
       "      <td>NaN</td>\n",
       "      <td>NaN</td>\n",
       "      <td>NaN</td>\n",
       "      <td>NaN</td>\n",
       "      <td>203.0</td>\n",
       "      <td>NaN</td>\n",
       "      <td>151.0</td>\n",
       "      <td>152.0</td>\n",
       "    </tr>\n",
       "  </tbody>\n",
       "</table>\n",
       "</div>"
      ],
      "text/plain": [
       "   key  Bulk 1  Bulk 2  Bulk 3  Bulk 4  Bulk 5  Bulk 6  Bulk 7  Bulk 8  \\\n",
       "0    1     NaN     NaN     NaN    43.0     NaN     NaN     NaN     NaN   \n",
       "1    2     NaN     NaN     NaN    73.0     NaN     NaN     NaN     NaN   \n",
       "2    3     NaN     NaN     NaN    34.0     NaN     NaN     NaN     NaN   \n",
       "3    4     NaN     NaN     NaN    81.0     NaN     NaN     NaN     NaN   \n",
       "4    5     NaN     NaN     NaN    78.0     NaN     NaN     NaN     NaN   \n",
       "\n",
       "   Bulk 9  Bulk 10  Bulk 11  Bulk 12  Bulk 13  Bulk 14  Bulk 15  \n",
       "0     NaN      NaN      NaN    206.0      NaN    150.0    154.0  \n",
       "1     NaN      NaN      NaN    206.0      NaN    149.0    154.0  \n",
       "2     NaN      NaN      NaN    205.0      NaN    152.0    153.0  \n",
       "3     NaN      NaN      NaN    207.0      NaN    153.0    154.0  \n",
       "4     NaN      NaN      NaN    203.0      NaN    151.0    152.0  "
      ]
     },
     "execution_count": 339,
     "metadata": {},
     "output_type": "execute_result"
    }
   ],
   "source": [
    "data_bulk.head(5)"
   ]
  },
  {
   "cell_type": "code",
   "execution_count": 340,
   "metadata": {},
   "outputs": [],
   "source": [
    "#заменить NAN на 0\n",
    "data_bulk = data_bulk.fillna(0)"
   ]
  },
  {
   "cell_type": "code",
   "execution_count": 341,
   "metadata": {},
   "outputs": [],
   "source": [
    "#посчитать сумму всех bulk\n",
    "data_bulk['bulk'] = data_bulk.loc[:, 'Bulk 1':'Bulk 15'].sum(axis=1)\n",
    "data_bulk.drop(data_bulk.loc[:, 'Bulk 1':'Bulk 15'], axis=1, inplace=True)"
   ]
  },
  {
   "cell_type": "code",
   "execution_count": 342,
   "metadata": {},
   "outputs": [
    {
     "data": {
      "text/html": [
       "<div>\n",
       "<style scoped>\n",
       "    .dataframe tbody tr th:only-of-type {\n",
       "        vertical-align: middle;\n",
       "    }\n",
       "\n",
       "    .dataframe tbody tr th {\n",
       "        vertical-align: top;\n",
       "    }\n",
       "\n",
       "    .dataframe thead th {\n",
       "        text-align: right;\n",
       "    }\n",
       "</style>\n",
       "<table border=\"1\" class=\"dataframe\">\n",
       "  <thead>\n",
       "    <tr style=\"text-align: right;\">\n",
       "      <th></th>\n",
       "      <th>key</th>\n",
       "      <th>bulk</th>\n",
       "    </tr>\n",
       "  </thead>\n",
       "  <tbody>\n",
       "    <tr>\n",
       "      <th>0</th>\n",
       "      <td>1</td>\n",
       "      <td>553.0</td>\n",
       "    </tr>\n",
       "    <tr>\n",
       "      <th>1</th>\n",
       "      <td>2</td>\n",
       "      <td>582.0</td>\n",
       "    </tr>\n",
       "    <tr>\n",
       "      <th>2</th>\n",
       "      <td>3</td>\n",
       "      <td>544.0</td>\n",
       "    </tr>\n",
       "    <tr>\n",
       "      <th>3</th>\n",
       "      <td>4</td>\n",
       "      <td>595.0</td>\n",
       "    </tr>\n",
       "    <tr>\n",
       "      <th>4</th>\n",
       "      <td>5</td>\n",
       "      <td>584.0</td>\n",
       "    </tr>\n",
       "  </tbody>\n",
       "</table>\n",
       "</div>"
      ],
      "text/plain": [
       "   key   bulk\n",
       "0    1  553.0\n",
       "1    2  582.0\n",
       "2    3  544.0\n",
       "3    4  595.0\n",
       "4    5  584.0"
      ]
     },
     "execution_count": 342,
     "metadata": {},
     "output_type": "execute_result"
    }
   ],
   "source": [
    "data_bulk.head(5)"
   ]
  },
  {
   "cell_type": "code",
   "execution_count": 343,
   "metadata": {},
   "outputs": [
    {
     "data": {
      "text/html": [
       "<div>\n",
       "<style scoped>\n",
       "    .dataframe tbody tr th:only-of-type {\n",
       "        vertical-align: middle;\n",
       "    }\n",
       "\n",
       "    .dataframe tbody tr th {\n",
       "        vertical-align: top;\n",
       "    }\n",
       "\n",
       "    .dataframe thead th {\n",
       "        text-align: right;\n",
       "    }\n",
       "</style>\n",
       "<table border=\"1\" class=\"dataframe\">\n",
       "  <thead>\n",
       "    <tr style=\"text-align: right;\">\n",
       "      <th></th>\n",
       "      <th>key</th>\n",
       "      <th>Wire 1</th>\n",
       "      <th>Wire 2</th>\n",
       "      <th>Wire 3</th>\n",
       "      <th>Wire 4</th>\n",
       "      <th>Wire 5</th>\n",
       "      <th>Wire 6</th>\n",
       "      <th>Wire 7</th>\n",
       "      <th>Wire 8</th>\n",
       "      <th>Wire 9</th>\n",
       "    </tr>\n",
       "  </thead>\n",
       "  <tbody>\n",
       "    <tr>\n",
       "      <th>0</th>\n",
       "      <td>1</td>\n",
       "      <td>60.059998</td>\n",
       "      <td>NaN</td>\n",
       "      <td>NaN</td>\n",
       "      <td>NaN</td>\n",
       "      <td>NaN</td>\n",
       "      <td>NaN</td>\n",
       "      <td>NaN</td>\n",
       "      <td>NaN</td>\n",
       "      <td>NaN</td>\n",
       "    </tr>\n",
       "    <tr>\n",
       "      <th>1</th>\n",
       "      <td>2</td>\n",
       "      <td>96.052315</td>\n",
       "      <td>NaN</td>\n",
       "      <td>NaN</td>\n",
       "      <td>NaN</td>\n",
       "      <td>NaN</td>\n",
       "      <td>NaN</td>\n",
       "      <td>NaN</td>\n",
       "      <td>NaN</td>\n",
       "      <td>NaN</td>\n",
       "    </tr>\n",
       "    <tr>\n",
       "      <th>2</th>\n",
       "      <td>3</td>\n",
       "      <td>91.160157</td>\n",
       "      <td>NaN</td>\n",
       "      <td>NaN</td>\n",
       "      <td>NaN</td>\n",
       "      <td>NaN</td>\n",
       "      <td>NaN</td>\n",
       "      <td>NaN</td>\n",
       "      <td>NaN</td>\n",
       "      <td>NaN</td>\n",
       "    </tr>\n",
       "    <tr>\n",
       "      <th>3</th>\n",
       "      <td>4</td>\n",
       "      <td>89.063515</td>\n",
       "      <td>NaN</td>\n",
       "      <td>NaN</td>\n",
       "      <td>NaN</td>\n",
       "      <td>NaN</td>\n",
       "      <td>NaN</td>\n",
       "      <td>NaN</td>\n",
       "      <td>NaN</td>\n",
       "      <td>NaN</td>\n",
       "    </tr>\n",
       "    <tr>\n",
       "      <th>4</th>\n",
       "      <td>5</td>\n",
       "      <td>89.238236</td>\n",
       "      <td>9.11456</td>\n",
       "      <td>NaN</td>\n",
       "      <td>NaN</td>\n",
       "      <td>NaN</td>\n",
       "      <td>NaN</td>\n",
       "      <td>NaN</td>\n",
       "      <td>NaN</td>\n",
       "      <td>NaN</td>\n",
       "    </tr>\n",
       "  </tbody>\n",
       "</table>\n",
       "</div>"
      ],
      "text/plain": [
       "   key     Wire 1   Wire 2  Wire 3  Wire 4  Wire 5  Wire 6  Wire 7  Wire 8  \\\n",
       "0    1  60.059998      NaN     NaN     NaN     NaN     NaN     NaN     NaN   \n",
       "1    2  96.052315      NaN     NaN     NaN     NaN     NaN     NaN     NaN   \n",
       "2    3  91.160157      NaN     NaN     NaN     NaN     NaN     NaN     NaN   \n",
       "3    4  89.063515      NaN     NaN     NaN     NaN     NaN     NaN     NaN   \n",
       "4    5  89.238236  9.11456     NaN     NaN     NaN     NaN     NaN     NaN   \n",
       "\n",
       "   Wire 9  \n",
       "0     NaN  \n",
       "1     NaN  \n",
       "2     NaN  \n",
       "3     NaN  \n",
       "4     NaN  "
      ]
     },
     "execution_count": 343,
     "metadata": {},
     "output_type": "execute_result"
    }
   ],
   "source": [
    "data_wire.head(5)"
   ]
  },
  {
   "cell_type": "code",
   "execution_count": 344,
   "metadata": {},
   "outputs": [
    {
     "data": {
      "text/html": [
       "<div>\n",
       "<style scoped>\n",
       "    .dataframe tbody tr th:only-of-type {\n",
       "        vertical-align: middle;\n",
       "    }\n",
       "\n",
       "    .dataframe tbody tr th {\n",
       "        vertical-align: top;\n",
       "    }\n",
       "\n",
       "    .dataframe thead th {\n",
       "        text-align: right;\n",
       "    }\n",
       "</style>\n",
       "<table border=\"1\" class=\"dataframe\">\n",
       "  <thead>\n",
       "    <tr style=\"text-align: right;\">\n",
       "      <th></th>\n",
       "      <th>key</th>\n",
       "      <th>Wire 1</th>\n",
       "      <th>Wire 2</th>\n",
       "      <th>Wire 3</th>\n",
       "      <th>Wire 4</th>\n",
       "      <th>Wire 5</th>\n",
       "      <th>Wire 6</th>\n",
       "      <th>Wire 7</th>\n",
       "      <th>Wire 8</th>\n",
       "      <th>Wire 9</th>\n",
       "    </tr>\n",
       "  </thead>\n",
       "  <tbody>\n",
       "    <tr>\n",
       "      <th>0</th>\n",
       "      <td>1</td>\n",
       "      <td>60.059998</td>\n",
       "      <td>0.00000</td>\n",
       "      <td>0.0</td>\n",
       "      <td>0.0</td>\n",
       "      <td>0.0</td>\n",
       "      <td>0.0</td>\n",
       "      <td>0.0</td>\n",
       "      <td>0.0</td>\n",
       "      <td>0.0</td>\n",
       "    </tr>\n",
       "    <tr>\n",
       "      <th>1</th>\n",
       "      <td>2</td>\n",
       "      <td>96.052315</td>\n",
       "      <td>0.00000</td>\n",
       "      <td>0.0</td>\n",
       "      <td>0.0</td>\n",
       "      <td>0.0</td>\n",
       "      <td>0.0</td>\n",
       "      <td>0.0</td>\n",
       "      <td>0.0</td>\n",
       "      <td>0.0</td>\n",
       "    </tr>\n",
       "    <tr>\n",
       "      <th>2</th>\n",
       "      <td>3</td>\n",
       "      <td>91.160157</td>\n",
       "      <td>0.00000</td>\n",
       "      <td>0.0</td>\n",
       "      <td>0.0</td>\n",
       "      <td>0.0</td>\n",
       "      <td>0.0</td>\n",
       "      <td>0.0</td>\n",
       "      <td>0.0</td>\n",
       "      <td>0.0</td>\n",
       "    </tr>\n",
       "    <tr>\n",
       "      <th>3</th>\n",
       "      <td>4</td>\n",
       "      <td>89.063515</td>\n",
       "      <td>0.00000</td>\n",
       "      <td>0.0</td>\n",
       "      <td>0.0</td>\n",
       "      <td>0.0</td>\n",
       "      <td>0.0</td>\n",
       "      <td>0.0</td>\n",
       "      <td>0.0</td>\n",
       "      <td>0.0</td>\n",
       "    </tr>\n",
       "    <tr>\n",
       "      <th>4</th>\n",
       "      <td>5</td>\n",
       "      <td>89.238236</td>\n",
       "      <td>9.11456</td>\n",
       "      <td>0.0</td>\n",
       "      <td>0.0</td>\n",
       "      <td>0.0</td>\n",
       "      <td>0.0</td>\n",
       "      <td>0.0</td>\n",
       "      <td>0.0</td>\n",
       "      <td>0.0</td>\n",
       "    </tr>\n",
       "  </tbody>\n",
       "</table>\n",
       "</div>"
      ],
      "text/plain": [
       "   key     Wire 1   Wire 2  Wire 3  Wire 4  Wire 5  Wire 6  Wire 7  Wire 8  \\\n",
       "0    1  60.059998  0.00000     0.0     0.0     0.0     0.0     0.0     0.0   \n",
       "1    2  96.052315  0.00000     0.0     0.0     0.0     0.0     0.0     0.0   \n",
       "2    3  91.160157  0.00000     0.0     0.0     0.0     0.0     0.0     0.0   \n",
       "3    4  89.063515  0.00000     0.0     0.0     0.0     0.0     0.0     0.0   \n",
       "4    5  89.238236  9.11456     0.0     0.0     0.0     0.0     0.0     0.0   \n",
       "\n",
       "   Wire 9  \n",
       "0     0.0  \n",
       "1     0.0  \n",
       "2     0.0  \n",
       "3     0.0  \n",
       "4     0.0  "
      ]
     },
     "execution_count": 344,
     "metadata": {},
     "output_type": "execute_result"
    }
   ],
   "source": [
    "#заменить NAN на 0\n",
    "data_wire = data_wire.fillna(0)\n",
    "data_wire.head(5)"
   ]
  },
  {
   "cell_type": "code",
   "execution_count": 345,
   "metadata": {},
   "outputs": [],
   "source": [
    "#посчитать сумму всех wire\n",
    "data_wire['wire'] = data_wire.loc[:, 'Wire 1':'Wire 9'].sum(axis=1)\n",
    "data_wire.drop(data_wire.loc[:, 'Wire 1':'Wire 9'], axis=1, inplace=True)"
   ]
  },
  {
   "cell_type": "code",
   "execution_count": 346,
   "metadata": {},
   "outputs": [
    {
     "data": {
      "text/html": [
       "<div>\n",
       "<style scoped>\n",
       "    .dataframe tbody tr th:only-of-type {\n",
       "        vertical-align: middle;\n",
       "    }\n",
       "\n",
       "    .dataframe tbody tr th {\n",
       "        vertical-align: top;\n",
       "    }\n",
       "\n",
       "    .dataframe thead th {\n",
       "        text-align: right;\n",
       "    }\n",
       "</style>\n",
       "<table border=\"1\" class=\"dataframe\">\n",
       "  <thead>\n",
       "    <tr style=\"text-align: right;\">\n",
       "      <th></th>\n",
       "      <th>key</th>\n",
       "      <th>wire</th>\n",
       "    </tr>\n",
       "  </thead>\n",
       "  <tbody>\n",
       "    <tr>\n",
       "      <th>0</th>\n",
       "      <td>1</td>\n",
       "      <td>60.059998</td>\n",
       "    </tr>\n",
       "    <tr>\n",
       "      <th>1</th>\n",
       "      <td>2</td>\n",
       "      <td>96.052315</td>\n",
       "    </tr>\n",
       "    <tr>\n",
       "      <th>2</th>\n",
       "      <td>3</td>\n",
       "      <td>91.160157</td>\n",
       "    </tr>\n",
       "    <tr>\n",
       "      <th>3</th>\n",
       "      <td>4</td>\n",
       "      <td>89.063515</td>\n",
       "    </tr>\n",
       "    <tr>\n",
       "      <th>4</th>\n",
       "      <td>5</td>\n",
       "      <td>98.352796</td>\n",
       "    </tr>\n",
       "  </tbody>\n",
       "</table>\n",
       "</div>"
      ],
      "text/plain": [
       "   key       wire\n",
       "0    1  60.059998\n",
       "1    2  96.052315\n",
       "2    3  91.160157\n",
       "3    4  89.063515\n",
       "4    5  98.352796"
      ]
     },
     "execution_count": 346,
     "metadata": {},
     "output_type": "execute_result"
    }
   ],
   "source": [
    "data_wire.head(5)"
   ]
  },
  {
   "cell_type": "code",
   "execution_count": 347,
   "metadata": {},
   "outputs": [
    {
     "data": {
      "text/html": [
       "<div>\n",
       "<style scoped>\n",
       "    .dataframe tbody tr th:only-of-type {\n",
       "        vertical-align: middle;\n",
       "    }\n",
       "\n",
       "    .dataframe tbody tr th {\n",
       "        vertical-align: top;\n",
       "    }\n",
       "\n",
       "    .dataframe thead th {\n",
       "        text-align: right;\n",
       "    }\n",
       "</style>\n",
       "<table border=\"1\" class=\"dataframe\">\n",
       "  <thead>\n",
       "    <tr style=\"text-align: right;\">\n",
       "      <th></th>\n",
       "      <th>key</th>\n",
       "      <th>start_time</th>\n",
       "      <th>end_time</th>\n",
       "      <th>active_power</th>\n",
       "      <th>reactive_power</th>\n",
       "    </tr>\n",
       "  </thead>\n",
       "  <tbody>\n",
       "    <tr>\n",
       "      <th>0</th>\n",
       "      <td>1</td>\n",
       "      <td>2019-05-03 11:02:14</td>\n",
       "      <td>2019-05-03 11:06:02</td>\n",
       "      <td>0.976059</td>\n",
       "      <td>0.687084</td>\n",
       "    </tr>\n",
       "    <tr>\n",
       "      <th>1</th>\n",
       "      <td>1</td>\n",
       "      <td>2019-05-03 11:07:28</td>\n",
       "      <td>2019-05-03 11:10:33</td>\n",
       "      <td>0.805607</td>\n",
       "      <td>0.520285</td>\n",
       "    </tr>\n",
       "    <tr>\n",
       "      <th>2</th>\n",
       "      <td>1</td>\n",
       "      <td>2019-05-03 11:11:44</td>\n",
       "      <td>2019-05-03 11:14:36</td>\n",
       "      <td>0.744363</td>\n",
       "      <td>0.498805</td>\n",
       "    </tr>\n",
       "    <tr>\n",
       "      <th>3</th>\n",
       "      <td>1</td>\n",
       "      <td>2019-05-03 11:18:14</td>\n",
       "      <td>2019-05-03 11:24:19</td>\n",
       "      <td>1.659363</td>\n",
       "      <td>1.062669</td>\n",
       "    </tr>\n",
       "    <tr>\n",
       "      <th>4</th>\n",
       "      <td>1</td>\n",
       "      <td>2019-05-03 11:26:09</td>\n",
       "      <td>2019-05-03 11:28:37</td>\n",
       "      <td>0.692755</td>\n",
       "      <td>0.414397</td>\n",
       "    </tr>\n",
       "  </tbody>\n",
       "</table>\n",
       "</div>"
      ],
      "text/plain": [
       "   key           start_time             end_time  active_power  reactive_power\n",
       "0    1  2019-05-03 11:02:14  2019-05-03 11:06:02      0.976059        0.687084\n",
       "1    1  2019-05-03 11:07:28  2019-05-03 11:10:33      0.805607        0.520285\n",
       "2    1  2019-05-03 11:11:44  2019-05-03 11:14:36      0.744363        0.498805\n",
       "3    1  2019-05-03 11:18:14  2019-05-03 11:24:19      1.659363        1.062669\n",
       "4    1  2019-05-03 11:26:09  2019-05-03 11:28:37      0.692755        0.414397"
      ]
     },
     "execution_count": 347,
     "metadata": {},
     "output_type": "execute_result"
    }
   ],
   "source": [
    "data_arc.head(5)"
   ]
  },
  {
   "cell_type": "code",
   "execution_count": 348,
   "metadata": {},
   "outputs": [
    {
     "data": {
      "text/html": [
       "<div>\n",
       "<style scoped>\n",
       "    .dataframe tbody tr th:only-of-type {\n",
       "        vertical-align: middle;\n",
       "    }\n",
       "\n",
       "    .dataframe tbody tr th {\n",
       "        vertical-align: top;\n",
       "    }\n",
       "\n",
       "    .dataframe thead th {\n",
       "        text-align: right;\n",
       "    }\n",
       "</style>\n",
       "<table border=\"1\" class=\"dataframe\">\n",
       "  <thead>\n",
       "    <tr style=\"text-align: right;\">\n",
       "      <th></th>\n",
       "      <th>key</th>\n",
       "      <th>Время замера</th>\n",
       "      <th>Температура</th>\n",
       "    </tr>\n",
       "  </thead>\n",
       "  <tbody>\n",
       "    <tr>\n",
       "      <th>0</th>\n",
       "      <td>1</td>\n",
       "      <td>2019-05-03 11:16:18</td>\n",
       "      <td>1571.0</td>\n",
       "    </tr>\n",
       "    <tr>\n",
       "      <th>1</th>\n",
       "      <td>1</td>\n",
       "      <td>2019-05-03 11:25:53</td>\n",
       "      <td>1604.0</td>\n",
       "    </tr>\n",
       "    <tr>\n",
       "      <th>2</th>\n",
       "      <td>1</td>\n",
       "      <td>2019-05-03 11:29:11</td>\n",
       "      <td>1618.0</td>\n",
       "    </tr>\n",
       "    <tr>\n",
       "      <th>3</th>\n",
       "      <td>1</td>\n",
       "      <td>2019-05-03 11:30:01</td>\n",
       "      <td>1601.0</td>\n",
       "    </tr>\n",
       "    <tr>\n",
       "      <th>4</th>\n",
       "      <td>1</td>\n",
       "      <td>2019-05-03 11:30:39</td>\n",
       "      <td>1613.0</td>\n",
       "    </tr>\n",
       "  </tbody>\n",
       "</table>\n",
       "</div>"
      ],
      "text/plain": [
       "   key         Время замера  Температура\n",
       "0    1  2019-05-03 11:16:18       1571.0\n",
       "1    1  2019-05-03 11:25:53       1604.0\n",
       "2    1  2019-05-03 11:29:11       1618.0\n",
       "3    1  2019-05-03 11:30:01       1601.0\n",
       "4    1  2019-05-03 11:30:39       1613.0"
      ]
     },
     "execution_count": 348,
     "metadata": {},
     "output_type": "execute_result"
    }
   ],
   "source": [
    "data_temp.head(5)"
   ]
  },
  {
   "cell_type": "code",
   "execution_count": 349,
   "metadata": {},
   "outputs": [
    {
     "data": {
      "text/html": [
       "<div>\n",
       "<style scoped>\n",
       "    .dataframe tbody tr th:only-of-type {\n",
       "        vertical-align: middle;\n",
       "    }\n",
       "\n",
       "    .dataframe tbody tr th {\n",
       "        vertical-align: top;\n",
       "    }\n",
       "\n",
       "    .dataframe thead th {\n",
       "        text-align: right;\n",
       "    }\n",
       "</style>\n",
       "<table border=\"1\" class=\"dataframe\">\n",
       "  <thead>\n",
       "    <tr style=\"text-align: right;\">\n",
       "      <th></th>\n",
       "      <th>key</th>\n",
       "      <th>time_stamp</th>\n",
       "      <th>temp</th>\n",
       "    </tr>\n",
       "  </thead>\n",
       "  <tbody>\n",
       "    <tr>\n",
       "      <th>0</th>\n",
       "      <td>1</td>\n",
       "      <td>2019-05-03 11:16:18</td>\n",
       "      <td>1571.0</td>\n",
       "    </tr>\n",
       "    <tr>\n",
       "      <th>1</th>\n",
       "      <td>1</td>\n",
       "      <td>2019-05-03 11:25:53</td>\n",
       "      <td>1604.0</td>\n",
       "    </tr>\n",
       "    <tr>\n",
       "      <th>2</th>\n",
       "      <td>1</td>\n",
       "      <td>2019-05-03 11:29:11</td>\n",
       "      <td>1618.0</td>\n",
       "    </tr>\n",
       "    <tr>\n",
       "      <th>3</th>\n",
       "      <td>1</td>\n",
       "      <td>2019-05-03 11:30:01</td>\n",
       "      <td>1601.0</td>\n",
       "    </tr>\n",
       "    <tr>\n",
       "      <th>4</th>\n",
       "      <td>1</td>\n",
       "      <td>2019-05-03 11:30:39</td>\n",
       "      <td>1613.0</td>\n",
       "    </tr>\n",
       "  </tbody>\n",
       "</table>\n",
       "</div>"
      ],
      "text/plain": [
       "   key           time_stamp    temp\n",
       "0    1  2019-05-03 11:16:18  1571.0\n",
       "1    1  2019-05-03 11:25:53  1604.0\n",
       "2    1  2019-05-03 11:29:11  1618.0\n",
       "3    1  2019-05-03 11:30:01  1601.0\n",
       "4    1  2019-05-03 11:30:39  1613.0"
      ]
     },
     "execution_count": 349,
     "metadata": {},
     "output_type": "execute_result"
    }
   ],
   "source": [
    "data_temp.columns = ['key', 'time_stamp', 'temp']\n",
    "data_temp.head(5)"
   ]
  },
  {
   "cell_type": "code",
   "execution_count": 350,
   "metadata": {},
   "outputs": [
    {
     "name": "stdout",
     "output_type": "stream",
     "text": [
      "<class 'pandas.core.frame.DataFrame'>\n",
      "Int64Index: 15176 entries, 0 to 15906\n",
      "Data columns (total 3 columns):\n",
      "key           15176 non-null int64\n",
      "time_stamp    15176 non-null object\n",
      "temp          12381 non-null float64\n",
      "dtypes: float64(1), int64(1), object(1)\n",
      "memory usage: 474.2+ KB\n"
     ]
    }
   ],
   "source": [
    "#удаление тех партий, у которых только нет финального замера\n",
    "bad_keys = []\n",
    "for key in list(data_temp['key'].unique()):\n",
    "    try:\n",
    "        if ((data_temp[data_temp['key'] == key]['time_stamp'].max() < \n",
    "            data_arc[data_arc['key'] == key]['end_time'].max()) or\n",
    "           (data_temp[data_temp['key'] == key]['time_stamp'].max() == \n",
    "            data_temp[data_temp['key'] == key]['time_stamp'].min())):\n",
    "            bad_keys.append(key)\n",
    "    except:\n",
    "        bad_keys.append(key)\n",
    "\n",
    "data_temp = data_temp.query('key not in @bad_keys')\n",
    "data_temp.info()"
   ]
  },
  {
   "cell_type": "code",
   "execution_count": 351,
   "metadata": {},
   "outputs": [
    {
     "name": "stdout",
     "output_type": "stream",
     "text": [
      "<class 'pandas.core.frame.DataFrame'>\n",
      "Int64Index: 12381 entries, 0 to 15902\n",
      "Data columns (total 3 columns):\n",
      "key           12381 non-null int64\n",
      "time_stamp    12381 non-null object\n",
      "temp          12381 non-null float64\n",
      "dtypes: float64(1), int64(1), object(1)\n",
      "memory usage: 386.9+ KB\n"
     ]
    },
    {
     "data": {
      "text/html": [
       "<div>\n",
       "<style scoped>\n",
       "    .dataframe tbody tr th:only-of-type {\n",
       "        vertical-align: middle;\n",
       "    }\n",
       "\n",
       "    .dataframe tbody tr th {\n",
       "        vertical-align: top;\n",
       "    }\n",
       "\n",
       "    .dataframe thead th {\n",
       "        text-align: right;\n",
       "    }\n",
       "</style>\n",
       "<table border=\"1\" class=\"dataframe\">\n",
       "  <thead>\n",
       "    <tr style=\"text-align: right;\">\n",
       "      <th></th>\n",
       "      <th>key</th>\n",
       "      <th>time_stamp</th>\n",
       "      <th>temp</th>\n",
       "    </tr>\n",
       "  </thead>\n",
       "  <tbody>\n",
       "    <tr>\n",
       "      <th>0</th>\n",
       "      <td>1</td>\n",
       "      <td>2019-05-03 11:16:18</td>\n",
       "      <td>1571.0</td>\n",
       "    </tr>\n",
       "    <tr>\n",
       "      <th>1</th>\n",
       "      <td>1</td>\n",
       "      <td>2019-05-03 11:25:53</td>\n",
       "      <td>1604.0</td>\n",
       "    </tr>\n",
       "    <tr>\n",
       "      <th>2</th>\n",
       "      <td>1</td>\n",
       "      <td>2019-05-03 11:29:11</td>\n",
       "      <td>1618.0</td>\n",
       "    </tr>\n",
       "    <tr>\n",
       "      <th>3</th>\n",
       "      <td>1</td>\n",
       "      <td>2019-05-03 11:30:01</td>\n",
       "      <td>1601.0</td>\n",
       "    </tr>\n",
       "    <tr>\n",
       "      <th>4</th>\n",
       "      <td>1</td>\n",
       "      <td>2019-05-03 11:30:39</td>\n",
       "      <td>1613.0</td>\n",
       "    </tr>\n",
       "  </tbody>\n",
       "</table>\n",
       "</div>"
      ],
      "text/plain": [
       "   key           time_stamp    temp\n",
       "0    1  2019-05-03 11:16:18  1571.0\n",
       "1    1  2019-05-03 11:25:53  1604.0\n",
       "2    1  2019-05-03 11:29:11  1618.0\n",
       "3    1  2019-05-03 11:30:01  1601.0\n",
       "4    1  2019-05-03 11:30:39  1613.0"
      ]
     },
     "execution_count": 351,
     "metadata": {},
     "output_type": "execute_result"
    }
   ],
   "source": [
    "#удаление пропусков\n",
    "data_temp = data_temp.dropna()\n",
    "data_temp.info()\n",
    "data_temp.head(5)"
   ]
  },
  {
   "cell_type": "code",
   "execution_count": 352,
   "metadata": {},
   "outputs": [
    {
     "data": {
      "text/plain": [
       "701"
      ]
     },
     "execution_count": 352,
     "metadata": {},
     "output_type": "execute_result"
    }
   ],
   "source": [
    "#количество партий, у которых менее двух замеров\n",
    "count_of_bad_keys = (data_temp['key'].value_counts() < 2).sum()\n",
    "count_of_bad_keys"
   ]
  },
  {
   "cell_type": "code",
   "execution_count": 353,
   "metadata": {},
   "outputs": [],
   "source": [
    "#удаление партий, с количеством замеров менее 2\n",
    "good_keys = list(data_temp['key'].value_counts().index[:-count_of_bad_keys])\n",
    "data_temp = data_temp.query('key in @good_keys')"
   ]
  },
  {
   "cell_type": "code",
   "execution_count": 354,
   "metadata": {},
   "outputs": [
    {
     "data": {
      "text/html": [
       "<div>\n",
       "<style scoped>\n",
       "    .dataframe tbody tr th:only-of-type {\n",
       "        vertical-align: middle;\n",
       "    }\n",
       "\n",
       "    .dataframe tbody tr th {\n",
       "        vertical-align: top;\n",
       "    }\n",
       "\n",
       "    .dataframe thead th {\n",
       "        text-align: right;\n",
       "    }\n",
       "</style>\n",
       "<table border=\"1\" class=\"dataframe\">\n",
       "  <thead>\n",
       "    <tr style=\"text-align: right;\">\n",
       "      <th></th>\n",
       "      <th>amax</th>\n",
       "      <th>amin</th>\n",
       "    </tr>\n",
       "    <tr>\n",
       "      <th>key</th>\n",
       "      <th></th>\n",
       "      <th></th>\n",
       "    </tr>\n",
       "  </thead>\n",
       "  <tbody>\n",
       "    <tr>\n",
       "      <th>1</th>\n",
       "      <td>2019-05-03 11:30:39</td>\n",
       "      <td>2019-05-03 11:16:18</td>\n",
       "    </tr>\n",
       "    <tr>\n",
       "      <th>2</th>\n",
       "      <td>2019-05-03 11:59:12</td>\n",
       "      <td>2019-05-03 11:37:27</td>\n",
       "    </tr>\n",
       "    <tr>\n",
       "      <th>3</th>\n",
       "      <td>2019-05-03 12:34:57</td>\n",
       "      <td>2019-05-03 12:13:17</td>\n",
       "    </tr>\n",
       "    <tr>\n",
       "      <th>4</th>\n",
       "      <td>2019-05-03 12:59:25</td>\n",
       "      <td>2019-05-03 12:52:57</td>\n",
       "    </tr>\n",
       "    <tr>\n",
       "      <th>5</th>\n",
       "      <td>2019-05-03 13:36:01</td>\n",
       "      <td>2019-05-03 13:23:19</td>\n",
       "    </tr>\n",
       "  </tbody>\n",
       "</table>\n",
       "</div>"
      ],
      "text/plain": [
       "                    amax                 amin\n",
       "key                                          \n",
       "1    2019-05-03 11:30:39  2019-05-03 11:16:18\n",
       "2    2019-05-03 11:59:12  2019-05-03 11:37:27\n",
       "3    2019-05-03 12:34:57  2019-05-03 12:13:17\n",
       "4    2019-05-03 12:59:25  2019-05-03 12:52:57\n",
       "5    2019-05-03 13:36:01  2019-05-03 13:23:19"
      ]
     },
     "execution_count": 354,
     "metadata": {},
     "output_type": "execute_result"
    }
   ],
   "source": [
    "#промежуточная таблица для времени\n",
    "temp = pd.pivot_table(data_temp,\n",
    "                      values='time_stamp',\n",
    "                      index='key',\n",
    "                      aggfunc={'time_stamp': [np.min, np.max]})\n",
    "temp.head(5)"
   ]
  },
  {
   "cell_type": "code",
   "execution_count": 355,
   "metadata": {},
   "outputs": [
    {
     "data": {
      "text/html": [
       "<div>\n",
       "<style scoped>\n",
       "    .dataframe tbody tr th:only-of-type {\n",
       "        vertical-align: middle;\n",
       "    }\n",
       "\n",
       "    .dataframe tbody tr th {\n",
       "        vertical-align: top;\n",
       "    }\n",
       "\n",
       "    .dataframe thead th {\n",
       "        text-align: right;\n",
       "    }\n",
       "</style>\n",
       "<table border=\"1\" class=\"dataframe\">\n",
       "  <thead>\n",
       "    <tr style=\"text-align: right;\">\n",
       "      <th></th>\n",
       "      <th>start_temp</th>\n",
       "      <th>end_temp</th>\n",
       "    </tr>\n",
       "    <tr>\n",
       "      <th>key</th>\n",
       "      <th></th>\n",
       "      <th></th>\n",
       "    </tr>\n",
       "  </thead>\n",
       "  <tbody>\n",
       "    <tr>\n",
       "      <th>1</th>\n",
       "      <td>1571.0</td>\n",
       "      <td>1613.0</td>\n",
       "    </tr>\n",
       "    <tr>\n",
       "      <th>2</th>\n",
       "      <td>1581.0</td>\n",
       "      <td>1602.0</td>\n",
       "    </tr>\n",
       "    <tr>\n",
       "      <th>3</th>\n",
       "      <td>1596.0</td>\n",
       "      <td>1599.0</td>\n",
       "    </tr>\n",
       "    <tr>\n",
       "      <th>4</th>\n",
       "      <td>1601.0</td>\n",
       "      <td>1625.0</td>\n",
       "    </tr>\n",
       "    <tr>\n",
       "      <th>5</th>\n",
       "      <td>1576.0</td>\n",
       "      <td>1602.0</td>\n",
       "    </tr>\n",
       "  </tbody>\n",
       "</table>\n",
       "</div>"
      ],
      "text/plain": [
       "     start_temp  end_temp\n",
       "key                      \n",
       "1        1571.0    1613.0\n",
       "2        1581.0    1602.0\n",
       "3        1596.0    1599.0\n",
       "4        1601.0    1625.0\n",
       "5        1576.0    1602.0"
      ]
     },
     "execution_count": 355,
     "metadata": {},
     "output_type": "execute_result"
    }
   ],
   "source": [
    "#срез данных для температуры\n",
    "\n",
    "start_time_list = list(temp['amin'])\n",
    "end_time_list = list(temp['amax'])\n",
    "data_temp_start_temp = data_temp.query('time_stamp in @start_time_list ')\n",
    "data_temp_start_temp = data_temp_start_temp.set_index('key')\n",
    "data_temp_end_temp = data_temp.query('time_stamp in @end_time_list ')\n",
    "data_temp_end_temp = data_temp_end_temp.set_index('key')\n",
    "\n",
    "time = data_temp_start_temp.copy()\n",
    "time.columns = ['time_stamp','start_temp']\n",
    "time['end_temp'] = data_temp_end_temp['temp']\n",
    "time = time.drop('time_stamp', axis=1)\n",
    "time.head()"
   ]
  },
  {
   "cell_type": "code",
   "execution_count": 356,
   "metadata": {},
   "outputs": [],
   "source": [
    "#объединение arc, data_bulk, data_wire, time, data_gas ( где index равен key)\n",
    "data_bulk = data_bulk.set_index('key')\n",
    "data_gas = data_gas.set_index('key')\n",
    "data_gas.columns = ['gas']\n",
    "data_wire = data_wire.set_index('key')\n",
    "\n",
    "data = pd.concat([arc, data_bulk, data_gas, data_wire, time], axis=1, sort=False)"
   ]
  },
  {
   "cell_type": "code",
   "execution_count": 357,
   "metadata": {},
   "outputs": [
    {
     "data": {
      "text/html": [
       "<div>\n",
       "<style scoped>\n",
       "    .dataframe tbody tr th:only-of-type {\n",
       "        vertical-align: middle;\n",
       "    }\n",
       "\n",
       "    .dataframe tbody tr th {\n",
       "        vertical-align: top;\n",
       "    }\n",
       "\n",
       "    .dataframe thead th {\n",
       "        text-align: right;\n",
       "    }\n",
       "</style>\n",
       "<table border=\"1\" class=\"dataframe\">\n",
       "  <thead>\n",
       "    <tr style=\"text-align: right;\">\n",
       "      <th></th>\n",
       "      <th>power</th>\n",
       "      <th>bulk</th>\n",
       "      <th>gas</th>\n",
       "      <th>wire</th>\n",
       "      <th>start_temp</th>\n",
       "      <th>end_temp</th>\n",
       "    </tr>\n",
       "    <tr>\n",
       "      <th>key</th>\n",
       "      <th></th>\n",
       "      <th></th>\n",
       "      <th></th>\n",
       "      <th></th>\n",
       "      <th></th>\n",
       "      <th></th>\n",
       "    </tr>\n",
       "  </thead>\n",
       "  <tbody>\n",
       "    <tr>\n",
       "      <th>1</th>\n",
       "      <td>5.824889</td>\n",
       "      <td>553.0</td>\n",
       "      <td>29.749986</td>\n",
       "      <td>60.059998</td>\n",
       "      <td>1571.0</td>\n",
       "      <td>1613.0</td>\n",
       "    </tr>\n",
       "    <tr>\n",
       "      <th>2</th>\n",
       "      <td>3.648398</td>\n",
       "      <td>582.0</td>\n",
       "      <td>12.555561</td>\n",
       "      <td>96.052315</td>\n",
       "      <td>1581.0</td>\n",
       "      <td>1602.0</td>\n",
       "    </tr>\n",
       "    <tr>\n",
       "      <th>3</th>\n",
       "      <td>2.989502</td>\n",
       "      <td>544.0</td>\n",
       "      <td>28.554793</td>\n",
       "      <td>91.160157</td>\n",
       "      <td>1596.0</td>\n",
       "      <td>1599.0</td>\n",
       "    </tr>\n",
       "    <tr>\n",
       "      <th>4</th>\n",
       "      <td>3.813674</td>\n",
       "      <td>595.0</td>\n",
       "      <td>18.841219</td>\n",
       "      <td>89.063515</td>\n",
       "      <td>1601.0</td>\n",
       "      <td>1625.0</td>\n",
       "    </tr>\n",
       "    <tr>\n",
       "      <th>5</th>\n",
       "      <td>4.034596</td>\n",
       "      <td>584.0</td>\n",
       "      <td>5.413692</td>\n",
       "      <td>98.352796</td>\n",
       "      <td>1576.0</td>\n",
       "      <td>1602.0</td>\n",
       "    </tr>\n",
       "  </tbody>\n",
       "</table>\n",
       "</div>"
      ],
      "text/plain": [
       "        power   bulk        gas       wire  start_temp  end_temp\n",
       "key                                                             \n",
       "1    5.824889  553.0  29.749986  60.059998      1571.0    1613.0\n",
       "2    3.648398  582.0  12.555561  96.052315      1581.0    1602.0\n",
       "3    2.989502  544.0  28.554793  91.160157      1596.0    1599.0\n",
       "4    3.813674  595.0  18.841219  89.063515      1601.0    1625.0\n",
       "5    4.034596  584.0   5.413692  98.352796      1576.0    1602.0"
      ]
     },
     "execution_count": 357,
     "metadata": {},
     "output_type": "execute_result"
    }
   ],
   "source": [
    "#удалить партии, в которых нет температуры\n",
    "data = data.dropna(subset=['end_temp'])\n",
    "data.head(5)"
   ]
  },
  {
   "cell_type": "code",
   "execution_count": 358,
   "metadata": {},
   "outputs": [
    {
     "name": "stdout",
     "output_type": "stream",
     "text": [
      "<class 'pandas.core.frame.DataFrame'>\n",
      "Int64Index: 2344 entries, 1 to 2499\n",
      "Data columns (total 6 columns):\n",
      "power         2344 non-null float64\n",
      "bulk          2283 non-null float64\n",
      "gas           2342 non-null float64\n",
      "wire          2250 non-null float64\n",
      "start_temp    2344 non-null float64\n",
      "end_temp      2344 non-null float64\n",
      "dtypes: float64(6)\n",
      "memory usage: 128.2 KB\n"
     ]
    }
   ],
   "source": [
    "data.info()"
   ]
  },
  {
   "cell_type": "code",
   "execution_count": 359,
   "metadata": {},
   "outputs": [
    {
     "data": {
      "text/plain": [
       "power          0\n",
       "bulk          61\n",
       "gas            2\n",
       "wire          94\n",
       "start_temp     0\n",
       "end_temp       0\n",
       "dtype: int64"
      ]
     },
     "execution_count": 359,
     "metadata": {},
     "output_type": "execute_result"
    }
   ],
   "source": [
    "data.isna().sum()"
   ]
  },
  {
   "cell_type": "code",
   "execution_count": 360,
   "metadata": {},
   "outputs": [],
   "source": [
    "#замена пропусков на 0\n",
    "data = data.fillna(0)"
   ]
  },
  {
   "cell_type": "code",
   "execution_count": 361,
   "metadata": {},
   "outputs": [
    {
     "name": "stdout",
     "output_type": "stream",
     "text": [
      "<class 'pandas.core.frame.DataFrame'>\n",
      "Int64Index: 2344 entries, 1 to 2499\n",
      "Data columns (total 6 columns):\n",
      "power         2344 non-null float64\n",
      "bulk          2344 non-null int32\n",
      "gas           2344 non-null float64\n",
      "wire          2344 non-null float64\n",
      "start_temp    2344 non-null int32\n",
      "end_temp      2344 non-null int32\n",
      "dtypes: float64(3), int32(3)\n",
      "memory usage: 100.7 KB\n"
     ]
    }
   ],
   "source": [
    "#изменение типов данных на корректные\n",
    "data['start_temp'] = data['start_temp'].astype('int')\n",
    "data['end_temp'] = data['end_temp'].astype('int')\n",
    "data['bulk'] = data['bulk'].astype('int')\n",
    "data.info()"
   ]
  },
  {
   "cell_type": "code",
   "execution_count": 362,
   "metadata": {},
   "outputs": [
    {
     "data": {
      "text/plain": [
       "<matplotlib.axes._subplots.AxesSubplot at 0x20b1a1cfda0>"
      ]
     },
     "execution_count": 362,
     "metadata": {},
     "output_type": "execute_result"
    },
    {
     "data": {
      "image/png": "[encoded data removed]",
      "text/plain": [
       "<Figure size 1152x720 with 1 Axes>"
      ]
     },
     "metadata": {
      "needs_background": "light"
     },
     "output_type": "display_data"
    }
   ],
   "source": [
    "#проверка целевого признака\n",
    "data.boxplot(column='end_temp', figsize=(16,10))"
   ]
  },
  {
   "cell_type": "code",
   "execution_count": 363,
   "metadata": {},
   "outputs": [
    {
     "data": {
      "text/plain": [
       "<matplotlib.axes._subplots.AxesSubplot at 0x20b1b511048>"
      ]
     },
     "execution_count": 363,
     "metadata": {},
     "output_type": "execute_result"
    },
    {
     "data": {
      "image/png": "[encoded data removed]",
      "text/plain": [
       "<Figure size 1152x720 with 1 Axes>"
      ]
     },
     "metadata": {
      "needs_background": "light"
     },
     "output_type": "display_data"
    }
   ],
   "source": [
    "data = data.query('end_temp.quantile(0.2) < end_temp < end_temp.quantile(0.95)')\n",
    "data.boxplot(column='end_temp', figsize=(16,10))"
   ]
  },
  {
   "cell_type": "code",
   "execution_count": 364,
   "metadata": {},
   "outputs": [
    {
     "name": "stdout",
     "output_type": "stream",
     "text": [
      "<class 'pandas.core.frame.DataFrame'>\n",
      "Int64Index: 1692 entries, 1 to 2499\n",
      "Data columns (total 6 columns):\n",
      "power         1692 non-null float64\n",
      "bulk          1692 non-null int32\n",
      "gas           1692 non-null float64\n",
      "wire          1692 non-null float64\n",
      "start_temp    1692 non-null int32\n",
      "end_temp      1692 non-null int32\n",
      "dtypes: float64(3), int32(3)\n",
      "memory usage: 72.7 KB\n"
     ]
    }
   ],
   "source": [
    "data.info()"
   ]
  },
  {
   "cell_type": "code",
   "execution_count": 365,
   "metadata": {},
   "outputs": [
    {
     "data": {
      "text/html": [
       "<div>\n",
       "<style scoped>\n",
       "    .dataframe tbody tr th:only-of-type {\n",
       "        vertical-align: middle;\n",
       "    }\n",
       "\n",
       "    .dataframe tbody tr th {\n",
       "        vertical-align: top;\n",
       "    }\n",
       "\n",
       "    .dataframe thead th {\n",
       "        text-align: right;\n",
       "    }\n",
       "</style>\n",
       "<table border=\"1\" class=\"dataframe\">\n",
       "  <thead>\n",
       "    <tr style=\"text-align: right;\">\n",
       "      <th></th>\n",
       "      <th>power</th>\n",
       "      <th>bulk</th>\n",
       "      <th>gas</th>\n",
       "      <th>wire</th>\n",
       "      <th>start_temp</th>\n",
       "      <th>end_temp</th>\n",
       "    </tr>\n",
       "    <tr>\n",
       "      <th>key</th>\n",
       "      <th></th>\n",
       "      <th></th>\n",
       "      <th></th>\n",
       "      <th></th>\n",
       "      <th></th>\n",
       "      <th></th>\n",
       "    </tr>\n",
       "  </thead>\n",
       "  <tbody>\n",
       "    <tr>\n",
       "      <th>1</th>\n",
       "      <td>5.824889</td>\n",
       "      <td>553</td>\n",
       "      <td>29.749986</td>\n",
       "      <td>60.059998</td>\n",
       "      <td>1571</td>\n",
       "      <td>1613</td>\n",
       "    </tr>\n",
       "    <tr>\n",
       "      <th>2</th>\n",
       "      <td>3.648398</td>\n",
       "      <td>582</td>\n",
       "      <td>12.555561</td>\n",
       "      <td>96.052315</td>\n",
       "      <td>1581</td>\n",
       "      <td>1602</td>\n",
       "    </tr>\n",
       "    <tr>\n",
       "      <th>3</th>\n",
       "      <td>2.989502</td>\n",
       "      <td>544</td>\n",
       "      <td>28.554793</td>\n",
       "      <td>91.160157</td>\n",
       "      <td>1596</td>\n",
       "      <td>1599</td>\n",
       "    </tr>\n",
       "    <tr>\n",
       "      <th>5</th>\n",
       "      <td>4.034596</td>\n",
       "      <td>584</td>\n",
       "      <td>5.413692</td>\n",
       "      <td>98.352796</td>\n",
       "      <td>1576</td>\n",
       "      <td>1602</td>\n",
       "    </tr>\n",
       "    <tr>\n",
       "      <th>6</th>\n",
       "      <td>4.782734</td>\n",
       "      <td>676</td>\n",
       "      <td>11.273392</td>\n",
       "      <td>108.224477</td>\n",
       "      <td>1543</td>\n",
       "      <td>1596</td>\n",
       "    </tr>\n",
       "    <tr>\n",
       "      <th>7</th>\n",
       "      <td>2.987769</td>\n",
       "      <td>627</td>\n",
       "      <td>9.836267</td>\n",
       "      <td>98.061600</td>\n",
       "      <td>1586</td>\n",
       "      <td>1599</td>\n",
       "    </tr>\n",
       "    <tr>\n",
       "      <th>8</th>\n",
       "      <td>4.620007</td>\n",
       "      <td>914</td>\n",
       "      <td>15.171553</td>\n",
       "      <td>155.282394</td>\n",
       "      <td>1577</td>\n",
       "      <td>1598</td>\n",
       "    </tr>\n",
       "    <tr>\n",
       "      <th>9</th>\n",
       "      <td>2.553622</td>\n",
       "      <td>526</td>\n",
       "      <td>8.216623</td>\n",
       "      <td>122.536960</td>\n",
       "      <td>1587</td>\n",
       "      <td>1592</td>\n",
       "    </tr>\n",
       "    <tr>\n",
       "      <th>10</th>\n",
       "      <td>3.844237</td>\n",
       "      <td>509</td>\n",
       "      <td>6.529891</td>\n",
       "      <td>93.620796</td>\n",
       "      <td>1574</td>\n",
       "      <td>1593</td>\n",
       "    </tr>\n",
       "    <tr>\n",
       "      <th>12</th>\n",
       "      <td>3.348368</td>\n",
       "      <td>1307</td>\n",
       "      <td>11.026259</td>\n",
       "      <td>153.578873</td>\n",
       "      <td>1606</td>\n",
       "      <td>1591</td>\n",
       "    </tr>\n",
       "  </tbody>\n",
       "</table>\n",
       "</div>"
      ],
      "text/plain": [
       "        power  bulk        gas        wire  start_temp  end_temp\n",
       "key                                                             \n",
       "1    5.824889   553  29.749986   60.059998        1571      1613\n",
       "2    3.648398   582  12.555561   96.052315        1581      1602\n",
       "3    2.989502   544  28.554793   91.160157        1596      1599\n",
       "5    4.034596   584   5.413692   98.352796        1576      1602\n",
       "6    4.782734   676  11.273392  108.224477        1543      1596\n",
       "7    2.987769   627   9.836267   98.061600        1586      1599\n",
       "8    4.620007   914  15.171553  155.282394        1577      1598\n",
       "9    2.553622   526   8.216623  122.536960        1587      1592\n",
       "10   3.844237   509   6.529891   93.620796        1574      1593\n",
       "12   3.348368  1307  11.026259  153.578873        1606      1591"
      ]
     },
     "execution_count": 365,
     "metadata": {},
     "output_type": "execute_result"
    }
   ],
   "source": [
    "data.head(10)"
   ]
  },
  {
   "cell_type": "code",
   "execution_count": 366,
   "metadata": {},
   "outputs": [
    {
     "data": {
      "text/html": [
       "<div>\n",
       "<style scoped>\n",
       "    .dataframe tbody tr th:only-of-type {\n",
       "        vertical-align: middle;\n",
       "    }\n",
       "\n",
       "    .dataframe tbody tr th {\n",
       "        vertical-align: top;\n",
       "    }\n",
       "\n",
       "    .dataframe thead th {\n",
       "        text-align: right;\n",
       "    }\n",
       "</style>\n",
       "<table border=\"1\" class=\"dataframe\">\n",
       "  <thead>\n",
       "    <tr style=\"text-align: right;\">\n",
       "      <th></th>\n",
       "      <th>power</th>\n",
       "      <th>bulk</th>\n",
       "      <th>gas</th>\n",
       "      <th>wire</th>\n",
       "      <th>start_temp</th>\n",
       "      <th>end_temp</th>\n",
       "    </tr>\n",
       "  </thead>\n",
       "  <tbody>\n",
       "    <tr>\n",
       "      <th>power</th>\n",
       "      <td>1.000000</td>\n",
       "      <td>0.579023</td>\n",
       "      <td>0.364502</td>\n",
       "      <td>0.058551</td>\n",
       "      <td>-0.360931</td>\n",
       "      <td>0.335783</td>\n",
       "    </tr>\n",
       "    <tr>\n",
       "      <th>bulk</th>\n",
       "      <td>0.579023</td>\n",
       "      <td>1.000000</td>\n",
       "      <td>0.324398</td>\n",
       "      <td>0.004251</td>\n",
       "      <td>-0.126053</td>\n",
       "      <td>0.213580</td>\n",
       "    </tr>\n",
       "    <tr>\n",
       "      <th>gas</th>\n",
       "      <td>0.364502</td>\n",
       "      <td>0.324398</td>\n",
       "      <td>1.000000</td>\n",
       "      <td>0.195636</td>\n",
       "      <td>0.026452</td>\n",
       "      <td>0.130077</td>\n",
       "    </tr>\n",
       "    <tr>\n",
       "      <th>wire</th>\n",
       "      <td>0.058551</td>\n",
       "      <td>0.004251</td>\n",
       "      <td>0.195636</td>\n",
       "      <td>1.000000</td>\n",
       "      <td>0.077246</td>\n",
       "      <td>0.000996</td>\n",
       "    </tr>\n",
       "    <tr>\n",
       "      <th>start_temp</th>\n",
       "      <td>-0.360931</td>\n",
       "      <td>-0.126053</td>\n",
       "      <td>0.026452</td>\n",
       "      <td>0.077246</td>\n",
       "      <td>1.000000</td>\n",
       "      <td>0.132538</td>\n",
       "    </tr>\n",
       "    <tr>\n",
       "      <th>end_temp</th>\n",
       "      <td>0.335783</td>\n",
       "      <td>0.213580</td>\n",
       "      <td>0.130077</td>\n",
       "      <td>0.000996</td>\n",
       "      <td>0.132538</td>\n",
       "      <td>1.000000</td>\n",
       "    </tr>\n",
       "  </tbody>\n",
       "</table>\n",
       "</div>"
      ],
      "text/plain": [
       "               power      bulk       gas      wire  start_temp  end_temp\n",
       "power       1.000000  0.579023  0.364502  0.058551   -0.360931  0.335783\n",
       "bulk        0.579023  1.000000  0.324398  0.004251   -0.126053  0.213580\n",
       "gas         0.364502  0.324398  1.000000  0.195636    0.026452  0.130077\n",
       "wire        0.058551  0.004251  0.195636  1.000000    0.077246  0.000996\n",
       "start_temp -0.360931 -0.126053  0.026452  0.077246    1.000000  0.132538\n",
       "end_temp    0.335783  0.213580  0.130077  0.000996    0.132538  1.000000"
      ]
     },
     "execution_count": 366,
     "metadata": {},
     "output_type": "execute_result"
    }
   ],
   "source": [
    "data.corr()"
   ]
  },
  {
   "cell_type": "code",
   "execution_count": 367,
   "metadata": {},
   "outputs": [
    {
     "data": {
      "text/plain": [
       "power         0.335783\n",
       "bulk          0.213580\n",
       "gas           0.130077\n",
       "wire          0.000996\n",
       "start_temp    0.132538\n",
       "end_temp      1.000000\n",
       "Name: end_temp, dtype: float64"
      ]
     },
     "execution_count": 367,
     "metadata": {},
     "output_type": "execute_result"
    }
   ],
   "source": [
    "#проверка корреляции\n",
    "data.corr()['end_temp'] "
   ]
  },
  {
   "cell_type": "markdown",
   "metadata": {},
   "source": [
    "У столбца wire корреляция по отношению к целевому признаку близка к 0. Если значение близко к нулю, значит связь слабая, либо отсутствует вовсе и можно удалить wire."
   ]
  },
  {
   "cell_type": "code",
   "execution_count": 368,
   "metadata": {},
   "outputs": [
    {
     "name": "stdout",
     "output_type": "stream",
     "text": [
      "<class 'pandas.core.frame.DataFrame'>\n",
      "Int64Index: 1692 entries, 1 to 2499\n",
      "Data columns (total 5 columns):\n",
      "power         1692 non-null float64\n",
      "bulk          1692 non-null int32\n",
      "gas           1692 non-null float64\n",
      "start_temp    1692 non-null int32\n",
      "end_temp      1692 non-null int32\n",
      "dtypes: float64(2), int32(3)\n",
      "memory usage: 59.5 KB\n"
     ]
    }
   ],
   "source": [
    "data.drop('wire', axis=1, inplace=True)\n",
    "data.info()"
   ]
  },
  {
   "cell_type": "markdown",
   "metadata": {},
   "source": [
    "**Вывод:**\n",
    "\n",
    "В ходе подготовки данных удалось посчитать общую мощность, суммировать bulk и wire, избавиться от пропусков и аномалий, изменить типы данных на корректные, определить номера партий, у которых есть замеры по температуре и избавиться от партий, у которых только одно измерение температуры. Выполнена группировка по признаку key и объединение таблиц в одну. Данные очищены от выбросов. Данные готовы для дальнейшего обучения моделей."
   ]
  },
  {
   "cell_type": "markdown",
   "metadata": {},
   "source": [
    "## Обучение моделей"
   ]
  },
  {
   "cell_type": "code",
   "execution_count": 369,
   "metadata": {},
   "outputs": [],
   "source": [
    "features = data.drop('end_temp', axis=1)\n",
    "target = data['end_temp']\n",
    "\n",
    "features_train, features_test, target_train, target_test = train_test_split(features, target, test_size=0.25, random_state=12345)"
   ]
  },
  {
   "cell_type": "markdown",
   "metadata": {},
   "source": [
    "### CatBoostRegressor"
   ]
  },
  {
   "cell_type": "code",
   "execution_count": 370,
   "metadata": {},
   "outputs": [
    {
     "name": "stdout",
     "output_type": "stream",
     "text": [
      "Mean MAE from CV of CatBoostRegressor: 5.18566521508423\n",
      "{'nan_mode': 'Min', 'eval_metric': 'RMSE', 'iterations': 1000, 'sampling_frequency': 'PerTree', 'leaf_estimation_method': 'Newton', 'grow_policy': 'SymmetricTree', 'penalties_coefficient': 1, 'boosting_type': 'Plain', 'model_shrink_mode': 'Constant', 'feature_border_type': 'GreedyLogSum', 'bayesian_matrix_reg': 0.10000000149011612, 'force_unit_auto_pair_weights': False, 'l2_leaf_reg': 3, 'random_strength': 1, 'rsm': 1, 'boost_from_average': True, 'model_size_reg': 0.5, 'pool_metainfo_options': {'tags': {}}, 'subsample': 0.800000011920929, 'use_best_model': False, 'random_seed': 12345, 'depth': 6, 'posterior_sampling': False, 'border_count': 254, 'classes_count': 0, 'auto_class_weights': 'None', 'sparse_features_conflict_fraction': 0, 'leaf_estimation_backtracking': 'AnyImprovement', 'best_model_min_trees': 1, 'model_shrink_rate': 0, 'min_data_in_leaf': 1, 'loss_function': 'RMSE', 'learning_rate': 0.04251300171017647, 'score_function': 'Cosine', 'task_type': 'CPU', 'leaf_estimation_iterations': 1, 'bootstrap_type': 'MVS', 'max_leaves': 64}\n"
     ]
    }
   ],
   "source": [
    "regressor = CatBoostRegressor(verbose=False, random_state=12345)\n",
    "cv_MAE_CBR = (cross_val_score(regressor, \n",
    "                             features_train, \n",
    "                             target_train, \n",
    "                             cv=5, \n",
    "                             scoring='neg_mean_absolute_error').mean() * -1)\n",
    "best_params_CBR = CatBoostRegressor(verbose=False, random_state=12345).fit(features_train, target_train).get_all_params()\n",
    "print('Mean MAE from CV of CatBoostRegressor:', cv_MAE_CBR)\n",
    "print(best_params_CBR)"
   ]
  },
  {
   "cell_type": "code",
   "execution_count": 371,
   "metadata": {},
   "outputs": [
    {
     "name": "stdout",
     "output_type": "stream",
     "text": [
      "# Tuning hyper-parameters for mean_absolute_error\n",
      "\n",
      "Best parameters set found on development set:\n",
      "\n",
      "{'learning_rate': 0.02, 'num_leaves': 19, 'random_state': 12345}\n",
      "\n",
      "Grid scores on development set:\n",
      "\n",
      "5.220510 for {'learning_rate': 0.01, 'num_leaves': 10, 'random_state': 12345}\n",
      "5.220461 for {'learning_rate': 0.01, 'num_leaves': 11, 'random_state': 12345}\n",
      "5.208744 for {'learning_rate': 0.01, 'num_leaves': 12, 'random_state': 12345}\n",
      "5.205444 for {'learning_rate': 0.01, 'num_leaves': 13, 'random_state': 12345}\n",
      "5.193512 for {'learning_rate': 0.01, 'num_leaves': 14, 'random_state': 12345}\n",
      "5.188094 for {'learning_rate': 0.01, 'num_leaves': 15, 'random_state': 12345}\n",
      "5.182525 for {'learning_rate': 0.01, 'num_leaves': 16, 'random_state': 12345}\n",
      "5.176054 for {'learning_rate': 0.01, 'num_leaves': 17, 'random_state': 12345}\n",
      "5.171651 for {'learning_rate': 0.01, 'num_leaves': 18, 'random_state': 12345}\n",
      "5.163749 for {'learning_rate': 0.01, 'num_leaves': 19, 'random_state': 12345}\n",
      "5.167404 for {'learning_rate': 0.01, 'num_leaves': 20, 'random_state': 12345}\n",
      "5.162200 for {'learning_rate': 0.01, 'num_leaves': 21, 'random_state': 12345}\n",
      "5.162450 for {'learning_rate': 0.01, 'num_leaves': 22, 'random_state': 12345}\n",
      "5.161787 for {'learning_rate': 0.01, 'num_leaves': 23, 'random_state': 12345}\n",
      "5.160691 for {'learning_rate': 0.01, 'num_leaves': 24, 'random_state': 12345}\n",
      "5.158008 for {'learning_rate': 0.01, 'num_leaves': 25, 'random_state': 12345}\n",
      "5.155315 for {'learning_rate': 0.01, 'num_leaves': 26, 'random_state': 12345}\n",
      "5.152627 for {'learning_rate': 0.01, 'num_leaves': 27, 'random_state': 12345}\n",
      "5.148783 for {'learning_rate': 0.01, 'num_leaves': 28, 'random_state': 12345}\n",
      "5.148069 for {'learning_rate': 0.01, 'num_leaves': 29, 'random_state': 12345}\n",
      "5.147531 for {'learning_rate': 0.01, 'num_leaves': 30, 'random_state': 12345}\n",
      "5.084206 for {'learning_rate': 0.02, 'num_leaves': 10, 'random_state': 12345}\n",
      "5.082179 for {'learning_rate': 0.02, 'num_leaves': 11, 'random_state': 12345}\n",
      "5.082811 for {'learning_rate': 0.02, 'num_leaves': 12, 'random_state': 12345}\n",
      "5.081846 for {'learning_rate': 0.02, 'num_leaves': 13, 'random_state': 12345}\n",
      "5.078598 for {'learning_rate': 0.02, 'num_leaves': 14, 'random_state': 12345}\n",
      "5.071512 for {'learning_rate': 0.02, 'num_leaves': 15, 'random_state': 12345}\n",
      "5.069232 for {'learning_rate': 0.02, 'num_leaves': 16, 'random_state': 12345}\n",
      "5.059865 for {'learning_rate': 0.02, 'num_leaves': 17, 'random_state': 12345}\n",
      "5.056429 for {'learning_rate': 0.02, 'num_leaves': 18, 'random_state': 12345}\n",
      "5.045713 for {'learning_rate': 0.02, 'num_leaves': 19, 'random_state': 12345}\n",
      "5.053404 for {'learning_rate': 0.02, 'num_leaves': 20, 'random_state': 12345}\n",
      "5.057352 for {'learning_rate': 0.02, 'num_leaves': 21, 'random_state': 12345}\n",
      "5.055101 for {'learning_rate': 0.02, 'num_leaves': 22, 'random_state': 12345}\n",
      "5.062653 for {'learning_rate': 0.02, 'num_leaves': 23, 'random_state': 12345}\n",
      "5.065328 for {'learning_rate': 0.02, 'num_leaves': 24, 'random_state': 12345}\n",
      "5.067289 for {'learning_rate': 0.02, 'num_leaves': 25, 'random_state': 12345}\n",
      "5.067738 for {'learning_rate': 0.02, 'num_leaves': 26, 'random_state': 12345}\n",
      "5.073924 for {'learning_rate': 0.02, 'num_leaves': 27, 'random_state': 12345}\n",
      "5.069420 for {'learning_rate': 0.02, 'num_leaves': 28, 'random_state': 12345}\n",
      "5.074790 for {'learning_rate': 0.02, 'num_leaves': 29, 'random_state': 12345}\n",
      "5.074584 for {'learning_rate': 0.02, 'num_leaves': 30, 'random_state': 12345}\n",
      "5.065113 for {'learning_rate': 0.03, 'num_leaves': 10, 'random_state': 12345}\n",
      "5.066641 for {'learning_rate': 0.03, 'num_leaves': 11, 'random_state': 12345}\n",
      "5.056259 for {'learning_rate': 0.03, 'num_leaves': 12, 'random_state': 12345}\n",
      "5.062057 for {'learning_rate': 0.03, 'num_leaves': 13, 'random_state': 12345}\n",
      "5.059286 for {'learning_rate': 0.03, 'num_leaves': 14, 'random_state': 12345}\n",
      "5.076221 for {'learning_rate': 0.03, 'num_leaves': 15, 'random_state': 12345}\n",
      "5.065451 for {'learning_rate': 0.03, 'num_leaves': 16, 'random_state': 12345}\n",
      "5.054986 for {'learning_rate': 0.03, 'num_leaves': 17, 'random_state': 12345}\n",
      "5.059183 for {'learning_rate': 0.03, 'num_leaves': 18, 'random_state': 12345}\n",
      "5.058149 for {'learning_rate': 0.03, 'num_leaves': 19, 'random_state': 12345}\n",
      "5.046400 for {'learning_rate': 0.03, 'num_leaves': 20, 'random_state': 12345}\n",
      "5.078688 for {'learning_rate': 0.03, 'num_leaves': 21, 'random_state': 12345}\n",
      "5.082339 for {'learning_rate': 0.03, 'num_leaves': 22, 'random_state': 12345}\n",
      "5.080846 for {'learning_rate': 0.03, 'num_leaves': 23, 'random_state': 12345}\n",
      "5.088429 for {'learning_rate': 0.03, 'num_leaves': 24, 'random_state': 12345}\n",
      "5.105782 for {'learning_rate': 0.03, 'num_leaves': 25, 'random_state': 12345}\n",
      "5.097096 for {'learning_rate': 0.03, 'num_leaves': 26, 'random_state': 12345}\n",
      "5.098202 for {'learning_rate': 0.03, 'num_leaves': 27, 'random_state': 12345}\n",
      "5.102415 for {'learning_rate': 0.03, 'num_leaves': 28, 'random_state': 12345}\n",
      "5.097842 for {'learning_rate': 0.03, 'num_leaves': 29, 'random_state': 12345}\n",
      "5.110626 for {'learning_rate': 0.03, 'num_leaves': 30, 'random_state': 12345}\n",
      "5.064955 for {'learning_rate': 0.04, 'num_leaves': 10, 'random_state': 12345}\n",
      "5.052201 for {'learning_rate': 0.04, 'num_leaves': 11, 'random_state': 12345}\n",
      "5.078335 for {'learning_rate': 0.04, 'num_leaves': 12, 'random_state': 12345}\n",
      "5.082031 for {'learning_rate': 0.04, 'num_leaves': 13, 'random_state': 12345}\n",
      "5.086072 for {'learning_rate': 0.04, 'num_leaves': 14, 'random_state': 12345}\n",
      "5.078872 for {'learning_rate': 0.04, 'num_leaves': 15, 'random_state': 12345}\n",
      "5.073985 for {'learning_rate': 0.04, 'num_leaves': 16, 'random_state': 12345}\n",
      "5.077403 for {'learning_rate': 0.04, 'num_leaves': 17, 'random_state': 12345}\n",
      "5.081041 for {'learning_rate': 0.04, 'num_leaves': 18, 'random_state': 12345}\n",
      "5.084971 for {'learning_rate': 0.04, 'num_leaves': 19, 'random_state': 12345}\n",
      "5.090761 for {'learning_rate': 0.04, 'num_leaves': 20, 'random_state': 12345}\n",
      "5.086589 for {'learning_rate': 0.04, 'num_leaves': 21, 'random_state': 12345}\n",
      "5.097901 for {'learning_rate': 0.04, 'num_leaves': 22, 'random_state': 12345}\n",
      "5.098542 for {'learning_rate': 0.04, 'num_leaves': 23, 'random_state': 12345}\n",
      "5.107503 for {'learning_rate': 0.04, 'num_leaves': 24, 'random_state': 12345}\n",
      "5.114989 for {'learning_rate': 0.04, 'num_leaves': 25, 'random_state': 12345}\n",
      "5.142638 for {'learning_rate': 0.04, 'num_leaves': 26, 'random_state': 12345}\n",
      "5.141368 for {'learning_rate': 0.04, 'num_leaves': 27, 'random_state': 12345}\n",
      "5.163128 for {'learning_rate': 0.04, 'num_leaves': 28, 'random_state': 12345}\n",
      "5.173964 for {'learning_rate': 0.04, 'num_leaves': 29, 'random_state': 12345}\n",
      "5.166575 for {'learning_rate': 0.04, 'num_leaves': 30, 'random_state': 12345}\n",
      "5.076635 for {'learning_rate': 0.05, 'num_leaves': 10, 'random_state': 12345}\n",
      "5.075561 for {'learning_rate': 0.05, 'num_leaves': 11, 'random_state': 12345}\n",
      "5.093618 for {'learning_rate': 0.05, 'num_leaves': 12, 'random_state': 12345}\n",
      "5.090446 for {'learning_rate': 0.05, 'num_leaves': 13, 'random_state': 12345}\n",
      "5.099807 for {'learning_rate': 0.05, 'num_leaves': 14, 'random_state': 12345}\n",
      "5.087010 for {'learning_rate': 0.05, 'num_leaves': 15, 'random_state': 12345}\n",
      "5.112894 for {'learning_rate': 0.05, 'num_leaves': 16, 'random_state': 12345}\n",
      "5.113744 for {'learning_rate': 0.05, 'num_leaves': 17, 'random_state': 12345}\n",
      "5.095521 for {'learning_rate': 0.05, 'num_leaves': 18, 'random_state': 12345}\n",
      "5.092245 for {'learning_rate': 0.05, 'num_leaves': 19, 'random_state': 12345}\n",
      "5.149906 for {'learning_rate': 0.05, 'num_leaves': 20, 'random_state': 12345}\n",
      "5.135128 for {'learning_rate': 0.05, 'num_leaves': 21, 'random_state': 12345}\n",
      "5.137367 for {'learning_rate': 0.05, 'num_leaves': 22, 'random_state': 12345}\n",
      "5.133081 for {'learning_rate': 0.05, 'num_leaves': 23, 'random_state': 12345}\n",
      "5.151619 for {'learning_rate': 0.05, 'num_leaves': 24, 'random_state': 12345}\n",
      "5.194032 for {'learning_rate': 0.05, 'num_leaves': 25, 'random_state': 12345}\n",
      "5.185239 for {'learning_rate': 0.05, 'num_leaves': 26, 'random_state': 12345}\n",
      "5.199917 for {'learning_rate': 0.05, 'num_leaves': 27, 'random_state': 12345}\n",
      "5.186784 for {'learning_rate': 0.05, 'num_leaves': 28, 'random_state': 12345}\n",
      "5.194182 for {'learning_rate': 0.05, 'num_leaves': 29, 'random_state': 12345}\n",
      "5.232677 for {'learning_rate': 0.05, 'num_leaves': 30, 'random_state': 12345}\n",
      "5.090152 for {'learning_rate': 0.06, 'num_leaves': 10, 'random_state': 12345}\n",
      "5.089960 for {'learning_rate': 0.06, 'num_leaves': 11, 'random_state': 12345}\n",
      "5.071625 for {'learning_rate': 0.06, 'num_leaves': 12, 'random_state': 12345}\n",
      "5.101926 for {'learning_rate': 0.06, 'num_leaves': 13, 'random_state': 12345}\n",
      "5.090858 for {'learning_rate': 0.06, 'num_leaves': 14, 'random_state': 12345}\n",
      "5.115894 for {'learning_rate': 0.06, 'num_leaves': 15, 'random_state': 12345}\n",
      "5.123738 for {'learning_rate': 0.06, 'num_leaves': 16, 'random_state': 12345}\n",
      "5.131618 for {'learning_rate': 0.06, 'num_leaves': 17, 'random_state': 12345}\n",
      "5.128007 for {'learning_rate': 0.06, 'num_leaves': 18, 'random_state': 12345}\n",
      "5.129530 for {'learning_rate': 0.06, 'num_leaves': 19, 'random_state': 12345}\n",
      "5.156787 for {'learning_rate': 0.06, 'num_leaves': 20, 'random_state': 12345}\n",
      "5.163936 for {'learning_rate': 0.06, 'num_leaves': 21, 'random_state': 12345}\n",
      "5.171696 for {'learning_rate': 0.06, 'num_leaves': 22, 'random_state': 12345}\n",
      "5.196990 for {'learning_rate': 0.06, 'num_leaves': 23, 'random_state': 12345}\n",
      "5.202411 for {'learning_rate': 0.06, 'num_leaves': 24, 'random_state': 12345}\n",
      "5.211457 for {'learning_rate': 0.06, 'num_leaves': 25, 'random_state': 12345}\n",
      "5.201725 for {'learning_rate': 0.06, 'num_leaves': 26, 'random_state': 12345}\n",
      "5.231753 for {'learning_rate': 0.06, 'num_leaves': 27, 'random_state': 12345}\n",
      "5.238083 for {'learning_rate': 0.06, 'num_leaves': 28, 'random_state': 12345}\n",
      "5.237326 for {'learning_rate': 0.06, 'num_leaves': 29, 'random_state': 12345}\n",
      "5.245659 for {'learning_rate': 0.06, 'num_leaves': 30, 'random_state': 12345}\n",
      "5.123158 for {'learning_rate': 0.07, 'num_leaves': 10, 'random_state': 12345}\n",
      "5.102827 for {'learning_rate': 0.07, 'num_leaves': 11, 'random_state': 12345}\n",
      "5.119230 for {'learning_rate': 0.07, 'num_leaves': 12, 'random_state': 12345}\n",
      "5.125601 for {'learning_rate': 0.07, 'num_leaves': 13, 'random_state': 12345}\n",
      "5.129043 for {'learning_rate': 0.07, 'num_leaves': 14, 'random_state': 12345}\n",
      "5.158016 for {'learning_rate': 0.07, 'num_leaves': 15, 'random_state': 12345}\n",
      "5.147689 for {'learning_rate': 0.07, 'num_leaves': 16, 'random_state': 12345}\n",
      "5.161881 for {'learning_rate': 0.07, 'num_leaves': 17, 'random_state': 12345}\n",
      "5.171586 for {'learning_rate': 0.07, 'num_leaves': 18, 'random_state': 12345}\n",
      "5.157770 for {'learning_rate': 0.07, 'num_leaves': 19, 'random_state': 12345}\n",
      "5.176242 for {'learning_rate': 0.07, 'num_leaves': 20, 'random_state': 12345}\n",
      "5.187476 for {'learning_rate': 0.07, 'num_leaves': 21, 'random_state': 12345}\n",
      "5.222191 for {'learning_rate': 0.07, 'num_leaves': 22, 'random_state': 12345}\n",
      "5.215991 for {'learning_rate': 0.07, 'num_leaves': 23, 'random_state': 12345}\n",
      "5.239796 for {'learning_rate': 0.07, 'num_leaves': 24, 'random_state': 12345}\n",
      "5.258456 for {'learning_rate': 0.07, 'num_leaves': 25, 'random_state': 12345}\n",
      "5.266477 for {'learning_rate': 0.07, 'num_leaves': 26, 'random_state': 12345}\n",
      "5.253549 for {'learning_rate': 0.07, 'num_leaves': 27, 'random_state': 12345}\n",
      "5.269420 for {'learning_rate': 0.07, 'num_leaves': 28, 'random_state': 12345}\n",
      "5.285170 for {'learning_rate': 0.07, 'num_leaves': 29, 'random_state': 12345}\n",
      "5.302491 for {'learning_rate': 0.07, 'num_leaves': 30, 'random_state': 12345}\n",
      "5.106211 for {'learning_rate': 0.08, 'num_leaves': 10, 'random_state': 12345}\n",
      "5.115403 for {'learning_rate': 0.08, 'num_leaves': 11, 'random_state': 12345}\n",
      "5.135329 for {'learning_rate': 0.08, 'num_leaves': 12, 'random_state': 12345}\n",
      "5.148377 for {'learning_rate': 0.08, 'num_leaves': 13, 'random_state': 12345}\n",
      "5.137552 for {'learning_rate': 0.08, 'num_leaves': 14, 'random_state': 12345}\n",
      "5.149777 for {'learning_rate': 0.08, 'num_leaves': 15, 'random_state': 12345}\n",
      "5.184620 for {'learning_rate': 0.08, 'num_leaves': 16, 'random_state': 12345}\n",
      "5.182777 for {'learning_rate': 0.08, 'num_leaves': 17, 'random_state': 12345}\n",
      "5.213252 for {'learning_rate': 0.08, 'num_leaves': 18, 'random_state': 12345}\n",
      "5.205172 for {'learning_rate': 0.08, 'num_leaves': 19, 'random_state': 12345}\n",
      "5.204060 for {'learning_rate': 0.08, 'num_leaves': 20, 'random_state': 12345}\n",
      "5.237554 for {'learning_rate': 0.08, 'num_leaves': 21, 'random_state': 12345}\n",
      "5.236639 for {'learning_rate': 0.08, 'num_leaves': 22, 'random_state': 12345}\n",
      "5.259740 for {'learning_rate': 0.08, 'num_leaves': 23, 'random_state': 12345}\n",
      "5.254515 for {'learning_rate': 0.08, 'num_leaves': 24, 'random_state': 12345}\n",
      "5.294303 for {'learning_rate': 0.08, 'num_leaves': 25, 'random_state': 12345}\n",
      "5.306142 for {'learning_rate': 0.08, 'num_leaves': 26, 'random_state': 12345}\n",
      "5.278730 for {'learning_rate': 0.08, 'num_leaves': 27, 'random_state': 12345}\n",
      "5.318388 for {'learning_rate': 0.08, 'num_leaves': 28, 'random_state': 12345}\n",
      "5.327215 for {'learning_rate': 0.08, 'num_leaves': 29, 'random_state': 12345}\n",
      "5.351128 for {'learning_rate': 0.08, 'num_leaves': 30, 'random_state': 12345}\n",
      "5.129844 for {'learning_rate': 0.09, 'num_leaves': 10, 'random_state': 12345}\n",
      "5.145612 for {'learning_rate': 0.09, 'num_leaves': 11, 'random_state': 12345}\n",
      "5.161682 for {'learning_rate': 0.09, 'num_leaves': 12, 'random_state': 12345}\n",
      "5.196896 for {'learning_rate': 0.09, 'num_leaves': 13, 'random_state': 12345}\n",
      "5.152157 for {'learning_rate': 0.09, 'num_leaves': 14, 'random_state': 12345}\n",
      "5.197833 for {'learning_rate': 0.09, 'num_leaves': 15, 'random_state': 12345}\n",
      "5.190354 for {'learning_rate': 0.09, 'num_leaves': 16, 'random_state': 12345}\n",
      "5.238709 for {'learning_rate': 0.09, 'num_leaves': 17, 'random_state': 12345}\n",
      "5.227995 for {'learning_rate': 0.09, 'num_leaves': 18, 'random_state': 12345}\n",
      "5.250400 for {'learning_rate': 0.09, 'num_leaves': 19, 'random_state': 12345}\n",
      "5.247513 for {'learning_rate': 0.09, 'num_leaves': 20, 'random_state': 12345}\n",
      "5.289472 for {'learning_rate': 0.09, 'num_leaves': 21, 'random_state': 12345}\n",
      "5.301047 for {'learning_rate': 0.09, 'num_leaves': 22, 'random_state': 12345}\n",
      "5.286566 for {'learning_rate': 0.09, 'num_leaves': 23, 'random_state': 12345}\n",
      "5.317588 for {'learning_rate': 0.09, 'num_leaves': 24, 'random_state': 12345}\n",
      "5.317758 for {'learning_rate': 0.09, 'num_leaves': 25, 'random_state': 12345}\n",
      "5.335438 for {'learning_rate': 0.09, 'num_leaves': 26, 'random_state': 12345}\n",
      "5.335506 for {'learning_rate': 0.09, 'num_leaves': 27, 'random_state': 12345}\n",
      "5.327274 for {'learning_rate': 0.09, 'num_leaves': 28, 'random_state': 12345}\n",
      "5.325162 for {'learning_rate': 0.09, 'num_leaves': 29, 'random_state': 12345}\n",
      "5.351886 for {'learning_rate': 0.09, 'num_leaves': 30, 'random_state': 12345}\n",
      "5.162583 for {'learning_rate': 0.1, 'num_leaves': 10, 'random_state': 12345}\n",
      "5.187769 for {'learning_rate': 0.1, 'num_leaves': 11, 'random_state': 12345}\n",
      "5.185495 for {'learning_rate': 0.1, 'num_leaves': 12, 'random_state': 12345}\n",
      "5.177820 for {'learning_rate': 0.1, 'num_leaves': 13, 'random_state': 12345}\n",
      "5.242234 for {'learning_rate': 0.1, 'num_leaves': 14, 'random_state': 12345}\n",
      "5.228650 for {'learning_rate': 0.1, 'num_leaves': 15, 'random_state': 12345}\n",
      "5.220201 for {'learning_rate': 0.1, 'num_leaves': 16, 'random_state': 12345}\n",
      "5.228668 for {'learning_rate': 0.1, 'num_leaves': 17, 'random_state': 12345}\n",
      "5.233135 for {'learning_rate': 0.1, 'num_leaves': 18, 'random_state': 12345}\n",
      "5.280982 for {'learning_rate': 0.1, 'num_leaves': 19, 'random_state': 12345}\n",
      "5.262056 for {'learning_rate': 0.1, 'num_leaves': 20, 'random_state': 12345}\n",
      "5.293742 for {'learning_rate': 0.1, 'num_leaves': 21, 'random_state': 12345}\n",
      "5.289740 for {'learning_rate': 0.1, 'num_leaves': 22, 'random_state': 12345}\n",
      "5.341781 for {'learning_rate': 0.1, 'num_leaves': 23, 'random_state': 12345}\n",
      "5.346418 for {'learning_rate': 0.1, 'num_leaves': 24, 'random_state': 12345}\n",
      "5.337349 for {'learning_rate': 0.1, 'num_leaves': 25, 'random_state': 12345}\n",
      "5.333389 for {'learning_rate': 0.1, 'num_leaves': 26, 'random_state': 12345}\n",
      "5.337822 for {'learning_rate': 0.1, 'num_leaves': 27, 'random_state': 12345}\n",
      "5.342808 for {'learning_rate': 0.1, 'num_leaves': 28, 'random_state': 12345}\n",
      "5.383329 for {'learning_rate': 0.1, 'num_leaves': 29, 'random_state': 12345}\n",
      "5.384773 for {'learning_rate': 0.1, 'num_leaves': 30, 'random_state': 12345}\n",
      "\n"
     ]
    }
   ],
   "source": [
    "regressor = LGBMRegressor() \n",
    "hyperparams = [{'num_leaves':[x for x in range(10,31)], \n",
    "                'learning_rate':[x/100 for x in range(1, 11)],\n",
    "                'random_state':[12345]}]\n",
    "print('# Tuning hyper-parameters for mean_absolute_error')\n",
    "print()\n",
    "clf = GridSearchCV(regressor, hyperparams, scoring='neg_mean_absolute_error', cv=5)\n",
    "clf.fit(features_train, target_train)\n",
    "print(\"Best parameters set found on development set:\")\n",
    "print()\n",
    "best_params_LGBMR = clf.best_params_\n",
    "print(clf.best_params_)\n",
    "print()\n",
    "print(\"Grid scores on development set:\")\n",
    "print()\n",
    "means = clf.cv_results_['mean_test_score']\n",
    "stds = clf.cv_results_['std_test_score']\n",
    "for mean, std, params in zip(means, stds, clf.cv_results_['params']):\n",
    "    print(\"%0.6f for %r\"% ((mean*-1), params))\n",
    "print()\n",
    "\n",
    "cv_MAE_LGBMR = (max(means)*-1)"
   ]
  },
  {
   "cell_type": "markdown",
   "metadata": {},
   "source": [
    "**Вывод:**\n",
    "\n",
    "Были выбраны и обучены модели: CatBoostRegressor, LGBMRegressor. Определены наилучшие гиперпараметры для моделей."
   ]
  },
  {
   "cell_type": "markdown",
   "metadata": {},
   "source": [
    "## Тестирование моделей"
   ]
  },
  {
   "cell_type": "markdown",
   "metadata": {},
   "source": [
    "### CatBoostRegressor (test)"
   ]
  },
  {
   "cell_type": "code",
   "execution_count": 418,
   "metadata": {},
   "outputs": [
    {
     "name": "stdout",
     "output_type": "stream",
     "text": [
      "MAE on test of CatBoostRegressor: 4.924997884317072\n"
     ]
    }
   ],
   "source": [
    "model = CatBoostRegressor(verbose=False)\n",
    "model.set_params(**best_params_CBR)\n",
    "model.fit(features_train, target_train)\n",
    "target_predict = model.predict(features_test)\n",
    "MAE_CBR = mean_absolute_error(target_predict, target_test)\n",
    "print('MAE on test of CatBoostRegressor:', MAE_CBR)"
   ]
  },
  {
   "cell_type": "code",
   "execution_count": 419,
   "metadata": {},
   "outputs": [
    {
     "data": {
      "text/plain": [
       "array([31.92289491, 20.11221234, 18.15652382, 29.80836893])"
      ]
     },
     "execution_count": 419,
     "metadata": {},
     "output_type": "execute_result"
    }
   ],
   "source": [
    "model.feature_importances_"
   ]
  },
  {
   "cell_type": "code",
   "execution_count": 420,
   "metadata": {},
   "outputs": [],
   "source": [
    "def plot_feature_importance(importance,names,model_type):\n",
    "    \n",
    "    feature_importance = np.array(importance)\n",
    "    feature_names = np.array(names)\n",
    "    data={'feature_names':feature_names,'feature_importance':feature_importance}\n",
    "    fi_df = pd.DataFrame(data)\n",
    "    fi_df.sort_values(by=['feature_importance'], ascending=False,inplace=True)\n",
    "    \n",
    "    plt.figure(figsize=(10,8))\n",
    "    sns.barplot(x=fi_df['feature_importance'], y=fi_df['feature_names'])\n",
    "    plt.title(model_type + 'FEATURE IMPORTANCE')\n",
    "    plt.xlabel('FEATURE IMPORTANCE')\n",
    "    plt.ylabel('FEATURE NAMES')"
   ]
  },
  {
   "cell_type": "code",
   "execution_count": 422,
   "metadata": {},
   "outputs": [
    {
     "data": {
      "image/png": "[encoded data removed]",
      "text/plain": [
       "<Figure size 720x576 with 1 Axes>"
      ]
     },
     "metadata": {
      "needs_background": "light"
     },
     "output_type": "display_data"
    }
   ],
   "source": [
    "plot_feature_importance(model.feature_importances_,features_train.columns,'CATBOOST ')"
   ]
  },
  {
   "cell_type": "markdown",
   "metadata": {},
   "source": [
    "### LGBMRegressor (test)"
   ]
  },
  {
   "cell_type": "code",
   "execution_count": 423,
   "metadata": {},
   "outputs": [
    {
     "name": "stdout",
     "output_type": "stream",
     "text": [
      "MAE on test of LGBMRegressor: 4.79352519444651\n"
     ]
    }
   ],
   "source": [
    "model = LGBMRegressor()\n",
    "model.set_params(**best_params_LGBMR)\n",
    "model.fit(features_train, target_train)\n",
    "target_predict = model.predict(features_test)\n",
    "MAE_LGBMR = mean_absolute_error(target_predict, target_test)\n",
    "print('MAE on test of LGBMRegressor:', MAE_LGBMR)"
   ]
  },
  {
   "cell_type": "code",
   "execution_count": 424,
   "metadata": {},
   "outputs": [
    {
     "data": {
      "text/plain": [
       "array([510, 408, 316, 566])"
      ]
     },
     "execution_count": 424,
     "metadata": {},
     "output_type": "execute_result"
    }
   ],
   "source": [
    "model.feature_importances_"
   ]
  },
  {
   "cell_type": "code",
   "execution_count": 425,
   "metadata": {},
   "outputs": [
    {
     "data": {
      "image/png": "[encoded data removed]",
      "text/plain": [
       "<Figure size 720x576 with 1 Axes>"
      ]
     },
     "metadata": {
      "needs_background": "light"
     },
     "output_type": "display_data"
    }
   ],
   "source": [
    "plot_feature_importance(model.feature_importances_,features_train.columns,'LGBM ')"
   ]
  },
  {
   "cell_type": "markdown",
   "metadata": {},
   "source": [
    "**Вывод:**\n",
    "\n",
    "Лучший результат на тестовой выборке показала модель LGBMRegressor с метрикой MAE равной 4.79"
   ]
  },
  {
   "cell_type": "markdown",
   "metadata": {},
   "source": [
    "# Общий вывод"
   ]
  },
  {
   "cell_type": "markdown",
   "metadata": {},
   "source": [
    "Во время работы над проектом были выполнены следующие этапы:\n",
    "\n",
    "- Проведен исследовательский анализ данных. Просмотрено содержимое всех файлов, проверены типы данных, сделана проверка на дубликаты, выполнен поиск пропусков. Обнаружены некорректные типы данных, аномалия в виде отрицательного значения в таблице data_arc, большое количество пропусков в таблицах data_bulk и data_wire и дубликаты в таблице data_arc.\n",
    "- Данные были обработаны и подготовлены. Посчитана общая мощность, просуммированы столбцы и у data_wire, и у data_bulk. Изменены типы данных на корректные, пропуски заменены на 0, аномалия заменена на среднее. Удалены партии, у которых только одно измерение температуры. Выполнена группировка по признаку key и объединение таблиц в одну. Данные очищены от выбросов. По причине слабой корреляции был удален столбец wire.\n",
    "- Подготовлены признаки для обучения. Выделен целевой признак end_temp как самый последний замер температуры. Данные разбиты на обучающую и тестовую выборки в соотношении 75:25.\n",
    "- Выбраны модели для обучения. Подобраны наилучшие параметры на кросс-валидации и проверены на метрике MAE. \n",
    "- Эффективность моделей оценена на тестовой выборке, построены графики с рейтингом факторов по силе влияния на целевой признак, выбрана модель LGBMRegressor с лучшим результатом метрики MAE = 4.79. "
   ]
  },
  {
   "cell_type": "markdown",
   "metadata": {},
   "source": [
    "# Отчёт"
   ]
  },
  {
   "cell_type": "markdown",
   "metadata": {},
   "source": [
    "Для работы над проектом были предоставлены данные металлургического комбината ООО «Так закаляем сталь».\n",
    "\n",
    "Данные были изучены и почищены от аномалий, пропусков и выбросов, также были изменены типы данных на корректные. Для использования этих данных в обучении моделей была выполнена подготовка признаков: была посчитана общая мощность, суммированы bulk и wire по отдельности, определены номера партий, у которых есть замеры по температуре и удалены партии, у которых только одно измерение температуры, в резльтате данные были объединены по номерам партий в одну таблицу. Далее были выбраны и обучены модели для предсказания температуры стали и лучшей моделью оказалась регрессионная модель LightGBM.\n",
    "\n",
    "Судя по модели и рейтингу факторов влияния на целевой признак, самым важным фактором является первый замер температуры. Это значит, что управляя им, можно управлять энергозатратами."
   ]
  },
  {
   "cell_type": "markdown",
   "metadata": {},
   "source": [
    "**Какие пункты плана были выполнены, а какие — нет (поясните почему)?**"
   ]
  },
  {
   "cell_type": "markdown",
   "metadata": {},
   "source": [
    "Были выполнены все пункты плана в полном объёме.\n",
    "\n",
    "Данные были изучены и обработаны, выделены признаки для обучения моделей, целевым признаком был выбран самый последний замер температуры, выбраны и обучены две регрессионные модели и оценена их эффективность на тестовых данных. Написан итоговый вывод по проекту."
   ]
  },
  {
   "cell_type": "markdown",
   "metadata": {},
   "source": [
    "**Какие трудности возникли и как вы их преодолели?**"
   ]
  },
  {
   "cell_type": "markdown",
   "metadata": {},
   "source": [
    "Возникли трудности с поиском партий, у которых менее двух замеров температуры, с очисткой признаков от выбросов и поиском факторов, которые довольно слабо влияют на целевой признак, т.к. необходимо было оставить только те факторы, которые достаточно сильно вияют на целевой признак и наилучшим образом сказываются на результатах работы моделей."
   ]
  },
  {
   "cell_type": "markdown",
   "metadata": {},
   "source": [
    "**Какие ключевые шаги в решении задачи выделили?**"
   ]
  },
  {
   "cell_type": "markdown",
   "metadata": {},
   "source": [
    "Предобработка данных, объединение необходимых данных, подготовка признаков для обучения, выбор и обучение моделей, подбор гиперпараметров, поиск лучшего результата для метрики MAE."
   ]
  },
  {
   "cell_type": "markdown",
   "metadata": {},
   "source": [
    "**Какая ваша итоговая модель и какое у неё качество?**"
   ]
  },
  {
   "cell_type": "markdown",
   "metadata": {},
   "source": [
    "Итоговая модель - LightGBM. Эта модель показала наилучшую эффективность в работе с предоставленными данными. Результат метрики MAE этой модели равен 4.79."
   ]
  }
 ],
 "metadata": {
  "ExecuteTimeLog": [
   {
    "duration": 843,
    "start_time": "2021-11-20T16:04:53.649Z"
   },
   {
    "duration": 185,
    "start_time": "2021-11-20T16:10:47.143Z"
   },
   {
    "duration": 13,
    "start_time": "2021-11-20T16:13:11.277Z"
   },
   {
    "duration": 19,
    "start_time": "2021-11-20T16:13:48.867Z"
   },
   {
    "duration": 30,
    "start_time": "2021-11-20T16:14:33.914Z"
   },
   {
    "duration": 787,
    "start_time": "2021-11-20T16:16:52.016Z"
   },
   {
    "duration": 775,
    "start_time": "2021-11-20T16:17:29.378Z"
   },
   {
    "duration": 97,
    "start_time": "2021-11-20T16:18:46.726Z"
   },
   {
    "duration": 857,
    "start_time": "2021-11-20T16:19:00.980Z"
   },
   {
    "duration": 742,
    "start_time": "2021-11-20T16:20:08.992Z"
   },
   {
    "duration": 9,
    "start_time": "2021-11-20T16:20:52.668Z"
   },
   {
    "duration": 9,
    "start_time": "2021-11-20T16:23:41.225Z"
   },
   {
    "duration": 25,
    "start_time": "2021-11-20T16:24:32.387Z"
   },
   {
    "duration": 12,
    "start_time": "2021-11-20T16:24:38.329Z"
   },
   {
    "duration": 791,
    "start_time": "2021-11-20T16:34:39.506Z"
   },
   {
    "duration": 769,
    "start_time": "2021-11-20T16:34:51.139Z"
   },
   {
    "duration": 10,
    "start_time": "2021-11-20T16:35:35.330Z"
   },
   {
    "duration": 11,
    "start_time": "2021-11-20T16:36:20.706Z"
   },
   {
    "duration": 9,
    "start_time": "2021-11-20T16:36:28.148Z"
   },
   {
    "duration": 8,
    "start_time": "2021-11-20T16:36:43.442Z"
   },
   {
    "duration": 503,
    "start_time": "2021-11-20T16:36:59.799Z"
   },
   {
    "duration": 14,
    "start_time": "2021-11-20T16:37:06.011Z"
   },
   {
    "duration": 1807,
    "start_time": "2021-11-20T16:39:02.567Z"
   },
   {
    "duration": 2354,
    "start_time": "2021-11-20T16:39:42.281Z"
   },
   {
    "duration": 2038,
    "start_time": "2021-11-20T16:39:49.782Z"
   },
   {
    "duration": 92,
    "start_time": "2021-11-20T16:40:09.580Z"
   },
   {
    "duration": 108,
    "start_time": "2021-11-20T16:40:33.226Z"
   },
   {
    "duration": 534,
    "start_time": "2021-11-20T16:41:53.209Z"
   },
   {
    "duration": 817,
    "start_time": "2021-11-20T16:42:18.363Z"
   },
   {
    "duration": 572,
    "start_time": "2021-11-20T16:42:32.547Z"
   },
   {
    "duration": 121,
    "start_time": "2021-11-20T16:47:05.735Z"
   },
   {
    "duration": 156,
    "start_time": "2021-11-20T16:47:17.864Z"
   },
   {
    "duration": 7,
    "start_time": "2021-11-20T16:47:26.811Z"
   },
   {
    "duration": 1198,
    "start_time": "2021-11-20T16:48:03.095Z"
   },
   {
    "duration": 10,
    "start_time": "2021-11-20T16:48:09.351Z"
   },
   {
    "duration": 24,
    "start_time": "2021-11-20T16:48:15.310Z"
   },
   {
    "duration": 10,
    "start_time": "2021-11-20T16:48:20.885Z"
   },
   {
    "duration": 2650,
    "start_time": "2021-11-20T16:50:38.535Z"
   },
   {
    "duration": 740,
    "start_time": "2021-11-20T16:50:59.085Z"
   },
   {
    "duration": 23,
    "start_time": "2021-11-20T16:57:04.200Z"
   },
   {
    "duration": 523,
    "start_time": "2021-11-20T16:57:46.616Z"
   },
   {
    "duration": 10,
    "start_time": "2021-11-20T16:58:00.540Z"
   },
   {
    "duration": 217,
    "start_time": "2021-11-20T16:58:40.705Z"
   },
   {
    "duration": 31,
    "start_time": "2021-11-20T17:00:55.153Z"
   },
   {
    "duration": 18,
    "start_time": "2021-11-20T17:01:07.943Z"
   },
   {
    "duration": 18,
    "start_time": "2021-11-20T17:01:23.793Z"
   },
   {
    "duration": 11,
    "start_time": "2021-11-20T17:01:56.350Z"
   },
   {
    "duration": 10,
    "start_time": "2021-11-20T17:02:38.580Z"
   },
   {
    "duration": 6,
    "start_time": "2021-11-20T17:03:03.435Z"
   },
   {
    "duration": 287,
    "start_time": "2021-11-20T17:03:19.438Z"
   },
   {
    "duration": 280,
    "start_time": "2021-11-20T17:03:22.488Z"
   },
   {
    "duration": 7607,
    "start_time": "2021-11-20T17:04:14.922Z"
   },
   {
    "duration": 8112,
    "start_time": "2021-11-20T17:05:04.823Z"
   },
   {
    "duration": 9219,
    "start_time": "2021-11-20T17:05:23.485Z"
   },
   {
    "duration": 25,
    "start_time": "2021-11-20T17:06:49.779Z"
   },
   {
    "duration": 9,
    "start_time": "2021-11-20T17:06:58.449Z"
   },
   {
    "duration": 8,
    "start_time": "2021-11-20T17:07:07.213Z"
   },
   {
    "duration": 11,
    "start_time": "2021-11-20T17:07:19.992Z"
   },
   {
    "duration": 9,
    "start_time": "2021-11-20T17:08:19.368Z"
   },
   {
    "duration": 16,
    "start_time": "2021-11-20T17:08:21.045Z"
   },
   {
    "duration": 11,
    "start_time": "2021-11-20T17:13:08.771Z"
   },
   {
    "duration": 8,
    "start_time": "2021-11-20T17:13:30.391Z"
   },
   {
    "duration": 10,
    "start_time": "2021-11-20T17:13:47.673Z"
   },
   {
    "duration": 9,
    "start_time": "2021-11-20T17:13:54.872Z"
   },
   {
    "duration": 21,
    "start_time": "2021-11-20T17:14:11.734Z"
   },
   {
    "duration": 767,
    "start_time": "2021-11-20T17:15:10.077Z"
   },
   {
    "duration": 12,
    "start_time": "2021-11-20T17:18:20.692Z"
   },
   {
    "duration": 10,
    "start_time": "2021-11-20T17:18:32.245Z"
   },
   {
    "duration": 10,
    "start_time": "2021-11-20T17:35:28.064Z"
   },
   {
    "duration": 17,
    "start_time": "2021-11-20T17:35:43.920Z"
   },
   {
    "duration": 8796,
    "start_time": "2021-11-20T17:36:20.600Z"
   },
   {
    "duration": 749,
    "start_time": "2021-11-20T17:36:35.832Z"
   },
   {
    "duration": 23,
    "start_time": "2021-11-20T17:37:42.220Z"
   },
   {
    "duration": 23,
    "start_time": "2021-11-20T17:37:57.758Z"
   },
   {
    "duration": 17,
    "start_time": "2021-11-20T17:50:27.920Z"
   },
   {
    "duration": 10,
    "start_time": "2021-11-20T17:50:41.700Z"
   },
   {
    "duration": 7,
    "start_time": "2021-11-20T17:51:06.355Z"
   },
   {
    "duration": 16,
    "start_time": "2021-11-20T17:51:21.568Z"
   },
   {
    "duration": 9,
    "start_time": "2021-11-20T17:51:32.209Z"
   },
   {
    "duration": 54,
    "start_time": "2021-11-20T17:51:41.595Z"
   },
   {
    "duration": 5363,
    "start_time": "2021-11-20T17:52:04.362Z"
   },
   {
    "duration": 16,
    "start_time": "2021-11-20T17:55:25.437Z"
   },
   {
    "duration": 10,
    "start_time": "2021-11-20T17:55:33.567Z"
   },
   {
    "duration": 8,
    "start_time": "2021-11-20T17:55:48.846Z"
   },
   {
    "duration": 12,
    "start_time": "2021-11-20T17:56:46.309Z"
   },
   {
    "duration": 655,
    "start_time": "2021-11-22T17:49:09.668Z"
   },
   {
    "duration": 165,
    "start_time": "2021-11-22T17:49:10.325Z"
   },
   {
    "duration": 12,
    "start_time": "2021-11-22T17:49:10.492Z"
   },
   {
    "duration": 9,
    "start_time": "2021-11-22T17:49:10.505Z"
   },
   {
    "duration": 6,
    "start_time": "2021-11-22T17:49:10.516Z"
   },
   {
    "duration": 21,
    "start_time": "2021-11-22T17:49:10.523Z"
   },
   {
    "duration": 18,
    "start_time": "2021-11-22T17:49:10.545Z"
   },
   {
    "duration": 493,
    "start_time": "2021-11-22T17:49:10.566Z"
   },
   {
    "duration": 8,
    "start_time": "2021-11-22T17:49:11.061Z"
   },
   {
    "duration": 449,
    "start_time": "2021-11-22T17:49:11.071Z"
   },
   {
    "duration": 15,
    "start_time": "2021-11-22T17:49:11.521Z"
   },
   {
    "duration": 9,
    "start_time": "2021-11-22T17:49:11.537Z"
   },
   {
    "duration": 5,
    "start_time": "2021-11-22T17:49:11.547Z"
   },
   {
    "duration": 8,
    "start_time": "2021-11-22T17:49:11.553Z"
   },
   {
    "duration": 120,
    "start_time": "2021-11-22T17:49:11.562Z"
   },
   {
    "duration": 4985,
    "start_time": "2021-11-22T17:49:11.684Z"
   },
   {
    "duration": 22,
    "start_time": "2021-11-22T17:49:16.671Z"
   },
   {
    "duration": 10,
    "start_time": "2021-11-22T17:49:16.695Z"
   },
   {
    "duration": 6,
    "start_time": "2021-11-22T17:49:16.707Z"
   },
   {
    "duration": 12,
    "start_time": "2021-11-22T17:49:16.715Z"
   },
   {
    "duration": 7,
    "start_time": "2021-11-22T17:49:16.729Z"
   },
   {
    "duration": 6,
    "start_time": "2021-11-22T17:49:16.738Z"
   },
   {
    "duration": 5,
    "start_time": "2021-11-22T17:49:16.890Z"
   },
   {
    "duration": 17,
    "start_time": "2021-11-22T17:49:16.897Z"
   },
   {
    "duration": 14,
    "start_time": "2021-11-22T17:49:16.916Z"
   },
   {
    "duration": 490,
    "start_time": "2021-11-22T17:49:16.932Z"
   },
   {
    "duration": 8,
    "start_time": "2021-11-22T17:49:17.423Z"
   },
   {
    "duration": 9,
    "start_time": "2021-11-22T17:49:17.433Z"
   },
   {
    "duration": 5,
    "start_time": "2021-11-22T17:49:17.443Z"
   },
   {
    "duration": 12,
    "start_time": "2021-11-22T17:49:17.450Z"
   },
   {
    "duration": 42,
    "start_time": "2021-11-22T17:49:17.464Z"
   },
   {
    "duration": 471,
    "start_time": "2021-11-22T17:49:17.508Z"
   },
   {
    "duration": 16,
    "start_time": "2021-11-22T17:49:17.980Z"
   },
   {
    "duration": 8,
    "start_time": "2021-11-22T17:49:17.998Z"
   },
   {
    "duration": 5,
    "start_time": "2021-11-22T17:49:18.008Z"
   },
   {
    "duration": 6,
    "start_time": "2021-11-22T17:49:18.014Z"
   },
   {
    "duration": 35,
    "start_time": "2021-11-22T17:49:18.022Z"
   },
   {
    "duration": 3264,
    "start_time": "2021-11-22T17:49:18.059Z"
   },
   {
    "duration": 11,
    "start_time": "2021-11-22T17:49:21.325Z"
   },
   {
    "duration": 18,
    "start_time": "2021-11-22T17:49:21.337Z"
   },
   {
    "duration": 11,
    "start_time": "2021-11-22T17:49:21.356Z"
   },
   {
    "duration": 22,
    "start_time": "2021-11-22T17:49:21.369Z"
   },
   {
    "duration": 8,
    "start_time": "2021-11-22T17:49:58.161Z"
   },
   {
    "duration": 654,
    "start_time": "2021-11-23T18:06:03.469Z"
   },
   {
    "duration": 175,
    "start_time": "2021-11-23T18:06:04.126Z"
   },
   {
    "duration": 18,
    "start_time": "2021-11-23T18:06:04.304Z"
   },
   {
    "duration": 10,
    "start_time": "2021-11-23T18:06:04.324Z"
   },
   {
    "duration": 6,
    "start_time": "2021-11-23T18:06:04.336Z"
   },
   {
    "duration": 22,
    "start_time": "2021-11-23T18:06:04.343Z"
   },
   {
    "duration": 23,
    "start_time": "2021-11-23T18:06:04.367Z"
   },
   {
    "duration": 506,
    "start_time": "2021-11-23T18:06:04.394Z"
   },
   {
    "duration": 10,
    "start_time": "2021-11-23T18:06:04.903Z"
   },
   {
    "duration": 447,
    "start_time": "2021-11-23T18:06:04.914Z"
   },
   {
    "duration": 14,
    "start_time": "2021-11-23T18:06:05.363Z"
   },
   {
    "duration": 8,
    "start_time": "2021-11-23T18:06:05.379Z"
   },
   {
    "duration": 7,
    "start_time": "2021-11-23T18:06:05.389Z"
   },
   {
    "duration": 29,
    "start_time": "2021-11-23T18:06:05.397Z"
   },
   {
    "duration": 114,
    "start_time": "2021-11-23T18:06:05.428Z"
   },
   {
    "duration": 4822,
    "start_time": "2021-11-23T18:06:05.544Z"
   },
   {
    "duration": 14,
    "start_time": "2021-11-23T18:06:10.367Z"
   },
   {
    "duration": 11,
    "start_time": "2021-11-23T18:06:10.382Z"
   },
   {
    "duration": 6,
    "start_time": "2021-11-23T18:06:10.394Z"
   },
   {
    "duration": 44,
    "start_time": "2021-11-23T18:06:10.402Z"
   },
   {
    "duration": 7,
    "start_time": "2021-11-23T18:06:10.447Z"
   },
   {
    "duration": 7,
    "start_time": "2021-11-23T18:06:10.456Z"
   },
   {
    "duration": 6,
    "start_time": "2021-11-23T18:06:10.583Z"
   },
   {
    "duration": 10,
    "start_time": "2021-11-23T18:06:10.591Z"
   },
   {
    "duration": 14,
    "start_time": "2021-11-23T18:06:10.602Z"
   },
   {
    "duration": 473,
    "start_time": "2021-11-23T18:06:10.645Z"
   },
   {
    "duration": 8,
    "start_time": "2021-11-23T18:06:11.120Z"
   },
   {
    "duration": 18,
    "start_time": "2021-11-23T18:06:11.130Z"
   },
   {
    "duration": 7,
    "start_time": "2021-11-23T18:06:11.150Z"
   },
   {
    "duration": 11,
    "start_time": "2021-11-23T18:06:11.159Z"
   },
   {
    "duration": 14,
    "start_time": "2021-11-23T18:06:11.172Z"
   },
   {
    "duration": 459,
    "start_time": "2021-11-23T18:06:11.187Z"
   },
   {
    "duration": 10,
    "start_time": "2021-11-23T18:06:11.648Z"
   },
   {
    "duration": 6,
    "start_time": "2021-11-23T18:06:11.660Z"
   },
   {
    "duration": 8,
    "start_time": "2021-11-23T18:06:11.668Z"
   },
   {
    "duration": 6,
    "start_time": "2021-11-23T18:06:11.677Z"
   },
   {
    "duration": 65,
    "start_time": "2021-11-23T18:06:11.685Z"
   },
   {
    "duration": 3049,
    "start_time": "2021-11-23T18:06:11.752Z"
   },
   {
    "duration": 12,
    "start_time": "2021-11-23T18:06:14.804Z"
   },
   {
    "duration": 29,
    "start_time": "2021-11-23T18:06:14.818Z"
   },
   {
    "duration": 6,
    "start_time": "2021-11-23T18:06:14.849Z"
   },
   {
    "duration": 11,
    "start_time": "2021-11-23T18:06:14.857Z"
   },
   {
    "duration": 10,
    "start_time": "2021-11-23T18:06:20.498Z"
   },
   {
    "duration": 9,
    "start_time": "2021-11-23T18:06:38.588Z"
   },
   {
    "duration": 10,
    "start_time": "2021-11-23T18:11:31.273Z"
   },
   {
    "duration": 11,
    "start_time": "2021-11-23T18:11:40.863Z"
   },
   {
    "duration": 12,
    "start_time": "2021-11-23T18:12:41.185Z"
   },
   {
    "duration": 13,
    "start_time": "2021-11-23T18:12:47.516Z"
   },
   {
    "duration": 11,
    "start_time": "2021-11-23T18:13:01.147Z"
   },
   {
    "duration": 9,
    "start_time": "2021-11-23T18:13:15.379Z"
   },
   {
    "duration": 9,
    "start_time": "2021-11-23T18:13:16.596Z"
   },
   {
    "duration": 20,
    "start_time": "2021-11-23T18:13:35.823Z"
   },
   {
    "duration": 11,
    "start_time": "2021-11-23T18:13:53.015Z"
   },
   {
    "duration": 8,
    "start_time": "2021-11-23T18:20:36.777Z"
   },
   {
    "duration": 746,
    "start_time": "2021-11-23T18:21:00.805Z"
   },
   {
    "duration": 13,
    "start_time": "2021-11-23T18:21:04.631Z"
   },
   {
    "duration": 4,
    "start_time": "2021-11-23T18:21:40.676Z"
   },
   {
    "duration": 17,
    "start_time": "2021-11-23T18:21:41.599Z"
   },
   {
    "duration": 12,
    "start_time": "2021-11-23T18:24:52.320Z"
   },
   {
    "duration": 13,
    "start_time": "2021-11-23T18:25:08.409Z"
   },
   {
    "duration": 10,
    "start_time": "2021-11-23T18:30:33.874Z"
   },
   {
    "duration": 14,
    "start_time": "2021-11-23T18:33:53.830Z"
   },
   {
    "duration": 265,
    "start_time": "2021-11-23T18:34:37.166Z"
   },
   {
    "duration": 3349,
    "start_time": "2021-11-23T18:34:47.151Z"
   },
   {
    "duration": 5,
    "start_time": "2021-11-23T18:35:02.428Z"
   },
   {
    "duration": 6301,
    "start_time": "2021-11-23T18:37:15.098Z"
   },
   {
    "duration": 6,
    "start_time": "2021-11-23T18:38:19.301Z"
   },
   {
    "duration": 17,
    "start_time": "2021-11-23T18:38:35.800Z"
   },
   {
    "duration": 629,
    "start_time": "2021-11-23T18:40:51.680Z"
   },
   {
    "duration": 172,
    "start_time": "2021-11-23T18:40:52.310Z"
   },
   {
    "duration": 12,
    "start_time": "2021-11-23T18:40:52.486Z"
   },
   {
    "duration": 8,
    "start_time": "2021-11-23T18:40:52.500Z"
   },
   {
    "duration": 6,
    "start_time": "2021-11-23T18:40:52.510Z"
   },
   {
    "duration": 14,
    "start_time": "2021-11-23T18:40:52.517Z"
   },
   {
    "duration": 24,
    "start_time": "2021-11-23T18:40:52.533Z"
   },
   {
    "duration": 446,
    "start_time": "2021-11-23T18:40:52.559Z"
   },
   {
    "duration": 8,
    "start_time": "2021-11-23T18:40:53.007Z"
   },
   {
    "duration": 434,
    "start_time": "2021-11-23T18:40:53.017Z"
   },
   {
    "duration": 14,
    "start_time": "2021-11-23T18:40:53.452Z"
   },
   {
    "duration": 8,
    "start_time": "2021-11-23T18:40:53.467Z"
   },
   {
    "duration": 5,
    "start_time": "2021-11-23T18:40:53.477Z"
   },
   {
    "duration": 7,
    "start_time": "2021-11-23T18:40:53.483Z"
   },
   {
    "duration": 121,
    "start_time": "2021-11-23T18:40:53.492Z"
   },
   {
    "duration": 4744,
    "start_time": "2021-11-23T18:40:53.614Z"
   },
   {
    "duration": 14,
    "start_time": "2021-11-23T18:40:58.359Z"
   },
   {
    "duration": 10,
    "start_time": "2021-11-23T18:40:58.374Z"
   },
   {
    "duration": 7,
    "start_time": "2021-11-23T18:40:58.385Z"
   },
   {
    "duration": 11,
    "start_time": "2021-11-23T18:40:58.393Z"
   },
   {
    "duration": 8,
    "start_time": "2021-11-23T18:40:58.406Z"
   },
   {
    "duration": 6,
    "start_time": "2021-11-23T18:40:58.447Z"
   },
   {
    "duration": 6,
    "start_time": "2021-11-23T18:40:58.455Z"
   },
   {
    "duration": 14,
    "start_time": "2021-11-23T18:40:58.463Z"
   },
   {
    "duration": 13,
    "start_time": "2021-11-23T18:40:58.479Z"
   },
   {
    "duration": 564,
    "start_time": "2021-11-23T18:40:58.494Z"
   },
   {
    "duration": 8,
    "start_time": "2021-11-23T18:40:59.060Z"
   },
   {
    "duration": 7,
    "start_time": "2021-11-23T18:40:59.070Z"
   },
   {
    "duration": 5,
    "start_time": "2021-11-23T18:40:59.078Z"
   },
   {
    "duration": 12,
    "start_time": "2021-11-23T18:40:59.085Z"
   },
   {
    "duration": 45,
    "start_time": "2021-11-23T18:40:59.099Z"
   },
   {
    "duration": 437,
    "start_time": "2021-11-23T18:40:59.146Z"
   },
   {
    "duration": 10,
    "start_time": "2021-11-23T18:40:59.586Z"
   },
   {
    "duration": 7,
    "start_time": "2021-11-23T18:40:59.598Z"
   },
   {
    "duration": 5,
    "start_time": "2021-11-23T18:40:59.607Z"
   },
   {
    "duration": 32,
    "start_time": "2021-11-23T18:40:59.613Z"
   },
   {
    "duration": 31,
    "start_time": "2021-11-23T18:40:59.647Z"
   },
   {
    "duration": 2954,
    "start_time": "2021-11-23T18:40:59.680Z"
   },
   {
    "duration": 17,
    "start_time": "2021-11-23T18:41:02.636Z"
   },
   {
    "duration": 27,
    "start_time": "2021-11-23T18:41:02.655Z"
   },
   {
    "duration": 21,
    "start_time": "2021-11-23T18:41:02.683Z"
   },
   {
    "duration": 27,
    "start_time": "2021-11-23T18:41:02.705Z"
   },
   {
    "duration": 11,
    "start_time": "2021-11-23T18:41:02.734Z"
   },
   {
    "duration": 24,
    "start_time": "2021-11-23T18:41:02.747Z"
   },
   {
    "duration": 20,
    "start_time": "2021-11-23T18:41:02.773Z"
   },
   {
    "duration": 3,
    "start_time": "2021-11-23T18:41:02.795Z"
   },
   {
    "duration": 22,
    "start_time": "2021-11-23T18:41:02.800Z"
   },
   {
    "duration": 30,
    "start_time": "2021-11-23T18:41:02.824Z"
   },
   {
    "duration": 21,
    "start_time": "2021-11-23T18:41:02.856Z"
   },
   {
    "duration": 15,
    "start_time": "2021-11-23T18:42:42.780Z"
   },
   {
    "duration": 8,
    "start_time": "2021-11-23T18:47:03.014Z"
   },
   {
    "duration": 440,
    "start_time": "2021-11-23T18:47:44.974Z"
   },
   {
    "duration": 4,
    "start_time": "2021-11-23T18:48:02.964Z"
   },
   {
    "duration": 7,
    "start_time": "2021-11-23T18:48:14.647Z"
   },
   {
    "duration": 4,
    "start_time": "2021-11-23T18:49:30.809Z"
   },
   {
    "duration": 10,
    "start_time": "2021-11-23T18:49:45.146Z"
   },
   {
    "duration": 7,
    "start_time": "2021-11-23T18:50:20.154Z"
   },
   {
    "duration": 4,
    "start_time": "2021-11-23T18:50:58.802Z"
   },
   {
    "duration": 297,
    "start_time": "2021-11-23T18:51:07.550Z"
   },
   {
    "duration": 247,
    "start_time": "2021-11-23T18:51:15.308Z"
   },
   {
    "duration": 3954,
    "start_time": "2021-11-23T18:54:02.025Z"
   },
   {
    "duration": 8,
    "start_time": "2021-11-23T18:55:21.346Z"
   },
   {
    "duration": 1030,
    "start_time": "2021-11-23T18:58:39.689Z"
   },
   {
    "duration": 2376,
    "start_time": "2021-11-23T19:00:51.280Z"
   },
   {
    "duration": 91,
    "start_time": "2021-11-23T19:02:09.270Z"
   },
   {
    "duration": 20,
    "start_time": "2021-11-23T19:02:29.340Z"
   },
   {
    "duration": 11,
    "start_time": "2021-11-23T19:03:49.934Z"
   },
   {
    "duration": 691,
    "start_time": "2021-11-23T19:07:21.941Z"
   },
   {
    "duration": 169,
    "start_time": "2021-11-23T19:07:22.634Z"
   },
   {
    "duration": 12,
    "start_time": "2021-11-23T19:07:22.805Z"
   },
   {
    "duration": 9,
    "start_time": "2021-11-23T19:07:22.819Z"
   },
   {
    "duration": 6,
    "start_time": "2021-11-23T19:07:22.830Z"
   },
   {
    "duration": 14,
    "start_time": "2021-11-23T19:07:22.838Z"
   },
   {
    "duration": 18,
    "start_time": "2021-11-23T19:07:22.854Z"
   },
   {
    "duration": 452,
    "start_time": "2021-11-23T19:07:22.874Z"
   },
   {
    "duration": 16,
    "start_time": "2021-11-23T19:07:23.329Z"
   },
   {
    "duration": 447,
    "start_time": "2021-11-23T19:07:23.347Z"
   },
   {
    "duration": 13,
    "start_time": "2021-11-23T19:07:23.796Z"
   },
   {
    "duration": 30,
    "start_time": "2021-11-23T19:07:23.811Z"
   },
   {
    "duration": 21,
    "start_time": "2021-11-23T19:07:23.842Z"
   },
   {
    "duration": 13,
    "start_time": "2021-11-23T19:07:23.865Z"
   },
   {
    "duration": 106,
    "start_time": "2021-11-23T19:07:23.880Z"
   },
   {
    "duration": 4857,
    "start_time": "2021-11-23T19:07:23.987Z"
   },
   {
    "duration": 13,
    "start_time": "2021-11-23T19:07:28.846Z"
   },
   {
    "duration": 13,
    "start_time": "2021-11-23T19:07:28.861Z"
   },
   {
    "duration": 24,
    "start_time": "2021-11-23T19:07:28.875Z"
   },
   {
    "duration": 21,
    "start_time": "2021-11-23T19:07:28.900Z"
   },
   {
    "duration": 14,
    "start_time": "2021-11-23T19:07:28.923Z"
   },
   {
    "duration": 18,
    "start_time": "2021-11-23T19:07:28.939Z"
   },
   {
    "duration": 5,
    "start_time": "2021-11-23T19:07:29.065Z"
   },
   {
    "duration": 27,
    "start_time": "2021-11-23T19:07:29.073Z"
   },
   {
    "duration": 28,
    "start_time": "2021-11-23T19:07:29.101Z"
   },
   {
    "duration": 445,
    "start_time": "2021-11-23T19:07:29.131Z"
   },
   {
    "duration": 8,
    "start_time": "2021-11-23T19:07:29.578Z"
   },
   {
    "duration": 36,
    "start_time": "2021-11-23T19:07:29.588Z"
   },
   {
    "duration": 27,
    "start_time": "2021-11-23T19:07:29.626Z"
   },
   {
    "duration": 35,
    "start_time": "2021-11-23T19:07:29.655Z"
   },
   {
    "duration": 39,
    "start_time": "2021-11-23T19:07:29.692Z"
   },
   {
    "duration": 417,
    "start_time": "2021-11-23T19:07:29.733Z"
   },
   {
    "duration": 10,
    "start_time": "2021-11-23T19:07:30.152Z"
   },
   {
    "duration": 30,
    "start_time": "2021-11-23T19:07:30.164Z"
   },
   {
    "duration": 34,
    "start_time": "2021-11-23T19:07:30.196Z"
   },
   {
    "duration": 31,
    "start_time": "2021-11-23T19:07:30.231Z"
   },
   {
    "duration": 52,
    "start_time": "2021-11-23T19:07:30.263Z"
   },
   {
    "duration": 2914,
    "start_time": "2021-11-23T19:07:30.317Z"
   },
   {
    "duration": 16,
    "start_time": "2021-11-23T19:07:33.234Z"
   },
   {
    "duration": 13,
    "start_time": "2021-11-23T19:07:33.252Z"
   },
   {
    "duration": 26,
    "start_time": "2021-11-23T19:07:33.267Z"
   },
   {
    "duration": 9,
    "start_time": "2021-11-23T19:07:33.295Z"
   },
   {
    "duration": 22,
    "start_time": "2021-11-23T19:07:33.306Z"
   },
   {
    "duration": 40,
    "start_time": "2021-11-23T19:07:33.329Z"
   },
   {
    "duration": 16,
    "start_time": "2021-11-23T19:07:33.371Z"
   },
   {
    "duration": 8,
    "start_time": "2021-11-23T19:07:33.388Z"
   },
   {
    "duration": 22,
    "start_time": "2021-11-23T19:07:33.397Z"
   },
   {
    "duration": 23,
    "start_time": "2021-11-23T19:07:33.420Z"
   },
   {
    "duration": 32,
    "start_time": "2021-11-23T19:07:33.444Z"
   },
   {
    "duration": 13,
    "start_time": "2021-11-23T19:07:33.477Z"
   },
   {
    "duration": 336,
    "start_time": "2021-11-23T19:07:33.492Z"
   },
   {
    "duration": -296,
    "start_time": "2021-11-23T19:07:34.126Z"
   },
   {
    "duration": -308,
    "start_time": "2021-11-23T19:07:34.139Z"
   },
   {
    "duration": -314,
    "start_time": "2021-11-23T19:07:34.145Z"
   },
   {
    "duration": 17,
    "start_time": "2021-11-23T19:08:27.386Z"
   },
   {
    "duration": 3,
    "start_time": "2021-11-23T19:10:47.232Z"
   },
   {
    "duration": 13,
    "start_time": "2021-11-23T19:11:03.445Z"
   },
   {
    "duration": 13,
    "start_time": "2021-11-23T19:12:05.990Z"
   },
   {
    "duration": 13,
    "start_time": "2021-11-23T19:14:12.811Z"
   },
   {
    "duration": 637,
    "start_time": "2021-11-23T19:17:50.373Z"
   },
   {
    "duration": 186,
    "start_time": "2021-11-23T19:17:51.011Z"
   },
   {
    "duration": 12,
    "start_time": "2021-11-23T19:17:51.202Z"
   },
   {
    "duration": 7,
    "start_time": "2021-11-23T19:17:51.215Z"
   },
   {
    "duration": 6,
    "start_time": "2021-11-23T19:17:51.224Z"
   },
   {
    "duration": 13,
    "start_time": "2021-11-23T19:17:51.231Z"
   },
   {
    "duration": 17,
    "start_time": "2021-11-23T19:17:51.245Z"
   },
   {
    "duration": 452,
    "start_time": "2021-11-23T19:17:51.264Z"
   },
   {
    "duration": 8,
    "start_time": "2021-11-23T19:17:51.718Z"
   },
   {
    "duration": 445,
    "start_time": "2021-11-23T19:17:51.728Z"
   },
   {
    "duration": 14,
    "start_time": "2021-11-23T19:17:52.175Z"
   },
   {
    "duration": 8,
    "start_time": "2021-11-23T19:17:52.190Z"
   },
   {
    "duration": 5,
    "start_time": "2021-11-23T19:17:52.200Z"
   },
   {
    "duration": 8,
    "start_time": "2021-11-23T19:17:52.206Z"
   },
   {
    "duration": 113,
    "start_time": "2021-11-23T19:17:52.216Z"
   },
   {
    "duration": 4713,
    "start_time": "2021-11-23T19:17:52.331Z"
   },
   {
    "duration": 15,
    "start_time": "2021-11-23T19:17:57.046Z"
   },
   {
    "duration": 9,
    "start_time": "2021-11-23T19:17:57.063Z"
   },
   {
    "duration": 7,
    "start_time": "2021-11-23T19:17:57.074Z"
   },
   {
    "duration": 12,
    "start_time": "2021-11-23T19:17:57.083Z"
   },
   {
    "duration": 8,
    "start_time": "2021-11-23T19:17:57.096Z"
   },
   {
    "duration": 44,
    "start_time": "2021-11-23T19:17:57.106Z"
   },
   {
    "duration": 124,
    "start_time": "2021-11-23T19:17:57.152Z"
   },
   {
    "duration": 13,
    "start_time": "2021-11-23T19:17:57.277Z"
   },
   {
    "duration": 13,
    "start_time": "2021-11-23T19:17:57.291Z"
   },
   {
    "duration": 455,
    "start_time": "2021-11-23T19:17:57.308Z"
   },
   {
    "duration": 8,
    "start_time": "2021-11-23T19:17:57.765Z"
   },
   {
    "duration": 8,
    "start_time": "2021-11-23T19:17:57.774Z"
   },
   {
    "duration": 6,
    "start_time": "2021-11-23T19:17:57.784Z"
   },
   {
    "duration": 12,
    "start_time": "2021-11-23T19:17:57.791Z"
   },
   {
    "duration": 41,
    "start_time": "2021-11-23T19:17:57.805Z"
   },
   {
    "duration": 427,
    "start_time": "2021-11-23T19:17:57.847Z"
   },
   {
    "duration": 10,
    "start_time": "2021-11-23T19:17:58.275Z"
   },
   {
    "duration": 7,
    "start_time": "2021-11-23T19:17:58.287Z"
   },
   {
    "duration": 6,
    "start_time": "2021-11-23T19:17:58.296Z"
   },
   {
    "duration": 6,
    "start_time": "2021-11-23T19:17:58.303Z"
   },
   {
    "duration": 62,
    "start_time": "2021-11-23T19:17:58.310Z"
   },
   {
    "duration": 3247,
    "start_time": "2021-11-23T19:17:58.373Z"
   },
   {
    "duration": 22,
    "start_time": "2021-11-23T19:18:01.622Z"
   },
   {
    "duration": 9,
    "start_time": "2021-11-23T19:18:01.646Z"
   },
   {
    "duration": 33,
    "start_time": "2021-11-23T19:18:01.656Z"
   },
   {
    "duration": 27,
    "start_time": "2021-11-23T19:18:01.690Z"
   },
   {
    "duration": 39,
    "start_time": "2021-11-23T19:18:01.719Z"
   },
   {
    "duration": 19,
    "start_time": "2021-11-23T19:18:01.759Z"
   },
   {
    "duration": 6536,
    "start_time": "2021-11-23T19:18:01.779Z"
   },
   {
    "duration": -241,
    "start_time": "2021-11-23T19:18:08.558Z"
   },
   {
    "duration": -243,
    "start_time": "2021-11-23T19:18:08.561Z"
   },
   {
    "duration": -245,
    "start_time": "2021-11-23T19:18:08.564Z"
   },
   {
    "duration": -248,
    "start_time": "2021-11-23T19:18:08.568Z"
   },
   {
    "duration": -251,
    "start_time": "2021-11-23T19:18:08.572Z"
   },
   {
    "duration": -253,
    "start_time": "2021-11-23T19:18:08.575Z"
   },
   {
    "duration": -256,
    "start_time": "2021-11-23T19:18:08.578Z"
   },
   {
    "duration": -257,
    "start_time": "2021-11-23T19:18:08.580Z"
   },
   {
    "duration": -260,
    "start_time": "2021-11-23T19:18:08.584Z"
   },
   {
    "duration": 51,
    "start_time": "2021-11-23T20:28:16.634Z"
   },
   {
    "duration": 683,
    "start_time": "2021-11-23T20:30:22.130Z"
   },
   {
    "duration": 7744,
    "start_time": "2021-11-23T20:32:01.161Z"
   },
   {
    "duration": 664,
    "start_time": "2021-11-23T20:32:38.614Z"
   },
   {
    "duration": 167,
    "start_time": "2021-11-23T20:32:39.280Z"
   },
   {
    "duration": 12,
    "start_time": "2021-11-23T20:32:39.449Z"
   },
   {
    "duration": 8,
    "start_time": "2021-11-23T20:32:39.463Z"
   },
   {
    "duration": 8,
    "start_time": "2021-11-23T20:32:39.473Z"
   },
   {
    "duration": 14,
    "start_time": "2021-11-23T20:32:39.483Z"
   },
   {
    "duration": 56,
    "start_time": "2021-11-23T20:32:39.499Z"
   },
   {
    "duration": 461,
    "start_time": "2021-11-23T20:32:39.559Z"
   },
   {
    "duration": 21,
    "start_time": "2021-11-23T20:32:40.023Z"
   },
   {
    "duration": 440,
    "start_time": "2021-11-23T20:32:40.047Z"
   },
   {
    "duration": 14,
    "start_time": "2021-11-23T20:32:40.488Z"
   },
   {
    "duration": 8,
    "start_time": "2021-11-23T20:32:40.503Z"
   },
   {
    "duration": 5,
    "start_time": "2021-11-23T20:32:40.513Z"
   },
   {
    "duration": 32,
    "start_time": "2021-11-23T20:32:40.519Z"
   },
   {
    "duration": 94,
    "start_time": "2021-11-23T20:32:40.553Z"
   },
   {
    "duration": 4661,
    "start_time": "2021-11-23T20:32:40.649Z"
   },
   {
    "duration": 13,
    "start_time": "2021-11-23T20:32:45.312Z"
   },
   {
    "duration": 21,
    "start_time": "2021-11-23T20:32:45.326Z"
   },
   {
    "duration": 7,
    "start_time": "2021-11-23T20:32:45.349Z"
   },
   {
    "duration": 11,
    "start_time": "2021-11-23T20:32:45.358Z"
   },
   {
    "duration": 6,
    "start_time": "2021-11-23T20:32:45.371Z"
   },
   {
    "duration": 9,
    "start_time": "2021-11-23T20:32:45.378Z"
   },
   {
    "duration": 5,
    "start_time": "2021-11-23T20:32:45.513Z"
   },
   {
    "duration": 11,
    "start_time": "2021-11-23T20:32:45.519Z"
   },
   {
    "duration": 25,
    "start_time": "2021-11-23T20:32:45.531Z"
   },
   {
    "duration": 445,
    "start_time": "2021-11-23T20:32:45.557Z"
   },
   {
    "duration": 10,
    "start_time": "2021-11-23T20:32:46.003Z"
   },
   {
    "duration": 8,
    "start_time": "2021-11-23T20:32:46.014Z"
   },
   {
    "duration": 25,
    "start_time": "2021-11-23T20:32:46.023Z"
   },
   {
    "duration": 10,
    "start_time": "2021-11-23T20:32:46.050Z"
   },
   {
    "duration": 13,
    "start_time": "2021-11-23T20:32:46.061Z"
   },
   {
    "duration": 432,
    "start_time": "2021-11-23T20:32:46.076Z"
   },
   {
    "duration": 11,
    "start_time": "2021-11-23T20:32:46.510Z"
   },
   {
    "duration": 21,
    "start_time": "2021-11-23T20:32:46.523Z"
   },
   {
    "duration": 4,
    "start_time": "2021-11-23T20:32:46.546Z"
   },
   {
    "duration": 6,
    "start_time": "2021-11-23T20:32:46.552Z"
   },
   {
    "duration": 30,
    "start_time": "2021-11-23T20:32:46.560Z"
   },
   {
    "duration": 2864,
    "start_time": "2021-11-23T20:32:46.591Z"
   },
   {
    "duration": 11,
    "start_time": "2021-11-23T20:32:49.457Z"
   },
   {
    "duration": 9,
    "start_time": "2021-11-23T20:32:49.469Z"
   },
   {
    "duration": 6,
    "start_time": "2021-11-23T20:32:49.479Z"
   },
   {
    "duration": 7,
    "start_time": "2021-11-23T20:32:49.486Z"
   },
   {
    "duration": 21,
    "start_time": "2021-11-23T20:32:56.352Z"
   },
   {
    "duration": 20,
    "start_time": "2021-11-23T20:33:10.470Z"
   },
   {
    "duration": 24,
    "start_time": "2021-11-23T20:33:19.871Z"
   },
   {
    "duration": 21,
    "start_time": "2021-11-23T20:34:00.192Z"
   },
   {
    "duration": 15,
    "start_time": "2021-11-23T20:34:00.239Z"
   },
   {
    "duration": 11,
    "start_time": "2021-11-23T20:34:00.282Z"
   },
   {
    "duration": 6444,
    "start_time": "2021-11-23T20:34:06.316Z"
   },
   {
    "duration": 6274,
    "start_time": "2021-11-23T20:37:17.307Z"
   },
   {
    "duration": 3,
    "start_time": "2021-11-23T20:37:41.377Z"
   },
   {
    "duration": 167,
    "start_time": "2021-11-23T20:37:41.382Z"
   },
   {
    "duration": 9,
    "start_time": "2021-11-23T20:37:41.551Z"
   },
   {
    "duration": 14,
    "start_time": "2021-11-23T20:37:41.562Z"
   },
   {
    "duration": 6,
    "start_time": "2021-11-23T20:37:41.578Z"
   },
   {
    "duration": 19,
    "start_time": "2021-11-23T20:37:41.585Z"
   },
   {
    "duration": 16,
    "start_time": "2021-11-23T20:37:41.606Z"
   },
   {
    "duration": 565,
    "start_time": "2021-11-23T20:37:41.624Z"
   },
   {
    "duration": 8,
    "start_time": "2021-11-23T20:37:42.192Z"
   },
   {
    "duration": 433,
    "start_time": "2021-11-23T20:37:42.202Z"
   },
   {
    "duration": 19,
    "start_time": "2021-11-23T20:37:42.636Z"
   },
   {
    "duration": 8,
    "start_time": "2021-11-23T20:37:42.656Z"
   },
   {
    "duration": 6,
    "start_time": "2021-11-23T20:37:42.666Z"
   },
   {
    "duration": 8,
    "start_time": "2021-11-23T20:37:42.674Z"
   },
   {
    "duration": 239,
    "start_time": "2021-11-23T20:37:42.684Z"
   },
   {
    "duration": 4886,
    "start_time": "2021-11-23T20:37:42.925Z"
   },
   {
    "duration": 14,
    "start_time": "2021-11-23T20:37:47.813Z"
   },
   {
    "duration": 19,
    "start_time": "2021-11-23T20:37:47.845Z"
   },
   {
    "duration": 20,
    "start_time": "2021-11-23T20:37:47.865Z"
   },
   {
    "duration": 35,
    "start_time": "2021-11-23T20:37:47.886Z"
   },
   {
    "duration": 27,
    "start_time": "2021-11-23T20:37:47.923Z"
   },
   {
    "duration": 26,
    "start_time": "2021-11-23T20:37:47.951Z"
   },
   {
    "duration": 30,
    "start_time": "2021-11-23T20:37:47.980Z"
   },
   {
    "duration": 24,
    "start_time": "2021-11-23T20:37:48.013Z"
   },
   {
    "duration": 18,
    "start_time": "2021-11-23T20:37:48.039Z"
   },
   {
    "duration": 448,
    "start_time": "2021-11-23T20:37:48.059Z"
   },
   {
    "duration": 9,
    "start_time": "2021-11-23T20:37:48.509Z"
   },
   {
    "duration": 8,
    "start_time": "2021-11-23T20:37:48.520Z"
   },
   {
    "duration": 20,
    "start_time": "2021-11-23T20:37:48.529Z"
   },
   {
    "duration": 9,
    "start_time": "2021-11-23T20:37:48.551Z"
   },
   {
    "duration": 15,
    "start_time": "2021-11-23T20:37:48.561Z"
   },
   {
    "duration": 676,
    "start_time": "2021-11-23T20:37:48.578Z"
   },
   {
    "duration": 11,
    "start_time": "2021-11-23T20:37:49.256Z"
   },
   {
    "duration": 8,
    "start_time": "2021-11-23T20:37:49.269Z"
   },
   {
    "duration": 5,
    "start_time": "2021-11-23T20:37:49.279Z"
   },
   {
    "duration": 9,
    "start_time": "2021-11-23T20:37:49.285Z"
   },
   {
    "duration": 67,
    "start_time": "2021-11-23T20:37:49.295Z"
   },
   {
    "duration": 2957,
    "start_time": "2021-11-23T20:37:49.364Z"
   },
   {
    "duration": 11,
    "start_time": "2021-11-23T20:37:52.323Z"
   },
   {
    "duration": 8,
    "start_time": "2021-11-23T20:37:52.344Z"
   },
   {
    "duration": 7,
    "start_time": "2021-11-23T20:37:52.354Z"
   },
   {
    "duration": 10,
    "start_time": "2021-11-23T20:37:52.363Z"
   },
   {
    "duration": 24,
    "start_time": "2021-11-23T20:38:13.101Z"
   },
   {
    "duration": 278,
    "start_time": "2021-11-23T20:39:50.679Z"
   },
   {
    "duration": 6408,
    "start_time": "2021-11-23T20:40:12.122Z"
   },
   {
    "duration": 5,
    "start_time": "2021-11-23T20:41:09.469Z"
   },
   {
    "duration": 4,
    "start_time": "2021-11-23T20:41:51.950Z"
   },
   {
    "duration": 23,
    "start_time": "2021-11-23T20:41:52.686Z"
   },
   {
    "duration": 30,
    "start_time": "2021-11-23T20:42:47.231Z"
   },
   {
    "duration": 3,
    "start_time": "2021-11-23T20:42:55.958Z"
   },
   {
    "duration": 173,
    "start_time": "2021-11-23T20:42:55.968Z"
   },
   {
    "duration": 11,
    "start_time": "2021-11-23T20:42:56.143Z"
   },
   {
    "duration": 9,
    "start_time": "2021-11-23T20:42:56.157Z"
   },
   {
    "duration": 8,
    "start_time": "2021-11-23T20:42:56.169Z"
   },
   {
    "duration": 14,
    "start_time": "2021-11-23T20:42:56.179Z"
   },
   {
    "duration": 17,
    "start_time": "2021-11-23T20:42:56.195Z"
   },
   {
    "duration": 735,
    "start_time": "2021-11-23T20:42:56.245Z"
   },
   {
    "duration": 9,
    "start_time": "2021-11-23T20:42:56.982Z"
   },
   {
    "duration": 466,
    "start_time": "2021-11-23T20:42:56.993Z"
   },
   {
    "duration": 14,
    "start_time": "2021-11-23T20:42:57.461Z"
   },
   {
    "duration": 7,
    "start_time": "2021-11-23T20:42:57.477Z"
   },
   {
    "duration": 5,
    "start_time": "2021-11-23T20:42:57.486Z"
   },
   {
    "duration": 8,
    "start_time": "2021-11-23T20:42:57.493Z"
   },
   {
    "duration": 77,
    "start_time": "2021-11-23T20:42:57.503Z"
   },
   {
    "duration": 5051,
    "start_time": "2021-11-23T20:42:57.582Z"
   },
   {
    "duration": 17,
    "start_time": "2021-11-23T20:43:02.635Z"
   },
   {
    "duration": 8,
    "start_time": "2021-11-23T20:43:02.654Z"
   },
   {
    "duration": 6,
    "start_time": "2021-11-23T20:43:02.663Z"
   },
   {
    "duration": 9,
    "start_time": "2021-11-23T20:43:02.671Z"
   },
   {
    "duration": 7,
    "start_time": "2021-11-23T20:43:02.682Z"
   },
   {
    "duration": 7,
    "start_time": "2021-11-23T20:43:02.690Z"
   },
   {
    "duration": 6,
    "start_time": "2021-11-23T20:43:02.699Z"
   },
   {
    "duration": 46,
    "start_time": "2021-11-23T20:43:02.707Z"
   },
   {
    "duration": 18,
    "start_time": "2021-11-23T20:43:02.754Z"
   },
   {
    "duration": 460,
    "start_time": "2021-11-23T20:43:02.773Z"
   },
   {
    "duration": 15,
    "start_time": "2021-11-23T20:43:03.235Z"
   },
   {
    "duration": 7,
    "start_time": "2021-11-23T20:43:03.253Z"
   },
   {
    "duration": 6,
    "start_time": "2021-11-23T20:43:03.262Z"
   },
   {
    "duration": 10,
    "start_time": "2021-11-23T20:43:03.270Z"
   },
   {
    "duration": 14,
    "start_time": "2021-11-23T20:43:03.282Z"
   },
   {
    "duration": 554,
    "start_time": "2021-11-23T20:43:03.298Z"
   },
   {
    "duration": 11,
    "start_time": "2021-11-23T20:43:03.853Z"
   },
   {
    "duration": 8,
    "start_time": "2021-11-23T20:43:03.865Z"
   },
   {
    "duration": 5,
    "start_time": "2021-11-23T20:43:03.875Z"
   },
   {
    "duration": 5,
    "start_time": "2021-11-23T20:43:03.881Z"
   },
   {
    "duration": 59,
    "start_time": "2021-11-23T20:43:03.888Z"
   },
   {
    "duration": 3147,
    "start_time": "2021-11-23T20:43:03.949Z"
   },
   {
    "duration": 11,
    "start_time": "2021-11-23T20:43:07.097Z"
   },
   {
    "duration": 13,
    "start_time": "2021-11-23T20:43:07.109Z"
   },
   {
    "duration": 19,
    "start_time": "2021-11-23T20:43:07.124Z"
   },
   {
    "duration": 16,
    "start_time": "2021-11-23T20:43:07.145Z"
   },
   {
    "duration": 9,
    "start_time": "2021-11-23T20:43:07.162Z"
   },
   {
    "duration": 23,
    "start_time": "2021-11-23T20:43:21.286Z"
   },
   {
    "duration": 3,
    "start_time": "2021-11-23T20:44:18.707Z"
   },
   {
    "duration": 170,
    "start_time": "2021-11-23T20:44:18.711Z"
   },
   {
    "duration": 8,
    "start_time": "2021-11-23T20:44:18.883Z"
   },
   {
    "duration": 10,
    "start_time": "2021-11-23T20:44:18.893Z"
   },
   {
    "duration": 7,
    "start_time": "2021-11-23T20:44:18.905Z"
   },
   {
    "duration": 16,
    "start_time": "2021-11-23T20:44:18.914Z"
   },
   {
    "duration": 18,
    "start_time": "2021-11-23T20:44:18.931Z"
   },
   {
    "duration": 452,
    "start_time": "2021-11-23T20:44:18.951Z"
   },
   {
    "duration": 9,
    "start_time": "2021-11-23T20:44:19.405Z"
   },
   {
    "duration": 478,
    "start_time": "2021-11-23T20:44:19.416Z"
   },
   {
    "duration": 14,
    "start_time": "2021-11-23T20:44:19.895Z"
   },
   {
    "duration": 8,
    "start_time": "2021-11-23T20:44:19.911Z"
   },
   {
    "duration": 24,
    "start_time": "2021-11-23T20:44:19.921Z"
   },
   {
    "duration": 8,
    "start_time": "2021-11-23T20:44:19.947Z"
   },
   {
    "duration": 49,
    "start_time": "2021-11-23T20:44:19.957Z"
   },
   {
    "duration": 5187,
    "start_time": "2021-11-23T20:44:20.007Z"
   },
   {
    "duration": 14,
    "start_time": "2021-11-23T20:44:25.196Z"
   },
   {
    "duration": 10,
    "start_time": "2021-11-23T20:44:25.212Z"
   },
   {
    "duration": 24,
    "start_time": "2021-11-23T20:44:25.224Z"
   },
   {
    "duration": 11,
    "start_time": "2021-11-23T20:44:25.249Z"
   },
   {
    "duration": 6,
    "start_time": "2021-11-23T20:44:25.262Z"
   },
   {
    "duration": 9,
    "start_time": "2021-11-23T20:44:25.270Z"
   },
   {
    "duration": 4,
    "start_time": "2021-11-23T20:44:25.283Z"
   },
   {
    "duration": 12,
    "start_time": "2021-11-23T20:44:25.289Z"
   },
   {
    "duration": 47,
    "start_time": "2021-11-23T20:44:25.302Z"
   },
   {
    "duration": 480,
    "start_time": "2021-11-23T20:44:25.350Z"
   },
   {
    "duration": 16,
    "start_time": "2021-11-23T20:44:25.832Z"
   },
   {
    "duration": 8,
    "start_time": "2021-11-23T20:44:25.850Z"
   },
   {
    "duration": 7,
    "start_time": "2021-11-23T20:44:25.860Z"
   },
   {
    "duration": 12,
    "start_time": "2021-11-23T20:44:25.869Z"
   },
   {
    "duration": 16,
    "start_time": "2021-11-23T20:44:25.883Z"
   },
   {
    "duration": 480,
    "start_time": "2021-11-23T20:44:25.901Z"
   },
   {
    "duration": 11,
    "start_time": "2021-11-23T20:44:26.383Z"
   },
   {
    "duration": 7,
    "start_time": "2021-11-23T20:44:26.396Z"
   },
   {
    "duration": 6,
    "start_time": "2021-11-23T20:44:26.406Z"
   },
   {
    "duration": 33,
    "start_time": "2021-11-23T20:44:26.413Z"
   },
   {
    "duration": 36,
    "start_time": "2021-11-23T20:44:26.448Z"
   },
   {
    "duration": 3459,
    "start_time": "2021-11-23T20:44:26.486Z"
   },
   {
    "duration": 12,
    "start_time": "2021-11-23T20:44:29.946Z"
   },
   {
    "duration": 8,
    "start_time": "2021-11-23T20:44:29.960Z"
   },
   {
    "duration": 7,
    "start_time": "2021-11-23T20:44:29.970Z"
   },
   {
    "duration": 9,
    "start_time": "2021-11-23T20:44:29.979Z"
   },
   {
    "duration": 3,
    "start_time": "2021-11-23T20:44:29.989Z"
   },
   {
    "duration": 24,
    "start_time": "2021-11-23T20:44:33.871Z"
   },
   {
    "duration": 3,
    "start_time": "2021-11-23T20:45:45.966Z"
   },
   {
    "duration": 181,
    "start_time": "2021-11-23T20:45:45.971Z"
   },
   {
    "duration": 10,
    "start_time": "2021-11-23T20:45:46.154Z"
   },
   {
    "duration": 7,
    "start_time": "2021-11-23T20:45:46.166Z"
   },
   {
    "duration": 6,
    "start_time": "2021-11-23T20:45:46.175Z"
   },
   {
    "duration": 13,
    "start_time": "2021-11-23T20:45:46.183Z"
   },
   {
    "duration": 16,
    "start_time": "2021-11-23T20:45:46.197Z"
   },
   {
    "duration": 432,
    "start_time": "2021-11-23T20:45:46.244Z"
   },
   {
    "duration": 8,
    "start_time": "2021-11-23T20:45:46.679Z"
   },
   {
    "duration": 450,
    "start_time": "2021-11-23T20:45:46.689Z"
   },
   {
    "duration": 17,
    "start_time": "2021-11-23T20:45:47.141Z"
   },
   {
    "duration": 7,
    "start_time": "2021-11-23T20:45:47.160Z"
   },
   {
    "duration": 5,
    "start_time": "2021-11-23T20:45:47.169Z"
   },
   {
    "duration": 12,
    "start_time": "2021-11-23T20:45:47.176Z"
   },
   {
    "duration": 97,
    "start_time": "2021-11-23T20:45:47.189Z"
   },
   {
    "duration": 5105,
    "start_time": "2021-11-23T20:45:47.288Z"
   },
   {
    "duration": 15,
    "start_time": "2021-11-23T20:45:52.394Z"
   },
   {
    "duration": 11,
    "start_time": "2021-11-23T20:45:52.410Z"
   },
   {
    "duration": 26,
    "start_time": "2021-11-23T20:45:52.422Z"
   },
   {
    "duration": 11,
    "start_time": "2021-11-23T20:45:52.450Z"
   },
   {
    "duration": 7,
    "start_time": "2021-11-23T20:45:52.463Z"
   },
   {
    "duration": 7,
    "start_time": "2021-11-23T20:45:52.471Z"
   },
   {
    "duration": 6,
    "start_time": "2021-11-23T20:45:52.479Z"
   },
   {
    "duration": 11,
    "start_time": "2021-11-23T20:45:52.487Z"
   },
   {
    "duration": 51,
    "start_time": "2021-11-23T20:45:52.499Z"
   },
   {
    "duration": 451,
    "start_time": "2021-11-23T20:45:52.552Z"
   },
   {
    "duration": 8,
    "start_time": "2021-11-23T20:45:53.007Z"
   },
   {
    "duration": 8,
    "start_time": "2021-11-23T20:45:53.016Z"
   },
   {
    "duration": 19,
    "start_time": "2021-11-23T20:45:53.026Z"
   },
   {
    "duration": 12,
    "start_time": "2021-11-23T20:45:53.047Z"
   },
   {
    "duration": 17,
    "start_time": "2021-11-23T20:45:53.060Z"
   },
   {
    "duration": 459,
    "start_time": "2021-11-23T20:45:53.079Z"
   },
   {
    "duration": 14,
    "start_time": "2021-11-23T20:45:53.540Z"
   },
   {
    "duration": 10,
    "start_time": "2021-11-23T20:45:53.556Z"
   },
   {
    "duration": 7,
    "start_time": "2021-11-23T20:45:53.568Z"
   },
   {
    "duration": 7,
    "start_time": "2021-11-23T20:45:53.577Z"
   },
   {
    "duration": 63,
    "start_time": "2021-11-23T20:45:53.586Z"
   },
   {
    "duration": 2889,
    "start_time": "2021-11-23T20:45:53.651Z"
   },
   {
    "duration": 11,
    "start_time": "2021-11-23T20:45:56.544Z"
   },
   {
    "duration": 8,
    "start_time": "2021-11-23T20:45:56.556Z"
   },
   {
    "duration": 5,
    "start_time": "2021-11-23T20:45:56.566Z"
   },
   {
    "duration": 8,
    "start_time": "2021-11-23T20:45:56.572Z"
   },
   {
    "duration": 5,
    "start_time": "2021-11-23T20:45:56.581Z"
   },
   {
    "duration": 293,
    "start_time": "2021-11-23T20:47:38.594Z"
   },
   {
    "duration": 444,
    "start_time": "2021-11-23T20:48:10.190Z"
   },
   {
    "duration": 9,
    "start_time": "2021-11-23T20:48:32.166Z"
   },
   {
    "duration": 20,
    "start_time": "2021-11-23T20:49:31.377Z"
   },
   {
    "duration": 253,
    "start_time": "2021-11-23T20:49:49.422Z"
   },
   {
    "duration": 265,
    "start_time": "2021-11-23T20:49:56.730Z"
   },
   {
    "duration": 326,
    "start_time": "2021-11-23T20:50:03.505Z"
   },
   {
    "duration": 19,
    "start_time": "2021-11-23T20:50:17.685Z"
   },
   {
    "duration": 5,
    "start_time": "2021-11-23T20:50:37.823Z"
   },
   {
    "duration": 9,
    "start_time": "2021-11-23T20:50:55.000Z"
   },
   {
    "duration": 716,
    "start_time": "2021-11-23T20:51:36.600Z"
   },
   {
    "duration": 298,
    "start_time": "2021-11-23T20:51:54.898Z"
   },
   {
    "duration": 255,
    "start_time": "2021-11-23T20:52:31.879Z"
   },
   {
    "duration": 273,
    "start_time": "2021-11-23T20:52:36.752Z"
   },
   {
    "duration": 22,
    "start_time": "2021-11-23T20:54:25.187Z"
   },
   {
    "duration": 19,
    "start_time": "2021-11-23T20:54:45.783Z"
   },
   {
    "duration": 21,
    "start_time": "2021-11-23T20:58:01.608Z"
   },
   {
    "duration": 700,
    "start_time": "2021-11-23T20:59:19.090Z"
   },
   {
    "duration": 185,
    "start_time": "2021-11-23T20:59:19.792Z"
   },
   {
    "duration": 13,
    "start_time": "2021-11-23T20:59:19.978Z"
   },
   {
    "duration": 9,
    "start_time": "2021-11-23T20:59:19.993Z"
   },
   {
    "duration": 7,
    "start_time": "2021-11-23T20:59:20.004Z"
   },
   {
    "duration": 15,
    "start_time": "2021-11-23T20:59:20.013Z"
   },
   {
    "duration": 24,
    "start_time": "2021-11-23T20:59:20.030Z"
   },
   {
    "duration": 475,
    "start_time": "2021-11-23T20:59:20.056Z"
   },
   {
    "duration": 14,
    "start_time": "2021-11-23T20:59:20.534Z"
   },
   {
    "duration": 483,
    "start_time": "2021-11-23T20:59:20.549Z"
   },
   {
    "duration": 17,
    "start_time": "2021-11-23T20:59:21.034Z"
   },
   {
    "duration": 7,
    "start_time": "2021-11-23T20:59:21.053Z"
   },
   {
    "duration": 5,
    "start_time": "2021-11-23T20:59:21.062Z"
   },
   {
    "duration": 9,
    "start_time": "2021-11-23T20:59:21.068Z"
   },
   {
    "duration": 123,
    "start_time": "2021-11-23T20:59:21.078Z"
   },
   {
    "duration": 4911,
    "start_time": "2021-11-23T20:59:21.203Z"
   },
   {
    "duration": 15,
    "start_time": "2021-11-23T20:59:26.116Z"
   },
   {
    "duration": 8,
    "start_time": "2021-11-23T20:59:26.145Z"
   },
   {
    "duration": 7,
    "start_time": "2021-11-23T20:59:26.155Z"
   },
   {
    "duration": 12,
    "start_time": "2021-11-23T20:59:26.163Z"
   },
   {
    "duration": 8,
    "start_time": "2021-11-23T20:59:26.176Z"
   },
   {
    "duration": 142,
    "start_time": "2021-11-23T20:59:26.186Z"
   },
   {
    "duration": 5,
    "start_time": "2021-11-23T20:59:26.332Z"
   },
   {
    "duration": 10,
    "start_time": "2021-11-23T20:59:26.345Z"
   },
   {
    "duration": 14,
    "start_time": "2021-11-23T20:59:26.356Z"
   },
   {
    "duration": 472,
    "start_time": "2021-11-23T20:59:26.372Z"
   },
   {
    "duration": 8,
    "start_time": "2021-11-23T20:59:26.846Z"
   },
   {
    "duration": 29,
    "start_time": "2021-11-23T20:59:26.855Z"
   },
   {
    "duration": 16,
    "start_time": "2021-11-23T20:59:26.886Z"
   },
   {
    "duration": 17,
    "start_time": "2021-11-23T20:59:26.904Z"
   },
   {
    "duration": 27,
    "start_time": "2021-11-23T20:59:26.922Z"
   },
   {
    "duration": 444,
    "start_time": "2021-11-23T20:59:26.950Z"
   },
   {
    "duration": 11,
    "start_time": "2021-11-23T20:59:27.396Z"
   },
   {
    "duration": 10,
    "start_time": "2021-11-23T20:59:27.409Z"
   },
   {
    "duration": 22,
    "start_time": "2021-11-23T20:59:27.421Z"
   },
   {
    "duration": 25,
    "start_time": "2021-11-23T20:59:27.445Z"
   },
   {
    "duration": 46,
    "start_time": "2021-11-23T20:59:27.472Z"
   },
   {
    "duration": 2960,
    "start_time": "2021-11-23T20:59:27.519Z"
   },
   {
    "duration": 15,
    "start_time": "2021-11-23T20:59:30.481Z"
   },
   {
    "duration": 7,
    "start_time": "2021-11-23T20:59:30.498Z"
   },
   {
    "duration": 6,
    "start_time": "2021-11-23T20:59:30.507Z"
   },
   {
    "duration": 39,
    "start_time": "2021-11-23T20:59:30.514Z"
   },
   {
    "duration": 30,
    "start_time": "2021-11-23T20:59:30.555Z"
   },
   {
    "duration": 10,
    "start_time": "2021-11-23T20:59:45.490Z"
   },
   {
    "duration": 326,
    "start_time": "2021-11-23T21:01:13.473Z"
   },
   {
    "duration": 255,
    "start_time": "2021-11-23T21:01:26.783Z"
   },
   {
    "duration": 4,
    "start_time": "2021-11-23T21:03:28.639Z"
   },
   {
    "duration": 19,
    "start_time": "2021-11-23T21:03:42.849Z"
   },
   {
    "duration": 4,
    "start_time": "2021-11-23T21:04:01.985Z"
   },
   {
    "duration": 3,
    "start_time": "2021-11-23T21:04:16.845Z"
   },
   {
    "duration": 174,
    "start_time": "2021-11-23T21:04:16.849Z"
   },
   {
    "duration": 10,
    "start_time": "2021-11-23T21:04:17.025Z"
   },
   {
    "duration": 9,
    "start_time": "2021-11-23T21:04:17.036Z"
   },
   {
    "duration": 10,
    "start_time": "2021-11-23T21:04:17.047Z"
   },
   {
    "duration": 18,
    "start_time": "2021-11-23T21:04:17.058Z"
   },
   {
    "duration": 17,
    "start_time": "2021-11-23T21:04:17.078Z"
   },
   {
    "duration": 461,
    "start_time": "2021-11-23T21:04:17.098Z"
   },
   {
    "duration": 8,
    "start_time": "2021-11-23T21:04:17.561Z"
   },
   {
    "duration": 441,
    "start_time": "2021-11-23T21:04:17.571Z"
   },
   {
    "duration": 14,
    "start_time": "2021-11-23T21:04:18.013Z"
   },
   {
    "duration": 19,
    "start_time": "2021-11-23T21:04:18.028Z"
   },
   {
    "duration": 19,
    "start_time": "2021-11-23T21:04:18.049Z"
   },
   {
    "duration": 21,
    "start_time": "2021-11-23T21:04:18.069Z"
   },
   {
    "duration": 215,
    "start_time": "2021-11-23T21:04:18.091Z"
   },
   {
    "duration": 4881,
    "start_time": "2021-11-23T21:04:18.308Z"
   },
   {
    "duration": 14,
    "start_time": "2021-11-23T21:04:23.192Z"
   },
   {
    "duration": 10,
    "start_time": "2021-11-23T21:04:23.208Z"
   },
   {
    "duration": 28,
    "start_time": "2021-11-23T21:04:23.220Z"
   },
   {
    "duration": 11,
    "start_time": "2021-11-23T21:04:23.250Z"
   },
   {
    "duration": 7,
    "start_time": "2021-11-23T21:04:23.263Z"
   },
   {
    "duration": 7,
    "start_time": "2021-11-23T21:04:23.272Z"
   },
   {
    "duration": 11,
    "start_time": "2021-11-23T21:04:23.283Z"
   },
   {
    "duration": 11,
    "start_time": "2021-11-23T21:04:23.297Z"
   },
   {
    "duration": 14,
    "start_time": "2021-11-23T21:04:23.345Z"
   },
   {
    "duration": 441,
    "start_time": "2021-11-23T21:04:23.361Z"
   },
   {
    "duration": 8,
    "start_time": "2021-11-23T21:04:23.804Z"
   },
   {
    "duration": 9,
    "start_time": "2021-11-23T21:04:23.813Z"
   },
   {
    "duration": 24,
    "start_time": "2021-11-23T21:04:23.823Z"
   },
   {
    "duration": 13,
    "start_time": "2021-11-23T21:04:23.849Z"
   },
   {
    "duration": 14,
    "start_time": "2021-11-23T21:04:23.864Z"
   },
   {
    "duration": 664,
    "start_time": "2021-11-23T21:04:23.880Z"
   },
   {
    "duration": 10,
    "start_time": "2021-11-23T21:04:24.546Z"
   },
   {
    "duration": 12,
    "start_time": "2021-11-23T21:04:24.557Z"
   },
   {
    "duration": 7,
    "start_time": "2021-11-23T21:04:24.571Z"
   },
   {
    "duration": 22,
    "start_time": "2021-11-23T21:04:24.579Z"
   },
   {
    "duration": 38,
    "start_time": "2021-11-23T21:04:24.603Z"
   },
   {
    "duration": 2760,
    "start_time": "2021-11-23T21:04:24.642Z"
   },
   {
    "duration": 12,
    "start_time": "2021-11-23T21:04:27.404Z"
   },
   {
    "duration": 8,
    "start_time": "2021-11-23T21:04:27.417Z"
   },
   {
    "duration": 7,
    "start_time": "2021-11-23T21:04:27.444Z"
   },
   {
    "duration": 17,
    "start_time": "2021-11-23T21:04:27.452Z"
   },
   {
    "duration": 12,
    "start_time": "2021-11-23T21:04:27.471Z"
   },
   {
    "duration": 15,
    "start_time": "2021-11-23T21:04:27.484Z"
   },
   {
    "duration": 4,
    "start_time": "2021-11-23T21:04:34.007Z"
   },
   {
    "duration": 4,
    "start_time": "2021-11-23T21:04:43.262Z"
   },
   {
    "duration": 15,
    "start_time": "2021-11-23T21:04:49.469Z"
   },
   {
    "duration": 17,
    "start_time": "2021-11-23T21:04:53.792Z"
   },
   {
    "duration": 362,
    "start_time": "2021-11-23T21:08:56.528Z"
   },
   {
    "duration": 6690,
    "start_time": "2021-11-23T21:09:27.240Z"
   },
   {
    "duration": 7122,
    "start_time": "2021-11-23T21:09:48.662Z"
   },
   {
    "duration": 3,
    "start_time": "2021-11-23T21:10:04.059Z"
   },
   {
    "duration": 165,
    "start_time": "2021-11-23T21:10:04.064Z"
   },
   {
    "duration": 10,
    "start_time": "2021-11-23T21:10:04.231Z"
   },
   {
    "duration": 9,
    "start_time": "2021-11-23T21:10:04.243Z"
   },
   {
    "duration": 7,
    "start_time": "2021-11-23T21:10:04.254Z"
   },
   {
    "duration": 14,
    "start_time": "2021-11-23T21:10:04.262Z"
   },
   {
    "duration": 17,
    "start_time": "2021-11-23T21:10:04.278Z"
   },
   {
    "duration": 530,
    "start_time": "2021-11-23T21:10:04.297Z"
   },
   {
    "duration": 16,
    "start_time": "2021-11-23T21:10:04.829Z"
   },
   {
    "duration": 439,
    "start_time": "2021-11-23T21:10:04.847Z"
   },
   {
    "duration": 19,
    "start_time": "2021-11-23T21:10:05.288Z"
   },
   {
    "duration": 7,
    "start_time": "2021-11-23T21:10:05.309Z"
   },
   {
    "duration": 27,
    "start_time": "2021-11-23T21:10:05.318Z"
   },
   {
    "duration": 9,
    "start_time": "2021-11-23T21:10:05.347Z"
   },
   {
    "duration": 46,
    "start_time": "2021-11-23T21:10:05.358Z"
   },
   {
    "duration": 4983,
    "start_time": "2021-11-23T21:10:05.407Z"
   },
   {
    "duration": 14,
    "start_time": "2021-11-23T21:10:10.392Z"
   },
   {
    "duration": 10,
    "start_time": "2021-11-23T21:10:10.408Z"
   },
   {
    "duration": 6,
    "start_time": "2021-11-23T21:10:10.419Z"
   },
   {
    "duration": 11,
    "start_time": "2021-11-23T21:10:10.444Z"
   },
   {
    "duration": 6,
    "start_time": "2021-11-23T21:10:10.457Z"
   },
   {
    "duration": 7,
    "start_time": "2021-11-23T21:10:10.465Z"
   },
   {
    "duration": 6,
    "start_time": "2021-11-23T21:10:10.474Z"
   },
   {
    "duration": 9,
    "start_time": "2021-11-23T21:10:10.483Z"
   },
   {
    "duration": 13,
    "start_time": "2021-11-23T21:10:10.494Z"
   },
   {
    "duration": 484,
    "start_time": "2021-11-23T21:10:10.509Z"
   },
   {
    "duration": 8,
    "start_time": "2021-11-23T21:10:10.996Z"
   },
   {
    "duration": 8,
    "start_time": "2021-11-23T21:10:11.006Z"
   },
   {
    "duration": 29,
    "start_time": "2021-11-23T21:10:11.016Z"
   },
   {
    "duration": 12,
    "start_time": "2021-11-23T21:10:11.047Z"
   },
   {
    "duration": 16,
    "start_time": "2021-11-23T21:10:11.060Z"
   },
   {
    "duration": 452,
    "start_time": "2021-11-23T21:10:11.077Z"
   },
   {
    "duration": 19,
    "start_time": "2021-11-23T21:10:11.531Z"
   },
   {
    "duration": 8,
    "start_time": "2021-11-23T21:10:11.552Z"
   },
   {
    "duration": 6,
    "start_time": "2021-11-23T21:10:11.561Z"
   },
   {
    "duration": 7,
    "start_time": "2021-11-23T21:10:11.568Z"
   },
   {
    "duration": 33,
    "start_time": "2021-11-23T21:10:11.576Z"
   },
   {
    "duration": 3208,
    "start_time": "2021-11-23T21:10:11.610Z"
   },
   {
    "duration": 11,
    "start_time": "2021-11-23T21:10:14.820Z"
   },
   {
    "duration": 7,
    "start_time": "2021-11-23T21:10:14.845Z"
   },
   {
    "duration": 6,
    "start_time": "2021-11-23T21:10:14.854Z"
   },
   {
    "duration": 8,
    "start_time": "2021-11-23T21:10:14.861Z"
   },
   {
    "duration": 9,
    "start_time": "2021-11-23T21:10:14.871Z"
   },
   {
    "duration": 8,
    "start_time": "2021-11-23T21:10:14.882Z"
   },
   {
    "duration": 10,
    "start_time": "2021-11-23T21:10:19.613Z"
   },
   {
    "duration": 262,
    "start_time": "2021-11-23T21:10:36.714Z"
   },
   {
    "duration": 6,
    "start_time": "2021-11-23T21:10:52.053Z"
   },
   {
    "duration": 6,
    "start_time": "2021-11-23T21:11:12.725Z"
   },
   {
    "duration": 689,
    "start_time": "2021-11-23T21:11:33.730Z"
   },
   {
    "duration": 837,
    "start_time": "2021-11-23T21:11:52.744Z"
   },
   {
    "duration": 6,
    "start_time": "2021-11-23T21:12:04.919Z"
   },
   {
    "duration": 693,
    "start_time": "2021-11-23T21:12:09.651Z"
   },
   {
    "duration": 4,
    "start_time": "2021-11-23T21:12:37.384Z"
   },
   {
    "duration": 8,
    "start_time": "2021-11-23T21:15:01.987Z"
   },
   {
    "duration": 3,
    "start_time": "2021-11-23T21:15:08.086Z"
   },
   {
    "duration": 172,
    "start_time": "2021-11-23T21:15:08.091Z"
   },
   {
    "duration": 9,
    "start_time": "2021-11-23T21:15:08.265Z"
   },
   {
    "duration": 10,
    "start_time": "2021-11-23T21:15:08.275Z"
   },
   {
    "duration": 7,
    "start_time": "2021-11-23T21:15:08.286Z"
   },
   {
    "duration": 15,
    "start_time": "2021-11-23T21:15:08.294Z"
   },
   {
    "duration": 34,
    "start_time": "2021-11-23T21:15:08.311Z"
   },
   {
    "duration": 465,
    "start_time": "2021-11-23T21:15:08.347Z"
   },
   {
    "duration": 9,
    "start_time": "2021-11-23T21:15:08.814Z"
   },
   {
    "duration": 502,
    "start_time": "2021-11-23T21:15:08.825Z"
   },
   {
    "duration": 23,
    "start_time": "2021-11-23T21:15:09.330Z"
   },
   {
    "duration": 8,
    "start_time": "2021-11-23T21:15:09.356Z"
   },
   {
    "duration": 6,
    "start_time": "2021-11-23T21:15:09.366Z"
   },
   {
    "duration": 9,
    "start_time": "2021-11-23T21:15:09.374Z"
   },
   {
    "duration": 80,
    "start_time": "2021-11-23T21:15:09.385Z"
   },
   {
    "duration": 5111,
    "start_time": "2021-11-23T21:15:09.466Z"
   },
   {
    "duration": 14,
    "start_time": "2021-11-23T21:15:14.578Z"
   },
   {
    "duration": 15,
    "start_time": "2021-11-23T21:15:14.594Z"
   },
   {
    "duration": 6,
    "start_time": "2021-11-23T21:15:14.611Z"
   },
   {
    "duration": 31,
    "start_time": "2021-11-23T21:15:14.618Z"
   },
   {
    "duration": 13,
    "start_time": "2021-11-23T21:15:14.651Z"
   },
   {
    "duration": 23,
    "start_time": "2021-11-23T21:15:14.666Z"
   },
   {
    "duration": 15,
    "start_time": "2021-11-23T21:15:14.691Z"
   },
   {
    "duration": 26,
    "start_time": "2021-11-23T21:15:14.707Z"
   },
   {
    "duration": 25,
    "start_time": "2021-11-23T21:15:14.735Z"
   },
   {
    "duration": 444,
    "start_time": "2021-11-23T21:15:14.762Z"
   },
   {
    "duration": 8,
    "start_time": "2021-11-23T21:15:15.209Z"
   },
   {
    "duration": 8,
    "start_time": "2021-11-23T21:15:15.219Z"
   },
   {
    "duration": 19,
    "start_time": "2021-11-23T21:15:15.229Z"
   },
   {
    "duration": 20,
    "start_time": "2021-11-23T21:15:15.249Z"
   },
   {
    "duration": 17,
    "start_time": "2021-11-23T21:15:15.271Z"
   },
   {
    "duration": 439,
    "start_time": "2021-11-23T21:15:15.290Z"
   },
   {
    "duration": 23,
    "start_time": "2021-11-23T21:15:15.730Z"
   },
   {
    "duration": 8,
    "start_time": "2021-11-23T21:15:15.755Z"
   },
   {
    "duration": 5,
    "start_time": "2021-11-23T21:15:15.764Z"
   },
   {
    "duration": 5,
    "start_time": "2021-11-23T21:15:15.771Z"
   },
   {
    "duration": 31,
    "start_time": "2021-11-23T21:15:15.777Z"
   },
   {
    "duration": 3360,
    "start_time": "2021-11-23T21:15:15.810Z"
   },
   {
    "duration": 12,
    "start_time": "2021-11-23T21:15:19.172Z"
   },
   {
    "duration": 7,
    "start_time": "2021-11-23T21:15:19.186Z"
   },
   {
    "duration": 6,
    "start_time": "2021-11-23T21:15:19.195Z"
   },
   {
    "duration": 8,
    "start_time": "2021-11-23T21:15:19.203Z"
   },
   {
    "duration": 38,
    "start_time": "2021-11-23T21:15:19.213Z"
   },
   {
    "duration": 6,
    "start_time": "2021-11-23T21:15:22.611Z"
   },
   {
    "duration": 17,
    "start_time": "2021-11-23T21:15:29.040Z"
   },
   {
    "duration": 16,
    "start_time": "2021-11-23T21:15:35.695Z"
   },
   {
    "duration": 10,
    "start_time": "2021-11-23T21:15:38.728Z"
   },
   {
    "duration": 17,
    "start_time": "2021-11-23T21:16:50.024Z"
   },
   {
    "duration": 10,
    "start_time": "2021-11-23T21:17:41.239Z"
   },
   {
    "duration": 977,
    "start_time": "2021-11-24T10:27:31.312Z"
   },
   {
    "duration": 192,
    "start_time": "2021-11-24T10:27:32.292Z"
   },
   {
    "duration": 18,
    "start_time": "2021-11-24T10:27:32.487Z"
   },
   {
    "duration": 13,
    "start_time": "2021-11-24T10:27:32.507Z"
   },
   {
    "duration": 10,
    "start_time": "2021-11-24T10:27:32.523Z"
   },
   {
    "duration": 45,
    "start_time": "2021-11-24T10:27:32.535Z"
   },
   {
    "duration": 27,
    "start_time": "2021-11-24T10:27:32.583Z"
   },
   {
    "duration": 842,
    "start_time": "2021-11-24T10:27:32.613Z"
   },
   {
    "duration": 16,
    "start_time": "2021-11-24T10:27:33.467Z"
   },
   {
    "duration": 795,
    "start_time": "2021-11-24T10:27:33.486Z"
   },
   {
    "duration": 24,
    "start_time": "2021-11-24T10:27:34.283Z"
   },
   {
    "duration": 12,
    "start_time": "2021-11-24T10:27:34.309Z"
   },
   {
    "duration": 8,
    "start_time": "2021-11-24T10:27:34.324Z"
   },
   {
    "duration": 16,
    "start_time": "2021-11-24T10:27:34.366Z"
   },
   {
    "duration": 143,
    "start_time": "2021-11-24T10:27:34.384Z"
   },
   {
    "duration": 8749,
    "start_time": "2021-11-24T10:27:34.530Z"
   },
   {
    "duration": 23,
    "start_time": "2021-11-24T10:27:43.281Z"
   },
   {
    "duration": 13,
    "start_time": "2021-11-24T10:27:43.306Z"
   },
   {
    "duration": 46,
    "start_time": "2021-11-24T10:27:43.322Z"
   },
   {
    "duration": 16,
    "start_time": "2021-11-24T10:27:43.371Z"
   },
   {
    "duration": 10,
    "start_time": "2021-11-24T10:27:43.389Z"
   },
   {
    "duration": 12,
    "start_time": "2021-11-24T10:27:43.401Z"
   },
   {
    "duration": 8,
    "start_time": "2021-11-24T10:27:43.570Z"
   },
   {
    "duration": 23,
    "start_time": "2021-11-24T10:27:43.580Z"
   },
   {
    "duration": 24,
    "start_time": "2021-11-24T10:27:43.605Z"
   },
   {
    "duration": 865,
    "start_time": "2021-11-24T10:27:43.632Z"
   },
   {
    "duration": 12,
    "start_time": "2021-11-24T10:27:44.502Z"
   },
   {
    "duration": 13,
    "start_time": "2021-11-24T10:27:44.517Z"
   },
   {
    "duration": 43,
    "start_time": "2021-11-24T10:27:44.532Z"
   },
   {
    "duration": 15,
    "start_time": "2021-11-24T10:27:44.577Z"
   },
   {
    "duration": 23,
    "start_time": "2021-11-24T10:27:44.595Z"
   },
   {
    "duration": 929,
    "start_time": "2021-11-24T10:27:44.621Z"
   },
   {
    "duration": 22,
    "start_time": "2021-11-24T10:27:45.553Z"
   },
   {
    "duration": 12,
    "start_time": "2021-11-24T10:27:45.578Z"
   },
   {
    "duration": 11,
    "start_time": "2021-11-24T10:27:45.593Z"
   },
   {
    "duration": 15,
    "start_time": "2021-11-24T10:27:45.606Z"
   },
   {
    "duration": 91,
    "start_time": "2021-11-24T10:27:45.624Z"
   },
   {
    "duration": 5458,
    "start_time": "2021-11-24T10:27:45.717Z"
   },
   {
    "duration": 18,
    "start_time": "2021-11-24T10:27:51.177Z"
   },
   {
    "duration": 14,
    "start_time": "2021-11-24T10:27:51.197Z"
   },
   {
    "duration": 9,
    "start_time": "2021-11-24T10:27:51.213Z"
   },
   {
    "duration": 49,
    "start_time": "2021-11-24T10:27:51.224Z"
   },
   {
    "duration": 21,
    "start_time": "2021-11-24T10:27:51.275Z"
   },
   {
    "duration": 9,
    "start_time": "2021-11-24T10:27:51.299Z"
   },
   {
    "duration": 30,
    "start_time": "2021-11-24T10:27:51.310Z"
   },
   {
    "duration": 23,
    "start_time": "2021-11-24T10:27:51.368Z"
   },
   {
    "duration": 912,
    "start_time": "2021-11-24T13:38:06.269Z"
   },
   {
    "duration": 232,
    "start_time": "2021-11-24T13:38:07.184Z"
   },
   {
    "duration": 28,
    "start_time": "2021-11-24T13:38:07.420Z"
   },
   {
    "duration": 20,
    "start_time": "2021-11-24T13:38:07.452Z"
   },
   {
    "duration": 13,
    "start_time": "2021-11-24T13:38:07.476Z"
   },
   {
    "duration": 27,
    "start_time": "2021-11-24T13:38:07.491Z"
   },
   {
    "duration": 65,
    "start_time": "2021-11-24T13:38:07.521Z"
   },
   {
    "duration": 817,
    "start_time": "2021-11-24T13:38:07.589Z"
   },
   {
    "duration": 14,
    "start_time": "2021-11-24T13:38:08.410Z"
   },
   {
    "duration": 818,
    "start_time": "2021-11-24T13:38:08.428Z"
   },
   {
    "duration": 33,
    "start_time": "2021-11-24T13:38:09.249Z"
   },
   {
    "duration": 12,
    "start_time": "2021-11-24T13:38:09.285Z"
   },
   {
    "duration": 10,
    "start_time": "2021-11-24T13:38:09.299Z"
   },
   {
    "duration": 15,
    "start_time": "2021-11-24T13:38:09.312Z"
   },
   {
    "duration": 157,
    "start_time": "2021-11-24T13:38:09.368Z"
   },
   {
    "duration": 9143,
    "start_time": "2021-11-24T13:38:09.527Z"
   },
   {
    "duration": 24,
    "start_time": "2021-11-24T13:38:18.672Z"
   },
   {
    "duration": 13,
    "start_time": "2021-11-24T13:38:18.698Z"
   },
   {
    "duration": 10,
    "start_time": "2021-11-24T13:38:18.714Z"
   },
   {
    "duration": 56,
    "start_time": "2021-11-24T13:38:18.727Z"
   },
   {
    "duration": 10,
    "start_time": "2021-11-24T13:38:18.786Z"
   },
   {
    "duration": 9,
    "start_time": "2021-11-24T13:38:18.799Z"
   },
   {
    "duration": 183,
    "start_time": "2021-11-24T13:38:18.811Z"
   },
   {
    "duration": 17,
    "start_time": "2021-11-24T13:38:18.996Z"
   },
   {
    "duration": 54,
    "start_time": "2021-11-24T13:38:19.015Z"
   },
   {
    "duration": 816,
    "start_time": "2021-11-24T13:38:19.071Z"
   },
   {
    "duration": 11,
    "start_time": "2021-11-24T13:38:19.893Z"
   },
   {
    "duration": 11,
    "start_time": "2021-11-24T13:38:19.907Z"
   },
   {
    "duration": 11,
    "start_time": "2021-11-24T13:38:19.920Z"
   },
   {
    "duration": 51,
    "start_time": "2021-11-24T13:38:19.933Z"
   },
   {
    "duration": 22,
    "start_time": "2021-11-24T13:38:19.986Z"
   },
   {
    "duration": 799,
    "start_time": "2021-11-24T13:38:20.011Z"
   },
   {
    "duration": 18,
    "start_time": "2021-11-24T13:38:20.813Z"
   },
   {
    "duration": 34,
    "start_time": "2021-11-24T13:38:20.833Z"
   },
   {
    "duration": 8,
    "start_time": "2021-11-24T13:38:20.870Z"
   },
   {
    "duration": 12,
    "start_time": "2021-11-24T13:38:20.880Z"
   },
   {
    "duration": 78,
    "start_time": "2021-11-24T13:38:20.894Z"
   },
   {
    "duration": 5384,
    "start_time": "2021-11-24T13:38:20.975Z"
   },
   {
    "duration": 20,
    "start_time": "2021-11-24T13:38:26.361Z"
   },
   {
    "duration": 16,
    "start_time": "2021-11-24T13:38:26.383Z"
   },
   {
    "duration": 12,
    "start_time": "2021-11-24T13:38:26.401Z"
   },
   {
    "duration": 12,
    "start_time": "2021-11-24T13:38:26.416Z"
   },
   {
    "duration": 48,
    "start_time": "2021-11-24T13:38:26.430Z"
   },
   {
    "duration": 10,
    "start_time": "2021-11-24T13:38:26.481Z"
   },
   {
    "duration": 31,
    "start_time": "2021-11-24T13:38:26.493Z"
   },
   {
    "duration": 48,
    "start_time": "2021-11-24T13:38:26.526Z"
   },
   {
    "duration": 24,
    "start_time": "2021-11-24T13:42:41.219Z"
   },
   {
    "duration": 31,
    "start_time": "2021-11-24T13:43:52.785Z"
   },
   {
    "duration": 7654,
    "start_time": "2021-11-24T13:45:20.997Z"
   },
   {
    "duration": 23,
    "start_time": "2021-11-24T13:45:37.385Z"
   },
   {
    "duration": 14,
    "start_time": "2021-11-24T13:45:42.327Z"
   },
   {
    "duration": 5,
    "start_time": "2021-11-24T13:45:54.037Z"
   },
   {
    "duration": 8,
    "start_time": "2021-11-24T13:46:08.461Z"
   },
   {
    "duration": 30,
    "start_time": "2021-11-24T13:46:09.663Z"
   },
   {
    "duration": 99,
    "start_time": "2021-11-24T13:46:39.366Z"
   },
   {
    "duration": 102,
    "start_time": "2021-11-24T13:47:40.083Z"
   },
   {
    "duration": 95,
    "start_time": "2021-11-24T13:47:50.349Z"
   },
   {
    "duration": 141,
    "start_time": "2021-11-24T13:48:21.791Z"
   },
   {
    "duration": 111,
    "start_time": "2021-11-24T13:48:31.790Z"
   },
   {
    "duration": 301,
    "start_time": "2021-11-24T13:49:08.092Z"
   },
   {
    "duration": 300,
    "start_time": "2021-11-24T13:49:18.963Z"
   },
   {
    "duration": 9,
    "start_time": "2021-11-24T13:51:22.240Z"
   },
   {
    "duration": 9,
    "start_time": "2021-11-24T13:51:24.963Z"
   },
   {
    "duration": 295,
    "start_time": "2021-11-24T13:53:39.036Z"
   },
   {
    "duration": 287,
    "start_time": "2021-11-24T13:54:36.489Z"
   },
   {
    "duration": 288,
    "start_time": "2021-11-24T13:55:14.582Z"
   },
   {
    "duration": 281,
    "start_time": "2021-11-24T13:55:18.882Z"
   },
   {
    "duration": 296,
    "start_time": "2021-11-24T13:55:29.615Z"
   },
   {
    "duration": 7,
    "start_time": "2021-11-24T13:55:41.970Z"
   },
   {
    "duration": 394,
    "start_time": "2021-11-24T13:55:57.334Z"
   },
   {
    "duration": 9,
    "start_time": "2021-11-24T13:56:10.063Z"
   },
   {
    "duration": 6,
    "start_time": "2021-11-24T13:57:33.283Z"
   },
   {
    "duration": 6,
    "start_time": "2021-11-24T13:57:52.593Z"
   },
   {
    "duration": 7,
    "start_time": "2021-11-24T13:57:59.406Z"
   },
   {
    "duration": 6,
    "start_time": "2021-11-24T13:58:44.073Z"
   },
   {
    "duration": 9,
    "start_time": "2021-11-24T13:58:49.898Z"
   },
   {
    "duration": 6,
    "start_time": "2021-11-24T13:59:40.981Z"
   },
   {
    "duration": 6,
    "start_time": "2021-11-24T13:59:54.890Z"
   },
   {
    "duration": 7,
    "start_time": "2021-11-24T14:00:00.975Z"
   },
   {
    "duration": 8,
    "start_time": "2021-11-24T14:00:15.143Z"
   },
   {
    "duration": 6,
    "start_time": "2021-11-24T14:01:11.651Z"
   },
   {
    "duration": 7,
    "start_time": "2021-11-24T14:01:48.000Z"
   },
   {
    "duration": 8,
    "start_time": "2021-11-24T14:02:39.198Z"
   },
   {
    "duration": 7,
    "start_time": "2021-11-24T14:03:18.944Z"
   },
   {
    "duration": 7,
    "start_time": "2021-11-24T14:03:52.033Z"
   },
   {
    "duration": 7,
    "start_time": "2021-11-24T14:05:03.563Z"
   },
   {
    "duration": 20,
    "start_time": "2021-11-24T14:06:01.369Z"
   },
   {
    "duration": 10,
    "start_time": "2021-11-24T18:13:37.968Z"
   },
   {
    "duration": 10,
    "start_time": "2021-11-24T18:13:53.798Z"
   },
   {
    "duration": 10,
    "start_time": "2021-11-24T18:14:07.431Z"
   },
   {
    "duration": 8,
    "start_time": "2021-11-24T18:14:56.941Z"
   },
   {
    "duration": 11,
    "start_time": "2021-11-24T18:16:03.378Z"
   },
   {
    "duration": 3,
    "start_time": "2021-11-24T18:16:20.728Z"
   },
   {
    "duration": 208,
    "start_time": "2021-11-24T18:16:20.734Z"
   },
   {
    "duration": 14,
    "start_time": "2021-11-24T18:16:20.945Z"
   },
   {
    "duration": 18,
    "start_time": "2021-11-24T18:16:20.961Z"
   },
   {
    "duration": 17,
    "start_time": "2021-11-24T18:16:20.982Z"
   },
   {
    "duration": 9,
    "start_time": "2021-11-24T18:16:21.002Z"
   },
   {
    "duration": 30,
    "start_time": "2021-11-24T18:16:21.015Z"
   },
   {
    "duration": 817,
    "start_time": "2021-11-24T18:16:21.067Z"
   },
   {
    "duration": 13,
    "start_time": "2021-11-24T18:16:21.887Z"
   },
   {
    "duration": 809,
    "start_time": "2021-11-24T18:16:21.902Z"
   },
   {
    "duration": 25,
    "start_time": "2021-11-24T18:16:22.714Z"
   },
   {
    "duration": 31,
    "start_time": "2021-11-24T18:16:22.741Z"
   },
   {
    "duration": 12,
    "start_time": "2021-11-24T18:16:22.774Z"
   },
   {
    "duration": 6,
    "start_time": "2021-11-24T18:16:22.789Z"
   },
   {
    "duration": 309,
    "start_time": "2021-11-24T18:16:22.797Z"
   },
   {
    "duration": 9014,
    "start_time": "2021-11-24T18:16:23.108Z"
   },
   {
    "duration": 42,
    "start_time": "2021-11-24T18:16:32.125Z"
   },
   {
    "duration": 12,
    "start_time": "2021-11-24T18:16:32.170Z"
   },
   {
    "duration": 18,
    "start_time": "2021-11-24T18:16:32.187Z"
   },
   {
    "duration": 6,
    "start_time": "2021-11-24T18:16:32.208Z"
   },
   {
    "duration": 13,
    "start_time": "2021-11-24T18:16:32.217Z"
   },
   {
    "duration": 39,
    "start_time": "2021-11-24T18:16:32.232Z"
   },
   {
    "duration": 15,
    "start_time": "2021-11-24T18:16:32.273Z"
   },
   {
    "duration": 19,
    "start_time": "2021-11-24T18:16:32.291Z"
   },
   {
    "duration": 23,
    "start_time": "2021-11-24T18:16:32.312Z"
   },
   {
    "duration": 860,
    "start_time": "2021-11-24T18:16:32.337Z"
   },
   {
    "duration": 12,
    "start_time": "2021-11-24T18:16:33.200Z"
   },
   {
    "duration": 12,
    "start_time": "2021-11-24T18:16:33.215Z"
   },
   {
    "duration": 39,
    "start_time": "2021-11-24T18:16:33.229Z"
   },
   {
    "duration": 6,
    "start_time": "2021-11-24T18:16:33.271Z"
   },
   {
    "duration": 29,
    "start_time": "2021-11-24T18:16:33.279Z"
   },
   {
    "duration": 1083,
    "start_time": "2021-11-24T18:16:33.310Z"
   },
   {
    "duration": 19,
    "start_time": "2021-11-24T18:16:34.396Z"
   },
   {
    "duration": 11,
    "start_time": "2021-11-24T18:16:34.418Z"
   },
   {
    "duration": 42,
    "start_time": "2021-11-24T18:16:34.432Z"
   },
   {
    "duration": 15,
    "start_time": "2021-11-24T18:16:34.476Z"
   },
   {
    "duration": 75,
    "start_time": "2021-11-24T18:16:34.493Z"
   },
   {
    "duration": 5351,
    "start_time": "2021-11-24T18:16:34.571Z"
   },
   {
    "duration": 20,
    "start_time": "2021-11-24T18:16:39.924Z"
   },
   {
    "duration": 29,
    "start_time": "2021-11-24T18:16:39.946Z"
   },
   {
    "duration": 12,
    "start_time": "2021-11-24T18:16:39.977Z"
   },
   {
    "duration": 9,
    "start_time": "2021-11-24T18:16:39.991Z"
   },
   {
    "duration": 20,
    "start_time": "2021-11-24T18:16:40.002Z"
   },
   {
    "duration": 43,
    "start_time": "2021-11-24T18:16:40.024Z"
   },
   {
    "duration": 359,
    "start_time": "2021-11-24T18:16:40.070Z"
   },
   {
    "duration": 37,
    "start_time": "2021-11-24T18:16:40.432Z"
   },
   {
    "duration": 15,
    "start_time": "2021-11-24T18:16:40.471Z"
   },
   {
    "duration": 8,
    "start_time": "2021-11-24T18:16:40.488Z"
   },
   {
    "duration": 13,
    "start_time": "2021-11-24T18:16:40.498Z"
   },
   {
    "duration": 10,
    "start_time": "2021-11-24T18:19:33.964Z"
   },
   {
    "duration": 18,
    "start_time": "2021-11-24T18:19:57.710Z"
   },
   {
    "duration": 19,
    "start_time": "2021-11-24T18:20:56.013Z"
   },
   {
    "duration": 10,
    "start_time": "2021-11-24T18:21:09.519Z"
   },
   {
    "duration": 10,
    "start_time": "2021-11-24T18:21:10.497Z"
   },
   {
    "duration": 661,
    "start_time": "2021-11-24T18:22:30.597Z"
   },
   {
    "duration": 17,
    "start_time": "2021-11-24T18:22:34.671Z"
   },
   {
    "duration": 13,
    "start_time": "2021-11-24T18:23:36.483Z"
   },
   {
    "duration": 4,
    "start_time": "2021-11-24T18:27:16.255Z"
   },
   {
    "duration": 12,
    "start_time": "2021-11-24T18:28:53.451Z"
   },
   {
    "duration": 10,
    "start_time": "2021-11-24T18:29:32.759Z"
   },
   {
    "duration": 7,
    "start_time": "2021-11-24T18:31:07.783Z"
   },
   {
    "duration": 16445,
    "start_time": "2021-11-24T18:37:06.172Z"
   },
   {
    "duration": 16152,
    "start_time": "2021-11-24T18:40:18.904Z"
   },
   {
    "duration": 22,
    "start_time": "2021-11-24T18:40:50.033Z"
   },
   {
    "duration": 7,
    "start_time": "2021-11-24T18:43:40.576Z"
   },
   {
    "duration": 321,
    "start_time": "2021-11-24T18:43:57.754Z"
   },
   {
    "duration": 334,
    "start_time": "2021-11-24T18:44:02.093Z"
   },
   {
    "duration": 285,
    "start_time": "2021-11-24T18:44:17.952Z"
   },
   {
    "duration": 10,
    "start_time": "2021-11-24T18:45:18.858Z"
   },
   {
    "duration": 12,
    "start_time": "2021-11-24T18:46:25.603Z"
   },
   {
    "duration": 11008,
    "start_time": "2021-11-24T18:49:15.440Z"
   },
   {
    "duration": 22,
    "start_time": "2021-11-24T18:49:35.480Z"
   },
   {
    "duration": 8,
    "start_time": "2021-11-24T18:49:43.821Z"
   },
   {
    "duration": 10,
    "start_time": "2021-11-24T18:49:51.428Z"
   },
   {
    "duration": 8,
    "start_time": "2021-11-24T18:50:32.506Z"
   },
   {
    "duration": 8,
    "start_time": "2021-11-24T18:51:07.663Z"
   },
   {
    "duration": 9,
    "start_time": "2021-11-24T18:51:18.894Z"
   },
   {
    "duration": 9,
    "start_time": "2021-11-24T18:51:26.035Z"
   },
   {
    "duration": 4,
    "start_time": "2021-11-24T18:52:00.472Z"
   },
   {
    "duration": 238,
    "start_time": "2021-11-24T18:52:00.480Z"
   },
   {
    "duration": 21,
    "start_time": "2021-11-24T18:52:00.722Z"
   },
   {
    "duration": 27,
    "start_time": "2021-11-24T18:52:00.746Z"
   },
   {
    "duration": 14,
    "start_time": "2021-11-24T18:52:00.776Z"
   },
   {
    "duration": 9,
    "start_time": "2021-11-24T18:52:00.793Z"
   },
   {
    "duration": 35,
    "start_time": "2021-11-24T18:52:00.806Z"
   },
   {
    "duration": 864,
    "start_time": "2021-11-24T18:52:00.844Z"
   },
   {
    "duration": 15,
    "start_time": "2021-11-24T18:52:01.711Z"
   },
   {
    "duration": 808,
    "start_time": "2021-11-24T18:52:01.729Z"
   },
   {
    "duration": 34,
    "start_time": "2021-11-24T18:52:02.539Z"
   },
   {
    "duration": 12,
    "start_time": "2021-11-24T18:52:02.576Z"
   },
   {
    "duration": 9,
    "start_time": "2021-11-24T18:52:02.591Z"
   },
   {
    "duration": 7,
    "start_time": "2021-11-24T18:52:02.602Z"
   },
   {
    "duration": 147,
    "start_time": "2021-11-24T18:52:02.612Z"
   },
   {
    "duration": 9745,
    "start_time": "2021-11-24T18:52:02.761Z"
   },
   {
    "duration": 35,
    "start_time": "2021-11-24T18:52:12.509Z"
   },
   {
    "duration": 19,
    "start_time": "2021-11-24T18:52:12.569Z"
   },
   {
    "duration": 14,
    "start_time": "2021-11-24T18:52:12.597Z"
   },
   {
    "duration": 8,
    "start_time": "2021-11-24T18:52:12.617Z"
   },
   {
    "duration": 47,
    "start_time": "2021-11-24T18:52:12.628Z"
   },
   {
    "duration": 12,
    "start_time": "2021-11-24T18:52:12.678Z"
   },
   {
    "duration": 14,
    "start_time": "2021-11-24T18:52:12.692Z"
   },
   {
    "duration": 12,
    "start_time": "2021-11-24T18:52:12.708Z"
   },
   {
    "duration": 58,
    "start_time": "2021-11-24T18:52:12.723Z"
   },
   {
    "duration": 843,
    "start_time": "2021-11-24T18:52:12.784Z"
   },
   {
    "duration": 17,
    "start_time": "2021-11-24T18:52:13.630Z"
   },
   {
    "duration": 10,
    "start_time": "2021-11-24T18:52:13.666Z"
   },
   {
    "duration": 11,
    "start_time": "2021-11-24T18:52:13.680Z"
   },
   {
    "duration": 7,
    "start_time": "2021-11-24T18:52:13.693Z"
   },
   {
    "duration": 66,
    "start_time": "2021-11-24T18:52:13.702Z"
   },
   {
    "duration": 815,
    "start_time": "2021-11-24T18:52:13.771Z"
   },
   {
    "duration": 18,
    "start_time": "2021-11-24T18:52:14.589Z"
   },
   {
    "duration": 18,
    "start_time": "2021-11-24T18:52:14.610Z"
   },
   {
    "duration": 37,
    "start_time": "2021-11-24T18:52:14.631Z"
   },
   {
    "duration": 8,
    "start_time": "2021-11-24T18:52:14.672Z"
   },
   {
    "duration": 86,
    "start_time": "2021-11-24T18:52:14.682Z"
   },
   {
    "duration": 5815,
    "start_time": "2021-11-24T18:52:14.771Z"
   },
   {
    "duration": 19,
    "start_time": "2021-11-24T18:52:20.589Z"
   },
   {
    "duration": 21,
    "start_time": "2021-11-24T18:52:20.610Z"
   },
   {
    "duration": 35,
    "start_time": "2021-11-24T18:52:20.634Z"
   },
   {
    "duration": 9,
    "start_time": "2021-11-24T18:52:20.672Z"
   },
   {
    "duration": 33,
    "start_time": "2021-11-24T18:52:20.683Z"
   },
   {
    "duration": 13,
    "start_time": "2021-11-24T18:52:20.719Z"
   },
   {
    "duration": 76,
    "start_time": "2021-11-24T18:52:20.736Z"
   },
   {
    "duration": 26,
    "start_time": "2021-11-24T18:52:20.816Z"
   },
   {
    "duration": 24,
    "start_time": "2021-11-24T18:52:20.845Z"
   },
   {
    "duration": 5,
    "start_time": "2021-11-24T18:52:20.871Z"
   },
   {
    "duration": 20,
    "start_time": "2021-11-24T18:52:20.879Z"
   },
   {
    "duration": 23,
    "start_time": "2021-11-24T18:52:20.902Z"
   },
   {
    "duration": 32,
    "start_time": "2021-11-24T18:52:20.928Z"
   },
   {
    "duration": 10,
    "start_time": "2021-11-24T18:52:20.966Z"
   },
   {
    "duration": 21,
    "start_time": "2021-11-24T18:52:20.978Z"
   },
   {
    "duration": 42,
    "start_time": "2021-11-24T18:52:21.002Z"
   },
   {
    "duration": 17,
    "start_time": "2021-11-24T18:52:21.051Z"
   },
   {
    "duration": 24,
    "start_time": "2021-11-24T18:52:21.071Z"
   },
   {
    "duration": 17061,
    "start_time": "2021-11-24T18:52:56.700Z"
   },
   {
    "duration": 22,
    "start_time": "2021-11-24T18:53:18.546Z"
   },
   {
    "duration": 9,
    "start_time": "2021-11-24T18:53:18.696Z"
   },
   {
    "duration": 12,
    "start_time": "2021-11-24T18:53:28.374Z"
   },
   {
    "duration": 8,
    "start_time": "2021-11-24T18:53:49.405Z"
   },
   {
    "duration": 4,
    "start_time": "2021-11-24T18:54:25.697Z"
   },
   {
    "duration": 180,
    "start_time": "2021-11-24T18:54:25.784Z"
   },
   {
    "duration": 14,
    "start_time": "2021-11-24T18:54:25.966Z"
   },
   {
    "duration": 11,
    "start_time": "2021-11-24T18:54:25.984Z"
   },
   {
    "duration": 10,
    "start_time": "2021-11-24T18:54:25.998Z"
   },
   {
    "duration": 7,
    "start_time": "2021-11-24T18:54:26.010Z"
   },
   {
    "duration": 73,
    "start_time": "2021-11-24T18:54:26.019Z"
   },
   {
    "duration": 814,
    "start_time": "2021-11-24T18:54:26.095Z"
   },
   {
    "duration": 13,
    "start_time": "2021-11-24T18:54:26.912Z"
   },
   {
    "duration": 828,
    "start_time": "2021-11-24T18:54:26.932Z"
   },
   {
    "duration": 26,
    "start_time": "2021-11-24T18:54:27.767Z"
   },
   {
    "duration": 10,
    "start_time": "2021-11-24T18:54:27.796Z"
   },
   {
    "duration": 8,
    "start_time": "2021-11-24T18:54:27.809Z"
   },
   {
    "duration": 49,
    "start_time": "2021-11-24T18:54:27.819Z"
   },
   {
    "duration": 82,
    "start_time": "2021-11-24T18:54:27.871Z"
   },
   {
    "duration": 9003,
    "start_time": "2021-11-24T18:54:27.967Z"
   },
   {
    "duration": 24,
    "start_time": "2021-11-24T18:54:36.972Z"
   },
   {
    "duration": 15,
    "start_time": "2021-11-24T18:54:36.999Z"
   },
   {
    "duration": 13,
    "start_time": "2021-11-24T18:54:37.016Z"
   },
   {
    "duration": 40,
    "start_time": "2021-11-24T18:54:37.032Z"
   },
   {
    "duration": 14,
    "start_time": "2021-11-24T18:54:37.075Z"
   },
   {
    "duration": 17,
    "start_time": "2021-11-24T18:54:37.091Z"
   },
   {
    "duration": 10,
    "start_time": "2021-11-24T18:54:37.110Z"
   },
   {
    "duration": 10,
    "start_time": "2021-11-24T18:54:37.123Z"
   },
   {
    "duration": 22,
    "start_time": "2021-11-24T18:54:37.168Z"
   },
   {
    "duration": 915,
    "start_time": "2021-11-24T18:54:37.193Z"
   },
   {
    "duration": 13,
    "start_time": "2021-11-24T18:54:38.110Z"
   },
   {
    "duration": 10,
    "start_time": "2021-11-24T18:54:38.130Z"
   },
   {
    "duration": 9,
    "start_time": "2021-11-24T18:54:38.168Z"
   },
   {
    "duration": 6,
    "start_time": "2021-11-24T18:54:38.180Z"
   },
   {
    "duration": 28,
    "start_time": "2021-11-24T18:54:38.189Z"
   },
   {
    "duration": 811,
    "start_time": "2021-11-24T18:54:38.220Z"
   },
   {
    "duration": 18,
    "start_time": "2021-11-24T18:54:39.034Z"
   },
   {
    "duration": 9,
    "start_time": "2021-11-24T18:54:39.066Z"
   },
   {
    "duration": 8,
    "start_time": "2021-11-24T18:54:39.078Z"
   },
   {
    "duration": 5,
    "start_time": "2021-11-24T18:54:39.089Z"
   },
   {
    "duration": 93,
    "start_time": "2021-11-24T18:54:39.097Z"
   },
   {
    "duration": 5816,
    "start_time": "2021-11-24T18:54:39.192Z"
   },
   {
    "duration": 19,
    "start_time": "2021-11-24T18:54:45.011Z"
   },
   {
    "duration": 35,
    "start_time": "2021-11-24T18:54:45.032Z"
   },
   {
    "duration": 9,
    "start_time": "2021-11-24T18:54:45.070Z"
   },
   {
    "duration": 10,
    "start_time": "2021-11-24T18:54:45.081Z"
   },
   {
    "duration": 20,
    "start_time": "2021-11-24T18:54:45.093Z"
   },
   {
    "duration": 9,
    "start_time": "2021-11-24T18:54:45.116Z"
   },
   {
    "duration": 63,
    "start_time": "2021-11-24T18:54:45.127Z"
   },
   {
    "duration": 23,
    "start_time": "2021-11-24T18:54:45.193Z"
   },
   {
    "duration": 13,
    "start_time": "2021-11-24T18:54:45.218Z"
   },
   {
    "duration": 33,
    "start_time": "2021-11-24T18:54:45.234Z"
   },
   {
    "duration": 10,
    "start_time": "2021-11-24T18:54:45.269Z"
   },
   {
    "duration": 11,
    "start_time": "2021-11-24T18:54:45.282Z"
   },
   {
    "duration": 22,
    "start_time": "2021-11-24T18:54:45.295Z"
   },
   {
    "duration": 50,
    "start_time": "2021-11-24T18:54:45.319Z"
   },
   {
    "duration": 9,
    "start_time": "2021-11-24T18:54:45.371Z"
   },
   {
    "duration": 11,
    "start_time": "2021-11-24T18:54:45.383Z"
   },
   {
    "duration": 14,
    "start_time": "2021-11-24T18:54:45.397Z"
   },
   {
    "duration": 13,
    "start_time": "2021-11-24T18:54:45.413Z"
   },
   {
    "duration": 8593,
    "start_time": "2021-11-24T18:55:05.551Z"
   },
   {
    "duration": 21,
    "start_time": "2021-11-24T18:55:18.862Z"
   },
   {
    "duration": 8,
    "start_time": "2021-11-24T18:55:27.653Z"
   },
   {
    "duration": 4,
    "start_time": "2021-11-24T18:55:48.679Z"
   },
   {
    "duration": 183,
    "start_time": "2021-11-24T18:55:48.685Z"
   },
   {
    "duration": 13,
    "start_time": "2021-11-24T18:55:48.871Z"
   },
   {
    "duration": 20,
    "start_time": "2021-11-24T18:55:48.886Z"
   },
   {
    "duration": 11,
    "start_time": "2021-11-24T18:55:48.908Z"
   },
   {
    "duration": 9,
    "start_time": "2021-11-24T18:55:48.921Z"
   },
   {
    "duration": 55,
    "start_time": "2021-11-24T18:55:48.933Z"
   },
   {
    "duration": 818,
    "start_time": "2021-11-24T18:55:48.992Z"
   },
   {
    "duration": 14,
    "start_time": "2021-11-24T18:55:49.813Z"
   },
   {
    "duration": 810,
    "start_time": "2021-11-24T18:55:49.829Z"
   },
   {
    "duration": 33,
    "start_time": "2021-11-24T18:55:50.641Z"
   },
   {
    "duration": 12,
    "start_time": "2021-11-24T18:55:50.676Z"
   },
   {
    "duration": 15,
    "start_time": "2021-11-24T18:55:50.691Z"
   },
   {
    "duration": 16,
    "start_time": "2021-11-24T18:55:50.709Z"
   },
   {
    "duration": 115,
    "start_time": "2021-11-24T18:55:50.728Z"
   },
   {
    "duration": 9739,
    "start_time": "2021-11-24T18:55:50.845Z"
   },
   {
    "duration": 25,
    "start_time": "2021-11-24T18:56:00.587Z"
   },
   {
    "duration": 35,
    "start_time": "2021-11-24T18:56:00.614Z"
   },
   {
    "duration": 10,
    "start_time": "2021-11-24T18:56:00.667Z"
   },
   {
    "duration": 19,
    "start_time": "2021-11-24T18:56:00.680Z"
   },
   {
    "duration": 27,
    "start_time": "2021-11-24T18:56:00.702Z"
   },
   {
    "duration": 30,
    "start_time": "2021-11-24T18:56:00.731Z"
   },
   {
    "duration": 18,
    "start_time": "2021-11-24T18:56:00.763Z"
   },
   {
    "duration": 30,
    "start_time": "2021-11-24T18:56:00.783Z"
   },
   {
    "duration": 24,
    "start_time": "2021-11-24T18:56:00.815Z"
   },
   {
    "duration": 814,
    "start_time": "2021-11-24T18:56:00.842Z"
   },
   {
    "duration": 20,
    "start_time": "2021-11-24T18:56:01.658Z"
   },
   {
    "duration": 25,
    "start_time": "2021-11-24T18:56:01.680Z"
   },
   {
    "duration": 17,
    "start_time": "2021-11-24T18:56:01.708Z"
   },
   {
    "duration": 25,
    "start_time": "2021-11-24T18:56:01.729Z"
   },
   {
    "duration": 52,
    "start_time": "2021-11-24T18:56:01.756Z"
   },
   {
    "duration": 778,
    "start_time": "2021-11-24T18:56:01.811Z"
   },
   {
    "duration": 18,
    "start_time": "2021-11-24T18:56:02.592Z"
   },
   {
    "duration": 14,
    "start_time": "2021-11-24T18:56:02.613Z"
   },
   {
    "duration": 7,
    "start_time": "2021-11-24T18:56:02.630Z"
   },
   {
    "duration": 7,
    "start_time": "2021-11-24T18:56:02.668Z"
   },
   {
    "duration": 60,
    "start_time": "2021-11-24T18:56:02.678Z"
   },
   {
    "duration": 5371,
    "start_time": "2021-11-24T18:56:02.741Z"
   },
   {
    "duration": 18,
    "start_time": "2021-11-24T18:56:08.115Z"
   },
   {
    "duration": 14,
    "start_time": "2021-11-24T18:56:08.136Z"
   },
   {
    "duration": 9,
    "start_time": "2021-11-24T18:56:08.168Z"
   },
   {
    "duration": 8,
    "start_time": "2021-11-24T18:56:08.180Z"
   },
   {
    "duration": 15,
    "start_time": "2021-11-24T18:56:08.191Z"
   },
   {
    "duration": 58,
    "start_time": "2021-11-24T18:56:08.209Z"
   },
   {
    "duration": 30,
    "start_time": "2021-11-24T18:56:08.270Z"
   },
   {
    "duration": 23,
    "start_time": "2021-11-24T18:56:08.302Z"
   },
   {
    "duration": 46,
    "start_time": "2021-11-24T18:56:08.327Z"
   },
   {
    "duration": 5,
    "start_time": "2021-11-24T18:56:08.375Z"
   },
   {
    "duration": 12,
    "start_time": "2021-11-24T18:56:08.382Z"
   },
   {
    "duration": 9,
    "start_time": "2021-11-24T18:56:08.397Z"
   },
   {
    "duration": 59,
    "start_time": "2021-11-24T18:56:08.408Z"
   },
   {
    "duration": 10,
    "start_time": "2021-11-24T18:56:08.470Z"
   },
   {
    "duration": 9,
    "start_time": "2021-11-24T18:56:08.482Z"
   },
   {
    "duration": 17,
    "start_time": "2021-11-24T18:56:08.494Z"
   },
   {
    "duration": 14,
    "start_time": "2021-11-24T18:56:08.517Z"
   },
   {
    "duration": 46,
    "start_time": "2021-11-24T18:56:08.533Z"
   },
   {
    "duration": 9,
    "start_time": "2021-11-24T18:56:25.489Z"
   },
   {
    "duration": 16370,
    "start_time": "2021-11-24T18:56:38.122Z"
   },
   {
    "duration": 23,
    "start_time": "2021-11-24T18:57:00.511Z"
   },
   {
    "duration": 9,
    "start_time": "2021-11-24T18:57:05.266Z"
   },
   {
    "duration": 90,
    "start_time": "2021-11-24T18:57:59.676Z"
   },
   {
    "duration": 349,
    "start_time": "2021-11-24T18:58:07.097Z"
   },
   {
    "duration": 312,
    "start_time": "2021-11-24T18:58:29.768Z"
   },
   {
    "duration": 125,
    "start_time": "2021-11-24T18:58:54.600Z"
   },
   {
    "duration": 8,
    "start_time": "2021-11-24T18:59:00.722Z"
   },
   {
    "duration": 6,
    "start_time": "2021-11-24T18:59:32.696Z"
   },
   {
    "duration": 8,
    "start_time": "2021-11-24T18:59:47.097Z"
   },
   {
    "duration": 5,
    "start_time": "2021-11-24T19:00:50.788Z"
   },
   {
    "duration": 181,
    "start_time": "2021-11-24T19:00:50.796Z"
   },
   {
    "duration": 15,
    "start_time": "2021-11-24T19:00:50.980Z"
   },
   {
    "duration": 17,
    "start_time": "2021-11-24T19:00:50.998Z"
   },
   {
    "duration": 11,
    "start_time": "2021-11-24T19:00:51.017Z"
   },
   {
    "duration": 40,
    "start_time": "2021-11-24T19:00:51.030Z"
   },
   {
    "duration": 41,
    "start_time": "2021-11-24T19:00:51.073Z"
   },
   {
    "duration": 824,
    "start_time": "2021-11-24T19:00:51.116Z"
   },
   {
    "duration": 23,
    "start_time": "2021-11-24T19:00:51.944Z"
   },
   {
    "duration": 805,
    "start_time": "2021-11-24T19:00:51.971Z"
   },
   {
    "duration": 23,
    "start_time": "2021-11-24T19:00:52.779Z"
   },
   {
    "duration": 14,
    "start_time": "2021-11-24T19:00:52.805Z"
   },
   {
    "duration": 15,
    "start_time": "2021-11-24T19:00:52.821Z"
   },
   {
    "duration": 32,
    "start_time": "2021-11-24T19:00:52.839Z"
   },
   {
    "duration": 100,
    "start_time": "2021-11-24T19:00:52.874Z"
   },
   {
    "duration": 9581,
    "start_time": "2021-11-24T19:00:52.976Z"
   },
   {
    "duration": 25,
    "start_time": "2021-11-24T19:01:02.567Z"
   },
   {
    "duration": 22,
    "start_time": "2021-11-24T19:01:02.596Z"
   },
   {
    "duration": 13,
    "start_time": "2021-11-24T19:01:02.622Z"
   },
   {
    "duration": 8,
    "start_time": "2021-11-24T19:01:02.667Z"
   },
   {
    "duration": 12,
    "start_time": "2021-11-24T19:01:02.678Z"
   },
   {
    "duration": 12,
    "start_time": "2021-11-24T19:01:02.693Z"
   },
   {
    "duration": 12,
    "start_time": "2021-11-24T19:01:02.708Z"
   },
   {
    "duration": 46,
    "start_time": "2021-11-24T19:01:02.723Z"
   },
   {
    "duration": 25,
    "start_time": "2021-11-24T19:01:02.772Z"
   },
   {
    "duration": 937,
    "start_time": "2021-11-24T19:01:02.800Z"
   },
   {
    "duration": 25,
    "start_time": "2021-11-24T19:01:03.744Z"
   },
   {
    "duration": 11,
    "start_time": "2021-11-24T19:01:03.773Z"
   },
   {
    "duration": 9,
    "start_time": "2021-11-24T19:01:03.787Z"
   },
   {
    "duration": 7,
    "start_time": "2021-11-24T19:01:03.799Z"
   },
   {
    "duration": 69,
    "start_time": "2021-11-24T19:01:03.809Z"
   },
   {
    "duration": 1027,
    "start_time": "2021-11-24T19:01:03.881Z"
   },
   {
    "duration": 18,
    "start_time": "2021-11-24T19:01:04.910Z"
   },
   {
    "duration": 11,
    "start_time": "2021-11-24T19:01:04.930Z"
   },
   {
    "duration": 8,
    "start_time": "2021-11-24T19:01:04.967Z"
   },
   {
    "duration": 7,
    "start_time": "2021-11-24T19:01:04.977Z"
   },
   {
    "duration": 91,
    "start_time": "2021-11-24T19:01:04.986Z"
   },
   {
    "duration": 5528,
    "start_time": "2021-11-24T19:01:05.080Z"
   },
   {
    "duration": 20,
    "start_time": "2021-11-24T19:01:10.611Z"
   },
   {
    "duration": 41,
    "start_time": "2021-11-24T19:01:10.634Z"
   },
   {
    "duration": 13,
    "start_time": "2021-11-24T19:01:10.677Z"
   },
   {
    "duration": 7,
    "start_time": "2021-11-24T19:01:10.693Z"
   },
   {
    "duration": 15,
    "start_time": "2021-11-24T19:01:10.703Z"
   },
   {
    "duration": 47,
    "start_time": "2021-11-24T19:01:10.721Z"
   },
   {
    "duration": 30,
    "start_time": "2021-11-24T19:01:10.771Z"
   },
   {
    "duration": 24,
    "start_time": "2021-11-24T19:01:10.803Z"
   },
   {
    "duration": 44,
    "start_time": "2021-11-24T19:01:10.829Z"
   },
   {
    "duration": 4,
    "start_time": "2021-11-24T19:01:10.876Z"
   },
   {
    "duration": 10,
    "start_time": "2021-11-24T19:01:10.883Z"
   },
   {
    "duration": 10,
    "start_time": "2021-11-24T19:01:10.896Z"
   },
   {
    "duration": 23,
    "start_time": "2021-11-24T19:01:10.908Z"
   },
   {
    "duration": 9,
    "start_time": "2021-11-24T19:01:10.968Z"
   },
   {
    "duration": 9,
    "start_time": "2021-11-24T19:01:10.979Z"
   },
   {
    "duration": 15,
    "start_time": "2021-11-24T19:01:10.991Z"
   },
   {
    "duration": 21,
    "start_time": "2021-11-24T19:01:11.008Z"
   },
   {
    "duration": 12,
    "start_time": "2021-11-24T19:01:11.068Z"
   },
   {
    "duration": 21344,
    "start_time": "2021-11-24T19:01:11.083Z"
   },
   {
    "duration": 40,
    "start_time": "2021-11-24T19:01:32.430Z"
   },
   {
    "duration": 8,
    "start_time": "2021-11-24T19:01:32.472Z"
   },
   {
    "duration": 9,
    "start_time": "2021-11-24T19:01:50.247Z"
   },
   {
    "duration": 11,
    "start_time": "2021-11-24T19:02:19.531Z"
   },
   {
    "duration": 279,
    "start_time": "2021-11-24T19:04:01.187Z"
   },
   {
    "duration": 24,
    "start_time": "2021-11-24T19:09:46.174Z"
   },
   {
    "duration": 11,
    "start_time": "2021-11-24T19:09:51.124Z"
   },
   {
    "duration": 1158,
    "start_time": "2021-11-24T19:11:14.877Z"
   },
   {
    "duration": 9,
    "start_time": "2021-11-24T19:11:50.863Z"
   },
   {
    "duration": 9,
    "start_time": "2021-11-24T19:16:29.544Z"
   },
   {
    "duration": 31,
    "start_time": "2021-11-24T19:28:39.736Z"
   },
   {
    "duration": 1335,
    "start_time": "2021-11-24T22:11:03.251Z"
   },
   {
    "duration": 299,
    "start_time": "2021-11-24T22:11:23.647Z"
   },
   {
    "duration": 12,
    "start_time": "2021-11-24T22:11:50.476Z"
   },
   {
    "duration": 309,
    "start_time": "2021-11-24T22:12:26.482Z"
   },
   {
    "duration": 8,
    "start_time": "2021-11-24T22:12:52.830Z"
   },
   {
    "duration": 22,
    "start_time": "2021-11-24T22:14:17.273Z"
   },
   {
    "duration": 17,
    "start_time": "2021-11-24T22:15:11.779Z"
   },
   {
    "duration": 9,
    "start_time": "2021-11-24T22:16:27.192Z"
   },
   {
    "duration": 4,
    "start_time": "2021-11-24T22:19:40.847Z"
   },
   {
    "duration": 190,
    "start_time": "2021-11-24T22:19:40.854Z"
   },
   {
    "duration": 14,
    "start_time": "2021-11-24T22:19:41.047Z"
   },
   {
    "duration": 16,
    "start_time": "2021-11-24T22:19:41.065Z"
   },
   {
    "duration": 12,
    "start_time": "2021-11-24T22:19:41.084Z"
   },
   {
    "duration": 10,
    "start_time": "2021-11-24T22:19:41.098Z"
   },
   {
    "duration": 67,
    "start_time": "2021-11-24T22:19:41.111Z"
   },
   {
    "duration": 796,
    "start_time": "2021-11-24T22:19:41.181Z"
   },
   {
    "duration": 12,
    "start_time": "2021-11-24T22:19:41.980Z"
   },
   {
    "duration": 780,
    "start_time": "2021-11-24T22:19:41.995Z"
   },
   {
    "duration": 24,
    "start_time": "2021-11-24T22:19:42.777Z"
   },
   {
    "duration": 12,
    "start_time": "2021-11-24T22:19:42.803Z"
   },
   {
    "duration": 9,
    "start_time": "2021-11-24T22:19:42.817Z"
   },
   {
    "duration": 41,
    "start_time": "2021-11-24T22:19:42.828Z"
   },
   {
    "duration": 98,
    "start_time": "2021-11-24T22:19:42.872Z"
   },
   {
    "duration": 9450,
    "start_time": "2021-11-24T22:19:42.972Z"
   },
   {
    "duration": 42,
    "start_time": "2021-11-24T22:19:52.425Z"
   },
   {
    "duration": 13,
    "start_time": "2021-11-24T22:19:52.471Z"
   },
   {
    "duration": 10,
    "start_time": "2021-11-24T22:19:52.490Z"
   },
   {
    "duration": 6,
    "start_time": "2021-11-24T22:19:52.503Z"
   },
   {
    "duration": 57,
    "start_time": "2021-11-24T22:19:52.512Z"
   },
   {
    "duration": 12,
    "start_time": "2021-11-24T22:19:52.571Z"
   },
   {
    "duration": 13,
    "start_time": "2021-11-24T22:19:52.585Z"
   },
   {
    "duration": 8,
    "start_time": "2021-11-24T22:19:52.601Z"
   },
   {
    "duration": 22,
    "start_time": "2021-11-24T22:19:52.611Z"
   },
   {
    "duration": 838,
    "start_time": "2021-11-24T22:19:52.636Z"
   },
   {
    "duration": 12,
    "start_time": "2021-11-24T22:19:53.476Z"
   },
   {
    "duration": 11,
    "start_time": "2021-11-24T22:19:53.491Z"
   },
   {
    "duration": 8,
    "start_time": "2021-11-24T22:19:53.505Z"
   },
   {
    "duration": 15,
    "start_time": "2021-11-24T22:19:53.515Z"
   },
   {
    "duration": 23,
    "start_time": "2021-11-24T22:19:53.568Z"
   },
   {
    "duration": 783,
    "start_time": "2021-11-24T22:19:53.593Z"
   },
   {
    "duration": 17,
    "start_time": "2021-11-24T22:19:54.379Z"
   },
   {
    "duration": 10,
    "start_time": "2021-11-24T22:19:54.398Z"
   },
   {
    "duration": 7,
    "start_time": "2021-11-24T22:19:54.410Z"
   },
   {
    "duration": 49,
    "start_time": "2021-11-24T22:19:54.419Z"
   },
   {
    "duration": 58,
    "start_time": "2021-11-24T22:19:54.471Z"
   },
   {
    "duration": 5416,
    "start_time": "2021-11-24T22:19:54.531Z"
   },
   {
    "duration": 28,
    "start_time": "2021-11-24T22:19:59.950Z"
   },
   {
    "duration": 19,
    "start_time": "2021-11-24T22:19:59.980Z"
   },
   {
    "duration": 12,
    "start_time": "2021-11-24T22:20:00.001Z"
   },
   {
    "duration": 31,
    "start_time": "2021-11-24T22:20:00.015Z"
   },
   {
    "duration": 41,
    "start_time": "2021-11-24T22:20:00.048Z"
   },
   {
    "duration": 11,
    "start_time": "2021-11-24T22:20:00.092Z"
   },
   {
    "duration": 37,
    "start_time": "2021-11-24T22:20:00.106Z"
   },
   {
    "duration": 37,
    "start_time": "2021-11-24T22:20:00.145Z"
   },
   {
    "duration": 15,
    "start_time": "2021-11-24T22:20:00.185Z"
   },
   {
    "duration": 14,
    "start_time": "2021-11-24T22:20:00.203Z"
   },
   {
    "duration": 21,
    "start_time": "2021-11-24T22:20:00.220Z"
   },
   {
    "duration": 44,
    "start_time": "2021-11-24T22:20:00.243Z"
   },
   {
    "duration": 40,
    "start_time": "2021-11-24T22:20:00.290Z"
   },
   {
    "duration": 18,
    "start_time": "2021-11-24T22:20:00.333Z"
   },
   {
    "duration": 51,
    "start_time": "2021-11-24T22:20:00.354Z"
   },
   {
    "duration": 37,
    "start_time": "2021-11-24T22:20:00.408Z"
   },
   {
    "duration": 42,
    "start_time": "2021-11-24T22:20:00.454Z"
   },
   {
    "duration": 36,
    "start_time": "2021-11-24T22:20:00.499Z"
   },
   {
    "duration": 16082,
    "start_time": "2021-11-24T22:20:00.538Z"
   },
   {
    "duration": 20,
    "start_time": "2021-11-24T22:20:16.622Z"
   },
   {
    "duration": 27,
    "start_time": "2021-11-24T22:20:16.645Z"
   },
   {
    "duration": 11,
    "start_time": "2021-11-24T22:20:16.675Z"
   },
   {
    "duration": 8,
    "start_time": "2021-11-24T22:20:16.689Z"
   },
   {
    "duration": 818,
    "start_time": "2021-11-24T22:20:16.700Z"
   },
   {
    "duration": 30,
    "start_time": "2021-11-24T22:20:17.520Z"
   },
   {
    "duration": 17,
    "start_time": "2021-11-24T22:22:07.148Z"
   },
   {
    "duration": 18,
    "start_time": "2021-11-24T22:22:11.530Z"
   },
   {
    "duration": 6,
    "start_time": "2021-11-24T22:22:58.808Z"
   },
   {
    "duration": 66,
    "start_time": "2021-11-24T22:23:08.410Z"
   },
   {
    "duration": 71,
    "start_time": "2021-11-24T22:23:17.475Z"
   },
   {
    "duration": 306,
    "start_time": "2021-11-24T22:23:25.689Z"
   },
   {
    "duration": 4,
    "start_time": "2021-11-24T22:24:35.525Z"
   },
   {
    "duration": 197,
    "start_time": "2021-11-24T22:24:35.531Z"
   },
   {
    "duration": 14,
    "start_time": "2021-11-24T22:24:35.731Z"
   },
   {
    "duration": 14,
    "start_time": "2021-11-24T22:24:35.747Z"
   },
   {
    "duration": 9,
    "start_time": "2021-11-24T22:24:35.767Z"
   },
   {
    "duration": 11,
    "start_time": "2021-11-24T22:24:35.778Z"
   },
   {
    "duration": 35,
    "start_time": "2021-11-24T22:24:35.792Z"
   },
   {
    "duration": 844,
    "start_time": "2021-11-24T22:24:35.829Z"
   },
   {
    "duration": 14,
    "start_time": "2021-11-24T22:24:36.676Z"
   },
   {
    "duration": 1753,
    "start_time": "2021-11-24T22:24:36.693Z"
   },
   {
    "duration": 33,
    "start_time": "2021-11-24T22:24:38.448Z"
   },
   {
    "duration": 11,
    "start_time": "2021-11-24T22:24:38.483Z"
   },
   {
    "duration": 8,
    "start_time": "2021-11-24T22:24:38.497Z"
   },
   {
    "duration": 7,
    "start_time": "2021-11-24T22:24:38.507Z"
   },
   {
    "duration": 123,
    "start_time": "2021-11-24T22:24:38.516Z"
   },
   {
    "duration": 8566,
    "start_time": "2021-11-24T22:24:38.641Z"
   },
   {
    "duration": 24,
    "start_time": "2021-11-24T22:24:47.210Z"
   },
   {
    "duration": 35,
    "start_time": "2021-11-24T22:24:47.236Z"
   },
   {
    "duration": 9,
    "start_time": "2021-11-24T22:24:47.277Z"
   },
   {
    "duration": 6,
    "start_time": "2021-11-24T22:24:47.290Z"
   },
   {
    "duration": 12,
    "start_time": "2021-11-24T22:24:47.298Z"
   },
   {
    "duration": 9,
    "start_time": "2021-11-24T22:24:47.312Z"
   },
   {
    "duration": 8,
    "start_time": "2021-11-24T22:24:47.368Z"
   },
   {
    "duration": 8,
    "start_time": "2021-11-24T22:24:47.379Z"
   },
   {
    "duration": 21,
    "start_time": "2021-11-24T22:24:47.390Z"
   },
   {
    "duration": 835,
    "start_time": "2021-11-24T22:24:47.413Z"
   },
   {
    "duration": 21,
    "start_time": "2021-11-24T22:24:48.250Z"
   },
   {
    "duration": 13,
    "start_time": "2021-11-24T22:24:48.274Z"
   },
   {
    "duration": 11,
    "start_time": "2021-11-24T22:24:48.290Z"
   },
   {
    "duration": 8,
    "start_time": "2021-11-24T22:24:48.304Z"
   },
   {
    "duration": 71,
    "start_time": "2021-11-24T22:24:48.315Z"
   },
   {
    "duration": 795,
    "start_time": "2021-11-24T22:24:48.389Z"
   },
   {
    "duration": 18,
    "start_time": "2021-11-24T22:24:49.186Z"
   },
   {
    "duration": 11,
    "start_time": "2021-11-24T22:24:49.206Z"
   },
   {
    "duration": 8,
    "start_time": "2021-11-24T22:24:49.219Z"
   },
   {
    "duration": 41,
    "start_time": "2021-11-24T22:24:49.229Z"
   },
   {
    "duration": 75,
    "start_time": "2021-11-24T22:24:49.272Z"
   },
   {
    "duration": 5232,
    "start_time": "2021-11-24T22:24:49.349Z"
   },
   {
    "duration": 19,
    "start_time": "2021-11-24T22:24:54.583Z"
   },
   {
    "duration": 24,
    "start_time": "2021-11-24T22:24:54.604Z"
   },
   {
    "duration": 12,
    "start_time": "2021-11-24T22:24:54.630Z"
   },
   {
    "duration": 7,
    "start_time": "2021-11-24T22:24:54.667Z"
   },
   {
    "duration": 21,
    "start_time": "2021-11-24T22:24:54.677Z"
   },
   {
    "duration": 8,
    "start_time": "2021-11-24T22:24:54.701Z"
   },
   {
    "duration": 58,
    "start_time": "2021-11-24T22:24:54.712Z"
   },
   {
    "duration": 22,
    "start_time": "2021-11-24T22:24:54.773Z"
   },
   {
    "duration": 14,
    "start_time": "2021-11-24T22:24:54.797Z"
   },
   {
    "duration": 7,
    "start_time": "2021-11-24T22:24:54.813Z"
   },
   {
    "duration": 50,
    "start_time": "2021-11-24T22:24:54.822Z"
   },
   {
    "duration": 12,
    "start_time": "2021-11-24T22:24:54.875Z"
   },
   {
    "duration": 24,
    "start_time": "2021-11-24T22:24:54.889Z"
   },
   {
    "duration": 11,
    "start_time": "2021-11-24T22:24:54.916Z"
   },
   {
    "duration": 43,
    "start_time": "2021-11-24T22:24:54.930Z"
   },
   {
    "duration": 17,
    "start_time": "2021-11-24T22:24:54.976Z"
   },
   {
    "duration": 22,
    "start_time": "2021-11-24T22:24:55.000Z"
   },
   {
    "duration": 21,
    "start_time": "2021-11-24T22:24:55.025Z"
   },
   {
    "duration": 16142,
    "start_time": "2021-11-24T22:24:55.049Z"
   },
   {
    "duration": 21,
    "start_time": "2021-11-24T22:25:11.193Z"
   },
   {
    "duration": 7,
    "start_time": "2021-11-24T22:25:11.216Z"
   },
   {
    "duration": 48,
    "start_time": "2021-11-24T22:25:11.226Z"
   },
   {
    "duration": 8,
    "start_time": "2021-11-24T22:25:11.276Z"
   },
   {
    "duration": 809,
    "start_time": "2021-11-24T22:25:11.286Z"
   },
   {
    "duration": 31,
    "start_time": "2021-11-24T22:25:12.097Z"
   },
   {
    "duration": 10,
    "start_time": "2021-11-24T22:26:38.928Z"
   },
   {
    "duration": 15,
    "start_time": "2021-11-24T22:26:42.104Z"
   },
   {
    "duration": 17,
    "start_time": "2021-11-24T22:26:42.788Z"
   },
   {
    "duration": 9,
    "start_time": "2021-11-24T22:27:18.979Z"
   },
   {
    "duration": 1105,
    "start_time": "2021-11-24T22:30:50.944Z"
   },
   {
    "duration": 5,
    "start_time": "2021-11-24T22:31:12.930Z"
   },
   {
    "duration": 9,
    "start_time": "2021-11-24T22:31:21.349Z"
   },
   {
    "duration": 4,
    "start_time": "2021-11-24T22:33:33.336Z"
   },
   {
    "duration": 208,
    "start_time": "2021-11-24T22:33:33.343Z"
   },
   {
    "duration": 19,
    "start_time": "2021-11-24T22:33:33.556Z"
   },
   {
    "duration": 13,
    "start_time": "2021-11-24T22:33:33.578Z"
   },
   {
    "duration": 11,
    "start_time": "2021-11-24T22:33:33.593Z"
   },
   {
    "duration": 6,
    "start_time": "2021-11-24T22:33:33.606Z"
   },
   {
    "duration": 67,
    "start_time": "2021-11-24T22:33:33.614Z"
   },
   {
    "duration": 819,
    "start_time": "2021-11-24T22:33:33.685Z"
   },
   {
    "duration": 13,
    "start_time": "2021-11-24T22:33:34.507Z"
   },
   {
    "duration": 798,
    "start_time": "2021-11-24T22:33:34.523Z"
   },
   {
    "duration": 24,
    "start_time": "2021-11-24T22:33:35.324Z"
   },
   {
    "duration": 11,
    "start_time": "2021-11-24T22:33:35.367Z"
   },
   {
    "duration": 12,
    "start_time": "2021-11-24T22:33:35.380Z"
   },
   {
    "duration": 6,
    "start_time": "2021-11-24T22:33:35.395Z"
   },
   {
    "duration": 122,
    "start_time": "2021-11-24T22:33:35.403Z"
   },
   {
    "duration": 9442,
    "start_time": "2021-11-24T22:33:35.528Z"
   },
   {
    "duration": 24,
    "start_time": "2021-11-24T22:33:44.972Z"
   },
   {
    "duration": 18,
    "start_time": "2021-11-24T22:33:44.998Z"
   },
   {
    "duration": 24,
    "start_time": "2021-11-24T22:33:45.019Z"
   },
   {
    "duration": 24,
    "start_time": "2021-11-24T22:33:45.045Z"
   },
   {
    "duration": 13,
    "start_time": "2021-11-24T22:33:45.071Z"
   },
   {
    "duration": 10,
    "start_time": "2021-11-24T22:33:45.087Z"
   },
   {
    "duration": 8,
    "start_time": "2021-11-24T22:33:45.104Z"
   },
   {
    "duration": 10,
    "start_time": "2021-11-24T22:33:45.116Z"
   },
   {
    "duration": 25,
    "start_time": "2021-11-24T22:33:45.168Z"
   },
   {
    "duration": 816,
    "start_time": "2021-11-24T22:33:45.196Z"
   },
   {
    "duration": 13,
    "start_time": "2021-11-24T22:33:46.015Z"
   },
   {
    "duration": 10,
    "start_time": "2021-11-24T22:33:46.030Z"
   },
   {
    "duration": 9,
    "start_time": "2021-11-24T22:33:46.068Z"
   },
   {
    "duration": 17,
    "start_time": "2021-11-24T22:33:46.080Z"
   },
   {
    "duration": 27,
    "start_time": "2021-11-24T22:33:46.099Z"
   },
   {
    "duration": 816,
    "start_time": "2021-11-24T22:33:46.128Z"
   },
   {
    "duration": 27,
    "start_time": "2021-11-24T22:33:46.946Z"
   },
   {
    "duration": 17,
    "start_time": "2021-11-24T22:33:46.975Z"
   },
   {
    "duration": 9,
    "start_time": "2021-11-24T22:33:46.994Z"
   },
   {
    "duration": 10,
    "start_time": "2021-11-24T22:33:47.005Z"
   },
   {
    "duration": 90,
    "start_time": "2021-11-24T22:33:47.017Z"
   },
   {
    "duration": 5551,
    "start_time": "2021-11-24T22:33:47.110Z"
   },
   {
    "duration": 20,
    "start_time": "2021-11-24T22:33:52.663Z"
   },
   {
    "duration": 19,
    "start_time": "2021-11-24T22:33:52.685Z"
   },
   {
    "duration": 11,
    "start_time": "2021-11-24T22:33:52.707Z"
   },
   {
    "duration": 6,
    "start_time": "2021-11-24T22:33:52.721Z"
   },
   {
    "duration": 43,
    "start_time": "2021-11-24T22:33:52.730Z"
   },
   {
    "duration": 10,
    "start_time": "2021-11-24T22:33:52.776Z"
   },
   {
    "duration": 36,
    "start_time": "2021-11-24T22:33:52.788Z"
   },
   {
    "duration": 53,
    "start_time": "2021-11-24T22:33:52.826Z"
   },
   {
    "duration": 15,
    "start_time": "2021-11-24T22:33:52.881Z"
   },
   {
    "duration": 5,
    "start_time": "2021-11-24T22:33:52.899Z"
   },
   {
    "duration": 12,
    "start_time": "2021-11-24T22:33:52.907Z"
   },
   {
    "duration": 50,
    "start_time": "2021-11-24T22:33:52.922Z"
   },
   {
    "duration": 38,
    "start_time": "2021-11-24T22:33:52.974Z"
   },
   {
    "duration": 9,
    "start_time": "2021-11-24T22:33:53.014Z"
   },
   {
    "duration": 21,
    "start_time": "2021-11-24T22:33:53.026Z"
   },
   {
    "duration": 25,
    "start_time": "2021-11-24T22:33:53.049Z"
   },
   {
    "duration": 14,
    "start_time": "2021-11-24T22:33:53.076Z"
   },
   {
    "duration": 19,
    "start_time": "2021-11-24T22:33:53.092Z"
   },
   {
    "duration": 16238,
    "start_time": "2021-11-24T22:33:53.113Z"
   },
   {
    "duration": 29,
    "start_time": "2021-11-24T22:34:09.354Z"
   },
   {
    "duration": 8,
    "start_time": "2021-11-24T22:34:09.385Z"
   },
   {
    "duration": 12,
    "start_time": "2021-11-24T22:34:09.395Z"
   },
   {
    "duration": 9,
    "start_time": "2021-11-24T22:34:09.410Z"
   },
   {
    "duration": 898,
    "start_time": "2021-11-24T22:34:09.421Z"
   },
   {
    "duration": 29,
    "start_time": "2021-11-24T22:34:10.321Z"
   },
   {
    "duration": 28,
    "start_time": "2021-11-24T22:34:37.255Z"
   },
   {
    "duration": 314,
    "start_time": "2021-11-24T22:34:54.685Z"
   },
   {
    "duration": 4,
    "start_time": "2021-11-24T22:35:09.863Z"
   },
   {
    "duration": 178,
    "start_time": "2021-11-24T22:35:09.870Z"
   },
   {
    "duration": 15,
    "start_time": "2021-11-24T22:35:10.051Z"
   },
   {
    "duration": 12,
    "start_time": "2021-11-24T22:35:10.069Z"
   },
   {
    "duration": 9,
    "start_time": "2021-11-24T22:35:10.084Z"
   },
   {
    "duration": 6,
    "start_time": "2021-11-24T22:35:10.097Z"
   },
   {
    "duration": 66,
    "start_time": "2021-11-24T22:35:10.107Z"
   },
   {
    "duration": 812,
    "start_time": "2021-11-24T22:35:10.176Z"
   },
   {
    "duration": 14,
    "start_time": "2021-11-24T22:35:10.990Z"
   },
   {
    "duration": 804,
    "start_time": "2021-11-24T22:35:11.006Z"
   },
   {
    "duration": 33,
    "start_time": "2021-11-24T22:35:11.813Z"
   },
   {
    "duration": 27,
    "start_time": "2021-11-24T22:35:11.849Z"
   },
   {
    "duration": 14,
    "start_time": "2021-11-24T22:35:11.878Z"
   },
   {
    "duration": 7,
    "start_time": "2021-11-24T22:35:11.894Z"
   },
   {
    "duration": 116,
    "start_time": "2021-11-24T22:35:11.903Z"
   },
   {
    "duration": 9805,
    "start_time": "2021-11-24T22:35:12.021Z"
   },
   {
    "duration": 24,
    "start_time": "2021-11-24T22:35:21.828Z"
   },
   {
    "duration": 23,
    "start_time": "2021-11-24T22:35:21.854Z"
   },
   {
    "duration": 10,
    "start_time": "2021-11-24T22:35:21.884Z"
   },
   {
    "duration": 10,
    "start_time": "2021-11-24T22:35:21.898Z"
   },
   {
    "duration": 11,
    "start_time": "2021-11-24T22:35:21.910Z"
   },
   {
    "duration": 9,
    "start_time": "2021-11-24T22:35:21.968Z"
   },
   {
    "duration": 11,
    "start_time": "2021-11-24T22:35:21.979Z"
   },
   {
    "duration": 10,
    "start_time": "2021-11-24T22:35:21.993Z"
   },
   {
    "duration": 21,
    "start_time": "2021-11-24T22:35:22.006Z"
   },
   {
    "duration": 818,
    "start_time": "2021-11-24T22:35:22.067Z"
   },
   {
    "duration": 12,
    "start_time": "2021-11-24T22:35:22.888Z"
   },
   {
    "duration": 15,
    "start_time": "2021-11-24T22:35:22.903Z"
   },
   {
    "duration": 10,
    "start_time": "2021-11-24T22:35:22.921Z"
   },
   {
    "duration": 9,
    "start_time": "2021-11-24T22:35:22.968Z"
   },
   {
    "duration": 34,
    "start_time": "2021-11-24T22:35:22.979Z"
   },
   {
    "duration": 823,
    "start_time": "2021-11-24T22:35:23.016Z"
   },
   {
    "duration": 30,
    "start_time": "2021-11-24T22:35:23.842Z"
   },
   {
    "duration": 12,
    "start_time": "2021-11-24T22:35:23.876Z"
   },
   {
    "duration": 8,
    "start_time": "2021-11-24T22:35:23.890Z"
   },
   {
    "duration": 7,
    "start_time": "2021-11-24T22:35:23.900Z"
   },
   {
    "duration": 98,
    "start_time": "2021-11-24T22:35:23.909Z"
   },
   {
    "duration": 5326,
    "start_time": "2021-11-24T22:35:24.010Z"
   },
   {
    "duration": 31,
    "start_time": "2021-11-24T22:35:29.338Z"
   },
   {
    "duration": 20,
    "start_time": "2021-11-24T22:35:29.371Z"
   },
   {
    "duration": 8,
    "start_time": "2021-11-24T22:35:29.394Z"
   },
   {
    "duration": 9,
    "start_time": "2021-11-24T22:35:29.405Z"
   },
   {
    "duration": 16,
    "start_time": "2021-11-24T22:35:29.417Z"
   },
   {
    "duration": 36,
    "start_time": "2021-11-24T22:35:29.436Z"
   },
   {
    "duration": 43,
    "start_time": "2021-11-24T22:35:29.474Z"
   },
   {
    "duration": 22,
    "start_time": "2021-11-24T22:35:29.520Z"
   },
   {
    "duration": 33,
    "start_time": "2021-11-24T22:35:29.545Z"
   },
   {
    "duration": 7,
    "start_time": "2021-11-24T22:35:29.581Z"
   },
   {
    "duration": 16,
    "start_time": "2021-11-24T22:35:29.590Z"
   },
   {
    "duration": 16,
    "start_time": "2021-11-24T22:35:29.608Z"
   },
   {
    "duration": 41,
    "start_time": "2021-11-24T22:35:29.627Z"
   },
   {
    "duration": 9,
    "start_time": "2021-11-24T22:35:29.671Z"
   },
   {
    "duration": 14,
    "start_time": "2021-11-24T22:35:29.682Z"
   },
   {
    "duration": 30,
    "start_time": "2021-11-24T22:35:29.698Z"
   },
   {
    "duration": 15,
    "start_time": "2021-11-24T22:35:29.735Z"
   },
   {
    "duration": 24,
    "start_time": "2021-11-24T22:35:29.752Z"
   },
   {
    "duration": 15896,
    "start_time": "2021-11-24T22:35:29.778Z"
   },
   {
    "duration": 22,
    "start_time": "2021-11-24T22:35:45.676Z"
   },
   {
    "duration": 8,
    "start_time": "2021-11-24T22:35:45.700Z"
   },
   {
    "duration": 10,
    "start_time": "2021-11-24T22:35:45.711Z"
   },
   {
    "duration": 46,
    "start_time": "2021-11-24T22:35:45.724Z"
   },
   {
    "duration": 881,
    "start_time": "2021-11-24T22:35:45.773Z"
   },
   {
    "duration": 39,
    "start_time": "2021-11-24T22:35:46.656Z"
   },
   {
    "duration": 30,
    "start_time": "2021-11-24T22:36:00.670Z"
   },
   {
    "duration": 9,
    "start_time": "2021-11-24T22:36:14.334Z"
   },
   {
    "duration": 3,
    "start_time": "2021-11-24T22:38:55.467Z"
   },
   {
    "duration": 190,
    "start_time": "2021-11-24T22:38:55.473Z"
   },
   {
    "duration": 13,
    "start_time": "2021-11-24T22:38:55.666Z"
   },
   {
    "duration": 16,
    "start_time": "2021-11-24T22:38:55.682Z"
   },
   {
    "duration": 9,
    "start_time": "2021-11-24T22:38:55.700Z"
   },
   {
    "duration": 6,
    "start_time": "2021-11-24T22:38:55.712Z"
   },
   {
    "duration": 61,
    "start_time": "2021-11-24T22:38:55.722Z"
   },
   {
    "duration": 808,
    "start_time": "2021-11-24T22:38:55.786Z"
   },
   {
    "duration": 13,
    "start_time": "2021-11-24T22:38:56.596Z"
   },
   {
    "duration": 787,
    "start_time": "2021-11-24T22:38:56.612Z"
   },
   {
    "duration": 24,
    "start_time": "2021-11-24T22:38:57.401Z"
   },
   {
    "duration": 14,
    "start_time": "2021-11-24T22:38:57.428Z"
   },
   {
    "duration": 9,
    "start_time": "2021-11-24T22:38:57.466Z"
   },
   {
    "duration": 7,
    "start_time": "2021-11-24T22:38:57.478Z"
   },
   {
    "duration": 110,
    "start_time": "2021-11-24T22:38:57.488Z"
   },
   {
    "duration": 8576,
    "start_time": "2021-11-24T22:38:57.601Z"
   },
   {
    "duration": 26,
    "start_time": "2021-11-24T22:39:06.180Z"
   },
   {
    "duration": 15,
    "start_time": "2021-11-24T22:39:06.208Z"
   },
   {
    "duration": 40,
    "start_time": "2021-11-24T22:39:06.229Z"
   },
   {
    "duration": 6,
    "start_time": "2021-11-24T22:39:06.272Z"
   },
   {
    "duration": 13,
    "start_time": "2021-11-24T22:39:06.280Z"
   },
   {
    "duration": 10,
    "start_time": "2021-11-24T22:39:06.295Z"
   },
   {
    "duration": 9,
    "start_time": "2021-11-24T22:39:06.307Z"
   },
   {
    "duration": 49,
    "start_time": "2021-11-24T22:39:06.319Z"
   },
   {
    "duration": 22,
    "start_time": "2021-11-24T22:39:06.371Z"
   },
   {
    "duration": 820,
    "start_time": "2021-11-24T22:39:06.395Z"
   },
   {
    "duration": 12,
    "start_time": "2021-11-24T22:39:07.217Z"
   },
   {
    "duration": 13,
    "start_time": "2021-11-24T22:39:07.232Z"
   },
   {
    "duration": 27,
    "start_time": "2021-11-24T22:39:07.247Z"
   },
   {
    "duration": 7,
    "start_time": "2021-11-24T22:39:07.277Z"
   },
   {
    "duration": 23,
    "start_time": "2021-11-24T22:39:07.286Z"
   },
   {
    "duration": 812,
    "start_time": "2021-11-24T22:39:07.312Z"
   },
   {
    "duration": 18,
    "start_time": "2021-11-24T22:39:08.126Z"
   },
   {
    "duration": 22,
    "start_time": "2021-11-24T22:39:08.147Z"
   },
   {
    "duration": 10,
    "start_time": "2021-11-24T22:39:08.172Z"
   },
   {
    "duration": 6,
    "start_time": "2021-11-24T22:39:08.185Z"
   },
   {
    "duration": 91,
    "start_time": "2021-11-24T22:39:08.193Z"
   },
   {
    "duration": 6602,
    "start_time": "2021-11-24T22:39:08.286Z"
   },
   {
    "duration": 18,
    "start_time": "2021-11-24T22:39:14.891Z"
   },
   {
    "duration": 12,
    "start_time": "2021-11-24T22:39:14.912Z"
   },
   {
    "duration": 40,
    "start_time": "2021-11-24T22:39:14.927Z"
   },
   {
    "duration": 7,
    "start_time": "2021-11-24T22:39:14.970Z"
   },
   {
    "duration": 17,
    "start_time": "2021-11-24T22:39:14.979Z"
   },
   {
    "duration": 14,
    "start_time": "2021-11-24T22:39:14.999Z"
   },
   {
    "duration": 59,
    "start_time": "2021-11-24T22:39:15.015Z"
   },
   {
    "duration": 22,
    "start_time": "2021-11-24T22:39:15.076Z"
   },
   {
    "duration": 14,
    "start_time": "2021-11-24T22:39:15.100Z"
   },
   {
    "duration": 5,
    "start_time": "2021-11-24T22:39:15.116Z"
   },
   {
    "duration": 48,
    "start_time": "2021-11-24T22:39:15.124Z"
   },
   {
    "duration": 18,
    "start_time": "2021-11-24T22:39:15.174Z"
   },
   {
    "duration": 21,
    "start_time": "2021-11-24T22:39:15.195Z"
   },
   {
    "duration": 8,
    "start_time": "2021-11-24T22:39:15.219Z"
   },
   {
    "duration": 9,
    "start_time": "2021-11-24T22:39:15.230Z"
   },
   {
    "duration": 13,
    "start_time": "2021-11-24T22:39:15.267Z"
   },
   {
    "duration": 10,
    "start_time": "2021-11-24T22:39:15.287Z"
   },
   {
    "duration": 12,
    "start_time": "2021-11-24T22:39:15.300Z"
   },
   {
    "duration": 15926,
    "start_time": "2021-11-24T22:39:15.314Z"
   },
   {
    "duration": 33,
    "start_time": "2021-11-24T22:39:31.243Z"
   },
   {
    "duration": 9,
    "start_time": "2021-11-24T22:39:31.278Z"
   },
   {
    "duration": 14,
    "start_time": "2021-11-24T22:39:31.289Z"
   },
   {
    "duration": 10,
    "start_time": "2021-11-24T22:39:31.306Z"
   },
   {
    "duration": 907,
    "start_time": "2021-11-24T22:39:31.319Z"
   },
   {
    "duration": 52,
    "start_time": "2021-11-24T22:39:32.228Z"
   },
   {
    "duration": 14,
    "start_time": "2021-11-24T22:39:32.283Z"
   },
   {
    "duration": 24,
    "start_time": "2021-11-24T22:39:32.300Z"
   },
   {
    "duration": 11,
    "start_time": "2021-11-24T22:39:32.326Z"
   },
   {
    "duration": 18,
    "start_time": "2021-11-24T22:40:20.927Z"
   },
   {
    "duration": 8,
    "start_time": "2021-11-24T22:40:32.640Z"
   },
   {
    "duration": 281,
    "start_time": "2021-11-24T22:41:10.646Z"
   },
   {
    "duration": 7,
    "start_time": "2021-11-24T22:41:17.001Z"
   },
   {
    "duration": 7,
    "start_time": "2021-11-24T22:41:32.463Z"
   },
   {
    "duration": 8357,
    "start_time": "2021-11-24T22:41:51.252Z"
   },
   {
    "duration": 3,
    "start_time": "2021-11-24T22:43:07.605Z"
   },
   {
    "duration": 180,
    "start_time": "2021-11-24T22:43:07.611Z"
   },
   {
    "duration": 14,
    "start_time": "2021-11-24T22:43:07.793Z"
   },
   {
    "duration": 13,
    "start_time": "2021-11-24T22:43:07.810Z"
   },
   {
    "duration": 10,
    "start_time": "2021-11-24T22:43:07.826Z"
   },
   {
    "duration": 30,
    "start_time": "2021-11-24T22:43:07.838Z"
   },
   {
    "duration": 28,
    "start_time": "2021-11-24T22:43:07.872Z"
   },
   {
    "duration": 827,
    "start_time": "2021-11-24T22:43:07.904Z"
   },
   {
    "duration": 14,
    "start_time": "2021-11-24T22:43:08.734Z"
   },
   {
    "duration": 793,
    "start_time": "2021-11-24T22:43:08.767Z"
   },
   {
    "duration": 26,
    "start_time": "2021-11-24T22:43:09.562Z"
   },
   {
    "duration": 14,
    "start_time": "2021-11-24T22:43:09.590Z"
   },
   {
    "duration": 8,
    "start_time": "2021-11-24T22:43:09.606Z"
   },
   {
    "duration": 13,
    "start_time": "2021-11-24T22:43:09.617Z"
   },
   {
    "duration": 115,
    "start_time": "2021-11-24T22:43:09.632Z"
   },
   {
    "duration": 8618,
    "start_time": "2021-11-24T22:43:09.749Z"
   },
   {
    "duration": 26,
    "start_time": "2021-11-24T22:43:18.369Z"
   },
   {
    "duration": 21,
    "start_time": "2021-11-24T22:43:18.398Z"
   },
   {
    "duration": 42,
    "start_time": "2021-11-24T22:43:18.426Z"
   },
   {
    "duration": 7,
    "start_time": "2021-11-24T22:43:18.472Z"
   },
   {
    "duration": 13,
    "start_time": "2021-11-24T22:43:18.482Z"
   },
   {
    "duration": 9,
    "start_time": "2021-11-24T22:43:18.497Z"
   },
   {
    "duration": 60,
    "start_time": "2021-11-24T22:43:18.509Z"
   },
   {
    "duration": 9,
    "start_time": "2021-11-24T22:43:18.572Z"
   },
   {
    "duration": 20,
    "start_time": "2021-11-24T22:43:18.584Z"
   },
   {
    "duration": 833,
    "start_time": "2021-11-24T22:43:18.606Z"
   },
   {
    "duration": 12,
    "start_time": "2021-11-24T22:43:19.441Z"
   },
   {
    "duration": 20,
    "start_time": "2021-11-24T22:43:19.455Z"
   },
   {
    "duration": 12,
    "start_time": "2021-11-24T22:43:19.478Z"
   },
   {
    "duration": 6,
    "start_time": "2021-11-24T22:43:19.493Z"
   },
   {
    "duration": 24,
    "start_time": "2021-11-24T22:43:19.501Z"
   },
   {
    "duration": 818,
    "start_time": "2021-11-24T22:43:19.568Z"
   },
   {
    "duration": 17,
    "start_time": "2021-11-24T22:43:20.389Z"
   },
   {
    "duration": 18,
    "start_time": "2021-11-24T22:43:20.409Z"
   },
   {
    "duration": 12,
    "start_time": "2021-11-24T22:43:20.430Z"
   },
   {
    "duration": 7,
    "start_time": "2021-11-24T22:43:20.468Z"
   },
   {
    "duration": 61,
    "start_time": "2021-11-24T22:43:20.477Z"
   },
   {
    "duration": 5137,
    "start_time": "2021-11-24T22:43:20.541Z"
   },
   {
    "duration": 20,
    "start_time": "2021-11-24T22:43:25.680Z"
   },
   {
    "duration": 15,
    "start_time": "2021-11-24T22:43:25.702Z"
   },
   {
    "duration": 12,
    "start_time": "2021-11-24T22:43:25.719Z"
   },
   {
    "duration": 38,
    "start_time": "2021-11-24T22:43:25.733Z"
   },
   {
    "duration": 15,
    "start_time": "2021-11-24T22:43:25.773Z"
   },
   {
    "duration": 9,
    "start_time": "2021-11-24T22:43:25.790Z"
   },
   {
    "duration": 66,
    "start_time": "2021-11-24T22:43:25.801Z"
   },
   {
    "duration": 23,
    "start_time": "2021-11-24T22:43:25.869Z"
   },
   {
    "duration": 15,
    "start_time": "2021-11-24T22:43:25.894Z"
   },
   {
    "duration": 9,
    "start_time": "2021-11-24T22:43:35.792Z"
   },
   {
    "duration": 10,
    "start_time": "2021-11-24T22:43:45.595Z"
   },
   {
    "duration": 8,
    "start_time": "2021-11-24T22:44:07.206Z"
   },
   {
    "duration": 4,
    "start_time": "2021-11-24T22:44:21.113Z"
   },
   {
    "duration": 4,
    "start_time": "2021-11-24T22:45:36.999Z"
   },
   {
    "duration": 192,
    "start_time": "2021-11-24T22:45:37.006Z"
   },
   {
    "duration": 14,
    "start_time": "2021-11-24T22:45:37.201Z"
   },
   {
    "duration": 11,
    "start_time": "2021-11-24T22:45:37.218Z"
   },
   {
    "duration": 10,
    "start_time": "2021-11-24T22:45:37.231Z"
   },
   {
    "duration": 28,
    "start_time": "2021-11-24T22:45:37.244Z"
   },
   {
    "duration": 31,
    "start_time": "2021-11-24T22:45:37.274Z"
   },
   {
    "duration": 932,
    "start_time": "2021-11-24T22:45:37.308Z"
   },
   {
    "duration": 23,
    "start_time": "2021-11-24T22:45:38.244Z"
   },
   {
    "duration": 792,
    "start_time": "2021-11-24T22:45:38.271Z"
   },
   {
    "duration": 23,
    "start_time": "2021-11-24T22:45:39.068Z"
   },
   {
    "duration": 14,
    "start_time": "2021-11-24T22:45:39.094Z"
   },
   {
    "duration": 8,
    "start_time": "2021-11-24T22:45:39.110Z"
   },
   {
    "duration": 47,
    "start_time": "2021-11-24T22:45:39.120Z"
   },
   {
    "duration": 81,
    "start_time": "2021-11-24T22:45:39.170Z"
   },
   {
    "duration": 10154,
    "start_time": "2021-11-24T22:45:39.267Z"
   },
   {
    "duration": 24,
    "start_time": "2021-11-24T22:45:49.424Z"
   },
   {
    "duration": 26,
    "start_time": "2021-11-24T22:45:49.451Z"
   },
   {
    "duration": 16,
    "start_time": "2021-11-24T22:45:49.480Z"
   },
   {
    "duration": 7,
    "start_time": "2021-11-24T22:45:49.499Z"
   },
   {
    "duration": 13,
    "start_time": "2021-11-24T22:45:49.508Z"
   },
   {
    "duration": 44,
    "start_time": "2021-11-24T22:45:49.524Z"
   },
   {
    "duration": 10,
    "start_time": "2021-11-24T22:45:49.571Z"
   },
   {
    "duration": 9,
    "start_time": "2021-11-24T22:45:49.584Z"
   },
   {
    "duration": 22,
    "start_time": "2021-11-24T22:45:49.596Z"
   },
   {
    "duration": 838,
    "start_time": "2021-11-24T22:45:49.620Z"
   },
   {
    "duration": 12,
    "start_time": "2021-11-24T22:45:50.469Z"
   },
   {
    "duration": 13,
    "start_time": "2021-11-24T22:45:50.485Z"
   },
   {
    "duration": 11,
    "start_time": "2021-11-24T22:45:50.501Z"
   },
   {
    "duration": 10,
    "start_time": "2021-11-24T22:45:50.515Z"
   },
   {
    "duration": 61,
    "start_time": "2021-11-24T22:45:50.528Z"
   },
   {
    "duration": 797,
    "start_time": "2021-11-24T22:45:50.592Z"
   },
   {
    "duration": 18,
    "start_time": "2021-11-24T22:45:51.391Z"
   },
   {
    "duration": 10,
    "start_time": "2021-11-24T22:45:51.412Z"
   },
   {
    "duration": 9,
    "start_time": "2021-11-24T22:45:51.425Z"
   },
   {
    "duration": 7,
    "start_time": "2021-11-24T22:45:51.468Z"
   },
   {
    "duration": 61,
    "start_time": "2021-11-24T22:45:51.477Z"
   },
   {
    "duration": 5176,
    "start_time": "2021-11-24T22:45:51.540Z"
   },
   {
    "duration": 19,
    "start_time": "2021-11-24T22:45:56.719Z"
   },
   {
    "duration": 31,
    "start_time": "2021-11-24T22:45:56.741Z"
   },
   {
    "duration": 18,
    "start_time": "2021-11-24T22:45:56.775Z"
   },
   {
    "duration": 19,
    "start_time": "2021-11-24T22:45:56.796Z"
   },
   {
    "duration": 19,
    "start_time": "2021-11-24T22:45:56.817Z"
   },
   {
    "duration": 14,
    "start_time": "2021-11-24T22:45:56.838Z"
   },
   {
    "duration": 35,
    "start_time": "2021-11-24T22:45:56.854Z"
   },
   {
    "duration": 24,
    "start_time": "2021-11-24T22:45:56.891Z"
   },
   {
    "duration": 63,
    "start_time": "2021-11-24T22:45:56.917Z"
   },
   {
    "duration": 23,
    "start_time": "2021-11-24T22:45:56.983Z"
   },
   {
    "duration": 20,
    "start_time": "2021-11-24T22:45:57.008Z"
   },
   {
    "duration": 10,
    "start_time": "2021-11-24T22:45:57.030Z"
   },
   {
    "duration": 29,
    "start_time": "2021-11-24T22:45:57.043Z"
   },
   {
    "duration": 8,
    "start_time": "2021-11-24T22:45:57.075Z"
   },
   {
    "duration": 25,
    "start_time": "2021-11-24T22:45:57.086Z"
   },
   {
    "duration": 36,
    "start_time": "2021-11-24T22:45:57.113Z"
   },
   {
    "duration": 27,
    "start_time": "2021-11-24T22:45:57.152Z"
   },
   {
    "duration": 13,
    "start_time": "2021-11-24T22:45:57.181Z"
   },
   {
    "duration": 16371,
    "start_time": "2021-11-24T22:45:57.197Z"
   },
   {
    "duration": 21,
    "start_time": "2021-11-24T22:46:13.570Z"
   },
   {
    "duration": 8,
    "start_time": "2021-11-24T22:46:13.593Z"
   },
   {
    "duration": 11,
    "start_time": "2021-11-24T22:46:13.603Z"
   },
   {
    "duration": 51,
    "start_time": "2021-11-24T22:46:13.617Z"
   },
   {
    "duration": 811,
    "start_time": "2021-11-24T22:46:13.671Z"
   },
   {
    "duration": 31,
    "start_time": "2021-11-24T22:46:14.484Z"
   },
   {
    "duration": 14,
    "start_time": "2021-11-24T22:46:14.518Z"
   },
   {
    "duration": 48,
    "start_time": "2021-11-24T22:46:14.534Z"
   },
   {
    "duration": 9,
    "start_time": "2021-11-24T22:46:14.584Z"
   },
   {
    "duration": 11,
    "start_time": "2021-11-24T22:46:14.596Z"
   },
   {
    "duration": 20,
    "start_time": "2021-11-24T22:46:23.391Z"
   },
   {
    "duration": 5,
    "start_time": "2021-11-24T22:46:40.745Z"
   },
   {
    "duration": 8,
    "start_time": "2021-11-24T22:46:43.396Z"
   },
   {
    "duration": 7,
    "start_time": "2021-11-24T22:54:18.112Z"
   },
   {
    "duration": 10,
    "start_time": "2021-11-24T22:54:26.207Z"
   },
   {
    "duration": 4,
    "start_time": "2021-11-24T22:59:40.596Z"
   },
   {
    "duration": 197,
    "start_time": "2021-11-24T22:59:40.609Z"
   },
   {
    "duration": 14,
    "start_time": "2021-11-24T22:59:40.809Z"
   },
   {
    "duration": 13,
    "start_time": "2021-11-24T22:59:40.826Z"
   },
   {
    "duration": 10,
    "start_time": "2021-11-24T22:59:40.842Z"
   },
   {
    "duration": 17,
    "start_time": "2021-11-24T22:59:40.854Z"
   },
   {
    "duration": 28,
    "start_time": "2021-11-24T22:59:40.873Z"
   },
   {
    "duration": 851,
    "start_time": "2021-11-24T22:59:40.903Z"
   },
   {
    "duration": 21,
    "start_time": "2021-11-24T22:59:41.757Z"
   },
   {
    "duration": 887,
    "start_time": "2021-11-24T22:59:41.784Z"
   },
   {
    "duration": 24,
    "start_time": "2021-11-24T22:59:42.674Z"
   },
   {
    "duration": 11,
    "start_time": "2021-11-24T22:59:42.700Z"
   },
   {
    "duration": 9,
    "start_time": "2021-11-24T22:59:42.713Z"
   },
   {
    "duration": 45,
    "start_time": "2021-11-24T22:59:42.724Z"
   },
   {
    "duration": 80,
    "start_time": "2021-11-24T22:59:42.771Z"
   },
   {
    "duration": 8336,
    "start_time": "2021-11-24T22:59:42.868Z"
   },
   {
    "duration": 25,
    "start_time": "2021-11-24T22:59:51.206Z"
   },
   {
    "duration": 38,
    "start_time": "2021-11-24T22:59:51.234Z"
   },
   {
    "duration": 9,
    "start_time": "2021-11-24T22:59:51.274Z"
   },
   {
    "duration": 8,
    "start_time": "2021-11-24T22:59:51.286Z"
   },
   {
    "duration": 15,
    "start_time": "2021-11-24T22:59:51.296Z"
   },
   {
    "duration": 17,
    "start_time": "2021-11-24T22:59:51.314Z"
   },
   {
    "duration": 40,
    "start_time": "2021-11-24T22:59:51.334Z"
   },
   {
    "duration": 10,
    "start_time": "2021-11-24T22:59:51.377Z"
   },
   {
    "duration": 24,
    "start_time": "2021-11-24T22:59:51.389Z"
   },
   {
    "duration": 865,
    "start_time": "2021-11-24T22:59:51.416Z"
   },
   {
    "duration": 12,
    "start_time": "2021-11-24T22:59:52.284Z"
   },
   {
    "duration": 10,
    "start_time": "2021-11-24T22:59:52.303Z"
   },
   {
    "duration": 10,
    "start_time": "2021-11-24T22:59:52.316Z"
   },
   {
    "duration": 43,
    "start_time": "2021-11-24T22:59:52.328Z"
   },
   {
    "duration": 24,
    "start_time": "2021-11-24T22:59:52.374Z"
   },
   {
    "duration": 818,
    "start_time": "2021-11-24T22:59:52.401Z"
   },
   {
    "duration": 18,
    "start_time": "2021-11-24T22:59:53.221Z"
   },
   {
    "duration": 33,
    "start_time": "2021-11-24T22:59:53.241Z"
   },
   {
    "duration": 8,
    "start_time": "2021-11-24T22:59:53.277Z"
   },
   {
    "duration": 8,
    "start_time": "2021-11-24T22:59:53.288Z"
   },
   {
    "duration": 84,
    "start_time": "2021-11-24T22:59:53.299Z"
   },
   {
    "duration": 5437,
    "start_time": "2021-11-24T22:59:53.386Z"
   },
   {
    "duration": 18,
    "start_time": "2021-11-24T22:59:58.825Z"
   },
   {
    "duration": 26,
    "start_time": "2021-11-24T22:59:58.846Z"
   },
   {
    "duration": 12,
    "start_time": "2021-11-24T22:59:58.875Z"
   },
   {
    "duration": 12,
    "start_time": "2021-11-24T22:59:58.889Z"
   },
   {
    "duration": 31,
    "start_time": "2021-11-24T22:59:58.904Z"
   },
   {
    "duration": 32,
    "start_time": "2021-11-24T22:59:58.938Z"
   },
   {
    "duration": 31,
    "start_time": "2021-11-24T22:59:58.973Z"
   },
   {
    "duration": 23,
    "start_time": "2021-11-24T22:59:59.006Z"
   },
   {
    "duration": 39,
    "start_time": "2021-11-24T22:59:59.032Z"
   },
   {
    "duration": 5,
    "start_time": "2021-11-24T22:59:59.073Z"
   },
   {
    "duration": 13,
    "start_time": "2021-11-24T22:59:59.080Z"
   },
   {
    "duration": 10,
    "start_time": "2021-11-24T22:59:59.096Z"
   },
   {
    "duration": 60,
    "start_time": "2021-11-24T22:59:59.109Z"
   },
   {
    "duration": 10,
    "start_time": "2021-11-24T22:59:59.171Z"
   },
   {
    "duration": 15,
    "start_time": "2021-11-24T22:59:59.184Z"
   },
   {
    "duration": 24,
    "start_time": "2021-11-24T22:59:59.202Z"
   },
   {
    "duration": 15,
    "start_time": "2021-11-24T22:59:59.229Z"
   },
   {
    "duration": 29,
    "start_time": "2021-11-24T22:59:59.247Z"
   },
   {
    "duration": 15964,
    "start_time": "2021-11-24T22:59:59.279Z"
   },
   {
    "duration": 37,
    "start_time": "2021-11-24T23:00:15.245Z"
   },
   {
    "duration": 8,
    "start_time": "2021-11-24T23:00:15.285Z"
   },
   {
    "duration": 11,
    "start_time": "2021-11-24T23:00:15.296Z"
   },
   {
    "duration": 8,
    "start_time": "2021-11-24T23:00:15.309Z"
   },
   {
    "duration": 857,
    "start_time": "2021-11-24T23:00:15.320Z"
   },
   {
    "duration": 31,
    "start_time": "2021-11-24T23:00:16.179Z"
   },
   {
    "duration": 13,
    "start_time": "2021-11-24T23:00:16.212Z"
   },
   {
    "duration": 54,
    "start_time": "2021-11-24T23:00:16.228Z"
   },
   {
    "duration": 9,
    "start_time": "2021-11-24T23:00:16.285Z"
   },
   {
    "duration": 9,
    "start_time": "2021-11-24T23:00:16.297Z"
   },
   {
    "duration": 5,
    "start_time": "2021-11-24T23:00:16.309Z"
   },
   {
    "duration": 14,
    "start_time": "2021-11-24T23:01:16.958Z"
   },
   {
    "duration": 346,
    "start_time": "2021-11-24T23:05:09.034Z"
   },
   {
    "duration": 1809,
    "start_time": "2021-11-24T23:05:49.144Z"
   },
   {
    "duration": 304,
    "start_time": "2021-11-24T23:06:11.182Z"
   },
   {
    "duration": 3211,
    "start_time": "2021-11-25T11:51:14.072Z"
   },
   {
    "duration": 246,
    "start_time": "2021-11-25T11:51:17.286Z"
   },
   {
    "duration": 19,
    "start_time": "2021-11-25T11:51:17.535Z"
   },
   {
    "duration": 12,
    "start_time": "2021-11-25T11:51:17.557Z"
   },
   {
    "duration": 9,
    "start_time": "2021-11-25T11:51:17.572Z"
   },
   {
    "duration": 18,
    "start_time": "2021-11-25T11:51:17.584Z"
   },
   {
    "duration": 34,
    "start_time": "2021-11-25T11:51:17.605Z"
   },
   {
    "duration": 832,
    "start_time": "2021-11-25T11:51:17.643Z"
   },
   {
    "duration": 24,
    "start_time": "2021-11-25T11:51:18.478Z"
   },
   {
    "duration": 775,
    "start_time": "2021-11-25T11:51:18.505Z"
   },
   {
    "duration": 34,
    "start_time": "2021-11-25T11:51:19.282Z"
   },
   {
    "duration": 13,
    "start_time": "2021-11-25T11:51:19.319Z"
   },
   {
    "duration": 10,
    "start_time": "2021-11-25T11:51:19.334Z"
   },
   {
    "duration": 8,
    "start_time": "2021-11-25T11:51:19.347Z"
   },
   {
    "duration": 125,
    "start_time": "2021-11-25T11:51:19.357Z"
   },
   {
    "duration": 8552,
    "start_time": "2021-11-25T11:51:19.500Z"
   },
   {
    "duration": 24,
    "start_time": "2021-11-25T11:51:28.055Z"
   },
   {
    "duration": 31,
    "start_time": "2021-11-25T11:51:28.081Z"
   },
   {
    "duration": 13,
    "start_time": "2021-11-25T11:51:28.115Z"
   },
   {
    "duration": 9,
    "start_time": "2021-11-25T11:51:28.131Z"
   },
   {
    "duration": 14,
    "start_time": "2021-11-25T11:51:28.142Z"
   },
   {
    "duration": 44,
    "start_time": "2021-11-25T11:51:28.159Z"
   },
   {
    "duration": 15,
    "start_time": "2021-11-25T11:51:28.210Z"
   },
   {
    "duration": 9,
    "start_time": "2021-11-25T11:51:28.229Z"
   },
   {
    "duration": 31,
    "start_time": "2021-11-25T11:51:28.241Z"
   },
   {
    "duration": 800,
    "start_time": "2021-11-25T11:51:28.274Z"
   },
   {
    "duration": 12,
    "start_time": "2021-11-25T11:51:29.076Z"
   },
   {
    "duration": 8,
    "start_time": "2021-11-25T11:51:29.100Z"
   },
   {
    "duration": 16,
    "start_time": "2021-11-25T11:51:29.110Z"
   },
   {
    "duration": 6,
    "start_time": "2021-11-25T11:51:29.128Z"
   },
   {
    "duration": 24,
    "start_time": "2021-11-25T11:51:29.137Z"
   },
   {
    "duration": 937,
    "start_time": "2021-11-25T11:51:29.200Z"
   },
   {
    "duration": 18,
    "start_time": "2021-11-25T11:51:30.139Z"
   },
   {
    "duration": 19,
    "start_time": "2021-11-25T11:51:30.159Z"
   },
   {
    "duration": 24,
    "start_time": "2021-11-25T11:51:30.181Z"
   },
   {
    "duration": 12,
    "start_time": "2021-11-25T11:51:30.207Z"
   },
   {
    "duration": 77,
    "start_time": "2021-11-25T11:51:30.221Z"
   },
   {
    "duration": 5443,
    "start_time": "2021-11-25T11:51:30.300Z"
   },
   {
    "duration": 20,
    "start_time": "2021-11-25T11:51:35.746Z"
   },
   {
    "duration": 38,
    "start_time": "2021-11-25T11:51:35.769Z"
   },
   {
    "duration": 14,
    "start_time": "2021-11-25T11:51:35.810Z"
   },
   {
    "duration": 12,
    "start_time": "2021-11-25T11:51:35.827Z"
   },
   {
    "duration": 29,
    "start_time": "2021-11-25T11:51:35.842Z"
   },
   {
    "duration": 27,
    "start_time": "2021-11-25T11:51:35.874Z"
   },
   {
    "duration": 29,
    "start_time": "2021-11-25T11:51:35.904Z"
   },
   {
    "duration": 24,
    "start_time": "2021-11-25T11:51:35.936Z"
   },
   {
    "duration": 53,
    "start_time": "2021-11-25T11:51:35.963Z"
   },
   {
    "duration": 4,
    "start_time": "2021-11-25T11:51:36.019Z"
   },
   {
    "duration": 27,
    "start_time": "2021-11-25T11:51:36.026Z"
   },
   {
    "duration": 11,
    "start_time": "2021-11-25T11:51:36.055Z"
   },
   {
    "duration": 35,
    "start_time": "2021-11-25T11:51:36.068Z"
   },
   {
    "duration": 8,
    "start_time": "2021-11-25T11:51:36.106Z"
   },
   {
    "duration": 15,
    "start_time": "2021-11-25T11:51:36.117Z"
   },
   {
    "duration": 25,
    "start_time": "2021-11-25T11:51:36.135Z"
   },
   {
    "duration": 13,
    "start_time": "2021-11-25T11:51:36.162Z"
   },
   {
    "duration": 32,
    "start_time": "2021-11-25T11:51:36.177Z"
   },
   {
    "duration": 16069,
    "start_time": "2021-11-25T11:51:36.211Z"
   },
   {
    "duration": 28,
    "start_time": "2021-11-25T11:51:52.283Z"
   },
   {
    "duration": 8,
    "start_time": "2021-11-25T11:51:52.314Z"
   },
   {
    "duration": 10,
    "start_time": "2021-11-25T11:51:52.324Z"
   },
   {
    "duration": 833,
    "start_time": "2021-11-25T11:51:52.336Z"
   },
   {
    "duration": 41,
    "start_time": "2021-11-25T11:51:53.172Z"
   },
   {
    "duration": 12,
    "start_time": "2021-11-25T11:51:53.216Z"
   },
   {
    "duration": 20,
    "start_time": "2021-11-25T11:51:53.231Z"
   },
   {
    "duration": 8,
    "start_time": "2021-11-25T11:51:53.253Z"
   },
   {
    "duration": 40,
    "start_time": "2021-11-25T11:51:53.264Z"
   },
   {
    "duration": 6,
    "start_time": "2021-11-25T11:51:53.306Z"
   },
   {
    "duration": 9,
    "start_time": "2021-11-25T12:00:52.077Z"
   },
   {
    "duration": 22,
    "start_time": "2021-11-25T12:12:29.177Z"
   },
   {
    "duration": 522,
    "start_time": "2021-11-25T12:13:01.771Z"
   },
   {
    "duration": 360,
    "start_time": "2021-11-25T12:13:57.924Z"
   },
   {
    "duration": 6,
    "start_time": "2021-11-25T12:14:37.648Z"
   },
   {
    "duration": 359,
    "start_time": "2021-11-25T12:14:43.530Z"
   },
   {
    "duration": 373,
    "start_time": "2021-11-25T12:16:15.404Z"
   },
   {
    "duration": 868,
    "start_time": "2021-11-25T12:16:45.207Z"
   },
   {
    "duration": 362,
    "start_time": "2021-11-25T12:17:21.800Z"
   },
   {
    "duration": 31,
    "start_time": "2021-11-25T12:17:49.246Z"
   },
   {
    "duration": 22,
    "start_time": "2021-11-25T12:17:56.842Z"
   },
   {
    "duration": 21,
    "start_time": "2021-11-25T12:18:27.175Z"
   },
   {
    "duration": 22,
    "start_time": "2021-11-25T12:18:40.361Z"
   },
   {
    "duration": 39168,
    "start_time": "2021-11-25T12:20:10.109Z"
   },
   {
    "duration": 64283,
    "start_time": "2021-11-25T12:21:11.226Z"
   },
   {
    "duration": 112,
    "start_time": "2021-11-25T12:22:44.197Z"
   },
   {
    "duration": 357,
    "start_time": "2021-11-25T12:22:48.133Z"
   },
   {
    "duration": 359,
    "start_time": "2021-11-25T12:25:30.785Z"
   },
   {
    "duration": 564523,
    "start_time": "2021-11-25T12:26:02.277Z"
   },
   {
    "duration": 5,
    "start_time": "2021-11-25T12:38:21.012Z"
   },
   {
    "duration": 5,
    "start_time": "2021-11-25T12:39:25.906Z"
   },
   {
    "duration": 5,
    "start_time": "2021-11-25T12:39:32.361Z"
   },
   {
    "duration": 592463,
    "start_time": "2021-11-25T12:40:12.856Z"
   },
   {
    "duration": 40672,
    "start_time": "2021-11-25T12:51:45.685Z"
   },
   {
    "duration": -582,
    "start_time": "2021-11-25T12:52:26.941Z"
   },
   {
    "duration": 52189,
    "start_time": "2021-11-25T12:52:47.147Z"
   },
   {
    "duration": 15233,
    "start_time": "2021-11-25T12:54:19.598Z"
   },
   {
    "duration": 21408,
    "start_time": "2021-11-25T12:54:47.992Z"
   },
   {
    "duration": 6,
    "start_time": "2021-11-25T12:56:21.334Z"
   },
   {
    "duration": 233,
    "start_time": "2021-11-25T12:56:21.343Z"
   },
   {
    "duration": 14,
    "start_time": "2021-11-25T12:56:21.579Z"
   },
   {
    "duration": 12,
    "start_time": "2021-11-25T12:56:21.596Z"
   },
   {
    "duration": 11,
    "start_time": "2021-11-25T12:56:21.612Z"
   },
   {
    "duration": 6,
    "start_time": "2021-11-25T12:56:21.626Z"
   },
   {
    "duration": 27,
    "start_time": "2021-11-25T12:56:21.635Z"
   },
   {
    "duration": 805,
    "start_time": "2021-11-25T12:56:21.702Z"
   },
   {
    "duration": 13,
    "start_time": "2021-11-25T12:56:22.510Z"
   },
   {
    "duration": 789,
    "start_time": "2021-11-25T12:56:22.526Z"
   },
   {
    "duration": 23,
    "start_time": "2021-11-25T12:56:23.318Z"
   },
   {
    "duration": 12,
    "start_time": "2021-11-25T12:56:23.344Z"
   },
   {
    "duration": 7,
    "start_time": "2021-11-25T12:56:23.358Z"
   },
   {
    "duration": 6,
    "start_time": "2021-11-25T12:56:23.401Z"
   },
   {
    "duration": 98,
    "start_time": "2021-11-25T12:56:23.410Z"
   },
   {
    "duration": 9220,
    "start_time": "2021-11-25T12:56:23.511Z"
   },
   {
    "duration": 23,
    "start_time": "2021-11-25T12:56:32.733Z"
   },
   {
    "duration": 20,
    "start_time": "2021-11-25T12:56:32.759Z"
   },
   {
    "duration": 11,
    "start_time": "2021-11-25T12:56:32.782Z"
   },
   {
    "duration": 6,
    "start_time": "2021-11-25T12:56:32.800Z"
   },
   {
    "duration": 25,
    "start_time": "2021-11-25T12:56:32.809Z"
   },
   {
    "duration": 13,
    "start_time": "2021-11-25T12:56:32.837Z"
   },
   {
    "duration": 19,
    "start_time": "2021-11-25T12:56:32.859Z"
   },
   {
    "duration": 10,
    "start_time": "2021-11-25T12:56:32.882Z"
   },
   {
    "duration": 30,
    "start_time": "2021-11-25T12:56:32.894Z"
   },
   {
    "duration": 814,
    "start_time": "2021-11-25T12:56:32.926Z"
   },
   {
    "duration": 12,
    "start_time": "2021-11-25T12:56:33.742Z"
   },
   {
    "duration": 45,
    "start_time": "2021-11-25T12:56:33.757Z"
   },
   {
    "duration": 21,
    "start_time": "2021-11-25T12:56:33.805Z"
   },
   {
    "duration": 8,
    "start_time": "2021-11-25T12:56:33.829Z"
   },
   {
    "duration": 82,
    "start_time": "2021-11-25T12:56:33.840Z"
   },
   {
    "duration": 993,
    "start_time": "2021-11-25T12:56:33.925Z"
   },
   {
    "duration": 16,
    "start_time": "2021-11-25T12:56:34.921Z"
   },
   {
    "duration": 11,
    "start_time": "2021-11-25T12:56:34.939Z"
   },
   {
    "duration": 7,
    "start_time": "2021-11-25T12:56:34.953Z"
   },
   {
    "duration": 40,
    "start_time": "2021-11-25T12:56:34.962Z"
   },
   {
    "duration": 58,
    "start_time": "2021-11-25T12:56:35.004Z"
   },
   {
    "duration": 5391,
    "start_time": "2021-11-25T12:56:35.064Z"
   },
   {
    "duration": 18,
    "start_time": "2021-11-25T12:56:40.457Z"
   },
   {
    "duration": 30,
    "start_time": "2021-11-25T12:56:40.477Z"
   },
   {
    "duration": 9,
    "start_time": "2021-11-25T12:56:40.510Z"
   },
   {
    "duration": 6,
    "start_time": "2021-11-25T12:56:40.522Z"
   },
   {
    "duration": 13,
    "start_time": "2021-11-25T12:56:40.531Z"
   },
   {
    "duration": 54,
    "start_time": "2021-11-25T12:56:40.546Z"
   },
   {
    "duration": 28,
    "start_time": "2021-11-25T12:56:40.603Z"
   },
   {
    "duration": 21,
    "start_time": "2021-11-25T12:56:40.634Z"
   },
   {
    "duration": 42,
    "start_time": "2021-11-25T12:56:40.658Z"
   },
   {
    "duration": 5,
    "start_time": "2021-11-25T12:56:40.703Z"
   },
   {
    "duration": 15,
    "start_time": "2021-11-25T12:56:40.710Z"
   },
   {
    "duration": 10,
    "start_time": "2021-11-25T12:56:40.728Z"
   },
   {
    "duration": 24,
    "start_time": "2021-11-25T12:56:40.740Z"
   },
   {
    "duration": 39,
    "start_time": "2021-11-25T12:56:40.766Z"
   },
   {
    "duration": 9,
    "start_time": "2021-11-25T12:56:40.808Z"
   },
   {
    "duration": 24,
    "start_time": "2021-11-25T12:56:40.820Z"
   },
   {
    "duration": 11,
    "start_time": "2021-11-25T12:56:40.846Z"
   },
   {
    "duration": 42,
    "start_time": "2021-11-25T12:56:40.860Z"
   },
   {
    "duration": 16510,
    "start_time": "2021-11-25T12:56:40.905Z"
   },
   {
    "duration": 20,
    "start_time": "2021-11-25T12:56:57.418Z"
   },
   {
    "duration": 7,
    "start_time": "2021-11-25T12:56:57.441Z"
   },
   {
    "duration": 10,
    "start_time": "2021-11-25T12:56:57.451Z"
   },
   {
    "duration": 944,
    "start_time": "2021-11-25T12:56:57.500Z"
   },
   {
    "duration": 29,
    "start_time": "2021-11-25T12:56:58.446Z"
   },
   {
    "duration": 32,
    "start_time": "2021-11-25T12:56:58.477Z"
   },
   {
    "duration": 26,
    "start_time": "2021-11-25T12:56:58.512Z"
   },
   {
    "duration": 8,
    "start_time": "2021-11-25T12:56:58.541Z"
   },
   {
    "duration": 11,
    "start_time": "2021-11-25T12:56:58.552Z"
   },
   {
    "duration": 36,
    "start_time": "2021-11-25T12:56:58.565Z"
   },
   {
    "duration": 14,
    "start_time": "2021-11-25T12:56:58.610Z"
   },
   {
    "duration": 10,
    "start_time": "2021-11-25T12:56:58.628Z"
   },
   {
    "duration": 80144,
    "start_time": "2021-11-25T12:56:58.641Z"
   },
   {
    "duration": 683629,
    "start_time": "2021-11-25T12:58:18.787Z"
   },
   {
    "duration": 1483,
    "start_time": "2021-11-25T22:30:52.776Z"
   },
   {
    "duration": 240,
    "start_time": "2021-11-25T22:31:16.078Z"
   },
   {
    "duration": 20,
    "start_time": "2021-11-25T22:31:20.983Z"
   },
   {
    "duration": 12,
    "start_time": "2021-11-25T22:31:21.469Z"
   },
   {
    "duration": 10,
    "start_time": "2021-11-25T22:31:21.782Z"
   },
   {
    "duration": 7,
    "start_time": "2021-11-25T22:31:22.036Z"
   },
   {
    "duration": 28,
    "start_time": "2021-11-25T22:31:22.429Z"
   },
   {
    "duration": 769,
    "start_time": "2021-11-25T22:31:22.585Z"
   },
   {
    "duration": 15,
    "start_time": "2021-11-25T22:31:23.360Z"
   },
   {
    "duration": 751,
    "start_time": "2021-11-25T22:31:23.551Z"
   },
   {
    "duration": 25,
    "start_time": "2021-11-25T22:31:24.305Z"
   },
   {
    "duration": 33,
    "start_time": "2021-11-25T22:31:24.332Z"
   },
   {
    "duration": 8,
    "start_time": "2021-11-25T22:31:24.368Z"
   },
   {
    "duration": 7,
    "start_time": "2021-11-25T22:31:24.523Z"
   },
   {
    "duration": 79,
    "start_time": "2021-11-25T22:31:24.685Z"
   },
   {
    "duration": 8408,
    "start_time": "2021-11-25T22:31:24.805Z"
   },
   {
    "duration": 24,
    "start_time": "2021-11-25T22:31:33.215Z"
   },
   {
    "duration": 12,
    "start_time": "2021-11-25T22:31:33.259Z"
   },
   {
    "duration": 14,
    "start_time": "2021-11-25T22:31:33.273Z"
   },
   {
    "duration": 6,
    "start_time": "2021-11-25T22:31:33.289Z"
   },
   {
    "duration": 10,
    "start_time": "2021-11-25T22:31:33.297Z"
   },
   {
    "duration": 10,
    "start_time": "2021-11-25T22:31:33.309Z"
   },
   {
    "duration": 7,
    "start_time": "2021-11-25T22:31:33.362Z"
   },
   {
    "duration": 8,
    "start_time": "2021-11-25T22:31:33.372Z"
   },
   {
    "duration": 21,
    "start_time": "2021-11-25T22:31:33.382Z"
   },
   {
    "duration": 822,
    "start_time": "2021-11-25T22:31:33.406Z"
   },
   {
    "duration": 11,
    "start_time": "2021-11-25T22:31:34.231Z"
   },
   {
    "duration": 8,
    "start_time": "2021-11-25T22:31:34.260Z"
   },
   {
    "duration": 9,
    "start_time": "2021-11-25T22:31:34.271Z"
   },
   {
    "duration": 7,
    "start_time": "2021-11-25T22:31:34.283Z"
   },
   {
    "duration": 22,
    "start_time": "2021-11-25T22:31:34.292Z"
   },
   {
    "duration": 942,
    "start_time": "2021-11-25T22:31:34.317Z"
   },
   {
    "duration": 18,
    "start_time": "2021-11-25T22:31:35.261Z"
   },
   {
    "duration": 12,
    "start_time": "2021-11-25T22:31:35.281Z"
   },
   {
    "duration": 7,
    "start_time": "2021-11-25T22:31:35.296Z"
   },
   {
    "duration": 9,
    "start_time": "2021-11-25T22:31:35.306Z"
   },
   {
    "duration": 46,
    "start_time": "2021-11-25T22:31:35.317Z"
   },
   {
    "duration": 55,
    "start_time": "2021-11-25T22:31:35.367Z"
   },
   {
    "duration": 5345,
    "start_time": "2021-11-25T22:31:35.425Z"
   },
   {
    "duration": 23,
    "start_time": "2021-11-25T22:31:40.773Z"
   },
   {
    "duration": 21,
    "start_time": "2021-11-25T22:31:40.798Z"
   },
   {
    "duration": 37,
    "start_time": "2021-11-25T22:31:40.822Z"
   },
   {
    "duration": 7,
    "start_time": "2021-11-25T22:31:40.862Z"
   },
   {
    "duration": 14,
    "start_time": "2021-11-25T22:31:42.342Z"
   },
   {
    "duration": 11,
    "start_time": "2021-11-25T22:31:43.143Z"
   },
   {
    "duration": 27,
    "start_time": "2021-11-25T22:31:43.335Z"
   },
   {
    "duration": 26,
    "start_time": "2021-11-25T22:31:43.507Z"
   },
   {
    "duration": 22,
    "start_time": "2021-11-25T22:31:43.676Z"
   },
   {
    "duration": 25,
    "start_time": "2021-11-25T22:31:43.866Z"
   },
   {
    "duration": 5,
    "start_time": "2021-11-25T22:31:44.053Z"
   },
   {
    "duration": 12,
    "start_time": "2021-11-25T22:31:44.519Z"
   },
   {
    "duration": 10,
    "start_time": "2021-11-25T22:31:44.695Z"
   },
   {
    "duration": 18,
    "start_time": "2021-11-25T22:31:44.880Z"
   },
   {
    "duration": 22,
    "start_time": "2021-11-25T22:31:45.019Z"
   },
   {
    "duration": 10,
    "start_time": "2021-11-25T22:31:45.192Z"
   },
   {
    "duration": 10,
    "start_time": "2021-11-25T22:31:45.336Z"
   },
   {
    "duration": 12,
    "start_time": "2021-11-25T22:31:45.486Z"
   },
   {
    "duration": 11,
    "start_time": "2021-11-25T22:31:45.641Z"
   },
   {
    "duration": 13,
    "start_time": "2021-11-25T22:31:45.816Z"
   },
   {
    "duration": 16697,
    "start_time": "2021-11-25T22:31:45.978Z"
   },
   {
    "duration": 19,
    "start_time": "2021-11-25T22:32:02.678Z"
   },
   {
    "duration": 16,
    "start_time": "2021-11-25T22:32:02.700Z"
   },
   {
    "duration": 11,
    "start_time": "2021-11-25T22:32:02.719Z"
   },
   {
    "duration": 789,
    "start_time": "2021-11-25T22:32:02.760Z"
   },
   {
    "duration": 29,
    "start_time": "2021-11-25T22:32:03.559Z"
   },
   {
    "duration": 13,
    "start_time": "2021-11-25T22:32:03.590Z"
   },
   {
    "duration": 19,
    "start_time": "2021-11-25T22:32:03.606Z"
   },
   {
    "duration": 10,
    "start_time": "2021-11-25T22:32:03.659Z"
   },
   {
    "duration": 7,
    "start_time": "2021-11-25T22:32:03.672Z"
   },
   {
    "duration": 6,
    "start_time": "2021-11-25T22:32:03.682Z"
   },
   {
    "duration": 13,
    "start_time": "2021-11-25T22:32:03.690Z"
   },
   {
    "duration": 504,
    "start_time": "2021-11-25T22:32:03.705Z"
   },
   {
    "duration": 451,
    "start_time": "2021-11-25T22:32:04.212Z"
   },
   {
    "duration": 9,
    "start_time": "2021-11-25T22:32:04.665Z"
   },
   {
    "duration": 15,
    "start_time": "2021-11-25T22:32:04.676Z"
   },
   {
    "duration": 72259,
    "start_time": "2021-11-25T22:32:04.693Z"
   },
   {
    "duration": 898236,
    "start_time": "2021-11-25T22:33:16.954Z"
   },
   {
    "duration": 13820,
    "start_time": "2021-11-25T22:48:15.193Z"
   },
   {
    "duration": 549,
    "start_time": "2021-11-25T22:48:29.016Z"
   },
   {
    "duration": 19,
    "start_time": "2021-11-25T22:48:29.568Z"
   },
   {
    "duration": 1245,
    "start_time": "2021-11-26T10:19:12.405Z"
   },
   {
    "duration": 2142,
    "start_time": "2021-11-26T10:19:13.652Z"
   },
   {
    "duration": -635,
    "start_time": "2021-11-26T10:19:16.433Z"
   },
   {
    "duration": -640,
    "start_time": "2021-11-26T10:19:16.439Z"
   },
   {
    "duration": -644,
    "start_time": "2021-11-26T10:19:16.444Z"
   },
   {
    "duration": -649,
    "start_time": "2021-11-26T10:19:16.450Z"
   },
   {
    "duration": -654,
    "start_time": "2021-11-26T10:19:16.456Z"
   },
   {
    "duration": -659,
    "start_time": "2021-11-26T10:19:16.462Z"
   },
   {
    "duration": -665,
    "start_time": "2021-11-26T10:19:16.469Z"
   },
   {
    "duration": -668,
    "start_time": "2021-11-26T10:19:16.473Z"
   },
   {
    "duration": -672,
    "start_time": "2021-11-26T10:19:16.478Z"
   },
   {
    "duration": -675,
    "start_time": "2021-11-26T10:19:16.482Z"
   },
   {
    "duration": -679,
    "start_time": "2021-11-26T10:19:16.487Z"
   },
   {
    "duration": -682,
    "start_time": "2021-11-26T10:19:16.491Z"
   },
   {
    "duration": -686,
    "start_time": "2021-11-26T10:19:16.496Z"
   },
   {
    "duration": -688,
    "start_time": "2021-11-26T10:19:16.499Z"
   },
   {
    "duration": -693,
    "start_time": "2021-11-26T10:19:16.504Z"
   },
   {
    "duration": -696,
    "start_time": "2021-11-26T10:19:16.508Z"
   },
   {
    "duration": -701,
    "start_time": "2021-11-26T10:19:16.514Z"
   },
   {
    "duration": -714,
    "start_time": "2021-11-26T10:19:16.528Z"
   },
   {
    "duration": -718,
    "start_time": "2021-11-26T10:19:16.533Z"
   },
   {
    "duration": -722,
    "start_time": "2021-11-26T10:19:16.538Z"
   },
   {
    "duration": -726,
    "start_time": "2021-11-26T10:19:16.543Z"
   },
   {
    "duration": -730,
    "start_time": "2021-11-26T10:19:16.548Z"
   },
   {
    "duration": -734,
    "start_time": "2021-11-26T10:19:16.553Z"
   },
   {
    "duration": -737,
    "start_time": "2021-11-26T10:19:16.557Z"
   },
   {
    "duration": -741,
    "start_time": "2021-11-26T10:19:16.562Z"
   },
   {
    "duration": -744,
    "start_time": "2021-11-26T10:19:16.566Z"
   },
   {
    "duration": -749,
    "start_time": "2021-11-26T10:19:16.572Z"
   },
   {
    "duration": -753,
    "start_time": "2021-11-26T10:19:16.577Z"
   },
   {
    "duration": -756,
    "start_time": "2021-11-26T10:19:16.582Z"
   },
   {
    "duration": -759,
    "start_time": "2021-11-26T10:19:16.586Z"
   },
   {
    "duration": -763,
    "start_time": "2021-11-26T10:19:16.591Z"
   },
   {
    "duration": -766,
    "start_time": "2021-11-26T10:19:16.595Z"
   },
   {
    "duration": -770,
    "start_time": "2021-11-26T10:19:16.599Z"
   },
   {
    "duration": -773,
    "start_time": "2021-11-26T10:19:16.603Z"
   },
   {
    "duration": -777,
    "start_time": "2021-11-26T10:19:16.608Z"
   },
   {
    "duration": -781,
    "start_time": "2021-11-26T10:19:16.613Z"
   },
   {
    "duration": -784,
    "start_time": "2021-11-26T10:19:16.617Z"
   },
   {
    "duration": -787,
    "start_time": "2021-11-26T10:19:16.621Z"
   },
   {
    "duration": -780,
    "start_time": "2021-11-26T10:19:16.625Z"
   },
   {
    "duration": -790,
    "start_time": "2021-11-26T10:19:16.636Z"
   },
   {
    "duration": -793,
    "start_time": "2021-11-26T10:19:16.640Z"
   },
   {
    "duration": -797,
    "start_time": "2021-11-26T10:19:16.645Z"
   },
   {
    "duration": -800,
    "start_time": "2021-11-26T10:19:16.649Z"
   },
   {
    "duration": -803,
    "start_time": "2021-11-26T10:19:16.653Z"
   },
   {
    "duration": -806,
    "start_time": "2021-11-26T10:19:16.657Z"
   },
   {
    "duration": -809,
    "start_time": "2021-11-26T10:19:16.661Z"
   },
   {
    "duration": -813,
    "start_time": "2021-11-26T10:19:16.666Z"
   },
   {
    "duration": -817,
    "start_time": "2021-11-26T10:19:16.670Z"
   },
   {
    "duration": -820,
    "start_time": "2021-11-26T10:19:16.674Z"
   },
   {
    "duration": -823,
    "start_time": "2021-11-26T10:19:16.678Z"
   },
   {
    "duration": -827,
    "start_time": "2021-11-26T10:19:16.683Z"
   },
   {
    "duration": -830,
    "start_time": "2021-11-26T10:19:16.687Z"
   },
   {
    "duration": -834,
    "start_time": "2021-11-26T10:19:16.692Z"
   },
   {
    "duration": -837,
    "start_time": "2021-11-26T10:19:16.696Z"
   },
   {
    "duration": -840,
    "start_time": "2021-11-26T10:19:16.700Z"
   },
   {
    "duration": -843,
    "start_time": "2021-11-26T10:19:16.704Z"
   },
   {
    "duration": -847,
    "start_time": "2021-11-26T10:19:16.709Z"
   },
   {
    "duration": -850,
    "start_time": "2021-11-26T10:19:16.713Z"
   },
   {
    "duration": -853,
    "start_time": "2021-11-26T10:19:16.717Z"
   },
   {
    "duration": -856,
    "start_time": "2021-11-26T10:19:16.721Z"
   },
   {
    "duration": -859,
    "start_time": "2021-11-26T10:19:16.725Z"
   },
   {
    "duration": -862,
    "start_time": "2021-11-26T10:19:16.730Z"
   },
   {
    "duration": -865,
    "start_time": "2021-11-26T10:19:16.734Z"
   },
   {
    "duration": -876,
    "start_time": "2021-11-26T10:19:16.745Z"
   },
   {
    "duration": -879,
    "start_time": "2021-11-26T10:19:16.749Z"
   },
   {
    "duration": -882,
    "start_time": "2021-11-26T10:19:16.753Z"
   },
   {
    "duration": -886,
    "start_time": "2021-11-26T10:19:16.758Z"
   },
   {
    "duration": -889,
    "start_time": "2021-11-26T10:19:16.762Z"
   },
   {
    "duration": -900,
    "start_time": "2021-11-26T10:19:16.774Z"
   },
   {
    "duration": -904,
    "start_time": "2021-11-26T10:19:16.779Z"
   },
   {
    "duration": -907,
    "start_time": "2021-11-26T10:19:16.783Z"
   },
   {
    "duration": -910,
    "start_time": "2021-11-26T10:19:16.787Z"
   },
   {
    "duration": -913,
    "start_time": "2021-11-26T10:19:16.791Z"
   },
   {
    "duration": -916,
    "start_time": "2021-11-26T10:19:16.795Z"
   },
   {
    "duration": -919,
    "start_time": "2021-11-26T10:19:16.799Z"
   },
   {
    "duration": -860,
    "start_time": "2021-11-26T10:19:16.803Z"
   },
   {
    "duration": -862,
    "start_time": "2021-11-26T10:19:16.807Z"
   },
   {
    "duration": -865,
    "start_time": "2021-11-26T10:19:16.811Z"
   },
   {
    "duration": -870,
    "start_time": "2021-11-26T10:19:16.817Z"
   },
   {
    "duration": 210,
    "start_time": "2021-11-26T10:20:04.885Z"
   },
   {
    "duration": 19,
    "start_time": "2021-11-26T10:20:35.038Z"
   },
   {
    "duration": 16,
    "start_time": "2021-11-26T10:20:35.059Z"
   },
   {
    "duration": 10,
    "start_time": "2021-11-26T10:20:35.078Z"
   },
   {
    "duration": 5,
    "start_time": "2021-11-26T10:20:35.091Z"
   },
   {
    "duration": 65,
    "start_time": "2021-11-26T10:20:35.098Z"
   },
   {
    "duration": 792,
    "start_time": "2021-11-26T10:20:35.165Z"
   },
   {
    "duration": 14,
    "start_time": "2021-11-26T10:20:35.960Z"
   },
   {
    "duration": 735,
    "start_time": "2021-11-26T10:20:35.977Z"
   },
   {
    "duration": 31,
    "start_time": "2021-11-26T10:20:36.715Z"
   },
   {
    "duration": 9,
    "start_time": "2021-11-26T10:20:36.748Z"
   },
   {
    "duration": 6,
    "start_time": "2021-11-26T10:20:36.759Z"
   },
   {
    "duration": 7,
    "start_time": "2021-11-26T10:20:36.767Z"
   },
   {
    "duration": 76,
    "start_time": "2021-11-26T10:20:36.776Z"
   },
   {
    "duration": 5783,
    "start_time": "2021-11-26T10:20:36.854Z"
   },
   {
    "duration": 19,
    "start_time": "2021-11-26T10:20:42.640Z"
   },
   {
    "duration": 31,
    "start_time": "2021-11-26T10:20:42.661Z"
   },
   {
    "duration": 24,
    "start_time": "2021-11-26T10:20:42.694Z"
   },
   {
    "duration": 24,
    "start_time": "2021-11-26T10:20:42.720Z"
   },
   {
    "duration": 12,
    "start_time": "2021-11-26T10:20:42.747Z"
   },
   {
    "duration": 29,
    "start_time": "2021-11-26T10:20:42.761Z"
   },
   {
    "duration": 14,
    "start_time": "2021-11-26T10:20:42.792Z"
   },
   {
    "duration": 14,
    "start_time": "2021-11-26T10:20:42.809Z"
   },
   {
    "duration": 29,
    "start_time": "2021-11-26T10:20:42.830Z"
   },
   {
    "duration": 531,
    "start_time": "2021-11-26T10:20:42.862Z"
   },
   {
    "duration": 9,
    "start_time": "2021-11-26T10:20:43.395Z"
   },
   {
    "duration": 15,
    "start_time": "2021-11-26T10:20:43.406Z"
   },
   {
    "duration": 25,
    "start_time": "2021-11-26T10:20:43.422Z"
   },
   {
    "duration": 5,
    "start_time": "2021-11-26T10:20:43.449Z"
   },
   {
    "duration": 31,
    "start_time": "2021-11-26T10:20:43.456Z"
   },
   {
    "duration": 607,
    "start_time": "2021-11-26T10:20:43.489Z"
   },
   {
    "duration": 12,
    "start_time": "2021-11-26T10:20:44.098Z"
   },
   {
    "duration": 8,
    "start_time": "2021-11-26T10:20:44.112Z"
   },
   {
    "duration": 6,
    "start_time": "2021-11-26T10:20:44.144Z"
   },
   {
    "duration": 22,
    "start_time": "2021-11-26T10:20:44.152Z"
   },
   {
    "duration": 5,
    "start_time": "2021-11-26T10:20:44.177Z"
   },
   {
    "duration": 56,
    "start_time": "2021-11-26T10:20:44.184Z"
   },
   {
    "duration": 3342,
    "start_time": "2021-11-26T10:20:44.242Z"
   },
   {
    "duration": 14,
    "start_time": "2021-11-26T10:20:47.587Z"
   },
   {
    "duration": 7,
    "start_time": "2021-11-26T10:20:47.604Z"
   },
   {
    "duration": 7,
    "start_time": "2021-11-26T10:20:47.613Z"
   },
   {
    "duration": 6,
    "start_time": "2021-11-26T10:20:47.645Z"
   },
   {
    "duration": 9,
    "start_time": "2021-11-26T10:20:47.653Z"
   },
   {
    "duration": 7,
    "start_time": "2021-11-26T10:20:47.664Z"
   },
   {
    "duration": 21,
    "start_time": "2021-11-26T10:20:47.673Z"
   },
   {
    "duration": 50,
    "start_time": "2021-11-26T10:20:47.696Z"
   },
   {
    "duration": 19,
    "start_time": "2021-11-26T10:20:47.747Z"
   },
   {
    "duration": 22,
    "start_time": "2021-11-26T10:20:47.768Z"
   },
   {
    "duration": 10,
    "start_time": "2021-11-26T10:20:47.792Z"
   },
   {
    "duration": 11,
    "start_time": "2021-11-26T10:20:47.804Z"
   },
   {
    "duration": 6,
    "start_time": "2021-11-26T10:20:47.817Z"
   },
   {
    "duration": 25,
    "start_time": "2021-11-26T10:20:47.825Z"
   },
   {
    "duration": 15,
    "start_time": "2021-11-26T10:20:47.852Z"
   },
   {
    "duration": 8,
    "start_time": "2021-11-26T10:20:47.868Z"
   },
   {
    "duration": 8,
    "start_time": "2021-11-26T10:20:47.878Z"
   },
   {
    "duration": 16,
    "start_time": "2021-11-26T10:20:47.888Z"
   },
   {
    "duration": 12,
    "start_time": "2021-11-26T10:20:47.906Z"
   },
   {
    "duration": 10,
    "start_time": "2021-11-26T10:20:47.945Z"
   },
   {
    "duration": 10300,
    "start_time": "2021-11-26T10:20:47.957Z"
   },
   {
    "duration": 17,
    "start_time": "2021-11-26T10:20:58.259Z"
   },
   {
    "duration": 12,
    "start_time": "2021-11-26T10:20:58.278Z"
   },
   {
    "duration": 16,
    "start_time": "2021-11-26T10:20:58.292Z"
   },
   {
    "duration": 467,
    "start_time": "2021-11-26T10:20:58.311Z"
   },
   {
    "duration": 22,
    "start_time": "2021-11-26T10:20:58.780Z"
   },
   {
    "duration": 9,
    "start_time": "2021-11-26T10:20:58.803Z"
   },
   {
    "duration": 40,
    "start_time": "2021-11-26T10:20:58.814Z"
   },
   {
    "duration": 6,
    "start_time": "2021-11-26T10:20:58.855Z"
   },
   {
    "duration": 8,
    "start_time": "2021-11-26T10:20:58.863Z"
   },
   {
    "duration": 4,
    "start_time": "2021-11-26T10:20:58.876Z"
   },
   {
    "duration": 13,
    "start_time": "2021-11-26T10:20:58.882Z"
   },
   {
    "duration": 328,
    "start_time": "2021-11-26T10:20:58.898Z"
   },
   {
    "duration": 300,
    "start_time": "2021-11-26T10:20:59.228Z"
   },
   {
    "duration": 16,
    "start_time": "2021-11-26T10:20:59.530Z"
   },
   {
    "duration": 16,
    "start_time": "2021-11-26T10:20:59.549Z"
   },
   {
    "duration": 9,
    "start_time": "2021-11-26T10:20:59.568Z"
   },
   {
    "duration": 76180,
    "start_time": "2021-11-26T10:20:59.579Z"
   }
  ],
  "kernelspec": {
   "display_name": "Python 3",
   "language": "python",
   "name": "python3"
  },
  "language_info": {
   "codemirror_mode": {
    "name": "ipython",
    "version": 3
   },
   "file_extension": ".py",
   "mimetype": "text/x-python",
   "name": "python",
   "nbconvert_exporter": "python",
   "pygments_lexer": "ipython3",
   "version": "3.7.3"
  },
  "toc": {
   "base_numbering": 1,
   "nav_menu": {},
   "number_sections": true,
   "sideBar": true,
   "skip_h1_title": true,
   "title_cell": "Table of Contents",
   "title_sidebar": "Contents",
   "toc_cell": false,
   "toc_position": {},
   "toc_section_display": true,
   "toc_window_display": false
  }
 },
 "nbformat": 4,
 "nbformat_minor": 2
}
