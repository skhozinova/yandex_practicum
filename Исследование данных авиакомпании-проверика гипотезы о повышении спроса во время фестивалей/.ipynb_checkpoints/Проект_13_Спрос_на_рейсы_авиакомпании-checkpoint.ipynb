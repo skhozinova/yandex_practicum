{
 "cells": [
  {
   "cell_type": "markdown",
   "metadata": {},
   "source": [
    "# Спрос на рейсы авиакомпании"
   ]
  },
  {
   "cell_type": "markdown",
   "metadata": {},
   "source": [
    "Вы аналитик российской авиакомпании F9, выполняющей внутренние пассажирские перевозки. Важно понять предпочтения пользователей, покупающих билеты на разные направления.\n",
    "\n",
    "Вам предстоит изучить базу данных и проанализировать спрос пассажиров на рейсы в города, где проходят крупнейшие культурные фестивали."
   ]
  },
  {
   "cell_type": "markdown",
   "metadata": {},
   "source": [
    "У вас есть файлы с результатами запросов из предыдущих заданий.\n",
    "\n",
    "**query_1.csv** — результат первого запроса. В нём содержится такая информация:\n",
    "\n",
    "- *model* — **модель самолета;\n",
    "- *flights_amount* — количество рейсов для каждой модели самолетов *model* в сентябре 2018 года.\n",
    "\n",
    "**query_3.csv** — результат третьего запроса. В нём содержится такая информация:\n",
    "\n",
    "- *city* — город;\n",
    "- *average_flights* — среднее количество рейсов, прибывающих в город (*city*) за день в сентябре 2018 года.\n",
    "\n",
    " Для этих двух наборов данных нужно:\n",
    "\n",
    "- импортировать файлы;\n",
    "- изучить данные в них;\n",
    "- проверить типы данных на корректность;\n",
    "- выбрать топ-10 городов по количеству рейсов;\n",
    "- построить графики: модели самолётов и количество рейсов, города и количество рейсов, топ-10 городов и количество рейсов;\n",
    "- сделать выводы по каждому из графиков, пояснить результат.\n"
   ]
  },
  {
   "cell_type": "markdown",
   "metadata": {},
   "source": [
    "## Аналитика"
   ]
  },
  {
   "cell_type": "code",
   "execution_count": 1,
   "metadata": {},
   "outputs": [],
   "source": [
    "import pandas as pd\n",
    "import numpy as np\n",
    "import matplotlib.pyplot as plt\n",
    "from scipy import stats as st\n",
    "\n",
    "import warnings\n",
    "warnings.filterwarnings('ignore')"
   ]
  },
  {
   "cell_type": "code",
   "execution_count": 2,
   "metadata": {},
   "outputs": [
    {
     "name": "stdout",
     "output_type": "stream",
     "text": [
      "<class 'pandas.core.frame.DataFrame'>\n",
      "RangeIndex: 8 entries, 0 to 7\n",
      "Data columns (total 2 columns):\n",
      "model             8 non-null object\n",
      "flights_amount    8 non-null int64\n",
      "dtypes: int64(1), object(1)\n",
      "memory usage: 256.0+ bytes\n"
     ]
    },
    {
     "data": {
      "text/plain": [
       "None"
      ]
     },
     "metadata": {},
     "output_type": "display_data"
    },
    {
     "name": "stdout",
     "output_type": "stream",
     "text": [
      "<class 'pandas.core.frame.DataFrame'>\n",
      "RangeIndex: 101 entries, 0 to 100\n",
      "Data columns (total 2 columns):\n",
      "city               101 non-null object\n",
      "average_flights    101 non-null float64\n",
      "dtypes: float64(1), object(1)\n",
      "memory usage: 1.7+ KB\n"
     ]
    },
    {
     "data": {
      "text/plain": [
       "None"
      ]
     },
     "metadata": {},
     "output_type": "display_data"
    }
   ],
   "source": [
    "query_1 = pd.read_csv('/datasets/query_1.csv')\n",
    "query_3 = pd.read_csv('/datasets/query_3.csv') \n",
    "display(query_1.info())\n",
    "display(query_3.info())"
   ]
  },
  {
   "cell_type": "code",
   "execution_count": 3,
   "metadata": {},
   "outputs": [
    {
     "data": {
      "text/html": [
       "<div>\n",
       "<style scoped>\n",
       "    .dataframe tbody tr th:only-of-type {\n",
       "        vertical-align: middle;\n",
       "    }\n",
       "\n",
       "    .dataframe tbody tr th {\n",
       "        vertical-align: top;\n",
       "    }\n",
       "\n",
       "    .dataframe thead th {\n",
       "        text-align: right;\n",
       "    }\n",
       "</style>\n",
       "<table border=\"1\" class=\"dataframe\">\n",
       "  <thead>\n",
       "    <tr style=\"text-align: right;\">\n",
       "      <th></th>\n",
       "      <th>model</th>\n",
       "      <th>flights_amount</th>\n",
       "    </tr>\n",
       "  </thead>\n",
       "  <tbody>\n",
       "    <tr>\n",
       "      <td>0</td>\n",
       "      <td>Airbus A319-100</td>\n",
       "      <td>607</td>\n",
       "    </tr>\n",
       "    <tr>\n",
       "      <td>1</td>\n",
       "      <td>Airbus A321-200</td>\n",
       "      <td>960</td>\n",
       "    </tr>\n",
       "    <tr>\n",
       "      <td>2</td>\n",
       "      <td>Boeing 737-300</td>\n",
       "      <td>630</td>\n",
       "    </tr>\n",
       "    <tr>\n",
       "      <td>3</td>\n",
       "      <td>Boeing 767-300</td>\n",
       "      <td>600</td>\n",
       "    </tr>\n",
       "    <tr>\n",
       "      <td>4</td>\n",
       "      <td>Boeing 777-300</td>\n",
       "      <td>300</td>\n",
       "    </tr>\n",
       "    <tr>\n",
       "      <td>5</td>\n",
       "      <td>Bombardier CRJ-200</td>\n",
       "      <td>4446</td>\n",
       "    </tr>\n",
       "    <tr>\n",
       "      <td>6</td>\n",
       "      <td>Cessna 208 Caravan</td>\n",
       "      <td>4557</td>\n",
       "    </tr>\n",
       "    <tr>\n",
       "      <td>7</td>\n",
       "      <td>Sukhoi SuperJet-100</td>\n",
       "      <td>4185</td>\n",
       "    </tr>\n",
       "  </tbody>\n",
       "</table>\n",
       "</div>"
      ],
      "text/plain": [
       "                 model  flights_amount\n",
       "0      Airbus A319-100             607\n",
       "1      Airbus A321-200             960\n",
       "2       Boeing 737-300             630\n",
       "3       Boeing 767-300             600\n",
       "4       Boeing 777-300             300\n",
       "5   Bombardier CRJ-200            4446\n",
       "6   Cessna 208 Caravan            4557\n",
       "7  Sukhoi SuperJet-100            4185"
      ]
     },
     "metadata": {},
     "output_type": "display_data"
    },
    {
     "data": {
      "text/html": [
       "<div>\n",
       "<style scoped>\n",
       "    .dataframe tbody tr th:only-of-type {\n",
       "        vertical-align: middle;\n",
       "    }\n",
       "\n",
       "    .dataframe tbody tr th {\n",
       "        vertical-align: top;\n",
       "    }\n",
       "\n",
       "    .dataframe thead th {\n",
       "        text-align: right;\n",
       "    }\n",
       "</style>\n",
       "<table border=\"1\" class=\"dataframe\">\n",
       "  <thead>\n",
       "    <tr style=\"text-align: right;\">\n",
       "      <th></th>\n",
       "      <th>city</th>\n",
       "      <th>average_flights</th>\n",
       "    </tr>\n",
       "  </thead>\n",
       "  <tbody>\n",
       "    <tr>\n",
       "      <td>83</td>\n",
       "      <td>Улан-Удэ</td>\n",
       "      <td>1.608696</td>\n",
       "    </tr>\n",
       "    <tr>\n",
       "      <td>16</td>\n",
       "      <td>Воронеж</td>\n",
       "      <td>2.000000</td>\n",
       "    </tr>\n",
       "    <tr>\n",
       "      <td>97</td>\n",
       "      <td>Элиста</td>\n",
       "      <td>4.870968</td>\n",
       "    </tr>\n",
       "    <tr>\n",
       "      <td>60</td>\n",
       "      <td>Оренбург</td>\n",
       "      <td>5.000000</td>\n",
       "    </tr>\n",
       "    <tr>\n",
       "      <td>20</td>\n",
       "      <td>Екатеринбург</td>\n",
       "      <td>11.322581</td>\n",
       "    </tr>\n",
       "  </tbody>\n",
       "</table>\n",
       "</div>"
      ],
      "text/plain": [
       "            city  average_flights\n",
       "83      Улан-Удэ         1.608696\n",
       "16       Воронеж         2.000000\n",
       "97        Элиста         4.870968\n",
       "60      Оренбург         5.000000\n",
       "20  Екатеринбург        11.322581"
      ]
     },
     "metadata": {},
     "output_type": "display_data"
    }
   ],
   "source": [
    "display(query_1)\n",
    "display(query_3.sample(5))"
   ]
  },
  {
   "cell_type": "code",
   "execution_count": 4,
   "metadata": {},
   "outputs": [
    {
     "data": {
      "text/plain": [
       "model             0\n",
       "flights_amount    0\n",
       "dtype: int64"
      ]
     },
     "metadata": {},
     "output_type": "display_data"
    },
    {
     "data": {
      "text/plain": [
       "city               0\n",
       "average_flights    0\n",
       "dtype: int64"
      ]
     },
     "metadata": {},
     "output_type": "display_data"
    }
   ],
   "source": [
    "#проверка на пропуски\n",
    "display(query_1.isnull().sum())\n",
    "display(query_3.isnull().sum())"
   ]
  },
  {
   "cell_type": "code",
   "execution_count": 5,
   "metadata": {},
   "outputs": [
    {
     "data": {
      "text/plain": [
       "False"
      ]
     },
     "metadata": {},
     "output_type": "display_data"
    },
    {
     "data": {
      "text/plain": [
       "False"
      ]
     },
     "metadata": {},
     "output_type": "display_data"
    }
   ],
   "source": [
    "#проверка на дубликаты\n",
    "display(all(query_1.duplicated()))\n",
    "display(all(query_3.duplicated()))"
   ]
  },
  {
   "cell_type": "code",
   "execution_count": 6,
   "metadata": {},
   "outputs": [
    {
     "data": {
      "text/html": [
       "<div>\n",
       "<style scoped>\n",
       "    .dataframe tbody tr th:only-of-type {\n",
       "        vertical-align: middle;\n",
       "    }\n",
       "\n",
       "    .dataframe tbody tr th {\n",
       "        vertical-align: top;\n",
       "    }\n",
       "\n",
       "    .dataframe thead th {\n",
       "        text-align: right;\n",
       "    }\n",
       "</style>\n",
       "<table border=\"1\" class=\"dataframe\">\n",
       "  <thead>\n",
       "    <tr style=\"text-align: right;\">\n",
       "      <th></th>\n",
       "      <th>flights_amount</th>\n",
       "    </tr>\n",
       "  </thead>\n",
       "  <tbody>\n",
       "    <tr>\n",
       "      <td>count</td>\n",
       "      <td>8.000000</td>\n",
       "    </tr>\n",
       "    <tr>\n",
       "      <td>mean</td>\n",
       "      <td>2035.625000</td>\n",
       "    </tr>\n",
       "    <tr>\n",
       "      <td>std</td>\n",
       "      <td>1965.203947</td>\n",
       "    </tr>\n",
       "    <tr>\n",
       "      <td>min</td>\n",
       "      <td>300.000000</td>\n",
       "    </tr>\n",
       "    <tr>\n",
       "      <td>25%</td>\n",
       "      <td>605.250000</td>\n",
       "    </tr>\n",
       "    <tr>\n",
       "      <td>50%</td>\n",
       "      <td>795.000000</td>\n",
       "    </tr>\n",
       "    <tr>\n",
       "      <td>75%</td>\n",
       "      <td>4250.250000</td>\n",
       "    </tr>\n",
       "    <tr>\n",
       "      <td>max</td>\n",
       "      <td>4557.000000</td>\n",
       "    </tr>\n",
       "  </tbody>\n",
       "</table>\n",
       "</div>"
      ],
      "text/plain": [
       "       flights_amount\n",
       "count        8.000000\n",
       "mean      2035.625000\n",
       "std       1965.203947\n",
       "min        300.000000\n",
       "25%        605.250000\n",
       "50%        795.000000\n",
       "75%       4250.250000\n",
       "max       4557.000000"
      ]
     },
     "metadata": {},
     "output_type": "display_data"
    },
    {
     "data": {
      "text/html": [
       "<div>\n",
       "<style scoped>\n",
       "    .dataframe tbody tr th:only-of-type {\n",
       "        vertical-align: middle;\n",
       "    }\n",
       "\n",
       "    .dataframe tbody tr th {\n",
       "        vertical-align: top;\n",
       "    }\n",
       "\n",
       "    .dataframe thead th {\n",
       "        text-align: right;\n",
       "    }\n",
       "</style>\n",
       "<table border=\"1\" class=\"dataframe\">\n",
       "  <thead>\n",
       "    <tr style=\"text-align: right;\">\n",
       "      <th></th>\n",
       "      <th>average_flights</th>\n",
       "    </tr>\n",
       "  </thead>\n",
       "  <tbody>\n",
       "    <tr>\n",
       "      <td>count</td>\n",
       "      <td>101.000000</td>\n",
       "    </tr>\n",
       "    <tr>\n",
       "      <td>mean</td>\n",
       "      <td>5.494189</td>\n",
       "    </tr>\n",
       "    <tr>\n",
       "      <td>std</td>\n",
       "      <td>13.119790</td>\n",
       "    </tr>\n",
       "    <tr>\n",
       "      <td>min</td>\n",
       "      <td>1.000000</td>\n",
       "    </tr>\n",
       "    <tr>\n",
       "      <td>25%</td>\n",
       "      <td>2.000000</td>\n",
       "    </tr>\n",
       "    <tr>\n",
       "      <td>50%</td>\n",
       "      <td>3.000000</td>\n",
       "    </tr>\n",
       "    <tr>\n",
       "      <td>75%</td>\n",
       "      <td>5.870968</td>\n",
       "    </tr>\n",
       "    <tr>\n",
       "      <td>max</td>\n",
       "      <td>129.774194</td>\n",
       "    </tr>\n",
       "  </tbody>\n",
       "</table>\n",
       "</div>"
      ],
      "text/plain": [
       "       average_flights\n",
       "count       101.000000\n",
       "mean          5.494189\n",
       "std          13.119790\n",
       "min           1.000000\n",
       "25%           2.000000\n",
       "50%           3.000000\n",
       "75%           5.870968\n",
       "max         129.774194"
      ]
     },
     "metadata": {},
     "output_type": "display_data"
    }
   ],
   "source": [
    "display(query_1.describe(), query_3.describe())"
   ]
  },
  {
   "cell_type": "markdown",
   "metadata": {},
   "source": [
    "**Вывод**\n",
    "- пропусков не обнаружено\n",
    "- дубликатов нет\n",
    "- типы данных корректны"
   ]
  },
  {
   "cell_type": "code",
   "execution_count": 7,
   "metadata": {},
   "outputs": [
    {
     "data": {
      "text/html": [
       "<div>\n",
       "<style scoped>\n",
       "    .dataframe tbody tr th:only-of-type {\n",
       "        vertical-align: middle;\n",
       "    }\n",
       "\n",
       "    .dataframe tbody tr th {\n",
       "        vertical-align: top;\n",
       "    }\n",
       "\n",
       "    .dataframe thead th {\n",
       "        text-align: right;\n",
       "    }\n",
       "</style>\n",
       "<table border=\"1\" class=\"dataframe\">\n",
       "  <thead>\n",
       "    <tr style=\"text-align: right;\">\n",
       "      <th></th>\n",
       "      <th>city</th>\n",
       "      <th>average_flights</th>\n",
       "    </tr>\n",
       "  </thead>\n",
       "  <tbody>\n",
       "    <tr>\n",
       "      <td>43</td>\n",
       "      <td>Москва</td>\n",
       "      <td>129.774194</td>\n",
       "    </tr>\n",
       "    <tr>\n",
       "      <td>70</td>\n",
       "      <td>Санкт-Петербург</td>\n",
       "      <td>31.161290</td>\n",
       "    </tr>\n",
       "    <tr>\n",
       "      <td>54</td>\n",
       "      <td>Новосибирск</td>\n",
       "      <td>17.322581</td>\n",
       "    </tr>\n",
       "    <tr>\n",
       "      <td>33</td>\n",
       "      <td>Красноярск</td>\n",
       "      <td>11.580645</td>\n",
       "    </tr>\n",
       "    <tr>\n",
       "      <td>20</td>\n",
       "      <td>Екатеринбург</td>\n",
       "      <td>11.322581</td>\n",
       "    </tr>\n",
       "    <tr>\n",
       "      <td>67</td>\n",
       "      <td>Ростов-на-Дону</td>\n",
       "      <td>10.193548</td>\n",
       "    </tr>\n",
       "    <tr>\n",
       "      <td>63</td>\n",
       "      <td>Пермь</td>\n",
       "      <td>10.129032</td>\n",
       "    </tr>\n",
       "    <tr>\n",
       "      <td>10</td>\n",
       "      <td>Брянск</td>\n",
       "      <td>10.000000</td>\n",
       "    </tr>\n",
       "    <tr>\n",
       "      <td>74</td>\n",
       "      <td>Сочи</td>\n",
       "      <td>9.612903</td>\n",
       "    </tr>\n",
       "    <tr>\n",
       "      <td>84</td>\n",
       "      <td>Ульяновск</td>\n",
       "      <td>9.580645</td>\n",
       "    </tr>\n",
       "  </tbody>\n",
       "</table>\n",
       "</div>"
      ],
      "text/plain": [
       "               city  average_flights\n",
       "43           Москва       129.774194\n",
       "70  Санкт-Петербург        31.161290\n",
       "54      Новосибирск        17.322581\n",
       "33       Красноярск        11.580645\n",
       "20     Екатеринбург        11.322581\n",
       "67   Ростов-на-Дону        10.193548\n",
       "63            Пермь        10.129032\n",
       "10           Брянск        10.000000\n",
       "74             Сочи         9.612903\n",
       "84        Ульяновск         9.580645"
      ]
     },
     "execution_count": 7,
     "metadata": {},
     "output_type": "execute_result"
    }
   ],
   "source": [
    "#выбрать топ-10 городов по количеству рейсов\n",
    "top_10 = query_3.sort_values(by='average_flights', ascending=False).head(10)\n",
    "top_10"
   ]
  },
  {
   "cell_type": "code",
   "execution_count": 8,
   "metadata": {},
   "outputs": [
    {
     "data": {
      "image/png": "[encoded data removed]",
      "text/plain": [
       "<Figure size 1008x648 with 1 Axes>"
      ]
     },
     "metadata": {
      "needs_background": "light"
     },
     "output_type": "display_data"
    }
   ],
   "source": [
    "#график «Модели самолётов и количество рейсов»\n",
    "plt.figure(figsize=[14,9])\n",
    "plt.plot(query_1['model'], query_1['flights_amount'])\n",
    "plt.xlabel(\"Модель самолета\")\n",
    "plt.ylabel(\"Количество рейсов\")\n",
    "plt.grid(b=True)\n",
    "plt.xticks(rotation=45)\n",
    "plt.yticks(list(range(0, query_1['flights_amount'].max()+250, 250)))\n",
    "plt.title(\"Количество рейсов для каждой модели самолетов в сентябре 2018 года\")\n",
    "plt.show()"
   ]
  },
  {
   "cell_type": "markdown",
   "metadata": {},
   "source": [
    "**Вывод по графику:**\n",
    "\n",
    "В сентябре 2018 наиболее популярными среди самолётов были модели Bombardier CRJ-200, Cessna 208 Caravan, Sukhoi SuperJet-100."
   ]
  },
  {
   "cell_type": "code",
   "execution_count": 9,
   "metadata": {},
   "outputs": [
    {
     "data": {
      "text/plain": [
       "<matplotlib.axes._subplots.AxesSubplot at 0x7f0bad2c6390>"
      ]
     },
     "execution_count": 9,
     "metadata": {},
     "output_type": "execute_result"
    },
    {
     "data": {
      "image/png": "[encoded data removed]",
      "text/plain": [
       "<Figure size 1152x576 with 1 Axes>"
      ]
     },
     "metadata": {
      "needs_background": "light"
     },
     "output_type": "display_data"
    }
   ],
   "source": [
    "#график «Города и количество рейсов»\n",
    "all_flights = query_3.sort_values(by='average_flights', ascending=False).set_index('city')\n",
    "\n",
    "fig, ax = plt.subplots(1)\n",
    "ax.set_title('Среднее количество рейсов, прибывающих в город за день')\n",
    "ax.set_xlabel('Город')\n",
    "ax.set_ylabel('Среднее количество рейсов за день')\n",
    "all_flights.plot(kind='bar', figsize=(16,8), ax=ax)"
   ]
  },
  {
   "cell_type": "markdown",
   "metadata": {},
   "source": [
    "**Вывод по графику:**\n",
    "\n",
    "В сентябре 2018 наибольшее количество полетов было в Москву, Санкт-Петербург, Новосибирск."
   ]
  },
  {
   "cell_type": "code",
   "execution_count": 10,
   "metadata": {},
   "outputs": [
    {
     "data": {
      "image/png": "[encoded data removed]",
      "text/plain": [
       "<Figure size 864x648 with 1 Axes>"
      ]
     },
     "metadata": {
      "needs_background": "light"
     },
     "output_type": "display_data"
    }
   ],
   "source": [
    "#график «Топ-10 городов и количество рейсов»\n",
    "\n",
    "plt.figure(figsize=[12,9])\n",
    "plt.plot(top_10['city'], top_10['average_flights'])\n",
    "plt.xlabel(\"Город\")\n",
    "plt.ylabel(\"Среднее количество рейсов за день\")\n",
    "plt.grid(b=True)\n",
    "plt.xticks(rotation=45)\n",
    "plt.yticks(list(range(0, int(top_10['average_flights'].max()+10), 10)))\n",
    "plt.title(\"Топ-10 городов по количеству рейсов, прибывающих в город за день в сентябре 2018 года\")\n",
    "plt.show()"
   ]
  },
  {
   "cell_type": "markdown",
   "metadata": {},
   "source": [
    "**Вывод по графику:**\n",
    "\n",
    "Москва имеет большое количество рейсов за день за счет большего количества аэропортов, чем у остальных городов."
   ]
  },
  {
   "cell_type": "markdown",
   "metadata": {},
   "source": [
    "# Общий вывод\n",
    "\n",
    "В этом проекте были загружены и изучены данные двух файлов. Данные не имели пропусков, дубликатов, все типы данных были корректны.\n",
    "\n",
    "Были построены графики показывающие модели самолётов и количество рейсов, города и количество рейсов, топ-10 городов и количество рейсов.\n",
    "\n",
    "В ходе работы над проектом был проанализирован спрос пассажиров на рейсы в города, где проходят крупнейшие культурные фестивали.\n",
    "Анализ показал, что наиболее популярные модели самолётов это Bombardier CRJ-200, Cessna 208 Caravan, Sukhoi SuperJet-100, это  говорит о том, какие модели наболее часто используются в стране.\n",
    "\n",
    "Больше всего рейсов в Москве, Санкт-Петербурге, Новосибирске, так как это крупнейшие города в России и они являются важными воздушними узлами для международных полетов. Большинство перелетов в эти города происходят из-за пересадки на другой рейс для полета за границу.   \n",
    "\n",
    "А Москва является бесспорным лидером по количеству рейсов за день, так как имеет наибольшее количество аэропортов во всей России."
   ]
  }
 ],
 "metadata": {
  "ExecuteTimeLog": [
   {
    "duration": 1349,
    "start_time": "2021-10-25T13:11:10.987Z"
   },
   {
    "duration": 48,
    "start_time": "2021-10-25T13:13:57.758Z"
   },
   {
    "duration": 40,
    "start_time": "2021-10-25T13:14:10.652Z"
   },
   {
    "duration": 39,
    "start_time": "2021-10-25T13:14:37.458Z"
   },
   {
    "duration": 48,
    "start_time": "2021-10-25T13:14:50.387Z"
   },
   {
    "duration": 47,
    "start_time": "2021-10-25T13:14:59.470Z"
   },
   {
    "duration": 12,
    "start_time": "2021-10-25T13:20:06.814Z"
   },
   {
    "duration": 12,
    "start_time": "2021-10-25T13:20:25.768Z"
   },
   {
    "duration": 11,
    "start_time": "2021-10-25T13:21:02.977Z"
   },
   {
    "duration": 9,
    "start_time": "2021-10-25T13:21:09.388Z"
   },
   {
    "duration": 354,
    "start_time": "2021-10-25T13:21:27.457Z"
   },
   {
    "duration": 8,
    "start_time": "2021-10-25T13:21:32.937Z"
   },
   {
    "duration": 317,
    "start_time": "2021-10-25T13:22:04.166Z"
   },
   {
    "duration": 294,
    "start_time": "2021-10-25T13:23:42.495Z"
   },
   {
    "duration": 11,
    "start_time": "2021-10-25T13:23:49.569Z"
   },
   {
    "duration": 1073,
    "start_time": "2021-10-25T13:23:59.960Z"
   },
   {
    "duration": 254,
    "start_time": "2021-10-25T13:24:20.779Z"
   },
   {
    "duration": 8,
    "start_time": "2021-10-25T13:25:39.620Z"
   },
   {
    "duration": 8,
    "start_time": "2021-10-25T13:25:47.469Z"
   },
   {
    "duration": 7,
    "start_time": "2021-10-25T13:25:51.021Z"
   },
   {
    "duration": 9,
    "start_time": "2021-10-25T13:26:22.172Z"
   },
   {
    "duration": 12,
    "start_time": "2021-10-25T13:26:48.432Z"
   },
   {
    "duration": 10,
    "start_time": "2021-10-25T13:27:27.452Z"
   },
   {
    "duration": 17,
    "start_time": "2021-10-25T13:28:16.934Z"
   },
   {
    "duration": 17,
    "start_time": "2021-10-25T13:28:24.136Z"
   },
   {
    "duration": 17,
    "start_time": "2021-10-25T13:29:36.744Z"
   },
   {
    "duration": 30,
    "start_time": "2021-10-25T13:30:09.938Z"
   },
   {
    "duration": 230,
    "start_time": "2021-10-25T13:30:42.742Z"
   },
   {
    "duration": 334,
    "start_time": "2021-10-25T13:30:48.766Z"
   },
   {
    "duration": 12,
    "start_time": "2021-10-25T13:31:00.147Z"
   },
   {
    "duration": 13,
    "start_time": "2021-10-25T13:36:11.336Z"
   },
   {
    "duration": 515,
    "start_time": "2021-10-25T13:39:24.965Z"
   },
   {
    "duration": 536,
    "start_time": "2021-10-25T13:39:43.526Z"
   },
   {
    "duration": 475,
    "start_time": "2021-10-25T13:40:05.106Z"
   },
   {
    "duration": 445,
    "start_time": "2021-10-25T13:40:16.594Z"
   },
   {
    "duration": 499,
    "start_time": "2021-10-25T13:40:48.459Z"
   },
   {
    "duration": 594,
    "start_time": "2021-10-25T13:42:11.273Z"
   },
   {
    "duration": 439,
    "start_time": "2021-10-25T13:42:26.694Z"
   },
   {
    "duration": 240,
    "start_time": "2021-10-25T13:42:57.343Z"
   },
   {
    "duration": 259,
    "start_time": "2021-10-25T13:43:05.736Z"
   },
   {
    "duration": 493,
    "start_time": "2021-10-25T13:43:12.358Z"
   },
   {
    "duration": 527,
    "start_time": "2021-10-25T13:43:35.173Z"
   },
   {
    "duration": 2418,
    "start_time": "2021-10-25T13:45:03.793Z"
   },
   {
    "duration": 459,
    "start_time": "2021-10-25T13:46:21.676Z"
   },
   {
    "duration": 3215,
    "start_time": "2021-10-25T13:57:20.192Z"
   },
   {
    "duration": 3063,
    "start_time": "2021-10-25T13:57:43.587Z"
   },
   {
    "duration": 2400,
    "start_time": "2021-10-25T14:00:36.242Z"
   },
   {
    "duration": 2689,
    "start_time": "2021-10-25T14:01:00.560Z"
   },
   {
    "duration": 2465,
    "start_time": "2021-10-25T14:01:12.175Z"
   },
   {
    "duration": 2476,
    "start_time": "2021-10-25T14:01:24.625Z"
   },
   {
    "duration": 2640,
    "start_time": "2021-10-25T14:01:31.695Z"
   },
   {
    "duration": 2628,
    "start_time": "2021-10-25T14:01:37.580Z"
   },
   {
    "duration": 2552,
    "start_time": "2021-10-25T14:01:45.450Z"
   },
   {
    "duration": 2860,
    "start_time": "2021-10-25T14:01:55.528Z"
   },
   {
    "duration": 2551,
    "start_time": "2021-10-25T14:02:21.472Z"
   },
   {
    "duration": 2749,
    "start_time": "2021-10-25T14:02:45.969Z"
   },
   {
    "duration": 2625,
    "start_time": "2021-10-25T14:02:55.223Z"
   },
   {
    "duration": 2752,
    "start_time": "2021-10-25T14:03:18.446Z"
   },
   {
    "duration": 2711,
    "start_time": "2021-10-25T14:03:40.105Z"
   },
   {
    "duration": 2917,
    "start_time": "2021-10-25T14:03:53.711Z"
   },
   {
    "duration": 348,
    "start_time": "2021-10-25T14:05:05.377Z"
   },
   {
    "duration": 2621,
    "start_time": "2021-10-25T14:05:18.851Z"
   },
   {
    "duration": 2794,
    "start_time": "2021-10-25T14:07:52.651Z"
   },
   {
    "duration": 2645,
    "start_time": "2021-10-25T14:08:21.267Z"
   },
   {
    "duration": 2700,
    "start_time": "2021-10-25T14:09:07.925Z"
   },
   {
    "duration": 1208,
    "start_time": "2021-10-25T15:44:33.759Z"
   },
   {
    "duration": 48,
    "start_time": "2021-10-25T15:44:34.969Z"
   },
   {
    "duration": 13,
    "start_time": "2021-10-25T15:44:35.019Z"
   },
   {
    "duration": 7,
    "start_time": "2021-10-25T15:44:35.034Z"
   },
   {
    "duration": 7,
    "start_time": "2021-10-25T15:44:35.043Z"
   },
   {
    "duration": 39,
    "start_time": "2021-10-25T15:44:35.052Z"
   },
   {
    "duration": 9,
    "start_time": "2021-10-25T15:44:35.093Z"
   },
   {
    "duration": 347,
    "start_time": "2021-10-25T15:44:35.104Z"
   },
   {
    "duration": 1554,
    "start_time": "2021-10-25T15:44:35.453Z"
   },
   {
    "duration": 282,
    "start_time": "2021-10-25T15:44:37.009Z"
   }
  ],
  "kernelspec": {
   "display_name": "Python 3",
   "language": "python",
   "name": "python3"
  },
  "language_info": {
   "codemirror_mode": {
    "name": "ipython",
    "version": 3
   },
   "file_extension": ".py",
   "mimetype": "text/x-python",
   "name": "python",
   "nbconvert_exporter": "python",
   "pygments_lexer": "ipython3",
   "version": "3.7.3"
  },
  "toc": {
   "base_numbering": 1,
   "nav_menu": {},
   "number_sections": true,
   "sideBar": true,
   "skip_h1_title": true,
   "title_cell": "Содержание",
   "title_sidebar": "Contents",
   "toc_cell": true,
   "toc_position": {},
   "toc_section_display": true,
   "toc_window_display": true
  }
 },
 "nbformat": 4,
 "nbformat_minor": 2
}
