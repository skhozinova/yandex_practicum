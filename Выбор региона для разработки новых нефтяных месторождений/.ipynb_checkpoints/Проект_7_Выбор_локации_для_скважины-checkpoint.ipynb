{
 "cells": [
  {
   "cell_type": "markdown",
   "metadata": {
    "toc": true
   },
   "source": [
    "<h1>Содержание<span class=\"tocSkip\"></span></h1>\n",
    "<div class=\"toc\"><ul class=\"toc-item\"><li><span><a href=\"#Загрузка-и-подготовка-данных\" data-toc-modified-id=\"Загрузка-и-подготовка-данных-1\"><span class=\"toc-item-num\">1&nbsp;&nbsp;</span>Загрузка и подготовка данных</a></span><ul class=\"toc-item\"><li><span><a href=\"#Проверка-пропусков,-дубликатов,-типов-данных-и-просмотр-записей\" data-toc-modified-id=\"Проверка-пропусков,-дубликатов,-типов-данных-и-просмотр-записей-1.1\"><span class=\"toc-item-num\">1.1&nbsp;&nbsp;</span>Проверка пропусков, дубликатов, типов данных и просмотр записей</a></span></li><li><span><a href=\"#Проверка-статистических-сведений-о-датафрейме\" data-toc-modified-id=\"Проверка-статистических-сведений-о-датафрейме-1.2\"><span class=\"toc-item-num\">1.2&nbsp;&nbsp;</span>Проверка статистических сведений о датафрейме</a></span></li><li><span><a href=\"#Визуализируем-данные\" data-toc-modified-id=\"Визуализируем-данные-1.3\"><span class=\"toc-item-num\">1.3&nbsp;&nbsp;</span>Визуализируем данные</a></span></li><li><span><a href=\"#Обработка-данных\" data-toc-modified-id=\"Обработка-данных-1.4\"><span class=\"toc-item-num\">1.4&nbsp;&nbsp;</span>Обработка данных</a></span></li></ul></li><li><span><a href=\"#Обучение-и-проверка-модели\" data-toc-modified-id=\"Обучение-и-проверка-модели-2\"><span class=\"toc-item-num\">2&nbsp;&nbsp;</span>Обучение и проверка модели</a></span></li><li><span><a href=\"#Подготовка-к-расчёту-прибыли\" data-toc-modified-id=\"Подготовка-к-расчёту-прибыли-3\"><span class=\"toc-item-num\">3&nbsp;&nbsp;</span>Подготовка к расчёту прибыли</a></span></li><li><span><a href=\"#Расчёт-прибыли-и-рисков\" data-toc-modified-id=\"Расчёт-прибыли-и-рисков-4\"><span class=\"toc-item-num\">4&nbsp;&nbsp;</span>Расчёт прибыли и рисков</a></span></li><li><span><a href=\"#Общий-вывод\" data-toc-modified-id=\"Общий-вывод-5\"><span class=\"toc-item-num\">5&nbsp;&nbsp;</span>Общий вывод</a></span></li><li><span><a href=\"#Чек-лист-готовности-проекта\" data-toc-modified-id=\"Чек-лист-готовности-проекта-6\"><span class=\"toc-item-num\">6&nbsp;&nbsp;</span>Чек-лист готовности проекта</a></span></li></ul></div>"
   ]
  },
  {
   "cell_type": "markdown",
   "metadata": {},
   "source": [
    "# Выбор локации для скважины"
   ]
  },
  {
   "cell_type": "markdown",
   "metadata": {},
   "source": [
    "Допустим, вы работаете в добывающей компании «ГлавРосГосНефть». Нужно решить, где бурить новую скважину.\n",
    "\n",
    "Вам предоставлены пробы нефти в трёх регионах: в каждом 10 000 месторождений, где измерили качество нефти и объём её запасов. Постройте модель машинного обучения, которая поможет определить регион, где добыча принесёт наибольшую прибыль. Проанализируйте возможную прибыль и риски техникой *Bootstrap.*\n",
    "\n",
    "Шаги для выбора локации:\n",
    "\n",
    "- В избранном регионе ищут месторождения, для каждого определяют значения признаков;\n",
    "- Строят модель и оценивают объём запасов;\n",
    "- Выбирают месторождения с самым высокими оценками значений. Количество месторождений зависит от бюджета компании и стоимости разработки одной скважины;\n",
    "- Прибыль равна суммарной прибыли отобранных месторождений."
   ]
  },
  {
   "cell_type": "markdown",
   "metadata": {},
   "source": [
    "<h1>Содержание<span class=\"tocSkip\"></span></h1>\n",
    "<div class=\"toc\"><ul class=\"toc-item\"><li><ul class=\"toc-item\"><li><span><a href=\"#Загрузка-и-подготовка-данных\" data-toc-modified-id=\"Загрузка-и-подготовка-данных-1\"><span class=\"toc-item-num\">1&nbsp;&nbsp;</span>Загрузка и подготовка данных</a></span><ul class=\"toc-item\"><li><span><a href=\"#Проверка-пропусков-и-просмотр-записей\" data-toc-modified-id=\"Проверка-пропусков-и-просмотр-записей-1.1\"><span class=\"toc-item-num\">1.1&nbsp;&nbsp;</span>Проверка пропусков и просмотр записей</a></span></li><li><span><a href=\"#Проверка-статистических-сведений-о-датафрейме\" data-toc-modified-id=\"Проверка-статистических-сведений-о-датафрейме-1.2\"><span class=\"toc-item-num\">1.2&nbsp;&nbsp;</span>Проверка статистических сведений о датафрейме</a></span></li></ul></li><li><span><a href=\"#Обучение-и-проверка-модели\" data-toc-modified-id=\"Обучение-и-проверка-модели-2\"><span class=\"toc-item-num\">2&nbsp;&nbsp;</span>Обучение и проверка модели</a></span></li><li><span><a href=\"#Подготовка-к-расчёту-прибыли\" data-toc-modified-id=\"Подготовка-к-расчёту-прибыли-3\"><span class=\"toc-item-num\">3&nbsp;&nbsp;</span>Подготовка к расчёту прибыли</a></span></li><li><span><a href=\"#Расчёт-прибыли-и-рисков\" data-toc-modified-id=\"Расчёт-прибыли-и-рисков-4\"><span class=\"toc-item-num\">4&nbsp;&nbsp;</span>Расчёт прибыли и рисков</a></span></li><li><span><a href=\"#Чек-лист-готовности-проекта\" data-toc-modified-id=\"Чек-лист-готовности-проекта-5\"><span class=\"toc-item-num\">5&nbsp;&nbsp;</span>Чек-лист готовности проекта</a></span></li></ul></div>"
   ]
  },
  {
   "cell_type": "markdown",
   "metadata": {},
   "source": [
    "## Загрузка и подготовка данных"
   ]
  },
  {
   "cell_type": "code",
   "execution_count": 1,
   "metadata": {},
   "outputs": [],
   "source": [
    "import pandas as pd\n",
    "import numpy as np\n",
    "import matplotlib.pyplot as plt \n",
    "import scipy.stats as st\n",
    "import itertools\n",
    "from sklearn.model_selection import train_test_split\n",
    "from sklearn.linear_model import LinearRegression\n",
    "from sklearn.pipeline import make_pipeline\n",
    "from sklearn.preprocessing import StandardScaler\n",
    "from sklearn.metrics import mean_squared_error\n",
    "from numpy.random import RandomState\n",
    "from tqdm import tqdm"
   ]
  },
  {
   "cell_type": "code",
   "execution_count": 2,
   "metadata": {},
   "outputs": [],
   "source": [
    "df_0 = pd.read_csv(\"/datasets/geo_data_0.csv\")\n",
    "df_1 = pd.read_csv(\"/datasets/geo_data_1.csv\")\n",
    "df_2 = pd.read_csv(\"/datasets/geo_data_2.csv\")"
   ]
  },
  {
   "cell_type": "markdown",
   "metadata": {},
   "source": [
    "### Проверка пропусков, дубликатов, типов данных и просмотр записей"
   ]
  },
  {
   "cell_type": "code",
   "execution_count": 3,
   "metadata": {},
   "outputs": [
    {
     "name": "stdout",
     "output_type": "stream",
     "text": [
      "<class 'pandas.core.frame.DataFrame'>\n",
      "RangeIndex: 100000 entries, 0 to 99999\n",
      "Data columns (total 5 columns):\n",
      "id         100000 non-null object\n",
      "f0         100000 non-null float64\n",
      "f1         100000 non-null float64\n",
      "f2         100000 non-null float64\n",
      "product    100000 non-null float64\n",
      "dtypes: float64(4), object(1)\n",
      "memory usage: 3.8+ MB\n"
     ]
    },
    {
     "data": {
      "text/html": [
       "<div>\n",
       "<style scoped>\n",
       "    .dataframe tbody tr th:only-of-type {\n",
       "        vertical-align: middle;\n",
       "    }\n",
       "\n",
       "    .dataframe tbody tr th {\n",
       "        vertical-align: top;\n",
       "    }\n",
       "\n",
       "    .dataframe thead th {\n",
       "        text-align: right;\n",
       "    }\n",
       "</style>\n",
       "<table border=\"1\" class=\"dataframe\">\n",
       "  <thead>\n",
       "    <tr style=\"text-align: right;\">\n",
       "      <th></th>\n",
       "      <th>id</th>\n",
       "      <th>f0</th>\n",
       "      <th>f1</th>\n",
       "      <th>f2</th>\n",
       "      <th>product</th>\n",
       "    </tr>\n",
       "  </thead>\n",
       "  <tbody>\n",
       "    <tr>\n",
       "      <td>9787</td>\n",
       "      <td>3wbXj</td>\n",
       "      <td>-0.178937</td>\n",
       "      <td>0.974545</td>\n",
       "      <td>2.678299</td>\n",
       "      <td>107.434120</td>\n",
       "    </tr>\n",
       "    <tr>\n",
       "      <td>66982</td>\n",
       "      <td>0XPDX</td>\n",
       "      <td>0.917936</td>\n",
       "      <td>0.569980</td>\n",
       "      <td>0.246721</td>\n",
       "      <td>87.518847</td>\n",
       "    </tr>\n",
       "    <tr>\n",
       "      <td>3039</td>\n",
       "      <td>fqEpJ</td>\n",
       "      <td>1.006635</td>\n",
       "      <td>0.340021</td>\n",
       "      <td>1.014804</td>\n",
       "      <td>78.989271</td>\n",
       "    </tr>\n",
       "    <tr>\n",
       "      <td>96752</td>\n",
       "      <td>MnKEw</td>\n",
       "      <td>0.220950</td>\n",
       "      <td>-0.113208</td>\n",
       "      <td>0.937347</td>\n",
       "      <td>95.636922</td>\n",
       "    </tr>\n",
       "    <tr>\n",
       "      <td>4535</td>\n",
       "      <td>ErhZD</td>\n",
       "      <td>1.427885</td>\n",
       "      <td>-0.599116</td>\n",
       "      <td>1.183816</td>\n",
       "      <td>64.679239</td>\n",
       "    </tr>\n",
       "    <tr>\n",
       "      <td>75572</td>\n",
       "      <td>s9Km1</td>\n",
       "      <td>0.115430</td>\n",
       "      <td>0.076546</td>\n",
       "      <td>4.111862</td>\n",
       "      <td>146.161757</td>\n",
       "    </tr>\n",
       "    <tr>\n",
       "      <td>50389</td>\n",
       "      <td>H0Q58</td>\n",
       "      <td>1.961735</td>\n",
       "      <td>-0.045457</td>\n",
       "      <td>5.782081</td>\n",
       "      <td>94.433600</td>\n",
       "    </tr>\n",
       "    <tr>\n",
       "      <td>98591</td>\n",
       "      <td>E6RNh</td>\n",
       "      <td>-0.605043</td>\n",
       "      <td>0.835679</td>\n",
       "      <td>1.180588</td>\n",
       "      <td>63.940401</td>\n",
       "    </tr>\n",
       "    <tr>\n",
       "      <td>23593</td>\n",
       "      <td>04vRn</td>\n",
       "      <td>-1.127572</td>\n",
       "      <td>0.384508</td>\n",
       "      <td>7.276768</td>\n",
       "      <td>96.924632</td>\n",
       "    </tr>\n",
       "    <tr>\n",
       "      <td>29218</td>\n",
       "      <td>gXvX1</td>\n",
       "      <td>1.869126</td>\n",
       "      <td>-0.218084</td>\n",
       "      <td>-1.660253</td>\n",
       "      <td>61.375042</td>\n",
       "    </tr>\n",
       "  </tbody>\n",
       "</table>\n",
       "</div>"
      ],
      "text/plain": [
       "          id        f0        f1        f2     product\n",
       "9787   3wbXj -0.178937  0.974545  2.678299  107.434120\n",
       "66982  0XPDX  0.917936  0.569980  0.246721   87.518847\n",
       "3039   fqEpJ  1.006635  0.340021  1.014804   78.989271\n",
       "96752  MnKEw  0.220950 -0.113208  0.937347   95.636922\n",
       "4535   ErhZD  1.427885 -0.599116  1.183816   64.679239\n",
       "75572  s9Km1  0.115430  0.076546  4.111862  146.161757\n",
       "50389  H0Q58  1.961735 -0.045457  5.782081   94.433600\n",
       "98591  E6RNh -0.605043  0.835679  1.180588   63.940401\n",
       "23593  04vRn -1.127572  0.384508  7.276768   96.924632\n",
       "29218  gXvX1  1.869126 -0.218084 -1.660253   61.375042"
      ]
     },
     "execution_count": 3,
     "metadata": {},
     "output_type": "execute_result"
    }
   ],
   "source": [
    "df_0.info()\n",
    "df_0.sample(10)"
   ]
  },
  {
   "cell_type": "code",
   "execution_count": 4,
   "metadata": {
    "scrolled": true
   },
   "outputs": [
    {
     "name": "stdout",
     "output_type": "stream",
     "text": [
      "<class 'pandas.core.frame.DataFrame'>\n",
      "RangeIndex: 100000 entries, 0 to 99999\n",
      "Data columns (total 5 columns):\n",
      "id         100000 non-null object\n",
      "f0         100000 non-null float64\n",
      "f1         100000 non-null float64\n",
      "f2         100000 non-null float64\n",
      "product    100000 non-null float64\n",
      "dtypes: float64(4), object(1)\n",
      "memory usage: 3.8+ MB\n"
     ]
    },
    {
     "data": {
      "text/html": [
       "<div>\n",
       "<style scoped>\n",
       "    .dataframe tbody tr th:only-of-type {\n",
       "        vertical-align: middle;\n",
       "    }\n",
       "\n",
       "    .dataframe tbody tr th {\n",
       "        vertical-align: top;\n",
       "    }\n",
       "\n",
       "    .dataframe thead th {\n",
       "        text-align: right;\n",
       "    }\n",
       "</style>\n",
       "<table border=\"1\" class=\"dataframe\">\n",
       "  <thead>\n",
       "    <tr style=\"text-align: right;\">\n",
       "      <th></th>\n",
       "      <th>id</th>\n",
       "      <th>f0</th>\n",
       "      <th>f1</th>\n",
       "      <th>f2</th>\n",
       "      <th>product</th>\n",
       "    </tr>\n",
       "  </thead>\n",
       "  <tbody>\n",
       "    <tr>\n",
       "      <td>2555</td>\n",
       "      <td>MtFTo</td>\n",
       "      <td>11.632601</td>\n",
       "      <td>2.043409</td>\n",
       "      <td>3.998956</td>\n",
       "      <td>107.813044</td>\n",
       "    </tr>\n",
       "    <tr>\n",
       "      <td>41229</td>\n",
       "      <td>BXksu</td>\n",
       "      <td>6.687190</td>\n",
       "      <td>-8.988501</td>\n",
       "      <td>2.995549</td>\n",
       "      <td>80.859783</td>\n",
       "    </tr>\n",
       "    <tr>\n",
       "      <td>124</td>\n",
       "      <td>44PZ0</td>\n",
       "      <td>-19.658542</td>\n",
       "      <td>-1.425113</td>\n",
       "      <td>5.001961</td>\n",
       "      <td>137.945408</td>\n",
       "    </tr>\n",
       "    <tr>\n",
       "      <td>79762</td>\n",
       "      <td>eMV7g</td>\n",
       "      <td>-0.075169</td>\n",
       "      <td>1.033422</td>\n",
       "      <td>5.002453</td>\n",
       "      <td>134.766305</td>\n",
       "    </tr>\n",
       "    <tr>\n",
       "      <td>31632</td>\n",
       "      <td>Km6wL</td>\n",
       "      <td>-9.614022</td>\n",
       "      <td>-8.385787</td>\n",
       "      <td>4.995865</td>\n",
       "      <td>137.945408</td>\n",
       "    </tr>\n",
       "    <tr>\n",
       "      <td>57841</td>\n",
       "      <td>RcueC</td>\n",
       "      <td>-14.094473</td>\n",
       "      <td>-0.951431</td>\n",
       "      <td>3.995232</td>\n",
       "      <td>110.992147</td>\n",
       "    </tr>\n",
       "    <tr>\n",
       "      <td>84326</td>\n",
       "      <td>r6AdD</td>\n",
       "      <td>-3.674319</td>\n",
       "      <td>-0.170215</td>\n",
       "      <td>4.997488</td>\n",
       "      <td>137.945408</td>\n",
       "    </tr>\n",
       "    <tr>\n",
       "      <td>843</td>\n",
       "      <td>uiHsg</td>\n",
       "      <td>-17.921182</td>\n",
       "      <td>-4.210812</td>\n",
       "      <td>0.989989</td>\n",
       "      <td>30.132364</td>\n",
       "    </tr>\n",
       "    <tr>\n",
       "      <td>8760</td>\n",
       "      <td>WyVnL</td>\n",
       "      <td>-3.027499</td>\n",
       "      <td>-11.079328</td>\n",
       "      <td>-0.003849</td>\n",
       "      <td>3.179103</td>\n",
       "    </tr>\n",
       "    <tr>\n",
       "      <td>20644</td>\n",
       "      <td>1c4An</td>\n",
       "      <td>0.178786</td>\n",
       "      <td>-3.556239</td>\n",
       "      <td>2.995031</td>\n",
       "      <td>80.859783</td>\n",
       "    </tr>\n",
       "  </tbody>\n",
       "</table>\n",
       "</div>"
      ],
      "text/plain": [
       "          id         f0         f1        f2     product\n",
       "2555   MtFTo  11.632601   2.043409  3.998956  107.813044\n",
       "41229  BXksu   6.687190  -8.988501  2.995549   80.859783\n",
       "124    44PZ0 -19.658542  -1.425113  5.001961  137.945408\n",
       "79762  eMV7g  -0.075169   1.033422  5.002453  134.766305\n",
       "31632  Km6wL  -9.614022  -8.385787  4.995865  137.945408\n",
       "57841  RcueC -14.094473  -0.951431  3.995232  110.992147\n",
       "84326  r6AdD  -3.674319  -0.170215  4.997488  137.945408\n",
       "843    uiHsg -17.921182  -4.210812  0.989989   30.132364\n",
       "8760   WyVnL  -3.027499 -11.079328 -0.003849    3.179103\n",
       "20644  1c4An   0.178786  -3.556239  2.995031   80.859783"
      ]
     },
     "execution_count": 4,
     "metadata": {},
     "output_type": "execute_result"
    }
   ],
   "source": [
    "df_1.info()\n",
    "df_1.sample(10)"
   ]
  },
  {
   "cell_type": "code",
   "execution_count": 5,
   "metadata": {},
   "outputs": [
    {
     "name": "stdout",
     "output_type": "stream",
     "text": [
      "<class 'pandas.core.frame.DataFrame'>\n",
      "RangeIndex: 100000 entries, 0 to 99999\n",
      "Data columns (total 5 columns):\n",
      "id         100000 non-null object\n",
      "f0         100000 non-null float64\n",
      "f1         100000 non-null float64\n",
      "f2         100000 non-null float64\n",
      "product    100000 non-null float64\n",
      "dtypes: float64(4), object(1)\n",
      "memory usage: 3.8+ MB\n"
     ]
    },
    {
     "data": {
      "text/html": [
       "<div>\n",
       "<style scoped>\n",
       "    .dataframe tbody tr th:only-of-type {\n",
       "        vertical-align: middle;\n",
       "    }\n",
       "\n",
       "    .dataframe tbody tr th {\n",
       "        vertical-align: top;\n",
       "    }\n",
       "\n",
       "    .dataframe thead th {\n",
       "        text-align: right;\n",
       "    }\n",
       "</style>\n",
       "<table border=\"1\" class=\"dataframe\">\n",
       "  <thead>\n",
       "    <tr style=\"text-align: right;\">\n",
       "      <th></th>\n",
       "      <th>id</th>\n",
       "      <th>f0</th>\n",
       "      <th>f1</th>\n",
       "      <th>f2</th>\n",
       "      <th>product</th>\n",
       "    </tr>\n",
       "  </thead>\n",
       "  <tbody>\n",
       "    <tr>\n",
       "      <td>1403</td>\n",
       "      <td>rlUoV</td>\n",
       "      <td>-1.700666</td>\n",
       "      <td>0.194622</td>\n",
       "      <td>-1.710151</td>\n",
       "      <td>110.356849</td>\n",
       "    </tr>\n",
       "    <tr>\n",
       "      <td>98904</td>\n",
       "      <td>K3qMv</td>\n",
       "      <td>-1.557706</td>\n",
       "      <td>1.849999</td>\n",
       "      <td>-0.468417</td>\n",
       "      <td>180.366099</td>\n",
       "    </tr>\n",
       "    <tr>\n",
       "      <td>94093</td>\n",
       "      <td>T1HzJ</td>\n",
       "      <td>-0.214827</td>\n",
       "      <td>0.783316</td>\n",
       "      <td>-2.232670</td>\n",
       "      <td>30.448931</td>\n",
       "    </tr>\n",
       "    <tr>\n",
       "      <td>43016</td>\n",
       "      <td>Id1wk</td>\n",
       "      <td>-1.912280</td>\n",
       "      <td>2.814376</td>\n",
       "      <td>4.729474</td>\n",
       "      <td>113.009101</td>\n",
       "    </tr>\n",
       "    <tr>\n",
       "      <td>32776</td>\n",
       "      <td>fFgQT</td>\n",
       "      <td>2.030115</td>\n",
       "      <td>-1.998186</td>\n",
       "      <td>3.928284</td>\n",
       "      <td>64.839357</td>\n",
       "    </tr>\n",
       "    <tr>\n",
       "      <td>39644</td>\n",
       "      <td>NFkqZ</td>\n",
       "      <td>-1.253091</td>\n",
       "      <td>2.232856</td>\n",
       "      <td>2.557771</td>\n",
       "      <td>106.138857</td>\n",
       "    </tr>\n",
       "    <tr>\n",
       "      <td>91597</td>\n",
       "      <td>qGMU5</td>\n",
       "      <td>-0.083466</td>\n",
       "      <td>-0.538555</td>\n",
       "      <td>4.221393</td>\n",
       "      <td>52.932989</td>\n",
       "    </tr>\n",
       "    <tr>\n",
       "      <td>14152</td>\n",
       "      <td>WRpXh</td>\n",
       "      <td>-1.179306</td>\n",
       "      <td>0.051511</td>\n",
       "      <td>7.353879</td>\n",
       "      <td>123.208935</td>\n",
       "    </tr>\n",
       "    <tr>\n",
       "      <td>32748</td>\n",
       "      <td>YgDHp</td>\n",
       "      <td>1.528295</td>\n",
       "      <td>-0.179545</td>\n",
       "      <td>-1.046761</td>\n",
       "      <td>35.884407</td>\n",
       "    </tr>\n",
       "    <tr>\n",
       "      <td>73313</td>\n",
       "      <td>SGzWB</td>\n",
       "      <td>3.316907</td>\n",
       "      <td>-2.750189</td>\n",
       "      <td>-5.435199</td>\n",
       "      <td>70.513565</td>\n",
       "    </tr>\n",
       "  </tbody>\n",
       "</table>\n",
       "</div>"
      ],
      "text/plain": [
       "          id        f0        f1        f2     product\n",
       "1403   rlUoV -1.700666  0.194622 -1.710151  110.356849\n",
       "98904  K3qMv -1.557706  1.849999 -0.468417  180.366099\n",
       "94093  T1HzJ -0.214827  0.783316 -2.232670   30.448931\n",
       "43016  Id1wk -1.912280  2.814376  4.729474  113.009101\n",
       "32776  fFgQT  2.030115 -1.998186  3.928284   64.839357\n",
       "39644  NFkqZ -1.253091  2.232856  2.557771  106.138857\n",
       "91597  qGMU5 -0.083466 -0.538555  4.221393   52.932989\n",
       "14152  WRpXh -1.179306  0.051511  7.353879  123.208935\n",
       "32748  YgDHp  1.528295 -0.179545 -1.046761   35.884407\n",
       "73313  SGzWB  3.316907 -2.750189 -5.435199   70.513565"
      ]
     },
     "execution_count": 5,
     "metadata": {},
     "output_type": "execute_result"
    }
   ],
   "source": [
    "df_2.info()\n",
    "df_2.sample(10)"
   ]
  },
  {
   "cell_type": "code",
   "execution_count": 6,
   "metadata": {},
   "outputs": [
    {
     "name": "stdout",
     "output_type": "stream",
     "text": [
      "0 0 0\n"
     ]
    }
   ],
   "source": [
    "print(df_0.duplicated().sum(),\n",
    "df_1.duplicated().sum(),\n",
    "df_2.duplicated().sum())"
   ]
  },
  {
   "cell_type": "markdown",
   "metadata": {},
   "source": [
    "**Вывод**\n",
    "\n",
    "Пропусков нет, дубликаты отсутствуют"
   ]
  },
  {
   "cell_type": "markdown",
   "metadata": {},
   "source": [
    "### Проверка статистических сведений о датафрейме"
   ]
  },
  {
   "cell_type": "code",
   "execution_count": 7,
   "metadata": {},
   "outputs": [
    {
     "data": {
      "text/html": [
       "<div>\n",
       "<style scoped>\n",
       "    .dataframe tbody tr th:only-of-type {\n",
       "        vertical-align: middle;\n",
       "    }\n",
       "\n",
       "    .dataframe tbody tr th {\n",
       "        vertical-align: top;\n",
       "    }\n",
       "\n",
       "    .dataframe thead th {\n",
       "        text-align: right;\n",
       "    }\n",
       "</style>\n",
       "<table border=\"1\" class=\"dataframe\">\n",
       "  <thead>\n",
       "    <tr style=\"text-align: right;\">\n",
       "      <th></th>\n",
       "      <th>f0</th>\n",
       "      <th>f1</th>\n",
       "      <th>f2</th>\n",
       "      <th>product</th>\n",
       "    </tr>\n",
       "  </thead>\n",
       "  <tbody>\n",
       "    <tr>\n",
       "      <td>count</td>\n",
       "      <td>100000.000000</td>\n",
       "      <td>100000.000000</td>\n",
       "      <td>100000.000000</td>\n",
       "      <td>100000.000000</td>\n",
       "    </tr>\n",
       "    <tr>\n",
       "      <td>mean</td>\n",
       "      <td>0.500419</td>\n",
       "      <td>0.250143</td>\n",
       "      <td>2.502647</td>\n",
       "      <td>92.500000</td>\n",
       "    </tr>\n",
       "    <tr>\n",
       "      <td>std</td>\n",
       "      <td>0.871832</td>\n",
       "      <td>0.504433</td>\n",
       "      <td>3.248248</td>\n",
       "      <td>44.288691</td>\n",
       "    </tr>\n",
       "    <tr>\n",
       "      <td>min</td>\n",
       "      <td>-1.408605</td>\n",
       "      <td>-0.848218</td>\n",
       "      <td>-12.088328</td>\n",
       "      <td>0.000000</td>\n",
       "    </tr>\n",
       "    <tr>\n",
       "      <td>25%</td>\n",
       "      <td>-0.072580</td>\n",
       "      <td>-0.200881</td>\n",
       "      <td>0.287748</td>\n",
       "      <td>56.497507</td>\n",
       "    </tr>\n",
       "    <tr>\n",
       "      <td>50%</td>\n",
       "      <td>0.502360</td>\n",
       "      <td>0.250252</td>\n",
       "      <td>2.515969</td>\n",
       "      <td>91.849972</td>\n",
       "    </tr>\n",
       "    <tr>\n",
       "      <td>75%</td>\n",
       "      <td>1.073581</td>\n",
       "      <td>0.700646</td>\n",
       "      <td>4.715088</td>\n",
       "      <td>128.564089</td>\n",
       "    </tr>\n",
       "    <tr>\n",
       "      <td>max</td>\n",
       "      <td>2.362331</td>\n",
       "      <td>1.343769</td>\n",
       "      <td>16.003790</td>\n",
       "      <td>185.364347</td>\n",
       "    </tr>\n",
       "  </tbody>\n",
       "</table>\n",
       "</div>"
      ],
      "text/plain": [
       "                  f0             f1             f2        product\n",
       "count  100000.000000  100000.000000  100000.000000  100000.000000\n",
       "mean        0.500419       0.250143       2.502647      92.500000\n",
       "std         0.871832       0.504433       3.248248      44.288691\n",
       "min        -1.408605      -0.848218     -12.088328       0.000000\n",
       "25%        -0.072580      -0.200881       0.287748      56.497507\n",
       "50%         0.502360       0.250252       2.515969      91.849972\n",
       "75%         1.073581       0.700646       4.715088     128.564089\n",
       "max         2.362331       1.343769      16.003790     185.364347"
      ]
     },
     "execution_count": 7,
     "metadata": {},
     "output_type": "execute_result"
    }
   ],
   "source": [
    "df_0.describe()"
   ]
  },
  {
   "cell_type": "code",
   "execution_count": 8,
   "metadata": {},
   "outputs": [
    {
     "data": {
      "text/html": [
       "<div>\n",
       "<style scoped>\n",
       "    .dataframe tbody tr th:only-of-type {\n",
       "        vertical-align: middle;\n",
       "    }\n",
       "\n",
       "    .dataframe tbody tr th {\n",
       "        vertical-align: top;\n",
       "    }\n",
       "\n",
       "    .dataframe thead th {\n",
       "        text-align: right;\n",
       "    }\n",
       "</style>\n",
       "<table border=\"1\" class=\"dataframe\">\n",
       "  <thead>\n",
       "    <tr style=\"text-align: right;\">\n",
       "      <th></th>\n",
       "      <th>f0</th>\n",
       "      <th>f1</th>\n",
       "      <th>f2</th>\n",
       "      <th>product</th>\n",
       "    </tr>\n",
       "  </thead>\n",
       "  <tbody>\n",
       "    <tr>\n",
       "      <td>count</td>\n",
       "      <td>100000.000000</td>\n",
       "      <td>100000.000000</td>\n",
       "      <td>100000.000000</td>\n",
       "      <td>100000.000000</td>\n",
       "    </tr>\n",
       "    <tr>\n",
       "      <td>mean</td>\n",
       "      <td>1.141296</td>\n",
       "      <td>-4.796579</td>\n",
       "      <td>2.494541</td>\n",
       "      <td>68.825000</td>\n",
       "    </tr>\n",
       "    <tr>\n",
       "      <td>std</td>\n",
       "      <td>8.965932</td>\n",
       "      <td>5.119872</td>\n",
       "      <td>1.703572</td>\n",
       "      <td>45.944423</td>\n",
       "    </tr>\n",
       "    <tr>\n",
       "      <td>min</td>\n",
       "      <td>-31.609576</td>\n",
       "      <td>-26.358598</td>\n",
       "      <td>-0.018144</td>\n",
       "      <td>0.000000</td>\n",
       "    </tr>\n",
       "    <tr>\n",
       "      <td>25%</td>\n",
       "      <td>-6.298551</td>\n",
       "      <td>-8.267985</td>\n",
       "      <td>1.000021</td>\n",
       "      <td>26.953261</td>\n",
       "    </tr>\n",
       "    <tr>\n",
       "      <td>50%</td>\n",
       "      <td>1.153055</td>\n",
       "      <td>-4.813172</td>\n",
       "      <td>2.011479</td>\n",
       "      <td>57.085625</td>\n",
       "    </tr>\n",
       "    <tr>\n",
       "      <td>75%</td>\n",
       "      <td>8.621015</td>\n",
       "      <td>-1.332816</td>\n",
       "      <td>3.999904</td>\n",
       "      <td>107.813044</td>\n",
       "    </tr>\n",
       "    <tr>\n",
       "      <td>max</td>\n",
       "      <td>29.421755</td>\n",
       "      <td>18.734063</td>\n",
       "      <td>5.019721</td>\n",
       "      <td>137.945408</td>\n",
       "    </tr>\n",
       "  </tbody>\n",
       "</table>\n",
       "</div>"
      ],
      "text/plain": [
       "                  f0             f1             f2        product\n",
       "count  100000.000000  100000.000000  100000.000000  100000.000000\n",
       "mean        1.141296      -4.796579       2.494541      68.825000\n",
       "std         8.965932       5.119872       1.703572      45.944423\n",
       "min       -31.609576     -26.358598      -0.018144       0.000000\n",
       "25%        -6.298551      -8.267985       1.000021      26.953261\n",
       "50%         1.153055      -4.813172       2.011479      57.085625\n",
       "75%         8.621015      -1.332816       3.999904     107.813044\n",
       "max        29.421755      18.734063       5.019721     137.945408"
      ]
     },
     "execution_count": 8,
     "metadata": {},
     "output_type": "execute_result"
    }
   ],
   "source": [
    "df_1.describe()"
   ]
  },
  {
   "cell_type": "code",
   "execution_count": 9,
   "metadata": {},
   "outputs": [
    {
     "data": {
      "text/html": [
       "<div>\n",
       "<style scoped>\n",
       "    .dataframe tbody tr th:only-of-type {\n",
       "        vertical-align: middle;\n",
       "    }\n",
       "\n",
       "    .dataframe tbody tr th {\n",
       "        vertical-align: top;\n",
       "    }\n",
       "\n",
       "    .dataframe thead th {\n",
       "        text-align: right;\n",
       "    }\n",
       "</style>\n",
       "<table border=\"1\" class=\"dataframe\">\n",
       "  <thead>\n",
       "    <tr style=\"text-align: right;\">\n",
       "      <th></th>\n",
       "      <th>f0</th>\n",
       "      <th>f1</th>\n",
       "      <th>f2</th>\n",
       "      <th>product</th>\n",
       "    </tr>\n",
       "  </thead>\n",
       "  <tbody>\n",
       "    <tr>\n",
       "      <td>count</td>\n",
       "      <td>100000.000000</td>\n",
       "      <td>100000.000000</td>\n",
       "      <td>100000.000000</td>\n",
       "      <td>100000.000000</td>\n",
       "    </tr>\n",
       "    <tr>\n",
       "      <td>mean</td>\n",
       "      <td>0.002023</td>\n",
       "      <td>-0.002081</td>\n",
       "      <td>2.495128</td>\n",
       "      <td>95.000000</td>\n",
       "    </tr>\n",
       "    <tr>\n",
       "      <td>std</td>\n",
       "      <td>1.732045</td>\n",
       "      <td>1.730417</td>\n",
       "      <td>3.473445</td>\n",
       "      <td>44.749921</td>\n",
       "    </tr>\n",
       "    <tr>\n",
       "      <td>min</td>\n",
       "      <td>-8.760004</td>\n",
       "      <td>-7.084020</td>\n",
       "      <td>-11.970335</td>\n",
       "      <td>0.000000</td>\n",
       "    </tr>\n",
       "    <tr>\n",
       "      <td>25%</td>\n",
       "      <td>-1.162288</td>\n",
       "      <td>-1.174820</td>\n",
       "      <td>0.130359</td>\n",
       "      <td>59.450441</td>\n",
       "    </tr>\n",
       "    <tr>\n",
       "      <td>50%</td>\n",
       "      <td>0.009424</td>\n",
       "      <td>-0.009482</td>\n",
       "      <td>2.484236</td>\n",
       "      <td>94.925613</td>\n",
       "    </tr>\n",
       "    <tr>\n",
       "      <td>75%</td>\n",
       "      <td>1.158535</td>\n",
       "      <td>1.163678</td>\n",
       "      <td>4.858794</td>\n",
       "      <td>130.595027</td>\n",
       "    </tr>\n",
       "    <tr>\n",
       "      <td>max</td>\n",
       "      <td>7.238262</td>\n",
       "      <td>7.844801</td>\n",
       "      <td>16.739402</td>\n",
       "      <td>190.029838</td>\n",
       "    </tr>\n",
       "  </tbody>\n",
       "</table>\n",
       "</div>"
      ],
      "text/plain": [
       "                  f0             f1             f2        product\n",
       "count  100000.000000  100000.000000  100000.000000  100000.000000\n",
       "mean        0.002023      -0.002081       2.495128      95.000000\n",
       "std         1.732045       1.730417       3.473445      44.749921\n",
       "min        -8.760004      -7.084020     -11.970335       0.000000\n",
       "25%        -1.162288      -1.174820       0.130359      59.450441\n",
       "50%         0.009424      -0.009482       2.484236      94.925613\n",
       "75%         1.158535       1.163678       4.858794     130.595027\n",
       "max         7.238262       7.844801      16.739402     190.029838"
      ]
     },
     "execution_count": 9,
     "metadata": {},
     "output_type": "execute_result"
    }
   ],
   "source": [
    "df_2.describe()"
   ]
  },
  {
   "cell_type": "markdown",
   "metadata": {},
   "source": [
    "### Визуализируем данные"
   ]
  },
  {
   "cell_type": "code",
   "execution_count": 10,
   "metadata": {},
   "outputs": [
    {
     "data": {
      "image/png": "[encoded data removed]",
      "text/plain": [
       "<Figure size 1008x720 with 1 Axes>"
      ]
     },
     "metadata": {
      "needs_background": "light"
     },
     "output_type": "display_data"
    }
   ],
   "source": [
    "df_0.boxplot(column=['f0', 'f1', 'f2'],figsize=(14,10))\n",
    "plt.show()"
   ]
  },
  {
   "cell_type": "code",
   "execution_count": 11,
   "metadata": {},
   "outputs": [
    {
     "data": {
      "image/png": "[encoded data removed]",
      "text/plain": [
       "<Figure size 1008x720 with 1 Axes>"
      ]
     },
     "metadata": {
      "needs_background": "light"
     },
     "output_type": "display_data"
    }
   ],
   "source": [
    "df_1.boxplot(column=['f0', 'f1', 'f2'], figsize=(14,10))\n",
    "plt.show()"
   ]
  },
  {
   "cell_type": "code",
   "execution_count": 12,
   "metadata": {},
   "outputs": [
    {
     "data": {
      "image/png": "[encoded data removed]",
      "text/plain": [
       "<Figure size 1008x720 with 1 Axes>"
      ]
     },
     "metadata": {
      "needs_background": "light"
     },
     "output_type": "display_data"
    }
   ],
   "source": [
    "df_2.boxplot(column=['f0', 'f1', 'f2'], figsize=(14,10))\n",
    "plt.show()"
   ]
  },
  {
   "cell_type": "markdown",
   "metadata": {},
   "source": [
    "**Вывод**\n",
    "\n",
    "В некоторых столбцах имеются выбросы. Они будут мешать модели обучаться, поэтому от них необходимо избавиться."
   ]
  },
  {
   "cell_type": "markdown",
   "metadata": {},
   "source": [
    "### Обработка данных"
   ]
  },
  {
   "cell_type": "code",
   "execution_count": 13,
   "metadata": {},
   "outputs": [
    {
     "name": "stdout",
     "output_type": "stream",
     "text": [
      "<class 'pandas.core.frame.DataFrame'>\n",
      "Int64Index: 98000 entries, 0 to 99999\n",
      "Data columns (total 5 columns):\n",
      "id         98000 non-null object\n",
      "f0         98000 non-null float64\n",
      "f1         98000 non-null float64\n",
      "f2         98000 non-null float64\n",
      "product    98000 non-null float64\n",
      "dtypes: float64(4), object(1)\n",
      "memory usage: 4.5+ MB\n"
     ]
    },
    {
     "data": {
      "image/png": "[encoded data removed]",
      "text/plain": [
       "<Figure size 1008x720 with 1 Axes>"
      ]
     },
     "metadata": {
      "needs_background": "light"
     },
     "output_type": "display_data"
    }
   ],
   "source": [
    "df_0 = df_0.query('f2.quantile(0.01) < f2 < f2.quantile(0.99)')\n",
    "df_0.boxplot(column=['f0', 'f1', 'f2'], figsize=(14,10))\n",
    "df_0.info()\n",
    "plt.show()"
   ]
  },
  {
   "cell_type": "code",
   "execution_count": 14,
   "metadata": {},
   "outputs": [
    {
     "name": "stdout",
     "output_type": "stream",
     "text": [
      "<class 'pandas.core.frame.DataFrame'>\n",
      "Int64Index: 98000 entries, 0 to 99999\n",
      "Data columns (total 5 columns):\n",
      "id         98000 non-null object\n",
      "f0         98000 non-null float64\n",
      "f1         98000 non-null float64\n",
      "f2         98000 non-null float64\n",
      "product    98000 non-null float64\n",
      "dtypes: float64(4), object(1)\n",
      "memory usage: 4.5+ MB\n"
     ]
    },
    {
     "data": {
      "image/png": "[encoded data removed]",
      "text/plain": [
       "<Figure size 1008x720 with 1 Axes>"
      ]
     },
     "metadata": {
      "needs_background": "light"
     },
     "output_type": "display_data"
    }
   ],
   "source": [
    "df_1 = df_1.query('f1.quantile(0.01) < f1 < f1.quantile(0.99)')\n",
    "df_1.info()\n",
    "df_1.boxplot(column=['f0', 'f1', 'f2'], figsize=(14,10))\n",
    "plt.show()"
   ]
  },
  {
   "cell_type": "code",
   "execution_count": 15,
   "metadata": {
    "scrolled": true
   },
   "outputs": [
    {
     "name": "stdout",
     "output_type": "stream",
     "text": [
      "<class 'pandas.core.frame.DataFrame'>\n",
      "Int64Index: 94119 entries, 0 to 99999\n",
      "Data columns (total 5 columns):\n",
      "id         94119 non-null object\n",
      "f0         94119 non-null float64\n",
      "f1         94119 non-null float64\n",
      "f2         94119 non-null float64\n",
      "product    94119 non-null float64\n",
      "dtypes: float64(4), object(1)\n",
      "memory usage: 4.3+ MB\n"
     ]
    },
    {
     "data": {
      "image/png": "[encoded data removed]",
      "text/plain": [
       "<Figure size 1008x720 with 1 Axes>"
      ]
     },
     "metadata": {
      "needs_background": "light"
     },
     "output_type": "display_data"
    }
   ],
   "source": [
    "df_2 = df_2.query('f0.quantile(0.01) < f0 < f0.quantile(0.99) and f1.quantile(0.01) < f1 < f1.quantile(0.99) and f2.quantile(0.01) < f2 < f2.quantile(0.99)')\n",
    "df_2.info()\n",
    "df_2.boxplot(column=['f0', 'f1', 'f2'], figsize=(14,10))\n",
    "plt.show()"
   ]
  },
  {
   "cell_type": "code",
   "execution_count": 16,
   "metadata": {},
   "outputs": [
    {
     "data": {
      "text/html": [
       "<div>\n",
       "<style scoped>\n",
       "    .dataframe tbody tr th:only-of-type {\n",
       "        vertical-align: middle;\n",
       "    }\n",
       "\n",
       "    .dataframe tbody tr th {\n",
       "        vertical-align: top;\n",
       "    }\n",
       "\n",
       "    .dataframe thead th {\n",
       "        text-align: right;\n",
       "    }\n",
       "</style>\n",
       "<table border=\"1\" class=\"dataframe\">\n",
       "  <thead>\n",
       "    <tr style=\"text-align: right;\">\n",
       "      <th></th>\n",
       "      <th>f0</th>\n",
       "      <th>f1</th>\n",
       "      <th>f2</th>\n",
       "      <th>product</th>\n",
       "    </tr>\n",
       "  </thead>\n",
       "  <tbody>\n",
       "    <tr>\n",
       "      <td>f0</td>\n",
       "      <td>1.000000</td>\n",
       "      <td>-0.440782</td>\n",
       "      <td>-0.003203</td>\n",
       "      <td>0.144104</td>\n",
       "    </tr>\n",
       "    <tr>\n",
       "      <td>f1</td>\n",
       "      <td>-0.440782</td>\n",
       "      <td>1.000000</td>\n",
       "      <td>0.001540</td>\n",
       "      <td>-0.193260</td>\n",
       "    </tr>\n",
       "    <tr>\n",
       "      <td>f2</td>\n",
       "      <td>-0.003203</td>\n",
       "      <td>0.001540</td>\n",
       "      <td>1.000000</td>\n",
       "      <td>0.469972</td>\n",
       "    </tr>\n",
       "    <tr>\n",
       "      <td>product</td>\n",
       "      <td>0.144104</td>\n",
       "      <td>-0.193260</td>\n",
       "      <td>0.469972</td>\n",
       "      <td>1.000000</td>\n",
       "    </tr>\n",
       "  </tbody>\n",
       "</table>\n",
       "</div>"
      ],
      "text/plain": [
       "               f0        f1        f2   product\n",
       "f0       1.000000 -0.440782 -0.003203  0.144104\n",
       "f1      -0.440782  1.000000  0.001540 -0.193260\n",
       "f2      -0.003203  0.001540  1.000000  0.469972\n",
       "product  0.144104 -0.193260  0.469972  1.000000"
      ]
     },
     "metadata": {},
     "output_type": "display_data"
    },
    {
     "data": {
      "text/html": [
       "<div>\n",
       "<style scoped>\n",
       "    .dataframe tbody tr th:only-of-type {\n",
       "        vertical-align: middle;\n",
       "    }\n",
       "\n",
       "    .dataframe tbody tr th {\n",
       "        vertical-align: top;\n",
       "    }\n",
       "\n",
       "    .dataframe thead th {\n",
       "        text-align: right;\n",
       "    }\n",
       "</style>\n",
       "<table border=\"1\" class=\"dataframe\">\n",
       "  <thead>\n",
       "    <tr style=\"text-align: right;\">\n",
       "      <th></th>\n",
       "      <th>f0</th>\n",
       "      <th>f1</th>\n",
       "      <th>f2</th>\n",
       "      <th>product</th>\n",
       "    </tr>\n",
       "  </thead>\n",
       "  <tbody>\n",
       "    <tr>\n",
       "      <td>f0</td>\n",
       "      <td>1.000000</td>\n",
       "      <td>0.173404</td>\n",
       "      <td>-0.001194</td>\n",
       "      <td>-0.029902</td>\n",
       "    </tr>\n",
       "    <tr>\n",
       "      <td>f1</td>\n",
       "      <td>0.173404</td>\n",
       "      <td>1.000000</td>\n",
       "      <td>-0.001721</td>\n",
       "      <td>-0.008914</td>\n",
       "    </tr>\n",
       "    <tr>\n",
       "      <td>f2</td>\n",
       "      <td>-0.001194</td>\n",
       "      <td>-0.001721</td>\n",
       "      <td>1.000000</td>\n",
       "      <td>0.999397</td>\n",
       "    </tr>\n",
       "    <tr>\n",
       "      <td>product</td>\n",
       "      <td>-0.029902</td>\n",
       "      <td>-0.008914</td>\n",
       "      <td>0.999397</td>\n",
       "      <td>1.000000</td>\n",
       "    </tr>\n",
       "  </tbody>\n",
       "</table>\n",
       "</div>"
      ],
      "text/plain": [
       "               f0        f1        f2   product\n",
       "f0       1.000000  0.173404 -0.001194 -0.029902\n",
       "f1       0.173404  1.000000 -0.001721 -0.008914\n",
       "f2      -0.001194 -0.001721  1.000000  0.999397\n",
       "product -0.029902 -0.008914  0.999397  1.000000"
      ]
     },
     "metadata": {},
     "output_type": "display_data"
    },
    {
     "data": {
      "text/html": [
       "<div>\n",
       "<style scoped>\n",
       "    .dataframe tbody tr th:only-of-type {\n",
       "        vertical-align: middle;\n",
       "    }\n",
       "\n",
       "    .dataframe tbody tr th {\n",
       "        vertical-align: top;\n",
       "    }\n",
       "\n",
       "    .dataframe thead th {\n",
       "        text-align: right;\n",
       "    }\n",
       "</style>\n",
       "<table border=\"1\" class=\"dataframe\">\n",
       "  <thead>\n",
       "    <tr style=\"text-align: right;\">\n",
       "      <th></th>\n",
       "      <th>f0</th>\n",
       "      <th>f1</th>\n",
       "      <th>f2</th>\n",
       "      <th>product</th>\n",
       "    </tr>\n",
       "  </thead>\n",
       "  <tbody>\n",
       "    <tr>\n",
       "      <td>f0</td>\n",
       "      <td>1.000000</td>\n",
       "      <td>0.000856</td>\n",
       "      <td>-0.000509</td>\n",
       "      <td>-0.002711</td>\n",
       "    </tr>\n",
       "    <tr>\n",
       "      <td>f1</td>\n",
       "      <td>0.000856</td>\n",
       "      <td>1.000000</td>\n",
       "      <td>0.000787</td>\n",
       "      <td>0.000702</td>\n",
       "    </tr>\n",
       "    <tr>\n",
       "      <td>f2</td>\n",
       "      <td>-0.000509</td>\n",
       "      <td>0.000787</td>\n",
       "      <td>1.000000</td>\n",
       "      <td>0.430922</td>\n",
       "    </tr>\n",
       "    <tr>\n",
       "      <td>product</td>\n",
       "      <td>-0.002711</td>\n",
       "      <td>0.000702</td>\n",
       "      <td>0.430922</td>\n",
       "      <td>1.000000</td>\n",
       "    </tr>\n",
       "  </tbody>\n",
       "</table>\n",
       "</div>"
      ],
      "text/plain": [
       "               f0        f1        f2   product\n",
       "f0       1.000000  0.000856 -0.000509 -0.002711\n",
       "f1       0.000856  1.000000  0.000787  0.000702\n",
       "f2      -0.000509  0.000787  1.000000  0.430922\n",
       "product -0.002711  0.000702  0.430922  1.000000"
      ]
     },
     "metadata": {},
     "output_type": "display_data"
    }
   ],
   "source": [
    "display(df_0.corr(), df_1.corr(), df_2.corr())"
   ]
  },
  {
   "cell_type": "markdown",
   "metadata": {},
   "source": [
    "**Вывод**\n",
    " - Пропуски отсутствуют\n",
    " - Типы данных корректны\n",
    " - Дубликаты отсутствуют\n",
    " - Объем запасов в скважине везде положительный\n",
    " - Данные очищены от выбросов"
   ]
  },
  {
   "cell_type": "markdown",
   "metadata": {},
   "source": [
    "## Обучение и проверка модели"
   ]
  },
  {
   "cell_type": "code",
   "execution_count": 17,
   "metadata": {},
   "outputs": [],
   "source": [
    "array_name = [\"df_0\", \"df_1\",\"df_2\"]\n",
    "\n",
    "array_frame = [df_0, df_1, df_2]\n",
    "              \n",
    "data_dict = {\"pipelines\":{},\"scores\":{},\"valid\":{}}\n",
    "\n",
    "for frame, name in zip(array_frame,array_name):\n",
    "    \n",
    "    features = frame.drop([\"id\",\"product\"], axis = 1)\n",
    "    target = frame[\"product\"]\n",
    "    \n",
    "    new_pipeline = make_pipeline(StandardScaler(),LinearRegression())\n",
    "    \n",
    "    \n",
    "    (features_train,\n",
    "    features_valid,\n",
    "    target_train,\n",
    "    target_valid) = train_test_split(features,\n",
    "                                     target,\n",
    "                                     test_size = 0.25,\n",
    "                                     random_state = 12345)\n",
    "    data_dict['valid'][name] = (features_valid,target_valid)\n",
    "    new_pipeline.fit(features_train,target_train)\n",
    "    \n",
    "    data_dict['pipelines'][name] = new_pipeline\n",
    "    data_dict['scores'][name] = mean_squared_error(target_valid,\n",
    "                                                   new_pipeline.predict(features_valid))**0.5"
   ]
  },
  {
   "cell_type": "markdown",
   "metadata": {},
   "source": [
    "**Вывод**\n",
    "- Разбили данные на обучающую и валидационную выборки в соотношении 75:25.\n",
    "- Обучили модель с помощью линейной регресии и сделали предсказания на валидационной выборке.\n",
    "- Нашли RMSE каждой модели (ниже)"
   ]
  },
  {
   "cell_type": "code",
   "execution_count": 18,
   "metadata": {},
   "outputs": [],
   "source": [
    "best_model_zero = data_dict['pipelines']['df_0']\n",
    "best_model_first = data_dict['pipelines']['df_1']\n",
    "best_model_second = data_dict['pipelines']['df_2']\n",
    "\n",
    "predicted_values_zero = best_model_zero.predict(data_dict['valid']['df_0'][0])\n",
    "predicted_values_first = best_model_first.predict(data_dict['valid']['df_1'][0])\n",
    "predicted_values_second = best_model_second.predict(data_dict['valid']['df_2'][0])\n",
    "\n",
    "RMSE_model_zero = (mean_squared_error(data_dict['valid']['df_0'][1],predicted_values_zero))**0.5\n",
    "RMSE_model_first = (mean_squared_error(data_dict['valid']['df_1'][1],predicted_values_first))**0.5\n",
    "RMSE_model_second = (mean_squared_error(data_dict['valid']['df_2'][1],predicted_values_second))**0.5"
   ]
  },
  {
   "cell_type": "code",
   "execution_count": 19,
   "metadata": {},
   "outputs": [
    {
     "name": "stdout",
     "output_type": "stream",
     "text": [
      "df_0: \n",
      "Средний запас: 92.43059828799613 \n",
      "RMSE модели: 37.65333023033791\n",
      "df_1: \n",
      "Средний запас: 68.85315076070495 \n",
      "RMSE модели: 0.8844450479021249\n",
      "df_2: \n",
      "Средний запас: 94.19801666074984 \n",
      "RMSE модели: 40.275774209819026\n"
     ]
    }
   ],
   "source": [
    "print('df_0:','\\nСредний запас:', predicted_values_zero.mean(), '\\nRMSE модели:', RMSE_model_zero)\n",
    "print('df_1:','\\nСредний запас:', predicted_values_first.mean(), '\\nRMSE модели:', RMSE_model_first)\n",
    "print('df_2:','\\nСредний запас:', predicted_values_second.mean(), '\\nRMSE модели:', RMSE_model_second)"
   ]
  },
  {
   "cell_type": "markdown",
   "metadata": {},
   "source": [
    "**Вывод**:\n",
    " - Ошибка в нулевом регионе самая маленькая, но этот регион занимает второе место по среднему объему запасов после второго региона\n",
    " - Первый регион проигрывает другим регионам по всем показателям\n",
    " - Во втором регионе самый большой средний объем запасов, но по ошибке регион на втором месте"
   ]
  },
  {
   "cell_type": "markdown",
   "metadata": {},
   "source": [
    "## Подготовка к расчёту прибыли"
   ]
  },
  {
   "cell_type": "code",
   "execution_count": 20,
   "metadata": {},
   "outputs": [
    {
     "name": "stdout",
     "output_type": "stream",
     "text": [
      "Достаточный объем добычи для безубыточной разработки: 111\n"
     ]
    }
   ],
   "source": [
    "BUDGET_PER_REGION = 10*(10**9)\n",
    "PRE_MAX_POINTS = 500\n",
    "FINAL_MAX_POINTS = 200\n",
    "PRICE_PER_BARREL = 450000\n",
    "DAMAGE_THRESHOLD =  0.025\n",
    "NON_DAMAGE_POINT = (BUDGET_PER_REGION/PRICE_PER_BARREL/FINAL_MAX_POINTS)\n",
    "print(\"Достаточный объем добычи для безубыточной разработки:\", round(NON_DAMAGE_POINT))"
   ]
  },
  {
   "cell_type": "code",
   "execution_count": 21,
   "metadata": {},
   "outputs": [
    {
     "data": {
      "text/html": [
       "<div>\n",
       "<style scoped>\n",
       "    .dataframe tbody tr th:only-of-type {\n",
       "        vertical-align: middle;\n",
       "    }\n",
       "\n",
       "    .dataframe tbody tr th {\n",
       "        vertical-align: top;\n",
       "    }\n",
       "\n",
       "    .dataframe thead th {\n",
       "        text-align: right;\n",
       "    }\n",
       "</style>\n",
       "<table border=\"1\" class=\"dataframe\">\n",
       "  <thead>\n",
       "    <tr style=\"text-align: right;\">\n",
       "      <th></th>\n",
       "      <th>f0</th>\n",
       "      <th>f1</th>\n",
       "      <th>f2</th>\n",
       "      <th>product</th>\n",
       "    </tr>\n",
       "  </thead>\n",
       "  <tbody>\n",
       "    <tr>\n",
       "      <td>count</td>\n",
       "      <td>98000.000000</td>\n",
       "      <td>98000.000000</td>\n",
       "      <td>98000.000000</td>\n",
       "      <td>98000.000000</td>\n",
       "    </tr>\n",
       "    <tr>\n",
       "      <td>mean</td>\n",
       "      <td>0.500903</td>\n",
       "      <td>0.250287</td>\n",
       "      <td>2.502299</td>\n",
       "      <td>92.467269</td>\n",
       "    </tr>\n",
       "    <tr>\n",
       "      <td>std</td>\n",
       "      <td>0.872031</td>\n",
       "      <td>0.504395</td>\n",
       "      <td>3.047662</td>\n",
       "      <td>44.089957</td>\n",
       "    </tr>\n",
       "    <tr>\n",
       "      <td>min</td>\n",
       "      <td>-1.408605</td>\n",
       "      <td>-0.848218</td>\n",
       "      <td>-4.973184</td>\n",
       "      <td>0.000000</td>\n",
       "    </tr>\n",
       "    <tr>\n",
       "      <td>25%</td>\n",
       "      <td>-0.072432</td>\n",
       "      <td>-0.200626</td>\n",
       "      <td>0.338791</td>\n",
       "      <td>56.673999</td>\n",
       "    </tr>\n",
       "    <tr>\n",
       "      <td>50%</td>\n",
       "      <td>0.502622</td>\n",
       "      <td>0.250079</td>\n",
       "      <td>2.515969</td>\n",
       "      <td>91.781256</td>\n",
       "    </tr>\n",
       "    <tr>\n",
       "      <td>75%</td>\n",
       "      <td>1.074124</td>\n",
       "      <td>0.700928</td>\n",
       "      <td>4.668808</td>\n",
       "      <td>128.286316</td>\n",
       "    </tr>\n",
       "    <tr>\n",
       "      <td>max</td>\n",
       "      <td>2.362331</td>\n",
       "      <td>1.343769</td>\n",
       "      <td>9.969316</td>\n",
       "      <td>185.364347</td>\n",
       "    </tr>\n",
       "  </tbody>\n",
       "</table>\n",
       "</div>"
      ],
      "text/plain": [
       "                 f0            f1            f2       product\n",
       "count  98000.000000  98000.000000  98000.000000  98000.000000\n",
       "mean       0.500903      0.250287      2.502299     92.467269\n",
       "std        0.872031      0.504395      3.047662     44.089957\n",
       "min       -1.408605     -0.848218     -4.973184      0.000000\n",
       "25%       -0.072432     -0.200626      0.338791     56.673999\n",
       "50%        0.502622      0.250079      2.515969     91.781256\n",
       "75%        1.074124      0.700928      4.668808    128.286316\n",
       "max        2.362331      1.343769      9.969316    185.364347"
      ]
     },
     "metadata": {},
     "output_type": "display_data"
    },
    {
     "data": {
      "text/html": [
       "<div>\n",
       "<style scoped>\n",
       "    .dataframe tbody tr th:only-of-type {\n",
       "        vertical-align: middle;\n",
       "    }\n",
       "\n",
       "    .dataframe tbody tr th {\n",
       "        vertical-align: top;\n",
       "    }\n",
       "\n",
       "    .dataframe thead th {\n",
       "        text-align: right;\n",
       "    }\n",
       "</style>\n",
       "<table border=\"1\" class=\"dataframe\">\n",
       "  <thead>\n",
       "    <tr style=\"text-align: right;\">\n",
       "      <th></th>\n",
       "      <th>f0</th>\n",
       "      <th>f1</th>\n",
       "      <th>f2</th>\n",
       "      <th>product</th>\n",
       "    </tr>\n",
       "  </thead>\n",
       "  <tbody>\n",
       "    <tr>\n",
       "      <td>count</td>\n",
       "      <td>98000.000000</td>\n",
       "      <td>98000.000000</td>\n",
       "      <td>98000.000000</td>\n",
       "      <td>98000.000000</td>\n",
       "    </tr>\n",
       "    <tr>\n",
       "      <td>mean</td>\n",
       "      <td>1.136330</td>\n",
       "      <td>-4.798131</td>\n",
       "      <td>2.493685</td>\n",
       "      <td>68.802817</td>\n",
       "    </tr>\n",
       "    <tr>\n",
       "      <td>std</td>\n",
       "      <td>8.967532</td>\n",
       "      <td>4.789201</td>\n",
       "      <td>1.704040</td>\n",
       "      <td>45.955202</td>\n",
       "    </tr>\n",
       "    <tr>\n",
       "      <td>min</td>\n",
       "      <td>-31.609576</td>\n",
       "      <td>-16.584107</td>\n",
       "      <td>-0.018144</td>\n",
       "      <td>0.000000</td>\n",
       "    </tr>\n",
       "    <tr>\n",
       "      <td>25%</td>\n",
       "      <td>-6.302419</td>\n",
       "      <td>-8.186294</td>\n",
       "      <td>0.999998</td>\n",
       "      <td>26.953261</td>\n",
       "    </tr>\n",
       "    <tr>\n",
       "      <td>50%</td>\n",
       "      <td>1.142726</td>\n",
       "      <td>-4.813172</td>\n",
       "      <td>2.011245</td>\n",
       "      <td>57.085625</td>\n",
       "    </tr>\n",
       "    <tr>\n",
       "      <td>75%</td>\n",
       "      <td>8.619893</td>\n",
       "      <td>-1.413709</td>\n",
       "      <td>3.999910</td>\n",
       "      <td>107.813044</td>\n",
       "    </tr>\n",
       "    <tr>\n",
       "      <td>max</td>\n",
       "      <td>29.421755</td>\n",
       "      <td>7.139352</td>\n",
       "      <td>5.019721</td>\n",
       "      <td>137.945408</td>\n",
       "    </tr>\n",
       "  </tbody>\n",
       "</table>\n",
       "</div>"
      ],
      "text/plain": [
       "                 f0            f1            f2       product\n",
       "count  98000.000000  98000.000000  98000.000000  98000.000000\n",
       "mean       1.136330     -4.798131      2.493685     68.802817\n",
       "std        8.967532      4.789201      1.704040     45.955202\n",
       "min      -31.609576    -16.584107     -0.018144      0.000000\n",
       "25%       -6.302419     -8.186294      0.999998     26.953261\n",
       "50%        1.142726     -4.813172      2.011245     57.085625\n",
       "75%        8.619893     -1.413709      3.999910    107.813044\n",
       "max       29.421755      7.139352      5.019721    137.945408"
      ]
     },
     "metadata": {},
     "output_type": "display_data"
    },
    {
     "data": {
      "text/html": [
       "<div>\n",
       "<style scoped>\n",
       "    .dataframe tbody tr th:only-of-type {\n",
       "        vertical-align: middle;\n",
       "    }\n",
       "\n",
       "    .dataframe tbody tr th {\n",
       "        vertical-align: top;\n",
       "    }\n",
       "\n",
       "    .dataframe thead th {\n",
       "        text-align: right;\n",
       "    }\n",
       "</style>\n",
       "<table border=\"1\" class=\"dataframe\">\n",
       "  <thead>\n",
       "    <tr style=\"text-align: right;\">\n",
       "      <th></th>\n",
       "      <th>f0</th>\n",
       "      <th>f1</th>\n",
       "      <th>f2</th>\n",
       "      <th>product</th>\n",
       "    </tr>\n",
       "  </thead>\n",
       "  <tbody>\n",
       "    <tr>\n",
       "      <td>count</td>\n",
       "      <td>94119.000000</td>\n",
       "      <td>94119.000000</td>\n",
       "      <td>94119.000000</td>\n",
       "      <td>94119.000000</td>\n",
       "    </tr>\n",
       "    <tr>\n",
       "      <td>mean</td>\n",
       "      <td>0.002727</td>\n",
       "      <td>-0.001821</td>\n",
       "      <td>2.492770</td>\n",
       "      <td>94.394645</td>\n",
       "    </tr>\n",
       "    <tr>\n",
       "      <td>std</td>\n",
       "      <td>1.617667</td>\n",
       "      <td>1.617382</td>\n",
       "      <td>3.253542</td>\n",
       "      <td>44.557931</td>\n",
       "    </tr>\n",
       "    <tr>\n",
       "      <td>min</td>\n",
       "      <td>-4.021429</td>\n",
       "      <td>-4.003187</td>\n",
       "      <td>-5.504029</td>\n",
       "      <td>0.000000</td>\n",
       "    </tr>\n",
       "    <tr>\n",
       "      <td>25%</td>\n",
       "      <td>-1.134413</td>\n",
       "      <td>-1.145607</td>\n",
       "      <td>0.183990</td>\n",
       "      <td>59.108451</td>\n",
       "    </tr>\n",
       "    <tr>\n",
       "      <td>50%</td>\n",
       "      <td>0.009604</td>\n",
       "      <td>-0.008395</td>\n",
       "      <td>2.483040</td>\n",
       "      <td>94.271148</td>\n",
       "    </tr>\n",
       "    <tr>\n",
       "      <td>75%</td>\n",
       "      <td>1.131690</td>\n",
       "      <td>1.137650</td>\n",
       "      <td>4.795726</td>\n",
       "      <td>129.820415</td>\n",
       "    </tr>\n",
       "    <tr>\n",
       "      <td>max</td>\n",
       "      <td>4.057776</td>\n",
       "      <td>4.020185</td>\n",
       "      <td>10.511958</td>\n",
       "      <td>190.029838</td>\n",
       "    </tr>\n",
       "  </tbody>\n",
       "</table>\n",
       "</div>"
      ],
      "text/plain": [
       "                 f0            f1            f2       product\n",
       "count  94119.000000  94119.000000  94119.000000  94119.000000\n",
       "mean       0.002727     -0.001821      2.492770     94.394645\n",
       "std        1.617667      1.617382      3.253542     44.557931\n",
       "min       -4.021429     -4.003187     -5.504029      0.000000\n",
       "25%       -1.134413     -1.145607      0.183990     59.108451\n",
       "50%        0.009604     -0.008395      2.483040     94.271148\n",
       "75%        1.131690      1.137650      4.795726    129.820415\n",
       "max        4.057776      4.020185     10.511958    190.029838"
      ]
     },
     "metadata": {},
     "output_type": "display_data"
    }
   ],
   "source": [
    "display(df_0.describe(), df_1.describe(), df_2.describe())"
   ]
  },
  {
   "cell_type": "markdown",
   "metadata": {},
   "source": [
    "**Вывод**\n",
    "\n",
    "- Достаточный объём сырья для безубыточной разработки новой скважины равен 111.\n",
    "- Максимальный средний объем в регионах равен 94.4."
   ]
  },
  {
   "cell_type": "markdown",
   "metadata": {},
   "source": [
    "## Расчёт прибыли и рисков"
   ]
  },
  {
   "cell_type": "code",
   "execution_count": 22,
   "metadata": {},
   "outputs": [],
   "source": [
    "def income(true_target, pred_target):\n",
    "    sort_series = pd.Series(pred_target).sort_values(ascending=False)[:FINAL_MAX_POINTS]\n",
    "    true_target_sort = (true_target\n",
    "                         .reset_index(drop = True)[sort_series.index])\n",
    "    sum_true = true_target_sort.sum() \n",
    "    return round((sum_true * PRICE_PER_BARREL) - BUDGET_PER_REGION,2)"
   ]
  },
  {
   "cell_type": "code",
   "execution_count": 23,
   "metadata": {},
   "outputs": [
    {
     "name": "stdout",
     "output_type": "stream",
     "text": [
      "Прибыль с 200 скважин в нулевом регионе: 3039664461.29\n",
      "Прибыль с 200 скважин в первом регионе: 2415086696.68\n",
      "Прибыль с 200 скважин во втором регионе: 2205291089.05\n"
     ]
    }
   ],
   "source": [
    "print(\"Прибыль с 200 скважин в нулевом регионе:\",income(data_dict['valid']['df_0'][1],\n",
    "                                                               predicted_values_zero))\n",
    "print(\"Прибыль с 200 скважин в первом регионе:\",income(data_dict['valid']['df_1'][1],\n",
    "                                                               predicted_values_first))\n",
    "print(\"Прибыль с 200 скважин во втором регионе:\",income(data_dict['valid']['df_2'][1],\n",
    "                                                               predicted_values_second))"
   ]
  },
  {
   "cell_type": "code",
   "execution_count": 24,
   "metadata": {},
   "outputs": [],
   "source": [
    "state = np.random.RandomState(42)"
   ]
  },
  {
   "cell_type": "code",
   "execution_count": 25,
   "metadata": {},
   "outputs": [],
   "source": [
    "def confidence_interval(true_target, pred_target):\n",
    "    samples = []\n",
    "    for i in range(1000):\n",
    "        sample = pd.Series(pred_target).sample(n = PRE_MAX_POINTS, replace=True, random_state=state)\n",
    "        samples.append(income(true_target,sample))\n",
    "    samples = pd.Series(samples)\n",
    "    \n",
    "    print(\"Средняя прибыль\", round(samples.mean(),1))\n",
    "    print(\"Риск убытков\", st.percentileofscore(samples, 0))\n",
    "    \n",
    "    lower = samples.quantile(0.025)\n",
    "    upper = samples.quantile(0.975)\n",
    "    return round(lower,2), round(upper,2)"
   ]
  },
  {
   "cell_type": "code",
   "execution_count": 26,
   "metadata": {},
   "outputs": [
    {
     "name": "stdout",
     "output_type": "stream",
     "text": [
      "Средняя прибыль 331284526.8\n",
      "Риск убытков 9.9\n",
      "95% доверительный итервал для нулевого региона лежит между: (-162263096.28, 854110545.77)\n",
      "\n",
      "Средняя прибыль 431630738.3\n",
      "Риск убытков 0.9\n",
      "95% доверительный итервал для первого региона лежит между: (80167160.07, 825837419.82)\n",
      "\n",
      "Средняя прибыль 242525519.3\n",
      "Риск убытков 18.7\n",
      "95% доверительный итервал для второго региона лежит между: (-291030839.42, 823892201.59)\n"
     ]
    }
   ],
   "source": [
    "print(\"95% доверительный итервал для нулевого региона лежит между:\",\n",
    "      confidence_interval(data_dict['valid']['df_0'][1], predicted_values_zero))\n",
    "print()\n",
    "print(\"95% доверительный итервал для первого региона лежит между:\",\n",
    "      confidence_interval(data_dict['valid']['df_1'][1], predicted_values_first))\n",
    "print()\n",
    "print(\"95% доверительный итервал для второго региона лежит между:\",\n",
    "      confidence_interval(data_dict['valid']['df_2'][1], predicted_values_second))"
   ]
  },
  {
   "cell_type": "markdown",
   "metadata": {},
   "source": [
    "## Общий вывод\n",
    "- Нулевой регион\n",
    "   - Доверительный интервал: (-162263096.28, 854110545.77)\n",
    "   - Точка безубыточности: 111\n",
    "   - Средняя прибыль в нулевом регионе: 331284526.8\n",
    "   - Риски: 9.9 %\n",
    "- Первый регион\n",
    "   - Доверительный интервал: (80167160.07, 825837419.82)\n",
    "   - Точка безубыточности: 111\n",
    "   - Средняя прибыль в первом регионе: 431630738.3\n",
    "   - Риски:0.9 %\n",
    "- Второй регион\n",
    "   - Доверительный интервал: (-291030839.42, 823892201.59)\n",
    "   - Точка безубыточности: 111\n",
    "   - Средняя прибыль во втором регионе: 242525519.3\n",
    "   - Риски: 18.7 %\n",
    "\n",
    "После оценки рисков нужно оставить лишь те регионы, в которых вероятность убытков меньше 2.5%. Среди них выбирают регион с наибольшей средней прибылью.\n",
    "\n",
    "По условиям рисков и средней прибыли подходит только первый регион."
   ]
  }
 ],
 "metadata": {
  "ExecuteTimeLog": [
   {
    "duration": 1629,
    "start_time": "2021-07-07T11:02:03.596Z"
   },
   {
    "duration": 485,
    "start_time": "2021-07-07T11:02:58.163Z"
   },
   {
    "duration": 477,
    "start_time": "2021-07-07T11:03:26.355Z"
   },
   {
    "duration": 28,
    "start_time": "2021-07-07T11:04:03.155Z"
   },
   {
    "duration": 26,
    "start_time": "2021-07-07T11:04:17.909Z"
   },
   {
    "duration": 34,
    "start_time": "2021-07-07T11:04:43.155Z"
   },
   {
    "duration": 28,
    "start_time": "2021-07-07T11:05:10.315Z"
   },
   {
    "duration": 36,
    "start_time": "2021-07-07T11:05:27.155Z"
   },
   {
    "duration": 60,
    "start_time": "2021-07-07T11:06:26.436Z"
   },
   {
    "duration": 91,
    "start_time": "2021-07-07T11:07:11.472Z"
   },
   {
    "duration": 53,
    "start_time": "2021-07-07T11:07:17.155Z"
   },
   {
    "duration": 53,
    "start_time": "2021-07-07T11:07:20.755Z"
   },
   {
    "duration": 64,
    "start_time": "2021-07-07T11:07:32.416Z"
   },
   {
    "duration": 114,
    "start_time": "2021-07-07T11:09:27.569Z"
   },
   {
    "duration": 183,
    "start_time": "2021-07-07T11:10:11.809Z"
   },
   {
    "duration": 392,
    "start_time": "2021-07-07T11:12:13.609Z"
   },
   {
    "duration": 7,
    "start_time": "2021-07-07T11:12:22.209Z"
   },
   {
    "duration": 517,
    "start_time": "2021-07-07T11:12:22.220Z"
   },
   {
    "duration": 34,
    "start_time": "2021-07-07T11:12:22.739Z"
   },
   {
    "duration": 35,
    "start_time": "2021-07-07T11:12:22.777Z"
   },
   {
    "duration": 73,
    "start_time": "2021-07-07T11:12:22.815Z"
   },
   {
    "duration": 51,
    "start_time": "2021-07-07T11:12:22.890Z"
   },
   {
    "duration": 64,
    "start_time": "2021-07-07T11:12:22.943Z"
   },
   {
    "duration": 79,
    "start_time": "2021-07-07T11:12:23.011Z"
   },
   {
    "duration": 184,
    "start_time": "2021-07-07T11:12:26.568Z"
   },
   {
    "duration": 2621,
    "start_time": "2021-07-07T11:25:37.499Z"
   },
   {
    "duration": 291,
    "start_time": "2021-07-07T16:53:35.249Z"
   },
   {
    "duration": 1062,
    "start_time": "2021-07-07T16:53:55.432Z"
   },
   {
    "duration": 347,
    "start_time": "2021-07-07T16:53:56.496Z"
   },
   {
    "duration": 21,
    "start_time": "2021-07-07T16:53:56.845Z"
   },
   {
    "duration": 25,
    "start_time": "2021-07-07T16:53:56.868Z"
   },
   {
    "duration": 19,
    "start_time": "2021-07-07T16:53:56.894Z"
   },
   {
    "duration": 125,
    "start_time": "2021-07-07T16:53:56.914Z"
   },
   {
    "duration": 36,
    "start_time": "2021-07-07T16:53:57.040Z"
   },
   {
    "duration": 34,
    "start_time": "2021-07-07T16:53:57.085Z"
   },
   {
    "duration": 33,
    "start_time": "2021-07-07T16:53:57.121Z"
   },
   {
    "duration": 1373,
    "start_time": "2021-07-07T16:53:57.155Z"
   },
   {
    "duration": 136,
    "start_time": "2021-07-07T16:54:01.406Z"
   },
   {
    "duration": 435,
    "start_time": "2021-07-07T16:54:21.237Z"
   },
   {
    "duration": 217,
    "start_time": "2021-07-07T16:54:31.245Z"
   },
   {
    "duration": 170,
    "start_time": "2021-07-07T16:55:05.381Z"
   },
   {
    "duration": 490,
    "start_time": "2021-07-07T16:55:16.726Z"
   },
   {
    "duration": 194,
    "start_time": "2021-07-07T16:55:22.125Z"
   },
   {
    "duration": 190,
    "start_time": "2021-07-07T16:55:39.966Z"
   },
   {
    "duration": 192,
    "start_time": "2021-07-07T16:55:51.846Z"
   },
   {
    "duration": 4,
    "start_time": "2021-07-07T17:02:37.937Z"
   },
   {
    "duration": 182,
    "start_time": "2021-07-07T17:02:39.815Z"
   },
   {
    "duration": 228,
    "start_time": "2021-07-07T17:03:22.600Z"
   },
   {
    "duration": 191,
    "start_time": "2021-07-07T17:05:41.615Z"
   },
   {
    "duration": 256,
    "start_time": "2021-07-07T17:05:53.296Z"
   },
   {
    "duration": 246,
    "start_time": "2021-07-07T17:06:13.247Z"
   },
   {
    "duration": 1086,
    "start_time": "2021-07-07T17:06:44.090Z"
   },
   {
    "duration": 366,
    "start_time": "2021-07-07T17:06:45.178Z"
   },
   {
    "duration": 22,
    "start_time": "2021-07-07T17:06:45.546Z"
   },
   {
    "duration": 25,
    "start_time": "2021-07-07T17:06:45.570Z"
   },
   {
    "duration": 18,
    "start_time": "2021-07-07T17:06:45.597Z"
   },
   {
    "duration": 130,
    "start_time": "2021-07-07T17:06:45.617Z"
   },
   {
    "duration": 54,
    "start_time": "2021-07-07T17:06:45.748Z"
   },
   {
    "duration": 38,
    "start_time": "2021-07-07T17:06:45.804Z"
   },
   {
    "duration": 55,
    "start_time": "2021-07-07T17:06:45.844Z"
   },
   {
    "duration": 1407,
    "start_time": "2021-07-07T17:06:45.901Z"
   },
   {
    "duration": 202,
    "start_time": "2021-07-07T17:06:47.310Z"
   },
   {
    "duration": 265,
    "start_time": "2021-07-07T17:06:47.514Z"
   },
   {
    "duration": 202,
    "start_time": "2021-07-07T17:06:47.784Z"
   },
   {
    "duration": 6,
    "start_time": "2021-07-07T17:06:47.989Z"
   },
   {
    "duration": 250,
    "start_time": "2021-07-07T17:06:47.997Z"
   },
   {
    "duration": 249,
    "start_time": "2021-07-07T17:06:48.249Z"
   },
   {
    "duration": 11,
    "start_time": "2021-07-07T17:07:31.298Z"
   },
   {
    "duration": 3,
    "start_time": "2021-07-07T17:09:11.933Z"
   },
   {
    "duration": 402,
    "start_time": "2021-07-07T17:09:11.938Z"
   },
   {
    "duration": 20,
    "start_time": "2021-07-07T17:09:12.342Z"
   },
   {
    "duration": 38,
    "start_time": "2021-07-07T17:09:12.363Z"
   },
   {
    "duration": 20,
    "start_time": "2021-07-07T17:09:12.404Z"
   },
   {
    "duration": 124,
    "start_time": "2021-07-07T17:09:12.425Z"
   },
   {
    "duration": 50,
    "start_time": "2021-07-07T17:09:12.551Z"
   },
   {
    "duration": 35,
    "start_time": "2021-07-07T17:09:12.603Z"
   },
   {
    "duration": 51,
    "start_time": "2021-07-07T17:09:12.640Z"
   },
   {
    "duration": 1527,
    "start_time": "2021-07-07T17:09:12.694Z"
   },
   {
    "duration": 221,
    "start_time": "2021-07-07T17:09:14.223Z"
   },
   {
    "duration": 221,
    "start_time": "2021-07-07T17:09:14.446Z"
   },
   {
    "duration": 220,
    "start_time": "2021-07-07T17:09:14.669Z"
   },
   {
    "duration": 353,
    "start_time": "2021-07-07T17:09:53.821Z"
   },
   {
    "duration": 12,
    "start_time": "2021-07-07T17:10:22.732Z"
   },
   {
    "duration": 240,
    "start_time": "2021-07-07T17:10:42.487Z"
   },
   {
    "duration": 255,
    "start_time": "2021-07-07T17:10:46.540Z"
   },
   {
    "duration": 238,
    "start_time": "2021-07-07T17:11:06.401Z"
   },
   {
    "duration": 9,
    "start_time": "2021-07-07T17:11:12.500Z"
   },
   {
    "duration": 263,
    "start_time": "2021-07-07T17:11:26.372Z"
   },
   {
    "duration": 11,
    "start_time": "2021-07-07T17:11:29.941Z"
   },
   {
    "duration": 185,
    "start_time": "2021-07-07T17:11:59.292Z"
   },
   {
    "duration": 248,
    "start_time": "2021-07-07T17:12:43.892Z"
   },
   {
    "duration": 321,
    "start_time": "2021-07-07T17:13:04.453Z"
   },
   {
    "duration": 221,
    "start_time": "2021-07-07T17:13:36.093Z"
   },
   {
    "duration": 222,
    "start_time": "2021-07-07T17:14:02.273Z"
   },
   {
    "duration": 226,
    "start_time": "2021-07-07T17:14:07.972Z"
   },
   {
    "duration": 221,
    "start_time": "2021-07-07T17:14:42.492Z"
   },
   {
    "duration": 307,
    "start_time": "2021-07-07T17:14:51.764Z"
   },
   {
    "duration": 204,
    "start_time": "2021-07-07T17:15:03.412Z"
   },
   {
    "duration": 217,
    "start_time": "2021-07-07T17:17:05.084Z"
   },
   {
    "duration": 1074,
    "start_time": "2021-07-07T17:17:35.932Z"
   },
   {
    "duration": 370,
    "start_time": "2021-07-07T17:17:37.008Z"
   },
   {
    "duration": 31,
    "start_time": "2021-07-07T17:17:37.380Z"
   },
   {
    "duration": 18,
    "start_time": "2021-07-07T17:17:37.413Z"
   },
   {
    "duration": 18,
    "start_time": "2021-07-07T17:17:37.433Z"
   },
   {
    "duration": 149,
    "start_time": "2021-07-07T17:17:37.452Z"
   },
   {
    "duration": 39,
    "start_time": "2021-07-07T17:17:37.603Z"
   },
   {
    "duration": 62,
    "start_time": "2021-07-07T17:17:37.644Z"
   },
   {
    "duration": 35,
    "start_time": "2021-07-07T17:17:37.709Z"
   },
   {
    "duration": 1441,
    "start_time": "2021-07-07T17:17:37.746Z"
   },
   {
    "duration": 230,
    "start_time": "2021-07-07T17:17:39.190Z"
   },
   {
    "duration": 273,
    "start_time": "2021-07-07T17:17:39.421Z"
   },
   {
    "duration": 218,
    "start_time": "2021-07-07T17:17:39.697Z"
   },
   {
    "duration": 232,
    "start_time": "2021-07-07T17:17:39.916Z"
   },
   {
    "duration": 229,
    "start_time": "2021-07-07T17:17:40.149Z"
   },
   {
    "duration": 5,
    "start_time": "2021-07-07T17:17:40.380Z"
   },
   {
    "duration": 18,
    "start_time": "2021-07-07T17:17:40.387Z"
   },
   {
    "duration": 253,
    "start_time": "2021-07-07T17:17:40.406Z"
   },
   {
    "duration": 234,
    "start_time": "2021-07-07T17:18:06.252Z"
   },
   {
    "duration": 201,
    "start_time": "2021-07-07T17:18:46.414Z"
   },
   {
    "duration": 1121,
    "start_time": "2021-07-07T17:19:06.977Z"
   },
   {
    "duration": 359,
    "start_time": "2021-07-07T17:19:08.100Z"
   },
   {
    "duration": 24,
    "start_time": "2021-07-07T17:19:08.461Z"
   },
   {
    "duration": 19,
    "start_time": "2021-07-07T17:19:08.487Z"
   },
   {
    "duration": 19,
    "start_time": "2021-07-07T17:19:08.508Z"
   },
   {
    "duration": 137,
    "start_time": "2021-07-07T17:19:08.529Z"
   },
   {
    "duration": 44,
    "start_time": "2021-07-07T17:19:08.667Z"
   },
   {
    "duration": 34,
    "start_time": "2021-07-07T17:19:08.713Z"
   },
   {
    "duration": 50,
    "start_time": "2021-07-07T17:19:08.749Z"
   },
   {
    "duration": 1406,
    "start_time": "2021-07-07T17:19:08.801Z"
   },
   {
    "duration": 213,
    "start_time": "2021-07-07T17:19:10.210Z"
   },
   {
    "duration": 261,
    "start_time": "2021-07-07T17:19:10.425Z"
   },
   {
    "duration": 202,
    "start_time": "2021-07-07T17:19:10.688Z"
   },
   {
    "duration": 216,
    "start_time": "2021-07-07T17:19:10.892Z"
   },
   {
    "duration": 219,
    "start_time": "2021-07-07T17:19:11.110Z"
   },
   {
    "duration": 4,
    "start_time": "2021-07-07T17:19:11.331Z"
   },
   {
    "duration": 14,
    "start_time": "2021-07-07T17:19:11.337Z"
   },
   {
    "duration": 240,
    "start_time": "2021-07-07T17:19:11.353Z"
   },
   {
    "duration": 214,
    "start_time": "2021-07-07T17:19:41.529Z"
   },
   {
    "duration": 213,
    "start_time": "2021-07-07T17:20:06.008Z"
   },
   {
    "duration": 218,
    "start_time": "2021-07-07T17:20:26.266Z"
   },
   {
    "duration": 227,
    "start_time": "2021-07-07T17:20:39.064Z"
   },
   {
    "duration": 206,
    "start_time": "2021-07-07T17:21:10.632Z"
   },
   {
    "duration": 205,
    "start_time": "2021-07-07T17:21:29.323Z"
   },
   {
    "duration": 212,
    "start_time": "2021-07-07T17:22:06.281Z"
   },
   {
    "duration": 323,
    "start_time": "2021-07-07T17:22:09.861Z"
   },
   {
    "duration": 194,
    "start_time": "2021-07-07T17:22:59.021Z"
   },
   {
    "duration": 58,
    "start_time": "2021-07-07T17:23:54.521Z"
   },
   {
    "duration": 218,
    "start_time": "2021-07-07T17:24:12.701Z"
   },
   {
    "duration": 206,
    "start_time": "2021-07-07T17:24:52.804Z"
   },
   {
    "duration": 216,
    "start_time": "2021-07-07T17:26:25.744Z"
   },
   {
    "duration": 1232,
    "start_time": "2021-07-07T17:27:29.914Z"
   },
   {
    "duration": 375,
    "start_time": "2021-07-07T17:27:31.148Z"
   },
   {
    "duration": 22,
    "start_time": "2021-07-07T17:27:31.525Z"
   },
   {
    "duration": 19,
    "start_time": "2021-07-07T17:27:31.549Z"
   },
   {
    "duration": 26,
    "start_time": "2021-07-07T17:27:31.570Z"
   },
   {
    "duration": 131,
    "start_time": "2021-07-07T17:27:31.598Z"
   },
   {
    "duration": 73,
    "start_time": "2021-07-07T17:27:31.730Z"
   },
   {
    "duration": 34,
    "start_time": "2021-07-07T17:27:31.805Z"
   },
   {
    "duration": 52,
    "start_time": "2021-07-07T17:27:31.841Z"
   },
   {
    "duration": 1492,
    "start_time": "2021-07-07T17:27:34.357Z"
   },
   {
    "duration": 224,
    "start_time": "2021-07-07T17:27:35.852Z"
   },
   {
    "duration": 296,
    "start_time": "2021-07-07T17:27:36.078Z"
   },
   {
    "duration": 234,
    "start_time": "2021-07-07T17:27:36.376Z"
   },
   {
    "duration": 224,
    "start_time": "2021-07-07T17:27:36.612Z"
   },
   {
    "duration": 239,
    "start_time": "2021-07-07T17:27:36.837Z"
   },
   {
    "duration": 223,
    "start_time": "2021-07-07T17:27:51.043Z"
   },
   {
    "duration": 3,
    "start_time": "2021-07-07T17:33:20.724Z"
   },
   {
    "duration": 369,
    "start_time": "2021-07-07T17:33:20.729Z"
   },
   {
    "duration": 20,
    "start_time": "2021-07-07T17:33:21.100Z"
   },
   {
    "duration": 19,
    "start_time": "2021-07-07T17:33:21.122Z"
   },
   {
    "duration": 19,
    "start_time": "2021-07-07T17:33:21.143Z"
   },
   {
    "duration": 107,
    "start_time": "2021-07-07T17:33:21.185Z"
   },
   {
    "duration": 35,
    "start_time": "2021-07-07T17:33:21.294Z"
   },
   {
    "duration": 33,
    "start_time": "2021-07-07T17:33:21.331Z"
   },
   {
    "duration": 51,
    "start_time": "2021-07-07T17:33:21.366Z"
   },
   {
    "duration": 213,
    "start_time": "2021-07-07T17:33:21.418Z"
   },
   {
    "duration": 197,
    "start_time": "2021-07-07T17:33:21.633Z"
   },
   {
    "duration": 210,
    "start_time": "2021-07-07T17:33:21.832Z"
   },
   {
    "duration": 218,
    "start_time": "2021-07-07T17:33:22.043Z"
   },
   {
    "duration": 224,
    "start_time": "2021-07-07T17:33:22.263Z"
   },
   {
    "duration": 207,
    "start_time": "2021-07-07T17:33:34.456Z"
   },
   {
    "duration": 1095,
    "start_time": "2021-07-07T17:33:59.409Z"
   },
   {
    "duration": 367,
    "start_time": "2021-07-07T17:34:00.506Z"
   },
   {
    "duration": 25,
    "start_time": "2021-07-07T17:34:00.875Z"
   },
   {
    "duration": 19,
    "start_time": "2021-07-07T17:34:00.901Z"
   },
   {
    "duration": 19,
    "start_time": "2021-07-07T17:34:00.922Z"
   },
   {
    "duration": 143,
    "start_time": "2021-07-07T17:34:00.943Z"
   },
   {
    "duration": 38,
    "start_time": "2021-07-07T17:34:01.089Z"
   },
   {
    "duration": 57,
    "start_time": "2021-07-07T17:34:01.130Z"
   },
   {
    "duration": 35,
    "start_time": "2021-07-07T17:34:01.189Z"
   },
   {
    "duration": 230,
    "start_time": "2021-07-07T17:34:01.226Z"
   },
   {
    "duration": 213,
    "start_time": "2021-07-07T17:34:01.458Z"
   },
   {
    "duration": 214,
    "start_time": "2021-07-07T17:34:01.673Z"
   },
   {
    "duration": 227,
    "start_time": "2021-07-07T17:34:01.889Z"
   },
   {
    "duration": 215,
    "start_time": "2021-07-07T17:34:07.395Z"
   },
   {
    "duration": 233,
    "start_time": "2021-07-07T17:34:25.489Z"
   },
   {
    "duration": 215,
    "start_time": "2021-07-07T17:34:42.529Z"
   },
   {
    "duration": 299,
    "start_time": "2021-07-07T17:35:04.235Z"
   },
   {
    "duration": 206,
    "start_time": "2021-07-07T17:35:17.497Z"
   },
   {
    "duration": 1068,
    "start_time": "2021-07-07T17:35:39.919Z"
   },
   {
    "duration": 356,
    "start_time": "2021-07-07T17:35:40.989Z"
   },
   {
    "duration": 21,
    "start_time": "2021-07-07T17:35:41.347Z"
   },
   {
    "duration": 29,
    "start_time": "2021-07-07T17:35:41.370Z"
   },
   {
    "duration": 20,
    "start_time": "2021-07-07T17:35:41.400Z"
   },
   {
    "duration": 122,
    "start_time": "2021-07-07T17:35:41.421Z"
   },
   {
    "duration": 44,
    "start_time": "2021-07-07T17:35:41.545Z"
   },
   {
    "duration": 34,
    "start_time": "2021-07-07T17:35:41.591Z"
   },
   {
    "duration": 34,
    "start_time": "2021-07-07T17:35:41.628Z"
   },
   {
    "duration": 230,
    "start_time": "2021-07-07T17:35:41.664Z"
   },
   {
    "duration": 196,
    "start_time": "2021-07-07T17:35:41.896Z"
   },
   {
    "duration": 217,
    "start_time": "2021-07-07T17:35:42.094Z"
   },
   {
    "duration": 224,
    "start_time": "2021-07-07T17:35:42.313Z"
   },
   {
    "duration": 229,
    "start_time": "2021-07-07T17:35:42.539Z"
   },
   {
    "duration": 228,
    "start_time": "2021-07-07T17:35:52.310Z"
   },
   {
    "duration": 222,
    "start_time": "2021-07-07T17:36:29.372Z"
   },
   {
    "duration": 1054,
    "start_time": "2021-07-07T17:37:05.942Z"
   },
   {
    "duration": 361,
    "start_time": "2021-07-07T17:37:06.998Z"
   },
   {
    "duration": 26,
    "start_time": "2021-07-07T17:37:07.360Z"
   },
   {
    "duration": 18,
    "start_time": "2021-07-07T17:37:07.388Z"
   },
   {
    "duration": 20,
    "start_time": "2021-07-07T17:37:07.407Z"
   },
   {
    "duration": 131,
    "start_time": "2021-07-07T17:37:07.428Z"
   },
   {
    "duration": 48,
    "start_time": "2021-07-07T17:37:07.561Z"
   },
   {
    "duration": 38,
    "start_time": "2021-07-07T17:37:07.612Z"
   },
   {
    "duration": 50,
    "start_time": "2021-07-07T17:37:07.652Z"
   },
   {
    "duration": 210,
    "start_time": "2021-07-07T17:37:07.704Z"
   },
   {
    "duration": 209,
    "start_time": "2021-07-07T17:37:07.916Z"
   },
   {
    "duration": 236,
    "start_time": "2021-07-07T17:37:08.127Z"
   },
   {
    "duration": 226,
    "start_time": "2021-07-07T17:37:08.364Z"
   },
   {
    "duration": 229,
    "start_time": "2021-07-07T17:37:08.592Z"
   },
   {
    "duration": 230,
    "start_time": "2021-07-07T17:37:08.823Z"
   },
   {
    "duration": 14,
    "start_time": "2021-07-07T17:43:29.413Z"
   },
   {
    "duration": 31,
    "start_time": "2021-07-07T17:44:06.946Z"
   },
   {
    "duration": 261,
    "start_time": "2021-07-07T17:49:55.330Z"
   },
   {
    "duration": 5,
    "start_time": "2021-07-07T17:50:10.969Z"
   },
   {
    "duration": 168,
    "start_time": "2021-07-07T17:51:46.123Z"
   },
   {
    "duration": 172,
    "start_time": "2021-07-07T17:52:06.004Z"
   },
   {
    "duration": 174,
    "start_time": "2021-07-07T17:52:08.962Z"
   },
   {
    "duration": 429,
    "start_time": "2021-07-07T17:52:52.562Z"
   },
   {
    "duration": 4,
    "start_time": "2021-07-07T17:53:07.031Z"
   },
   {
    "duration": 175,
    "start_time": "2021-07-07T17:54:20.537Z"
   },
   {
    "duration": 6,
    "start_time": "2021-07-07T17:54:27.337Z"
   },
   {
    "duration": 409,
    "start_time": "2021-07-07T17:54:30.579Z"
   },
   {
    "duration": 5,
    "start_time": "2021-07-07T17:54:32.576Z"
   },
   {
    "duration": 29,
    "start_time": "2021-07-07T17:55:09.697Z"
   },
   {
    "duration": 4,
    "start_time": "2021-07-07T17:55:47.298Z"
   },
   {
    "duration": 359,
    "start_time": "2021-07-07T17:55:47.304Z"
   },
   {
    "duration": 28,
    "start_time": "2021-07-07T17:55:47.666Z"
   },
   {
    "duration": 17,
    "start_time": "2021-07-07T17:55:47.696Z"
   },
   {
    "duration": 17,
    "start_time": "2021-07-07T17:55:47.714Z"
   },
   {
    "duration": 116,
    "start_time": "2021-07-07T17:55:47.732Z"
   },
   {
    "duration": 44,
    "start_time": "2021-07-07T17:55:47.849Z"
   },
   {
    "duration": 33,
    "start_time": "2021-07-07T17:55:47.896Z"
   },
   {
    "duration": 33,
    "start_time": "2021-07-07T17:55:47.931Z"
   },
   {
    "duration": 228,
    "start_time": "2021-07-07T17:55:47.965Z"
   },
   {
    "duration": 286,
    "start_time": "2021-07-07T17:55:48.194Z"
   },
   {
    "duration": 219,
    "start_time": "2021-07-07T17:55:48.484Z"
   },
   {
    "duration": 228,
    "start_time": "2021-07-07T17:55:48.705Z"
   },
   {
    "duration": 231,
    "start_time": "2021-07-07T17:55:48.935Z"
   },
   {
    "duration": 238,
    "start_time": "2021-07-07T17:55:49.169Z"
   },
   {
    "duration": 36,
    "start_time": "2021-07-07T17:55:53.416Z"
   },
   {
    "duration": 6,
    "start_time": "2021-07-07T17:58:20.838Z"
   },
   {
    "duration": 419,
    "start_time": "2021-07-07T17:58:55.368Z"
   },
   {
    "duration": 4,
    "start_time": "2021-07-07T17:58:57.778Z"
   },
   {
    "duration": 204,
    "start_time": "2021-07-07T18:01:45.853Z"
   },
   {
    "duration": 13,
    "start_time": "2021-07-07T18:03:14.939Z"
   },
   {
    "duration": 13,
    "start_time": "2021-07-07T18:03:48.967Z"
   },
   {
    "duration": 55,
    "start_time": "2021-07-07T18:05:30.648Z"
   },
   {
    "duration": 60,
    "start_time": "2021-07-07T18:05:40.135Z"
   },
   {
    "duration": 61,
    "start_time": "2021-07-07T18:06:27.924Z"
   },
   {
    "duration": 59,
    "start_time": "2021-07-07T18:06:40.694Z"
   },
   {
    "duration": 14,
    "start_time": "2021-07-07T18:06:45.574Z"
   },
   {
    "duration": 16,
    "start_time": "2021-07-07T18:07:44.935Z"
   },
   {
    "duration": 58,
    "start_time": "2021-07-07T18:07:50.696Z"
   },
   {
    "duration": 16,
    "start_time": "2021-07-07T18:08:02.216Z"
   },
   {
    "duration": 6,
    "start_time": "2021-07-07T18:08:14.854Z"
   },
   {
    "duration": 64,
    "start_time": "2021-07-07T18:08:33.553Z"
   },
   {
    "duration": 61,
    "start_time": "2021-07-07T18:08:39.993Z"
   },
   {
    "duration": 193,
    "start_time": "2021-07-07T18:08:46.391Z"
   },
   {
    "duration": 4,
    "start_time": "2021-07-07T18:08:54.671Z"
   },
   {
    "duration": 5,
    "start_time": "2021-07-07T18:09:50.632Z"
   },
   {
    "duration": 104,
    "start_time": "2021-07-07T18:10:07.351Z"
   },
   {
    "duration": 60,
    "start_time": "2021-07-07T18:10:13.729Z"
   },
   {
    "duration": 4,
    "start_time": "2021-07-07T22:18:51.490Z"
   },
   {
    "duration": 355,
    "start_time": "2021-07-07T22:18:51.496Z"
   },
   {
    "duration": 19,
    "start_time": "2021-07-07T22:18:51.853Z"
   },
   {
    "duration": 19,
    "start_time": "2021-07-07T22:18:51.885Z"
   },
   {
    "duration": 19,
    "start_time": "2021-07-07T22:18:51.905Z"
   },
   {
    "duration": 123,
    "start_time": "2021-07-07T22:18:51.925Z"
   },
   {
    "duration": 46,
    "start_time": "2021-07-07T22:18:52.050Z"
   },
   {
    "duration": 34,
    "start_time": "2021-07-07T22:18:52.098Z"
   },
   {
    "duration": 32,
    "start_time": "2021-07-07T22:18:52.135Z"
   },
   {
    "duration": 203,
    "start_time": "2021-07-07T22:18:52.185Z"
   },
   {
    "duration": 202,
    "start_time": "2021-07-07T22:18:52.390Z"
   },
   {
    "duration": 208,
    "start_time": "2021-07-07T22:18:52.593Z"
   },
   {
    "duration": 225,
    "start_time": "2021-07-07T22:18:52.803Z"
   },
   {
    "duration": 238,
    "start_time": "2021-07-07T22:18:53.029Z"
   },
   {
    "duration": 241,
    "start_time": "2021-07-07T22:18:53.269Z"
   },
   {
    "duration": 30,
    "start_time": "2021-07-07T22:18:53.512Z"
   },
   {
    "duration": 7,
    "start_time": "2021-07-07T22:18:53.543Z"
   },
   {
    "duration": 352,
    "start_time": "2021-07-07T22:18:53.551Z"
   },
   {
    "duration": 92,
    "start_time": "2021-07-07T22:18:53.905Z"
   },
   {
    "duration": 100,
    "start_time": "2021-07-07T22:18:53.999Z"
   },
   {
    "duration": 6,
    "start_time": "2021-07-07T22:18:58.010Z"
   },
   {
    "duration": 6,
    "start_time": "2021-07-07T22:19:25.305Z"
   },
   {
    "duration": 6,
    "start_time": "2021-07-07T22:19:45.452Z"
   },
   {
    "duration": 6,
    "start_time": "2021-07-07T22:20:03.064Z"
   },
   {
    "duration": 6,
    "start_time": "2021-07-07T22:20:11.690Z"
   },
   {
    "duration": 6,
    "start_time": "2021-07-07T22:20:20.377Z"
   },
   {
    "duration": 6,
    "start_time": "2021-07-07T22:20:44.140Z"
   },
   {
    "duration": 6,
    "start_time": "2021-07-07T22:20:54.370Z"
   },
   {
    "duration": 4,
    "start_time": "2021-07-07T22:59:29.006Z"
   },
   {
    "duration": 4,
    "start_time": "2021-07-07T23:03:05.526Z"
   },
   {
    "duration": 5,
    "start_time": "2021-07-07T23:04:23.924Z"
   },
   {
    "duration": 169,
    "start_time": "2021-07-07T23:04:49.159Z"
   },
   {
    "duration": 184,
    "start_time": "2021-07-07T23:05:20.645Z"
   },
   {
    "duration": 13,
    "start_time": "2021-07-07T23:07:04.646Z"
   },
   {
    "duration": 5,
    "start_time": "2021-07-07T23:13:44.484Z"
   },
   {
    "duration": 4,
    "start_time": "2021-07-07T23:13:52.326Z"
   },
   {
    "duration": 4,
    "start_time": "2021-07-07T23:17:22.888Z"
   },
   {
    "duration": 18,
    "start_time": "2021-07-07T23:18:02.287Z"
   },
   {
    "duration": 18,
    "start_time": "2021-07-07T23:18:18.247Z"
   },
   {
    "duration": 5,
    "start_time": "2021-07-07T23:32:31.526Z"
   },
   {
    "duration": 73,
    "start_time": "2021-07-07T23:33:29.686Z"
   },
   {
    "duration": 677,
    "start_time": "2021-07-07T23:33:39.925Z"
   },
   {
    "duration": 4,
    "start_time": "2021-07-07T23:34:10.205Z"
   },
   {
    "duration": 5407,
    "start_time": "2021-07-07T23:34:12.724Z"
   },
   {
    "duration": 5290,
    "start_time": "2021-07-07T23:34:36.567Z"
   },
   {
    "duration": 5347,
    "start_time": "2021-07-07T23:34:55.454Z"
   },
   {
    "duration": 5574,
    "start_time": "2021-07-07T23:35:27.245Z"
   },
   {
    "duration": 570,
    "start_time": "2021-07-07T23:37:14.566Z"
   },
   {
    "duration": 5447,
    "start_time": "2021-07-07T23:37:21.206Z"
   },
   {
    "duration": 5356,
    "start_time": "2021-07-07T23:37:37.209Z"
   },
   {
    "duration": 5,
    "start_time": "2021-07-07T23:40:22.413Z"
   },
   {
    "duration": 5442,
    "start_time": "2021-07-07T23:40:25.086Z"
   },
   {
    "duration": 292,
    "start_time": "2021-07-07T23:43:39.732Z"
   },
   {
    "duration": 65,
    "start_time": "2021-07-07T23:43:57.158Z"
   },
   {
    "duration": 179,
    "start_time": "2021-07-07T23:44:00.404Z"
   },
   {
    "duration": 5399,
    "start_time": "2021-07-07T23:44:10.890Z"
   },
   {
    "duration": 5299,
    "start_time": "2021-07-07T23:44:48.179Z"
   },
   {
    "duration": 5405,
    "start_time": "2021-07-07T23:45:07.592Z"
   },
   {
    "duration": 5,
    "start_time": "2021-07-07T23:46:44.110Z"
   },
   {
    "duration": 5279,
    "start_time": "2021-07-07T23:46:47.015Z"
   },
   {
    "duration": 17,
    "start_time": "2021-07-07T23:59:58.217Z"
   },
   {
    "duration": 5317,
    "start_time": "2021-07-08T00:02:06.394Z"
   },
   {
    "duration": 4,
    "start_time": "2021-07-08T00:04:05.807Z"
   },
   {
    "duration": 5261,
    "start_time": "2021-07-08T00:04:09.403Z"
   },
   {
    "duration": 195,
    "start_time": "2021-07-08T00:11:52.251Z"
   },
   {
    "duration": 4,
    "start_time": "2021-07-08T00:13:16.327Z"
   },
   {
    "duration": 5,
    "start_time": "2021-07-08T00:14:12.648Z"
   },
   {
    "duration": 63,
    "start_time": "2021-07-08T00:14:23.767Z"
   },
   {
    "duration": 4,
    "start_time": "2021-07-08T00:14:26.775Z"
   },
   {
    "duration": 4,
    "start_time": "2021-07-08T00:15:17.609Z"
   },
   {
    "duration": 5,
    "start_time": "2021-07-08T00:15:31.168Z"
   },
   {
    "duration": 4,
    "start_time": "2021-07-08T00:16:26.488Z"
   },
   {
    "duration": 1071,
    "start_time": "2021-07-08T00:18:14.132Z"
   },
   {
    "duration": 379,
    "start_time": "2021-07-08T00:18:15.205Z"
   },
   {
    "duration": 23,
    "start_time": "2021-07-08T00:18:15.586Z"
   },
   {
    "duration": 19,
    "start_time": "2021-07-08T00:18:15.611Z"
   },
   {
    "duration": 21,
    "start_time": "2021-07-08T00:18:15.632Z"
   },
   {
    "duration": 144,
    "start_time": "2021-07-08T00:18:15.655Z"
   },
   {
    "duration": 40,
    "start_time": "2021-07-08T00:18:15.800Z"
   },
   {
    "duration": 53,
    "start_time": "2021-07-08T00:18:15.843Z"
   },
   {
    "duration": 32,
    "start_time": "2021-07-08T00:18:15.898Z"
   },
   {
    "duration": 212,
    "start_time": "2021-07-08T00:18:15.932Z"
   },
   {
    "duration": 210,
    "start_time": "2021-07-08T00:18:16.146Z"
   },
   {
    "duration": 212,
    "start_time": "2021-07-08T00:18:16.357Z"
   },
   {
    "duration": 220,
    "start_time": "2021-07-08T00:18:16.570Z"
   },
   {
    "duration": 227,
    "start_time": "2021-07-08T00:18:16.792Z"
   },
   {
    "duration": 230,
    "start_time": "2021-07-08T00:18:17.021Z"
   },
   {
    "duration": 38,
    "start_time": "2021-07-08T00:18:17.253Z"
   },
   {
    "duration": 6,
    "start_time": "2021-07-08T00:18:17.293Z"
   },
   {
    "duration": 299,
    "start_time": "2021-07-08T00:18:17.300Z"
   },
   {
    "duration": 86,
    "start_time": "2021-07-08T00:18:17.602Z"
   },
   {
    "duration": 109,
    "start_time": "2021-07-08T00:18:17.690Z"
   },
   {
    "duration": 183,
    "start_time": "2021-07-08T00:18:17.801Z"
   },
   {
    "duration": 4,
    "start_time": "2021-07-08T00:18:17.987Z"
   },
   {
    "duration": 101,
    "start_time": "2021-07-08T00:18:17.994Z"
   },
   {
    "duration": 3,
    "start_time": "2021-07-08T00:18:18.097Z"
   },
   {
    "duration": 20,
    "start_time": "2021-07-08T00:18:18.101Z"
   },
   {
    "duration": 4,
    "start_time": "2021-07-08T00:18:18.122Z"
   },
   {
    "duration": 511,
    "start_time": "2021-07-08T00:18:18.128Z"
   },
   {
    "duration": 4,
    "start_time": "2021-07-08T00:19:05.765Z"
   },
   {
    "duration": 4,
    "start_time": "2021-07-08T00:19:15.325Z"
   },
   {
    "duration": 4,
    "start_time": "2021-07-08T00:19:22.926Z"
   },
   {
    "duration": 6,
    "start_time": "2021-07-08T00:20:40.405Z"
   },
   {
    "duration": 64,
    "start_time": "2021-07-08T00:21:40.007Z"
   },
   {
    "duration": 4,
    "start_time": "2021-07-08T00:21:47.005Z"
   },
   {
    "duration": 4,
    "start_time": "2021-07-08T00:21:55.836Z"
   },
   {
    "duration": 4,
    "start_time": "2021-07-08T00:22:09.366Z"
   },
   {
    "duration": 4,
    "start_time": "2021-07-08T00:22:15.077Z"
   },
   {
    "duration": 422,
    "start_time": "2021-07-08T00:22:28.988Z"
   },
   {
    "duration": 5,
    "start_time": "2021-07-08T00:23:06.515Z"
   },
   {
    "duration": 18,
    "start_time": "2021-07-08T00:23:07.205Z"
   },
   {
    "duration": 4,
    "start_time": "2021-07-08T00:23:08.622Z"
   },
   {
    "duration": 5,
    "start_time": "2021-07-08T00:23:45.634Z"
   },
   {
    "duration": 5330,
    "start_time": "2021-07-08T00:23:48.917Z"
   },
   {
    "duration": 319,
    "start_time": "2021-07-08T22:19:56.768Z"
   },
   {
    "duration": 1459,
    "start_time": "2021-07-08T22:20:05.888Z"
   },
   {
    "duration": 476,
    "start_time": "2021-07-08T22:20:07.350Z"
   },
   {
    "duration": 34,
    "start_time": "2021-07-08T22:20:07.829Z"
   },
   {
    "duration": 52,
    "start_time": "2021-07-08T22:20:07.865Z"
   },
   {
    "duration": 27,
    "start_time": "2021-07-08T22:20:07.920Z"
   },
   {
    "duration": 211,
    "start_time": "2021-07-08T22:20:07.949Z"
   },
   {
    "duration": 64,
    "start_time": "2021-07-08T22:20:08.162Z"
   },
   {
    "duration": 49,
    "start_time": "2021-07-08T22:20:08.229Z"
   },
   {
    "duration": 64,
    "start_time": "2021-07-08T22:20:08.281Z"
   },
   {
    "duration": 480,
    "start_time": "2021-07-08T22:20:12.854Z"
   },
   {
    "duration": 485,
    "start_time": "2021-07-08T22:20:22.608Z"
   },
   {
    "duration": 486,
    "start_time": "2021-07-08T22:20:28.927Z"
   },
   {
    "duration": 434,
    "start_time": "2021-07-08T22:22:50.292Z"
   },
   {
    "duration": 442,
    "start_time": "2021-07-08T22:23:14.924Z"
   },
   {
    "duration": 443,
    "start_time": "2021-07-08T22:23:21.996Z"
   },
   {
    "duration": 343,
    "start_time": "2021-07-08T22:23:35.076Z"
   },
   {
    "duration": 394,
    "start_time": "2021-07-08T22:23:38.916Z"
   },
   {
    "duration": 331,
    "start_time": "2021-07-08T22:23:42.599Z"
   },
   {
    "duration": 478,
    "start_time": "2021-07-08T22:24:16.476Z"
   },
   {
    "duration": 464,
    "start_time": "2021-07-08T22:24:23.396Z"
   },
   {
    "duration": 636,
    "start_time": "2021-07-08T22:24:31.325Z"
   },
   {
    "duration": 41,
    "start_time": "2021-07-08T22:24:38.836Z"
   },
   {
    "duration": 8,
    "start_time": "2021-07-08T22:24:43.796Z"
   },
   {
    "duration": 440,
    "start_time": "2021-07-08T22:30:52.071Z"
   },
   {
    "duration": 6,
    "start_time": "2021-07-08T22:30:55.268Z"
   },
   {
    "duration": 58,
    "start_time": "2021-07-08T22:31:00.552Z"
   },
   {
    "duration": 8,
    "start_time": "2021-07-08T22:31:02.834Z"
   },
   {
    "duration": 5,
    "start_time": "2021-07-08T22:32:29.354Z"
   },
   {
    "duration": 1374,
    "start_time": "2021-07-08T22:35:50.239Z"
   },
   {
    "duration": 443,
    "start_time": "2021-07-08T22:35:51.616Z"
   },
   {
    "duration": 38,
    "start_time": "2021-07-08T22:35:52.062Z"
   },
   {
    "duration": 26,
    "start_time": "2021-07-08T22:35:52.103Z"
   },
   {
    "duration": 28,
    "start_time": "2021-07-08T22:35:52.131Z"
   },
   {
    "duration": 221,
    "start_time": "2021-07-08T22:35:52.161Z"
   },
   {
    "duration": 58,
    "start_time": "2021-07-08T22:35:52.384Z"
   },
   {
    "duration": 64,
    "start_time": "2021-07-08T22:35:52.445Z"
   },
   {
    "duration": 47,
    "start_time": "2021-07-08T22:35:52.513Z"
   },
   {
    "duration": 525,
    "start_time": "2021-07-08T22:35:52.563Z"
   },
   {
    "duration": 477,
    "start_time": "2021-07-08T22:35:53.091Z"
   },
   {
    "duration": 453,
    "start_time": "2021-07-08T22:35:53.570Z"
   },
   {
    "duration": 509,
    "start_time": "2021-07-08T22:35:54.026Z"
   },
   {
    "duration": 493,
    "start_time": "2021-07-08T22:35:54.538Z"
   },
   {
    "duration": 508,
    "start_time": "2021-07-08T22:35:55.034Z"
   },
   {
    "duration": 58,
    "start_time": "2021-07-08T22:35:55.545Z"
   },
   {
    "duration": 8,
    "start_time": "2021-07-08T22:35:55.605Z"
   },
   {
    "duration": 396,
    "start_time": "2021-07-08T22:35:55.616Z"
   },
   {
    "duration": 185,
    "start_time": "2021-07-08T22:35:56.016Z"
   },
   {
    "duration": 99,
    "start_time": "2021-07-08T22:35:56.204Z"
   },
   {
    "duration": 6,
    "start_time": "2021-07-08T22:35:56.305Z"
   },
   {
    "duration": 167,
    "start_time": "2021-07-08T22:35:56.314Z"
   },
   {
    "duration": 16,
    "start_time": "2021-07-08T22:35:56.484Z"
   },
   {
    "duration": 26,
    "start_time": "2021-07-08T22:35:56.503Z"
   },
   {
    "duration": 6,
    "start_time": "2021-07-08T22:35:56.531Z"
   },
   {
    "duration": 9615,
    "start_time": "2021-07-08T22:35:56.539Z"
   },
   {
    "duration": 1519,
    "start_time": "2021-07-09T21:20:52.018Z"
   },
   {
    "duration": 1279,
    "start_time": "2021-07-09T21:20:53.539Z"
   },
   {
    "duration": 34,
    "start_time": "2021-07-09T21:20:54.822Z"
   },
   {
    "duration": 28,
    "start_time": "2021-07-09T21:20:54.859Z"
   },
   {
    "duration": 28,
    "start_time": "2021-07-09T21:20:54.910Z"
   },
   {
    "duration": 218,
    "start_time": "2021-07-09T21:20:54.941Z"
   },
   {
    "duration": 58,
    "start_time": "2021-07-09T21:20:55.162Z"
   },
   {
    "duration": 49,
    "start_time": "2021-07-09T21:20:55.224Z"
   },
   {
    "duration": 72,
    "start_time": "2021-07-09T21:20:55.275Z"
   },
   {
    "duration": 490,
    "start_time": "2021-07-09T21:20:55.349Z"
   },
   {
    "duration": 486,
    "start_time": "2021-07-09T21:20:55.841Z"
   },
   {
    "duration": 490,
    "start_time": "2021-07-09T21:20:56.329Z"
   },
   {
    "duration": 530,
    "start_time": "2021-07-09T21:20:56.822Z"
   },
   {
    "duration": 654,
    "start_time": "2021-07-09T21:20:57.355Z"
   },
   {
    "duration": 539,
    "start_time": "2021-07-09T21:20:58.012Z"
   },
   {
    "duration": 58,
    "start_time": "2021-07-09T21:20:58.554Z"
   },
   {
    "duration": 406,
    "start_time": "2021-07-09T21:20:58.615Z"
   },
   {
    "duration": 189,
    "start_time": "2021-07-09T21:20:59.024Z"
   },
   {
    "duration": 95,
    "start_time": "2021-07-09T21:20:59.217Z"
   },
   {
    "duration": 8,
    "start_time": "2021-07-09T21:20:59.314Z"
   },
   {
    "duration": 159,
    "start_time": "2021-07-09T21:20:59.324Z"
   },
   {
    "duration": 5,
    "start_time": "2021-07-09T21:20:59.485Z"
   },
   {
    "duration": 40,
    "start_time": "2021-07-09T21:20:59.493Z"
   },
   {
    "duration": 6,
    "start_time": "2021-07-09T21:20:59.535Z"
   },
   {
    "duration": 10250,
    "start_time": "2021-07-09T21:20:59.544Z"
   },
   {
    "duration": 10,
    "start_time": "2021-07-09T21:21:29.562Z"
   },
   {
    "duration": 834,
    "start_time": "2021-07-09T21:21:33.494Z"
   },
   {
    "duration": 10,
    "start_time": "2021-07-09T21:22:13.696Z"
   },
   {
    "duration": 33,
    "start_time": "2021-07-09T21:22:17.675Z"
   },
   {
    "duration": 33,
    "start_time": "2021-07-09T21:22:22.703Z"
   },
   {
    "duration": 7,
    "start_time": "2021-07-09T21:22:47.114Z"
   },
   {
    "duration": 9743,
    "start_time": "2021-07-09T21:22:50.392Z"
   },
   {
    "duration": 1961,
    "start_time": "2021-07-09T21:24:09.700Z"
   },
   {
    "duration": 492,
    "start_time": "2021-07-09T21:24:11.678Z"
   },
   {
    "duration": 37,
    "start_time": "2021-07-09T21:24:12.173Z"
   },
   {
    "duration": 30,
    "start_time": "2021-07-09T21:24:12.213Z"
   },
   {
    "duration": 65,
    "start_time": "2021-07-09T21:24:12.245Z"
   },
   {
    "duration": 219,
    "start_time": "2021-07-09T21:24:12.313Z"
   },
   {
    "duration": 52,
    "start_time": "2021-07-09T21:24:12.534Z"
   },
   {
    "duration": 51,
    "start_time": "2021-07-09T21:24:12.610Z"
   },
   {
    "duration": 73,
    "start_time": "2021-07-09T21:24:12.664Z"
   },
   {
    "duration": 492,
    "start_time": "2021-07-09T21:24:12.740Z"
   },
   {
    "duration": 484,
    "start_time": "2021-07-09T21:24:13.235Z"
   },
   {
    "duration": 493,
    "start_time": "2021-07-09T21:24:13.723Z"
   },
   {
    "duration": 527,
    "start_time": "2021-07-09T21:24:14.219Z"
   },
   {
    "duration": 536,
    "start_time": "2021-07-09T21:24:14.749Z"
   },
   {
    "duration": 554,
    "start_time": "2021-07-09T21:24:15.287Z"
   },
   {
    "duration": 43,
    "start_time": "2021-07-09T21:24:15.844Z"
   },
   {
    "duration": 411,
    "start_time": "2021-07-09T21:24:15.909Z"
   },
   {
    "duration": 384,
    "start_time": "2021-07-09T21:24:16.325Z"
   },
   {
    "duration": 9,
    "start_time": "2021-07-09T21:24:16.711Z"
   },
   {
    "duration": 10,
    "start_time": "2021-07-09T21:24:16.723Z"
   },
   {
    "duration": 164,
    "start_time": "2021-07-09T21:24:16.736Z"
   },
   {
    "duration": 9,
    "start_time": "2021-07-09T21:24:16.902Z"
   },
   {
    "duration": 32,
    "start_time": "2021-07-09T21:24:16.915Z"
   },
   {
    "duration": 6,
    "start_time": "2021-07-09T21:24:16.949Z"
   },
   {
    "duration": 68,
    "start_time": "2021-07-09T21:24:16.957Z"
   },
   {
    "duration": 471,
    "start_time": "2021-07-09T21:28:38.247Z"
   },
   {
    "duration": 8,
    "start_time": "2021-07-09T21:29:36.065Z"
   },
   {
    "duration": 8,
    "start_time": "2021-07-09T21:33:49.345Z"
   },
   {
    "duration": 9114,
    "start_time": "2021-07-09T21:33:51.899Z"
   },
   {
    "duration": 7,
    "start_time": "2021-07-09T21:37:26.260Z"
   },
   {
    "duration": 5054,
    "start_time": "2021-07-09T21:37:29.696Z"
   },
   {
    "duration": 6,
    "start_time": "2021-07-09T21:38:54.979Z"
   },
   {
    "duration": 720,
    "start_time": "2021-07-09T21:38:57.257Z"
   },
   {
    "duration": 663,
    "start_time": "2021-07-09T21:46:45.752Z"
   },
   {
    "duration": 8,
    "start_time": "2021-07-09T21:46:52.191Z"
   },
   {
    "duration": 9175,
    "start_time": "2021-07-09T21:46:54.965Z"
   },
   {
    "duration": 348,
    "start_time": "2021-07-09T21:53:27.738Z"
   },
   {
    "duration": 6,
    "start_time": "2021-07-09T21:56:23.016Z"
   },
   {
    "duration": 695,
    "start_time": "2021-07-09T21:56:24.237Z"
   },
   {
    "duration": 6,
    "start_time": "2021-07-09T22:03:59.056Z"
   },
   {
    "duration": 9653,
    "start_time": "2021-07-09T22:04:02.613Z"
   },
   {
    "duration": 1513,
    "start_time": "2021-07-10T10:15:55.068Z"
   },
   {
    "duration": 1183,
    "start_time": "2021-07-10T10:15:56.584Z"
   },
   {
    "duration": 35,
    "start_time": "2021-07-10T10:15:57.771Z"
   },
   {
    "duration": 52,
    "start_time": "2021-07-10T10:15:57.810Z"
   },
   {
    "duration": 30,
    "start_time": "2021-07-10T10:15:57.864Z"
   },
   {
    "duration": 224,
    "start_time": "2021-07-10T10:15:57.897Z"
   },
   {
    "duration": 60,
    "start_time": "2021-07-10T10:15:58.124Z"
   },
   {
    "duration": 48,
    "start_time": "2021-07-10T10:15:58.187Z"
   },
   {
    "duration": 67,
    "start_time": "2021-07-10T10:15:58.239Z"
   },
   {
    "duration": 500,
    "start_time": "2021-07-10T10:15:58.309Z"
   },
   {
    "duration": 482,
    "start_time": "2021-07-10T10:15:58.811Z"
   },
   {
    "duration": 608,
    "start_time": "2021-07-10T10:15:59.295Z"
   },
   {
    "duration": 534,
    "start_time": "2021-07-10T10:15:59.906Z"
   },
   {
    "duration": 538,
    "start_time": "2021-07-10T10:16:00.442Z"
   },
   {
    "duration": 536,
    "start_time": "2021-07-10T10:16:00.983Z"
   },
   {
    "duration": 47,
    "start_time": "2021-07-10T10:16:01.522Z"
   },
   {
    "duration": 383,
    "start_time": "2021-07-10T10:16:01.571Z"
   },
   {
    "duration": 202,
    "start_time": "2021-07-10T10:16:01.957Z"
   },
   {
    "duration": 8,
    "start_time": "2021-07-10T10:16:02.161Z"
   },
   {
    "duration": 98,
    "start_time": "2021-07-10T10:16:02.172Z"
   },
   {
    "duration": 149,
    "start_time": "2021-07-10T10:16:02.272Z"
   },
   {
    "duration": 5,
    "start_time": "2021-07-10T10:16:02.424Z"
   },
   {
    "duration": 44,
    "start_time": "2021-07-10T10:16:02.431Z"
   },
   {
    "duration": 7,
    "start_time": "2021-07-10T10:16:02.477Z"
   },
   {
    "duration": 9082,
    "start_time": "2021-07-10T10:16:02.486Z"
   },
   {
    "duration": 6,
    "start_time": "2021-07-10T10:18:03.996Z"
   },
   {
    "duration": 9162,
    "start_time": "2021-07-10T10:18:06.486Z"
   },
   {
    "duration": 7,
    "start_time": "2021-07-10T10:19:06.973Z"
   },
   {
    "duration": 9114,
    "start_time": "2021-07-10T10:19:09.714Z"
   },
   {
    "duration": 7,
    "start_time": "2021-07-10T10:20:02.529Z"
   },
   {
    "duration": 9591,
    "start_time": "2021-07-10T10:20:06.041Z"
   },
   {
    "duration": 6154,
    "start_time": "2021-07-10T10:21:53.949Z"
   },
   {
    "duration": 428,
    "start_time": "2021-07-10T10:22:25.810Z"
   },
   {
    "duration": 592,
    "start_time": "2021-07-10T10:22:57.109Z"
   },
   {
    "duration": 7590,
    "start_time": "2021-07-10T10:24:00.576Z"
   },
   {
    "duration": 8028,
    "start_time": "2021-07-10T10:24:39.245Z"
   },
   {
    "duration": 7614,
    "start_time": "2021-07-10T10:25:03.397Z"
   },
   {
    "duration": 7884,
    "start_time": "2021-07-10T10:26:33.502Z"
   },
   {
    "duration": 4,
    "start_time": "2021-07-10T10:29:25.718Z"
   },
   {
    "duration": 7,
    "start_time": "2021-07-10T10:29:26.490Z"
   },
   {
    "duration": 12,
    "start_time": "2021-07-10T10:29:39.710Z"
   },
   {
    "duration": 4,
    "start_time": "2021-07-10T10:29:46.894Z"
   },
   {
    "duration": 8143,
    "start_time": "2021-07-10T10:29:49.027Z"
   },
   {
    "duration": 692,
    "start_time": "2021-07-10T10:30:16.827Z"
   },
   {
    "duration": 5,
    "start_time": "2021-07-10T10:30:35.779Z"
   },
   {
    "duration": 672,
    "start_time": "2021-07-10T10:30:40.037Z"
   },
   {
    "duration": 6,
    "start_time": "2021-07-10T10:30:47.394Z"
   },
   {
    "duration": 240,
    "start_time": "2021-07-10T10:31:08.697Z"
   },
   {
    "duration": 277,
    "start_time": "2021-07-10T10:32:37.754Z"
   },
   {
    "duration": 11,
    "start_time": "2021-07-10T10:33:07.858Z"
   },
   {
    "duration": 7,
    "start_time": "2021-07-10T10:34:21.287Z"
   },
   {
    "duration": 479,
    "start_time": "2021-07-10T10:34:25.364Z"
   },
   {
    "duration": 7,
    "start_time": "2021-07-10T10:34:57.941Z"
   },
   {
    "duration": 5038,
    "start_time": "2021-07-10T10:35:00.903Z"
   },
   {
    "duration": 6,
    "start_time": "2021-07-10T10:35:45.911Z"
   },
   {
    "duration": 14595,
    "start_time": "2021-07-10T10:35:49.014Z"
   },
   {
    "duration": 14761,
    "start_time": "2021-07-10T10:36:21.037Z"
   },
   {
    "duration": 4,
    "start_time": "2021-07-10T10:38:26.613Z"
   },
   {
    "duration": 6,
    "start_time": "2021-07-10T10:38:27.880Z"
   },
   {
    "duration": 268,
    "start_time": "2021-07-10T10:38:31.276Z"
   },
   {
    "duration": 481,
    "start_time": "2021-07-10T10:40:03.190Z"
   },
   {
    "duration": 109,
    "start_time": "2021-07-10T10:40:17.796Z"
   },
   {
    "duration": 507,
    "start_time": "2021-07-10T10:40:24.263Z"
   },
   {
    "duration": 522,
    "start_time": "2021-07-10T10:40:46.856Z"
   },
   {
    "duration": 7,
    "start_time": "2021-07-10T10:41:21.033Z"
   },
   {
    "duration": 9592,
    "start_time": "2021-07-10T10:41:27.156Z"
   },
   {
    "duration": 281,
    "start_time": "2021-07-10T10:41:43.517Z"
   },
   {
    "duration": 9619,
    "start_time": "2021-07-10T10:41:56.114Z"
   },
   {
    "duration": 7,
    "start_time": "2021-07-10T10:46:46.573Z"
   },
   {
    "duration": 512,
    "start_time": "2021-07-10T10:46:54.466Z"
   },
   {
    "duration": 11,
    "start_time": "2021-07-10T10:48:28.558Z"
   },
   {
    "duration": 505,
    "start_time": "2021-07-10T10:48:35.266Z"
   },
   {
    "duration": 7,
    "start_time": "2021-07-10T10:52:36.588Z"
   },
   {
    "duration": 7,
    "start_time": "2021-07-10T10:53:46.578Z"
   },
   {
    "duration": 1145,
    "start_time": "2021-07-10T10:53:50.160Z"
   },
   {
    "duration": 6,
    "start_time": "2021-07-10T10:54:44.309Z"
   },
   {
    "duration": 563,
    "start_time": "2021-07-10T10:54:47.408Z"
   },
   {
    "duration": 9,
    "start_time": "2021-07-10T10:55:11.051Z"
   },
   {
    "duration": 502,
    "start_time": "2021-07-10T10:55:14.447Z"
   },
   {
    "duration": 7,
    "start_time": "2021-07-10T10:55:43.223Z"
   },
   {
    "duration": 760,
    "start_time": "2021-07-10T10:55:47.326Z"
   },
   {
    "duration": 508,
    "start_time": "2021-07-10T10:56:05.083Z"
   },
   {
    "duration": 8,
    "start_time": "2021-07-10T10:58:12.305Z"
   },
   {
    "duration": 8779,
    "start_time": "2021-07-10T10:58:14.421Z"
   },
   {
    "duration": 7,
    "start_time": "2021-07-10T10:58:38.653Z"
   },
   {
    "duration": 8299,
    "start_time": "2021-07-10T10:58:40.187Z"
   },
   {
    "duration": 1401,
    "start_time": "2021-07-10T10:59:46.579Z"
   },
   {
    "duration": 472,
    "start_time": "2021-07-10T10:59:47.983Z"
   },
   {
    "duration": 36,
    "start_time": "2021-07-10T10:59:48.459Z"
   },
   {
    "duration": 26,
    "start_time": "2021-07-10T10:59:48.499Z"
   },
   {
    "duration": 32,
    "start_time": "2021-07-10T10:59:48.555Z"
   },
   {
    "duration": 225,
    "start_time": "2021-07-10T10:59:48.590Z"
   },
   {
    "duration": 71,
    "start_time": "2021-07-10T10:59:48.817Z"
   },
   {
    "duration": 48,
    "start_time": "2021-07-10T10:59:48.890Z"
   },
   {
    "duration": 49,
    "start_time": "2021-07-10T10:59:48.955Z"
   },
   {
    "duration": 507,
    "start_time": "2021-07-10T10:59:49.007Z"
   },
   {
    "duration": 500,
    "start_time": "2021-07-10T10:59:49.517Z"
   },
   {
    "duration": 484,
    "start_time": "2021-07-10T10:59:50.021Z"
   },
   {
    "duration": 526,
    "start_time": "2021-07-10T10:59:50.508Z"
   },
   {
    "duration": 527,
    "start_time": "2021-07-10T10:59:51.038Z"
   },
   {
    "duration": 631,
    "start_time": "2021-07-10T10:59:51.568Z"
   },
   {
    "duration": 59,
    "start_time": "2021-07-10T10:59:52.201Z"
   },
   {
    "duration": 394,
    "start_time": "2021-07-10T10:59:52.267Z"
   },
   {
    "duration": 195,
    "start_time": "2021-07-10T10:59:52.664Z"
   },
   {
    "duration": 16,
    "start_time": "2021-07-10T10:59:52.861Z"
   },
   {
    "duration": 6,
    "start_time": "2021-07-10T10:59:52.967Z"
   },
   {
    "duration": 141,
    "start_time": "2021-07-10T10:59:52.975Z"
   },
   {
    "duration": 5,
    "start_time": "2021-07-10T10:59:53.118Z"
   },
   {
    "duration": 48,
    "start_time": "2021-07-10T10:59:53.125Z"
   },
   {
    "duration": 6,
    "start_time": "2021-07-10T10:59:53.175Z"
   },
   {
    "duration": 612,
    "start_time": "2021-07-10T10:59:53.183Z"
   },
   {
    "duration": 6,
    "start_time": "2021-07-10T11:01:26.414Z"
   },
   {
    "duration": 10002,
    "start_time": "2021-07-10T11:01:35.082Z"
   },
   {
    "duration": 7,
    "start_time": "2021-07-10T11:02:06.284Z"
   },
   {
    "duration": 9782,
    "start_time": "2021-07-10T11:02:07.148Z"
   },
   {
    "duration": 6,
    "start_time": "2021-07-10T11:02:39.763Z"
   },
   {
    "duration": 7,
    "start_time": "2021-07-10T11:03:16.362Z"
   },
   {
    "duration": 482,
    "start_time": "2021-07-10T11:03:17.094Z"
   },
   {
    "duration": 6,
    "start_time": "2021-07-10T11:04:03.851Z"
   },
   {
    "duration": 595,
    "start_time": "2021-07-10T11:04:04.474Z"
   },
   {
    "duration": 6,
    "start_time": "2021-07-10T11:04:18.721Z"
   },
   {
    "duration": 495,
    "start_time": "2021-07-10T11:04:19.451Z"
   },
   {
    "duration": 8,
    "start_time": "2021-07-10T11:04:35.255Z"
   },
   {
    "duration": 5407,
    "start_time": "2021-07-10T11:04:37.138Z"
   },
   {
    "duration": 7,
    "start_time": "2021-07-10T11:04:59.128Z"
   },
   {
    "duration": 5860,
    "start_time": "2021-07-10T11:04:59.742Z"
   },
   {
    "duration": 6,
    "start_time": "2021-07-10T11:05:17.618Z"
   },
   {
    "duration": 7,
    "start_time": "2021-07-10T11:05:39.287Z"
   },
   {
    "duration": 4956,
    "start_time": "2021-07-10T11:05:42.588Z"
   },
   {
    "duration": 4897,
    "start_time": "2021-07-10T11:06:17.312Z"
   },
   {
    "duration": 796,
    "start_time": "2021-07-10T11:07:51.262Z"
   },
   {
    "duration": 254,
    "start_time": "2021-07-10T11:09:26.902Z"
   },
   {
    "duration": 30,
    "start_time": "2021-07-10T11:09:43.245Z"
   },
   {
    "duration": 13,
    "start_time": "2021-07-10T11:10:12.598Z"
   },
   {
    "duration": 7,
    "start_time": "2021-07-10T11:10:22.138Z"
   },
   {
    "duration": 14,
    "start_time": "2021-07-10T11:10:38.878Z"
   },
   {
    "duration": 258,
    "start_time": "2021-07-10T11:10:45.723Z"
   },
   {
    "duration": 21,
    "start_time": "2021-07-10T11:10:48.670Z"
   },
   {
    "duration": 504,
    "start_time": "2021-07-10T11:10:52.676Z"
   },
   {
    "duration": 5036,
    "start_time": "2021-07-10T11:11:01.061Z"
   },
   {
    "duration": 6,
    "start_time": "2021-07-10T11:11:23.667Z"
   },
   {
    "duration": 9,
    "start_time": "2021-07-10T11:12:26.658Z"
   },
   {
    "duration": 5758,
    "start_time": "2021-07-10T11:12:31.835Z"
   },
   {
    "duration": 539,
    "start_time": "2021-07-10T11:12:44.039Z"
   },
   {
    "duration": 800,
    "start_time": "2021-07-10T11:13:03.266Z"
   },
   {
    "duration": 260,
    "start_time": "2021-07-10T11:13:14.924Z"
   },
   {
    "duration": 10210,
    "start_time": "2021-07-10T11:13:20.830Z"
   },
   {
    "duration": 7,
    "start_time": "2021-07-10T11:14:32.193Z"
   },
   {
    "duration": 10006,
    "start_time": "2021-07-10T11:14:33.016Z"
   },
   {
    "duration": 7,
    "start_time": "2021-07-10T11:15:42.650Z"
   },
   {
    "duration": 9359,
    "start_time": "2021-07-10T11:15:46.500Z"
   },
   {
    "duration": 6,
    "start_time": "2021-07-10T11:17:46.375Z"
   },
   {
    "duration": 497,
    "start_time": "2021-07-10T11:17:48.716Z"
   },
   {
    "duration": 6,
    "start_time": "2021-07-10T11:18:09.023Z"
   },
   {
    "duration": 482,
    "start_time": "2021-07-10T11:18:10.110Z"
   },
   {
    "duration": 438,
    "start_time": "2021-07-10T11:21:01.900Z"
   },
   {
    "duration": 5052,
    "start_time": "2021-07-10T11:21:46.055Z"
   },
   {
    "duration": 5128,
    "start_time": "2021-07-10T11:22:27.139Z"
   },
   {
    "duration": 240,
    "start_time": "2021-07-10T11:22:47.040Z"
   },
   {
    "duration": 14146,
    "start_time": "2021-07-10T11:23:44.101Z"
   },
   {
    "duration": 434,
    "start_time": "2021-07-10T11:24:19.429Z"
   },
   {
    "duration": 14,
    "start_time": "2021-07-10T11:24:42.946Z"
   },
   {
    "duration": 8,
    "start_time": "2021-07-10T11:24:51.378Z"
   },
   {
    "duration": 14,
    "start_time": "2021-07-10T11:24:57.690Z"
   },
   {
    "duration": 13,
    "start_time": "2021-07-10T11:25:04.953Z"
   },
   {
    "duration": 116,
    "start_time": "2021-07-10T11:25:26.976Z"
   },
   {
    "duration": 693,
    "start_time": "2021-07-10T11:25:35.037Z"
   },
   {
    "duration": 407,
    "start_time": "2021-07-10T11:26:01.291Z"
   },
   {
    "duration": 463,
    "start_time": "2021-07-10T11:26:24.225Z"
   },
   {
    "duration": 422,
    "start_time": "2021-07-10T11:26:42.941Z"
   },
   {
    "duration": 8,
    "start_time": "2021-07-10T11:28:41.729Z"
   },
   {
    "duration": 494,
    "start_time": "2021-07-10T11:28:53.255Z"
   },
   {
    "duration": 6,
    "start_time": "2021-07-10T11:29:06.126Z"
   },
   {
    "duration": 9149,
    "start_time": "2021-07-10T11:29:06.637Z"
   },
   {
    "duration": 7,
    "start_time": "2021-07-10T11:29:24.843Z"
   },
   {
    "duration": 6,
    "start_time": "2021-07-10T11:29:35.891Z"
   },
   {
    "duration": 5,
    "start_time": "2021-07-10T11:29:42.742Z"
   },
   {
    "duration": 8,
    "start_time": "2021-07-10T11:30:18.931Z"
   },
   {
    "duration": 82,
    "start_time": "2021-07-10T11:31:30.039Z"
   },
   {
    "duration": 9279,
    "start_time": "2021-07-10T11:31:34.075Z"
   },
   {
    "duration": 1773,
    "start_time": "2021-07-10T11:32:29.797Z"
   },
   {
    "duration": 457,
    "start_time": "2021-07-10T11:32:31.572Z"
   },
   {
    "duration": 34,
    "start_time": "2021-07-10T11:32:32.032Z"
   },
   {
    "duration": 26,
    "start_time": "2021-07-10T11:32:32.069Z"
   },
   {
    "duration": 29,
    "start_time": "2021-07-10T11:32:32.097Z"
   },
   {
    "duration": 200,
    "start_time": "2021-07-10T11:32:32.155Z"
   },
   {
    "duration": 53,
    "start_time": "2021-07-10T11:32:32.357Z"
   },
   {
    "duration": 68,
    "start_time": "2021-07-10T11:32:32.414Z"
   },
   {
    "duration": 47,
    "start_time": "2021-07-10T11:32:32.486Z"
   },
   {
    "duration": 491,
    "start_time": "2021-07-10T11:32:32.536Z"
   },
   {
    "duration": 468,
    "start_time": "2021-07-10T11:32:33.030Z"
   },
   {
    "duration": 482,
    "start_time": "2021-07-10T11:32:33.501Z"
   },
   {
    "duration": 517,
    "start_time": "2021-07-10T11:32:33.986Z"
   },
   {
    "duration": 508,
    "start_time": "2021-07-10T11:32:34.506Z"
   },
   {
    "duration": 523,
    "start_time": "2021-07-10T11:32:35.017Z"
   },
   {
    "duration": 54,
    "start_time": "2021-07-10T11:32:35.543Z"
   },
   {
    "duration": 471,
    "start_time": "2021-07-10T11:32:35.599Z"
   },
   {
    "duration": 189,
    "start_time": "2021-07-10T11:32:36.074Z"
   },
   {
    "duration": 100,
    "start_time": "2021-07-10T11:32:36.357Z"
   },
   {
    "duration": 5,
    "start_time": "2021-07-10T11:32:36.460Z"
   },
   {
    "duration": 154,
    "start_time": "2021-07-10T11:32:36.468Z"
   },
   {
    "duration": 5,
    "start_time": "2021-07-10T11:32:36.624Z"
   },
   {
    "duration": 26,
    "start_time": "2021-07-10T11:32:36.653Z"
   },
   {
    "duration": 7,
    "start_time": "2021-07-10T11:32:36.683Z"
   },
   {
    "duration": 12,
    "start_time": "2021-07-10T11:32:36.692Z"
   },
   {
    "duration": 8981,
    "start_time": "2021-07-10T11:32:36.707Z"
   },
   {
    "duration": 7,
    "start_time": "2021-07-10T11:32:45.690Z"
   },
   {
    "duration": 6,
    "start_time": "2021-07-10T11:33:00.087Z"
   },
   {
    "duration": 8,
    "start_time": "2021-07-10T11:33:02.626Z"
   },
   {
    "duration": 3455,
    "start_time": "2021-07-10T11:33:03.368Z"
   },
   {
    "duration": 6,
    "start_time": "2021-07-10T11:33:16.445Z"
   },
   {
    "duration": 7,
    "start_time": "2021-07-10T11:33:16.949Z"
   },
   {
    "duration": 8647,
    "start_time": "2021-07-10T11:33:20.094Z"
   },
   {
    "duration": 7,
    "start_time": "2021-07-10T11:34:22.299Z"
   },
   {
    "duration": 6,
    "start_time": "2021-07-10T11:34:23.812Z"
   },
   {
    "duration": 8765,
    "start_time": "2021-07-10T11:34:35.793Z"
   },
   {
    "duration": 245,
    "start_time": "2021-07-10T11:35:44.742Z"
   },
   {
    "duration": 87,
    "start_time": "2021-07-10T11:36:56.570Z"
   },
   {
    "duration": 82,
    "start_time": "2021-07-10T11:37:06.798Z"
   },
   {
    "duration": 409,
    "start_time": "2021-07-10T11:37:13.326Z"
   },
   {
    "duration": 4829,
    "start_time": "2021-07-10T11:37:23.878Z"
   },
   {
    "duration": 4951,
    "start_time": "2021-07-10T11:37:39.618Z"
   },
   {
    "duration": 13788,
    "start_time": "2021-07-10T11:39:38.344Z"
   },
   {
    "duration": 4972,
    "start_time": "2021-07-10T11:40:19.564Z"
   },
   {
    "duration": 8,
    "start_time": "2021-07-10T11:42:25.260Z"
   },
   {
    "duration": 643,
    "start_time": "2021-07-10T11:42:57.323Z"
   },
   {
    "duration": 7,
    "start_time": "2021-07-10T11:43:38.831Z"
   },
   {
    "duration": 476,
    "start_time": "2021-07-10T11:43:39.580Z"
   },
   {
    "duration": 258,
    "start_time": "2021-07-10T11:44:45.815Z"
   },
   {
    "duration": 473,
    "start_time": "2021-07-10T11:47:27.983Z"
   },
   {
    "duration": 455,
    "start_time": "2021-07-10T11:47:38.313Z"
   },
   {
    "duration": 4990,
    "start_time": "2021-07-10T11:47:51.206Z"
   },
   {
    "duration": 13551,
    "start_time": "2021-07-10T11:48:47.885Z"
   },
   {
    "duration": 4,
    "start_time": "2021-07-10T11:50:01.954Z"
   },
   {
    "duration": 689,
    "start_time": "2021-07-10T11:50:05.537Z"
   },
   {
    "duration": 5,
    "start_time": "2021-07-10T11:50:51.460Z"
   },
   {
    "duration": 16683,
    "start_time": "2021-07-10T11:50:52.373Z"
   },
   {
    "duration": 475,
    "start_time": "2021-07-10T11:52:29.156Z"
   },
   {
    "duration": 8,
    "start_time": "2021-07-10T11:52:30.777Z"
   },
   {
    "duration": 496,
    "start_time": "2021-07-10T11:52:33.659Z"
   },
   {
    "duration": 550,
    "start_time": "2021-07-10T11:52:42.909Z"
   },
   {
    "duration": 5,
    "start_time": "2021-07-10T11:52:46.109Z"
   },
   {
    "duration": 16545,
    "start_time": "2021-07-10T11:52:51.057Z"
   },
   {
    "duration": 425,
    "start_time": "2021-07-10T11:54:00.249Z"
   },
   {
    "duration": 4,
    "start_time": "2021-07-10T11:54:05.143Z"
   },
   {
    "duration": 15695,
    "start_time": "2021-07-10T11:54:06.250Z"
   },
   {
    "duration": 5,
    "start_time": "2021-07-10T11:55:00.430Z"
   },
   {
    "duration": 7,
    "start_time": "2021-07-10T11:55:01.434Z"
   },
   {
    "duration": 8032,
    "start_time": "2021-07-10T11:55:08.009Z"
   },
   {
    "duration": 5,
    "start_time": "2021-07-10T11:59:44.614Z"
   },
   {
    "duration": 7,
    "start_time": "2021-07-10T12:00:02.056Z"
   },
   {
    "duration": 3426,
    "start_time": "2021-07-10T12:00:03.049Z"
   },
   {
    "duration": 6,
    "start_time": "2021-07-10T12:00:17.961Z"
   },
   {
    "duration": 8011,
    "start_time": "2021-07-10T12:00:20.584Z"
   },
   {
    "duration": 5,
    "start_time": "2021-07-10T12:01:08.188Z"
   },
   {
    "duration": 7,
    "start_time": "2021-07-10T12:02:11.756Z"
   },
   {
    "duration": 8050,
    "start_time": "2021-07-10T12:02:12.981Z"
   },
   {
    "duration": 4,
    "start_time": "2021-07-10T12:08:01.228Z"
   },
   {
    "duration": 6,
    "start_time": "2021-07-10T12:08:01.680Z"
   },
   {
    "duration": 10065,
    "start_time": "2021-07-10T12:08:02.263Z"
   },
   {
    "duration": 4,
    "start_time": "2021-07-10T12:08:47.517Z"
   },
   {
    "duration": 6,
    "start_time": "2021-07-10T12:08:48.009Z"
   },
   {
    "duration": 9018,
    "start_time": "2021-07-10T12:08:48.722Z"
   },
   {
    "duration": 1390,
    "start_time": "2021-07-10T12:09:17.875Z"
   },
   {
    "duration": 469,
    "start_time": "2021-07-10T12:09:19.268Z"
   },
   {
    "duration": 39,
    "start_time": "2021-07-10T12:09:19.741Z"
   },
   {
    "duration": 30,
    "start_time": "2021-07-10T12:09:19.784Z"
   },
   {
    "duration": 60,
    "start_time": "2021-07-10T12:09:19.817Z"
   },
   {
    "duration": 223,
    "start_time": "2021-07-10T12:09:19.880Z"
   },
   {
    "duration": 71,
    "start_time": "2021-07-10T12:09:20.106Z"
   },
   {
    "duration": 48,
    "start_time": "2021-07-10T12:09:20.182Z"
   },
   {
    "duration": 68,
    "start_time": "2021-07-10T12:09:20.233Z"
   },
   {
    "duration": 475,
    "start_time": "2021-07-10T12:09:20.303Z"
   },
   {
    "duration": 481,
    "start_time": "2021-07-10T12:09:20.781Z"
   },
   {
    "duration": 479,
    "start_time": "2021-07-10T12:09:21.265Z"
   },
   {
    "duration": 510,
    "start_time": "2021-07-10T12:09:21.754Z"
   },
   {
    "duration": 516,
    "start_time": "2021-07-10T12:09:22.266Z"
   },
   {
    "duration": 535,
    "start_time": "2021-07-10T12:09:22.784Z"
   },
   {
    "duration": 54,
    "start_time": "2021-07-10T12:09:23.322Z"
   },
   {
    "duration": 393,
    "start_time": "2021-07-10T12:09:23.379Z"
   },
   {
    "duration": 180,
    "start_time": "2021-07-10T12:09:23.775Z"
   },
   {
    "duration": 101,
    "start_time": "2021-07-10T12:09:23.959Z"
   },
   {
    "duration": 26,
    "start_time": "2021-07-10T12:09:24.062Z"
   },
   {
    "duration": 151,
    "start_time": "2021-07-10T12:09:24.090Z"
   },
   {
    "duration": 5,
    "start_time": "2021-07-10T12:09:24.255Z"
   },
   {
    "duration": 47,
    "start_time": "2021-07-10T12:09:24.264Z"
   },
   {
    "duration": 5,
    "start_time": "2021-07-10T12:09:24.313Z"
   },
   {
    "duration": 21,
    "start_time": "2021-07-10T12:09:24.320Z"
   },
   {
    "duration": 8200,
    "start_time": "2021-07-10T12:09:24.343Z"
   },
   {
    "duration": 84,
    "start_time": "2021-07-10T12:10:03.168Z"
   },
   {
    "duration": 7,
    "start_time": "2021-07-10T12:10:10.065Z"
   },
   {
    "duration": 8864,
    "start_time": "2021-07-10T12:10:10.656Z"
   },
   {
    "duration": 7,
    "start_time": "2021-07-10T12:10:29.595Z"
   },
   {
    "duration": 8011,
    "start_time": "2021-07-10T12:10:30.139Z"
   },
   {
    "duration": 1381,
    "start_time": "2021-07-10T12:11:03.303Z"
   },
   {
    "duration": 460,
    "start_time": "2021-07-10T12:11:04.686Z"
   },
   {
    "duration": 31,
    "start_time": "2021-07-10T12:11:05.149Z"
   },
   {
    "duration": 26,
    "start_time": "2021-07-10T12:11:05.183Z"
   },
   {
    "duration": 61,
    "start_time": "2021-07-10T12:11:05.211Z"
   },
   {
    "duration": 203,
    "start_time": "2021-07-10T12:11:05.274Z"
   },
   {
    "duration": 49,
    "start_time": "2021-07-10T12:11:05.480Z"
   },
   {
    "duration": 65,
    "start_time": "2021-07-10T12:11:05.533Z"
   },
   {
    "duration": 66,
    "start_time": "2021-07-10T12:11:05.601Z"
   },
   {
    "duration": 490,
    "start_time": "2021-07-10T12:11:05.670Z"
   },
   {
    "duration": 478,
    "start_time": "2021-07-10T12:11:06.163Z"
   },
   {
    "duration": 472,
    "start_time": "2021-07-10T12:11:06.643Z"
   },
   {
    "duration": 514,
    "start_time": "2021-07-10T12:11:07.117Z"
   },
   {
    "duration": 524,
    "start_time": "2021-07-10T12:11:07.633Z"
   },
   {
    "duration": 542,
    "start_time": "2021-07-10T12:11:08.159Z"
   },
   {
    "duration": 55,
    "start_time": "2021-07-10T12:11:08.704Z"
   },
   {
    "duration": 494,
    "start_time": "2021-07-10T12:11:08.761Z"
   },
   {
    "duration": 197,
    "start_time": "2021-07-10T12:11:09.258Z"
   },
   {
    "duration": 100,
    "start_time": "2021-07-10T12:11:09.459Z"
   },
   {
    "duration": 34,
    "start_time": "2021-07-10T12:11:09.562Z"
   },
   {
    "duration": 145,
    "start_time": "2021-07-10T12:11:09.598Z"
   },
   {
    "duration": 4,
    "start_time": "2021-07-10T12:11:09.754Z"
   },
   {
    "duration": 36,
    "start_time": "2021-07-10T12:11:09.762Z"
   },
   {
    "duration": 4,
    "start_time": "2021-07-10T12:11:09.800Z"
   },
   {
    "duration": 16,
    "start_time": "2021-07-10T12:11:09.807Z"
   },
   {
    "duration": 8215,
    "start_time": "2021-07-10T12:11:09.825Z"
   },
   {
    "duration": 1433,
    "start_time": "2021-07-10T12:14:23.783Z"
   },
   {
    "duration": 481,
    "start_time": "2021-07-10T12:14:25.218Z"
   },
   {
    "duration": 30,
    "start_time": "2021-07-10T12:14:25.705Z"
   },
   {
    "duration": 48,
    "start_time": "2021-07-10T12:14:25.737Z"
   },
   {
    "duration": 29,
    "start_time": "2021-07-10T12:14:25.788Z"
   },
   {
    "duration": 222,
    "start_time": "2021-07-10T12:14:25.819Z"
   },
   {
    "duration": 56,
    "start_time": "2021-07-10T12:14:26.045Z"
   },
   {
    "duration": 79,
    "start_time": "2021-07-10T12:14:26.104Z"
   },
   {
    "duration": 45,
    "start_time": "2021-07-10T12:14:26.185Z"
   },
   {
    "duration": 488,
    "start_time": "2021-07-10T12:14:26.232Z"
   },
   {
    "duration": 486,
    "start_time": "2021-07-10T12:14:26.722Z"
   },
   {
    "duration": 500,
    "start_time": "2021-07-10T12:14:27.211Z"
   },
   {
    "duration": 542,
    "start_time": "2021-07-10T12:14:27.713Z"
   },
   {
    "duration": 539,
    "start_time": "2021-07-10T12:14:28.257Z"
   },
   {
    "duration": 558,
    "start_time": "2021-07-10T12:14:28.799Z"
   },
   {
    "duration": 48,
    "start_time": "2021-07-10T12:14:29.360Z"
   },
   {
    "duration": 457,
    "start_time": "2021-07-10T12:14:29.411Z"
   },
   {
    "duration": 198,
    "start_time": "2021-07-10T12:14:29.872Z"
   },
   {
    "duration": 92,
    "start_time": "2021-07-10T12:14:30.074Z"
   },
   {
    "duration": 96,
    "start_time": "2021-07-10T12:14:30.173Z"
   },
   {
    "duration": 153,
    "start_time": "2021-07-10T12:14:30.272Z"
   },
   {
    "duration": 4,
    "start_time": "2021-07-10T12:14:30.429Z"
   },
   {
    "duration": 49,
    "start_time": "2021-07-10T12:14:30.436Z"
   },
   {
    "duration": 4,
    "start_time": "2021-07-10T12:14:30.488Z"
   },
   {
    "duration": 21,
    "start_time": "2021-07-10T12:14:30.495Z"
   },
   {
    "duration": 8401,
    "start_time": "2021-07-10T12:14:30.519Z"
   }
  ],
  "kernelspec": {
   "display_name": "Python 3",
   "language": "python",
   "name": "python3"
  },
  "language_info": {
   "codemirror_mode": {
    "name": "ipython",
    "version": 3
   },
   "file_extension": ".py",
   "mimetype": "text/x-python",
   "name": "python",
   "nbconvert_exporter": "python",
   "pygments_lexer": "ipython3",
   "version": "3.7.3"
  },
  "toc": {
   "base_numbering": 1,
   "nav_menu": {},
   "number_sections": true,
   "sideBar": true,
   "skip_h1_title": true,
   "title_cell": "Table of Contents",
   "title_sidebar": "Contents",
   "toc_cell": true,
   "toc_position": {},
   "toc_section_display": true,
   "toc_window_display": false
  }
 },
 "nbformat": 4,
 "nbformat_minor": 2
}
