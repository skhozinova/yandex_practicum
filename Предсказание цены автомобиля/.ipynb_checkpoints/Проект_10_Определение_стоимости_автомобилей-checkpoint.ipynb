{
 "cells": [
  {
   "cell_type": "markdown",
   "metadata": {},
   "source": [
    "# Определение стоимости автомобилей"
   ]
  },
  {
   "cell_type": "markdown",
   "metadata": {},
   "source": [
    "# Описание проекта\n",
    "Сервис по продаже автомобилей с пробегом «Не бит, не крашен» разрабатывает приложение для привлечения новых клиентов. В нём можно быстро узнать рыночную стоимость своего автомобиля. В вашем распоряжении исторические данные: технические характеристики, комплектации и цены автомобилей. Вам нужно построить модель для определения стоимости. \n",
    "\n",
    "Заказчику важны:\n",
    "\n",
    "- качество предсказания;\n",
    "- скорость предсказания;\n",
    "- время обучения."
   ]
  },
  {
   "cell_type": "markdown",
   "metadata": {},
   "source": [
    "**Описание данных**\n",
    "\n",
    "Признаки:\n",
    "- DateCrawled — дата скачивания анкеты из базы\n",
    "- VehicleType — тип автомобильного кузова\n",
    "- RegistrationYear — год регистрации автомобиля\n",
    "- Gearbox — тип коробки передач\n",
    "- Power — мощность (л. с.)\n",
    "- Model — модель автомобиля\n",
    "- Kilometer — пробег (км)\n",
    "- RegistrationMonth — месяц регистрации автомобиля\n",
    "- FuelType — тип топлива\n",
    "- Brand — марка автомобиля\n",
    "- NotRepaired — была машина в ремонте или нет\n",
    "- DateCreated — дата создания анкеты\n",
    "- NumberOfPictures — количество фотографий автомобиля\n",
    "- PostalCode — почтовый индекс владельца анкеты (пользователя)\n",
    "- LastSeen — дата последней активности пользователя\n",
    "\n",
    "Целевой признак\n",
    "- Price — цена (евро)"
   ]
  },
  {
   "cell_type": "markdown",
   "metadata": {},
   "source": [
    "## Подготовка данных"
   ]
  },
  {
   "cell_type": "code",
   "execution_count": 1,
   "metadata": {},
   "outputs": [],
   "source": [
    "import pandas as pd\n",
    "import numpy as np\n",
    "import time\n",
    "from sklearn.preprocessing import StandardScaler\n",
    "from sklearn.pipeline import Pipeline\n",
    "from sklearn.ensemble import RandomForestRegressor\n",
    "from sklearn.linear_model import LinearRegression\n",
    "from sklearn.model_selection import cross_val_score\n",
    "from sklearn.model_selection import  train_test_split, KFold, GridSearchCV, RandomizedSearchCV\n",
    "from lightgbm import LGBMRegressor\n",
    "from catboost import Pool, CatBoostRegressor\n",
    "from sklearn.metrics import mean_squared_error\n",
    "import warnings\n",
    "warnings.filterwarnings('ignore')"
   ]
  },
  {
   "cell_type": "code",
   "execution_count": 2,
   "metadata": {},
   "outputs": [
    {
     "name": "stdout",
     "output_type": "stream",
     "text": [
      "<class 'pandas.core.frame.DataFrame'>\n",
      "RangeIndex: 354369 entries, 0 to 354368\n",
      "Data columns (total 16 columns):\n",
      "DateCrawled          354369 non-null object\n",
      "Price                354369 non-null int64\n",
      "VehicleType          316879 non-null object\n",
      "RegistrationYear     354369 non-null int64\n",
      "Gearbox              334536 non-null object\n",
      "Power                354369 non-null int64\n",
      "Model                334664 non-null object\n",
      "Kilometer            354369 non-null int64\n",
      "RegistrationMonth    354369 non-null int64\n",
      "FuelType             321474 non-null object\n",
      "Brand                354369 non-null object\n",
      "NotRepaired          283215 non-null object\n",
      "DateCreated          354369 non-null object\n",
      "NumberOfPictures     354369 non-null int64\n",
      "PostalCode           354369 non-null int64\n",
      "LastSeen             354369 non-null object\n",
      "dtypes: int64(7), object(9)\n",
      "memory usage: 43.3+ MB\n"
     ]
    }
   ],
   "source": [
    "data = pd.read_csv('/datasets/autos.csv')\n",
    "data.info()"
   ]
  },
  {
   "cell_type": "code",
   "execution_count": 3,
   "metadata": {},
   "outputs": [
    {
     "data": {
      "text/html": [
       "<div>\n",
       "<style scoped>\n",
       "    .dataframe tbody tr th:only-of-type {\n",
       "        vertical-align: middle;\n",
       "    }\n",
       "\n",
       "    .dataframe tbody tr th {\n",
       "        vertical-align: top;\n",
       "    }\n",
       "\n",
       "    .dataframe thead th {\n",
       "        text-align: right;\n",
       "    }\n",
       "</style>\n",
       "<table border=\"1\" class=\"dataframe\">\n",
       "  <thead>\n",
       "    <tr style=\"text-align: right;\">\n",
       "      <th></th>\n",
       "      <th>DateCrawled</th>\n",
       "      <th>Price</th>\n",
       "      <th>VehicleType</th>\n",
       "      <th>RegistrationYear</th>\n",
       "      <th>Gearbox</th>\n",
       "      <th>Power</th>\n",
       "      <th>Model</th>\n",
       "      <th>Kilometer</th>\n",
       "      <th>RegistrationMonth</th>\n",
       "      <th>FuelType</th>\n",
       "      <th>Brand</th>\n",
       "      <th>NotRepaired</th>\n",
       "      <th>DateCreated</th>\n",
       "      <th>NumberOfPictures</th>\n",
       "      <th>PostalCode</th>\n",
       "      <th>LastSeen</th>\n",
       "    </tr>\n",
       "  </thead>\n",
       "  <tbody>\n",
       "    <tr>\n",
       "      <td>58586</td>\n",
       "      <td>2016-04-05 09:54:43</td>\n",
       "      <td>800</td>\n",
       "      <td>coupe</td>\n",
       "      <td>1994</td>\n",
       "      <td>manual</td>\n",
       "      <td>115</td>\n",
       "      <td>6_reihe</td>\n",
       "      <td>150000</td>\n",
       "      <td>0</td>\n",
       "      <td>NaN</td>\n",
       "      <td>mazda</td>\n",
       "      <td>no</td>\n",
       "      <td>2016-04-05 00:00:00</td>\n",
       "      <td>0</td>\n",
       "      <td>89250</td>\n",
       "      <td>2016-04-07 13:16:21</td>\n",
       "    </tr>\n",
       "    <tr>\n",
       "      <td>306879</td>\n",
       "      <td>2016-04-01 17:39:37</td>\n",
       "      <td>2630</td>\n",
       "      <td>sedan</td>\n",
       "      <td>1998</td>\n",
       "      <td>manual</td>\n",
       "      <td>170</td>\n",
       "      <td>5er</td>\n",
       "      <td>150000</td>\n",
       "      <td>6</td>\n",
       "      <td>petrol</td>\n",
       "      <td>bmw</td>\n",
       "      <td>no</td>\n",
       "      <td>2016-04-01 00:00:00</td>\n",
       "      <td>0</td>\n",
       "      <td>38444</td>\n",
       "      <td>2016-04-05 12:46:16</td>\n",
       "    </tr>\n",
       "    <tr>\n",
       "      <td>273150</td>\n",
       "      <td>2016-04-02 21:36:34</td>\n",
       "      <td>5700</td>\n",
       "      <td>sedan</td>\n",
       "      <td>2004</td>\n",
       "      <td>auto</td>\n",
       "      <td>150</td>\n",
       "      <td>3er</td>\n",
       "      <td>150000</td>\n",
       "      <td>10</td>\n",
       "      <td>gasoline</td>\n",
       "      <td>bmw</td>\n",
       "      <td>yes</td>\n",
       "      <td>2016-04-02 00:00:00</td>\n",
       "      <td>0</td>\n",
       "      <td>47443</td>\n",
       "      <td>2016-04-04 21:16:37</td>\n",
       "    </tr>\n",
       "    <tr>\n",
       "      <td>315717</td>\n",
       "      <td>2016-03-29 11:50:05</td>\n",
       "      <td>15900</td>\n",
       "      <td>other</td>\n",
       "      <td>1978</td>\n",
       "      <td>auto</td>\n",
       "      <td>185</td>\n",
       "      <td>s_klasse</td>\n",
       "      <td>5000</td>\n",
       "      <td>3</td>\n",
       "      <td>petrol</td>\n",
       "      <td>mercedes_benz</td>\n",
       "      <td>NaN</td>\n",
       "      <td>2016-03-29 00:00:00</td>\n",
       "      <td>0</td>\n",
       "      <td>24113</td>\n",
       "      <td>2016-04-05 21:15:26</td>\n",
       "    </tr>\n",
       "    <tr>\n",
       "      <td>317250</td>\n",
       "      <td>2016-03-14 17:43:47</td>\n",
       "      <td>7990</td>\n",
       "      <td>wagon</td>\n",
       "      <td>2011</td>\n",
       "      <td>manual</td>\n",
       "      <td>105</td>\n",
       "      <td>golf</td>\n",
       "      <td>150000</td>\n",
       "      <td>1</td>\n",
       "      <td>gasoline</td>\n",
       "      <td>volkswagen</td>\n",
       "      <td>no</td>\n",
       "      <td>2016-03-14 00:00:00</td>\n",
       "      <td>0</td>\n",
       "      <td>38312</td>\n",
       "      <td>2016-03-14 17:43:47</td>\n",
       "    </tr>\n",
       "    <tr>\n",
       "      <td>116403</td>\n",
       "      <td>2016-04-02 11:48:37</td>\n",
       "      <td>4200</td>\n",
       "      <td>sedan</td>\n",
       "      <td>2009</td>\n",
       "      <td>NaN</td>\n",
       "      <td>0</td>\n",
       "      <td>a3</td>\n",
       "      <td>125000</td>\n",
       "      <td>11</td>\n",
       "      <td>gasoline</td>\n",
       "      <td>audi</td>\n",
       "      <td>no</td>\n",
       "      <td>2016-04-02 00:00:00</td>\n",
       "      <td>0</td>\n",
       "      <td>10247</td>\n",
       "      <td>2016-04-02 11:48:37</td>\n",
       "    </tr>\n",
       "    <tr>\n",
       "      <td>308477</td>\n",
       "      <td>2016-03-11 09:55:33</td>\n",
       "      <td>750</td>\n",
       "      <td>wagon</td>\n",
       "      <td>1997</td>\n",
       "      <td>manual</td>\n",
       "      <td>60</td>\n",
       "      <td>polo</td>\n",
       "      <td>150000</td>\n",
       "      <td>11</td>\n",
       "      <td>petrol</td>\n",
       "      <td>volkswagen</td>\n",
       "      <td>NaN</td>\n",
       "      <td>2016-03-11 00:00:00</td>\n",
       "      <td>0</td>\n",
       "      <td>96247</td>\n",
       "      <td>2016-03-15 19:46:18</td>\n",
       "    </tr>\n",
       "    <tr>\n",
       "      <td>147299</td>\n",
       "      <td>2016-03-15 08:55:26</td>\n",
       "      <td>600</td>\n",
       "      <td>sedan</td>\n",
       "      <td>1995</td>\n",
       "      <td>auto</td>\n",
       "      <td>90</td>\n",
       "      <td>golf</td>\n",
       "      <td>125000</td>\n",
       "      <td>3</td>\n",
       "      <td>petrol</td>\n",
       "      <td>volkswagen</td>\n",
       "      <td>yes</td>\n",
       "      <td>2016-03-15 00:00:00</td>\n",
       "      <td>0</td>\n",
       "      <td>10709</td>\n",
       "      <td>2016-03-18 01:46:12</td>\n",
       "    </tr>\n",
       "    <tr>\n",
       "      <td>193481</td>\n",
       "      <td>2016-03-30 14:49:21</td>\n",
       "      <td>1300</td>\n",
       "      <td>sedan</td>\n",
       "      <td>2000</td>\n",
       "      <td>manual</td>\n",
       "      <td>82</td>\n",
       "      <td>a_klasse</td>\n",
       "      <td>150000</td>\n",
       "      <td>10</td>\n",
       "      <td>petrol</td>\n",
       "      <td>mercedes_benz</td>\n",
       "      <td>no</td>\n",
       "      <td>2016-03-30 00:00:00</td>\n",
       "      <td>0</td>\n",
       "      <td>64291</td>\n",
       "      <td>2016-04-07 05:44:33</td>\n",
       "    </tr>\n",
       "    <tr>\n",
       "      <td>120226</td>\n",
       "      <td>2016-03-23 11:55:19</td>\n",
       "      <td>2050</td>\n",
       "      <td>coupe</td>\n",
       "      <td>1992</td>\n",
       "      <td>manual</td>\n",
       "      <td>141</td>\n",
       "      <td>3er</td>\n",
       "      <td>150000</td>\n",
       "      <td>10</td>\n",
       "      <td>petrol</td>\n",
       "      <td>bmw</td>\n",
       "      <td>no</td>\n",
       "      <td>2016-03-23 00:00:00</td>\n",
       "      <td>0</td>\n",
       "      <td>89077</td>\n",
       "      <td>2016-04-07 13:17:16</td>\n",
       "    </tr>\n",
       "  </tbody>\n",
       "</table>\n",
       "</div>"
      ],
      "text/plain": [
       "                DateCrawled  Price VehicleType  RegistrationYear Gearbox  \\\n",
       "58586   2016-04-05 09:54:43    800       coupe              1994  manual   \n",
       "306879  2016-04-01 17:39:37   2630       sedan              1998  manual   \n",
       "273150  2016-04-02 21:36:34   5700       sedan              2004    auto   \n",
       "315717  2016-03-29 11:50:05  15900       other              1978    auto   \n",
       "317250  2016-03-14 17:43:47   7990       wagon              2011  manual   \n",
       "116403  2016-04-02 11:48:37   4200       sedan              2009     NaN   \n",
       "308477  2016-03-11 09:55:33    750       wagon              1997  manual   \n",
       "147299  2016-03-15 08:55:26    600       sedan              1995    auto   \n",
       "193481  2016-03-30 14:49:21   1300       sedan              2000  manual   \n",
       "120226  2016-03-23 11:55:19   2050       coupe              1992  manual   \n",
       "\n",
       "        Power     Model  Kilometer  RegistrationMonth  FuelType  \\\n",
       "58586     115   6_reihe     150000                  0       NaN   \n",
       "306879    170       5er     150000                  6    petrol   \n",
       "273150    150       3er     150000                 10  gasoline   \n",
       "315717    185  s_klasse       5000                  3    petrol   \n",
       "317250    105      golf     150000                  1  gasoline   \n",
       "116403      0        a3     125000                 11  gasoline   \n",
       "308477     60      polo     150000                 11    petrol   \n",
       "147299     90      golf     125000                  3    petrol   \n",
       "193481     82  a_klasse     150000                 10    petrol   \n",
       "120226    141       3er     150000                 10    petrol   \n",
       "\n",
       "                Brand NotRepaired          DateCreated  NumberOfPictures  \\\n",
       "58586           mazda          no  2016-04-05 00:00:00                 0   \n",
       "306879            bmw          no  2016-04-01 00:00:00                 0   \n",
       "273150            bmw         yes  2016-04-02 00:00:00                 0   \n",
       "315717  mercedes_benz         NaN  2016-03-29 00:00:00                 0   \n",
       "317250     volkswagen          no  2016-03-14 00:00:00                 0   \n",
       "116403           audi          no  2016-04-02 00:00:00                 0   \n",
       "308477     volkswagen         NaN  2016-03-11 00:00:00                 0   \n",
       "147299     volkswagen         yes  2016-03-15 00:00:00                 0   \n",
       "193481  mercedes_benz          no  2016-03-30 00:00:00                 0   \n",
       "120226            bmw          no  2016-03-23 00:00:00                 0   \n",
       "\n",
       "        PostalCode             LastSeen  \n",
       "58586        89250  2016-04-07 13:16:21  \n",
       "306879       38444  2016-04-05 12:46:16  \n",
       "273150       47443  2016-04-04 21:16:37  \n",
       "315717       24113  2016-04-05 21:15:26  \n",
       "317250       38312  2016-03-14 17:43:47  \n",
       "116403       10247  2016-04-02 11:48:37  \n",
       "308477       96247  2016-03-15 19:46:18  \n",
       "147299       10709  2016-03-18 01:46:12  \n",
       "193481       64291  2016-04-07 05:44:33  \n",
       "120226       89077  2016-04-07 13:17:16  "
      ]
     },
     "execution_count": 3,
     "metadata": {},
     "output_type": "execute_result"
    }
   ],
   "source": [
    "data.sample(10)"
   ]
  },
  {
   "cell_type": "code",
   "execution_count": 4,
   "metadata": {},
   "outputs": [
    {
     "data": {
      "text/html": [
       "<div>\n",
       "<style scoped>\n",
       "    .dataframe tbody tr th:only-of-type {\n",
       "        vertical-align: middle;\n",
       "    }\n",
       "\n",
       "    .dataframe tbody tr th {\n",
       "        vertical-align: top;\n",
       "    }\n",
       "\n",
       "    .dataframe thead th {\n",
       "        text-align: right;\n",
       "    }\n",
       "</style>\n",
       "<table border=\"1\" class=\"dataframe\">\n",
       "  <thead>\n",
       "    <tr style=\"text-align: right;\">\n",
       "      <th></th>\n",
       "      <th>Price</th>\n",
       "      <th>RegistrationYear</th>\n",
       "      <th>Power</th>\n",
       "      <th>Kilometer</th>\n",
       "      <th>RegistrationMonth</th>\n",
       "      <th>NumberOfPictures</th>\n",
       "      <th>PostalCode</th>\n",
       "    </tr>\n",
       "  </thead>\n",
       "  <tbody>\n",
       "    <tr>\n",
       "      <td>count</td>\n",
       "      <td>354369.000000</td>\n",
       "      <td>354369.000000</td>\n",
       "      <td>354369.000000</td>\n",
       "      <td>354369.000000</td>\n",
       "      <td>354369.000000</td>\n",
       "      <td>354369.0</td>\n",
       "      <td>354369.000000</td>\n",
       "    </tr>\n",
       "    <tr>\n",
       "      <td>mean</td>\n",
       "      <td>4416.656776</td>\n",
       "      <td>2004.234448</td>\n",
       "      <td>110.094337</td>\n",
       "      <td>128211.172535</td>\n",
       "      <td>5.714645</td>\n",
       "      <td>0.0</td>\n",
       "      <td>50508.689087</td>\n",
       "    </tr>\n",
       "    <tr>\n",
       "      <td>std</td>\n",
       "      <td>4514.158514</td>\n",
       "      <td>90.227958</td>\n",
       "      <td>189.850405</td>\n",
       "      <td>37905.341530</td>\n",
       "      <td>3.726421</td>\n",
       "      <td>0.0</td>\n",
       "      <td>25783.096248</td>\n",
       "    </tr>\n",
       "    <tr>\n",
       "      <td>min</td>\n",
       "      <td>0.000000</td>\n",
       "      <td>1000.000000</td>\n",
       "      <td>0.000000</td>\n",
       "      <td>5000.000000</td>\n",
       "      <td>0.000000</td>\n",
       "      <td>0.0</td>\n",
       "      <td>1067.000000</td>\n",
       "    </tr>\n",
       "    <tr>\n",
       "      <td>25%</td>\n",
       "      <td>1050.000000</td>\n",
       "      <td>1999.000000</td>\n",
       "      <td>69.000000</td>\n",
       "      <td>125000.000000</td>\n",
       "      <td>3.000000</td>\n",
       "      <td>0.0</td>\n",
       "      <td>30165.000000</td>\n",
       "    </tr>\n",
       "    <tr>\n",
       "      <td>50%</td>\n",
       "      <td>2700.000000</td>\n",
       "      <td>2003.000000</td>\n",
       "      <td>105.000000</td>\n",
       "      <td>150000.000000</td>\n",
       "      <td>6.000000</td>\n",
       "      <td>0.0</td>\n",
       "      <td>49413.000000</td>\n",
       "    </tr>\n",
       "    <tr>\n",
       "      <td>75%</td>\n",
       "      <td>6400.000000</td>\n",
       "      <td>2008.000000</td>\n",
       "      <td>143.000000</td>\n",
       "      <td>150000.000000</td>\n",
       "      <td>9.000000</td>\n",
       "      <td>0.0</td>\n",
       "      <td>71083.000000</td>\n",
       "    </tr>\n",
       "    <tr>\n",
       "      <td>max</td>\n",
       "      <td>20000.000000</td>\n",
       "      <td>9999.000000</td>\n",
       "      <td>20000.000000</td>\n",
       "      <td>150000.000000</td>\n",
       "      <td>12.000000</td>\n",
       "      <td>0.0</td>\n",
       "      <td>99998.000000</td>\n",
       "    </tr>\n",
       "  </tbody>\n",
       "</table>\n",
       "</div>"
      ],
      "text/plain": [
       "               Price  RegistrationYear          Power      Kilometer  \\\n",
       "count  354369.000000     354369.000000  354369.000000  354369.000000   \n",
       "mean     4416.656776       2004.234448     110.094337  128211.172535   \n",
       "std      4514.158514         90.227958     189.850405   37905.341530   \n",
       "min         0.000000       1000.000000       0.000000    5000.000000   \n",
       "25%      1050.000000       1999.000000      69.000000  125000.000000   \n",
       "50%      2700.000000       2003.000000     105.000000  150000.000000   \n",
       "75%      6400.000000       2008.000000     143.000000  150000.000000   \n",
       "max     20000.000000       9999.000000   20000.000000  150000.000000   \n",
       "\n",
       "       RegistrationMonth  NumberOfPictures     PostalCode  \n",
       "count      354369.000000          354369.0  354369.000000  \n",
       "mean            5.714645               0.0   50508.689087  \n",
       "std             3.726421               0.0   25783.096248  \n",
       "min             0.000000               0.0    1067.000000  \n",
       "25%             3.000000               0.0   30165.000000  \n",
       "50%             6.000000               0.0   49413.000000  \n",
       "75%             9.000000               0.0   71083.000000  \n",
       "max            12.000000               0.0   99998.000000  "
      ]
     },
     "execution_count": 4,
     "metadata": {},
     "output_type": "execute_result"
    }
   ],
   "source": [
    "data.describe()"
   ]
  },
  {
   "cell_type": "code",
   "execution_count": 5,
   "metadata": {},
   "outputs": [
    {
     "data": {
      "text/plain": [
       "array([0])"
      ]
     },
     "execution_count": 5,
     "metadata": {},
     "output_type": "execute_result"
    }
   ],
   "source": [
    "data['NumberOfPictures'].unique()"
   ]
  },
  {
   "cell_type": "code",
   "execution_count": 6,
   "metadata": {},
   "outputs": [
    {
     "data": {
      "text/plain": [
       "array([1993, 2011, 2004, 2001, 2008, 1995, 1980, 2014, 1998, 2005, 1910,\n",
       "       2016, 2007, 2009, 2002, 2018, 1997, 1990, 2017, 1981, 2003, 1994,\n",
       "       1991, 1984, 2006, 1999, 2012, 2010, 2000, 1992, 2013, 1996, 1985,\n",
       "       1989, 2015, 1982, 1976, 1983, 1973, 1111, 1969, 1971, 1987, 1986,\n",
       "       1988, 1970, 1965, 1945, 1925, 1974, 1979, 1955, 1978, 1972, 1968,\n",
       "       1977, 1961, 1960, 1966, 1975, 1963, 1964, 5000, 1954, 1958, 1967,\n",
       "       1959, 9999, 1956, 3200, 1000, 1941, 8888, 1500, 2200, 4100, 1962,\n",
       "       1929, 1957, 1940, 3000, 2066, 1949, 2019, 1937, 1951, 1800, 1953,\n",
       "       1234, 8000, 5300, 9000, 2900, 6000, 5900, 5911, 1933, 1400, 1950,\n",
       "       4000, 1948, 1952, 1200, 8500, 1932, 1255, 3700, 3800, 4800, 1942,\n",
       "       7000, 1935, 1936, 6500, 1923, 2290, 2500, 1930, 1001, 9450, 1944,\n",
       "       1943, 1934, 1938, 1688, 2800, 1253, 1928, 1919, 5555, 5600, 1600,\n",
       "       2222, 1039, 9996, 1300, 8455, 1931, 1915, 4500, 1920, 1602, 7800,\n",
       "       9229, 1947, 1927, 7100, 8200, 1946, 7500, 3500])"
      ]
     },
     "execution_count": 6,
     "metadata": {},
     "output_type": "execute_result"
    }
   ],
   "source": [
    "data['RegistrationYear'].unique()"
   ]
  },
  {
   "cell_type": "code",
   "execution_count": 7,
   "metadata": {},
   "outputs": [
    {
     "data": {
      "text/plain": [
       "0        40225\n",
       "75       24023\n",
       "60       15897\n",
       "150      14590\n",
       "101      13298\n",
       "         ...  \n",
       "16311        1\n",
       "1360         1\n",
       "1968         1\n",
       "6226         1\n",
       "6006         1\n",
       "Name: Power, Length: 712, dtype: int64"
      ]
     },
     "execution_count": 7,
     "metadata": {},
     "output_type": "execute_result"
    }
   ],
   "source": [
    "data['Power'].value_counts()"
   ]
  },
  {
   "cell_type": "markdown",
   "metadata": {},
   "source": [
    "**Вывод**\n",
    "\n",
    "Из первичного анализа данных, можно заметить, что \n",
    "- все объявления без фотографий\n",
    "- индекс не понадобится для ислледования стоимости автомобиля\n",
    "- в столбце RegistrationYear и Power имеются аномальные значения\n",
    "- для некоторых автомобилей неуказана цена\n",
    "- данные об анкете, об активности пользователя не несут ценности для данной работы\n",
    "- месяц регистрации автомобиля не так важен, обычно берут во внимание только год\n",
    "- много пропусков"
   ]
  },
  {
   "cell_type": "markdown",
   "metadata": {},
   "source": [
    "### Заполнение пропусков в данных"
   ]
  },
  {
   "cell_type": "code",
   "execution_count": 8,
   "metadata": {},
   "outputs": [
    {
     "data": {
      "text/html": [
       "<div>\n",
       "<style scoped>\n",
       "    .dataframe tbody tr th:only-of-type {\n",
       "        vertical-align: middle;\n",
       "    }\n",
       "\n",
       "    .dataframe tbody tr th {\n",
       "        vertical-align: top;\n",
       "    }\n",
       "\n",
       "    .dataframe thead th {\n",
       "        text-align: right;\n",
       "    }\n",
       "</style>\n",
       "<table border=\"1\" class=\"dataframe\">\n",
       "  <thead>\n",
       "    <tr style=\"text-align: right;\">\n",
       "      <th></th>\n",
       "      <th>Price</th>\n",
       "      <th>VehicleType</th>\n",
       "      <th>RegistrationYear</th>\n",
       "      <th>Gearbox</th>\n",
       "      <th>Power</th>\n",
       "      <th>Model</th>\n",
       "      <th>Kilometer</th>\n",
       "      <th>FuelType</th>\n",
       "      <th>Brand</th>\n",
       "      <th>NotRepaired</th>\n",
       "    </tr>\n",
       "  </thead>\n",
       "  <tbody>\n",
       "    <tr>\n",
       "      <td>104804</td>\n",
       "      <td>5950</td>\n",
       "      <td>small</td>\n",
       "      <td>2010</td>\n",
       "      <td>manual</td>\n",
       "      <td>60</td>\n",
       "      <td>polo</td>\n",
       "      <td>125000</td>\n",
       "      <td>petrol</td>\n",
       "      <td>volkswagen</td>\n",
       "      <td>no</td>\n",
       "    </tr>\n",
       "    <tr>\n",
       "      <td>348447</td>\n",
       "      <td>7200</td>\n",
       "      <td>small</td>\n",
       "      <td>2009</td>\n",
       "      <td>manual</td>\n",
       "      <td>95</td>\n",
       "      <td>one</td>\n",
       "      <td>100000</td>\n",
       "      <td>petrol</td>\n",
       "      <td>mini</td>\n",
       "      <td>NaN</td>\n",
       "    </tr>\n",
       "    <tr>\n",
       "      <td>48216</td>\n",
       "      <td>9950</td>\n",
       "      <td>convertible</td>\n",
       "      <td>1996</td>\n",
       "      <td>manual</td>\n",
       "      <td>90</td>\n",
       "      <td>mx_reihe</td>\n",
       "      <td>70000</td>\n",
       "      <td>petrol</td>\n",
       "      <td>mazda</td>\n",
       "      <td>no</td>\n",
       "    </tr>\n",
       "    <tr>\n",
       "      <td>338111</td>\n",
       "      <td>2900</td>\n",
       "      <td>sedan</td>\n",
       "      <td>2000</td>\n",
       "      <td>manual</td>\n",
       "      <td>150</td>\n",
       "      <td>a6</td>\n",
       "      <td>150000</td>\n",
       "      <td>gasoline</td>\n",
       "      <td>audi</td>\n",
       "      <td>no</td>\n",
       "    </tr>\n",
       "    <tr>\n",
       "      <td>251226</td>\n",
       "      <td>1950</td>\n",
       "      <td>NaN</td>\n",
       "      <td>2005</td>\n",
       "      <td>NaN</td>\n",
       "      <td>0</td>\n",
       "      <td>NaN</td>\n",
       "      <td>150000</td>\n",
       "      <td>NaN</td>\n",
       "      <td>renault</td>\n",
       "      <td>NaN</td>\n",
       "    </tr>\n",
       "  </tbody>\n",
       "</table>\n",
       "</div>"
      ],
      "text/plain": [
       "        Price  VehicleType  RegistrationYear Gearbox  Power     Model  \\\n",
       "104804   5950        small              2010  manual     60      polo   \n",
       "348447   7200        small              2009  manual     95       one   \n",
       "48216    9950  convertible              1996  manual     90  mx_reihe   \n",
       "338111   2900        sedan              2000  manual    150        a6   \n",
       "251226   1950          NaN              2005     NaN      0       NaN   \n",
       "\n",
       "        Kilometer  FuelType       Brand NotRepaired  \n",
       "104804     125000    petrol  volkswagen          no  \n",
       "348447     100000    petrol        mini         NaN  \n",
       "48216       70000    petrol       mazda          no  \n",
       "338111     150000  gasoline        audi          no  \n",
       "251226     150000       NaN     renault         NaN  "
      ]
     },
     "execution_count": 8,
     "metadata": {},
     "output_type": "execute_result"
    }
   ],
   "source": [
    "#удалим ненужные столбцы\n",
    "data = data.drop(columns=['NumberOfPictures', 'PostalCode', 'DateCrawled', 'DateCreated', 'LastSeen', 'RegistrationMonth'])\n",
    "data.sample(5)"
   ]
  },
  {
   "cell_type": "code",
   "execution_count": 9,
   "metadata": {},
   "outputs": [
    {
     "data": {
      "text/plain": [
       "count    354198.000000\n",
       "mean       2003.084789\n",
       "std           7.536418\n",
       "min        1910.000000\n",
       "25%        1999.000000\n",
       "50%        2003.000000\n",
       "75%        2008.000000\n",
       "max        2019.000000\n",
       "Name: RegistrationYear, dtype: float64"
      ]
     },
     "execution_count": 9,
     "metadata": {},
     "output_type": "execute_result"
    }
   ],
   "source": [
    "#зададим границы для RegistrationYear (год патента на первый автомобиль - 1886)\n",
    "data = data.query('1886 <= RegistrationYear <= 2021')\n",
    "data['RegistrationYear'].describe()"
   ]
  },
  {
   "cell_type": "code",
   "execution_count": 10,
   "metadata": {},
   "outputs": [
    {
     "data": {
      "text/plain": [
       "count    199956.000000\n",
       "mean        149.807928\n",
       "std          63.370673\n",
       "min         100.000000\n",
       "25%         115.000000\n",
       "50%         140.000000\n",
       "75%         170.000000\n",
       "max        2000.000000\n",
       "Name: Power, dtype: float64"
      ]
     },
     "execution_count": 10,
     "metadata": {},
     "output_type": "execute_result"
    }
   ],
   "source": [
    "#зададим границы для Power\n",
    "data = data.query('100 <= Power <= 2000')\n",
    "data['Power'].describe()"
   ]
  },
  {
   "cell_type": "code",
   "execution_count": 11,
   "metadata": {},
   "outputs": [],
   "source": [
    "#удалим пропуски в Price\n",
    "data.dropna(subset=['Price'], inplace=True)"
   ]
  },
  {
   "cell_type": "code",
   "execution_count": 12,
   "metadata": {},
   "outputs": [
    {
     "data": {
      "text/plain": [
       "Price                   0\n",
       "VehicleType         12011\n",
       "RegistrationYear        0\n",
       "Gearbox              2880\n",
       "Power                   0\n",
       "Model                7945\n",
       "Kilometer               0\n",
       "FuelType            11790\n",
       "Brand                   0\n",
       "NotRepaired         27972\n",
       "dtype: int64"
      ]
     },
     "execution_count": 12,
     "metadata": {},
     "output_type": "execute_result"
    }
   ],
   "source": [
    "data.isna().sum()"
   ]
  },
  {
   "cell_type": "markdown",
   "metadata": {},
   "source": [
    "- В столбце VehicleType пропущенные значения заменим на популярный вариант.\n",
    "- Для столбца Gearbox в местах попусков установим значение 'manual'.\n",
    "- Для Model вместо NaN установим значение 'unknown'.\n",
    "- В FuelType можно заполнить пропуски на популярный тип.\n",
    "- Для NotRepaired на месте пропусков установим значение 'yes'."
   ]
  },
  {
   "cell_type": "code",
   "execution_count": 13,
   "metadata": {},
   "outputs": [],
   "source": [
    "#заменим NaN в Gearbox\n",
    "data['Gearbox'] = data['Gearbox'].fillna('manual')"
   ]
  },
  {
   "cell_type": "code",
   "execution_count": 14,
   "metadata": {},
   "outputs": [],
   "source": [
    "#заменим NaN в Model\n",
    "data['Model'] = data['Model'].fillna('unknown')"
   ]
  },
  {
   "cell_type": "code",
   "execution_count": 15,
   "metadata": {},
   "outputs": [
    {
     "data": {
      "text/plain": [
       "no     153640\n",
       "yes     18344\n",
       "Name: NotRepaired, dtype: int64"
      ]
     },
     "execution_count": 15,
     "metadata": {},
     "output_type": "execute_result"
    }
   ],
   "source": [
    "data['NotRepaired'].value_counts()"
   ]
  },
  {
   "cell_type": "code",
   "execution_count": 16,
   "metadata": {},
   "outputs": [],
   "source": [
    "#заменим NaN в NotRepaired  \n",
    "data['NotRepaired'] = data['NotRepaired'].fillna('yes')"
   ]
  },
  {
   "cell_type": "code",
   "execution_count": 17,
   "metadata": {},
   "outputs": [
    {
     "data": {
      "text/plain": [
       "sedan          66120\n",
       "wagon          53130\n",
       "bus            20736\n",
       "convertible    14691\n",
       "coupe          13226\n",
       "suv            10065\n",
       "small           8603\n",
       "other           1374\n",
       "Name: VehicleType, dtype: int64"
      ]
     },
     "execution_count": 17,
     "metadata": {},
     "output_type": "execute_result"
    }
   ],
   "source": [
    "data['VehicleType'].value_counts()"
   ]
  },
  {
   "cell_type": "code",
   "execution_count": 18,
   "metadata": {},
   "outputs": [],
   "source": [
    "#заменим NaN в VehicleType на популярный вариант\n",
    "data['VehicleType'] = data['VehicleType'].fillna('sedan')"
   ]
  },
  {
   "cell_type": "code",
   "execution_count": 19,
   "metadata": {},
   "outputs": [
    {
     "data": {
      "text/plain": [
       "petrol      107881\n",
       "gasoline     75759\n",
       "lpg           4132\n",
       "cng            265\n",
       "hybrid          77\n",
       "other           38\n",
       "electric        14\n",
       "Name: FuelType, dtype: int64"
      ]
     },
     "execution_count": 19,
     "metadata": {},
     "output_type": "execute_result"
    }
   ],
   "source": [
    "data['FuelType'].value_counts()"
   ]
  },
  {
   "cell_type": "code",
   "execution_count": 20,
   "metadata": {},
   "outputs": [],
   "source": [
    "#заменим NaN в FuelType на популярный вариант\n",
    "data['FuelType'] = data['FuelType'].fillna('petrol')"
   ]
  },
  {
   "cell_type": "code",
   "execution_count": 21,
   "metadata": {},
   "outputs": [
    {
     "data": {
      "text/plain": [
       "Price               0\n",
       "VehicleType         0\n",
       "RegistrationYear    0\n",
       "Gearbox             0\n",
       "Power               0\n",
       "Model               0\n",
       "Kilometer           0\n",
       "FuelType            0\n",
       "Brand               0\n",
       "NotRepaired         0\n",
       "dtype: int64"
      ]
     },
     "execution_count": 21,
     "metadata": {},
     "output_type": "execute_result"
    }
   ],
   "source": [
    "data.isna().sum()"
   ]
  },
  {
   "cell_type": "markdown",
   "metadata": {},
   "source": [
    "## Обучение моделей"
   ]
  },
  {
   "cell_type": "markdown",
   "metadata": {},
   "source": [
    "В обучении будут использованы следующие модели:\n",
    "- LinearRegression\n",
    "- DecisionTreeRegressor\n",
    "- CatBoostRegressor\n",
    "- LightGBM\n",
    "\n",
    "В качестве метрики для всех моделей будет RMSE. Подготовим признаки, применим OHE"
   ]
  },
  {
   "cell_type": "code",
   "execution_count": 22,
   "metadata": {},
   "outputs": [],
   "source": [
    "data[['VehicleType', 'Gearbox', 'FuelType', 'Brand', 'NotRepaired', 'Model']]= data[['VehicleType', 'Gearbox', 'FuelType', 'Brand', 'NotRepaired', 'Model']].astype('category')"
   ]
  },
  {
   "cell_type": "code",
   "execution_count": 23,
   "metadata": {},
   "outputs": [
    {
     "name": "stdout",
     "output_type": "stream",
     "text": [
      "<class 'pandas.core.frame.DataFrame'>\n",
      "Int64Index: 199956 entries, 1 to 354368\n",
      "Data columns (total 10 columns):\n",
      "Price               199956 non-null int64\n",
      "VehicleType         199956 non-null category\n",
      "RegistrationYear    199956 non-null int64\n",
      "Gearbox             199956 non-null category\n",
      "Power               199956 non-null int64\n",
      "Model               199956 non-null category\n",
      "Kilometer           199956 non-null int64\n",
      "FuelType            199956 non-null category\n",
      "Brand               199956 non-null category\n",
      "NotRepaired         199956 non-null category\n",
      "dtypes: category(6), int64(4)\n",
      "memory usage: 9.0 MB\n"
     ]
    },
    {
     "data": {
      "text/html": [
       "<div>\n",
       "<style scoped>\n",
       "    .dataframe tbody tr th:only-of-type {\n",
       "        vertical-align: middle;\n",
       "    }\n",
       "\n",
       "    .dataframe tbody tr th {\n",
       "        vertical-align: top;\n",
       "    }\n",
       "\n",
       "    .dataframe thead th {\n",
       "        text-align: right;\n",
       "    }\n",
       "</style>\n",
       "<table border=\"1\" class=\"dataframe\">\n",
       "  <thead>\n",
       "    <tr style=\"text-align: right;\">\n",
       "      <th></th>\n",
       "      <th>Price</th>\n",
       "      <th>VehicleType</th>\n",
       "      <th>RegistrationYear</th>\n",
       "      <th>Gearbox</th>\n",
       "      <th>Power</th>\n",
       "      <th>Model</th>\n",
       "      <th>Kilometer</th>\n",
       "      <th>FuelType</th>\n",
       "      <th>Brand</th>\n",
       "      <th>NotRepaired</th>\n",
       "    </tr>\n",
       "  </thead>\n",
       "  <tbody>\n",
       "    <tr>\n",
       "      <td>262293</td>\n",
       "      <td>7000</td>\n",
       "      <td>sedan</td>\n",
       "      <td>2017</td>\n",
       "      <td>manual</td>\n",
       "      <td>170</td>\n",
       "      <td>unknown</td>\n",
       "      <td>150000</td>\n",
       "      <td>gasoline</td>\n",
       "      <td>hyundai</td>\n",
       "      <td>yes</td>\n",
       "    </tr>\n",
       "    <tr>\n",
       "      <td>46995</td>\n",
       "      <td>2100</td>\n",
       "      <td>wagon</td>\n",
       "      <td>2002</td>\n",
       "      <td>manual</td>\n",
       "      <td>101</td>\n",
       "      <td>focus</td>\n",
       "      <td>150000</td>\n",
       "      <td>petrol</td>\n",
       "      <td>ford</td>\n",
       "      <td>no</td>\n",
       "    </tr>\n",
       "    <tr>\n",
       "      <td>179355</td>\n",
       "      <td>13800</td>\n",
       "      <td>sedan</td>\n",
       "      <td>2010</td>\n",
       "      <td>auto</td>\n",
       "      <td>177</td>\n",
       "      <td>1er</td>\n",
       "      <td>125000</td>\n",
       "      <td>gasoline</td>\n",
       "      <td>bmw</td>\n",
       "      <td>no</td>\n",
       "    </tr>\n",
       "    <tr>\n",
       "      <td>14632</td>\n",
       "      <td>2250</td>\n",
       "      <td>wagon</td>\n",
       "      <td>2008</td>\n",
       "      <td>manual</td>\n",
       "      <td>121</td>\n",
       "      <td>other</td>\n",
       "      <td>150000</td>\n",
       "      <td>lpg</td>\n",
       "      <td>chevrolet</td>\n",
       "      <td>no</td>\n",
       "    </tr>\n",
       "    <tr>\n",
       "      <td>347208</td>\n",
       "      <td>13900</td>\n",
       "      <td>coupe</td>\n",
       "      <td>1994</td>\n",
       "      <td>auto</td>\n",
       "      <td>286</td>\n",
       "      <td>other</td>\n",
       "      <td>150000</td>\n",
       "      <td>petrol</td>\n",
       "      <td>bmw</td>\n",
       "      <td>no</td>\n",
       "    </tr>\n",
       "  </tbody>\n",
       "</table>\n",
       "</div>"
      ],
      "text/plain": [
       "        Price VehicleType  RegistrationYear Gearbox  Power    Model  \\\n",
       "262293   7000       sedan              2017  manual    170  unknown   \n",
       "46995    2100       wagon              2002  manual    101    focus   \n",
       "179355  13800       sedan              2010    auto    177      1er   \n",
       "14632    2250       wagon              2008  manual    121    other   \n",
       "347208  13900       coupe              1994    auto    286    other   \n",
       "\n",
       "        Kilometer  FuelType      Brand NotRepaired  \n",
       "262293     150000  gasoline    hyundai         yes  \n",
       "46995      150000    petrol       ford          no  \n",
       "179355     125000  gasoline        bmw          no  \n",
       "14632      150000       lpg  chevrolet          no  \n",
       "347208     150000    petrol        bmw          no  "
      ]
     },
     "execution_count": 23,
     "metadata": {},
     "output_type": "execute_result"
    }
   ],
   "source": [
    "data.info()\n",
    "data.sample(5)"
   ]
  },
  {
   "cell_type": "code",
   "execution_count": 24,
   "metadata": {},
   "outputs": [
    {
     "data": {
      "text/html": [
       "<div>\n",
       "<style scoped>\n",
       "    .dataframe tbody tr th:only-of-type {\n",
       "        vertical-align: middle;\n",
       "    }\n",
       "\n",
       "    .dataframe tbody tr th {\n",
       "        vertical-align: top;\n",
       "    }\n",
       "\n",
       "    .dataframe thead th {\n",
       "        text-align: right;\n",
       "    }\n",
       "</style>\n",
       "<table border=\"1\" class=\"dataframe\">\n",
       "  <thead>\n",
       "    <tr style=\"text-align: right;\">\n",
       "      <th></th>\n",
       "      <th>Price</th>\n",
       "      <th>RegistrationYear</th>\n",
       "      <th>Power</th>\n",
       "      <th>Kilometer</th>\n",
       "      <th>VehicleType_convertible</th>\n",
       "      <th>VehicleType_coupe</th>\n",
       "      <th>VehicleType_other</th>\n",
       "      <th>VehicleType_sedan</th>\n",
       "      <th>VehicleType_small</th>\n",
       "      <th>VehicleType_suv</th>\n",
       "      <th>...</th>\n",
       "      <th>Brand_skoda</th>\n",
       "      <th>Brand_smart</th>\n",
       "      <th>Brand_sonstige_autos</th>\n",
       "      <th>Brand_subaru</th>\n",
       "      <th>Brand_suzuki</th>\n",
       "      <th>Brand_toyota</th>\n",
       "      <th>Brand_trabant</th>\n",
       "      <th>Brand_volkswagen</th>\n",
       "      <th>Brand_volvo</th>\n",
       "      <th>NotRepaired_yes</th>\n",
       "    </tr>\n",
       "  </thead>\n",
       "  <tbody>\n",
       "    <tr>\n",
       "      <td>104327</td>\n",
       "      <td>5900</td>\n",
       "      <td>2005</td>\n",
       "      <td>116</td>\n",
       "      <td>125000</td>\n",
       "      <td>0</td>\n",
       "      <td>0</td>\n",
       "      <td>0</td>\n",
       "      <td>0</td>\n",
       "      <td>0</td>\n",
       "      <td>0</td>\n",
       "      <td>...</td>\n",
       "      <td>0</td>\n",
       "      <td>0</td>\n",
       "      <td>0</td>\n",
       "      <td>0</td>\n",
       "      <td>0</td>\n",
       "      <td>0</td>\n",
       "      <td>0</td>\n",
       "      <td>1</td>\n",
       "      <td>0</td>\n",
       "      <td>0</td>\n",
       "    </tr>\n",
       "    <tr>\n",
       "      <td>210860</td>\n",
       "      <td>5200</td>\n",
       "      <td>2002</td>\n",
       "      <td>180</td>\n",
       "      <td>150000</td>\n",
       "      <td>0</td>\n",
       "      <td>0</td>\n",
       "      <td>0</td>\n",
       "      <td>0</td>\n",
       "      <td>0</td>\n",
       "      <td>1</td>\n",
       "      <td>...</td>\n",
       "      <td>0</td>\n",
       "      <td>0</td>\n",
       "      <td>0</td>\n",
       "      <td>0</td>\n",
       "      <td>0</td>\n",
       "      <td>0</td>\n",
       "      <td>0</td>\n",
       "      <td>0</td>\n",
       "      <td>0</td>\n",
       "      <td>0</td>\n",
       "    </tr>\n",
       "    <tr>\n",
       "      <td>193434</td>\n",
       "      <td>2300</td>\n",
       "      <td>2005</td>\n",
       "      <td>107</td>\n",
       "      <td>150000</td>\n",
       "      <td>0</td>\n",
       "      <td>0</td>\n",
       "      <td>0</td>\n",
       "      <td>0</td>\n",
       "      <td>0</td>\n",
       "      <td>0</td>\n",
       "      <td>...</td>\n",
       "      <td>0</td>\n",
       "      <td>0</td>\n",
       "      <td>0</td>\n",
       "      <td>0</td>\n",
       "      <td>0</td>\n",
       "      <td>0</td>\n",
       "      <td>0</td>\n",
       "      <td>0</td>\n",
       "      <td>0</td>\n",
       "      <td>0</td>\n",
       "    </tr>\n",
       "    <tr>\n",
       "      <td>105170</td>\n",
       "      <td>9750</td>\n",
       "      <td>2003</td>\n",
       "      <td>340</td>\n",
       "      <td>150000</td>\n",
       "      <td>0</td>\n",
       "      <td>0</td>\n",
       "      <td>0</td>\n",
       "      <td>1</td>\n",
       "      <td>0</td>\n",
       "      <td>0</td>\n",
       "      <td>...</td>\n",
       "      <td>0</td>\n",
       "      <td>0</td>\n",
       "      <td>0</td>\n",
       "      <td>0</td>\n",
       "      <td>0</td>\n",
       "      <td>0</td>\n",
       "      <td>0</td>\n",
       "      <td>0</td>\n",
       "      <td>0</td>\n",
       "      <td>1</td>\n",
       "    </tr>\n",
       "    <tr>\n",
       "      <td>308824</td>\n",
       "      <td>550</td>\n",
       "      <td>1997</td>\n",
       "      <td>101</td>\n",
       "      <td>150000</td>\n",
       "      <td>0</td>\n",
       "      <td>0</td>\n",
       "      <td>0</td>\n",
       "      <td>0</td>\n",
       "      <td>0</td>\n",
       "      <td>0</td>\n",
       "      <td>...</td>\n",
       "      <td>0</td>\n",
       "      <td>0</td>\n",
       "      <td>0</td>\n",
       "      <td>0</td>\n",
       "      <td>0</td>\n",
       "      <td>0</td>\n",
       "      <td>0</td>\n",
       "      <td>1</td>\n",
       "      <td>0</td>\n",
       "      <td>0</td>\n",
       "    </tr>\n",
       "  </tbody>\n",
       "</table>\n",
       "<p>5 rows × 292 columns</p>\n",
       "</div>"
      ],
      "text/plain": [
       "        Price  RegistrationYear  Power  Kilometer  VehicleType_convertible  \\\n",
       "104327   5900              2005    116     125000                        0   \n",
       "210860   5200              2002    180     150000                        0   \n",
       "193434   2300              2005    107     150000                        0   \n",
       "105170   9750              2003    340     150000                        0   \n",
       "308824    550              1997    101     150000                        0   \n",
       "\n",
       "        VehicleType_coupe  VehicleType_other  VehicleType_sedan  \\\n",
       "104327                  0                  0                  0   \n",
       "210860                  0                  0                  0   \n",
       "193434                  0                  0                  0   \n",
       "105170                  0                  0                  1   \n",
       "308824                  0                  0                  0   \n",
       "\n",
       "        VehicleType_small  VehicleType_suv  ...  Brand_skoda  Brand_smart  \\\n",
       "104327                  0                0  ...            0            0   \n",
       "210860                  0                1  ...            0            0   \n",
       "193434                  0                0  ...            0            0   \n",
       "105170                  0                0  ...            0            0   \n",
       "308824                  0                0  ...            0            0   \n",
       "\n",
       "        Brand_sonstige_autos  Brand_subaru  Brand_suzuki  Brand_toyota  \\\n",
       "104327                     0             0             0             0   \n",
       "210860                     0             0             0             0   \n",
       "193434                     0             0             0             0   \n",
       "105170                     0             0             0             0   \n",
       "308824                     0             0             0             0   \n",
       "\n",
       "        Brand_trabant  Brand_volkswagen  Brand_volvo  NotRepaired_yes  \n",
       "104327              0                 1            0                0  \n",
       "210860              0                 0            0                0  \n",
       "193434              0                 0            0                0  \n",
       "105170              0                 0            0                1  \n",
       "308824              0                 1            0                0  \n",
       "\n",
       "[5 rows x 292 columns]"
      ]
     },
     "execution_count": 24,
     "metadata": {},
     "output_type": "execute_result"
    }
   ],
   "source": [
    "#OHE\n",
    "data_ohe = pd.get_dummies(data, drop_first='true', prefix_sep='_')\n",
    "data_ohe.sample(5)"
   ]
  },
  {
   "cell_type": "code",
   "execution_count": 25,
   "metadata": {},
   "outputs": [],
   "source": [
    "features = data_ohe.drop('Price', axis=1)\n",
    "target = data_ohe['Price']"
   ]
  },
  {
   "cell_type": "code",
   "execution_count": 26,
   "metadata": {},
   "outputs": [],
   "source": [
    "features_train, features_valid, target_train, target_valid = train_test_split(\n",
    "    features, target, test_size=0.25, random_state=12345)"
   ]
  },
  {
   "cell_type": "markdown",
   "metadata": {},
   "source": [
    "### Линейная регрессия"
   ]
  },
  {
   "cell_type": "code",
   "execution_count": 27,
   "metadata": {},
   "outputs": [
    {
     "name": "stdout",
     "output_type": "stream",
     "text": [
      "18.875647999999998\n"
     ]
    }
   ],
   "source": [
    "start_time = time.clock()\n",
    "\n",
    "model = LinearRegression()\n",
    "model.fit(features_train, target_train)\n",
    "lr_time_train = time.clock() - start_time\n",
    "print(lr_time_train)"
   ]
  },
  {
   "cell_type": "code",
   "execution_count": 28,
   "metadata": {},
   "outputs": [
    {
     "name": "stdout",
     "output_type": "stream",
     "text": [
      "0.2543380000000006\n"
     ]
    }
   ],
   "source": [
    "start_time = time.clock()\n",
    "predicted_valid = model.predict(features_valid)\n",
    "lr_time_pred = time.clock() - start_time\n",
    "print(lr_time_pred)"
   ]
  },
  {
   "cell_type": "code",
   "execution_count": 29,
   "metadata": {},
   "outputs": [
    {
     "name": "stdout",
     "output_type": "stream",
     "text": [
      "Linear Regression\n",
      "RMSE = 3146.6851751508048\n"
     ]
    }
   ],
   "source": [
    "mse_lr = mean_squared_error(target_valid, predicted_valid)\n",
    "rmse_lr = mse_lr ** 0.5\n",
    "print(\"Linear Regression\")\n",
    "print(\"RMSE =\", rmse_lr)"
   ]
  },
  {
   "cell_type": "markdown",
   "metadata": {},
   "source": [
    "### Случайный лес"
   ]
  },
  {
   "cell_type": "code",
   "execution_count": 30,
   "metadata": {},
   "outputs": [
    {
     "name": "stdout",
     "output_type": "stream",
     "text": [
      "173.268091\n"
     ]
    }
   ],
   "source": [
    "start_time = time.clock()\n",
    "\n",
    "model = RandomForestRegressor(n_estimators=80, max_depth=11, random_state=12345)\n",
    "model.fit(features_train, target_train)\n",
    "rfr_time_train = time.clock() - start_time\n",
    "print(rfr_time_train)"
   ]
  },
  {
   "cell_type": "code",
   "execution_count": 31,
   "metadata": {},
   "outputs": [
    {
     "name": "stdout",
     "output_type": "stream",
     "text": [
      "0.6338830000000257\n"
     ]
    }
   ],
   "source": [
    "start_time = time.clock()\n",
    "predicted_valid = model.predict(features_valid)\n",
    "rfr_time_pred = time.clock() - start_time\n",
    "print(rfr_time_pred)"
   ]
  },
  {
   "cell_type": "code",
   "execution_count": 32,
   "metadata": {},
   "outputs": [
    {
     "name": "stdout",
     "output_type": "stream",
     "text": [
      "Linear Regression\n",
      "RMSE = 2251.7328740075204\n"
     ]
    }
   ],
   "source": [
    "mse_rfr = mean_squared_error(target_valid, predicted_valid)\n",
    "rmse_rfr = mse_rfr ** 0.5\n",
    "print(\"Linear Regression\")\n",
    "print(\"RMSE =\", rmse_rfr)"
   ]
  },
  {
   "cell_type": "code",
   "execution_count": 33,
   "metadata": {},
   "outputs": [
    {
     "name": "stdout",
     "output_type": "stream",
     "text": [
      "# Tuning hyper-parameters for root_mean_squared_error\n",
      "\n"
     ]
    },
    {
     "ename": "KeyboardInterrupt",
     "evalue": "",
     "output_type": "error",
     "traceback": [
      "\u001b[0;31m---------------------------------------------------------------------------\u001b[0m",
      "\u001b[0;31mKeyboardInterrupt\u001b[0m                         Traceback (most recent call last)",
      "\u001b[0;32m<ipython-input-33-5de16b01d41f>\u001b[0m in \u001b[0;36m<module>\u001b[0;34m\u001b[0m\n\u001b[1;32m      9\u001b[0m \u001b[0mprint\u001b[0m\u001b[0;34m(\u001b[0m\u001b[0;34m)\u001b[0m\u001b[0;34m\u001b[0m\u001b[0;34m\u001b[0m\u001b[0m\n\u001b[1;32m     10\u001b[0m \u001b[0mclf\u001b[0m \u001b[0;34m=\u001b[0m \u001b[0mGridSearchCV\u001b[0m\u001b[0;34m(\u001b[0m\u001b[0mregressor\u001b[0m\u001b[0;34m,\u001b[0m \u001b[0mhyperparams\u001b[0m\u001b[0;34m,\u001b[0m \u001b[0mscoring\u001b[0m\u001b[0;34m=\u001b[0m\u001b[0;34m'neg_mean_squared_error'\u001b[0m\u001b[0;34m)\u001b[0m\u001b[0;34m\u001b[0m\u001b[0;34m\u001b[0m\u001b[0m\n\u001b[0;32m---> 11\u001b[0;31m \u001b[0mclf\u001b[0m\u001b[0;34m.\u001b[0m\u001b[0mfit\u001b[0m\u001b[0;34m(\u001b[0m\u001b[0mfeatures_train\u001b[0m\u001b[0;34m,\u001b[0m \u001b[0mtarget_train\u001b[0m\u001b[0;34m)\u001b[0m\u001b[0;34m\u001b[0m\u001b[0;34m\u001b[0m\u001b[0m\n\u001b[0m\u001b[1;32m     12\u001b[0m \u001b[0mprint\u001b[0m\u001b[0;34m(\u001b[0m\u001b[0;34m\"Best parameters set found on development set:\"\u001b[0m\u001b[0;34m)\u001b[0m\u001b[0;34m\u001b[0m\u001b[0;34m\u001b[0m\u001b[0m\n\u001b[1;32m     13\u001b[0m \u001b[0mprint\u001b[0m\u001b[0;34m(\u001b[0m\u001b[0;34m)\u001b[0m\u001b[0;34m\u001b[0m\u001b[0;34m\u001b[0m\u001b[0m\n",
      "\u001b[0;32m~/.local/lib/python3.7/site-packages/sklearn/model_selection/_search.py\u001b[0m in \u001b[0;36mfit\u001b[0;34m(self, X, y, groups, **fit_params)\u001b[0m\n\u001b[1;32m    889\u001b[0m                 \u001b[0;32mreturn\u001b[0m \u001b[0mresults\u001b[0m\u001b[0;34m\u001b[0m\u001b[0;34m\u001b[0m\u001b[0m\n\u001b[1;32m    890\u001b[0m \u001b[0;34m\u001b[0m\u001b[0m\n\u001b[0;32m--> 891\u001b[0;31m             \u001b[0mself\u001b[0m\u001b[0;34m.\u001b[0m\u001b[0m_run_search\u001b[0m\u001b[0;34m(\u001b[0m\u001b[0mevaluate_candidates\u001b[0m\u001b[0;34m)\u001b[0m\u001b[0;34m\u001b[0m\u001b[0;34m\u001b[0m\u001b[0m\n\u001b[0m\u001b[1;32m    892\u001b[0m \u001b[0;34m\u001b[0m\u001b[0m\n\u001b[1;32m    893\u001b[0m             \u001b[0;31m# multimetric is determined here because in the case of a callable\u001b[0m\u001b[0;34m\u001b[0m\u001b[0;34m\u001b[0m\u001b[0;34m\u001b[0m\u001b[0m\n",
      "\u001b[0;32m~/.local/lib/python3.7/site-packages/sklearn/model_selection/_search.py\u001b[0m in \u001b[0;36m_run_search\u001b[0;34m(self, evaluate_candidates)\u001b[0m\n\u001b[1;32m   1390\u001b[0m     \u001b[0;32mdef\u001b[0m \u001b[0m_run_search\u001b[0m\u001b[0;34m(\u001b[0m\u001b[0mself\u001b[0m\u001b[0;34m,\u001b[0m \u001b[0mevaluate_candidates\u001b[0m\u001b[0;34m)\u001b[0m\u001b[0;34m:\u001b[0m\u001b[0;34m\u001b[0m\u001b[0;34m\u001b[0m\u001b[0m\n\u001b[1;32m   1391\u001b[0m         \u001b[0;34m\"\"\"Search all candidates in param_grid\"\"\"\u001b[0m\u001b[0;34m\u001b[0m\u001b[0;34m\u001b[0m\u001b[0m\n\u001b[0;32m-> 1392\u001b[0;31m         \u001b[0mevaluate_candidates\u001b[0m\u001b[0;34m(\u001b[0m\u001b[0mParameterGrid\u001b[0m\u001b[0;34m(\u001b[0m\u001b[0mself\u001b[0m\u001b[0;34m.\u001b[0m\u001b[0mparam_grid\u001b[0m\u001b[0;34m)\u001b[0m\u001b[0;34m)\u001b[0m\u001b[0;34m\u001b[0m\u001b[0;34m\u001b[0m\u001b[0m\n\u001b[0m\u001b[1;32m   1393\u001b[0m \u001b[0;34m\u001b[0m\u001b[0m\n\u001b[1;32m   1394\u001b[0m \u001b[0;34m\u001b[0m\u001b[0m\n",
      "\u001b[0;32m~/.local/lib/python3.7/site-packages/sklearn/model_selection/_search.py\u001b[0m in \u001b[0;36mevaluate_candidates\u001b[0;34m(candidate_params, cv, more_results)\u001b[0m\n\u001b[1;32m    849\u001b[0m                     )\n\u001b[1;32m    850\u001b[0m                     for (cand_idx, parameters), (split_idx, (train, test)) in product(\n\u001b[0;32m--> 851\u001b[0;31m                         \u001b[0menumerate\u001b[0m\u001b[0;34m(\u001b[0m\u001b[0mcandidate_params\u001b[0m\u001b[0;34m)\u001b[0m\u001b[0;34m,\u001b[0m \u001b[0menumerate\u001b[0m\u001b[0;34m(\u001b[0m\u001b[0mcv\u001b[0m\u001b[0;34m.\u001b[0m\u001b[0msplit\u001b[0m\u001b[0;34m(\u001b[0m\u001b[0mX\u001b[0m\u001b[0;34m,\u001b[0m \u001b[0my\u001b[0m\u001b[0;34m,\u001b[0m \u001b[0mgroups\u001b[0m\u001b[0;34m)\u001b[0m\u001b[0;34m)\u001b[0m\u001b[0;34m\u001b[0m\u001b[0;34m\u001b[0m\u001b[0m\n\u001b[0m\u001b[1;32m    852\u001b[0m                     )\n\u001b[1;32m    853\u001b[0m                 )\n",
      "\u001b[0;32m/opt/conda/lib/python3.7/site-packages/joblib/parallel.py\u001b[0m in \u001b[0;36m__call__\u001b[0;34m(self, iterable)\u001b[0m\n\u001b[1;32m   1042\u001b[0m                 \u001b[0mself\u001b[0m\u001b[0;34m.\u001b[0m\u001b[0m_iterating\u001b[0m \u001b[0;34m=\u001b[0m \u001b[0mself\u001b[0m\u001b[0;34m.\u001b[0m\u001b[0m_original_iterator\u001b[0m \u001b[0;32mis\u001b[0m \u001b[0;32mnot\u001b[0m \u001b[0;32mNone\u001b[0m\u001b[0;34m\u001b[0m\u001b[0;34m\u001b[0m\u001b[0m\n\u001b[1;32m   1043\u001b[0m \u001b[0;34m\u001b[0m\u001b[0m\n\u001b[0;32m-> 1044\u001b[0;31m             \u001b[0;32mwhile\u001b[0m \u001b[0mself\u001b[0m\u001b[0;34m.\u001b[0m\u001b[0mdispatch_one_batch\u001b[0m\u001b[0;34m(\u001b[0m\u001b[0miterator\u001b[0m\u001b[0;34m)\u001b[0m\u001b[0;34m:\u001b[0m\u001b[0;34m\u001b[0m\u001b[0;34m\u001b[0m\u001b[0m\n\u001b[0m\u001b[1;32m   1045\u001b[0m                 \u001b[0;32mpass\u001b[0m\u001b[0;34m\u001b[0m\u001b[0;34m\u001b[0m\u001b[0m\n\u001b[1;32m   1046\u001b[0m \u001b[0;34m\u001b[0m\u001b[0m\n",
      "\u001b[0;32m/opt/conda/lib/python3.7/site-packages/joblib/parallel.py\u001b[0m in \u001b[0;36mdispatch_one_batch\u001b[0;34m(self, iterator)\u001b[0m\n\u001b[1;32m    857\u001b[0m                 \u001b[0;32mreturn\u001b[0m \u001b[0;32mFalse\u001b[0m\u001b[0;34m\u001b[0m\u001b[0;34m\u001b[0m\u001b[0m\n\u001b[1;32m    858\u001b[0m             \u001b[0;32melse\u001b[0m\u001b[0;34m:\u001b[0m\u001b[0;34m\u001b[0m\u001b[0;34m\u001b[0m\u001b[0m\n\u001b[0;32m--> 859\u001b[0;31m                 \u001b[0mself\u001b[0m\u001b[0;34m.\u001b[0m\u001b[0m_dispatch\u001b[0m\u001b[0;34m(\u001b[0m\u001b[0mtasks\u001b[0m\u001b[0;34m)\u001b[0m\u001b[0;34m\u001b[0m\u001b[0;34m\u001b[0m\u001b[0m\n\u001b[0m\u001b[1;32m    860\u001b[0m                 \u001b[0;32mreturn\u001b[0m \u001b[0;32mTrue\u001b[0m\u001b[0;34m\u001b[0m\u001b[0;34m\u001b[0m\u001b[0m\n\u001b[1;32m    861\u001b[0m \u001b[0;34m\u001b[0m\u001b[0m\n",
      "\u001b[0;32m/opt/conda/lib/python3.7/site-packages/joblib/parallel.py\u001b[0m in \u001b[0;36m_dispatch\u001b[0;34m(self, batch)\u001b[0m\n\u001b[1;32m    775\u001b[0m         \u001b[0;32mwith\u001b[0m \u001b[0mself\u001b[0m\u001b[0;34m.\u001b[0m\u001b[0m_lock\u001b[0m\u001b[0;34m:\u001b[0m\u001b[0;34m\u001b[0m\u001b[0;34m\u001b[0m\u001b[0m\n\u001b[1;32m    776\u001b[0m             \u001b[0mjob_idx\u001b[0m \u001b[0;34m=\u001b[0m \u001b[0mlen\u001b[0m\u001b[0;34m(\u001b[0m\u001b[0mself\u001b[0m\u001b[0;34m.\u001b[0m\u001b[0m_jobs\u001b[0m\u001b[0;34m)\u001b[0m\u001b[0;34m\u001b[0m\u001b[0;34m\u001b[0m\u001b[0m\n\u001b[0;32m--> 777\u001b[0;31m             \u001b[0mjob\u001b[0m \u001b[0;34m=\u001b[0m \u001b[0mself\u001b[0m\u001b[0;34m.\u001b[0m\u001b[0m_backend\u001b[0m\u001b[0;34m.\u001b[0m\u001b[0mapply_async\u001b[0m\u001b[0;34m(\u001b[0m\u001b[0mbatch\u001b[0m\u001b[0;34m,\u001b[0m \u001b[0mcallback\u001b[0m\u001b[0;34m=\u001b[0m\u001b[0mcb\u001b[0m\u001b[0;34m)\u001b[0m\u001b[0;34m\u001b[0m\u001b[0;34m\u001b[0m\u001b[0m\n\u001b[0m\u001b[1;32m    778\u001b[0m             \u001b[0;31m# A job can complete so quickly than its callback is\u001b[0m\u001b[0;34m\u001b[0m\u001b[0;34m\u001b[0m\u001b[0;34m\u001b[0m\u001b[0m\n\u001b[1;32m    779\u001b[0m             \u001b[0;31m# called before we get here, causing self._jobs to\u001b[0m\u001b[0;34m\u001b[0m\u001b[0;34m\u001b[0m\u001b[0;34m\u001b[0m\u001b[0m\n",
      "\u001b[0;32m/opt/conda/lib/python3.7/site-packages/joblib/_parallel_backends.py\u001b[0m in \u001b[0;36mapply_async\u001b[0;34m(self, func, callback)\u001b[0m\n\u001b[1;32m    206\u001b[0m     \u001b[0;32mdef\u001b[0m \u001b[0mapply_async\u001b[0m\u001b[0;34m(\u001b[0m\u001b[0mself\u001b[0m\u001b[0;34m,\u001b[0m \u001b[0mfunc\u001b[0m\u001b[0;34m,\u001b[0m \u001b[0mcallback\u001b[0m\u001b[0;34m=\u001b[0m\u001b[0;32mNone\u001b[0m\u001b[0;34m)\u001b[0m\u001b[0;34m:\u001b[0m\u001b[0;34m\u001b[0m\u001b[0;34m\u001b[0m\u001b[0m\n\u001b[1;32m    207\u001b[0m         \u001b[0;34m\"\"\"Schedule a func to be run\"\"\"\u001b[0m\u001b[0;34m\u001b[0m\u001b[0;34m\u001b[0m\u001b[0m\n\u001b[0;32m--> 208\u001b[0;31m         \u001b[0mresult\u001b[0m \u001b[0;34m=\u001b[0m \u001b[0mImmediateResult\u001b[0m\u001b[0;34m(\u001b[0m\u001b[0mfunc\u001b[0m\u001b[0;34m)\u001b[0m\u001b[0;34m\u001b[0m\u001b[0;34m\u001b[0m\u001b[0m\n\u001b[0m\u001b[1;32m    209\u001b[0m         \u001b[0;32mif\u001b[0m \u001b[0mcallback\u001b[0m\u001b[0;34m:\u001b[0m\u001b[0;34m\u001b[0m\u001b[0;34m\u001b[0m\u001b[0m\n\u001b[1;32m    210\u001b[0m             \u001b[0mcallback\u001b[0m\u001b[0;34m(\u001b[0m\u001b[0mresult\u001b[0m\u001b[0;34m)\u001b[0m\u001b[0;34m\u001b[0m\u001b[0;34m\u001b[0m\u001b[0m\n",
      "\u001b[0;32m/opt/conda/lib/python3.7/site-packages/joblib/_parallel_backends.py\u001b[0m in \u001b[0;36m__init__\u001b[0;34m(self, batch)\u001b[0m\n\u001b[1;32m    570\u001b[0m         \u001b[0;31m# Don't delay the application, to avoid keeping the input\u001b[0m\u001b[0;34m\u001b[0m\u001b[0;34m\u001b[0m\u001b[0;34m\u001b[0m\u001b[0m\n\u001b[1;32m    571\u001b[0m         \u001b[0;31m# arguments in memory\u001b[0m\u001b[0;34m\u001b[0m\u001b[0;34m\u001b[0m\u001b[0;34m\u001b[0m\u001b[0m\n\u001b[0;32m--> 572\u001b[0;31m         \u001b[0mself\u001b[0m\u001b[0;34m.\u001b[0m\u001b[0mresults\u001b[0m \u001b[0;34m=\u001b[0m \u001b[0mbatch\u001b[0m\u001b[0;34m(\u001b[0m\u001b[0;34m)\u001b[0m\u001b[0;34m\u001b[0m\u001b[0;34m\u001b[0m\u001b[0m\n\u001b[0m\u001b[1;32m    573\u001b[0m \u001b[0;34m\u001b[0m\u001b[0m\n\u001b[1;32m    574\u001b[0m     \u001b[0;32mdef\u001b[0m \u001b[0mget\u001b[0m\u001b[0;34m(\u001b[0m\u001b[0mself\u001b[0m\u001b[0;34m)\u001b[0m\u001b[0;34m:\u001b[0m\u001b[0;34m\u001b[0m\u001b[0;34m\u001b[0m\u001b[0m\n",
      "\u001b[0;32m/opt/conda/lib/python3.7/site-packages/joblib/parallel.py\u001b[0m in \u001b[0;36m__call__\u001b[0;34m(self)\u001b[0m\n\u001b[1;32m    261\u001b[0m         \u001b[0;32mwith\u001b[0m \u001b[0mparallel_backend\u001b[0m\u001b[0;34m(\u001b[0m\u001b[0mself\u001b[0m\u001b[0;34m.\u001b[0m\u001b[0m_backend\u001b[0m\u001b[0;34m,\u001b[0m \u001b[0mn_jobs\u001b[0m\u001b[0;34m=\u001b[0m\u001b[0mself\u001b[0m\u001b[0;34m.\u001b[0m\u001b[0m_n_jobs\u001b[0m\u001b[0;34m)\u001b[0m\u001b[0;34m:\u001b[0m\u001b[0;34m\u001b[0m\u001b[0;34m\u001b[0m\u001b[0m\n\u001b[1;32m    262\u001b[0m             return [func(*args, **kwargs)\n\u001b[0;32m--> 263\u001b[0;31m                     for func, args, kwargs in self.items]\n\u001b[0m\u001b[1;32m    264\u001b[0m \u001b[0;34m\u001b[0m\u001b[0m\n\u001b[1;32m    265\u001b[0m     \u001b[0;32mdef\u001b[0m \u001b[0m__reduce__\u001b[0m\u001b[0;34m(\u001b[0m\u001b[0mself\u001b[0m\u001b[0;34m)\u001b[0m\u001b[0;34m:\u001b[0m\u001b[0;34m\u001b[0m\u001b[0;34m\u001b[0m\u001b[0m\n",
      "\u001b[0;32m/opt/conda/lib/python3.7/site-packages/joblib/parallel.py\u001b[0m in \u001b[0;36m<listcomp>\u001b[0;34m(.0)\u001b[0m\n\u001b[1;32m    261\u001b[0m         \u001b[0;32mwith\u001b[0m \u001b[0mparallel_backend\u001b[0m\u001b[0;34m(\u001b[0m\u001b[0mself\u001b[0m\u001b[0;34m.\u001b[0m\u001b[0m_backend\u001b[0m\u001b[0;34m,\u001b[0m \u001b[0mn_jobs\u001b[0m\u001b[0;34m=\u001b[0m\u001b[0mself\u001b[0m\u001b[0;34m.\u001b[0m\u001b[0m_n_jobs\u001b[0m\u001b[0;34m)\u001b[0m\u001b[0;34m:\u001b[0m\u001b[0;34m\u001b[0m\u001b[0;34m\u001b[0m\u001b[0m\n\u001b[1;32m    262\u001b[0m             return [func(*args, **kwargs)\n\u001b[0;32m--> 263\u001b[0;31m                     for func, args, kwargs in self.items]\n\u001b[0m\u001b[1;32m    264\u001b[0m \u001b[0;34m\u001b[0m\u001b[0m\n\u001b[1;32m    265\u001b[0m     \u001b[0;32mdef\u001b[0m \u001b[0m__reduce__\u001b[0m\u001b[0;34m(\u001b[0m\u001b[0mself\u001b[0m\u001b[0;34m)\u001b[0m\u001b[0;34m:\u001b[0m\u001b[0;34m\u001b[0m\u001b[0;34m\u001b[0m\u001b[0m\n",
      "\u001b[0;32m~/.local/lib/python3.7/site-packages/sklearn/utils/fixes.py\u001b[0m in \u001b[0;36m__call__\u001b[0;34m(self, *args, **kwargs)\u001b[0m\n\u001b[1;32m    207\u001b[0m     \u001b[0;32mdef\u001b[0m \u001b[0m__call__\u001b[0m\u001b[0;34m(\u001b[0m\u001b[0mself\u001b[0m\u001b[0;34m,\u001b[0m \u001b[0;34m*\u001b[0m\u001b[0margs\u001b[0m\u001b[0;34m,\u001b[0m \u001b[0;34m**\u001b[0m\u001b[0mkwargs\u001b[0m\u001b[0;34m)\u001b[0m\u001b[0;34m:\u001b[0m\u001b[0;34m\u001b[0m\u001b[0;34m\u001b[0m\u001b[0m\n\u001b[1;32m    208\u001b[0m         \u001b[0;32mwith\u001b[0m \u001b[0mconfig_context\u001b[0m\u001b[0;34m(\u001b[0m\u001b[0;34m**\u001b[0m\u001b[0mself\u001b[0m\u001b[0;34m.\u001b[0m\u001b[0mconfig\u001b[0m\u001b[0;34m)\u001b[0m\u001b[0;34m:\u001b[0m\u001b[0;34m\u001b[0m\u001b[0;34m\u001b[0m\u001b[0m\n\u001b[0;32m--> 209\u001b[0;31m             \u001b[0;32mreturn\u001b[0m \u001b[0mself\u001b[0m\u001b[0;34m.\u001b[0m\u001b[0mfunction\u001b[0m\u001b[0;34m(\u001b[0m\u001b[0;34m*\u001b[0m\u001b[0margs\u001b[0m\u001b[0;34m,\u001b[0m \u001b[0;34m**\u001b[0m\u001b[0mkwargs\u001b[0m\u001b[0;34m)\u001b[0m\u001b[0;34m\u001b[0m\u001b[0;34m\u001b[0m\u001b[0m\n\u001b[0m\u001b[1;32m    210\u001b[0m \u001b[0;34m\u001b[0m\u001b[0m\n\u001b[1;32m    211\u001b[0m \u001b[0;34m\u001b[0m\u001b[0m\n",
      "\u001b[0;32m~/.local/lib/python3.7/site-packages/sklearn/model_selection/_validation.py\u001b[0m in \u001b[0;36m_fit_and_score\u001b[0;34m(estimator, X, y, scorer, train, test, verbose, parameters, fit_params, return_train_score, return_parameters, return_n_test_samples, return_times, return_estimator, split_progress, candidate_progress, error_score)\u001b[0m\n\u001b[1;32m    679\u001b[0m             \u001b[0mestimator\u001b[0m\u001b[0;34m.\u001b[0m\u001b[0mfit\u001b[0m\u001b[0;34m(\u001b[0m\u001b[0mX_train\u001b[0m\u001b[0;34m,\u001b[0m \u001b[0;34m**\u001b[0m\u001b[0mfit_params\u001b[0m\u001b[0;34m)\u001b[0m\u001b[0;34m\u001b[0m\u001b[0;34m\u001b[0m\u001b[0m\n\u001b[1;32m    680\u001b[0m         \u001b[0;32melse\u001b[0m\u001b[0;34m:\u001b[0m\u001b[0;34m\u001b[0m\u001b[0;34m\u001b[0m\u001b[0m\n\u001b[0;32m--> 681\u001b[0;31m             \u001b[0mestimator\u001b[0m\u001b[0;34m.\u001b[0m\u001b[0mfit\u001b[0m\u001b[0;34m(\u001b[0m\u001b[0mX_train\u001b[0m\u001b[0;34m,\u001b[0m \u001b[0my_train\u001b[0m\u001b[0;34m,\u001b[0m \u001b[0;34m**\u001b[0m\u001b[0mfit_params\u001b[0m\u001b[0;34m)\u001b[0m\u001b[0;34m\u001b[0m\u001b[0;34m\u001b[0m\u001b[0m\n\u001b[0m\u001b[1;32m    682\u001b[0m \u001b[0;34m\u001b[0m\u001b[0m\n\u001b[1;32m    683\u001b[0m     \u001b[0;32mexcept\u001b[0m \u001b[0mException\u001b[0m\u001b[0;34m:\u001b[0m\u001b[0;34m\u001b[0m\u001b[0;34m\u001b[0m\u001b[0m\n",
      "\u001b[0;32m~/.local/lib/python3.7/site-packages/sklearn/ensemble/_forest.py\u001b[0m in \u001b[0;36mfit\u001b[0;34m(self, X, y, sample_weight)\u001b[0m\n\u001b[1;32m    456\u001b[0m                     \u001b[0mn_samples_bootstrap\u001b[0m\u001b[0;34m=\u001b[0m\u001b[0mn_samples_bootstrap\u001b[0m\u001b[0;34m,\u001b[0m\u001b[0;34m\u001b[0m\u001b[0;34m\u001b[0m\u001b[0m\n\u001b[1;32m    457\u001b[0m                 )\n\u001b[0;32m--> 458\u001b[0;31m                 \u001b[0;32mfor\u001b[0m \u001b[0mi\u001b[0m\u001b[0;34m,\u001b[0m \u001b[0mt\u001b[0m \u001b[0;32min\u001b[0m \u001b[0menumerate\u001b[0m\u001b[0;34m(\u001b[0m\u001b[0mtrees\u001b[0m\u001b[0;34m)\u001b[0m\u001b[0;34m\u001b[0m\u001b[0;34m\u001b[0m\u001b[0m\n\u001b[0m\u001b[1;32m    459\u001b[0m             )\n\u001b[1;32m    460\u001b[0m \u001b[0;34m\u001b[0m\u001b[0m\n",
      "\u001b[0;32m/opt/conda/lib/python3.7/site-packages/joblib/parallel.py\u001b[0m in \u001b[0;36m__call__\u001b[0;34m(self, iterable)\u001b[0m\n\u001b[1;32m   1042\u001b[0m                 \u001b[0mself\u001b[0m\u001b[0;34m.\u001b[0m\u001b[0m_iterating\u001b[0m \u001b[0;34m=\u001b[0m \u001b[0mself\u001b[0m\u001b[0;34m.\u001b[0m\u001b[0m_original_iterator\u001b[0m \u001b[0;32mis\u001b[0m \u001b[0;32mnot\u001b[0m \u001b[0;32mNone\u001b[0m\u001b[0;34m\u001b[0m\u001b[0;34m\u001b[0m\u001b[0m\n\u001b[1;32m   1043\u001b[0m \u001b[0;34m\u001b[0m\u001b[0m\n\u001b[0;32m-> 1044\u001b[0;31m             \u001b[0;32mwhile\u001b[0m \u001b[0mself\u001b[0m\u001b[0;34m.\u001b[0m\u001b[0mdispatch_one_batch\u001b[0m\u001b[0;34m(\u001b[0m\u001b[0miterator\u001b[0m\u001b[0;34m)\u001b[0m\u001b[0;34m:\u001b[0m\u001b[0;34m\u001b[0m\u001b[0;34m\u001b[0m\u001b[0m\n\u001b[0m\u001b[1;32m   1045\u001b[0m                 \u001b[0;32mpass\u001b[0m\u001b[0;34m\u001b[0m\u001b[0;34m\u001b[0m\u001b[0m\n\u001b[1;32m   1046\u001b[0m \u001b[0;34m\u001b[0m\u001b[0m\n",
      "\u001b[0;32m/opt/conda/lib/python3.7/site-packages/joblib/parallel.py\u001b[0m in \u001b[0;36mdispatch_one_batch\u001b[0;34m(self, iterator)\u001b[0m\n\u001b[1;32m    857\u001b[0m                 \u001b[0;32mreturn\u001b[0m \u001b[0;32mFalse\u001b[0m\u001b[0;34m\u001b[0m\u001b[0;34m\u001b[0m\u001b[0m\n\u001b[1;32m    858\u001b[0m             \u001b[0;32melse\u001b[0m\u001b[0;34m:\u001b[0m\u001b[0;34m\u001b[0m\u001b[0;34m\u001b[0m\u001b[0m\n\u001b[0;32m--> 859\u001b[0;31m                 \u001b[0mself\u001b[0m\u001b[0;34m.\u001b[0m\u001b[0m_dispatch\u001b[0m\u001b[0;34m(\u001b[0m\u001b[0mtasks\u001b[0m\u001b[0;34m)\u001b[0m\u001b[0;34m\u001b[0m\u001b[0;34m\u001b[0m\u001b[0m\n\u001b[0m\u001b[1;32m    860\u001b[0m                 \u001b[0;32mreturn\u001b[0m \u001b[0;32mTrue\u001b[0m\u001b[0;34m\u001b[0m\u001b[0;34m\u001b[0m\u001b[0m\n\u001b[1;32m    861\u001b[0m \u001b[0;34m\u001b[0m\u001b[0m\n",
      "\u001b[0;32m/opt/conda/lib/python3.7/site-packages/joblib/parallel.py\u001b[0m in \u001b[0;36m_dispatch\u001b[0;34m(self, batch)\u001b[0m\n\u001b[1;32m    775\u001b[0m         \u001b[0;32mwith\u001b[0m \u001b[0mself\u001b[0m\u001b[0;34m.\u001b[0m\u001b[0m_lock\u001b[0m\u001b[0;34m:\u001b[0m\u001b[0;34m\u001b[0m\u001b[0;34m\u001b[0m\u001b[0m\n\u001b[1;32m    776\u001b[0m             \u001b[0mjob_idx\u001b[0m \u001b[0;34m=\u001b[0m \u001b[0mlen\u001b[0m\u001b[0;34m(\u001b[0m\u001b[0mself\u001b[0m\u001b[0;34m.\u001b[0m\u001b[0m_jobs\u001b[0m\u001b[0;34m)\u001b[0m\u001b[0;34m\u001b[0m\u001b[0;34m\u001b[0m\u001b[0m\n\u001b[0;32m--> 777\u001b[0;31m             \u001b[0mjob\u001b[0m \u001b[0;34m=\u001b[0m \u001b[0mself\u001b[0m\u001b[0;34m.\u001b[0m\u001b[0m_backend\u001b[0m\u001b[0;34m.\u001b[0m\u001b[0mapply_async\u001b[0m\u001b[0;34m(\u001b[0m\u001b[0mbatch\u001b[0m\u001b[0;34m,\u001b[0m \u001b[0mcallback\u001b[0m\u001b[0;34m=\u001b[0m\u001b[0mcb\u001b[0m\u001b[0;34m)\u001b[0m\u001b[0;34m\u001b[0m\u001b[0;34m\u001b[0m\u001b[0m\n\u001b[0m\u001b[1;32m    778\u001b[0m             \u001b[0;31m# A job can complete so quickly than its callback is\u001b[0m\u001b[0;34m\u001b[0m\u001b[0;34m\u001b[0m\u001b[0;34m\u001b[0m\u001b[0m\n\u001b[1;32m    779\u001b[0m             \u001b[0;31m# called before we get here, causing self._jobs to\u001b[0m\u001b[0;34m\u001b[0m\u001b[0;34m\u001b[0m\u001b[0;34m\u001b[0m\u001b[0m\n",
      "\u001b[0;32m/opt/conda/lib/python3.7/site-packages/joblib/_parallel_backends.py\u001b[0m in \u001b[0;36mapply_async\u001b[0;34m(self, func, callback)\u001b[0m\n\u001b[1;32m    206\u001b[0m     \u001b[0;32mdef\u001b[0m \u001b[0mapply_async\u001b[0m\u001b[0;34m(\u001b[0m\u001b[0mself\u001b[0m\u001b[0;34m,\u001b[0m \u001b[0mfunc\u001b[0m\u001b[0;34m,\u001b[0m \u001b[0mcallback\u001b[0m\u001b[0;34m=\u001b[0m\u001b[0;32mNone\u001b[0m\u001b[0;34m)\u001b[0m\u001b[0;34m:\u001b[0m\u001b[0;34m\u001b[0m\u001b[0;34m\u001b[0m\u001b[0m\n\u001b[1;32m    207\u001b[0m         \u001b[0;34m\"\"\"Schedule a func to be run\"\"\"\u001b[0m\u001b[0;34m\u001b[0m\u001b[0;34m\u001b[0m\u001b[0m\n\u001b[0;32m--> 208\u001b[0;31m         \u001b[0mresult\u001b[0m \u001b[0;34m=\u001b[0m \u001b[0mImmediateResult\u001b[0m\u001b[0;34m(\u001b[0m\u001b[0mfunc\u001b[0m\u001b[0;34m)\u001b[0m\u001b[0;34m\u001b[0m\u001b[0;34m\u001b[0m\u001b[0m\n\u001b[0m\u001b[1;32m    209\u001b[0m         \u001b[0;32mif\u001b[0m \u001b[0mcallback\u001b[0m\u001b[0;34m:\u001b[0m\u001b[0;34m\u001b[0m\u001b[0;34m\u001b[0m\u001b[0m\n\u001b[1;32m    210\u001b[0m             \u001b[0mcallback\u001b[0m\u001b[0;34m(\u001b[0m\u001b[0mresult\u001b[0m\u001b[0;34m)\u001b[0m\u001b[0;34m\u001b[0m\u001b[0;34m\u001b[0m\u001b[0m\n",
      "\u001b[0;32m/opt/conda/lib/python3.7/site-packages/joblib/_parallel_backends.py\u001b[0m in \u001b[0;36m__init__\u001b[0;34m(self, batch)\u001b[0m\n\u001b[1;32m    570\u001b[0m         \u001b[0;31m# Don't delay the application, to avoid keeping the input\u001b[0m\u001b[0;34m\u001b[0m\u001b[0;34m\u001b[0m\u001b[0;34m\u001b[0m\u001b[0m\n\u001b[1;32m    571\u001b[0m         \u001b[0;31m# arguments in memory\u001b[0m\u001b[0;34m\u001b[0m\u001b[0;34m\u001b[0m\u001b[0;34m\u001b[0m\u001b[0m\n\u001b[0;32m--> 572\u001b[0;31m         \u001b[0mself\u001b[0m\u001b[0;34m.\u001b[0m\u001b[0mresults\u001b[0m \u001b[0;34m=\u001b[0m \u001b[0mbatch\u001b[0m\u001b[0;34m(\u001b[0m\u001b[0;34m)\u001b[0m\u001b[0;34m\u001b[0m\u001b[0;34m\u001b[0m\u001b[0m\n\u001b[0m\u001b[1;32m    573\u001b[0m \u001b[0;34m\u001b[0m\u001b[0m\n\u001b[1;32m    574\u001b[0m     \u001b[0;32mdef\u001b[0m \u001b[0mget\u001b[0m\u001b[0;34m(\u001b[0m\u001b[0mself\u001b[0m\u001b[0;34m)\u001b[0m\u001b[0;34m:\u001b[0m\u001b[0;34m\u001b[0m\u001b[0;34m\u001b[0m\u001b[0m\n",
      "\u001b[0;32m/opt/conda/lib/python3.7/site-packages/joblib/parallel.py\u001b[0m in \u001b[0;36m__call__\u001b[0;34m(self)\u001b[0m\n\u001b[1;32m    261\u001b[0m         \u001b[0;32mwith\u001b[0m \u001b[0mparallel_backend\u001b[0m\u001b[0;34m(\u001b[0m\u001b[0mself\u001b[0m\u001b[0;34m.\u001b[0m\u001b[0m_backend\u001b[0m\u001b[0;34m,\u001b[0m \u001b[0mn_jobs\u001b[0m\u001b[0;34m=\u001b[0m\u001b[0mself\u001b[0m\u001b[0;34m.\u001b[0m\u001b[0m_n_jobs\u001b[0m\u001b[0;34m)\u001b[0m\u001b[0;34m:\u001b[0m\u001b[0;34m\u001b[0m\u001b[0;34m\u001b[0m\u001b[0m\n\u001b[1;32m    262\u001b[0m             return [func(*args, **kwargs)\n\u001b[0;32m--> 263\u001b[0;31m                     for func, args, kwargs in self.items]\n\u001b[0m\u001b[1;32m    264\u001b[0m \u001b[0;34m\u001b[0m\u001b[0m\n\u001b[1;32m    265\u001b[0m     \u001b[0;32mdef\u001b[0m \u001b[0m__reduce__\u001b[0m\u001b[0;34m(\u001b[0m\u001b[0mself\u001b[0m\u001b[0;34m)\u001b[0m\u001b[0;34m:\u001b[0m\u001b[0;34m\u001b[0m\u001b[0;34m\u001b[0m\u001b[0m\n",
      "\u001b[0;32m/opt/conda/lib/python3.7/site-packages/joblib/parallel.py\u001b[0m in \u001b[0;36m<listcomp>\u001b[0;34m(.0)\u001b[0m\n\u001b[1;32m    261\u001b[0m         \u001b[0;32mwith\u001b[0m \u001b[0mparallel_backend\u001b[0m\u001b[0;34m(\u001b[0m\u001b[0mself\u001b[0m\u001b[0;34m.\u001b[0m\u001b[0m_backend\u001b[0m\u001b[0;34m,\u001b[0m \u001b[0mn_jobs\u001b[0m\u001b[0;34m=\u001b[0m\u001b[0mself\u001b[0m\u001b[0;34m.\u001b[0m\u001b[0m_n_jobs\u001b[0m\u001b[0;34m)\u001b[0m\u001b[0;34m:\u001b[0m\u001b[0;34m\u001b[0m\u001b[0;34m\u001b[0m\u001b[0m\n\u001b[1;32m    262\u001b[0m             return [func(*args, **kwargs)\n\u001b[0;32m--> 263\u001b[0;31m                     for func, args, kwargs in self.items]\n\u001b[0m\u001b[1;32m    264\u001b[0m \u001b[0;34m\u001b[0m\u001b[0m\n\u001b[1;32m    265\u001b[0m     \u001b[0;32mdef\u001b[0m \u001b[0m__reduce__\u001b[0m\u001b[0;34m(\u001b[0m\u001b[0mself\u001b[0m\u001b[0;34m)\u001b[0m\u001b[0;34m:\u001b[0m\u001b[0;34m\u001b[0m\u001b[0;34m\u001b[0m\u001b[0m\n",
      "\u001b[0;32m~/.local/lib/python3.7/site-packages/sklearn/utils/fixes.py\u001b[0m in \u001b[0;36m__call__\u001b[0;34m(self, *args, **kwargs)\u001b[0m\n\u001b[1;32m    207\u001b[0m     \u001b[0;32mdef\u001b[0m \u001b[0m__call__\u001b[0m\u001b[0;34m(\u001b[0m\u001b[0mself\u001b[0m\u001b[0;34m,\u001b[0m \u001b[0;34m*\u001b[0m\u001b[0margs\u001b[0m\u001b[0;34m,\u001b[0m \u001b[0;34m**\u001b[0m\u001b[0mkwargs\u001b[0m\u001b[0;34m)\u001b[0m\u001b[0;34m:\u001b[0m\u001b[0;34m\u001b[0m\u001b[0;34m\u001b[0m\u001b[0m\n\u001b[1;32m    208\u001b[0m         \u001b[0;32mwith\u001b[0m \u001b[0mconfig_context\u001b[0m\u001b[0;34m(\u001b[0m\u001b[0;34m**\u001b[0m\u001b[0mself\u001b[0m\u001b[0;34m.\u001b[0m\u001b[0mconfig\u001b[0m\u001b[0;34m)\u001b[0m\u001b[0;34m:\u001b[0m\u001b[0;34m\u001b[0m\u001b[0;34m\u001b[0m\u001b[0m\n\u001b[0;32m--> 209\u001b[0;31m             \u001b[0;32mreturn\u001b[0m \u001b[0mself\u001b[0m\u001b[0;34m.\u001b[0m\u001b[0mfunction\u001b[0m\u001b[0;34m(\u001b[0m\u001b[0;34m*\u001b[0m\u001b[0margs\u001b[0m\u001b[0;34m,\u001b[0m \u001b[0;34m**\u001b[0m\u001b[0mkwargs\u001b[0m\u001b[0;34m)\u001b[0m\u001b[0;34m\u001b[0m\u001b[0;34m\u001b[0m\u001b[0m\n\u001b[0m\u001b[1;32m    210\u001b[0m \u001b[0;34m\u001b[0m\u001b[0m\n\u001b[1;32m    211\u001b[0m \u001b[0;34m\u001b[0m\u001b[0m\n",
      "\u001b[0;32m~/.local/lib/python3.7/site-packages/sklearn/ensemble/_forest.py\u001b[0m in \u001b[0;36m_parallel_build_trees\u001b[0;34m(tree, forest, X, y, sample_weight, tree_idx, n_trees, verbose, class_weight, n_samples_bootstrap)\u001b[0m\n\u001b[1;32m    182\u001b[0m             \u001b[0mcurr_sample_weight\u001b[0m \u001b[0;34m*=\u001b[0m \u001b[0mcompute_sample_weight\u001b[0m\u001b[0;34m(\u001b[0m\u001b[0;34m\"balanced\"\u001b[0m\u001b[0;34m,\u001b[0m \u001b[0my\u001b[0m\u001b[0;34m,\u001b[0m \u001b[0mindices\u001b[0m\u001b[0;34m=\u001b[0m\u001b[0mindices\u001b[0m\u001b[0;34m)\u001b[0m\u001b[0;34m\u001b[0m\u001b[0;34m\u001b[0m\u001b[0m\n\u001b[1;32m    183\u001b[0m \u001b[0;34m\u001b[0m\u001b[0m\n\u001b[0;32m--> 184\u001b[0;31m         \u001b[0mtree\u001b[0m\u001b[0;34m.\u001b[0m\u001b[0mfit\u001b[0m\u001b[0;34m(\u001b[0m\u001b[0mX\u001b[0m\u001b[0;34m,\u001b[0m \u001b[0my\u001b[0m\u001b[0;34m,\u001b[0m \u001b[0msample_weight\u001b[0m\u001b[0;34m=\u001b[0m\u001b[0mcurr_sample_weight\u001b[0m\u001b[0;34m,\u001b[0m \u001b[0mcheck_input\u001b[0m\u001b[0;34m=\u001b[0m\u001b[0;32mFalse\u001b[0m\u001b[0;34m)\u001b[0m\u001b[0;34m\u001b[0m\u001b[0;34m\u001b[0m\u001b[0m\n\u001b[0m\u001b[1;32m    185\u001b[0m     \u001b[0;32melse\u001b[0m\u001b[0;34m:\u001b[0m\u001b[0;34m\u001b[0m\u001b[0;34m\u001b[0m\u001b[0m\n\u001b[1;32m    186\u001b[0m         \u001b[0mtree\u001b[0m\u001b[0;34m.\u001b[0m\u001b[0mfit\u001b[0m\u001b[0;34m(\u001b[0m\u001b[0mX\u001b[0m\u001b[0;34m,\u001b[0m \u001b[0my\u001b[0m\u001b[0;34m,\u001b[0m \u001b[0msample_weight\u001b[0m\u001b[0;34m=\u001b[0m\u001b[0msample_weight\u001b[0m\u001b[0;34m,\u001b[0m \u001b[0mcheck_input\u001b[0m\u001b[0;34m=\u001b[0m\u001b[0;32mFalse\u001b[0m\u001b[0;34m)\u001b[0m\u001b[0;34m\u001b[0m\u001b[0;34m\u001b[0m\u001b[0m\n",
      "\u001b[0;32m~/.local/lib/python3.7/site-packages/sklearn/tree/_classes.py\u001b[0m in \u001b[0;36mfit\u001b[0;34m(self, X, y, sample_weight, check_input, X_idx_sorted)\u001b[0m\n\u001b[1;32m   1318\u001b[0m             \u001b[0msample_weight\u001b[0m\u001b[0;34m=\u001b[0m\u001b[0msample_weight\u001b[0m\u001b[0;34m,\u001b[0m\u001b[0;34m\u001b[0m\u001b[0;34m\u001b[0m\u001b[0m\n\u001b[1;32m   1319\u001b[0m             \u001b[0mcheck_input\u001b[0m\u001b[0;34m=\u001b[0m\u001b[0mcheck_input\u001b[0m\u001b[0;34m,\u001b[0m\u001b[0;34m\u001b[0m\u001b[0;34m\u001b[0m\u001b[0m\n\u001b[0;32m-> 1320\u001b[0;31m             \u001b[0mX_idx_sorted\u001b[0m\u001b[0;34m=\u001b[0m\u001b[0mX_idx_sorted\u001b[0m\u001b[0;34m,\u001b[0m\u001b[0;34m\u001b[0m\u001b[0;34m\u001b[0m\u001b[0m\n\u001b[0m\u001b[1;32m   1321\u001b[0m         )\n\u001b[1;32m   1322\u001b[0m         \u001b[0;32mreturn\u001b[0m \u001b[0mself\u001b[0m\u001b[0;34m\u001b[0m\u001b[0;34m\u001b[0m\u001b[0m\n",
      "\u001b[0;32m~/.local/lib/python3.7/site-packages/sklearn/tree/_classes.py\u001b[0m in \u001b[0;36mfit\u001b[0;34m(self, X, y, sample_weight, check_input, X_idx_sorted)\u001b[0m\n\u001b[1;32m    418\u001b[0m             )\n\u001b[1;32m    419\u001b[0m \u001b[0;34m\u001b[0m\u001b[0m\n\u001b[0;32m--> 420\u001b[0;31m         \u001b[0mbuilder\u001b[0m\u001b[0;34m.\u001b[0m\u001b[0mbuild\u001b[0m\u001b[0;34m(\u001b[0m\u001b[0mself\u001b[0m\u001b[0;34m.\u001b[0m\u001b[0mtree_\u001b[0m\u001b[0;34m,\u001b[0m \u001b[0mX\u001b[0m\u001b[0;34m,\u001b[0m \u001b[0my\u001b[0m\u001b[0;34m,\u001b[0m \u001b[0msample_weight\u001b[0m\u001b[0;34m)\u001b[0m\u001b[0;34m\u001b[0m\u001b[0;34m\u001b[0m\u001b[0m\n\u001b[0m\u001b[1;32m    421\u001b[0m \u001b[0;34m\u001b[0m\u001b[0m\n\u001b[1;32m    422\u001b[0m         \u001b[0;32mif\u001b[0m \u001b[0mself\u001b[0m\u001b[0;34m.\u001b[0m\u001b[0mn_outputs_\u001b[0m \u001b[0;34m==\u001b[0m \u001b[0;36m1\u001b[0m \u001b[0;32mand\u001b[0m \u001b[0mis_classifier\u001b[0m\u001b[0;34m(\u001b[0m\u001b[0mself\u001b[0m\u001b[0;34m)\u001b[0m\u001b[0;34m:\u001b[0m\u001b[0;34m\u001b[0m\u001b[0;34m\u001b[0m\u001b[0m\n",
      "\u001b[0;31mKeyboardInterrupt\u001b[0m: "
     ]
    }
   ],
   "source": [
    "regressor = RandomForestRegressor() \n",
    "max_depth_list = [x for x in range(1,10)]\n",
    "n_estimators_list = [x for x in range(1,10)]\n",
    "hyperparams = [{'n_estimators': n_estimators_list, \n",
    "                'max_depth':max_depth_list, \n",
    "                'random_state':[12345]}]\n",
    "\n",
    "print('# Tuning hyper-parameters for root_mean_squared_error')\n",
    "print()\n",
    "clf = GridSearchCV(regressor, hyperparams, scoring='neg_mean_squared_error')\n",
    "clf.fit(features_train, target_train)\n",
    "print(\"Best parameters set found on development set:\")\n",
    "print()\n",
    "print(clf.best_params_)\n",
    "print()\n",
    "print(\"Grid scores on development set:\")\n",
    "print()\n",
    "means = clf.cv_results_['mean_test_score']\n",
    "stds = clf.cv_results_['std_test_score']\n",
    "for mean, std, params in zip(means, stds, clf.cv_results_['params']):\n",
    "    print(\"%0.6f for %r\"% ((mean*-1)** 0.5, params))\n",
    "print()\n",
    "\n",
    "cv_RMSE_DTR_ordinal = (max(means)*-1) ** 0.5"
   ]
  },
  {
   "cell_type": "markdown",
   "metadata": {},
   "source": [
    "### CatBoostRegressor"
   ]
  },
  {
   "cell_type": "code",
   "execution_count": null,
   "metadata": {},
   "outputs": [],
   "source": [
    "regressor = CatBoostRegressor() \n",
    "hyperparams = [{'learning_rate':[0.1, 0.5, 0.8],\n",
    "                'random_state':[12345],\n",
    "                'verbose':[False]}]\n",
    "\n",
    "print('# Tuning hyper-parameters for root_mean_squared_error')\n",
    "print()\n",
    "clf = GridSearchCV(regressor, hyperparams, scoring='neg_mean_squared_error')\n",
    "clf.fit(features_train, target_train)\n",
    "print(\"Best parameters set found on development set:\")\n",
    "print()\n",
    "print(clf.best_params_)\n",
    "print()\n",
    "print(\"Grid scores on development set:\")\n",
    "print()\n",
    "means = clf.cv_results_['mean_test_score']\n",
    "stds = clf.cv_results_['std_test_score']\n",
    "for mean, std, params in zip(means, stds, clf.cv_results_['params']):\n",
    "    print(\"%0.6f for %r\"% ((mean*-1)** 0.5, params))\n",
    "print()\n",
    "\n",
    "cv_RMSE_CBR_ordinal = (max(means)*-1) ** 0.5"
   ]
  },
  {
   "cell_type": "code",
   "execution_count": 34,
   "metadata": {},
   "outputs": [
    {
     "name": "stdout",
     "output_type": "stream",
     "text": [
      "0:\tlearn: 3676.3805287\ttotal: 57.8ms\tremaining: 57.8ms\n",
      "1:\tlearn: 3293.6095006\ttotal: 73.5ms\tremaining: 0us\n",
      "3.726341000000019\n"
     ]
    }
   ],
   "source": [
    "start_time = time.clock()\n",
    "model = CatBoostRegressor(iterations=2, learning_rate=1, depth=2)\n",
    "model.fit(features_train, target_train)\n",
    "cbr_time_train = time.clock() - start_time\n",
    "print(cbr_time_train)"
   ]
  },
  {
   "cell_type": "code",
   "execution_count": 35,
   "metadata": {},
   "outputs": [
    {
     "name": "stdout",
     "output_type": "stream",
     "text": [
      "0.04186999999998875\n"
     ]
    }
   ],
   "source": [
    "start_time = time.clock()\n",
    "preds = model.predict(features_valid)\n",
    "cbr_time_pred = time.clock() - start_time\n",
    "print(cbr_time_pred)"
   ]
  },
  {
   "cell_type": "code",
   "execution_count": 36,
   "metadata": {},
   "outputs": [
    {
     "name": "stdout",
     "output_type": "stream",
     "text": [
      "CatBoostRegressor\n",
      "RMSE = 3309.700127007489\n"
     ]
    }
   ],
   "source": [
    "mse_cbr = mean_squared_error(target_valid, preds)\n",
    "rmse_cbr = mse_cbr ** 0.5\n",
    "\n",
    "print(\"CatBoostRegressor\")\n",
    "print(\"RMSE =\", rmse_cbr)"
   ]
  },
  {
   "cell_type": "markdown",
   "metadata": {},
   "source": [
    "### LightGBM Regressor"
   ]
  },
  {
   "cell_type": "code",
   "execution_count": 37,
   "metadata": {},
   "outputs": [],
   "source": [
    "features_lgbm = data.drop('Price', axis=1)\n",
    "target_lgbm = data['Price']\n",
    "\n",
    "features_train_lgbm, features_valid_lgbm, target_train_lgbm, target_valid_lgbm = train_test_split(\n",
    "    features_lgbm, target_lgbm, test_size=0.25, random_state=12345)"
   ]
  },
  {
   "cell_type": "code",
   "execution_count": null,
   "metadata": {},
   "outputs": [],
   "source": [
    "regressor = LGBMRegressor() \n",
    "hyperparams = [{'num_leaves':[31, 100, 200], \n",
    "                'learning_rate':[0.1, 0.3, 0.5],\n",
    "                'random_state':[12345]}]\n",
    "\n",
    "print('# Tuning hyper-parameters for root_mean_squared_error')\n",
    "print()\n",
    "clf = GridSearchCV(regressor, hyperparams, scoring='neg_mean_squared_error')\n",
    "clf.fit(features_train_lgbm, target_train_lgbm)\n",
    "print(\"Best parameters set found on development set:\")\n",
    "print()\n",
    "print(clf.best_params_)\n",
    "print()\n",
    "print(\"Grid scores on development set:\")\n",
    "print()\n",
    "means = clf.cv_results_['mean_test_score']\n",
    "stds = clf.cv_results_['std_test_score']\n",
    "for mean, std, params in zip(means, stds, clf.cv_results_['params']):\n",
    "    print(\"%0.6f for %r\"% ((mean*-1)** 0.5, params))\n",
    "print()\n",
    "\n",
    "cv_RMSE_LGBMR = (max(means)*-1) ** 0.5"
   ]
  },
  {
   "cell_type": "code",
   "execution_count": 38,
   "metadata": {},
   "outputs": [
    {
     "name": "stdout",
     "output_type": "stream",
     "text": [
      "60.88244900000001\n"
     ]
    }
   ],
   "source": [
    "start_time = time.clock()\n",
    "model = LGBMRegressor(learning_rate=0.1, num_leaves=200, random_state=12345)\n",
    "model.fit(features_train_lgbm, target_train_lgbm)\n",
    "lgbmr_time_train = time.clock() - start_time\n",
    "print(lgbmr_time_train)"
   ]
  },
  {
   "cell_type": "code",
   "execution_count": 39,
   "metadata": {},
   "outputs": [
    {
     "name": "stdout",
     "output_type": "stream",
     "text": [
      "1.5533829999999966\n"
     ]
    }
   ],
   "source": [
    "start_time = time.clock()\n",
    "predicted = model.predict(features_valid_lgbm)\n",
    "lgbmr_time_pred = time.clock() - start_time\n",
    "print(lgbmr_time_pred)"
   ]
  },
  {
   "cell_type": "code",
   "execution_count": 40,
   "metadata": {},
   "outputs": [
    {
     "name": "stdout",
     "output_type": "stream",
     "text": [
      "LightGBM Regressor\n",
      "RMSE = 1941.856030426121\n"
     ]
    }
   ],
   "source": [
    "mse_lgbmr = mean_squared_error(target_valid_lgbm, predicted)\n",
    "rmse_lgbmr = mse_lgbmr ** 0.5\n",
    "\n",
    "print(\"LightGBM Regressor\")\n",
    "print(\"RMSE =\", rmse_lgbmr)"
   ]
  },
  {
   "cell_type": "markdown",
   "metadata": {},
   "source": [
    "## Анализ моделей"
   ]
  },
  {
   "cell_type": "code",
   "execution_count": 42,
   "metadata": {},
   "outputs": [
    {
     "data": {
      "text/html": [
       "<div>\n",
       "<style scoped>\n",
       "    .dataframe tbody tr th:only-of-type {\n",
       "        vertical-align: middle;\n",
       "    }\n",
       "\n",
       "    .dataframe tbody tr th {\n",
       "        vertical-align: top;\n",
       "    }\n",
       "\n",
       "    .dataframe thead th {\n",
       "        text-align: right;\n",
       "    }\n",
       "</style>\n",
       "<table border=\"1\" class=\"dataframe\">\n",
       "  <thead>\n",
       "    <tr style=\"text-align: right;\">\n",
       "      <th></th>\n",
       "      <th>RMSE</th>\n",
       "      <th>Время обучения модели, сек</th>\n",
       "      <th>Время предсказания модели, сек</th>\n",
       "      <th>Рейтинг RMSE</th>\n",
       "      <th>Рейтинг времени обучения</th>\n",
       "      <th>Рейтинг времени предсказания</th>\n",
       "      <th>Итоговый рейтинг</th>\n",
       "    </tr>\n",
       "  </thead>\n",
       "  <tbody>\n",
       "    <tr>\n",
       "      <td>LinearRegression</td>\n",
       "      <td>3146.685175</td>\n",
       "      <td>18.875648</td>\n",
       "      <td>0.254338</td>\n",
       "      <td>0.617112</td>\n",
       "      <td>0.197415</td>\n",
       "      <td>0.164623</td>\n",
       "      <td>0.979150</td>\n",
       "    </tr>\n",
       "    <tr>\n",
       "      <td>RandomForestRegressor</td>\n",
       "      <td>2251.732874</td>\n",
       "      <td>173.268091</td>\n",
       "      <td>0.633883</td>\n",
       "      <td>0.862383</td>\n",
       "      <td>0.021506</td>\n",
       "      <td>0.066053</td>\n",
       "      <td>0.949942</td>\n",
       "    </tr>\n",
       "    <tr>\n",
       "      <td>CatBoostRegressor</td>\n",
       "      <td>3309.700127</td>\n",
       "      <td>3.726341</td>\n",
       "      <td>0.041870</td>\n",
       "      <td>0.586717</td>\n",
       "      <td>1.000000</td>\n",
       "      <td>1.000000</td>\n",
       "      <td>2.586717</td>\n",
       "    </tr>\n",
       "    <tr>\n",
       "      <td>LGBMRegressor</td>\n",
       "      <td>1941.856030</td>\n",
       "      <td>60.882449</td>\n",
       "      <td>1.553383</td>\n",
       "      <td>1.000000</td>\n",
       "      <td>0.061206</td>\n",
       "      <td>0.026954</td>\n",
       "      <td>1.088160</td>\n",
       "    </tr>\n",
       "  </tbody>\n",
       "</table>\n",
       "</div>"
      ],
      "text/plain": [
       "                              RMSE  Время обучения модели, сек  \\\n",
       "LinearRegression       3146.685175                   18.875648   \n",
       "RandomForestRegressor  2251.732874                  173.268091   \n",
       "CatBoostRegressor      3309.700127                    3.726341   \n",
       "LGBMRegressor          1941.856030                   60.882449   \n",
       "\n",
       "                       Время предсказания модели, сек  Рейтинг RMSE  \\\n",
       "LinearRegression                             0.254338      0.617112   \n",
       "RandomForestRegressor                        0.633883      0.862383   \n",
       "CatBoostRegressor                            0.041870      0.586717   \n",
       "LGBMRegressor                                1.553383      1.000000   \n",
       "\n",
       "                       Рейтинг времени обучения  Рейтинг времени предсказания  \\\n",
       "LinearRegression                       0.197415                      0.164623   \n",
       "RandomForestRegressor                  0.021506                      0.066053   \n",
       "CatBoostRegressor                      1.000000                      1.000000   \n",
       "LGBMRegressor                          0.061206                      0.026954   \n",
       "\n",
       "                       Итоговый рейтинг  \n",
       "LinearRegression               0.979150  \n",
       "RandomForestRegressor          0.949942  \n",
       "CatBoostRegressor              2.586717  \n",
       "LGBMRegressor                  1.088160  "
      ]
     },
     "execution_count": 42,
     "metadata": {},
     "output_type": "execute_result"
    }
   ],
   "source": [
    "index = ['LinearRegression',\n",
    "         'RandomForestRegressor',\n",
    "         'CatBoostRegressor',\n",
    "         'LGBMRegressor']\n",
    "data = {'RMSE':[rmse_lr,\n",
    "                rmse_rfr,\n",
    "                rmse_cbr,\n",
    "                rmse_lgbmr],\n",
    "        \n",
    "        'Время обучения модели, сек':[lr_time_train,\n",
    "                                      rfr_time_train,\n",
    "                                      cbr_time_train,\n",
    "                                      lgbmr_time_train],\n",
    "        'Время предсказания модели, сек':[lr_time_pred,\n",
    "                                          rfr_time_pred,\n",
    "                                          cbr_time_pred,\n",
    "                                          lgbmr_time_pred]}\n",
    "\n",
    "scores_data = pd.DataFrame(data=data, index=index)\n",
    "scores_data['Рейтинг RMSE'] = (scores_data['RMSE'].min() /\n",
    "                              scores_data['RMSE'])\n",
    "scores_data['Рейтинг времени обучения'] = (scores_data['Время обучения модели, сек'].min() / \n",
    "                              scores_data['Время обучения модели, сек'])\n",
    "scores_data['Рейтинг времени предсказания'] = (scores_data['Время предсказания модели, сек'].min() / \n",
    "                              scores_data['Время предсказания модели, сек'])\n",
    "scores_data['Итоговый рейтинг'] = (scores_data['Рейтинг RMSE'] +\n",
    "                                   scores_data['Рейтинг времени обучения'] +\n",
    "                                   scores_data['Рейтинг времени предсказания'])\n",
    "scores_data"
   ]
  },
  {
   "cell_type": "markdown",
   "metadata": {},
   "source": [
    "**Вывод**\n",
    "\n",
    "В ячейках рейтинга наибольшее значение обозначает модель с самым минимальным временем или RMSE, другие получают рейтинг как отношение лучшего в столбце к своему значению. \n",
    "\n",
    "Исходя из итогового рейтинга наилучшей стала модель CatBoostRegressor.\n",
    "\n",
    "По параметрам:\n",
    "- Если рассматривать точность, то в лидеры выходит LGBMRegressor.\n",
    "- Если оценивать скорость, то тут выигрывает CatBoostRegressor.\n",
    "\n",
    "Выбор модели ререссора зависит от специфики задачи."
   ]
  },
  {
   "cell_type": "code",
   "execution_count": null,
   "metadata": {},
   "outputs": [],
   "source": []
  }
 ],
 "metadata": {
  "ExecuteTimeLog": [
   {
    "duration": 346,
    "start_time": "2021-09-17T15:16:12.422Z"
   },
   {
    "duration": 1360,
    "start_time": "2021-09-17T15:16:15.290Z"
   },
   {
    "duration": 1435,
    "start_time": "2021-09-17T15:16:17.439Z"
   },
   {
    "duration": 56,
    "start_time": "2021-09-17T15:16:38.021Z"
   },
   {
    "duration": 224,
    "start_time": "2021-09-19T13:49:00.011Z"
   },
   {
    "duration": 976,
    "start_time": "2021-09-19T13:49:05.431Z"
   },
   {
    "duration": 825,
    "start_time": "2021-09-19T13:49:06.409Z"
   },
   {
    "duration": 27,
    "start_time": "2021-09-19T13:49:07.236Z"
   },
   {
    "duration": 93,
    "start_time": "2021-09-19T13:49:11.973Z"
   },
   {
    "duration": 223,
    "start_time": "2021-09-19T13:52:41.917Z"
   },
   {
    "duration": 238,
    "start_time": "2021-09-19T13:52:45.714Z"
   },
   {
    "duration": 6,
    "start_time": "2021-09-19T13:53:09.214Z"
   },
   {
    "duration": 60,
    "start_time": "2021-09-19T14:02:31.860Z"
   },
   {
    "duration": 40,
    "start_time": "2021-09-19T14:03:31.387Z"
   },
   {
    "duration": 74,
    "start_time": "2021-09-19T14:04:05.449Z"
   },
   {
    "duration": 18,
    "start_time": "2021-09-19T14:04:05.525Z"
   },
   {
    "duration": 75,
    "start_time": "2021-09-19T14:04:05.545Z"
   },
   {
    "duration": 6,
    "start_time": "2021-09-19T14:08:45.035Z"
   },
   {
    "duration": 172,
    "start_time": "2021-09-19T14:15:58.316Z"
   },
   {
    "duration": 34,
    "start_time": "2021-09-19T14:16:27.157Z"
   },
   {
    "duration": 6,
    "start_time": "2021-09-19T14:17:00.016Z"
   },
   {
    "duration": 17,
    "start_time": "2021-09-19T14:17:12.048Z"
   },
   {
    "duration": 17,
    "start_time": "2021-09-19T14:17:34.082Z"
   },
   {
    "duration": 7,
    "start_time": "2021-09-19T14:18:48.123Z"
   },
   {
    "duration": 10,
    "start_time": "2021-09-19T14:21:32.145Z"
   },
   {
    "duration": 8,
    "start_time": "2021-09-19T14:22:27.384Z"
   },
   {
    "duration": 182,
    "start_time": "2021-09-19T14:22:33.124Z"
   },
   {
    "duration": 7,
    "start_time": "2021-09-19T14:22:43.875Z"
   },
   {
    "duration": 8,
    "start_time": "2021-09-19T14:22:51.238Z"
   },
   {
    "duration": 35,
    "start_time": "2021-09-19T14:25:25.703Z"
   },
   {
    "duration": 15,
    "start_time": "2021-09-19T14:25:35.181Z"
   },
   {
    "duration": 44,
    "start_time": "2021-09-19T14:25:48.141Z"
   },
   {
    "duration": 1104,
    "start_time": "2021-09-21T14:35:37.998Z"
   },
   {
    "duration": 964,
    "start_time": "2021-09-21T14:35:39.104Z"
   },
   {
    "duration": 141,
    "start_time": "2021-09-21T14:35:40.070Z"
   },
   {
    "duration": 25,
    "start_time": "2021-09-21T14:35:40.213Z"
   },
   {
    "duration": 117,
    "start_time": "2021-09-21T14:35:40.240Z"
   },
   {
    "duration": 6,
    "start_time": "2021-09-21T14:35:40.358Z"
   },
   {
    "duration": 18,
    "start_time": "2021-09-21T14:35:40.365Z"
   },
   {
    "duration": 14,
    "start_time": "2021-09-21T14:35:40.385Z"
   },
   {
    "duration": 82,
    "start_time": "2021-09-21T14:35:40.402Z"
   },
   {
    "duration": 37,
    "start_time": "2021-09-21T14:35:40.486Z"
   },
   {
    "duration": 64,
    "start_time": "2021-09-21T14:35:40.525Z"
   },
   {
    "duration": 39,
    "start_time": "2021-09-21T14:35:40.591Z"
   },
   {
    "duration": 66,
    "start_time": "2021-09-21T14:35:40.631Z"
   },
   {
    "duration": 1559,
    "start_time": "2021-09-22T16:44:14.747Z"
   },
   {
    "duration": 1352,
    "start_time": "2021-09-22T16:44:16.308Z"
   },
   {
    "duration": 171,
    "start_time": "2021-09-22T16:44:17.664Z"
   },
   {
    "duration": 55,
    "start_time": "2021-09-22T16:44:17.837Z"
   },
   {
    "duration": 135,
    "start_time": "2021-09-22T16:44:17.895Z"
   },
   {
    "duration": 6,
    "start_time": "2021-09-22T16:44:18.032Z"
   },
   {
    "duration": 7,
    "start_time": "2021-09-22T16:44:18.040Z"
   },
   {
    "duration": 41,
    "start_time": "2021-09-22T16:44:18.050Z"
   },
   {
    "duration": 102,
    "start_time": "2021-09-22T16:44:18.093Z"
   },
   {
    "duration": 57,
    "start_time": "2021-09-22T16:44:18.197Z"
   },
   {
    "duration": 84,
    "start_time": "2021-09-22T16:44:18.256Z"
   },
   {
    "duration": 70,
    "start_time": "2021-09-22T16:44:18.343Z"
   },
   {
    "duration": 73,
    "start_time": "2021-09-22T16:44:18.415Z"
   },
   {
    "duration": 62,
    "start_time": "2021-09-22T16:44:56.816Z"
   },
   {
    "duration": 1291,
    "start_time": "2021-09-22T16:56:40.227Z"
   },
   {
    "duration": 1445,
    "start_time": "2021-09-22T16:56:41.521Z"
   },
   {
    "duration": 43,
    "start_time": "2021-09-22T16:56:42.981Z"
   },
   {
    "duration": 142,
    "start_time": "2021-09-22T16:56:43.027Z"
   },
   {
    "duration": 15,
    "start_time": "2021-09-22T16:56:43.172Z"
   },
   {
    "duration": 8,
    "start_time": "2021-09-22T16:56:43.190Z"
   },
   {
    "duration": 17,
    "start_time": "2021-09-22T16:56:43.200Z"
   },
   {
    "duration": 130,
    "start_time": "2021-09-22T16:56:43.220Z"
   },
   {
    "duration": 86,
    "start_time": "2021-09-22T16:56:43.353Z"
   },
   {
    "duration": 65,
    "start_time": "2021-09-22T16:56:43.441Z"
   },
   {
    "duration": 33,
    "start_time": "2021-09-22T16:56:43.508Z"
   },
   {
    "duration": 79,
    "start_time": "2021-09-22T16:56:43.543Z"
   },
   {
    "duration": 620,
    "start_time": "2021-09-22T17:01:07.662Z"
   },
   {
    "duration": 455,
    "start_time": "2021-09-22T17:01:53.361Z"
   },
   {
    "duration": 395,
    "start_time": "2021-09-22T17:02:08.484Z"
   },
   {
    "duration": 1382,
    "start_time": "2021-09-22T17:02:38.023Z"
   },
   {
    "duration": 1314,
    "start_time": "2021-09-22T17:02:39.408Z"
   },
   {
    "duration": 58,
    "start_time": "2021-09-22T17:02:40.724Z"
   },
   {
    "duration": 141,
    "start_time": "2021-09-22T17:02:40.786Z"
   },
   {
    "duration": 7,
    "start_time": "2021-09-22T17:02:40.929Z"
   },
   {
    "duration": 9,
    "start_time": "2021-09-22T17:02:40.939Z"
   },
   {
    "duration": 39,
    "start_time": "2021-09-22T17:02:40.950Z"
   },
   {
    "duration": 107,
    "start_time": "2021-09-22T17:02:40.993Z"
   },
   {
    "duration": 94,
    "start_time": "2021-09-22T17:02:41.102Z"
   },
   {
    "duration": 51,
    "start_time": "2021-09-22T17:02:41.198Z"
   },
   {
    "duration": 48,
    "start_time": "2021-09-22T17:02:41.252Z"
   },
   {
    "duration": 61,
    "start_time": "2021-09-22T17:02:41.302Z"
   },
   {
    "duration": 567,
    "start_time": "2021-09-22T17:08:22.173Z"
   },
   {
    "duration": 8,
    "start_time": "2021-09-22T17:08:39.265Z"
   },
   {
    "duration": 456,
    "start_time": "2021-09-22T17:08:47.593Z"
   },
   {
    "duration": 1135,
    "start_time": "2021-09-22T17:08:53.209Z"
   },
   {
    "duration": 1296,
    "start_time": "2021-09-22T17:09:00.449Z"
   },
   {
    "duration": 53,
    "start_time": "2021-09-22T17:09:06.750Z"
   },
   {
    "duration": 477,
    "start_time": "2021-09-22T17:09:35.894Z"
   },
   {
    "duration": 181,
    "start_time": "2021-09-22T17:09:48.897Z"
   },
   {
    "duration": 8,
    "start_time": "2021-09-22T17:09:57.947Z"
   },
   {
    "duration": 456,
    "start_time": "2021-09-22T17:11:20.399Z"
   },
   {
    "duration": 449,
    "start_time": "2021-09-22T17:11:26.742Z"
   },
   {
    "duration": 487,
    "start_time": "2021-09-22T17:11:45.204Z"
   },
   {
    "duration": 495,
    "start_time": "2021-09-22T17:11:59.504Z"
   },
   {
    "duration": 32,
    "start_time": "2021-09-22T17:13:04.219Z"
   },
   {
    "duration": 36,
    "start_time": "2021-09-22T17:13:21.741Z"
   },
   {
    "duration": 476,
    "start_time": "2021-09-22T17:13:40.978Z"
   },
   {
    "duration": 379,
    "start_time": "2021-09-22T17:13:46.089Z"
   },
   {
    "duration": 1086,
    "start_time": "2021-09-22T17:14:11.891Z"
   },
   {
    "duration": 41,
    "start_time": "2021-09-22T17:14:22.475Z"
   },
   {
    "duration": 6,
    "start_time": "2021-09-22T17:14:26.670Z"
   },
   {
    "duration": 869,
    "start_time": "2021-09-22T17:14:35.778Z"
   },
   {
    "duration": 406,
    "start_time": "2021-09-22T17:15:39.550Z"
   },
   {
    "duration": 1309,
    "start_time": "2021-09-22T17:15:47.615Z"
   },
   {
    "duration": 31,
    "start_time": "2021-09-22T17:15:54.246Z"
   },
   {
    "duration": 49,
    "start_time": "2021-09-22T17:17:30.442Z"
   },
   {
    "duration": 55,
    "start_time": "2021-09-22T17:17:51.728Z"
   },
   {
    "duration": 48,
    "start_time": "2021-09-22T17:18:14.476Z"
   },
   {
    "duration": 3553,
    "start_time": "2021-09-22T17:18:28.936Z"
   },
   {
    "duration": 356,
    "start_time": "2021-09-22T17:18:46.956Z"
   },
   {
    "duration": 439,
    "start_time": "2021-09-22T17:18:52.467Z"
   },
   {
    "duration": 50,
    "start_time": "2021-09-22T17:19:02.002Z"
   },
   {
    "duration": 36,
    "start_time": "2021-09-22T17:22:07.207Z"
   },
   {
    "duration": 29,
    "start_time": "2021-09-22T17:24:32.558Z"
   },
   {
    "duration": 18,
    "start_time": "2021-09-22T17:25:05.554Z"
   },
   {
    "duration": 16,
    "start_time": "2021-09-22T17:25:06.198Z"
   },
   {
    "duration": 30,
    "start_time": "2021-09-22T17:25:07.900Z"
   },
   {
    "duration": 18,
    "start_time": "2021-09-22T17:25:08.756Z"
   },
   {
    "duration": 31,
    "start_time": "2021-09-22T17:25:52.701Z"
   },
   {
    "duration": 34,
    "start_time": "2021-09-22T17:26:50.150Z"
   },
   {
    "duration": 32,
    "start_time": "2021-09-22T17:27:00.712Z"
   },
   {
    "duration": 31,
    "start_time": "2021-09-22T17:27:05.648Z"
   },
   {
    "duration": 17,
    "start_time": "2021-09-22T17:28:17.660Z"
   },
   {
    "duration": 30,
    "start_time": "2021-09-22T17:28:57.957Z"
   },
   {
    "duration": 503,
    "start_time": "2021-09-22T17:29:11.248Z"
   },
   {
    "duration": 1344,
    "start_time": "2021-09-22T17:29:15.285Z"
   },
   {
    "duration": 34,
    "start_time": "2021-09-22T17:29:24.091Z"
   },
   {
    "duration": 16,
    "start_time": "2021-09-22T17:30:38.104Z"
   },
   {
    "duration": 60,
    "start_time": "2021-09-22T17:30:53.054Z"
   },
   {
    "duration": 610,
    "start_time": "2021-09-22T17:48:02.147Z"
   },
   {
    "duration": 475,
    "start_time": "2021-09-22T17:48:23.058Z"
   },
   {
    "duration": 89,
    "start_time": "2021-09-22T17:48:50.503Z"
   },
   {
    "duration": 45,
    "start_time": "2021-09-22T17:49:53.583Z"
   },
   {
    "duration": 44,
    "start_time": "2021-09-22T17:50:02.510Z"
   },
   {
    "duration": 35,
    "start_time": "2021-09-22T17:50:20.942Z"
   },
   {
    "duration": 354,
    "start_time": "2021-09-22T17:51:13.836Z"
   },
   {
    "duration": 78,
    "start_time": "2021-09-22T17:51:15.205Z"
   },
   {
    "duration": 87,
    "start_time": "2021-09-22T17:53:47.747Z"
   },
   {
    "duration": 268,
    "start_time": "2021-09-22T17:54:02.472Z"
   },
   {
    "duration": 88,
    "start_time": "2021-09-22T17:54:03.436Z"
   },
   {
    "duration": 1377,
    "start_time": "2021-09-22T17:54:22.225Z"
   },
   {
    "duration": 1298,
    "start_time": "2021-09-22T17:54:23.605Z"
   },
   {
    "duration": 45,
    "start_time": "2021-09-22T17:54:24.907Z"
   },
   {
    "duration": 153,
    "start_time": "2021-09-22T17:54:24.955Z"
   },
   {
    "duration": 7,
    "start_time": "2021-09-22T17:54:25.111Z"
   },
   {
    "duration": 18,
    "start_time": "2021-09-22T17:54:25.120Z"
   },
   {
    "duration": 24,
    "start_time": "2021-09-22T17:54:25.140Z"
   },
   {
    "duration": 101,
    "start_time": "2021-09-22T17:54:25.183Z"
   },
   {
    "duration": 95,
    "start_time": "2021-09-22T17:54:25.287Z"
   },
   {
    "duration": 56,
    "start_time": "2021-09-22T17:54:25.384Z"
   },
   {
    "duration": 54,
    "start_time": "2021-09-22T17:54:25.442Z"
   },
   {
    "duration": 70,
    "start_time": "2021-09-22T17:54:25.499Z"
   },
   {
    "duration": 18,
    "start_time": "2021-09-22T17:54:25.583Z"
   },
   {
    "duration": 27,
    "start_time": "2021-09-22T17:54:25.603Z"
   },
   {
    "duration": 33,
    "start_time": "2021-09-22T17:54:25.633Z"
   },
   {
    "duration": 19,
    "start_time": "2021-09-22T17:54:25.682Z"
   },
   {
    "duration": 38,
    "start_time": "2021-09-22T17:54:25.703Z"
   },
   {
    "duration": 26,
    "start_time": "2021-09-22T17:54:25.743Z"
   },
   {
    "duration": 42,
    "start_time": "2021-09-22T17:54:25.772Z"
   },
   {
    "duration": 30,
    "start_time": "2021-09-22T17:54:25.817Z"
   },
   {
    "duration": 66,
    "start_time": "2021-09-22T17:54:25.850Z"
   },
   {
    "duration": 678,
    "start_time": "2021-09-22T17:54:25.919Z"
   },
   {
    "duration": -447,
    "start_time": "2021-09-22T17:54:27.048Z"
   },
   {
    "duration": -447,
    "start_time": "2021-09-22T17:54:27.050Z"
   },
   {
    "duration": 124,
    "start_time": "2021-09-22T17:54:49.017Z"
   },
   {
    "duration": 303,
    "start_time": "2021-09-22T17:55:14.179Z"
   },
   {
    "duration": 79,
    "start_time": "2021-09-22T17:55:15.105Z"
   },
   {
    "duration": 1189,
    "start_time": "2021-09-22T17:56:47.726Z"
   },
   {
    "duration": 698,
    "start_time": "2021-09-22T17:56:54.450Z"
   },
   {
    "duration": 692,
    "start_time": "2021-09-22T17:59:58.296Z"
   },
   {
    "duration": 6,
    "start_time": "2021-09-22T18:00:49.649Z"
   },
   {
    "duration": 323,
    "start_time": "2021-09-22T18:00:56.873Z"
   },
   {
    "duration": 861,
    "start_time": "2021-09-22T18:01:29.039Z"
   },
   {
    "duration": 38,
    "start_time": "2021-09-22T18:02:14.481Z"
   },
   {
    "duration": 337,
    "start_time": "2021-09-22T18:02:15.083Z"
   },
   {
    "duration": 94,
    "start_time": "2021-09-22T18:02:15.636Z"
   },
   {
    "duration": 654,
    "start_time": "2021-09-22T18:02:18.857Z"
   },
   {
    "duration": 812,
    "start_time": "2021-09-22T18:02:20.035Z"
   },
   {
    "duration": 1526,
    "start_time": "2021-09-22T18:02:40.764Z"
   },
   {
    "duration": 1462,
    "start_time": "2021-09-22T18:02:42.292Z"
   },
   {
    "duration": 56,
    "start_time": "2021-09-22T18:02:43.757Z"
   },
   {
    "duration": 141,
    "start_time": "2021-09-22T18:02:43.816Z"
   },
   {
    "duration": 7,
    "start_time": "2021-09-22T18:02:43.959Z"
   },
   {
    "duration": 21,
    "start_time": "2021-09-22T18:02:43.968Z"
   },
   {
    "duration": 14,
    "start_time": "2021-09-22T18:02:43.992Z"
   },
   {
    "duration": 124,
    "start_time": "2021-09-22T18:02:44.009Z"
   },
   {
    "duration": 99,
    "start_time": "2021-09-22T18:02:44.138Z"
   },
   {
    "duration": 62,
    "start_time": "2021-09-22T18:02:44.240Z"
   },
   {
    "duration": 34,
    "start_time": "2021-09-22T18:02:44.305Z"
   },
   {
    "duration": 78,
    "start_time": "2021-09-22T18:02:44.341Z"
   },
   {
    "duration": 17,
    "start_time": "2021-09-22T18:02:44.421Z"
   },
   {
    "duration": 42,
    "start_time": "2021-09-22T18:02:44.440Z"
   },
   {
    "duration": 35,
    "start_time": "2021-09-22T18:02:44.485Z"
   },
   {
    "duration": 20,
    "start_time": "2021-09-22T18:02:44.523Z"
   },
   {
    "duration": 54,
    "start_time": "2021-09-22T18:02:44.545Z"
   },
   {
    "duration": 17,
    "start_time": "2021-09-22T18:02:44.602Z"
   },
   {
    "duration": 30,
    "start_time": "2021-09-22T18:02:44.621Z"
   },
   {
    "duration": 47,
    "start_time": "2021-09-22T18:02:44.654Z"
   },
   {
    "duration": 80,
    "start_time": "2021-09-22T18:02:44.703Z"
   },
   {
    "duration": 160,
    "start_time": "2021-09-22T18:02:44.786Z"
   },
   {
    "duration": 283,
    "start_time": "2021-09-22T18:02:44.948Z"
   },
   {
    "duration": 88,
    "start_time": "2021-09-22T18:02:45.233Z"
   },
   {
    "duration": 634,
    "start_time": "2021-09-22T18:02:45.323Z"
   },
   {
    "duration": 940,
    "start_time": "2021-09-22T18:02:45.960Z"
   },
   {
    "duration": 450,
    "start_time": "2021-09-22T18:03:23.406Z"
   },
   {
    "duration": 20,
    "start_time": "2021-09-22T18:04:05.242Z"
   },
   {
    "duration": 481,
    "start_time": "2021-09-22T18:04:09.900Z"
   },
   {
    "duration": 83,
    "start_time": "2021-09-22T18:04:28.063Z"
   },
   {
    "duration": 467,
    "start_time": "2021-09-22T18:04:32.911Z"
   },
   {
    "duration": 6,
    "start_time": "2021-09-22T18:05:16.331Z"
   },
   {
    "duration": 7,
    "start_time": "2021-09-22T18:05:20.224Z"
   },
   {
    "duration": 373,
    "start_time": "2021-09-22T18:05:44.611Z"
   },
   {
    "duration": 7,
    "start_time": "2021-09-22T18:06:35.029Z"
   },
   {
    "duration": 391,
    "start_time": "2021-09-22T18:06:41.014Z"
   },
   {
    "duration": 7,
    "start_time": "2021-09-22T18:07:21.211Z"
   },
   {
    "duration": 367,
    "start_time": "2021-09-22T18:07:21.939Z"
   },
   {
    "duration": 9,
    "start_time": "2021-09-22T18:07:56.347Z"
   },
   {
    "duration": 451,
    "start_time": "2021-09-22T18:08:04.120Z"
   },
   {
    "duration": 5,
    "start_time": "2021-09-22T18:08:38.020Z"
   },
   {
    "duration": 8,
    "start_time": "2021-09-22T18:08:45.981Z"
   },
   {
    "duration": 402,
    "start_time": "2021-09-22T18:08:48.291Z"
   },
   {
    "duration": 3,
    "start_time": "2021-09-22T18:09:40.260Z"
   },
   {
    "duration": 1356,
    "start_time": "2021-09-22T18:09:48.710Z"
   },
   {
    "duration": 3,
    "start_time": "2021-09-22T18:09:50.069Z"
   },
   {
    "duration": 1230,
    "start_time": "2021-09-22T18:09:50.083Z"
   },
   {
    "duration": 42,
    "start_time": "2021-09-22T18:09:51.315Z"
   },
   {
    "duration": 159,
    "start_time": "2021-09-22T18:09:51.360Z"
   },
   {
    "duration": 10,
    "start_time": "2021-09-22T18:09:51.522Z"
   },
   {
    "duration": 13,
    "start_time": "2021-09-22T18:09:51.535Z"
   },
   {
    "duration": 37,
    "start_time": "2021-09-22T18:09:51.554Z"
   },
   {
    "duration": 111,
    "start_time": "2021-09-22T18:09:51.595Z"
   },
   {
    "duration": 90,
    "start_time": "2021-09-22T18:09:51.709Z"
   },
   {
    "duration": 52,
    "start_time": "2021-09-22T18:09:51.801Z"
   },
   {
    "duration": 53,
    "start_time": "2021-09-22T18:09:51.855Z"
   },
   {
    "duration": 74,
    "start_time": "2021-09-22T18:09:51.910Z"
   },
   {
    "duration": 20,
    "start_time": "2021-09-22T18:09:51.987Z"
   },
   {
    "duration": 20,
    "start_time": "2021-09-22T18:09:52.010Z"
   },
   {
    "duration": 50,
    "start_time": "2021-09-22T18:09:52.033Z"
   },
   {
    "duration": 17,
    "start_time": "2021-09-22T18:09:52.086Z"
   },
   {
    "duration": 30,
    "start_time": "2021-09-22T18:09:52.106Z"
   },
   {
    "duration": 45,
    "start_time": "2021-09-22T18:09:52.138Z"
   },
   {
    "duration": 29,
    "start_time": "2021-09-22T18:09:52.186Z"
   },
   {
    "duration": 29,
    "start_time": "2021-09-22T18:09:52.218Z"
   },
   {
    "duration": 70,
    "start_time": "2021-09-22T18:09:52.249Z"
   },
   {
    "duration": 133,
    "start_time": "2021-09-22T18:09:52.323Z"
   },
   {
    "duration": 364,
    "start_time": "2021-09-22T18:09:52.459Z"
   },
   {
    "duration": 105,
    "start_time": "2021-09-22T18:09:52.826Z"
   },
   {
    "duration": 633,
    "start_time": "2021-09-22T18:09:52.934Z"
   },
   {
    "duration": 14,
    "start_time": "2021-09-22T18:09:53.569Z"
   },
   {
    "duration": 501,
    "start_time": "2021-09-22T18:09:53.585Z"
   },
   {
    "duration": 10220,
    "start_time": "2021-09-22T18:10:35.083Z"
   },
   {
    "duration": 2099,
    "start_time": "2021-09-22T18:12:54.282Z"
   },
   {
    "duration": 3,
    "start_time": "2021-09-22T18:12:56.384Z"
   },
   {
    "duration": 1304,
    "start_time": "2021-09-22T18:12:56.390Z"
   },
   {
    "duration": 49,
    "start_time": "2021-09-22T18:12:57.698Z"
   },
   {
    "duration": 156,
    "start_time": "2021-09-22T18:12:57.749Z"
   },
   {
    "duration": 10,
    "start_time": "2021-09-22T18:12:57.908Z"
   },
   {
    "duration": 9,
    "start_time": "2021-09-22T18:12:57.921Z"
   },
   {
    "duration": 50,
    "start_time": "2021-09-22T18:12:57.934Z"
   },
   {
    "duration": 115,
    "start_time": "2021-09-22T18:12:57.988Z"
   },
   {
    "duration": 112,
    "start_time": "2021-09-22T18:12:58.106Z"
   },
   {
    "duration": 84,
    "start_time": "2021-09-22T18:12:58.222Z"
   },
   {
    "duration": 40,
    "start_time": "2021-09-22T18:12:58.309Z"
   },
   {
    "duration": 117,
    "start_time": "2021-09-22T18:12:58.353Z"
   },
   {
    "duration": 24,
    "start_time": "2021-09-22T18:12:58.484Z"
   },
   {
    "duration": 17,
    "start_time": "2021-09-22T18:12:58.511Z"
   },
   {
    "duration": 59,
    "start_time": "2021-09-22T18:12:58.531Z"
   },
   {
    "duration": 23,
    "start_time": "2021-09-22T18:12:58.592Z"
   },
   {
    "duration": 30,
    "start_time": "2021-09-22T18:12:58.617Z"
   },
   {
    "duration": 42,
    "start_time": "2021-09-22T18:12:58.650Z"
   },
   {
    "duration": 31,
    "start_time": "2021-09-22T18:12:58.695Z"
   },
   {
    "duration": 22,
    "start_time": "2021-09-22T18:12:58.729Z"
   },
   {
    "duration": 58,
    "start_time": "2021-09-22T18:12:58.782Z"
   },
   {
    "duration": 154,
    "start_time": "2021-09-22T18:12:58.844Z"
   },
   {
    "duration": 284,
    "start_time": "2021-09-22T18:12:59.001Z"
   },
   {
    "duration": 100,
    "start_time": "2021-09-22T18:12:59.288Z"
   },
   {
    "duration": 1148,
    "start_time": "2021-09-22T18:12:59.391Z"
   },
   {
    "duration": 12,
    "start_time": "2021-09-22T18:13:00.542Z"
   },
   {
    "duration": 2013,
    "start_time": "2021-09-22T18:19:44.600Z"
   },
   {
    "duration": 4,
    "start_time": "2021-09-22T18:19:46.617Z"
   },
   {
    "duration": 1371,
    "start_time": "2021-09-22T18:19:46.625Z"
   },
   {
    "duration": 44,
    "start_time": "2021-09-22T18:19:47.999Z"
   },
   {
    "duration": 150,
    "start_time": "2021-09-22T18:19:48.046Z"
   },
   {
    "duration": 7,
    "start_time": "2021-09-22T18:19:48.199Z"
   },
   {
    "duration": 8,
    "start_time": "2021-09-22T18:19:48.208Z"
   },
   {
    "duration": 14,
    "start_time": "2021-09-22T18:19:48.220Z"
   },
   {
    "duration": 120,
    "start_time": "2021-09-22T18:19:48.237Z"
   },
   {
    "duration": 92,
    "start_time": "2021-09-22T18:19:48.360Z"
   },
   {
    "duration": 64,
    "start_time": "2021-09-22T18:19:48.454Z"
   },
   {
    "duration": 32,
    "start_time": "2021-09-22T18:19:48.520Z"
   },
   {
    "duration": 70,
    "start_time": "2021-09-22T18:19:48.555Z"
   },
   {
    "duration": 17,
    "start_time": "2021-09-22T18:19:48.627Z"
   },
   {
    "duration": 42,
    "start_time": "2021-09-22T18:19:48.647Z"
   },
   {
    "duration": 36,
    "start_time": "2021-09-22T18:19:48.692Z"
   },
   {
    "duration": 24,
    "start_time": "2021-09-22T18:19:48.730Z"
   },
   {
    "duration": 39,
    "start_time": "2021-09-22T18:19:48.757Z"
   },
   {
    "duration": 17,
    "start_time": "2021-09-22T18:19:48.798Z"
   },
   {
    "duration": 36,
    "start_time": "2021-09-22T18:19:48.818Z"
   },
   {
    "duration": 37,
    "start_time": "2021-09-22T18:19:48.856Z"
   },
   {
    "duration": 75,
    "start_time": "2021-09-22T18:19:48.896Z"
   },
   {
    "duration": 150,
    "start_time": "2021-09-22T18:19:48.976Z"
   },
   {
    "duration": 273,
    "start_time": "2021-09-22T18:19:49.129Z"
   },
   {
    "duration": 88,
    "start_time": "2021-09-22T18:19:49.405Z"
   },
   {
    "duration": 643,
    "start_time": "2021-09-22T18:19:49.496Z"
   },
   {
    "duration": 9,
    "start_time": "2021-09-22T18:19:50.142Z"
   },
   {
    "duration": 83734,
    "start_time": "2021-09-22T18:19:50.154Z"
   },
   {
    "duration": 580,
    "start_time": "2021-09-22T18:22:18.725Z"
   },
   {
    "duration": 56,
    "start_time": "2021-09-22T18:22:49.785Z"
   },
   {
    "duration": 7,
    "start_time": "2021-09-22T18:22:54.874Z"
   },
   {
    "duration": 1646,
    "start_time": "2021-09-26T12:35:19.689Z"
   },
   {
    "duration": 3,
    "start_time": "2021-09-26T12:35:21.337Z"
   },
   {
    "duration": 1827,
    "start_time": "2021-09-26T12:35:21.346Z"
   },
   {
    "duration": 59,
    "start_time": "2021-09-26T12:35:23.177Z"
   },
   {
    "duration": 149,
    "start_time": "2021-09-26T12:35:23.239Z"
   },
   {
    "duration": 27,
    "start_time": "2021-09-26T12:35:23.392Z"
   },
   {
    "duration": 11,
    "start_time": "2021-09-26T12:35:23.422Z"
   },
   {
    "duration": 16,
    "start_time": "2021-09-26T12:35:23.436Z"
   },
   {
    "duration": 123,
    "start_time": "2021-09-26T12:35:23.459Z"
   },
   {
    "duration": 101,
    "start_time": "2021-09-26T12:35:23.586Z"
   },
   {
    "duration": 69,
    "start_time": "2021-09-26T12:35:23.689Z"
   },
   {
    "duration": 36,
    "start_time": "2021-09-26T12:35:23.761Z"
   },
   {
    "duration": 62,
    "start_time": "2021-09-26T12:35:23.816Z"
   },
   {
    "duration": 41,
    "start_time": "2021-09-26T12:35:23.881Z"
   },
   {
    "duration": 17,
    "start_time": "2021-09-26T12:35:23.925Z"
   },
   {
    "duration": 30,
    "start_time": "2021-09-26T12:35:23.945Z"
   },
   {
    "duration": 48,
    "start_time": "2021-09-26T12:35:23.977Z"
   },
   {
    "duration": 33,
    "start_time": "2021-09-26T12:35:24.027Z"
   },
   {
    "duration": 18,
    "start_time": "2021-09-26T12:35:24.063Z"
   },
   {
    "duration": 56,
    "start_time": "2021-09-26T12:35:24.083Z"
   },
   {
    "duration": 23,
    "start_time": "2021-09-26T12:35:24.141Z"
   },
   {
    "duration": 78,
    "start_time": "2021-09-26T12:35:24.166Z"
   },
   {
    "duration": 138,
    "start_time": "2021-09-26T12:59:18.643Z"
   },
   {
    "duration": 28,
    "start_time": "2021-09-26T13:00:57.914Z"
   },
   {
    "duration": 16,
    "start_time": "2021-09-26T13:01:08.289Z"
   },
   {
    "duration": 35,
    "start_time": "2021-09-26T13:01:19.427Z"
   },
   {
    "duration": 389,
    "start_time": "2021-09-26T13:01:43.242Z"
   },
   {
    "duration": 87,
    "start_time": "2021-09-26T13:07:36.802Z"
   },
   {
    "duration": 44,
    "start_time": "2021-09-26T13:07:49.589Z"
   },
   {
    "duration": 612,
    "start_time": "2021-09-26T13:11:01.678Z"
   },
   {
    "duration": 370,
    "start_time": "2021-09-26T13:17:45.824Z"
   },
   {
    "duration": 76138,
    "start_time": "2021-09-26T13:17:55.581Z"
   },
   {
    "duration": 5,
    "start_time": "2021-09-26T13:22:53.443Z"
   },
   {
    "duration": 1481,
    "start_time": "2021-09-26T13:30:11.527Z"
   },
   {
    "duration": 7,
    "start_time": "2021-09-26T13:30:13.010Z"
   },
   {
    "duration": 1306,
    "start_time": "2021-09-26T13:30:13.021Z"
   },
   {
    "duration": 45,
    "start_time": "2021-09-26T13:30:14.331Z"
   },
   {
    "duration": 160,
    "start_time": "2021-09-26T13:30:14.379Z"
   },
   {
    "duration": 11,
    "start_time": "2021-09-26T13:30:14.542Z"
   },
   {
    "duration": 8,
    "start_time": "2021-09-26T13:30:14.555Z"
   },
   {
    "duration": 54,
    "start_time": "2021-09-26T13:30:14.569Z"
   },
   {
    "duration": 120,
    "start_time": "2021-09-26T13:30:14.627Z"
   },
   {
    "duration": 105,
    "start_time": "2021-09-26T13:30:14.750Z"
   },
   {
    "duration": 70,
    "start_time": "2021-09-26T13:30:14.857Z"
   },
   {
    "duration": 35,
    "start_time": "2021-09-26T13:30:14.929Z"
   },
   {
    "duration": 87,
    "start_time": "2021-09-26T13:30:14.967Z"
   },
   {
    "duration": 23,
    "start_time": "2021-09-26T13:30:15.057Z"
   },
   {
    "duration": 18,
    "start_time": "2021-09-26T13:30:15.082Z"
   },
   {
    "duration": 30,
    "start_time": "2021-09-26T13:30:15.116Z"
   },
   {
    "duration": 19,
    "start_time": "2021-09-26T13:30:15.148Z"
   },
   {
    "duration": 54,
    "start_time": "2021-09-26T13:30:15.169Z"
   },
   {
    "duration": 18,
    "start_time": "2021-09-26T13:30:15.226Z"
   },
   {
    "duration": 32,
    "start_time": "2021-09-26T13:30:15.246Z"
   },
   {
    "duration": 46,
    "start_time": "2021-09-26T13:30:15.280Z"
   },
   {
    "duration": 59,
    "start_time": "2021-09-26T13:30:15.329Z"
   },
   {
    "duration": 159,
    "start_time": "2021-09-26T13:30:15.392Z"
   },
   {
    "duration": 37,
    "start_time": "2021-09-26T13:30:15.553Z"
   },
   {
    "duration": 442,
    "start_time": "2021-09-26T13:30:15.593Z"
   },
   {
    "duration": 84,
    "start_time": "2021-09-26T13:30:16.038Z"
   },
   {
    "duration": 72,
    "start_time": "2021-09-26T13:30:24.148Z"
   },
   {
    "duration": 521,
    "start_time": "2021-09-26T13:30:26.170Z"
   },
   {
    "duration": 18642,
    "start_time": "2021-09-26T13:30:51.085Z"
   },
   {
    "duration": 18257,
    "start_time": "2021-09-26T13:31:38.771Z"
   },
   {
    "duration": 362,
    "start_time": "2021-09-26T13:39:33.755Z"
   },
   {
    "duration": 5,
    "start_time": "2021-09-26T13:50:32.618Z"
   },
   {
    "duration": 353,
    "start_time": "2021-09-26T13:52:58.054Z"
   },
   {
    "duration": 348,
    "start_time": "2021-09-26T13:53:08.917Z"
   },
   {
    "duration": 7,
    "start_time": "2021-09-26T13:54:15.171Z"
   },
   {
    "duration": 29225,
    "start_time": "2021-09-26T13:54:21.805Z"
   },
   {
    "duration": 190317,
    "start_time": "2021-09-26T13:55:44.577Z"
   },
   {
    "duration": 352,
    "start_time": "2021-09-26T14:00:50.416Z"
   },
   {
    "duration": 254,
    "start_time": "2021-09-26T14:02:03.382Z"
   },
   {
    "duration": 24429,
    "start_time": "2021-09-26T14:02:18.813Z"
   },
   {
    "duration": 363,
    "start_time": "2021-09-26T14:02:54.488Z"
   },
   {
    "duration": 5,
    "start_time": "2021-09-26T14:03:29.185Z"
   },
   {
    "duration": 81760,
    "start_time": "2021-09-26T14:03:35.240Z"
   },
   {
    "duration": 451,
    "start_time": "2021-09-26T14:05:30.580Z"
   },
   {
    "duration": 11,
    "start_time": "2021-09-26T14:06:25.211Z"
   },
   {
    "duration": 6,
    "start_time": "2021-09-26T14:06:30.133Z"
   },
   {
    "duration": 380,
    "start_time": "2021-09-26T14:08:08.201Z"
   },
   {
    "duration": 113498,
    "start_time": "2021-09-26T14:09:28.487Z"
   },
   {
    "duration": 1471,
    "start_time": "2021-09-26T14:12:45.818Z"
   },
   {
    "duration": 2,
    "start_time": "2021-09-26T14:12:47.292Z"
   },
   {
    "duration": 6903,
    "start_time": "2021-09-26T14:12:47.297Z"
   },
   {
    "duration": 54,
    "start_time": "2021-09-26T14:12:54.202Z"
   },
   {
    "duration": 142,
    "start_time": "2021-09-26T14:12:54.258Z"
   },
   {
    "duration": 14,
    "start_time": "2021-09-26T14:12:54.402Z"
   },
   {
    "duration": 8,
    "start_time": "2021-09-26T14:12:54.419Z"
   },
   {
    "duration": 17,
    "start_time": "2021-09-26T14:12:54.430Z"
   },
   {
    "duration": 123,
    "start_time": "2021-09-26T14:12:54.450Z"
   },
   {
    "duration": 90,
    "start_time": "2021-09-26T14:12:54.575Z"
   },
   {
    "duration": 65,
    "start_time": "2021-09-26T14:12:54.668Z"
   },
   {
    "duration": 33,
    "start_time": "2021-09-26T14:12:54.736Z"
   },
   {
    "duration": 77,
    "start_time": "2021-09-26T14:12:54.772Z"
   },
   {
    "duration": 17,
    "start_time": "2021-09-26T14:12:54.852Z"
   },
   {
    "duration": 45,
    "start_time": "2021-09-26T14:12:54.872Z"
   },
   {
    "duration": 29,
    "start_time": "2021-09-26T14:12:54.920Z"
   },
   {
    "duration": 31,
    "start_time": "2021-09-26T14:12:54.953Z"
   },
   {
    "duration": 52,
    "start_time": "2021-09-26T14:12:54.987Z"
   },
   {
    "duration": 29,
    "start_time": "2021-09-26T14:12:55.042Z"
   },
   {
    "duration": 82,
    "start_time": "2021-09-26T14:12:55.075Z"
   },
   {
    "duration": 26,
    "start_time": "2021-09-26T14:12:55.161Z"
   },
   {
    "duration": 112,
    "start_time": "2021-09-26T14:12:55.190Z"
   },
   {
    "duration": 246,
    "start_time": "2021-09-26T14:12:55.335Z"
   },
   {
    "duration": 67,
    "start_time": "2021-09-26T14:12:55.585Z"
   },
   {
    "duration": 400,
    "start_time": "2021-09-26T14:12:55.655Z"
   },
   {
    "duration": 90,
    "start_time": "2021-09-26T14:12:56.058Z"
   },
   {
    "duration": 543,
    "start_time": "2021-09-26T14:12:56.151Z"
   },
   {
    "duration": 22330,
    "start_time": "2021-09-26T14:12:56.697Z"
   },
   {
    "duration": 10370,
    "start_time": "2021-09-26T14:13:19.118Z"
   },
   {
    "duration": 770,
    "start_time": "2021-09-26T14:14:44.225Z"
   },
   {
    "duration": 121969,
    "start_time": "2021-09-26T14:15:41.905Z"
   },
   {
    "duration": 262,
    "start_time": "2021-09-26T14:18:42.879Z"
   },
   {
    "duration": 5839,
    "start_time": "2021-09-26T14:23:58.347Z"
   },
   {
    "duration": 20589,
    "start_time": "2021-09-26T14:24:40.130Z"
   },
   {
    "duration": 5444,
    "start_time": "2021-09-26T14:25:06.619Z"
   },
   {
    "duration": 102491,
    "start_time": "2021-09-26T14:27:41.759Z"
   },
   {
    "duration": 132,
    "start_time": "2021-09-26T14:29:41.204Z"
   },
   {
    "duration": 12129,
    "start_time": "2021-09-26T14:30:04.859Z"
   },
   {
    "duration": 58166,
    "start_time": "2021-09-26T14:30:36.430Z"
   },
   {
    "duration": 214,
    "start_time": "2021-09-26T14:31:34.385Z"
   },
   {
    "duration": 344,
    "start_time": "2021-09-26T14:33:14.265Z"
   },
   {
    "duration": 5,
    "start_time": "2021-09-26T14:33:41.561Z"
   },
   {
    "duration": 382,
    "start_time": "2021-09-26T14:33:46.168Z"
   },
   {
    "duration": 334,
    "start_time": "2021-09-26T14:33:52.192Z"
   },
   {
    "duration": 396,
    "start_time": "2021-09-26T14:34:51.585Z"
   },
   {
    "duration": 1601,
    "start_time": "2021-09-26T14:35:48.354Z"
   },
   {
    "duration": 3,
    "start_time": "2021-09-26T14:35:49.958Z"
   },
   {
    "duration": 1372,
    "start_time": "2021-09-26T14:35:49.964Z"
   },
   {
    "duration": 43,
    "start_time": "2021-09-26T14:35:51.339Z"
   },
   {
    "duration": 153,
    "start_time": "2021-09-26T14:35:51.384Z"
   },
   {
    "duration": 7,
    "start_time": "2021-09-26T14:35:51.539Z"
   },
   {
    "duration": 9,
    "start_time": "2021-09-26T14:35:51.549Z"
   },
   {
    "duration": 56,
    "start_time": "2021-09-26T14:35:51.562Z"
   },
   {
    "duration": 104,
    "start_time": "2021-09-26T14:35:51.621Z"
   },
   {
    "duration": 91,
    "start_time": "2021-09-26T14:35:51.727Z"
   },
   {
    "duration": 54,
    "start_time": "2021-09-26T14:35:51.820Z"
   },
   {
    "duration": 60,
    "start_time": "2021-09-26T14:35:51.877Z"
   },
   {
    "duration": 59,
    "start_time": "2021-09-26T14:35:51.939Z"
   },
   {
    "duration": 30,
    "start_time": "2021-09-26T14:35:52.001Z"
   },
   {
    "duration": 17,
    "start_time": "2021-09-26T14:35:52.034Z"
   },
   {
    "duration": 29,
    "start_time": "2021-09-26T14:35:52.053Z"
   },
   {
    "duration": 18,
    "start_time": "2021-09-26T14:35:52.116Z"
   },
   {
    "duration": 30,
    "start_time": "2021-09-26T14:35:52.137Z"
   },
   {
    "duration": 48,
    "start_time": "2021-09-26T14:35:52.170Z"
   },
   {
    "duration": 32,
    "start_time": "2021-09-26T14:35:52.220Z"
   },
   {
    "duration": 20,
    "start_time": "2021-09-26T14:35:52.255Z"
   },
   {
    "duration": 94,
    "start_time": "2021-09-26T14:35:52.278Z"
   },
   {
    "duration": 158,
    "start_time": "2021-09-26T14:35:52.377Z"
   },
   {
    "duration": 38,
    "start_time": "2021-09-26T14:35:52.537Z"
   },
   {
    "duration": 380,
    "start_time": "2021-09-26T14:35:52.577Z"
   },
   {
    "duration": 82,
    "start_time": "2021-09-26T14:35:52.960Z"
   },
   {
    "duration": 540,
    "start_time": "2021-09-26T14:35:53.044Z"
   },
   {
    "duration": 17541,
    "start_time": "2021-09-26T14:35:53.586Z"
   },
   {
    "duration": 22297,
    "start_time": "2021-09-26T14:36:11.130Z"
   },
   {
    "duration": 238,
    "start_time": "2021-09-26T14:36:33.191Z"
   },
   {
    "duration": 235,
    "start_time": "2021-09-26T14:36:33.196Z"
   },
   {
    "duration": 314963,
    "start_time": "2021-09-26T14:36:37.576Z"
   },
   {
    "duration": 247,
    "start_time": "2021-09-26T14:41:52.297Z"
   },
   {
    "duration": 1560,
    "start_time": "2021-09-26T14:42:09.762Z"
   },
   {
    "duration": 1746,
    "start_time": "2021-09-26T14:42:11.325Z"
   },
   {
    "duration": 88,
    "start_time": "2021-09-26T14:42:13.076Z"
   },
   {
    "duration": 219,
    "start_time": "2021-09-26T14:42:13.168Z"
   },
   {
    "duration": 13,
    "start_time": "2021-09-26T14:42:13.390Z"
   },
   {
    "duration": 14,
    "start_time": "2021-09-26T14:42:13.418Z"
   },
   {
    "duration": 26,
    "start_time": "2021-09-26T14:42:13.435Z"
   },
   {
    "duration": 194,
    "start_time": "2021-09-26T14:42:13.467Z"
   },
   {
    "duration": 139,
    "start_time": "2021-09-26T14:42:13.666Z"
   },
   {
    "duration": 97,
    "start_time": "2021-09-26T14:42:13.808Z"
   },
   {
    "duration": 63,
    "start_time": "2021-09-26T14:42:13.909Z"
   },
   {
    "duration": 120,
    "start_time": "2021-09-26T14:42:13.976Z"
   },
   {
    "duration": 25,
    "start_time": "2021-09-26T14:42:14.099Z"
   },
   {
    "duration": 26,
    "start_time": "2021-09-26T14:42:14.127Z"
   },
   {
    "duration": 39,
    "start_time": "2021-09-26T14:42:14.155Z"
   },
   {
    "duration": 37,
    "start_time": "2021-09-26T14:42:14.196Z"
   },
   {
    "duration": 36,
    "start_time": "2021-09-26T14:42:14.235Z"
   },
   {
    "duration": 22,
    "start_time": "2021-09-26T14:42:14.274Z"
   },
   {
    "duration": 31,
    "start_time": "2021-09-26T14:42:14.317Z"
   },
   {
    "duration": 23,
    "start_time": "2021-09-26T14:42:14.350Z"
   },
   {
    "duration": 81,
    "start_time": "2021-09-26T14:42:14.376Z"
   },
   {
    "duration": 151,
    "start_time": "2021-09-26T14:42:14.459Z"
   },
   {
    "duration": 40,
    "start_time": "2021-09-26T14:42:14.616Z"
   },
   {
    "duration": 406,
    "start_time": "2021-09-26T14:42:14.660Z"
   },
   {
    "duration": 88,
    "start_time": "2021-09-26T14:42:15.069Z"
   },
   {
    "duration": 550,
    "start_time": "2021-09-26T14:42:15.160Z"
   },
   {
    "duration": 17408,
    "start_time": "2021-09-26T14:42:15.713Z"
   },
   {
    "duration": 228953,
    "start_time": "2021-09-26T14:42:33.125Z"
   },
   {
    "duration": 236,
    "start_time": "2021-09-26T14:46:21.847Z"
   },
   {
    "duration": 234,
    "start_time": "2021-09-26T14:46:21.851Z"
   },
   {
    "duration": 6487,
    "start_time": "2021-09-26T14:46:29.743Z"
   },
   {
    "duration": 55740,
    "start_time": "2021-09-26T14:46:36.234Z"
   },
   {
    "duration": 6,
    "start_time": "2021-09-26T15:30:00.754Z"
   },
   {
    "duration": 1491,
    "start_time": "2021-09-26T15:30:00.763Z"
   },
   {
    "duration": 33,
    "start_time": "2021-09-26T15:30:02.257Z"
   },
   {
    "duration": 148,
    "start_time": "2021-09-26T15:30:02.293Z"
   },
   {
    "duration": 10,
    "start_time": "2021-09-26T15:30:02.445Z"
   },
   {
    "duration": 32,
    "start_time": "2021-09-26T15:30:02.459Z"
   },
   {
    "duration": 31,
    "start_time": "2021-09-26T15:30:02.494Z"
   },
   {
    "duration": 89,
    "start_time": "2021-09-26T15:30:02.529Z"
   },
   {
    "duration": 71,
    "start_time": "2021-09-26T15:30:02.622Z"
   },
   {
    "duration": 69,
    "start_time": "2021-09-26T15:30:02.695Z"
   },
   {
    "duration": 49,
    "start_time": "2021-09-26T15:30:02.767Z"
   },
   {
    "duration": 60,
    "start_time": "2021-09-26T15:30:02.819Z"
   },
   {
    "duration": 85,
    "start_time": "2021-09-26T15:30:02.882Z"
   },
   {
    "duration": 28,
    "start_time": "2021-09-26T15:30:02.970Z"
   },
   {
    "duration": 47,
    "start_time": "2021-09-26T15:30:03.001Z"
   },
   {
    "duration": 102,
    "start_time": "2021-09-26T15:30:03.051Z"
   },
   {
    "duration": 101,
    "start_time": "2021-09-26T15:30:03.156Z"
   },
   {
    "duration": 127,
    "start_time": "2021-09-26T15:30:03.260Z"
   },
   {
    "duration": 78,
    "start_time": "2021-09-26T15:30:03.390Z"
   },
   {
    "duration": 127,
    "start_time": "2021-09-26T15:30:03.471Z"
   },
   {
    "duration": 178,
    "start_time": "2021-09-26T15:30:03.601Z"
   },
   {
    "duration": 139,
    "start_time": "2021-09-26T15:30:03.782Z"
   },
   {
    "duration": 39,
    "start_time": "2021-09-26T15:30:03.925Z"
   },
   {
    "duration": 434,
    "start_time": "2021-09-26T15:30:03.968Z"
   },
   {
    "duration": 62,
    "start_time": "2021-09-26T15:30:04.405Z"
   },
   {
    "duration": 680,
    "start_time": "2021-09-26T15:30:04.470Z"
   },
   {
    "duration": 18469,
    "start_time": "2021-09-26T15:30:05.152Z"
   },
   {
    "duration": 110254,
    "start_time": "2021-09-26T15:30:23.625Z"
   },
   {
    "duration": 46,
    "start_time": "2021-09-26T15:32:13.836Z"
   },
   {
    "duration": 44,
    "start_time": "2021-09-26T15:32:13.840Z"
   },
   {
    "duration": 18552,
    "start_time": "2021-09-26T15:32:56.376Z"
   },
   {
    "duration": 223,
    "start_time": "2021-09-26T15:33:24.398Z"
   },
   {
    "duration": 6135,
    "start_time": "2021-09-26T15:35:06.365Z"
   },
   {
    "duration": 64,
    "start_time": "2021-09-26T15:35:20.558Z"
   },
   {
    "duration": 136,
    "start_time": "2021-09-26T15:36:19.698Z"
   },
   {
    "duration": 128,
    "start_time": "2021-09-26T15:36:25.908Z"
   },
   {
    "duration": 197,
    "start_time": "2021-09-26T15:37:10.440Z"
   },
   {
    "duration": 5522,
    "start_time": "2021-09-26T15:37:18.947Z"
   },
   {
    "duration": 5774,
    "start_time": "2021-09-26T15:37:36.428Z"
   },
   {
    "duration": 5558,
    "start_time": "2021-09-26T15:40:52.709Z"
   },
   {
    "duration": 5449,
    "start_time": "2021-09-26T15:43:48.859Z"
   },
   {
    "duration": 6153,
    "start_time": "2021-09-26T15:44:55.407Z"
   },
   {
    "duration": 10941,
    "start_time": "2021-09-26T15:45:36.748Z"
   },
   {
    "duration": 5724,
    "start_time": "2021-09-26T15:46:31.692Z"
   },
   {
    "duration": 45159,
    "start_time": "2021-09-26T15:50:14.969Z"
   },
   {
    "duration": 254,
    "start_time": "2021-09-26T15:51:00.131Z"
   },
   {
    "duration": 32737,
    "start_time": "2021-09-26T15:51:05.935Z"
   },
   {
    "duration": 103996,
    "start_time": "2021-09-26T15:52:26.778Z"
   },
   {
    "duration": 377,
    "start_time": "2021-09-26T15:54:26.955Z"
   },
   {
    "duration": 13,
    "start_time": "2021-09-26T15:54:58.725Z"
   },
   {
    "duration": 56845,
    "start_time": "2021-09-26T15:55:53.304Z"
   },
   {
    "duration": 333,
    "start_time": "2021-09-26T15:56:56.256Z"
   },
   {
    "duration": 487513,
    "start_time": "2021-09-26T15:57:10.913Z"
   },
   {
    "duration": 230,
    "start_time": "2021-09-26T16:05:18.199Z"
   },
   {
    "duration": 5,
    "start_time": "2021-09-26T16:06:26.592Z"
   },
   {
    "duration": 12154,
    "start_time": "2021-09-26T16:06:38.449Z"
   },
   {
    "duration": 28,
    "start_time": "2021-09-26T16:06:50.578Z"
   },
   {
    "duration": 18250,
    "start_time": "2021-09-26T16:09:43.299Z"
   },
   {
    "duration": 2249,
    "start_time": "2021-09-26T16:10:17.183Z"
   },
   {
    "duration": 2280,
    "start_time": "2021-09-26T16:10:19.436Z"
   },
   {
    "duration": 45,
    "start_time": "2021-09-26T16:10:21.719Z"
   },
   {
    "duration": 154,
    "start_time": "2021-09-26T16:10:21.767Z"
   },
   {
    "duration": 7,
    "start_time": "2021-09-26T16:10:21.923Z"
   },
   {
    "duration": 18,
    "start_time": "2021-09-26T16:10:21.932Z"
   },
   {
    "duration": 20,
    "start_time": "2021-09-26T16:10:21.953Z"
   },
   {
    "duration": 124,
    "start_time": "2021-09-26T16:10:21.975Z"
   },
   {
    "duration": 108,
    "start_time": "2021-09-26T16:10:22.103Z"
   },
   {
    "duration": 53,
    "start_time": "2021-09-26T16:10:22.214Z"
   },
   {
    "duration": 65,
    "start_time": "2021-09-26T16:10:22.270Z"
   },
   {
    "duration": 59,
    "start_time": "2021-09-26T16:10:22.338Z"
   },
   {
    "duration": 29,
    "start_time": "2021-09-26T16:10:22.400Z"
   },
   {
    "duration": 23,
    "start_time": "2021-09-26T16:10:22.432Z"
   },
   {
    "duration": 64,
    "start_time": "2021-09-26T16:10:22.457Z"
   },
   {
    "duration": 32,
    "start_time": "2021-09-26T16:10:22.524Z"
   },
   {
    "duration": 46,
    "start_time": "2021-09-26T16:10:22.560Z"
   },
   {
    "duration": 21,
    "start_time": "2021-09-26T16:10:22.617Z"
   },
   {
    "duration": 40,
    "start_time": "2021-09-26T16:10:22.641Z"
   },
   {
    "duration": 41,
    "start_time": "2021-09-26T16:10:22.684Z"
   },
   {
    "duration": 68,
    "start_time": "2021-09-26T16:10:22.728Z"
   },
   {
    "duration": 172,
    "start_time": "2021-09-26T16:10:22.799Z"
   },
   {
    "duration": 50,
    "start_time": "2021-09-26T16:10:22.973Z"
   },
   {
    "duration": 480,
    "start_time": "2021-09-26T16:10:23.026Z"
   },
   {
    "duration": 75,
    "start_time": "2021-09-26T16:10:23.509Z"
   },
   {
    "duration": 567,
    "start_time": "2021-09-26T16:10:23.587Z"
   },
   {
    "duration": 18170,
    "start_time": "2021-09-26T16:10:24.159Z"
   },
   {
    "duration": 290,
    "start_time": "2021-09-26T16:10:42.332Z"
   },
   {
    "duration": 92,
    "start_time": "2021-09-26T16:10:42.627Z"
   },
   {
    "duration": 8,
    "start_time": "2021-09-26T16:10:42.721Z"
   },
   {
    "duration": 203723,
    "start_time": "2021-09-26T16:10:42.731Z"
   },
   {
    "duration": 376,
    "start_time": "2021-09-26T16:14:06.457Z"
   },
   {
    "duration": 286,
    "start_time": "2021-09-26T16:14:06.549Z"
   },
   {
    "duration": 284,
    "start_time": "2021-09-26T16:14:06.552Z"
   },
   {
    "duration": 277,
    "start_time": "2021-09-26T16:14:06.561Z"
   },
   {
    "duration": 275,
    "start_time": "2021-09-26T16:14:06.565Z"
   },
   {
    "duration": 272,
    "start_time": "2021-09-26T16:14:06.569Z"
   },
   {
    "duration": 271,
    "start_time": "2021-09-26T16:14:06.572Z"
   },
   {
    "duration": 270,
    "start_time": "2021-09-26T16:14:06.574Z"
   },
   {
    "duration": 268,
    "start_time": "2021-09-26T16:14:06.578Z"
   },
   {
    "duration": 5975,
    "start_time": "2021-09-26T16:14:17.317Z"
   },
   {
    "duration": 43,
    "start_time": "2021-09-26T16:14:23.295Z"
   },
   {
    "duration": 7,
    "start_time": "2021-09-26T16:14:23.341Z"
   },
   {
    "duration": 137532,
    "start_time": "2021-09-26T16:14:32.671Z"
   },
   {
    "duration": 394,
    "start_time": "2021-09-26T16:16:50.206Z"
   },
   {
    "duration": 477,
    "start_time": "2021-09-26T16:16:50.603Z"
   },
   {
    "duration": 117666,
    "start_time": "2021-09-26T16:18:12.920Z"
   },
   {
    "duration": 3428,
    "start_time": "2021-09-26T16:20:18.815Z"
   },
   {
    "duration": 88083,
    "start_time": "2021-09-26T16:20:25.380Z"
   },
   {
    "duration": 518,
    "start_time": "2021-09-26T16:23:49.961Z"
   },
   {
    "duration": 1678,
    "start_time": "2021-09-26T16:30:48.173Z"
   },
   {
    "duration": 1330,
    "start_time": "2021-09-26T16:30:49.854Z"
   },
   {
    "duration": 54,
    "start_time": "2021-09-26T16:30:51.187Z"
   },
   {
    "duration": 141,
    "start_time": "2021-09-26T16:30:51.244Z"
   },
   {
    "duration": 10,
    "start_time": "2021-09-26T16:30:51.388Z"
   },
   {
    "duration": 24,
    "start_time": "2021-09-26T16:30:51.401Z"
   },
   {
    "duration": 14,
    "start_time": "2021-09-26T16:30:51.431Z"
   },
   {
    "duration": 125,
    "start_time": "2021-09-26T16:30:51.449Z"
   },
   {
    "duration": 96,
    "start_time": "2021-09-26T16:30:51.576Z"
   },
   {
    "duration": 65,
    "start_time": "2021-09-26T16:30:51.674Z"
   },
   {
    "duration": 32,
    "start_time": "2021-09-26T16:30:51.741Z"
   },
   {
    "duration": 75,
    "start_time": "2021-09-26T16:30:51.775Z"
   },
   {
    "duration": 16,
    "start_time": "2021-09-26T16:30:51.853Z"
   },
   {
    "duration": 44,
    "start_time": "2021-09-26T16:30:51.872Z"
   },
   {
    "duration": 29,
    "start_time": "2021-09-26T16:30:51.919Z"
   },
   {
    "duration": 19,
    "start_time": "2021-09-26T16:30:51.951Z"
   },
   {
    "duration": 50,
    "start_time": "2021-09-26T16:30:51.973Z"
   },
   {
    "duration": 18,
    "start_time": "2021-09-26T16:30:52.026Z"
   },
   {
    "duration": 30,
    "start_time": "2021-09-26T16:30:52.047Z"
   },
   {
    "duration": 47,
    "start_time": "2021-09-26T16:30:52.079Z"
   },
   {
    "duration": 59,
    "start_time": "2021-09-26T16:30:52.129Z"
   },
   {
    "duration": 174,
    "start_time": "2021-09-26T16:30:52.194Z"
   },
   {
    "duration": 47,
    "start_time": "2021-09-26T16:30:52.371Z"
   },
   {
    "duration": 450,
    "start_time": "2021-09-26T16:30:52.420Z"
   },
   {
    "duration": 84,
    "start_time": "2021-09-26T16:30:52.873Z"
   },
   {
    "duration": 637,
    "start_time": "2021-09-26T16:30:52.960Z"
   },
   {
    "duration": 18633,
    "start_time": "2021-09-26T16:30:53.599Z"
   },
   {
    "duration": 290,
    "start_time": "2021-09-26T16:31:12.235Z"
   },
   {
    "duration": 92,
    "start_time": "2021-09-26T16:31:12.528Z"
   },
   {
    "duration": 5559,
    "start_time": "2021-09-26T16:31:12.623Z"
   },
   {
    "duration": 54,
    "start_time": "2021-09-26T16:31:18.186Z"
   },
   {
    "duration": 9,
    "start_time": "2021-09-26T16:31:18.243Z"
   },
   {
    "duration": 4012,
    "start_time": "2021-09-26T16:31:18.254Z"
   },
   {
    "duration": 140523,
    "start_time": "2021-09-26T16:31:22.269Z"
   },
   {
    "duration": 229,
    "start_time": "2021-09-26T16:33:42.795Z"
   },
   {
    "duration": 367,
    "start_time": "2021-09-26T16:33:43.027Z"
   },
   {
    "duration": 282,
    "start_time": "2021-09-26T16:33:43.116Z"
   },
   {
    "duration": 279,
    "start_time": "2021-09-26T16:33:43.120Z"
   },
   {
    "duration": 269,
    "start_time": "2021-09-26T16:33:43.132Z"
   },
   {
    "duration": 266,
    "start_time": "2021-09-26T16:33:43.136Z"
   },
   {
    "duration": 238,
    "start_time": "2021-09-26T16:34:26.881Z"
   },
   {
    "duration": 228818,
    "start_time": "2021-09-26T16:34:33.895Z"
   },
   {
    "duration": 388,
    "start_time": "2021-09-26T16:38:30.241Z"
   },
   {
    "duration": 29,
    "start_time": "2021-09-26T16:39:31.656Z"
   },
   {
    "duration": 2229,
    "start_time": "2021-09-26T16:43:15.719Z"
   },
   {
    "duration": 1405,
    "start_time": "2021-09-26T16:43:17.953Z"
   },
   {
    "duration": 57,
    "start_time": "2021-09-26T16:43:19.361Z"
   },
   {
    "duration": 147,
    "start_time": "2021-09-26T16:43:19.420Z"
   },
   {
    "duration": 8,
    "start_time": "2021-09-26T16:43:19.569Z"
   },
   {
    "duration": 9,
    "start_time": "2021-09-26T16:43:19.579Z"
   },
   {
    "duration": 13,
    "start_time": "2021-09-26T16:43:19.617Z"
   },
   {
    "duration": 103,
    "start_time": "2021-09-26T16:43:19.635Z"
   },
   {
    "duration": 94,
    "start_time": "2021-09-26T16:43:19.741Z"
   },
   {
    "duration": 53,
    "start_time": "2021-09-26T16:43:19.838Z"
   },
   {
    "duration": 55,
    "start_time": "2021-09-26T16:43:19.893Z"
   },
   {
    "duration": 75,
    "start_time": "2021-09-26T16:43:19.950Z"
   },
   {
    "duration": 19,
    "start_time": "2021-09-26T16:43:20.029Z"
   },
   {
    "duration": 19,
    "start_time": "2021-09-26T16:43:20.051Z"
   },
   {
    "duration": 68,
    "start_time": "2021-09-26T16:43:20.073Z"
   },
   {
    "duration": 20,
    "start_time": "2021-09-26T16:43:20.144Z"
   },
   {
    "duration": 67,
    "start_time": "2021-09-26T16:43:20.168Z"
   },
   {
    "duration": 32,
    "start_time": "2021-09-26T16:43:20.239Z"
   },
   {
    "duration": 64,
    "start_time": "2021-09-26T16:43:20.275Z"
   },
   {
    "duration": 28,
    "start_time": "2021-09-26T16:43:20.343Z"
   },
   {
    "duration": 119,
    "start_time": "2021-09-26T16:43:20.375Z"
   },
   {
    "duration": 254,
    "start_time": "2021-09-26T16:43:20.497Z"
   },
   {
    "duration": 72,
    "start_time": "2021-09-26T16:43:20.759Z"
   },
   {
    "duration": 500,
    "start_time": "2021-09-26T16:43:20.834Z"
   },
   {
    "duration": 85,
    "start_time": "2021-09-26T16:43:21.337Z"
   },
   {
    "duration": 539,
    "start_time": "2021-09-26T16:43:21.424Z"
   },
   {
    "duration": 19053,
    "start_time": "2021-09-26T16:43:21.966Z"
   },
   {
    "duration": 299,
    "start_time": "2021-09-26T16:43:41.022Z"
   },
   {
    "duration": 96,
    "start_time": "2021-09-26T16:43:41.324Z"
   },
   {
    "duration": 9,
    "start_time": "2021-09-26T16:43:41.423Z"
   },
   {
    "duration": 288,
    "start_time": "2021-09-26T16:43:41.147Z"
   },
   {
    "duration": 286,
    "start_time": "2021-09-26T16:43:41.150Z"
   },
   {
    "duration": 283,
    "start_time": "2021-09-26T16:43:41.154Z"
   },
   {
    "duration": 275,
    "start_time": "2021-09-26T16:43:41.164Z"
   },
   {
    "duration": 272,
    "start_time": "2021-09-26T16:43:41.168Z"
   },
   {
    "duration": 270,
    "start_time": "2021-09-26T16:43:41.171Z"
   },
   {
    "duration": 5909,
    "start_time": "2021-09-26T16:43:54.435Z"
   },
   {
    "duration": 34,
    "start_time": "2021-09-26T16:44:00.347Z"
   },
   {
    "duration": 10,
    "start_time": "2021-09-26T16:44:00.384Z"
   },
   {
    "duration": 36980,
    "start_time": "2021-09-26T16:44:04.435Z"
   },
   {
    "duration": 16,
    "start_time": "2021-09-26T16:44:41.418Z"
   },
   {
    "duration": 28,
    "start_time": "2021-09-26T16:45:08.715Z"
   },
   {
    "duration": 5,
    "start_time": "2021-09-26T18:05:02.548Z"
   },
   {
    "duration": 1240,
    "start_time": "2021-09-26T18:05:02.556Z"
   },
   {
    "duration": 47,
    "start_time": "2021-09-26T18:05:03.799Z"
   },
   {
    "duration": 125,
    "start_time": "2021-09-26T18:05:03.850Z"
   },
   {
    "duration": 8,
    "start_time": "2021-09-26T18:05:03.978Z"
   },
   {
    "duration": 29,
    "start_time": "2021-09-26T18:05:03.988Z"
   },
   {
    "duration": 13,
    "start_time": "2021-09-26T18:05:04.019Z"
   },
   {
    "duration": 99,
    "start_time": "2021-09-26T18:05:04.036Z"
   },
   {
    "duration": 95,
    "start_time": "2021-09-26T18:05:04.137Z"
   },
   {
    "duration": 53,
    "start_time": "2021-09-26T18:05:04.234Z"
   },
   {
    "duration": 48,
    "start_time": "2021-09-26T18:05:04.289Z"
   },
   {
    "duration": 59,
    "start_time": "2021-09-26T18:05:04.339Z"
   },
   {
    "duration": 17,
    "start_time": "2021-09-26T18:05:04.416Z"
   },
   {
    "duration": 19,
    "start_time": "2021-09-26T18:05:04.435Z"
   },
   {
    "duration": 32,
    "start_time": "2021-09-26T18:05:04.456Z"
   },
   {
    "duration": 19,
    "start_time": "2021-09-26T18:05:04.518Z"
   },
   {
    "duration": 31,
    "start_time": "2021-09-26T18:05:04.539Z"
   },
   {
    "duration": 48,
    "start_time": "2021-09-26T18:05:04.573Z"
   },
   {
    "duration": 31,
    "start_time": "2021-09-26T18:05:04.624Z"
   },
   {
    "duration": 19,
    "start_time": "2021-09-26T18:05:04.657Z"
   },
   {
    "duration": 84,
    "start_time": "2021-09-26T18:05:04.678Z"
   },
   {
    "duration": 146,
    "start_time": "2021-09-26T18:05:04.764Z"
   },
   {
    "duration": 36,
    "start_time": "2021-09-26T18:05:04.915Z"
   },
   {
    "duration": 405,
    "start_time": "2021-09-26T18:05:04.954Z"
   },
   {
    "duration": 82,
    "start_time": "2021-09-26T18:05:05.362Z"
   },
   {
    "duration": 521,
    "start_time": "2021-09-26T18:05:05.446Z"
   },
   {
    "duration": 14152,
    "start_time": "2021-09-26T18:05:05.970Z"
   },
   {
    "duration": 205,
    "start_time": "2021-09-26T18:05:20.124Z"
   },
   {
    "duration": 99,
    "start_time": "2021-09-26T18:05:20.418Z"
   },
   {
    "duration": 6037,
    "start_time": "2021-09-26T18:06:10.785Z"
   },
   {
    "duration": 42,
    "start_time": "2021-09-26T18:06:16.826Z"
   },
   {
    "duration": 10,
    "start_time": "2021-09-26T18:06:16.871Z"
   },
   {
    "duration": 15725,
    "start_time": "2021-09-26T18:07:05.702Z"
   },
   {
    "duration": 208,
    "start_time": "2021-09-26T18:08:43.290Z"
   },
   {
    "duration": 572833,
    "start_time": "2021-09-26T18:08:50.895Z"
   },
   {
    "duration": 6698,
    "start_time": "2021-09-26T18:20:39.231Z"
   },
   {
    "duration": 25309,
    "start_time": "2021-09-26T18:20:53.554Z"
   },
   {
    "duration": 10251,
    "start_time": "2021-09-26T18:22:51.789Z"
   },
   {
    "duration": 796358,
    "start_time": "2021-09-26T18:24:08.507Z"
   },
   {
    "duration": 253723,
    "start_time": "2021-09-26T18:37:30.872Z"
   },
   {
    "duration": 463932,
    "start_time": "2021-09-26T18:42:14.270Z"
   },
   {
    "duration": -571,
    "start_time": "2021-09-26T18:49:58.775Z"
   },
   {
    "duration": 610,
    "start_time": "2021-09-26T18:50:03.317Z"
   },
   {
    "duration": 301913,
    "start_time": "2021-09-26T18:50:12.859Z"
   },
   {
    "duration": 1595,
    "start_time": "2021-09-26T18:56:08.613Z"
   },
   {
    "duration": 1374,
    "start_time": "2021-09-26T18:56:10.216Z"
   },
   {
    "duration": 58,
    "start_time": "2021-09-26T18:56:11.593Z"
   },
   {
    "duration": 133,
    "start_time": "2021-09-26T18:56:11.654Z"
   },
   {
    "duration": 8,
    "start_time": "2021-09-26T18:56:11.789Z"
   },
   {
    "duration": 26,
    "start_time": "2021-09-26T18:56:11.799Z"
   },
   {
    "duration": 14,
    "start_time": "2021-09-26T18:56:11.828Z"
   },
   {
    "duration": 118,
    "start_time": "2021-09-26T18:56:11.844Z"
   },
   {
    "duration": 91,
    "start_time": "2021-09-26T18:56:11.966Z"
   },
   {
    "duration": 60,
    "start_time": "2021-09-26T18:56:12.060Z"
   },
   {
    "duration": 38,
    "start_time": "2021-09-26T18:56:12.122Z"
   },
   {
    "duration": 83,
    "start_time": "2021-09-26T18:56:12.162Z"
   },
   {
    "duration": 16,
    "start_time": "2021-09-26T18:56:12.248Z"
   },
   {
    "duration": 18,
    "start_time": "2021-09-26T18:56:12.267Z"
   },
   {
    "duration": 64,
    "start_time": "2021-09-26T18:56:12.288Z"
   },
   {
    "duration": 18,
    "start_time": "2021-09-26T18:56:12.355Z"
   },
   {
    "duration": 52,
    "start_time": "2021-09-26T18:56:12.375Z"
   },
   {
    "duration": 20,
    "start_time": "2021-09-26T18:56:12.430Z"
   },
   {
    "duration": 30,
    "start_time": "2021-09-26T18:56:12.453Z"
   },
   {
    "duration": 52,
    "start_time": "2021-09-26T18:56:12.486Z"
   },
   {
    "duration": 76,
    "start_time": "2021-09-26T18:56:12.541Z"
   },
   {
    "duration": 138,
    "start_time": "2021-09-26T18:56:12.621Z"
   },
   {
    "duration": 35,
    "start_time": "2021-09-26T18:56:12.762Z"
   },
   {
    "duration": 451,
    "start_time": "2021-09-26T18:56:12.800Z"
   },
   {
    "duration": 93,
    "start_time": "2021-09-26T18:56:13.253Z"
   },
   {
    "duration": 553,
    "start_time": "2021-09-26T18:56:13.349Z"
   },
   {
    "duration": 21811,
    "start_time": "2021-09-26T18:56:13.916Z"
   },
   {
    "duration": 291,
    "start_time": "2021-09-26T18:56:35.731Z"
   },
   {
    "duration": 92,
    "start_time": "2021-09-26T18:56:36.029Z"
   },
   {
    "duration": 538829,
    "start_time": "2021-09-26T18:56:36.124Z"
   },
   {
    "duration": -545,
    "start_time": "2021-09-26T19:05:35.501Z"
   },
   {
    "duration": -548,
    "start_time": "2021-09-26T19:05:35.505Z"
   },
   {
    "duration": -549,
    "start_time": "2021-09-26T19:05:35.508Z"
   },
   {
    "duration": -551,
    "start_time": "2021-09-26T19:05:35.511Z"
   },
   {
    "duration": -553,
    "start_time": "2021-09-26T19:05:35.514Z"
   },
   {
    "duration": -555,
    "start_time": "2021-09-26T19:05:35.517Z"
   },
   {
    "duration": -557,
    "start_time": "2021-09-26T19:05:35.520Z"
   },
   {
    "duration": -558,
    "start_time": "2021-09-26T19:05:35.523Z"
   },
   {
    "duration": 24351,
    "start_time": "2021-09-26T19:06:08.215Z"
   },
   {
    "duration": 5497,
    "start_time": "2021-09-26T19:06:40.165Z"
   },
   {
    "duration": 5554,
    "start_time": "2021-09-26T19:07:01.023Z"
   },
   {
    "duration": 5,
    "start_time": "2021-09-26T19:08:11.096Z"
   },
   {
    "duration": 116,
    "start_time": "2021-09-26T19:08:58.437Z"
   },
   {
    "duration": 5,
    "start_time": "2021-09-26T19:09:17.072Z"
   },
   {
    "duration": 5534,
    "start_time": "2021-09-26T19:09:43.319Z"
   },
   {
    "duration": 6107,
    "start_time": "2021-09-26T19:11:19.038Z"
   },
   {
    "duration": 42,
    "start_time": "2021-09-26T19:12:41.626Z"
   },
   {
    "duration": 121624,
    "start_time": "2021-09-26T19:16:46.506Z"
   },
   {
    "duration": 1838,
    "start_time": "2021-09-26T19:22:48.263Z"
   },
   {
    "duration": 1587,
    "start_time": "2021-09-26T19:22:50.104Z"
   },
   {
    "duration": 81,
    "start_time": "2021-09-26T19:22:51.694Z"
   },
   {
    "duration": 169,
    "start_time": "2021-09-26T19:22:51.779Z"
   },
   {
    "duration": 9,
    "start_time": "2021-09-26T19:22:51.951Z"
   },
   {
    "duration": 20,
    "start_time": "2021-09-26T19:22:51.963Z"
   },
   {
    "duration": 49,
    "start_time": "2021-09-26T19:22:51.987Z"
   },
   {
    "duration": 116,
    "start_time": "2021-09-26T19:22:52.043Z"
   },
   {
    "duration": 109,
    "start_time": "2021-09-26T19:22:52.162Z"
   },
   {
    "duration": 63,
    "start_time": "2021-09-26T19:22:52.274Z"
   },
   {
    "duration": 41,
    "start_time": "2021-09-26T19:22:52.340Z"
   },
   {
    "duration": 102,
    "start_time": "2021-09-26T19:22:52.384Z"
   },
   {
    "duration": 35,
    "start_time": "2021-09-26T19:22:52.489Z"
   },
   {
    "duration": 41,
    "start_time": "2021-09-26T19:22:52.527Z"
   },
   {
    "duration": 54,
    "start_time": "2021-09-26T19:22:52.571Z"
   },
   {
    "duration": 26,
    "start_time": "2021-09-26T19:22:52.628Z"
   },
   {
    "duration": 40,
    "start_time": "2021-09-26T19:22:52.657Z"
   },
   {
    "duration": 27,
    "start_time": "2021-09-26T19:22:52.718Z"
   },
   {
    "duration": 43,
    "start_time": "2021-09-26T19:22:52.748Z"
   },
   {
    "duration": 51,
    "start_time": "2021-09-26T19:22:52.795Z"
   },
   {
    "duration": 79,
    "start_time": "2021-09-26T19:22:52.849Z"
   },
   {
    "duration": 166,
    "start_time": "2021-09-26T19:22:52.930Z"
   },
   {
    "duration": 51,
    "start_time": "2021-09-26T19:22:53.101Z"
   },
   {
    "duration": 584,
    "start_time": "2021-09-26T19:22:53.157Z"
   },
   {
    "duration": 92,
    "start_time": "2021-09-26T19:22:53.749Z"
   },
   {
    "duration": 683,
    "start_time": "2021-09-26T19:22:53.845Z"
   },
   {
    "duration": 25009,
    "start_time": "2021-09-26T19:22:54.531Z"
   },
   {
    "duration": 286,
    "start_time": "2021-09-26T19:23:19.544Z"
   },
   {
    "duration": 86,
    "start_time": "2021-09-26T19:23:19.833Z"
   },
   {
    "duration": 1054816,
    "start_time": "2021-09-26T19:23:19.934Z"
   },
   {
    "duration": -572,
    "start_time": "2021-09-26T19:40:55.325Z"
   },
   {
    "duration": -575,
    "start_time": "2021-09-26T19:40:55.329Z"
   },
   {
    "duration": -577,
    "start_time": "2021-09-26T19:40:55.333Z"
   },
   {
    "duration": -578,
    "start_time": "2021-09-26T19:40:55.335Z"
   },
   {
    "duration": -580,
    "start_time": "2021-09-26T19:40:55.339Z"
   },
   {
    "duration": -582,
    "start_time": "2021-09-26T19:40:55.342Z"
   },
   {
    "duration": -585,
    "start_time": "2021-09-26T19:40:55.346Z"
   },
   {
    "duration": -586,
    "start_time": "2021-09-26T19:40:55.349Z"
   },
   {
    "duration": -588,
    "start_time": "2021-09-26T19:40:55.352Z"
   },
   {
    "duration": -589,
    "start_time": "2021-09-26T19:40:55.355Z"
   },
   {
    "duration": 55015,
    "start_time": "2021-09-26T19:41:02.223Z"
   },
   {
    "duration": -621,
    "start_time": "2021-09-26T19:41:57.862Z"
   },
   {
    "duration": -626,
    "start_time": "2021-09-26T19:41:57.868Z"
   },
   {
    "duration": -628,
    "start_time": "2021-09-26T19:41:57.871Z"
   },
   {
    "duration": -632,
    "start_time": "2021-09-26T19:41:57.877Z"
   },
   {
    "duration": -635,
    "start_time": "2021-09-26T19:41:57.881Z"
   },
   {
    "duration": -637,
    "start_time": "2021-09-26T19:41:57.884Z"
   },
   {
    "duration": -640,
    "start_time": "2021-09-26T19:41:57.888Z"
   },
   {
    "duration": -642,
    "start_time": "2021-09-26T19:41:57.892Z"
   },
   {
    "duration": 5804,
    "start_time": "2021-09-26T19:42:03.389Z"
   },
   {
    "duration": 35,
    "start_time": "2021-09-26T19:42:09.196Z"
   },
   {
    "duration": 7,
    "start_time": "2021-09-26T19:42:09.234Z"
   },
   {
    "duration": 91382,
    "start_time": "2021-09-26T19:42:20.139Z"
   },
   {
    "duration": 1709,
    "start_time": "2021-09-26T19:43:51.526Z"
   },
   {
    "duration": 7,
    "start_time": "2021-09-26T19:43:53.238Z"
   },
   {
    "duration": 28,
    "start_time": "2021-09-26T19:46:52.586Z"
   },
   {
    "duration": 5,
    "start_time": "2021-09-26T20:47:00.091Z"
   },
   {
    "duration": 1357,
    "start_time": "2021-09-26T20:47:00.100Z"
   },
   {
    "duration": 37,
    "start_time": "2021-09-26T20:47:01.463Z"
   },
   {
    "duration": 151,
    "start_time": "2021-09-26T20:47:01.518Z"
   },
   {
    "duration": 9,
    "start_time": "2021-09-26T20:47:01.673Z"
   },
   {
    "duration": 33,
    "start_time": "2021-09-26T20:47:01.685Z"
   },
   {
    "duration": 15,
    "start_time": "2021-09-26T20:47:01.721Z"
   },
   {
    "duration": 123,
    "start_time": "2021-09-26T20:47:01.741Z"
   },
   {
    "duration": 98,
    "start_time": "2021-09-26T20:47:01.868Z"
   },
   {
    "duration": 70,
    "start_time": "2021-09-26T20:47:01.969Z"
   },
   {
    "duration": 34,
    "start_time": "2021-09-26T20:47:02.042Z"
   },
   {
    "duration": 85,
    "start_time": "2021-09-26T20:47:02.078Z"
   },
   {
    "duration": 23,
    "start_time": "2021-09-26T20:47:02.166Z"
   },
   {
    "duration": 31,
    "start_time": "2021-09-26T20:47:02.191Z"
   },
   {
    "duration": 35,
    "start_time": "2021-09-26T20:47:02.225Z"
   },
   {
    "duration": 24,
    "start_time": "2021-09-26T20:47:02.263Z"
   },
   {
    "duration": 53,
    "start_time": "2021-09-26T20:47:02.290Z"
   },
   {
    "duration": 20,
    "start_time": "2021-09-26T20:47:02.346Z"
   },
   {
    "duration": 68,
    "start_time": "2021-09-26T20:47:02.369Z"
   },
   {
    "duration": 21,
    "start_time": "2021-09-26T20:47:02.439Z"
   },
   {
    "duration": 89,
    "start_time": "2021-09-26T20:47:02.463Z"
   },
   {
    "duration": 152,
    "start_time": "2021-09-26T20:47:02.554Z"
   },
   {
    "duration": 43,
    "start_time": "2021-09-26T20:47:02.711Z"
   },
   {
    "duration": 384,
    "start_time": "2021-09-26T20:47:02.757Z"
   },
   {
    "duration": 100,
    "start_time": "2021-09-26T20:47:03.144Z"
   },
   {
    "duration": 602,
    "start_time": "2021-09-26T20:47:03.249Z"
   },
   {
    "duration": 27465,
    "start_time": "2021-09-26T20:47:03.855Z"
   },
   {
    "duration": 208,
    "start_time": "2021-09-26T20:47:31.323Z"
   },
   {
    "duration": 83,
    "start_time": "2021-09-26T20:47:31.540Z"
   },
   {
    "duration": 204347,
    "start_time": "2021-09-26T20:47:34.554Z"
   },
   {
    "duration": 487975,
    "start_time": "2021-09-26T20:51:35.727Z"
   },
   {
    "duration": 128,
    "start_time": "2021-09-26T21:00:32.481Z"
   },
   {
    "duration": 140,
    "start_time": "2021-09-26T21:00:57.730Z"
   },
   {
    "duration": 105,
    "start_time": "2021-09-26T21:01:18.723Z"
   },
   {
    "duration": 64083,
    "start_time": "2021-09-26T21:01:40.129Z"
   },
   {
    "duration": 31062,
    "start_time": "2021-09-26T21:02:52.108Z"
   },
   {
    "duration": -882,
    "start_time": "2021-09-26T21:03:24.056Z"
   },
   {
    "duration": 137853,
    "start_time": "2021-09-26T21:03:28.700Z"
   },
   {
    "duration": -641,
    "start_time": "2021-09-26T21:05:47.198Z"
   },
   {
    "duration": 121618,
    "start_time": "2021-09-26T21:05:51.818Z"
   },
   {
    "duration": -617,
    "start_time": "2021-09-26T21:07:54.056Z"
   },
   {
    "duration": 388560,
    "start_time": "2021-09-26T21:08:41.199Z"
   },
   {
    "duration": -612,
    "start_time": "2021-09-26T21:15:10.375Z"
   },
   {
    "duration": 48,
    "start_time": "2021-09-26T21:17:43.830Z"
   },
   {
    "duration": 211119,
    "start_time": "2021-09-26T21:18:10.201Z"
   },
   {
    "duration": -589,
    "start_time": "2021-09-26T21:21:41.913Z"
   },
   {
    "duration": -591,
    "start_time": "2021-09-26T21:21:41.917Z"
   },
   {
    "duration": -593,
    "start_time": "2021-09-26T21:21:41.921Z"
   },
   {
    "duration": 74651,
    "start_time": "2021-09-26T21:21:45.876Z"
   },
   {
    "duration": 1596,
    "start_time": "2021-09-26T21:23:00.530Z"
   },
   {
    "duration": 8,
    "start_time": "2021-09-26T21:23:02.128Z"
   },
   {
    "duration": 28,
    "start_time": "2021-09-26T21:23:15.241Z"
   },
   {
    "duration": 1540,
    "start_time": "2021-09-26T21:30:12.892Z"
   },
   {
    "duration": 1413,
    "start_time": "2021-09-26T21:30:14.434Z"
   },
   {
    "duration": 43,
    "start_time": "2021-09-26T21:30:15.849Z"
   },
   {
    "duration": 139,
    "start_time": "2021-09-26T21:30:15.895Z"
   },
   {
    "duration": 7,
    "start_time": "2021-09-26T21:30:16.037Z"
   },
   {
    "duration": 9,
    "start_time": "2021-09-26T21:30:16.046Z"
   },
   {
    "duration": 17,
    "start_time": "2021-09-26T21:30:16.057Z"
   },
   {
    "duration": 133,
    "start_time": "2021-09-26T21:30:16.078Z"
   },
   {
    "duration": 84,
    "start_time": "2021-09-26T21:30:16.218Z"
   },
   {
    "duration": 60,
    "start_time": "2021-09-26T21:30:16.305Z"
   },
   {
    "duration": 53,
    "start_time": "2021-09-26T21:30:16.367Z"
   },
   {
    "duration": 62,
    "start_time": "2021-09-26T21:30:16.423Z"
   },
   {
    "duration": 34,
    "start_time": "2021-09-26T21:30:16.487Z"
   },
   {
    "duration": 30,
    "start_time": "2021-09-26T21:30:16.524Z"
   },
   {
    "duration": 42,
    "start_time": "2021-09-26T21:30:16.557Z"
   },
   {
    "duration": 25,
    "start_time": "2021-09-26T21:30:16.602Z"
   },
   {
    "duration": 38,
    "start_time": "2021-09-26T21:30:16.630Z"
   },
   {
    "duration": 32,
    "start_time": "2021-09-26T21:30:16.670Z"
   },
   {
    "duration": 47,
    "start_time": "2021-09-26T21:30:16.705Z"
   },
   {
    "duration": 17,
    "start_time": "2021-09-26T21:30:16.755Z"
   },
   {
    "duration": 86,
    "start_time": "2021-09-26T21:30:16.775Z"
   },
   {
    "duration": 165,
    "start_time": "2021-09-26T21:30:16.863Z"
   },
   {
    "duration": 40,
    "start_time": "2021-09-26T21:30:17.033Z"
   },
   {
    "duration": 371,
    "start_time": "2021-09-26T21:30:17.076Z"
   },
   {
    "duration": 84,
    "start_time": "2021-09-26T21:30:17.450Z"
   },
   {
    "duration": 587,
    "start_time": "2021-09-26T21:30:17.537Z"
   },
   {
    "duration": 19001,
    "start_time": "2021-09-26T21:30:18.128Z"
   },
   {
    "duration": 295,
    "start_time": "2021-09-26T21:30:37.133Z"
   },
   {
    "duration": 88,
    "start_time": "2021-09-26T21:30:37.431Z"
   },
   {
    "duration": 174341,
    "start_time": "2021-09-26T21:30:37.522Z"
   },
   {
    "duration": 655,
    "start_time": "2021-09-26T21:33:31.865Z"
   },
   {
    "duration": 9,
    "start_time": "2021-09-26T21:33:32.523Z"
   },
   {
    "duration": 40276,
    "start_time": "2021-09-26T21:33:32.535Z"
   },
   {
    "duration": -601,
    "start_time": "2021-09-26T21:34:13.414Z"
   },
   {
    "duration": -603,
    "start_time": "2021-09-26T21:34:13.418Z"
   },
   {
    "duration": -606,
    "start_time": "2021-09-26T21:34:13.423Z"
   },
   {
    "duration": -607,
    "start_time": "2021-09-26T21:34:13.426Z"
   },
   {
    "duration": -609,
    "start_time": "2021-09-26T21:34:13.429Z"
   },
   {
    "duration": -610,
    "start_time": "2021-09-26T21:34:13.432Z"
   },
   {
    "duration": -612,
    "start_time": "2021-09-26T21:34:13.436Z"
   },
   {
    "duration": -614,
    "start_time": "2021-09-26T21:34:13.439Z"
   },
   {
    "duration": -615,
    "start_time": "2021-09-26T21:34:13.442Z"
   },
   {
    "duration": -616,
    "start_time": "2021-09-26T21:34:13.445Z"
   },
   {
    "duration": -619,
    "start_time": "2021-09-26T21:34:13.449Z"
   },
   {
    "duration": 5764,
    "start_time": "2021-09-26T21:34:23.555Z"
   },
   {
    "duration": 36,
    "start_time": "2021-09-26T21:34:29.323Z"
   },
   {
    "duration": 6,
    "start_time": "2021-09-26T21:34:29.362Z"
   },
   {
    "duration": 91,
    "start_time": "2021-09-26T21:34:29.370Z"
   },
   {
    "duration": 61440,
    "start_time": "2021-09-26T21:34:32.996Z"
   },
   {
    "duration": 1607,
    "start_time": "2021-09-26T21:35:34.439Z"
   },
   {
    "duration": 7,
    "start_time": "2021-09-26T21:35:36.049Z"
   },
   {
    "duration": 38,
    "start_time": "2021-09-26T21:36:48.998Z"
   },
   {
    "duration": 27,
    "start_time": "2021-09-26T21:37:34.497Z"
   }
  ],
  "kernelspec": {
   "display_name": "Python 3",
   "language": "python",
   "name": "python3"
  },
  "language_info": {
   "codemirror_mode": {
    "name": "ipython",
    "version": 3
   },
   "file_extension": ".py",
   "mimetype": "text/x-python",
   "name": "python",
   "nbconvert_exporter": "python",
   "pygments_lexer": "ipython3",
   "version": "3.7.3"
  },
  "toc": {
   "base_numbering": 1,
   "nav_menu": {},
   "number_sections": true,
   "sideBar": true,
   "skip_h1_title": true,
   "title_cell": "Table of Contents",
   "title_sidebar": "Contents",
   "toc_cell": false,
   "toc_position": {},
   "toc_section_display": true,
   "toc_window_display": false
  }
 },
 "nbformat": 4,
 "nbformat_minor": 2
}
